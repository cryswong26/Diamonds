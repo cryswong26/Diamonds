{
 "cells": [
  {
   "cell_type": "markdown",
   "id": "0407de61-6adc-4f3c-a76f-89c14e80056d",
   "metadata": {},
   "source": [
    "## Capstone Project - Diamond Prices (Part 2 - Non-Round)"
   ]
  },
  {
   "cell_type": "code",
   "execution_count": 2,
   "id": "e4130164-1f7e-4424-8f43-87500cbfb89a",
   "metadata": {},
   "outputs": [],
   "source": [
    "#I was able to get a large dataset of diamond prices from recent years (2017+) through a contact at a diamond aggregator company\n",
    "#It has more features than the public datasets I looked at on Kaggle\n",
    "#In addition, it has a robust amount of data for fancy shapes (non-round), while the Kaggle dataset was only for round diamonds\n",
    "#I will split my model into round and non-round to reflect industry pricing standards (Rapaport guide)\n",
    "#Example of Rapaport pricing guide: https://www.diamonds.net/Prices/RapaportPriceGuide.aspx"
   ]
  },
  {
   "cell_type": "code",
   "execution_count": 66,
   "id": "0f97d0ae-fa3a-4fff-a68b-7c42c1b075b2",
   "metadata": {},
   "outputs": [],
   "source": [
    "import pandas as pd\n",
    "from sklearn.linear_model import LinearRegression\n",
    "from sklearn.model_selection import train_test_split\n",
    "from sklearn import metrics\n",
    "from sklearn.tree import DecisionTreeClassifier\n",
    "from sklearn.model_selection import train_test_split\n",
    "from sklearn.preprocessing import StandardScaler, Normalizer\n",
    "from sklearn.datasets import fetch_openml\n",
    "from sklearn import svm\n",
    "from sklearn import tree\n",
    "from sklearn.model_selection import cross_val_score\n",
    "from sklearn.naive_bayes import MultinomialNB, BernoulliNB, GaussianNB\n",
    "from sklearn.pipeline import Pipeline\n",
    "from sklearn.metrics import classification_report,confusion_matrix,accuracy_score, roc_curve\n",
    "from sklearn.neighbors import KNeighborsClassifier\n",
    "from sklearn.ensemble import RandomForestClassifier, ExtraTreesClassifier, BaggingClassifier\n",
    "from sklearn.ensemble import RandomForestRegressor #added this one to try\n",
    "from sklearn.metrics import roc_auc_score\n",
    "from sklearn.model_selection import GridSearchCV\n",
    "from sklearn.pipeline import Pipeline\n",
    "from sklearn.metrics import mean_squared_error\n",
    "from sklearn.preprocessing import StandardScaler, Normalizer\n",
    "from xgboost import XGBRegressor #added this to try\n",
    "import matplotlib.pyplot as plt\n",
    "import numpy as np\n",
    "from math import sqrt\n",
    "import pickle\n",
    "import xgboost\n",
    "from xgboost import XGBClassifier\n",
    "import plotly as py\n",
    "import plotly.graph_objs as go\n",
    "import seaborn as sns"
   ]
  },
  {
   "cell_type": "code",
   "execution_count": 4,
   "id": "d1bb21c4-b653-423e-aa30-e71a99f6d88b",
   "metadata": {},
   "outputs": [
    {
     "data": {
      "text/html": [
       "<div>\n",
       "<style scoped>\n",
       "    .dataframe tbody tr th:only-of-type {\n",
       "        vertical-align: middle;\n",
       "    }\n",
       "\n",
       "    .dataframe tbody tr th {\n",
       "        vertical-align: top;\n",
       "    }\n",
       "\n",
       "    .dataframe thead th {\n",
       "        text-align: right;\n",
       "    }\n",
       "</style>\n",
       "<table border=\"1\" class=\"dataframe\">\n",
       "  <thead>\n",
       "    <tr style=\"text-align: right;\">\n",
       "      <th></th>\n",
       "      <th>shape</th>\n",
       "      <th>carat</th>\n",
       "      <th>cut</th>\n",
       "      <th>color</th>\n",
       "      <th>clarity</th>\n",
       "      <th>price</th>\n",
       "      <th>certificateLab</th>\n",
       "      <th>certificateID</th>\n",
       "      <th>depth_pct</th>\n",
       "      <th>table_width_pct</th>\n",
       "      <th>polish</th>\n",
       "      <th>symmetry</th>\n",
       "      <th>fluorescence</th>\n",
       "      <th>crownAngle</th>\n",
       "      <th>crownHeight</th>\n",
       "      <th>pavilionAngle</th>\n",
       "      <th>pavilionDepth</th>\n",
       "      <th>measurements</th>\n",
       "    </tr>\n",
       "  </thead>\n",
       "  <tbody>\n",
       "    <tr>\n",
       "      <th>0</th>\n",
       "      <td>Cushion</td>\n",
       "      <td>3.20</td>\n",
       "      <td>Excellent</td>\n",
       "      <td>G</td>\n",
       "      <td>VS1</td>\n",
       "      <td>53504.69</td>\n",
       "      <td>GIA</td>\n",
       "      <td>17459430</td>\n",
       "      <td>65.1</td>\n",
       "      <td>58.0</td>\n",
       "      <td>Very Good                                     ...</td>\n",
       "      <td>Good                                          ...</td>\n",
       "      <td>None</td>\n",
       "      <td>0.0</td>\n",
       "      <td>0.0</td>\n",
       "      <td>0.0</td>\n",
       "      <td>0.0</td>\n",
       "      <td>9.14x8.05x5.24</td>\n",
       "    </tr>\n",
       "    <tr>\n",
       "      <th>1</th>\n",
       "      <td>Radiant</td>\n",
       "      <td>2.01</td>\n",
       "      <td>Excellent</td>\n",
       "      <td>G</td>\n",
       "      <td>VS2</td>\n",
       "      <td>17643.65</td>\n",
       "      <td>GIA</td>\n",
       "      <td>13444744</td>\n",
       "      <td>68.9</td>\n",
       "      <td>70.0</td>\n",
       "      <td>Very Good                                     ...</td>\n",
       "      <td>Very Good                                     ...</td>\n",
       "      <td>None</td>\n",
       "      <td>0.0</td>\n",
       "      <td>0.0</td>\n",
       "      <td>0.0</td>\n",
       "      <td>0.0</td>\n",
       "      <td>8.33x6.18x4.26</td>\n",
       "    </tr>\n",
       "    <tr>\n",
       "      <th>2</th>\n",
       "      <td>Radiant</td>\n",
       "      <td>3.22</td>\n",
       "      <td>Excellent</td>\n",
       "      <td>E</td>\n",
       "      <td>VS2</td>\n",
       "      <td>50939.81</td>\n",
       "      <td>GIA</td>\n",
       "      <td>15310974</td>\n",
       "      <td>70.1</td>\n",
       "      <td>72.0</td>\n",
       "      <td>Very Good                                     ...</td>\n",
       "      <td>Very Good                                     ...</td>\n",
       "      <td>None</td>\n",
       "      <td>0.0</td>\n",
       "      <td>0.0</td>\n",
       "      <td>0.0</td>\n",
       "      <td>0.0</td>\n",
       "      <td>8.31x7.96x5.58</td>\n",
       "    </tr>\n",
       "    <tr>\n",
       "      <th>3</th>\n",
       "      <td>Cushion</td>\n",
       "      <td>3.08</td>\n",
       "      <td>Very Good</td>\n",
       "      <td>G</td>\n",
       "      <td>VS2</td>\n",
       "      <td>36052.16</td>\n",
       "      <td>GIA</td>\n",
       "      <td>17262201</td>\n",
       "      <td>68.3</td>\n",
       "      <td>66.0</td>\n",
       "      <td>Very Good                                     ...</td>\n",
       "      <td>Good                                          ...</td>\n",
       "      <td>Faint</td>\n",
       "      <td>0.0</td>\n",
       "      <td>0.0</td>\n",
       "      <td>0.0</td>\n",
       "      <td>0.0</td>\n",
       "      <td>9.21x7.83x5.35</td>\n",
       "    </tr>\n",
       "    <tr>\n",
       "      <th>4</th>\n",
       "      <td>Asscher</td>\n",
       "      <td>3.01</td>\n",
       "      <td>Very Good</td>\n",
       "      <td>G</td>\n",
       "      <td>VS1</td>\n",
       "      <td>41195.25</td>\n",
       "      <td>GIA</td>\n",
       "      <td>17459424</td>\n",
       "      <td>71.1</td>\n",
       "      <td>67.0</td>\n",
       "      <td>Excellent                                     ...</td>\n",
       "      <td>Good                                          ...</td>\n",
       "      <td>None</td>\n",
       "      <td>0.0</td>\n",
       "      <td>0.0</td>\n",
       "      <td>0.0</td>\n",
       "      <td>0.0</td>\n",
       "      <td>7.81x7.69x5.47</td>\n",
       "    </tr>\n",
       "  </tbody>\n",
       "</table>\n",
       "</div>"
      ],
      "text/plain": [
       "     shape  carat        cut color clarity     price certificateLab  \\\n",
       "0  Cushion   3.20  Excellent     G     VS1  53504.69            GIA   \n",
       "1  Radiant   2.01  Excellent     G     VS2  17643.65            GIA   \n",
       "2  Radiant   3.22  Excellent     E     VS2  50939.81            GIA   \n",
       "3  Cushion   3.08  Very Good     G     VS2  36052.16            GIA   \n",
       "4  Asscher   3.01  Very Good     G     VS1  41195.25            GIA   \n",
       "\n",
       "  certificateID  depth_pct  table_width_pct  \\\n",
       "0      17459430       65.1             58.0   \n",
       "1      13444744       68.9             70.0   \n",
       "2      15310974       70.1             72.0   \n",
       "3      17262201       68.3             66.0   \n",
       "4      17459424       71.1             67.0   \n",
       "\n",
       "                                              polish  \\\n",
       "0  Very Good                                     ...   \n",
       "1  Very Good                                     ...   \n",
       "2  Very Good                                     ...   \n",
       "3  Very Good                                     ...   \n",
       "4  Excellent                                     ...   \n",
       "\n",
       "                                            symmetry fluorescence  crownAngle  \\\n",
       "0  Good                                          ...         None         0.0   \n",
       "1  Very Good                                     ...         None         0.0   \n",
       "2  Very Good                                     ...         None         0.0   \n",
       "3  Good                                          ...        Faint         0.0   \n",
       "4  Good                                          ...         None         0.0   \n",
       "\n",
       "   crownHeight  pavilionAngle  pavilionDepth    measurements  \n",
       "0          0.0            0.0            0.0  9.14x8.05x5.24  \n",
       "1          0.0            0.0            0.0  8.33x6.18x4.26  \n",
       "2          0.0            0.0            0.0  8.31x7.96x5.58  \n",
       "3          0.0            0.0            0.0  9.21x7.83x5.35  \n",
       "4          0.0            0.0            0.0  7.81x7.69x5.47  "
      ]
     },
     "execution_count": 4,
     "metadata": {},
     "output_type": "execute_result"
    }
   ],
   "source": [
    "df = pd.read_csv('../assets/Diamond Capstone Fancy (Non Round).csv')\n",
    "df.head()"
   ]
  },
  {
   "cell_type": "markdown",
   "id": "027767e3-c746-4860-8865-917a86d73d78",
   "metadata": {},
   "source": [
    "## Exploratory Data Analysis"
   ]
  },
  {
   "cell_type": "code",
   "execution_count": 5,
   "id": "05c7140b-20a1-43f5-8182-d82fa4b7ff0c",
   "metadata": {},
   "outputs": [
    {
     "data": {
      "text/plain": [
       "(56312, 18)"
      ]
     },
     "execution_count": 5,
     "metadata": {},
     "output_type": "execute_result"
    }
   ],
   "source": [
    "df.shape\n",
    "#>50K records, but will need to check if there are a lot of outliers like with the round dataset"
   ]
  },
  {
   "cell_type": "code",
   "execution_count": 6,
   "id": "5a2ffd68-0db5-4739-8f11-9dfd8f6b60b0",
   "metadata": {},
   "outputs": [
    {
     "data": {
      "text/plain": [
       "shape                 0\n",
       "carat                 0\n",
       "cut                   0\n",
       "color              4555\n",
       "clarity               0\n",
       "price                 0\n",
       "certificateLab        0\n",
       "certificateID         0\n",
       "depth_pct             0\n",
       "table_width_pct       0\n",
       "polish               66\n",
       "symmetry            458\n",
       "fluorescence        292\n",
       "crownAngle            0\n",
       "crownHeight           0\n",
       "pavilionAngle         0\n",
       "pavilionDepth         0\n",
       "measurements          0\n",
       "dtype: int64"
      ]
     },
     "execution_count": 6,
     "metadata": {},
     "output_type": "execute_result"
    }
   ],
   "source": [
    "#check for missing data\n",
    "df.isnull().sum()\n",
    "#a lot of them are missing color (~8%) so I will probably impute them somehow instead of dropping\n",
    "#I will drop the records that are missing polish, symmetry, and fluorescence since they are not big predictors for price typically"
   ]
  },
  {
   "cell_type": "code",
   "execution_count": 7,
   "id": "93b1e149-e99e-4792-b0ee-25ed1755d739",
   "metadata": {},
   "outputs": [],
   "source": [
    "#drop the missing data\n",
    "df.dropna(subset=['fluorescence'], inplace=True)\n",
    "df.dropna(subset=['symmetry'], inplace=True)\n",
    "df.dropna(subset=['polish'], inplace=True)"
   ]
  },
  {
   "cell_type": "code",
   "execution_count": 8,
   "id": "fe6788f8-7215-4704-b546-d3daf0aeb63a",
   "metadata": {},
   "outputs": [
    {
     "data": {
      "text/plain": [
       "shape                 0\n",
       "carat                 0\n",
       "cut                   0\n",
       "color              4229\n",
       "clarity               0\n",
       "price                 0\n",
       "certificateLab        0\n",
       "certificateID         0\n",
       "depth_pct             0\n",
       "table_width_pct       0\n",
       "polish                0\n",
       "symmetry              0\n",
       "fluorescence          0\n",
       "crownAngle            0\n",
       "crownHeight           0\n",
       "pavilionAngle         0\n",
       "pavilionDepth         0\n",
       "measurements          0\n",
       "dtype: int64"
      ]
     },
     "execution_count": 8,
     "metadata": {},
     "output_type": "execute_result"
    }
   ],
   "source": [
    "df.isnull().sum()"
   ]
  },
  {
   "cell_type": "code",
   "execution_count": 9,
   "id": "4aaf47ed-ad2d-43c3-af97-03acaf257e3c",
   "metadata": {},
   "outputs": [
    {
     "data": {
      "text/plain": [
       "(55578, 18)"
      ]
     },
     "execution_count": 9,
     "metadata": {},
     "output_type": "execute_result"
    }
   ],
   "source": [
    "df.shape\n",
    "#still have 99% of the data"
   ]
  },
  {
   "cell_type": "code",
   "execution_count": 10,
   "id": "c6d020af-4f6f-49b9-8d26-810aa03b2fa9",
   "metadata": {},
   "outputs": [
    {
     "data": {
      "text/plain": [
       "E      8572\n",
       "F      8467\n",
       "G      8330\n",
       "D      7464\n",
       "H      6613\n",
       "I      5508\n",
       "NaN    4229\n",
       "J      3664\n",
       "K      1757\n",
       "L       635\n",
       "M       324\n",
       "YZ        7\n",
       "WX        4\n",
       "N         2\n",
       "Y         1\n",
       "UV        1\n",
       "Name: color, dtype: int64"
      ]
     },
     "execution_count": 10,
     "metadata": {},
     "output_type": "execute_result"
    }
   ],
   "source": [
    "#look at the color data\n",
    "df['color'].value_counts(dropna = False)\n",
    "#hard to impute bc there is not one color that stands out as most frequent and color is an important feature for price prediction"
   ]
  },
  {
   "cell_type": "code",
   "execution_count": 11,
   "id": "d148b5fe-238c-4fbd-94b0-5da63ce021b6",
   "metadata": {},
   "outputs": [
    {
     "data": {
      "text/html": [
       "<div>\n",
       "<style scoped>\n",
       "    .dataframe tbody tr th:only-of-type {\n",
       "        vertical-align: middle;\n",
       "    }\n",
       "\n",
       "    .dataframe tbody tr th {\n",
       "        vertical-align: top;\n",
       "    }\n",
       "\n",
       "    .dataframe thead th {\n",
       "        text-align: right;\n",
       "    }\n",
       "</style>\n",
       "<table border=\"1\" class=\"dataframe\">\n",
       "  <thead>\n",
       "    <tr style=\"text-align: right;\">\n",
       "      <th></th>\n",
       "      <th>shape</th>\n",
       "      <th>carat</th>\n",
       "      <th>cut</th>\n",
       "      <th>color</th>\n",
       "      <th>clarity</th>\n",
       "      <th>price</th>\n",
       "      <th>certificateLab</th>\n",
       "      <th>certificateID</th>\n",
       "      <th>depth_pct</th>\n",
       "      <th>table_width_pct</th>\n",
       "      <th>polish</th>\n",
       "      <th>symmetry</th>\n",
       "      <th>fluorescence</th>\n",
       "      <th>crownAngle</th>\n",
       "      <th>crownHeight</th>\n",
       "      <th>pavilionAngle</th>\n",
       "      <th>pavilionDepth</th>\n",
       "      <th>measurements</th>\n",
       "    </tr>\n",
       "  </thead>\n",
       "  <tbody>\n",
       "    <tr>\n",
       "      <th>52847</th>\n",
       "      <td>Cushion</td>\n",
       "      <td>1.02</td>\n",
       "      <td>Good</td>\n",
       "      <td>NaN</td>\n",
       "      <td>SI2</td>\n",
       "      <td>8160.00</td>\n",
       "      <td>GIA</td>\n",
       "      <td>1258134255</td>\n",
       "      <td>73.8</td>\n",
       "      <td>53.0</td>\n",
       "      <td>Excellent                                     ...</td>\n",
       "      <td>Good                                          ...</td>\n",
       "      <td>Strong</td>\n",
       "      <td>0.0</td>\n",
       "      <td>0.0</td>\n",
       "      <td>0.0</td>\n",
       "      <td>0.0</td>\n",
       "      <td>5.85x5.02x3.71</td>\n",
       "    </tr>\n",
       "    <tr>\n",
       "      <th>52848</th>\n",
       "      <td>Cushion</td>\n",
       "      <td>1.17</td>\n",
       "      <td>Very Good</td>\n",
       "      <td>NaN</td>\n",
       "      <td>VS1</td>\n",
       "      <td>4206.74</td>\n",
       "      <td>GIA</td>\n",
       "      <td>6252134379</td>\n",
       "      <td>70.3</td>\n",
       "      <td>55.0</td>\n",
       "      <td>Excellent                                     ...</td>\n",
       "      <td>Good                                          ...</td>\n",
       "      <td>Faint</td>\n",
       "      <td>0.0</td>\n",
       "      <td>0.0</td>\n",
       "      <td>0.0</td>\n",
       "      <td>0.0</td>\n",
       "      <td>5.65x5.61x3.95</td>\n",
       "    </tr>\n",
       "    <tr>\n",
       "      <th>52849</th>\n",
       "      <td>Cushion</td>\n",
       "      <td>1.18</td>\n",
       "      <td>Very Good</td>\n",
       "      <td>NaN</td>\n",
       "      <td>VS1</td>\n",
       "      <td>3447.19</td>\n",
       "      <td>GIA</td>\n",
       "      <td>6255132037</td>\n",
       "      <td>69.6</td>\n",
       "      <td>55.0</td>\n",
       "      <td>Very Good                                     ...</td>\n",
       "      <td>Very Good                                     ...</td>\n",
       "      <td>None</td>\n",
       "      <td>0.0</td>\n",
       "      <td>0.0</td>\n",
       "      <td>0.0</td>\n",
       "      <td>0.0</td>\n",
       "      <td>6.15x5.40x3.76</td>\n",
       "    </tr>\n",
       "    <tr>\n",
       "      <th>52850</th>\n",
       "      <td>Cushion</td>\n",
       "      <td>1.19</td>\n",
       "      <td>Very Good</td>\n",
       "      <td>NaN</td>\n",
       "      <td>VVS2</td>\n",
       "      <td>4412.36</td>\n",
       "      <td>GIA</td>\n",
       "      <td>6251132043</td>\n",
       "      <td>69.4</td>\n",
       "      <td>54.0</td>\n",
       "      <td>Very Good                                     ...</td>\n",
       "      <td>Very Good                                     ...</td>\n",
       "      <td>None</td>\n",
       "      <td>0.0</td>\n",
       "      <td>0.0</td>\n",
       "      <td>0.0</td>\n",
       "      <td>0.0</td>\n",
       "      <td>6.10x5.51x3.83</td>\n",
       "    </tr>\n",
       "    <tr>\n",
       "      <th>52851</th>\n",
       "      <td>Cushion</td>\n",
       "      <td>1.30</td>\n",
       "      <td>Very Good</td>\n",
       "      <td>NaN</td>\n",
       "      <td>VS2</td>\n",
       "      <td>4674.16</td>\n",
       "      <td>GIA</td>\n",
       "      <td>3255132054</td>\n",
       "      <td>69.6</td>\n",
       "      <td>56.0</td>\n",
       "      <td>Excellent                                     ...</td>\n",
       "      <td>Very Good                                     ...</td>\n",
       "      <td>None</td>\n",
       "      <td>0.0</td>\n",
       "      <td>0.0</td>\n",
       "      <td>0.0</td>\n",
       "      <td>0.0</td>\n",
       "      <td>6.06x5.71x3.98</td>\n",
       "    </tr>\n",
       "    <tr>\n",
       "      <th>...</th>\n",
       "      <td>...</td>\n",
       "      <td>...</td>\n",
       "      <td>...</td>\n",
       "      <td>...</td>\n",
       "      <td>...</td>\n",
       "      <td>...</td>\n",
       "      <td>...</td>\n",
       "      <td>...</td>\n",
       "      <td>...</td>\n",
       "      <td>...</td>\n",
       "      <td>...</td>\n",
       "      <td>...</td>\n",
       "      <td>...</td>\n",
       "      <td>...</td>\n",
       "      <td>...</td>\n",
       "      <td>...</td>\n",
       "      <td>...</td>\n",
       "      <td>...</td>\n",
       "    </tr>\n",
       "    <tr>\n",
       "      <th>56210</th>\n",
       "      <td>Emerald</td>\n",
       "      <td>1.01</td>\n",
       "      <td>Fair</td>\n",
       "      <td>NaN</td>\n",
       "      <td>VS1</td>\n",
       "      <td>4141.91</td>\n",
       "      <td>GIA</td>\n",
       "      <td>1152309323</td>\n",
       "      <td>52.7</td>\n",
       "      <td>59.0</td>\n",
       "      <td>Very Good                                     ...</td>\n",
       "      <td>Very Good                                     ...</td>\n",
       "      <td>Medium</td>\n",
       "      <td>0.0</td>\n",
       "      <td>0.0</td>\n",
       "      <td>0.0</td>\n",
       "      <td>0.0</td>\n",
       "      <td>7.37x5.02x2.65</td>\n",
       "    </tr>\n",
       "    <tr>\n",
       "      <th>56211</th>\n",
       "      <td>Cushion</td>\n",
       "      <td>2.61</td>\n",
       "      <td>Excellent</td>\n",
       "      <td>NaN</td>\n",
       "      <td>VS1</td>\n",
       "      <td>11255.71</td>\n",
       "      <td>GIA</td>\n",
       "      <td>6245360940</td>\n",
       "      <td>68.5</td>\n",
       "      <td>68.0</td>\n",
       "      <td>Excellent                                     ...</td>\n",
       "      <td>Very Good                                     ...</td>\n",
       "      <td>None</td>\n",
       "      <td>0.0</td>\n",
       "      <td>0.0</td>\n",
       "      <td>0.0</td>\n",
       "      <td>0.0</td>\n",
       "      <td>7.50x7.13x4.88</td>\n",
       "    </tr>\n",
       "    <tr>\n",
       "      <th>56232</th>\n",
       "      <td>Cushion</td>\n",
       "      <td>0.73</td>\n",
       "      <td>Excellent</td>\n",
       "      <td>NaN</td>\n",
       "      <td>VS1</td>\n",
       "      <td>1819.72</td>\n",
       "      <td>GIA</td>\n",
       "      <td>1162317476</td>\n",
       "      <td>66.1</td>\n",
       "      <td>60.0</td>\n",
       "      <td>Good                                          ...</td>\n",
       "      <td>Good                                          ...</td>\n",
       "      <td>None</td>\n",
       "      <td>0.0</td>\n",
       "      <td>0.0</td>\n",
       "      <td>0.0</td>\n",
       "      <td>0.0</td>\n",
       "      <td>5.15x4.93x3.26</td>\n",
       "    </tr>\n",
       "    <tr>\n",
       "      <th>56244</th>\n",
       "      <td>Cushion</td>\n",
       "      <td>1.11</td>\n",
       "      <td>Very Good</td>\n",
       "      <td>NaN</td>\n",
       "      <td>VS1</td>\n",
       "      <td>2571.82</td>\n",
       "      <td>GIA</td>\n",
       "      <td>1182805769</td>\n",
       "      <td>69.3</td>\n",
       "      <td>52.0</td>\n",
       "      <td>Very Good</td>\n",
       "      <td>Good</td>\n",
       "      <td>Faint</td>\n",
       "      <td>0.0</td>\n",
       "      <td>0.0</td>\n",
       "      <td>0.0</td>\n",
       "      <td>0.0</td>\n",
       "      <td>5.63x5.59x3.87</td>\n",
       "    </tr>\n",
       "    <tr>\n",
       "      <th>56304</th>\n",
       "      <td>Radiant</td>\n",
       "      <td>5.26</td>\n",
       "      <td>Excellent</td>\n",
       "      <td>NaN</td>\n",
       "      <td>None</td>\n",
       "      <td>50307.91</td>\n",
       "      <td>GIA</td>\n",
       "      <td>14472958</td>\n",
       "      <td>67.7</td>\n",
       "      <td>66.0</td>\n",
       "      <td>Excellent                                     ...</td>\n",
       "      <td>Very Good                                     ...</td>\n",
       "      <td>None</td>\n",
       "      <td>0.0</td>\n",
       "      <td>0.0</td>\n",
       "      <td>0.0</td>\n",
       "      <td>0.0</td>\n",
       "      <td>10.27x9.08x6.15</td>\n",
       "    </tr>\n",
       "  </tbody>\n",
       "</table>\n",
       "<p>100 rows × 18 columns</p>\n",
       "</div>"
      ],
      "text/plain": [
       "         shape  carat        cut color clarity     price certificateLab  \\\n",
       "52847  Cushion   1.02       Good   NaN     SI2   8160.00            GIA   \n",
       "52848  Cushion   1.17  Very Good   NaN     VS1   4206.74            GIA   \n",
       "52849  Cushion   1.18  Very Good   NaN     VS1   3447.19            GIA   \n",
       "52850  Cushion   1.19  Very Good   NaN    VVS2   4412.36            GIA   \n",
       "52851  Cushion   1.30  Very Good   NaN     VS2   4674.16            GIA   \n",
       "...        ...    ...        ...   ...     ...       ...            ...   \n",
       "56210  Emerald   1.01       Fair   NaN     VS1   4141.91            GIA   \n",
       "56211  Cushion   2.61  Excellent   NaN     VS1  11255.71            GIA   \n",
       "56232  Cushion   0.73  Excellent   NaN     VS1   1819.72            GIA   \n",
       "56244  Cushion   1.11  Very Good   NaN     VS1   2571.82            GIA   \n",
       "56304  Radiant   5.26  Excellent   NaN    None  50307.91            GIA   \n",
       "\n",
       "      certificateID  depth_pct  table_width_pct  \\\n",
       "52847    1258134255       73.8             53.0   \n",
       "52848    6252134379       70.3             55.0   \n",
       "52849    6255132037       69.6             55.0   \n",
       "52850    6251132043       69.4             54.0   \n",
       "52851    3255132054       69.6             56.0   \n",
       "...             ...        ...              ...   \n",
       "56210    1152309323       52.7             59.0   \n",
       "56211    6245360940       68.5             68.0   \n",
       "56232    1162317476       66.1             60.0   \n",
       "56244    1182805769       69.3             52.0   \n",
       "56304      14472958       67.7             66.0   \n",
       "\n",
       "                                                  polish  \\\n",
       "52847  Excellent                                     ...   \n",
       "52848  Excellent                                     ...   \n",
       "52849  Very Good                                     ...   \n",
       "52850  Very Good                                     ...   \n",
       "52851  Excellent                                     ...   \n",
       "...                                                  ...   \n",
       "56210  Very Good                                     ...   \n",
       "56211  Excellent                                     ...   \n",
       "56232  Good                                          ...   \n",
       "56244                                          Very Good   \n",
       "56304  Excellent                                     ...   \n",
       "\n",
       "                                                symmetry fluorescence  \\\n",
       "52847  Good                                          ...       Strong   \n",
       "52848  Good                                          ...        Faint   \n",
       "52849  Very Good                                     ...         None   \n",
       "52850  Very Good                                     ...         None   \n",
       "52851  Very Good                                     ...         None   \n",
       "...                                                  ...          ...   \n",
       "56210  Very Good                                     ...       Medium   \n",
       "56211  Very Good                                     ...         None   \n",
       "56232  Good                                          ...         None   \n",
       "56244                                               Good        Faint   \n",
       "56304  Very Good                                     ...         None   \n",
       "\n",
       "       crownAngle  crownHeight  pavilionAngle  pavilionDepth     measurements  \n",
       "52847         0.0          0.0            0.0            0.0   5.85x5.02x3.71  \n",
       "52848         0.0          0.0            0.0            0.0   5.65x5.61x3.95  \n",
       "52849         0.0          0.0            0.0            0.0   6.15x5.40x3.76  \n",
       "52850         0.0          0.0            0.0            0.0   6.10x5.51x3.83  \n",
       "52851         0.0          0.0            0.0            0.0   6.06x5.71x3.98  \n",
       "...           ...          ...            ...            ...              ...  \n",
       "56210         0.0          0.0            0.0            0.0   7.37x5.02x2.65  \n",
       "56211         0.0          0.0            0.0            0.0   7.50x7.13x4.88  \n",
       "56232         0.0          0.0            0.0            0.0   5.15x4.93x3.26  \n",
       "56244         0.0          0.0            0.0            0.0   5.63x5.59x3.87  \n",
       "56304         0.0          0.0            0.0            0.0  10.27x9.08x6.15  \n",
       "\n",
       "[100 rows x 18 columns]"
      ]
     },
     "execution_count": 11,
     "metadata": {},
     "output_type": "execute_result"
    }
   ],
   "source": [
    "df[df['color'].isna()].tail(100)\n",
    "#I used stonealgo's diamond search to look up some of these certificate IDs and it looks like the problem is that these are stones not in the standard color range\n",
    "#example link: https://www.stonealgo.com/diamond-details/gia-number-1152309323\n",
    "#examples of non-standard colors: fancy yellow, faint pink\n",
    "#not enough data for me to work on these types of diamonds so I will have to drop them"
   ]
  },
  {
   "cell_type": "code",
   "execution_count": 12,
   "id": "35297928-2002-4ce7-b679-96a1381f9351",
   "metadata": {},
   "outputs": [
    {
     "name": "stdout",
     "output_type": "stream",
     "text": [
      "E      8572\n",
      "F      8467\n",
      "G      8330\n",
      "D      7464\n",
      "H      6613\n",
      "I      5508\n",
      "NaN    4229\n",
      "J      3664\n",
      "K      1757\n",
      "L       635\n",
      "M       324\n",
      "YZ        7\n",
      "WX        4\n",
      "N         2\n",
      "Y         1\n",
      "UV        1\n",
      "Name: color, dtype: int64\n",
      "E     8572\n",
      "F     8467\n",
      "G     8330\n",
      "D     7464\n",
      "H     6613\n",
      "I     5508\n",
      "J     3664\n",
      "K     1757\n",
      "L      635\n",
      "M      324\n",
      "YZ       7\n",
      "WX       4\n",
      "N        2\n",
      "Y        1\n",
      "UV       1\n",
      "Name: color, dtype: int64\n"
     ]
    }
   ],
   "source": [
    "#drop the records that are missing color\n",
    "print(df['color'].value_counts(dropna = False))\n",
    "df.dropna(subset=['color'], inplace=True)\n",
    "print(df['color'].value_counts(dropna=False))"
   ]
  },
  {
   "cell_type": "code",
   "execution_count": 13,
   "id": "2a4aced3-e18d-4ca0-9b81-835a846f3933",
   "metadata": {},
   "outputs": [
    {
     "data": {
      "text/plain": [
       "shape              0\n",
       "carat              0\n",
       "cut                0\n",
       "color              0\n",
       "clarity            0\n",
       "price              0\n",
       "certificateLab     0\n",
       "certificateID      0\n",
       "depth_pct          0\n",
       "table_width_pct    0\n",
       "polish             0\n",
       "symmetry           0\n",
       "fluorescence       0\n",
       "crownAngle         0\n",
       "crownHeight        0\n",
       "pavilionAngle      0\n",
       "pavilionDepth      0\n",
       "measurements       0\n",
       "dtype: int64"
      ]
     },
     "execution_count": 13,
     "metadata": {},
     "output_type": "execute_result"
    }
   ],
   "source": [
    "#confirm there is no more missing data\n",
    "df.isnull().sum()"
   ]
  },
  {
   "cell_type": "code",
   "execution_count": 14,
   "id": "78e97caa-7894-4dda-9093-b0def6b31bc6",
   "metadata": {},
   "outputs": [
    {
     "data": {
      "text/plain": [
       "(51349, 18)"
      ]
     },
     "execution_count": 14,
     "metadata": {},
     "output_type": "execute_result"
    }
   ],
   "source": [
    "df.shape\n",
    "#down to 51K records vs. original dataset of 56K (91%), but still a good amount of data to model"
   ]
  },
  {
   "cell_type": "code",
   "execution_count": 15,
   "id": "6197d0b2-2e62-4bd2-a9c3-a23249fa26b6",
   "metadata": {},
   "outputs": [
    {
     "data": {
      "text/plain": [
       "shape               object\n",
       "carat              float64\n",
       "cut                 object\n",
       "color               object\n",
       "clarity             object\n",
       "price              float64\n",
       "certificateLab      object\n",
       "certificateID       object\n",
       "depth_pct          float64\n",
       "table_width_pct    float64\n",
       "polish              object\n",
       "symmetry            object\n",
       "fluorescence        object\n",
       "crownAngle         float64\n",
       "crownHeight        float64\n",
       "pavilionAngle      float64\n",
       "pavilionDepth      float64\n",
       "measurements        object\n",
       "dtype: object"
      ]
     },
     "execution_count": 15,
     "metadata": {},
     "output_type": "execute_result"
    }
   ],
   "source": [
    "#take a look at the datatypes\n",
    "df.dtypes"
   ]
  },
  {
   "cell_type": "code",
   "execution_count": 16,
   "id": "19d27777-9a5a-4667-ac32-15ad83e0707b",
   "metadata": {},
   "outputs": [
    {
     "data": {
      "text/plain": [
       "Cushion     11289\n",
       "Princess     8638\n",
       "Emerald      6981\n",
       "Pear         6824\n",
       "Oval         6489\n",
       "Marquise     3361\n",
       "Radiant      3177\n",
       "Heart        2648\n",
       "Asscher      1881\n",
       "CM             61\n",
       "Name: shape, dtype: int64"
      ]
     },
     "execution_count": 16,
     "metadata": {},
     "output_type": "execute_result"
    }
   ],
   "source": [
    "#double check that I don't have round diamonds in this analysis\n",
    "df['shape'].value_counts()\n",
    "#not sure what CM is..."
   ]
  },
  {
   "cell_type": "code",
   "execution_count": 17,
   "id": "f7b261f3-d4d7-435f-9b86-ae4ede6af0b7",
   "metadata": {},
   "outputs": [
    {
     "data": {
      "text/html": [
       "<div>\n",
       "<style scoped>\n",
       "    .dataframe tbody tr th:only-of-type {\n",
       "        vertical-align: middle;\n",
       "    }\n",
       "\n",
       "    .dataframe tbody tr th {\n",
       "        vertical-align: top;\n",
       "    }\n",
       "\n",
       "    .dataframe thead th {\n",
       "        text-align: right;\n",
       "    }\n",
       "</style>\n",
       "<table border=\"1\" class=\"dataframe\">\n",
       "  <thead>\n",
       "    <tr style=\"text-align: right;\">\n",
       "      <th></th>\n",
       "      <th>shape</th>\n",
       "      <th>carat</th>\n",
       "      <th>cut</th>\n",
       "      <th>color</th>\n",
       "      <th>clarity</th>\n",
       "      <th>price</th>\n",
       "      <th>certificateLab</th>\n",
       "      <th>certificateID</th>\n",
       "      <th>depth_pct</th>\n",
       "      <th>table_width_pct</th>\n",
       "      <th>polish</th>\n",
       "      <th>symmetry</th>\n",
       "      <th>fluorescence</th>\n",
       "      <th>crownAngle</th>\n",
       "      <th>crownHeight</th>\n",
       "      <th>pavilionAngle</th>\n",
       "      <th>pavilionDepth</th>\n",
       "      <th>measurements</th>\n",
       "    </tr>\n",
       "  </thead>\n",
       "  <tbody>\n",
       "    <tr>\n",
       "      <th>18939</th>\n",
       "      <td>CM</td>\n",
       "      <td>1.53</td>\n",
       "      <td>Excellent</td>\n",
       "      <td>G</td>\n",
       "      <td>VS2</td>\n",
       "      <td>8724.00</td>\n",
       "      <td>GIA</td>\n",
       "      <td>2246993298</td>\n",
       "      <td>67.2</td>\n",
       "      <td>59.0</td>\n",
       "      <td>Excellent                                     ...</td>\n",
       "      <td>Excellent                                     ...</td>\n",
       "      <td>None</td>\n",
       "      <td>0.0</td>\n",
       "      <td>0.0</td>\n",
       "      <td>0.0</td>\n",
       "      <td>0.0</td>\n",
       "      <td>6.71x6.67x4.48</td>\n",
       "    </tr>\n",
       "    <tr>\n",
       "      <th>19000</th>\n",
       "      <td>CM</td>\n",
       "      <td>1.81</td>\n",
       "      <td>Very Good</td>\n",
       "      <td>H</td>\n",
       "      <td>SI1</td>\n",
       "      <td>8772.36</td>\n",
       "      <td>GIA</td>\n",
       "      <td>6241868848</td>\n",
       "      <td>69.7</td>\n",
       "      <td>62.0</td>\n",
       "      <td>Excellent                                     ...</td>\n",
       "      <td>Excellent                                     ...</td>\n",
       "      <td>Faint</td>\n",
       "      <td>0.0</td>\n",
       "      <td>0.0</td>\n",
       "      <td>0.0</td>\n",
       "      <td>0.0</td>\n",
       "      <td>7.46x6.78x4.73</td>\n",
       "    </tr>\n",
       "    <tr>\n",
       "      <th>19570</th>\n",
       "      <td>CM</td>\n",
       "      <td>1.50</td>\n",
       "      <td>Excellent</td>\n",
       "      <td>G</td>\n",
       "      <td>VS2</td>\n",
       "      <td>8286.67</td>\n",
       "      <td>GIA</td>\n",
       "      <td>6252175522</td>\n",
       "      <td>67.2</td>\n",
       "      <td>63.0</td>\n",
       "      <td>Excellent                                     ...</td>\n",
       "      <td>Excellent                                     ...</td>\n",
       "      <td>None</td>\n",
       "      <td>0.0</td>\n",
       "      <td>0.0</td>\n",
       "      <td>0.0</td>\n",
       "      <td>0.0</td>\n",
       "      <td>6.86x6.63x4.45</td>\n",
       "    </tr>\n",
       "    <tr>\n",
       "      <th>19573</th>\n",
       "      <td>CM</td>\n",
       "      <td>2.03</td>\n",
       "      <td>Excellent</td>\n",
       "      <td>J</td>\n",
       "      <td>VS1</td>\n",
       "      <td>9238.46</td>\n",
       "      <td>GIA</td>\n",
       "      <td>2254183715</td>\n",
       "      <td>65.0</td>\n",
       "      <td>62.0</td>\n",
       "      <td>Excellent                                     ...</td>\n",
       "      <td>Excellent                                     ...</td>\n",
       "      <td>None</td>\n",
       "      <td>0.0</td>\n",
       "      <td>0.0</td>\n",
       "      <td>0.0</td>\n",
       "      <td>0.0</td>\n",
       "      <td>7.62x7.26x4.72</td>\n",
       "    </tr>\n",
       "    <tr>\n",
       "      <th>19588</th>\n",
       "      <td>CM</td>\n",
       "      <td>2.01</td>\n",
       "      <td>Excellent</td>\n",
       "      <td>H</td>\n",
       "      <td>VS2</td>\n",
       "      <td>13239.62</td>\n",
       "      <td>GIA</td>\n",
       "      <td>1258183721</td>\n",
       "      <td>65.9</td>\n",
       "      <td>63.0</td>\n",
       "      <td>Excellent                                     ...</td>\n",
       "      <td>Excellent                                     ...</td>\n",
       "      <td>None</td>\n",
       "      <td>0.0</td>\n",
       "      <td>0.0</td>\n",
       "      <td>0.0</td>\n",
       "      <td>0.0</td>\n",
       "      <td>7.60x7.27x4.79</td>\n",
       "    </tr>\n",
       "  </tbody>\n",
       "</table>\n",
       "</div>"
      ],
      "text/plain": [
       "      shape  carat        cut color clarity     price certificateLab  \\\n",
       "18939    CM   1.53  Excellent     G     VS2   8724.00            GIA   \n",
       "19000    CM   1.81  Very Good     H     SI1   8772.36            GIA   \n",
       "19570    CM   1.50  Excellent     G     VS2   8286.67            GIA   \n",
       "19573    CM   2.03  Excellent     J     VS1   9238.46            GIA   \n",
       "19588    CM   2.01  Excellent     H     VS2  13239.62            GIA   \n",
       "\n",
       "      certificateID  depth_pct  table_width_pct  \\\n",
       "18939    2246993298       67.2             59.0   \n",
       "19000    6241868848       69.7             62.0   \n",
       "19570    6252175522       67.2             63.0   \n",
       "19573    2254183715       65.0             62.0   \n",
       "19588    1258183721       65.9             63.0   \n",
       "\n",
       "                                                  polish  \\\n",
       "18939  Excellent                                     ...   \n",
       "19000  Excellent                                     ...   \n",
       "19570  Excellent                                     ...   \n",
       "19573  Excellent                                     ...   \n",
       "19588  Excellent                                     ...   \n",
       "\n",
       "                                                symmetry fluorescence  \\\n",
       "18939  Excellent                                     ...         None   \n",
       "19000  Excellent                                     ...        Faint   \n",
       "19570  Excellent                                     ...         None   \n",
       "19573  Excellent                                     ...         None   \n",
       "19588  Excellent                                     ...         None   \n",
       "\n",
       "       crownAngle  crownHeight  pavilionAngle  pavilionDepth    measurements  \n",
       "18939         0.0          0.0            0.0            0.0  6.71x6.67x4.48  \n",
       "19000         0.0          0.0            0.0            0.0  7.46x6.78x4.73  \n",
       "19570         0.0          0.0            0.0            0.0  6.86x6.63x4.45  \n",
       "19573         0.0          0.0            0.0            0.0  7.62x7.26x4.72  \n",
       "19588         0.0          0.0            0.0            0.0  7.60x7.27x4.79  "
      ]
     },
     "execution_count": 17,
     "metadata": {},
     "output_type": "execute_result"
    }
   ],
   "source": [
    "df[(df['shape'] == 'CM')].head()\n",
    "#checked the certificateID and they're all cushion cuts - must be mislabeled\n",
    "#cushion is the most frequent shape anyway if I were to impute"
   ]
  },
  {
   "cell_type": "code",
   "execution_count": 18,
   "id": "fa02facd-59ed-4248-be57-17f73e5fdaab",
   "metadata": {},
   "outputs": [],
   "source": [
    "df['shape'] = df['shape'].replace(['CM'], 'Cushion')"
   ]
  },
  {
   "cell_type": "code",
   "execution_count": 19,
   "id": "b705f652-28ab-4daa-bb2d-d059e09b2684",
   "metadata": {},
   "outputs": [
    {
     "data": {
      "text/plain": [
       "Cushion     11350\n",
       "Princess     8638\n",
       "Emerald      6981\n",
       "Pear         6824\n",
       "Oval         6489\n",
       "Marquise     3361\n",
       "Radiant      3177\n",
       "Heart        2648\n",
       "Asscher      1881\n",
       "Name: shape, dtype: int64"
      ]
     },
     "execution_count": 19,
     "metadata": {},
     "output_type": "execute_result"
    }
   ],
   "source": [
    "df['shape'].value_counts()\n",
    "#looks good now"
   ]
  },
  {
   "cell_type": "code",
   "execution_count": 20,
   "id": "5bc67d8f-b1c0-4832-937d-f51667f921e9",
   "metadata": {},
   "outputs": [],
   "source": [
    "#I will follow a similar process for data cleaning:\n",
    "#re-code cut, color, and clarity since they are non-numerical\n",
    "#re-code certificateLab using one-hot encoding\n",
    "#For polish and symmetry, group values before re-coding since there are a lot of possible values"
   ]
  },
  {
   "cell_type": "markdown",
   "id": "f5ebb106-5687-40e8-92a7-61f93b8fd966",
   "metadata": {},
   "source": [
    "## Re-code Non-Numerical Features"
   ]
  },
  {
   "cell_type": "code",
   "execution_count": 21,
   "id": "3552bed5-322f-494c-8092-d3073196829b",
   "metadata": {},
   "outputs": [
    {
     "data": {
      "text/plain": [
       "E     8572\n",
       "F     8467\n",
       "G     8330\n",
       "D     7464\n",
       "H     6613\n",
       "I     5508\n",
       "J     3664\n",
       "K     1757\n",
       "L      635\n",
       "M      324\n",
       "YZ       7\n",
       "WX       4\n",
       "N        2\n",
       "Y        1\n",
       "UV       1\n",
       "Name: color, dtype: int64"
      ]
     },
     "execution_count": 21,
     "metadata": {},
     "output_type": "execute_result"
    }
   ],
   "source": [
    "df['color'].value_counts()\n",
    "#same problem as the round dataset - usually color only goes up to M, so I will drop the others; not sure what the others are"
   ]
  },
  {
   "cell_type": "code",
   "execution_count": 22,
   "id": "dd7a2fec-c52e-439b-a722-9b5f6a26ddd4",
   "metadata": {},
   "outputs": [
    {
     "name": "stdout",
     "output_type": "stream",
     "text": [
      "E     8572\n",
      "F     8467\n",
      "G     8330\n",
      "D     7464\n",
      "H     6613\n",
      "I     5508\n",
      "J     3664\n",
      "K     1757\n",
      "L      635\n",
      "M      324\n",
      "YZ       7\n",
      "WX       4\n",
      "N        2\n",
      "Y        1\n",
      "UV       1\n",
      "Name: color, dtype: int64\n",
      "E    8572\n",
      "F    8467\n",
      "G    8330\n",
      "D    7464\n",
      "H    6613\n",
      "I    5508\n",
      "J    3664\n",
      "K    1757\n",
      "L     635\n",
      "M     324\n",
      "Name: color, dtype: int64\n"
     ]
    }
   ],
   "source": [
    "print(df['color'].value_counts())\n",
    "df = df.drop(df[df[\"color\"]=='YZ'].index)\n",
    "df = df.drop(df[df[\"color\"]=='WX'].index)\n",
    "df = df.drop(df[df[\"color\"]=='N'].index)\n",
    "df = df.drop(df[df[\"color\"]=='Y'].index)\n",
    "df = df.drop(df[df[\"color\"]=='UV'].index)\n",
    "print(df['color'].value_counts())"
   ]
  },
  {
   "cell_type": "code",
   "execution_count": 23,
   "id": "89429edc-6338-4f72-b668-c406589fef46",
   "metadata": {},
   "outputs": [
    {
     "name": "stdout",
     "output_type": "stream",
     "text": [
      "E    8572\n",
      "F    8467\n",
      "G    8330\n",
      "D    7464\n",
      "H    6613\n",
      "I    5508\n",
      "J    3664\n",
      "K    1757\n",
      "L     635\n",
      "M     324\n",
      "Name: color, dtype: int64\n",
      "2     8572\n",
      "3     8467\n",
      "4     8330\n",
      "1     7464\n",
      "5     6613\n",
      "6     5508\n",
      "7     3664\n",
      "8     1757\n",
      "9      635\n",
      "10     324\n",
      "Name: color, dtype: int64\n"
     ]
    }
   ],
   "source": [
    "#re-code the remaining colors to numerical\n",
    "print(df['color'].value_counts())\n",
    "df['color'] = df['color'].map({\"D\":1, \"E\": 2, \"F\":3, \"G\":4, \"H\":5, \"I\":6, \"J\":7, \"K\":8, \"L\":9, \"M\":10})\n",
    "print(df['color'].value_counts())"
   ]
  },
  {
   "cell_type": "code",
   "execution_count": 24,
   "id": "200b7952-9dcc-4a5d-8cbf-602283d0d0b2",
   "metadata": {},
   "outputs": [
    {
     "data": {
      "text/plain": [
       "(51334, 18)"
      ]
     },
     "execution_count": 24,
     "metadata": {},
     "output_type": "execute_result"
    }
   ],
   "source": [
    "df.shape"
   ]
  },
  {
   "cell_type": "code",
   "execution_count": 25,
   "id": "2dc429ae-00d2-4c85-92e0-8b142c706b96",
   "metadata": {},
   "outputs": [
    {
     "data": {
      "text/plain": [
       "SI1     11400\n",
       "VS2     10192\n",
       "VS1      9409\n",
       "SI2      7178\n",
       "VVS2     5486\n",
       "VVS1     4398\n",
       "IF       2049\n",
       "I1       1134\n",
       "FL         88\n",
       "Name: clarity, dtype: int64"
      ]
     },
     "execution_count": 25,
     "metadata": {},
     "output_type": "execute_result"
    }
   ],
   "source": [
    "df['clarity'].value_counts(dropna = False)\n",
    "#looks normal"
   ]
  },
  {
   "cell_type": "code",
   "execution_count": 26,
   "id": "96a7ba74-1095-44d3-9e54-68c44fe65cd6",
   "metadata": {},
   "outputs": [
    {
     "name": "stdout",
     "output_type": "stream",
     "text": [
      "SI1     11400\n",
      "VS2     10192\n",
      "VS1      9409\n",
      "SI2      7178\n",
      "VVS2     5486\n",
      "VVS1     4398\n",
      "IF       2049\n",
      "I1       1134\n",
      "FL         88\n",
      "Name: clarity, dtype: int64\n",
      "7    11400\n",
      "6    10192\n",
      "5     9409\n",
      "8     7178\n",
      "4     5486\n",
      "3     4398\n",
      "2     2049\n",
      "9     1134\n",
      "1       88\n",
      "Name: clarity, dtype: int64\n"
     ]
    }
   ],
   "source": [
    "#re-code clarity to numerical\n",
    "print(df['clarity'].value_counts())\n",
    "df['clarity'] = df['clarity'].map({\"FL\":1, \"IF\": 2, \"VVS1\":3, \"VVS2\":4, \"VS1\":5, \"VS2\":6, \"SI1\":7, \"SI2\":8, \"I1\":9})\n",
    "print(df['clarity'].value_counts())\n",
    "#based on the gia guide: https://4cs.gia.edu/en-us/diamond-clarity/"
   ]
  },
  {
   "cell_type": "code",
   "execution_count": 27,
   "id": "6814fa2a-43ba-474e-bc27-e43a0a5d86fb",
   "metadata": {},
   "outputs": [
    {
     "data": {
      "text/plain": [
       "(51334, 18)"
      ]
     },
     "execution_count": 27,
     "metadata": {},
     "output_type": "execute_result"
    }
   ],
   "source": [
    "df.shape"
   ]
  },
  {
   "cell_type": "code",
   "execution_count": 28,
   "id": "cc6e11ba-7c2b-475c-a8f2-d520542bba08",
   "metadata": {},
   "outputs": [
    {
     "data": {
      "text/plain": [
       "Excellent    28863\n",
       "Very Good    14062\n",
       "Good          7107\n",
       "Fair          1300\n",
       "Ideal            2\n",
       "Name: cut, dtype: int64"
      ]
     },
     "execution_count": 28,
     "metadata": {},
     "output_type": "execute_result"
    }
   ],
   "source": [
    "df['cut'].value_counts()\n",
    "#looks normal"
   ]
  },
  {
   "cell_type": "code",
   "execution_count": 29,
   "id": "9360750d-a39a-44a2-afdc-b59a64223b41",
   "metadata": {},
   "outputs": [
    {
     "name": "stdout",
     "output_type": "stream",
     "text": [
      "Excellent    28863\n",
      "Very Good    14062\n",
      "Good          7107\n",
      "Fair          1300\n",
      "Ideal            2\n",
      "Name: cut, dtype: int64\n",
      "2    28863\n",
      "3    14062\n",
      "4     7107\n",
      "5     1300\n",
      "1        2\n",
      "Name: cut, dtype: int64\n"
     ]
    }
   ],
   "source": [
    "print(df['cut'].value_counts())\n",
    "df['cut'] = df['cut'].map({\"Ideal\":1, \"Excellent\": 2, \"Very Good\":3, \"Good\":4, \"Fair\":5})\n",
    "print(df['cut'].value_counts())"
   ]
  },
  {
   "cell_type": "code",
   "execution_count": 30,
   "id": "460d945c-5b6b-4003-9338-ea10adfad5a3",
   "metadata": {},
   "outputs": [
    {
     "data": {
      "text/plain": [
       "GIA    49449\n",
       "IGI     1516\n",
       "HRD      265\n",
       "AGS      101\n",
       "B2C        3\n",
       "Name: certificateLab, dtype: int64"
      ]
     },
     "execution_count": 30,
     "metadata": {},
     "output_type": "execute_result"
    }
   ],
   "source": [
    "df['certificateLab'].value_counts()\n",
    "#vast majority are GIA\n",
    "#the only other one I've seen is IGI\n",
    "#group the others"
   ]
  },
  {
   "cell_type": "code",
   "execution_count": 31,
   "id": "c954e7a9-c5de-4cb6-a4cc-2aef7e55fe40",
   "metadata": {},
   "outputs": [
    {
     "name": "stdout",
     "output_type": "stream",
     "text": [
      "GIA    49449\n",
      "IGI     1516\n",
      "HRD      265\n",
      "AGS      101\n",
      "B2C        3\n",
      "Name: certificateLab, dtype: int64\n",
      "GIA      49449\n",
      "IGI       1516\n",
      "Other      369\n",
      "Name: certificateLab, dtype: int64\n"
     ]
    }
   ],
   "source": [
    "print(df['certificateLab'].value_counts())\n",
    "df['certificateLab'] = df['certificateLab'].map({\"GIA\":\"GIA\", \"IGI\":\"IGI\", \"HRD\":\"Other\", \"AGS\":\"Other\", \"B2C\":\"Other\"})\n",
    "print(df['certificateLab'].value_counts())\n",
    "#probably not the most efficient way to rename these, but wanted to keep the logic consistent with the rest of the re-coding"
   ]
  },
  {
   "cell_type": "code",
   "execution_count": 32,
   "id": "dcb77e66-d49d-4871-b88f-ed4cc4c3cb66",
   "metadata": {},
   "outputs": [
    {
     "name": "stdout",
     "output_type": "stream",
     "text": [
      "Index(['GIA', 'IGI', 'Other'], dtype='object')\n"
     ]
    },
    {
     "data": {
      "text/html": [
       "<div>\n",
       "<style scoped>\n",
       "    .dataframe tbody tr th:only-of-type {\n",
       "        vertical-align: middle;\n",
       "    }\n",
       "\n",
       "    .dataframe tbody tr th {\n",
       "        vertical-align: top;\n",
       "    }\n",
       "\n",
       "    .dataframe thead th {\n",
       "        text-align: right;\n",
       "    }\n",
       "</style>\n",
       "<table border=\"1\" class=\"dataframe\">\n",
       "  <thead>\n",
       "    <tr style=\"text-align: right;\">\n",
       "      <th></th>\n",
       "      <th>GIA</th>\n",
       "      <th>IGI</th>\n",
       "      <th>Other</th>\n",
       "    </tr>\n",
       "  </thead>\n",
       "  <tbody>\n",
       "    <tr>\n",
       "      <th>0</th>\n",
       "      <td>1</td>\n",
       "      <td>0</td>\n",
       "      <td>0</td>\n",
       "    </tr>\n",
       "    <tr>\n",
       "      <th>1</th>\n",
       "      <td>1</td>\n",
       "      <td>0</td>\n",
       "      <td>0</td>\n",
       "    </tr>\n",
       "    <tr>\n",
       "      <th>2</th>\n",
       "      <td>1</td>\n",
       "      <td>0</td>\n",
       "      <td>0</td>\n",
       "    </tr>\n",
       "    <tr>\n",
       "      <th>3</th>\n",
       "      <td>1</td>\n",
       "      <td>0</td>\n",
       "      <td>0</td>\n",
       "    </tr>\n",
       "    <tr>\n",
       "      <th>4</th>\n",
       "      <td>1</td>\n",
       "      <td>0</td>\n",
       "      <td>0</td>\n",
       "    </tr>\n",
       "  </tbody>\n",
       "</table>\n",
       "</div>"
      ],
      "text/plain": [
       "   GIA  IGI  Other\n",
       "0    1    0      0\n",
       "1    1    0      0\n",
       "2    1    0      0\n",
       "3    1    0      0\n",
       "4    1    0      0"
      ]
     },
     "execution_count": 32,
     "metadata": {},
     "output_type": "execute_result"
    }
   ],
   "source": [
    "#now I will get dummies to turn these into numericals\n",
    "ohe=pd.get_dummies(df['certificateLab'])\n",
    "print(ohe.columns)\n",
    "ohe.head()"
   ]
  },
  {
   "cell_type": "code",
   "execution_count": 33,
   "id": "de6918ea-5926-4373-b801-695a5b3e5005",
   "metadata": {},
   "outputs": [
    {
     "data": {
      "text/plain": [
       "(51334, 21)"
      ]
     },
     "execution_count": 33,
     "metadata": {},
     "output_type": "execute_result"
    }
   ],
   "source": [
    "# append these new columns to the original dataset\n",
    "df=pd.concat([df, ohe], axis=1) #append columns, not rows\n",
    "df.shape\n",
    "#3 extra columns now"
   ]
  },
  {
   "cell_type": "code",
   "execution_count": 34,
   "id": "0fa2f9eb-71a5-43bc-95c0-0b99bb193db7",
   "metadata": {},
   "outputs": [
    {
     "data": {
      "text/html": [
       "<div>\n",
       "<style scoped>\n",
       "    .dataframe tbody tr th:only-of-type {\n",
       "        vertical-align: middle;\n",
       "    }\n",
       "\n",
       "    .dataframe tbody tr th {\n",
       "        vertical-align: top;\n",
       "    }\n",
       "\n",
       "    .dataframe thead th {\n",
       "        text-align: right;\n",
       "    }\n",
       "</style>\n",
       "<table border=\"1\" class=\"dataframe\">\n",
       "  <thead>\n",
       "    <tr style=\"text-align: right;\">\n",
       "      <th></th>\n",
       "      <th>shape</th>\n",
       "      <th>carat</th>\n",
       "      <th>cut</th>\n",
       "      <th>color</th>\n",
       "      <th>clarity</th>\n",
       "      <th>price</th>\n",
       "      <th>certificateLab</th>\n",
       "      <th>certificateID</th>\n",
       "      <th>depth_pct</th>\n",
       "      <th>table_width_pct</th>\n",
       "      <th>...</th>\n",
       "      <th>symmetry</th>\n",
       "      <th>fluorescence</th>\n",
       "      <th>crownAngle</th>\n",
       "      <th>crownHeight</th>\n",
       "      <th>pavilionAngle</th>\n",
       "      <th>pavilionDepth</th>\n",
       "      <th>measurements</th>\n",
       "      <th>GIA</th>\n",
       "      <th>IGI</th>\n",
       "      <th>Other</th>\n",
       "    </tr>\n",
       "  </thead>\n",
       "  <tbody>\n",
       "    <tr>\n",
       "      <th>0</th>\n",
       "      <td>Cushion</td>\n",
       "      <td>3.20</td>\n",
       "      <td>2</td>\n",
       "      <td>4</td>\n",
       "      <td>5</td>\n",
       "      <td>53504.69</td>\n",
       "      <td>GIA</td>\n",
       "      <td>17459430</td>\n",
       "      <td>65.1</td>\n",
       "      <td>58.0</td>\n",
       "      <td>...</td>\n",
       "      <td>Good                                          ...</td>\n",
       "      <td>None</td>\n",
       "      <td>0.0</td>\n",
       "      <td>0.0</td>\n",
       "      <td>0.0</td>\n",
       "      <td>0.0</td>\n",
       "      <td>9.14x8.05x5.24</td>\n",
       "      <td>1</td>\n",
       "      <td>0</td>\n",
       "      <td>0</td>\n",
       "    </tr>\n",
       "    <tr>\n",
       "      <th>1</th>\n",
       "      <td>Radiant</td>\n",
       "      <td>2.01</td>\n",
       "      <td>2</td>\n",
       "      <td>4</td>\n",
       "      <td>6</td>\n",
       "      <td>17643.65</td>\n",
       "      <td>GIA</td>\n",
       "      <td>13444744</td>\n",
       "      <td>68.9</td>\n",
       "      <td>70.0</td>\n",
       "      <td>...</td>\n",
       "      <td>Very Good                                     ...</td>\n",
       "      <td>None</td>\n",
       "      <td>0.0</td>\n",
       "      <td>0.0</td>\n",
       "      <td>0.0</td>\n",
       "      <td>0.0</td>\n",
       "      <td>8.33x6.18x4.26</td>\n",
       "      <td>1</td>\n",
       "      <td>0</td>\n",
       "      <td>0</td>\n",
       "    </tr>\n",
       "    <tr>\n",
       "      <th>2</th>\n",
       "      <td>Radiant</td>\n",
       "      <td>3.22</td>\n",
       "      <td>2</td>\n",
       "      <td>2</td>\n",
       "      <td>6</td>\n",
       "      <td>50939.81</td>\n",
       "      <td>GIA</td>\n",
       "      <td>15310974</td>\n",
       "      <td>70.1</td>\n",
       "      <td>72.0</td>\n",
       "      <td>...</td>\n",
       "      <td>Very Good                                     ...</td>\n",
       "      <td>None</td>\n",
       "      <td>0.0</td>\n",
       "      <td>0.0</td>\n",
       "      <td>0.0</td>\n",
       "      <td>0.0</td>\n",
       "      <td>8.31x7.96x5.58</td>\n",
       "      <td>1</td>\n",
       "      <td>0</td>\n",
       "      <td>0</td>\n",
       "    </tr>\n",
       "    <tr>\n",
       "      <th>3</th>\n",
       "      <td>Cushion</td>\n",
       "      <td>3.08</td>\n",
       "      <td>3</td>\n",
       "      <td>4</td>\n",
       "      <td>6</td>\n",
       "      <td>36052.16</td>\n",
       "      <td>GIA</td>\n",
       "      <td>17262201</td>\n",
       "      <td>68.3</td>\n",
       "      <td>66.0</td>\n",
       "      <td>...</td>\n",
       "      <td>Good                                          ...</td>\n",
       "      <td>Faint</td>\n",
       "      <td>0.0</td>\n",
       "      <td>0.0</td>\n",
       "      <td>0.0</td>\n",
       "      <td>0.0</td>\n",
       "      <td>9.21x7.83x5.35</td>\n",
       "      <td>1</td>\n",
       "      <td>0</td>\n",
       "      <td>0</td>\n",
       "    </tr>\n",
       "    <tr>\n",
       "      <th>4</th>\n",
       "      <td>Asscher</td>\n",
       "      <td>3.01</td>\n",
       "      <td>3</td>\n",
       "      <td>4</td>\n",
       "      <td>5</td>\n",
       "      <td>41195.25</td>\n",
       "      <td>GIA</td>\n",
       "      <td>17459424</td>\n",
       "      <td>71.1</td>\n",
       "      <td>67.0</td>\n",
       "      <td>...</td>\n",
       "      <td>Good                                          ...</td>\n",
       "      <td>None</td>\n",
       "      <td>0.0</td>\n",
       "      <td>0.0</td>\n",
       "      <td>0.0</td>\n",
       "      <td>0.0</td>\n",
       "      <td>7.81x7.69x5.47</td>\n",
       "      <td>1</td>\n",
       "      <td>0</td>\n",
       "      <td>0</td>\n",
       "    </tr>\n",
       "  </tbody>\n",
       "</table>\n",
       "<p>5 rows × 21 columns</p>\n",
       "</div>"
      ],
      "text/plain": [
       "     shape  carat  cut  color  clarity     price certificateLab certificateID  \\\n",
       "0  Cushion   3.20    2      4        5  53504.69            GIA      17459430   \n",
       "1  Radiant   2.01    2      4        6  17643.65            GIA      13444744   \n",
       "2  Radiant   3.22    2      2        6  50939.81            GIA      15310974   \n",
       "3  Cushion   3.08    3      4        6  36052.16            GIA      17262201   \n",
       "4  Asscher   3.01    3      4        5  41195.25            GIA      17459424   \n",
       "\n",
       "   depth_pct  table_width_pct  ...  \\\n",
       "0       65.1             58.0  ...   \n",
       "1       68.9             70.0  ...   \n",
       "2       70.1             72.0  ...   \n",
       "3       68.3             66.0  ...   \n",
       "4       71.1             67.0  ...   \n",
       "\n",
       "                                            symmetry fluorescence crownAngle  \\\n",
       "0  Good                                          ...         None        0.0   \n",
       "1  Very Good                                     ...         None        0.0   \n",
       "2  Very Good                                     ...         None        0.0   \n",
       "3  Good                                          ...        Faint        0.0   \n",
       "4  Good                                          ...         None        0.0   \n",
       "\n",
       "   crownHeight  pavilionAngle  pavilionDepth    measurements GIA  IGI  Other  \n",
       "0          0.0            0.0            0.0  9.14x8.05x5.24   1    0      0  \n",
       "1          0.0            0.0            0.0  8.33x6.18x4.26   1    0      0  \n",
       "2          0.0            0.0            0.0  8.31x7.96x5.58   1    0      0  \n",
       "3          0.0            0.0            0.0  9.21x7.83x5.35   1    0      0  \n",
       "4          0.0            0.0            0.0  7.81x7.69x5.47   1    0      0  \n",
       "\n",
       "[5 rows x 21 columns]"
      ]
     },
     "execution_count": 34,
     "metadata": {},
     "output_type": "execute_result"
    }
   ],
   "source": [
    "df.head()"
   ]
  },
  {
   "cell_type": "code",
   "execution_count": 35,
   "id": "8a50ac81-5321-4e06-ae96-b16eef107627",
   "metadata": {},
   "outputs": [
    {
     "data": {
      "text/html": [
       "<div>\n",
       "<style scoped>\n",
       "    .dataframe tbody tr th:only-of-type {\n",
       "        vertical-align: middle;\n",
       "    }\n",
       "\n",
       "    .dataframe tbody tr th {\n",
       "        vertical-align: top;\n",
       "    }\n",
       "\n",
       "    .dataframe thead th {\n",
       "        text-align: right;\n",
       "    }\n",
       "</style>\n",
       "<table border=\"1\" class=\"dataframe\">\n",
       "  <thead>\n",
       "    <tr style=\"text-align: right;\">\n",
       "      <th></th>\n",
       "      <th>shape</th>\n",
       "      <th>carat</th>\n",
       "      <th>cut</th>\n",
       "      <th>color</th>\n",
       "      <th>clarity</th>\n",
       "      <th>price</th>\n",
       "      <th>certificateID</th>\n",
       "      <th>depth_pct</th>\n",
       "      <th>table_width_pct</th>\n",
       "      <th>polish</th>\n",
       "      <th>symmetry</th>\n",
       "      <th>fluorescence</th>\n",
       "      <th>crownAngle</th>\n",
       "      <th>crownHeight</th>\n",
       "      <th>pavilionAngle</th>\n",
       "      <th>pavilionDepth</th>\n",
       "      <th>measurements</th>\n",
       "      <th>GIA</th>\n",
       "      <th>IGI</th>\n",
       "      <th>Other</th>\n",
       "    </tr>\n",
       "  </thead>\n",
       "  <tbody>\n",
       "    <tr>\n",
       "      <th>0</th>\n",
       "      <td>Cushion</td>\n",
       "      <td>3.20</td>\n",
       "      <td>2</td>\n",
       "      <td>4</td>\n",
       "      <td>5</td>\n",
       "      <td>53504.69</td>\n",
       "      <td>17459430</td>\n",
       "      <td>65.1</td>\n",
       "      <td>58.0</td>\n",
       "      <td>Very Good                                     ...</td>\n",
       "      <td>Good                                          ...</td>\n",
       "      <td>None</td>\n",
       "      <td>0.0</td>\n",
       "      <td>0.0</td>\n",
       "      <td>0.0</td>\n",
       "      <td>0.0</td>\n",
       "      <td>9.14x8.05x5.24</td>\n",
       "      <td>1</td>\n",
       "      <td>0</td>\n",
       "      <td>0</td>\n",
       "    </tr>\n",
       "    <tr>\n",
       "      <th>1</th>\n",
       "      <td>Radiant</td>\n",
       "      <td>2.01</td>\n",
       "      <td>2</td>\n",
       "      <td>4</td>\n",
       "      <td>6</td>\n",
       "      <td>17643.65</td>\n",
       "      <td>13444744</td>\n",
       "      <td>68.9</td>\n",
       "      <td>70.0</td>\n",
       "      <td>Very Good                                     ...</td>\n",
       "      <td>Very Good                                     ...</td>\n",
       "      <td>None</td>\n",
       "      <td>0.0</td>\n",
       "      <td>0.0</td>\n",
       "      <td>0.0</td>\n",
       "      <td>0.0</td>\n",
       "      <td>8.33x6.18x4.26</td>\n",
       "      <td>1</td>\n",
       "      <td>0</td>\n",
       "      <td>0</td>\n",
       "    </tr>\n",
       "    <tr>\n",
       "      <th>2</th>\n",
       "      <td>Radiant</td>\n",
       "      <td>3.22</td>\n",
       "      <td>2</td>\n",
       "      <td>2</td>\n",
       "      <td>6</td>\n",
       "      <td>50939.81</td>\n",
       "      <td>15310974</td>\n",
       "      <td>70.1</td>\n",
       "      <td>72.0</td>\n",
       "      <td>Very Good                                     ...</td>\n",
       "      <td>Very Good                                     ...</td>\n",
       "      <td>None</td>\n",
       "      <td>0.0</td>\n",
       "      <td>0.0</td>\n",
       "      <td>0.0</td>\n",
       "      <td>0.0</td>\n",
       "      <td>8.31x7.96x5.58</td>\n",
       "      <td>1</td>\n",
       "      <td>0</td>\n",
       "      <td>0</td>\n",
       "    </tr>\n",
       "    <tr>\n",
       "      <th>3</th>\n",
       "      <td>Cushion</td>\n",
       "      <td>3.08</td>\n",
       "      <td>3</td>\n",
       "      <td>4</td>\n",
       "      <td>6</td>\n",
       "      <td>36052.16</td>\n",
       "      <td>17262201</td>\n",
       "      <td>68.3</td>\n",
       "      <td>66.0</td>\n",
       "      <td>Very Good                                     ...</td>\n",
       "      <td>Good                                          ...</td>\n",
       "      <td>Faint</td>\n",
       "      <td>0.0</td>\n",
       "      <td>0.0</td>\n",
       "      <td>0.0</td>\n",
       "      <td>0.0</td>\n",
       "      <td>9.21x7.83x5.35</td>\n",
       "      <td>1</td>\n",
       "      <td>0</td>\n",
       "      <td>0</td>\n",
       "    </tr>\n",
       "    <tr>\n",
       "      <th>4</th>\n",
       "      <td>Asscher</td>\n",
       "      <td>3.01</td>\n",
       "      <td>3</td>\n",
       "      <td>4</td>\n",
       "      <td>5</td>\n",
       "      <td>41195.25</td>\n",
       "      <td>17459424</td>\n",
       "      <td>71.1</td>\n",
       "      <td>67.0</td>\n",
       "      <td>Excellent                                     ...</td>\n",
       "      <td>Good                                          ...</td>\n",
       "      <td>None</td>\n",
       "      <td>0.0</td>\n",
       "      <td>0.0</td>\n",
       "      <td>0.0</td>\n",
       "      <td>0.0</td>\n",
       "      <td>7.81x7.69x5.47</td>\n",
       "      <td>1</td>\n",
       "      <td>0</td>\n",
       "      <td>0</td>\n",
       "    </tr>\n",
       "  </tbody>\n",
       "</table>\n",
       "</div>"
      ],
      "text/plain": [
       "     shape  carat  cut  color  clarity     price certificateID  depth_pct  \\\n",
       "0  Cushion   3.20    2      4        5  53504.69      17459430       65.1   \n",
       "1  Radiant   2.01    2      4        6  17643.65      13444744       68.9   \n",
       "2  Radiant   3.22    2      2        6  50939.81      15310974       70.1   \n",
       "3  Cushion   3.08    3      4        6  36052.16      17262201       68.3   \n",
       "4  Asscher   3.01    3      4        5  41195.25      17459424       71.1   \n",
       "\n",
       "   table_width_pct                                             polish  \\\n",
       "0             58.0  Very Good                                     ...   \n",
       "1             70.0  Very Good                                     ...   \n",
       "2             72.0  Very Good                                     ...   \n",
       "3             66.0  Very Good                                     ...   \n",
       "4             67.0  Excellent                                     ...   \n",
       "\n",
       "                                            symmetry fluorescence  crownAngle  \\\n",
       "0  Good                                          ...         None         0.0   \n",
       "1  Very Good                                     ...         None         0.0   \n",
       "2  Very Good                                     ...         None         0.0   \n",
       "3  Good                                          ...        Faint         0.0   \n",
       "4  Good                                          ...         None         0.0   \n",
       "\n",
       "   crownHeight  pavilionAngle  pavilionDepth    measurements  GIA  IGI  Other  \n",
       "0          0.0            0.0            0.0  9.14x8.05x5.24    1    0      0  \n",
       "1          0.0            0.0            0.0  8.33x6.18x4.26    1    0      0  \n",
       "2          0.0            0.0            0.0  8.31x7.96x5.58    1    0      0  \n",
       "3          0.0            0.0            0.0  9.21x7.83x5.35    1    0      0  \n",
       "4          0.0            0.0            0.0  7.81x7.69x5.47    1    0      0  "
      ]
     },
     "execution_count": 35,
     "metadata": {},
     "output_type": "execute_result"
    }
   ],
   "source": [
    "#remove the original column that we replaced with one-hot encoding\n",
    "df=df.drop(['certificateLab'], axis=1).copy()\n",
    "df.head()"
   ]
  },
  {
   "cell_type": "code",
   "execution_count": 36,
   "id": "6feabca6-1999-42e2-a6a1-f58f1a6ce4da",
   "metadata": {},
   "outputs": [
    {
     "data": {
      "text/plain": [
       "(51334, 20)"
      ]
     },
     "execution_count": 36,
     "metadata": {},
     "output_type": "execute_result"
    }
   ],
   "source": [
    "df.shape"
   ]
  },
  {
   "cell_type": "code",
   "execution_count": 37,
   "id": "754eabf5-478b-4d9f-b7c9-30288006780f",
   "metadata": {},
   "outputs": [
    {
     "data": {
      "text/plain": [
       "Excellent                                             25595\n",
       "Very Good                                             18016\n",
       "Good                                                   6054\n",
       "Excellent                                              1302\n",
       "Very Good                                               271\n",
       "Fair                                                     51\n",
       "Ideal                                                    32\n",
       "Good                                                      9\n",
       "Very Good-Excel                                           3\n",
       "Good-Very Good                                            1\n",
       "Name: polish, dtype: int64"
      ]
     },
     "execution_count": 37,
     "metadata": {},
     "output_type": "execute_result"
    }
   ],
   "source": [
    "df['polish'].value_counts()\n",
    "#looks like some formatting issues like the round data set but also some strange values with ranges? drop these"
   ]
  },
  {
   "cell_type": "code",
   "execution_count": 38,
   "id": "72b31864-8ac7-4e94-a640-566976bd4c1e",
   "metadata": {},
   "outputs": [],
   "source": [
    "#remove leading / lagging spaces\n",
    "df['polish'] = df['polish'].str.strip()"
   ]
  },
  {
   "cell_type": "code",
   "execution_count": 39,
   "id": "3ab5ff67-05b6-4976-9b71-4861b3f3d0f1",
   "metadata": {},
   "outputs": [
    {
     "data": {
      "text/plain": [
       "Excellent          26897\n",
       "Very Good          18287\n",
       "Good                6063\n",
       "Fair                  51\n",
       "Ideal                 32\n",
       "Very Good-Excel        3\n",
       "Good-Very Good         1\n",
       "Name: polish, dtype: int64"
      ]
     },
     "execution_count": 39,
     "metadata": {},
     "output_type": "execute_result"
    }
   ],
   "source": [
    "df['polish'].value_counts()\n",
    "#now it looks clean except for the non-standard values"
   ]
  },
  {
   "cell_type": "code",
   "execution_count": 40,
   "id": "eda68059-5d3f-4c2a-990a-26509833cfeb",
   "metadata": {},
   "outputs": [
    {
     "name": "stdout",
     "output_type": "stream",
     "text": [
      "Excellent          26897\n",
      "Very Good          18287\n",
      "Good                6063\n",
      "Fair                  51\n",
      "Ideal                 32\n",
      "Very Good-Excel        3\n",
      "Good-Very Good         1\n",
      "Name: polish, dtype: int64\n",
      "Excellent    26897\n",
      "Very Good    18287\n",
      "Good          6063\n",
      "Fair            51\n",
      "Ideal           32\n",
      "Name: polish, dtype: int64\n"
     ]
    }
   ],
   "source": [
    "#drop those\n",
    "print(df['polish'].value_counts())\n",
    "df = df.drop(df[df[\"polish\"]=='Very Good-Excel'].index)\n",
    "df = df.drop(df[df[\"polish\"]=='Good-Very Good'].index)\n",
    "print(df['polish'].value_counts())"
   ]
  },
  {
   "cell_type": "code",
   "execution_count": 41,
   "id": "92a76d23-e68d-4d90-9020-74639f93aa63",
   "metadata": {},
   "outputs": [
    {
     "name": "stdout",
     "output_type": "stream",
     "text": [
      "Excellent    26897\n",
      "Very Good    18287\n",
      "Good          6063\n",
      "Fair            51\n",
      "Ideal           32\n",
      "Name: polish, dtype: int64\n",
      "2    26897\n",
      "3    18287\n",
      "4     6063\n",
      "5       51\n",
      "1       32\n",
      "Name: polish, dtype: int64\n"
     ]
    }
   ],
   "source": [
    "#re-code the remaining ones\n",
    "print(df['polish'].value_counts())\n",
    "df['polish'] = df['polish'].map({\"Ideal\":1, \"Excellent\": 2, \"Very Good\":3, \"Good\":4, \"Fair\":5})\n",
    "print(df['polish'].value_counts())"
   ]
  },
  {
   "cell_type": "code",
   "execution_count": 42,
   "id": "ac9377fe-2b53-4856-b002-99999bf9d3e4",
   "metadata": {},
   "outputs": [
    {
     "data": {
      "text/plain": [
       "Very Good                                             27550\n",
       "Good                                                  13259\n",
       "Excellent                                              8339\n",
       "Fair                                                    878\n",
       "Excellent                                               758\n",
       "Very Good                                               464\n",
       "Good                                                     56\n",
       "Ideal                                                    15\n",
       "Poor                                                     11\n",
       "Name: symmetry, dtype: int64"
      ]
     },
     "execution_count": 42,
     "metadata": {},
     "output_type": "execute_result"
    }
   ],
   "source": [
    "df['symmetry'].value_counts()\n",
    "#looks like the same issue as above"
   ]
  },
  {
   "cell_type": "code",
   "execution_count": 43,
   "id": "d2d1001d-6eba-46b1-af33-fbac147c989e",
   "metadata": {},
   "outputs": [],
   "source": [
    "df['symmetry'] = df['symmetry'].str.strip()"
   ]
  },
  {
   "cell_type": "code",
   "execution_count": 44,
   "id": "83fe9477-a12c-4216-a7ef-2eb5a7423df1",
   "metadata": {},
   "outputs": [
    {
     "data": {
      "text/plain": [
       "Very Good    28014\n",
       "Good         13315\n",
       "Excellent     9097\n",
       "Fair           878\n",
       "Ideal           15\n",
       "Poor            11\n",
       "Name: symmetry, dtype: int64"
      ]
     },
     "execution_count": 44,
     "metadata": {},
     "output_type": "execute_result"
    }
   ],
   "source": [
    "df['symmetry'].value_counts()\n",
    "#now it looks clean"
   ]
  },
  {
   "cell_type": "code",
   "execution_count": 45,
   "id": "0c2a9aab-5614-40a2-9e55-3250f8d70dba",
   "metadata": {},
   "outputs": [
    {
     "name": "stdout",
     "output_type": "stream",
     "text": [
      "Very Good    28014\n",
      "Good         13315\n",
      "Excellent     9097\n",
      "Fair           878\n",
      "Ideal           15\n",
      "Poor            11\n",
      "Name: symmetry, dtype: int64\n",
      "3    28014\n",
      "4    13315\n",
      "2     9097\n",
      "5      878\n",
      "1       15\n",
      "6       11\n",
      "Name: symmetry, dtype: int64\n"
     ]
    }
   ],
   "source": [
    "print(df['symmetry'].value_counts())\n",
    "df['symmetry'] = df['symmetry'].map({\"Ideal\":1, \"Excellent\": 2, \"Very Good\":3, \"Good\":4, \"Fair\":5, \"Poor\":6})\n",
    "print(df['symmetry'].value_counts())"
   ]
  },
  {
   "cell_type": "code",
   "execution_count": 46,
   "id": "308d2b90-c56a-48e7-bd05-2820b4c0c9f1",
   "metadata": {},
   "outputs": [
    {
     "data": {
      "text/plain": [
       "(51330, 20)"
      ]
     },
     "execution_count": 46,
     "metadata": {},
     "output_type": "execute_result"
    }
   ],
   "source": [
    "df.shape"
   ]
  },
  {
   "cell_type": "code",
   "execution_count": 47,
   "id": "9a6a6c98-bdfd-4933-887f-70fcb54da4a1",
   "metadata": {},
   "outputs": [
    {
     "data": {
      "text/plain": [
       "shape               object\n",
       "carat              float64\n",
       "cut                  int64\n",
       "color                int64\n",
       "clarity              int64\n",
       "price              float64\n",
       "certificateID       object\n",
       "depth_pct          float64\n",
       "table_width_pct    float64\n",
       "polish               int64\n",
       "symmetry             int64\n",
       "fluorescence        object\n",
       "crownAngle         float64\n",
       "crownHeight        float64\n",
       "pavilionAngle      float64\n",
       "pavilionDepth      float64\n",
       "measurements        object\n",
       "GIA                  uint8\n",
       "IGI                  uint8\n",
       "Other                uint8\n",
       "dtype: object"
      ]
     },
     "execution_count": 47,
     "metadata": {},
     "output_type": "execute_result"
    }
   ],
   "source": [
    "df.dtypes"
   ]
  },
  {
   "cell_type": "markdown",
   "id": "69596076-33af-4ff3-a700-08e8d1f5bbc0",
   "metadata": {},
   "source": [
    "## Look at the Spread of the Data before Modeling this Time"
   ]
  },
  {
   "cell_type": "code",
   "execution_count": 48,
   "id": "b02e007f-12f8-4a2a-a5d2-672fb32ac616",
   "metadata": {},
   "outputs": [
    {
     "data": {
      "image/png": "[encoded data removed]",
      "text/plain": [
       "<Figure size 432x288 with 1 Axes>"
      ]
     },
     "metadata": {
      "needs_background": "light"
     },
     "output_type": "display_data"
    }
   ],
   "source": [
    "plt.scatter(df['carat'], df['price']);\n",
    "#there are definitely outliers and some spread issues I will need to account for"
   ]
  },
  {
   "cell_type": "code",
   "execution_count": 50,
   "id": "59a678ab-6b15-4463-ab64-c9363957ebd7",
   "metadata": {},
   "outputs": [
    {
     "data": {
      "text/plain": [
       "count    51330.000000\n",
       "mean         1.298742\n",
       "std          1.197229\n",
       "min          0.170000\n",
       "25%          0.710000\n",
       "50%          1.010000\n",
       "75%          1.510000\n",
       "max         81.380000\n",
       "Name: carat, dtype: float64"
      ]
     },
     "execution_count": 50,
     "metadata": {},
     "output_type": "execute_result"
    }
   ],
   "source": [
    "df['carat'].describe()"
   ]
  },
  {
   "cell_type": "code",
   "execution_count": 56,
   "id": "86ca7a14-a1cb-44f2-845c-32f717156d02",
   "metadata": {},
   "outputs": [
    {
     "data": {
      "text/plain": [
       "shape    carat  cut  color  clarity  price      certificateID  depth_pct  table_width_pct  polish  symmetry  fluorescence  crownAngle  crownHeight  pavilionAngle  pavilionDepth  measurements      GIA  IGI  Other\n",
       "Cushion  4.75   3    7      7        46004.07   1182093745     69.5       62.0             2       2         None          0.00        0.0          0.00           0.0            9.76x9.63x6.70    1    0    0        2\n",
       "         3.02   2    4      8        21630.34   5181271451     65.9       70.0             3       4         Medium        0.00        0.0          0.00           0.0            8.34x8.33x5.48    1    0    0        2\n",
       "         4.50   3    7      6        45070.00   2185669581     69.7       62.0             2       2         None          0.00        0.0          0.00           0.0            9.59x9.38x6.54    1    0    0        2\n",
       "         3.01   3    3      4        50975.38   1265321738     69.7       62.0             2       2         None          0.00        0.0          0.00           0.0            8.32x8.30x5.79    1    0    0        2\n",
       "         3.02   2    3      5        38284.62   1273137436     67.7       63.0             2       2         Strong        0.00        0.0          0.00           0.0            8.36x8.33x5.64    1    0    0        2\n",
       "                                                                                                                                                                                                                      ..\n",
       "Emerald  2.02   2    6      5        11092.88   274705899      65.8       61.0             2       3         None          0.00        0.0          0.00           0.0            8.55x6.05x3.98    0    1    0        1\n",
       "                            4        12463.20   5182774573     67.3       64.0             2       2         None          13.55       0.0          51.01          0.0            8.45x6.17x4.15    1    0    0        1\n",
       "                                     12086.13   7261341381     67.7       63.0             2       2         None          0.00        0.0          0.00           0.0            8.10x6.19x4.19    1    0    0        1\n",
       "                            3        13102.87   7266639617     66.4       62.0             2       2         None          13.78       0.0          50.50          0.0            8.46x6.29x4.18    1    0    0        1\n",
       "Radiant  15.25  2    5      6        618509.87  5182341217     69.5       70.0             2       3         None          0.00        0.0          0.00           0.0            14.81x13.21x9.17  1    0    0        1\n",
       "Length: 8657, dtype: int64"
      ]
     },
     "execution_count": 56,
     "metadata": {},
     "output_type": "execute_result"
    }
   ],
   "source": [
    "df[df['carat']>=2].value_counts()\n",
    "#8600 are more than 2 carats (~16%) of the data\n",
    "#try XG boost and see if it works well enough first; otherwise split the data"
   ]
  },
  {
   "cell_type": "markdown",
   "id": "24cd75c1-29a8-4ca7-b707-f4f3becd1c3e",
   "metadata": {},
   "source": [
    "## XG Boost Part (No Carat Cutoff Yet)"
   ]
  },
  {
   "cell_type": "code",
   "execution_count": 57,
   "id": "5ad02e7d-cdc8-4771-b158-686d28580b8f",
   "metadata": {},
   "outputs": [
    {
     "data": {
      "text/html": [
       "<div>\n",
       "<style scoped>\n",
       "    .dataframe tbody tr th:only-of-type {\n",
       "        vertical-align: middle;\n",
       "    }\n",
       "\n",
       "    .dataframe tbody tr th {\n",
       "        vertical-align: top;\n",
       "    }\n",
       "\n",
       "    .dataframe thead th {\n",
       "        text-align: right;\n",
       "    }\n",
       "</style>\n",
       "<table border=\"1\" class=\"dataframe\">\n",
       "  <thead>\n",
       "    <tr style=\"text-align: right;\">\n",
       "      <th></th>\n",
       "      <th>price</th>\n",
       "      <th>carat</th>\n",
       "      <th>cut</th>\n",
       "      <th>clarity</th>\n",
       "      <th>color</th>\n",
       "      <th>Other</th>\n",
       "      <th>IGI</th>\n",
       "      <th>GIA</th>\n",
       "      <th>polish</th>\n",
       "      <th>symmetry</th>\n",
       "    </tr>\n",
       "  </thead>\n",
       "  <tbody>\n",
       "    <tr>\n",
       "      <th>0</th>\n",
       "      <td>53504.69</td>\n",
       "      <td>3.20</td>\n",
       "      <td>2</td>\n",
       "      <td>5</td>\n",
       "      <td>4</td>\n",
       "      <td>0</td>\n",
       "      <td>0</td>\n",
       "      <td>1</td>\n",
       "      <td>3</td>\n",
       "      <td>4</td>\n",
       "    </tr>\n",
       "    <tr>\n",
       "      <th>1</th>\n",
       "      <td>17643.65</td>\n",
       "      <td>2.01</td>\n",
       "      <td>2</td>\n",
       "      <td>6</td>\n",
       "      <td>4</td>\n",
       "      <td>0</td>\n",
       "      <td>0</td>\n",
       "      <td>1</td>\n",
       "      <td>3</td>\n",
       "      <td>3</td>\n",
       "    </tr>\n",
       "    <tr>\n",
       "      <th>2</th>\n",
       "      <td>50939.81</td>\n",
       "      <td>3.22</td>\n",
       "      <td>2</td>\n",
       "      <td>6</td>\n",
       "      <td>2</td>\n",
       "      <td>0</td>\n",
       "      <td>0</td>\n",
       "      <td>1</td>\n",
       "      <td>3</td>\n",
       "      <td>3</td>\n",
       "    </tr>\n",
       "    <tr>\n",
       "      <th>3</th>\n",
       "      <td>36052.16</td>\n",
       "      <td>3.08</td>\n",
       "      <td>3</td>\n",
       "      <td>6</td>\n",
       "      <td>4</td>\n",
       "      <td>0</td>\n",
       "      <td>0</td>\n",
       "      <td>1</td>\n",
       "      <td>3</td>\n",
       "      <td>4</td>\n",
       "    </tr>\n",
       "    <tr>\n",
       "      <th>4</th>\n",
       "      <td>41195.25</td>\n",
       "      <td>3.01</td>\n",
       "      <td>3</td>\n",
       "      <td>5</td>\n",
       "      <td>4</td>\n",
       "      <td>0</td>\n",
       "      <td>0</td>\n",
       "      <td>1</td>\n",
       "      <td>2</td>\n",
       "      <td>4</td>\n",
       "    </tr>\n",
       "  </tbody>\n",
       "</table>\n",
       "</div>"
      ],
      "text/plain": [
       "      price  carat  cut  clarity  color  Other  IGI  GIA  polish  symmetry\n",
       "0  53504.69   3.20    2        5      4      0    0    1       3         4\n",
       "1  17643.65   2.01    2        6      4      0    0    1       3         3\n",
       "2  50939.81   3.22    2        6      2      0    0    1       3         3\n",
       "3  36052.16   3.08    3        6      4      0    0    1       3         4\n",
       "4  41195.25   3.01    3        5      4      0    0    1       2         4"
      ]
     },
     "execution_count": 57,
     "metadata": {},
     "output_type": "execute_result"
    }
   ],
   "source": [
    "#decide which features I want to include\n",
    "df_xg= df[['price', 'carat', 'cut', 'clarity', 'color', 'Other', 'IGI', 'GIA', 'polish', 'symmetry']].copy()\n",
    "df_xg.head()"
   ]
  },
  {
   "cell_type": "code",
   "execution_count": 58,
   "id": "0842e6ea-9d2b-43e5-8d31-0be352f68ddf",
   "metadata": {},
   "outputs": [
    {
     "data": {
      "text/plain": [
       "(51330, 10)"
      ]
     },
     "execution_count": 58,
     "metadata": {},
     "output_type": "execute_result"
    }
   ],
   "source": [
    "df_xg.shape"
   ]
  },
  {
   "cell_type": "code",
   "execution_count": 59,
   "id": "8b1e1562-d276-47fc-b967-5daec1d9ff6e",
   "metadata": {},
   "outputs": [
    {
     "data": {
      "text/plain": [
       "price       0\n",
       "carat       0\n",
       "cut         0\n",
       "clarity     0\n",
       "color       0\n",
       "Other       0\n",
       "IGI         0\n",
       "GIA         0\n",
       "polish      0\n",
       "symmetry    0\n",
       "dtype: int64"
      ]
     },
     "execution_count": 59,
     "metadata": {},
     "output_type": "execute_result"
    }
   ],
   "source": [
    "df_xg.isnull().sum()"
   ]
  },
  {
   "cell_type": "code",
   "execution_count": 61,
   "id": "3904fbd3-54d1-4ed6-8a90-1fc58702a838",
   "metadata": {},
   "outputs": [
    {
     "data": {
      "text/plain": [
       "price       float64\n",
       "carat       float64\n",
       "cut           int64\n",
       "clarity       int64\n",
       "color         int64\n",
       "Other         uint8\n",
       "IGI           uint8\n",
       "GIA           uint8\n",
       "polish        int64\n",
       "symmetry      int64\n",
       "dtype: object"
      ]
     },
     "execution_count": 61,
     "metadata": {},
     "output_type": "execute_result"
    }
   ],
   "source": [
    "df_xg.dtypes"
   ]
  },
  {
   "cell_type": "code",
   "execution_count": 62,
   "id": "39fff439-a812-4cce-be94-912a686451ba",
   "metadata": {},
   "outputs": [
    {
     "name": "stdout",
     "output_type": "stream",
     "text": [
      "(51330,)\n"
     ]
    }
   ],
   "source": [
    "y = df_xg['price']\n",
    "print(y.shape)"
   ]
  },
  {
   "cell_type": "code",
   "execution_count": 63,
   "id": "aa878b3e-5eba-4815-8f47-ef9e8071326b",
   "metadata": {},
   "outputs": [
    {
     "name": "stdout",
     "output_type": "stream",
     "text": [
      "(51330, 9)\n"
     ]
    }
   ],
   "source": [
    "#remove price from features list\n",
    "X = df_xg.drop('price', axis=1)\n",
    "print(X.shape)"
   ]
  },
  {
   "cell_type": "code",
   "execution_count": 64,
   "id": "581e9d18-2d9c-4f83-a841-e214a4d517da",
   "metadata": {},
   "outputs": [],
   "source": [
    "#train, test, split\n",
    "X_train, X_test, y_train, y_test = train_test_split(X, y, random_state=1)"
   ]
  },
  {
   "cell_type": "code",
   "execution_count": 67,
   "id": "3200504c-0cd2-443a-8699-129c848ece6c",
   "metadata": {},
   "outputs": [],
   "source": [
    "#set up the model (arbitrary parameters for now)\n",
    "\n",
    "xgb_model = XGBRegressor(objective = 'reg:linear', n_estimators = 10, seed = 123)"
   ]
  },
  {
   "cell_type": "code",
   "execution_count": 68,
   "id": "e4019b49-884d-46d6-895e-92f78d7a6228",
   "metadata": {},
   "outputs": [
    {
     "name": "stdout",
     "output_type": "stream",
     "text": [
      "[04:44:08] WARNING: /home/conda/feedstock_root/build_artifacts/xgboost-split_1665562802298/work/src/objective/regression_obj.cu:203: reg:linear is now deprecated in favor of reg:squarederror.\n"
     ]
    },
    {
     "data": {
      "text/html": [
       "<style>#sk-container-id-1 {color: black;background-color: white;}#sk-container-id-1 pre{padding: 0;}#sk-container-id-1 div.sk-toggleable {background-color: white;}#sk-container-id-1 label.sk-toggleable__label {cursor: pointer;display: block;width: 100%;margin-bottom: 0;padding: 0.3em;box-sizing: border-box;text-align: center;}#sk-container-id-1 label.sk-toggleable__label-arrow:before {content: \"▸\";float: left;margin-right: 0.25em;color: #696969;}#sk-container-id-1 label.sk-toggleable__label-arrow:hover:before {color: black;}#sk-container-id-1 div.sk-estimator:hover label.sk-toggleable__label-arrow:before {color: black;}#sk-container-id-1 div.sk-toggleable__content {max-height: 0;max-width: 0;overflow: hidden;text-align: left;background-color: #f0f8ff;}#sk-container-id-1 div.sk-toggleable__content pre {margin: 0.2em;color: black;border-radius: 0.25em;background-color: #f0f8ff;}#sk-container-id-1 input.sk-toggleable__control:checked~div.sk-toggleable__content {max-height: 200px;max-width: 100%;overflow: auto;}#sk-container-id-1 input.sk-toggleable__control:checked~label.sk-toggleable__label-arrow:before {content: \"▾\";}#sk-container-id-1 div.sk-estimator input.sk-toggleable__control:checked~label.sk-toggleable__label {background-color: #d4ebff;}#sk-container-id-1 div.sk-label input.sk-toggleable__control:checked~label.sk-toggleable__label {background-color: #d4ebff;}#sk-container-id-1 input.sk-hidden--visually {border: 0;clip: rect(1px 1px 1px 1px);clip: rect(1px, 1px, 1px, 1px);height: 1px;margin: -1px;overflow: hidden;padding: 0;position: absolute;width: 1px;}#sk-container-id-1 div.sk-estimator {font-family: monospace;background-color: #f0f8ff;border: 1px dotted black;border-radius: 0.25em;box-sizing: border-box;margin-bottom: 0.5em;}#sk-container-id-1 div.sk-estimator:hover {background-color: #d4ebff;}#sk-container-id-1 div.sk-parallel-item::after {content: \"\";width: 100%;border-bottom: 1px solid gray;flex-grow: 1;}#sk-container-id-1 div.sk-label:hover label.sk-toggleable__label {background-color: #d4ebff;}#sk-container-id-1 div.sk-serial::before {content: \"\";position: absolute;border-left: 1px solid gray;box-sizing: border-box;top: 0;bottom: 0;left: 50%;z-index: 0;}#sk-container-id-1 div.sk-serial {display: flex;flex-direction: column;align-items: center;background-color: white;padding-right: 0.2em;padding-left: 0.2em;position: relative;}#sk-container-id-1 div.sk-item {position: relative;z-index: 1;}#sk-container-id-1 div.sk-parallel {display: flex;align-items: stretch;justify-content: center;background-color: white;position: relative;}#sk-container-id-1 div.sk-item::before, #sk-container-id-1 div.sk-parallel-item::before {content: \"\";position: absolute;border-left: 1px solid gray;box-sizing: border-box;top: 0;bottom: 0;left: 50%;z-index: -1;}#sk-container-id-1 div.sk-parallel-item {display: flex;flex-direction: column;z-index: 1;position: relative;background-color: white;}#sk-container-id-1 div.sk-parallel-item:first-child::after {align-self: flex-end;width: 50%;}#sk-container-id-1 div.sk-parallel-item:last-child::after {align-self: flex-start;width: 50%;}#sk-container-id-1 div.sk-parallel-item:only-child::after {width: 0;}#sk-container-id-1 div.sk-dashed-wrapped {border: 1px dashed gray;margin: 0 0.4em 0.5em 0.4em;box-sizing: border-box;padding-bottom: 0.4em;background-color: white;}#sk-container-id-1 div.sk-label label {font-family: monospace;font-weight: bold;display: inline-block;line-height: 1.2em;}#sk-container-id-1 div.sk-label-container {text-align: center;}#sk-container-id-1 div.sk-container {/* jupyter's `normalize.less` sets `[hidden] { display: none; }` but bootstrap.min.css set `[hidden] { display: none !important; }` so we also need the `!important` here to be able to override the default hidden behavior on the sphinx rendered scikit-learn.org. See: https://github.com/scikit-learn/scikit-learn/issues/21755 */display: inline-block !important;position: relative;}#sk-container-id-1 div.sk-text-repr-fallback {display: none;}</style><div id=\"sk-container-id-1\" class=\"sk-top-container\"><div class=\"sk-text-repr-fallback\"><pre>XGBRegressor(base_score=0.5, booster=&#x27;gbtree&#x27;, callbacks=None,\n",
       "             colsample_bylevel=1, colsample_bynode=1, colsample_bytree=1,\n",
       "             early_stopping_rounds=None, enable_categorical=False,\n",
       "             eval_metric=None, gamma=0, gpu_id=-1, grow_policy=&#x27;depthwise&#x27;,\n",
       "             importance_type=None, interaction_constraints=&#x27;&#x27;,\n",
       "             learning_rate=0.300000012, max_bin=256, max_cat_to_onehot=4,\n",
       "             max_delta_step=0, max_depth=6, max_leaves=0, min_child_weight=1,\n",
       "             missing=nan, monotone_constraints=&#x27;()&#x27;, n_estimators=10, n_jobs=0,\n",
       "             num_parallel_tree=1, objective=&#x27;reg:linear&#x27;, predictor=&#x27;auto&#x27;,\n",
       "             random_state=123, reg_alpha=0, ...)</pre><b>In a Jupyter environment, please rerun this cell to show the HTML representation or trust the notebook. <br />On GitHub, the HTML representation is unable to render, please try loading this page with nbviewer.org.</b></div><div class=\"sk-container\" hidden><div class=\"sk-item\"><div class=\"sk-estimator sk-toggleable\"><input class=\"sk-toggleable__control sk-hidden--visually\" id=\"sk-estimator-id-1\" type=\"checkbox\" checked><label for=\"sk-estimator-id-1\" class=\"sk-toggleable__label sk-toggleable__label-arrow\">XGBRegressor</label><div class=\"sk-toggleable__content\"><pre>XGBRegressor(base_score=0.5, booster=&#x27;gbtree&#x27;, callbacks=None,\n",
       "             colsample_bylevel=1, colsample_bynode=1, colsample_bytree=1,\n",
       "             early_stopping_rounds=None, enable_categorical=False,\n",
       "             eval_metric=None, gamma=0, gpu_id=-1, grow_policy=&#x27;depthwise&#x27;,\n",
       "             importance_type=None, interaction_constraints=&#x27;&#x27;,\n",
       "             learning_rate=0.300000012, max_bin=256, max_cat_to_onehot=4,\n",
       "             max_delta_step=0, max_depth=6, max_leaves=0, min_child_weight=1,\n",
       "             missing=nan, monotone_constraints=&#x27;()&#x27;, n_estimators=10, n_jobs=0,\n",
       "             num_parallel_tree=1, objective=&#x27;reg:linear&#x27;, predictor=&#x27;auto&#x27;,\n",
       "             random_state=123, reg_alpha=0, ...)</pre></div></div></div></div></div>"
      ],
      "text/plain": [
       "XGBRegressor(base_score=0.5, booster='gbtree', callbacks=None,\n",
       "             colsample_bylevel=1, colsample_bynode=1, colsample_bytree=1,\n",
       "             early_stopping_rounds=None, enable_categorical=False,\n",
       "             eval_metric=None, gamma=0, gpu_id=-1, grow_policy='depthwise',\n",
       "             importance_type=None, interaction_constraints='',\n",
       "             learning_rate=0.300000012, max_bin=256, max_cat_to_onehot=4,\n",
       "             max_delta_step=0, max_depth=6, max_leaves=0, min_child_weight=1,\n",
       "             missing=nan, monotone_constraints='()', n_estimators=10, n_jobs=0,\n",
       "             num_parallel_tree=1, objective='reg:linear', predictor='auto',\n",
       "             random_state=123, reg_alpha=0, ...)"
      ]
     },
     "execution_count": 68,
     "metadata": {},
     "output_type": "execute_result"
    }
   ],
   "source": [
    "#fit the model\n",
    "xgb_model.fit(X_train, y_train)\n",
    "#try the reg:squarederror one later?"
   ]
  },
  {
   "cell_type": "code",
   "execution_count": 69,
   "id": "0d4e1034-b01c-488a-808f-f2ff5aa4b22d",
   "metadata": {},
   "outputs": [],
   "source": [
    "#predict\n",
    "y_preds = xgb_model.predict(X_test)"
   ]
  },
  {
   "cell_type": "code",
   "execution_count": 70,
   "id": "dba6ab7d-ec83-4995-b784-0a557c91322a",
   "metadata": {},
   "outputs": [
    {
     "name": "stdout",
     "output_type": "stream",
     "text": [
      "RMSE :  17910.156363\n"
     ]
    }
   ],
   "source": [
    "#evaluate with RMSE\n",
    "rmse = np.sqrt(mean_squared_error(y_test, y_preds))\n",
    "print(\"RMSE : % f\" %(rmse))\n",
    "#this is pretty high..."
   ]
  },
  {
   "cell_type": "code",
   "execution_count": 78,
   "id": "657ea728-810f-4f8d-bbc1-e3de9812a106",
   "metadata": {},
   "outputs": [
    {
     "data": {
      "text/plain": [
       "10709.357846325689"
      ]
     },
     "execution_count": 78,
     "metadata": {},
     "output_type": "execute_result"
    }
   ],
   "source": [
    "#check this vs. using the average\n",
    "avg_val = y_train.mean()\n",
    "avg_val"
   ]
  },
  {
   "cell_type": "code",
   "execution_count": 79,
   "id": "a29fd37b-9faa-452f-8d68-76b4749ad242",
   "metadata": {},
   "outputs": [
    {
     "data": {
      "text/plain": [
       "array([10709.35784633, 10709.35784633, 10709.35784633, 10709.35784633,\n",
       "       10709.35784633, 10709.35784633, 10709.35784633, 10709.35784633,\n",
       "       10709.35784633, 10709.35784633])"
      ]
     },
     "execution_count": 79,
     "metadata": {},
     "output_type": "execute_result"
    }
   ],
   "source": [
    "#what would the error be if I predicted the average price for all diamonds?\n",
    "comparison = np.full((len(y_test), ), avg_val)\n",
    "comparison[:10]"
   ]
  },
  {
   "cell_type": "code",
   "execution_count": 80,
   "id": "14cf7c3f-fe74-47a8-85fd-7717456593f9",
   "metadata": {},
   "outputs": [
    {
     "data": {
      "text/plain": [
       "array([ 1279.2551,  7550.0356,  1648.2278, 28746.742 ,  4774.1006,\n",
       "        2801.211 ,  4217.3906,  2344.209 ,  1257.1818,  3631.0828],\n",
       "      dtype=float32)"
      ]
     },
     "execution_count": 80,
     "metadata": {},
     "output_type": "execute_result"
    }
   ],
   "source": [
    "#compare that to my predictions\n",
    "y_preds[:10]\n",
    "#very different"
   ]
  },
  {
   "cell_type": "code",
   "execution_count": 81,
   "id": "a5f17a30-d2de-48f6-a752-8fdd236cb203",
   "metadata": {},
   "outputs": [
    {
     "data": {
      "text/plain": [
       "53009.50277210084"
      ]
     },
     "execution_count": 81,
     "metadata": {},
     "output_type": "execute_result"
    }
   ],
   "source": [
    "#compare these two:\n",
    "np.sqrt(mean_squared_error(y_test, comparison))\n",
    "#my RMSE is much better but still high"
   ]
  },
  {
   "cell_type": "code",
   "execution_count": 77,
   "id": "3d52aca7-8d81-411b-919f-0320b096ad49",
   "metadata": {},
   "outputs": [
    {
     "data": {
      "text/plain": [
       "0.89"
      ]
     },
     "execution_count": 77,
     "metadata": {},
     "output_type": "execute_result"
    }
   ],
   "source": [
    "#check r2\n",
    "r2 = metrics.r2_score(y_test, y_preds)\n",
    "round(r2, 2)\n",
    "#it's actually not a bad r2 though"
   ]
  },
  {
   "cell_type": "code",
   "execution_count": 71,
   "id": "0dc9ec24-d40b-4139-b805-da573a38ebf0",
   "metadata": {},
   "outputs": [
    {
     "data": {
      "image/png": "[encoded data removed]",
      "text/plain": [
       "<Figure size 432x432 with 1 Axes>"
      ]
     },
     "metadata": {
      "needs_background": "light"
     },
     "output_type": "display_data"
    }
   ],
   "source": [
    "#plot the values\n",
    "plt.figure(figsize=(6,6))\n",
    "ax = sns.regplot(x = y_preds, \n",
    "                 y = y_test, \n",
    "                 scatter_kws={\"color\": \"black\"}, \n",
    "                 line_kws={\"color\": \"red\"})\n",
    "ax.set(xlabel='predicted values', ylabel='true values');\n",
    "#have to remove those outliers"
   ]
  },
  {
   "cell_type": "code",
   "execution_count": 76,
   "id": "c7d978d4-2b35-4e24-9993-6552eac9b933",
   "metadata": {},
   "outputs": [
    {
     "name": "stderr",
     "output_type": "stream",
     "text": [
      "/home/studio-lab-user/.conda/envs/default/lib/python3.9/site-packages/seaborn/_decorators.py:36: FutureWarning: Pass the following variable as a keyword arg: x. From version 0.12, the only valid positional argument will be `data`, and passing other arguments without an explicit keyword will result in an error or misinterpretation.\n",
      "  warnings.warn(\n"
     ]
    },
    {
     "data": {
      "image/png": "[encoded data removed]",
      "text/plain": [
       "<Figure size 2160x288 with 1 Axes>"
      ]
     },
     "metadata": {
      "needs_background": "light"
     },
     "output_type": "display_data"
    }
   ],
   "source": [
    "plt.figure(figsize=(30,4))\n",
    "sns.boxplot(df['carat'])\n",
    "plt.show()\n",
    "#a lot of outliers for carat..."
   ]
  },
  {
   "cell_type": "code",
   "execution_count": 83,
   "id": "ec02900e-8017-4e32-bbd5-44ca6c558e8a",
   "metadata": {},
   "outputs": [
    {
     "data": {
      "text/plain": [
       "count    5.133000e+04\n",
       "mean     1.069407e+04\n",
       "std      6.230414e+04\n",
       "min      1.202800e+02\n",
       "25%      1.847115e+03\n",
       "50%      3.488650e+03\n",
       "75%      7.786885e+03\n",
       "max      6.554346e+06\n",
       "Name: price, dtype: float64"
      ]
     },
     "execution_count": 83,
     "metadata": {},
     "output_type": "execute_result"
    }
   ],
   "source": [
    "df['price'].describe()"
   ]
  },
  {
   "cell_type": "markdown",
   "id": "f29fceee-a5a7-47e6-a399-bfeb1e41447c",
   "metadata": {},
   "source": [
    "## XG Boost Part (Remove Outliers)"
   ]
  },
  {
   "cell_type": "code",
   "execution_count": 116,
   "id": "440a9c85-a20c-471d-9e4f-4be369b67039",
   "metadata": {},
   "outputs": [
    {
     "data": {
      "text/plain": [
       "shape    carat  cut  color  clarity  price      certificateID  depth_pct  table_width_pct  polish  symmetry  fluorescence  crownAngle  crownHeight  pavilionAngle  pavilionDepth  measurements      GIA  IGI  Other\n",
       "Cushion  4.75   3    7      7        46004.07   1182093745     69.5       62.0             2       2         None          0.0         0.0          0.0            0.0            9.76x9.63x6.70    1    0    0        2\n",
       "         4.50   3    7      6        45070.00   2185669581     69.7       62.0             2       2         None          0.0         0.0          0.0            0.0            9.59x9.38x6.54    1    0    0        2\n",
       "Emerald  3.01   2    6      5        28418.70   5181705105     65.0       67.0             2       3         None          0.0         0.0          0.0            0.0            9.72x7.1x4.61     1    0    0        2\n",
       "Cushion  3.02   2    4      8        21630.34   5181271451     65.9       70.0             3       4         Medium        0.0         0.0          0.0            0.0            8.34x8.33x5.48    1    0    0        2\n",
       "                     3      5        38284.62   1273137436     67.7       63.0             2       2         Strong        0.0         0.0          0.0            0.0            8.36x8.33x5.64    1    0    0        2\n",
       "                                                                                                                                                                                                                      ..\n",
       "Emerald  3.00   2    8      5        15462.77   2161724458     69.1       66.0             3       3         None          0.0         0.0          0.0            0.0            9.08x6.96x4.81    1    0    0        1\n",
       "                     7      5        23709.68   10385420       64.6       71.0             4       4         Medium        0.0         0.0          0.0            0.0            9.35x7.72x4.99    1    0    0        1\n",
       "                                     21032.76   2181651486     66.5       65.0             2       2         Faint         45.5        0.0          58.5           0.0            9.58x7.04x4.68    1    0    0        1\n",
       "                     6      7        27386.15   2177024014     69.8       74.0             3       3         Faint         0.0         0.0          0.0            0.0            9.29x6.93x4.84    1    0    0        1\n",
       "Radiant  15.25  2    5      6        618509.87  5182341217     69.5       70.0             2       3         None          0.0         0.0          0.0            0.0            14.81x13.21x9.17  1    0    0        1\n",
       "Length: 4749, dtype: int64"
      ]
     },
     "execution_count": 116,
     "metadata": {},
     "output_type": "execute_result"
    }
   ],
   "source": [
    "df[df['carat']>=2.5].value_counts()\n",
    "#if I cut it off at 2.5 carats I'd still have >90% of my data"
   ]
  },
  {
   "cell_type": "code",
   "execution_count": 117,
   "id": "722e6a89-1331-4ac3-bbfc-354649924117",
   "metadata": {},
   "outputs": [],
   "source": [
    "#create new dataframe with only diamonds 2.5 carats and below for use in any model\n",
    "df_new = df[(df[\"carat\"]<=2.5)]"
   ]
  },
  {
   "cell_type": "code",
   "execution_count": 118,
   "id": "5ceef1e1-a947-4373-a681-0dd2180cf548",
   "metadata": {},
   "outputs": [
    {
     "name": "stderr",
     "output_type": "stream",
     "text": [
      "/home/studio-lab-user/.conda/envs/default/lib/python3.9/site-packages/seaborn/_decorators.py:36: FutureWarning: Pass the following variable as a keyword arg: x. From version 0.12, the only valid positional argument will be `data`, and passing other arguments without an explicit keyword will result in an error or misinterpretation.\n",
      "  warnings.warn(\n"
     ]
    },
    {
     "data": {
      "image/png": "[encoded data removed]",
      "text/plain": [
       "<Figure size 2160x288 with 1 Axes>"
      ]
     },
     "metadata": {
      "needs_background": "light"
     },
     "output_type": "display_data"
    }
   ],
   "source": [
    "#look at the spread\n",
    "plt.figure(figsize=(30,4))\n",
    "sns.boxplot(df_new['carat'])\n",
    "plt.show()\n",
    "#definitely still has some outliers, but let me try 2.5 as the cut off first"
   ]
  },
  {
   "cell_type": "code",
   "execution_count": 119,
   "id": "3009cbe8-8c23-4af5-8510-88d153609a6a",
   "metadata": {},
   "outputs": [
    {
     "data": {
      "text/plain": [
       "(46799, 20)"
      ]
     },
     "execution_count": 119,
     "metadata": {},
     "output_type": "execute_result"
    }
   ],
   "source": [
    "df_new.shape"
   ]
  },
  {
   "cell_type": "code",
   "execution_count": 120,
   "id": "4d7fe764-e58d-4ce1-a1bc-c2fbd0229ddd",
   "metadata": {},
   "outputs": [
    {
     "data": {
      "text/html": [
       "<div>\n",
       "<style scoped>\n",
       "    .dataframe tbody tr th:only-of-type {\n",
       "        vertical-align: middle;\n",
       "    }\n",
       "\n",
       "    .dataframe tbody tr th {\n",
       "        vertical-align: top;\n",
       "    }\n",
       "\n",
       "    .dataframe thead th {\n",
       "        text-align: right;\n",
       "    }\n",
       "</style>\n",
       "<table border=\"1\" class=\"dataframe\">\n",
       "  <thead>\n",
       "    <tr style=\"text-align: right;\">\n",
       "      <th></th>\n",
       "      <th>price</th>\n",
       "      <th>carat</th>\n",
       "      <th>cut</th>\n",
       "      <th>clarity</th>\n",
       "      <th>color</th>\n",
       "      <th>Other</th>\n",
       "      <th>IGI</th>\n",
       "      <th>GIA</th>\n",
       "      <th>polish</th>\n",
       "      <th>symmetry</th>\n",
       "    </tr>\n",
       "  </thead>\n",
       "  <tbody>\n",
       "    <tr>\n",
       "      <th>1</th>\n",
       "      <td>17643.65</td>\n",
       "      <td>2.01</td>\n",
       "      <td>2</td>\n",
       "      <td>6</td>\n",
       "      <td>4</td>\n",
       "      <td>0</td>\n",
       "      <td>0</td>\n",
       "      <td>1</td>\n",
       "      <td>3</td>\n",
       "      <td>3</td>\n",
       "    </tr>\n",
       "    <tr>\n",
       "      <th>8</th>\n",
       "      <td>17597.72</td>\n",
       "      <td>2.03</td>\n",
       "      <td>2</td>\n",
       "      <td>7</td>\n",
       "      <td>2</td>\n",
       "      <td>0</td>\n",
       "      <td>0</td>\n",
       "      <td>1</td>\n",
       "      <td>3</td>\n",
       "      <td>3</td>\n",
       "    </tr>\n",
       "    <tr>\n",
       "      <th>11</th>\n",
       "      <td>3823.08</td>\n",
       "      <td>0.98</td>\n",
       "      <td>2</td>\n",
       "      <td>6</td>\n",
       "      <td>5</td>\n",
       "      <td>0</td>\n",
       "      <td>0</td>\n",
       "      <td>1</td>\n",
       "      <td>4</td>\n",
       "      <td>4</td>\n",
       "    </tr>\n",
       "    <tr>\n",
       "      <th>13</th>\n",
       "      <td>1718.18</td>\n",
       "      <td>0.70</td>\n",
       "      <td>2</td>\n",
       "      <td>8</td>\n",
       "      <td>1</td>\n",
       "      <td>0</td>\n",
       "      <td>0</td>\n",
       "      <td>1</td>\n",
       "      <td>3</td>\n",
       "      <td>4</td>\n",
       "    </tr>\n",
       "    <tr>\n",
       "      <th>14</th>\n",
       "      <td>7700.00</td>\n",
       "      <td>1.23</td>\n",
       "      <td>2</td>\n",
       "      <td>5</td>\n",
       "      <td>3</td>\n",
       "      <td>0</td>\n",
       "      <td>0</td>\n",
       "      <td>1</td>\n",
       "      <td>2</td>\n",
       "      <td>4</td>\n",
       "    </tr>\n",
       "  </tbody>\n",
       "</table>\n",
       "</div>"
      ],
      "text/plain": [
       "       price  carat  cut  clarity  color  Other  IGI  GIA  polish  symmetry\n",
       "1   17643.65   2.01    2        6      4      0    0    1       3         3\n",
       "8   17597.72   2.03    2        7      2      0    0    1       3         3\n",
       "11   3823.08   0.98    2        6      5      0    0    1       4         4\n",
       "13   1718.18   0.70    2        8      1      0    0    1       3         4\n",
       "14   7700.00   1.23    2        5      3      0    0    1       2         4"
      ]
     },
     "execution_count": 120,
     "metadata": {},
     "output_type": "execute_result"
    }
   ],
   "source": [
    "#decide which features I want to include\n",
    "df_xg2= df_new[['price', 'carat', 'cut', 'clarity', 'color', 'Other', 'IGI', 'GIA', 'polish', 'symmetry']].copy()\n",
    "df_xg2.head()"
   ]
  },
  {
   "cell_type": "code",
   "execution_count": 121,
   "id": "82de537c-d984-480c-a7fe-7a13b5efbb6b",
   "metadata": {},
   "outputs": [
    {
     "data": {
      "text/plain": [
       "(46799, 10)"
      ]
     },
     "execution_count": 121,
     "metadata": {},
     "output_type": "execute_result"
    }
   ],
   "source": [
    "df_xg2.shape"
   ]
  },
  {
   "cell_type": "code",
   "execution_count": 122,
   "id": "1cb0e43d-cf29-41b0-b4b7-fbacc76f9ced",
   "metadata": {},
   "outputs": [
    {
     "data": {
      "text/plain": [
       "price       0\n",
       "carat       0\n",
       "cut         0\n",
       "clarity     0\n",
       "color       0\n",
       "Other       0\n",
       "IGI         0\n",
       "GIA         0\n",
       "polish      0\n",
       "symmetry    0\n",
       "dtype: int64"
      ]
     },
     "execution_count": 122,
     "metadata": {},
     "output_type": "execute_result"
    }
   ],
   "source": [
    "df_xg2.isnull().sum()"
   ]
  },
  {
   "cell_type": "code",
   "execution_count": 123,
   "id": "45383dfb-39e6-4aa6-b1bf-94700826487d",
   "metadata": {},
   "outputs": [
    {
     "data": {
      "text/plain": [
       "price       float64\n",
       "carat       float64\n",
       "cut           int64\n",
       "clarity       int64\n",
       "color         int64\n",
       "Other         uint8\n",
       "IGI           uint8\n",
       "GIA           uint8\n",
       "polish        int64\n",
       "symmetry      int64\n",
       "dtype: object"
      ]
     },
     "execution_count": 123,
     "metadata": {},
     "output_type": "execute_result"
    }
   ],
   "source": [
    "df_xg2.dtypes"
   ]
  },
  {
   "cell_type": "code",
   "execution_count": 124,
   "id": "066cbc6e-e485-4f87-8a79-6ec42467386a",
   "metadata": {},
   "outputs": [
    {
     "name": "stdout",
     "output_type": "stream",
     "text": [
      "(46799,)\n"
     ]
    }
   ],
   "source": [
    "y = df_xg2['price']\n",
    "print(y.shape)"
   ]
  },
  {
   "cell_type": "code",
   "execution_count": 125,
   "id": "b7706a52-859a-44d1-9eab-3346f294257d",
   "metadata": {},
   "outputs": [
    {
     "name": "stdout",
     "output_type": "stream",
     "text": [
      "(46799, 9)\n"
     ]
    }
   ],
   "source": [
    "#remove price from features list\n",
    "X = df_xg2.drop('price', axis=1)\n",
    "print(X.shape)"
   ]
  },
  {
   "cell_type": "code",
   "execution_count": 126,
   "id": "f5163747-f6b9-4720-bc1a-40dc5b3d3c35",
   "metadata": {},
   "outputs": [],
   "source": [
    "#train, test, split\n",
    "X_train, X_test, y_train, y_test = train_test_split(X, y, random_state=1)"
   ]
  },
  {
   "cell_type": "code",
   "execution_count": 127,
   "id": "985825f3-2738-4210-b799-67ad3a7a8312",
   "metadata": {},
   "outputs": [],
   "source": [
    "#set up the model (arbitrary parameters for now)\n",
    "\n",
    "xgb_model = XGBRegressor(objective = 'reg:linear', n_estimators = 10, seed = 123)"
   ]
  },
  {
   "cell_type": "code",
   "execution_count": 128,
   "id": "58354eaa-9c2b-4f92-b02e-52b14beea689",
   "metadata": {},
   "outputs": [
    {
     "name": "stdout",
     "output_type": "stream",
     "text": [
      "[05:03:56] WARNING: /home/conda/feedstock_root/build_artifacts/xgboost-split_1665562802298/work/src/objective/regression_obj.cu:203: reg:linear is now deprecated in favor of reg:squarederror.\n"
     ]
    },
    {
     "data": {
      "text/html": [
       "<style>#sk-container-id-3 {color: black;background-color: white;}#sk-container-id-3 pre{padding: 0;}#sk-container-id-3 div.sk-toggleable {background-color: white;}#sk-container-id-3 label.sk-toggleable__label {cursor: pointer;display: block;width: 100%;margin-bottom: 0;padding: 0.3em;box-sizing: border-box;text-align: center;}#sk-container-id-3 label.sk-toggleable__label-arrow:before {content: \"▸\";float: left;margin-right: 0.25em;color: #696969;}#sk-container-id-3 label.sk-toggleable__label-arrow:hover:before {color: black;}#sk-container-id-3 div.sk-estimator:hover label.sk-toggleable__label-arrow:before {color: black;}#sk-container-id-3 div.sk-toggleable__content {max-height: 0;max-width: 0;overflow: hidden;text-align: left;background-color: #f0f8ff;}#sk-container-id-3 div.sk-toggleable__content pre {margin: 0.2em;color: black;border-radius: 0.25em;background-color: #f0f8ff;}#sk-container-id-3 input.sk-toggleable__control:checked~div.sk-toggleable__content {max-height: 200px;max-width: 100%;overflow: auto;}#sk-container-id-3 input.sk-toggleable__control:checked~label.sk-toggleable__label-arrow:before {content: \"▾\";}#sk-container-id-3 div.sk-estimator input.sk-toggleable__control:checked~label.sk-toggleable__label {background-color: #d4ebff;}#sk-container-id-3 div.sk-label input.sk-toggleable__control:checked~label.sk-toggleable__label {background-color: #d4ebff;}#sk-container-id-3 input.sk-hidden--visually {border: 0;clip: rect(1px 1px 1px 1px);clip: rect(1px, 1px, 1px, 1px);height: 1px;margin: -1px;overflow: hidden;padding: 0;position: absolute;width: 1px;}#sk-container-id-3 div.sk-estimator {font-family: monospace;background-color: #f0f8ff;border: 1px dotted black;border-radius: 0.25em;box-sizing: border-box;margin-bottom: 0.5em;}#sk-container-id-3 div.sk-estimator:hover {background-color: #d4ebff;}#sk-container-id-3 div.sk-parallel-item::after {content: \"\";width: 100%;border-bottom: 1px solid gray;flex-grow: 1;}#sk-container-id-3 div.sk-label:hover label.sk-toggleable__label {background-color: #d4ebff;}#sk-container-id-3 div.sk-serial::before {content: \"\";position: absolute;border-left: 1px solid gray;box-sizing: border-box;top: 0;bottom: 0;left: 50%;z-index: 0;}#sk-container-id-3 div.sk-serial {display: flex;flex-direction: column;align-items: center;background-color: white;padding-right: 0.2em;padding-left: 0.2em;position: relative;}#sk-container-id-3 div.sk-item {position: relative;z-index: 1;}#sk-container-id-3 div.sk-parallel {display: flex;align-items: stretch;justify-content: center;background-color: white;position: relative;}#sk-container-id-3 div.sk-item::before, #sk-container-id-3 div.sk-parallel-item::before {content: \"\";position: absolute;border-left: 1px solid gray;box-sizing: border-box;top: 0;bottom: 0;left: 50%;z-index: -1;}#sk-container-id-3 div.sk-parallel-item {display: flex;flex-direction: column;z-index: 1;position: relative;background-color: white;}#sk-container-id-3 div.sk-parallel-item:first-child::after {align-self: flex-end;width: 50%;}#sk-container-id-3 div.sk-parallel-item:last-child::after {align-self: flex-start;width: 50%;}#sk-container-id-3 div.sk-parallel-item:only-child::after {width: 0;}#sk-container-id-3 div.sk-dashed-wrapped {border: 1px dashed gray;margin: 0 0.4em 0.5em 0.4em;box-sizing: border-box;padding-bottom: 0.4em;background-color: white;}#sk-container-id-3 div.sk-label label {font-family: monospace;font-weight: bold;display: inline-block;line-height: 1.2em;}#sk-container-id-3 div.sk-label-container {text-align: center;}#sk-container-id-3 div.sk-container {/* jupyter's `normalize.less` sets `[hidden] { display: none; }` but bootstrap.min.css set `[hidden] { display: none !important; }` so we also need the `!important` here to be able to override the default hidden behavior on the sphinx rendered scikit-learn.org. See: https://github.com/scikit-learn/scikit-learn/issues/21755 */display: inline-block !important;position: relative;}#sk-container-id-3 div.sk-text-repr-fallback {display: none;}</style><div id=\"sk-container-id-3\" class=\"sk-top-container\"><div class=\"sk-text-repr-fallback\"><pre>XGBRegressor(base_score=0.5, booster=&#x27;gbtree&#x27;, callbacks=None,\n",
       "             colsample_bylevel=1, colsample_bynode=1, colsample_bytree=1,\n",
       "             early_stopping_rounds=None, enable_categorical=False,\n",
       "             eval_metric=None, gamma=0, gpu_id=-1, grow_policy=&#x27;depthwise&#x27;,\n",
       "             importance_type=None, interaction_constraints=&#x27;&#x27;,\n",
       "             learning_rate=0.300000012, max_bin=256, max_cat_to_onehot=4,\n",
       "             max_delta_step=0, max_depth=6, max_leaves=0, min_child_weight=1,\n",
       "             missing=nan, monotone_constraints=&#x27;()&#x27;, n_estimators=10, n_jobs=0,\n",
       "             num_parallel_tree=1, objective=&#x27;reg:linear&#x27;, predictor=&#x27;auto&#x27;,\n",
       "             random_state=123, reg_alpha=0, ...)</pre><b>In a Jupyter environment, please rerun this cell to show the HTML representation or trust the notebook. <br />On GitHub, the HTML representation is unable to render, please try loading this page with nbviewer.org.</b></div><div class=\"sk-container\" hidden><div class=\"sk-item\"><div class=\"sk-estimator sk-toggleable\"><input class=\"sk-toggleable__control sk-hidden--visually\" id=\"sk-estimator-id-3\" type=\"checkbox\" checked><label for=\"sk-estimator-id-3\" class=\"sk-toggleable__label sk-toggleable__label-arrow\">XGBRegressor</label><div class=\"sk-toggleable__content\"><pre>XGBRegressor(base_score=0.5, booster=&#x27;gbtree&#x27;, callbacks=None,\n",
       "             colsample_bylevel=1, colsample_bynode=1, colsample_bytree=1,\n",
       "             early_stopping_rounds=None, enable_categorical=False,\n",
       "             eval_metric=None, gamma=0, gpu_id=-1, grow_policy=&#x27;depthwise&#x27;,\n",
       "             importance_type=None, interaction_constraints=&#x27;&#x27;,\n",
       "             learning_rate=0.300000012, max_bin=256, max_cat_to_onehot=4,\n",
       "             max_delta_step=0, max_depth=6, max_leaves=0, min_child_weight=1,\n",
       "             missing=nan, monotone_constraints=&#x27;()&#x27;, n_estimators=10, n_jobs=0,\n",
       "             num_parallel_tree=1, objective=&#x27;reg:linear&#x27;, predictor=&#x27;auto&#x27;,\n",
       "             random_state=123, reg_alpha=0, ...)</pre></div></div></div></div></div>"
      ],
      "text/plain": [
       "XGBRegressor(base_score=0.5, booster='gbtree', callbacks=None,\n",
       "             colsample_bylevel=1, colsample_bynode=1, colsample_bytree=1,\n",
       "             early_stopping_rounds=None, enable_categorical=False,\n",
       "             eval_metric=None, gamma=0, gpu_id=-1, grow_policy='depthwise',\n",
       "             importance_type=None, interaction_constraints='',\n",
       "             learning_rate=0.300000012, max_bin=256, max_cat_to_onehot=4,\n",
       "             max_delta_step=0, max_depth=6, max_leaves=0, min_child_weight=1,\n",
       "             missing=nan, monotone_constraints='()', n_estimators=10, n_jobs=0,\n",
       "             num_parallel_tree=1, objective='reg:linear', predictor='auto',\n",
       "             random_state=123, reg_alpha=0, ...)"
      ]
     },
     "execution_count": 128,
     "metadata": {},
     "output_type": "execute_result"
    }
   ],
   "source": [
    "#fit the model\n",
    "xgb_model.fit(X_train, y_train)"
   ]
  },
  {
   "cell_type": "code",
   "execution_count": 129,
   "id": "82d1814f-1eaa-4331-af18-1aae78c56129",
   "metadata": {},
   "outputs": [],
   "source": [
    "#predict\n",
    "y_preds = xgb_model.predict(X_test)"
   ]
  },
  {
   "cell_type": "code",
   "execution_count": 130,
   "id": "b854df0f-2e71-431f-9676-3e49c1a44af5",
   "metadata": {},
   "outputs": [
    {
     "name": "stdout",
     "output_type": "stream",
     "text": [
      "RMSE :  1119.833815\n"
     ]
    }
   ],
   "source": [
    "#evaluate with RMSE\n",
    "rmse = np.sqrt(mean_squared_error(y_test, y_preds))\n",
    "print(\"RMSE : % f\" %(rmse))\n",
    "#10x lower!"
   ]
  },
  {
   "cell_type": "code",
   "execution_count": 131,
   "id": "f40a2f28-2652-45de-894a-393e0f1082e1",
   "metadata": {},
   "outputs": [
    {
     "data": {
      "image/png": "[encoded data removed]",
      "text/plain": [
       "<Figure size 432x432 with 1 Axes>"
      ]
     },
     "metadata": {
      "needs_background": "light"
     },
     "output_type": "display_data"
    }
   ],
   "source": [
    "#plot the values\n",
    "plt.figure(figsize=(6,6))\n",
    "ax = sns.regplot(x = y_preds, \n",
    "                 y = y_test, \n",
    "                 scatter_kws={\"color\": \"black\"}, \n",
    "                 line_kws={\"color\": \"red\"})\n",
    "ax.set(xlabel='predicted values', ylabel='true values');\n",
    "#this one looks so much better"
   ]
  },
  {
   "cell_type": "code",
   "execution_count": 132,
   "id": "1d70a445-5412-4f58-8373-f461d001c9d4",
   "metadata": {},
   "outputs": [
    {
     "data": {
      "text/plain": [
       "0.95"
      ]
     },
     "execution_count": 132,
     "metadata": {},
     "output_type": "execute_result"
    }
   ],
   "source": [
    "#check r2\n",
    "r2 = metrics.r2_score(y_test, y_preds)\n",
    "round(r2, 2)\n",
    "#good now"
   ]
  },
  {
   "cell_type": "markdown",
   "id": "8981399c-c033-4557-89a1-048cdbc4f169",
   "metadata": {},
   "source": [
    "## Try to Optimize XG Boost More with Grid Search"
   ]
  },
  {
   "cell_type": "code",
   "execution_count": 133,
   "id": "f5fc1b4b-d574-4477-9158-0dc510a52d4a",
   "metadata": {},
   "outputs": [],
   "source": [
    "#got this from some googling - not sure what all of it means...\n",
    "xgb_gs = XGBRegressor()\n",
    "parameters = {'nthread':[4], #when use hyperthread, xgboost may become slower\n",
    "              'objective':['reg:linear'],\n",
    "              'learning_rate': [.03, 0.05, .07], #so called `eta` value\n",
    "              'max_depth': [5, 6, 7],\n",
    "              'min_child_weight': [4],\n",
    "              'silent': [1],\n",
    "              'subsample': [0.7],\n",
    "              'colsample_bytree': [0.7],\n",
    "              'n_estimators': [500]}"
   ]
  },
  {
   "cell_type": "code",
   "execution_count": 134,
   "id": "3c99dc7f-d82f-47b7-95b6-24b02b551e73",
   "metadata": {},
   "outputs": [],
   "source": [
    "xgb_grid = GridSearchCV(xgb_gs,\n",
    "                        parameters,\n",
    "                        cv = 2,\n",
    "                        n_jobs = 5,\n",
    "                        verbose=True)"
   ]
  },
  {
   "cell_type": "code",
   "execution_count": 135,
   "id": "babefa0a-e53b-428f-83d9-aa278171e264",
   "metadata": {
    "tags": []
   },
   "outputs": [
    {
     "name": "stdout",
     "output_type": "stream",
     "text": [
      "Fitting 2 folds for each of 9 candidates, totalling 18 fits\n",
      "[05:05:14] WARNING: /home/conda/feedstock_root/build_artifacts/xgboost-split_1665562802298/work/src/objective/regression_obj.cu:203: reg:linear is now deprecated in favor of reg:squarederror.\n",
      "[05:05:14] WARNING: /home/conda/feedstock_root/build_artifacts/xgboost-split_1665562802298/work/src/learner.cc:627: \n",
      "Parameters: { \"silent\" } might not be used.\n",
      "\n",
      "  This could be a false alarm, with some parameters getting used by language bindings but\n",
      "  then being mistakenly passed down to XGBoost core, or some parameter actually being used\n",
      "  but getting flagged wrongly here. Please open an issue if you find any such cases.\n",
      "\n",
      "\n",
      "[05:05:14] WARNING: /home/conda/feedstock_root/build_artifacts/xgboost-split_1665562802298/work/src/objective/regression_obj.cu:203: reg:linear is now deprecated in favor of reg:squarederror.\n",
      "[05:05:14] WARNING: /home/conda/feedstock_root/build_artifacts/xgboost-split_1665562802298/work/src/learner.cc:627: \n",
      "Parameters: { \"silent\" } might not be used.\n",
      "\n",
      "  This could be a false alarm, with some parameters getting used by language bindings but\n",
      "  then being mistakenly passed down to XGBoost core, or some parameter actually being used\n",
      "  but getting flagged wrongly here. Please open an issue if you find any such cases.\n",
      "\n",
      "\n",
      "[05:05:14] WARNING: /home/conda/feedstock_root/build_artifacts/xgboost-split_1665562802298/work/src/objective/regression_obj.cu:203: reg:linear is now deprecated in favor of reg:squarederror.\n",
      "[05:05:14] WARNING: /home/conda/feedstock_root/build_artifacts/xgboost-split_1665562802298/work/src/learner.cc:627: \n",
      "Parameters: { \"silent\" } might not be used.\n",
      "\n",
      "  This could be a false alarm, with some parameters getting used by language bindings but\n",
      "  then being mistakenly passed down to XGBoost core, or some parameter actually being used\n",
      "  but getting flagged wrongly here. Please open an issue if you find any such cases.\n",
      "\n",
      "\n",
      "[05:05:14] WARNING: /home/conda/feedstock_root/build_artifacts/xgboost-split_1665562802298/work/src/objective/regression_obj.cu:203: reg:linear is now deprecated in favor of reg:squarederror.\n",
      "[05:05:14] WARNING: /home/conda/feedstock_root/build_artifacts/xgboost-split_1665562802298/work/src/learner.cc:627: \n",
      "Parameters: { \"silent\" } might not be used.\n",
      "\n",
      "  This could be a false alarm, with some parameters getting used by language bindings but\n",
      "  then being mistakenly passed down to XGBoost core, or some parameter actually being used\n",
      "  but getting flagged wrongly here. Please open an issue if you find any such cases.\n",
      "\n",
      "\n",
      "[05:05:15] WARNING: /home/conda/feedstock_root/build_artifacts/xgboost-split_1665562802298/work/src/objective/regression_obj.cu:203: reg:linear is now deprecated in favor of reg:squarederror.\n",
      "[05:05:15] WARNING: /home/conda/feedstock_root/build_artifacts/xgboost-split_1665562802298/work/src/learner.cc:627: \n",
      "Parameters: { \"silent\" } might not be used.\n",
      "\n",
      "  This could be a false alarm, with some parameters getting used by language bindings but\n",
      "  then being mistakenly passed down to XGBoost core, or some parameter actually being used\n",
      "  but getting flagged wrongly here. Please open an issue if you find any such cases.\n",
      "\n",
      "\n",
      "[05:08:50] WARNING: /home/conda/feedstock_root/build_artifacts/xgboost-split_1665562802298/work/src/objective/regression_obj.cu:203: reg:linear is now deprecated in favor of reg:squarederror.\n",
      "[05:08:50] WARNING: /home/conda/feedstock_root/build_artifacts/xgboost-split_1665562802298/work/src/learner.cc:627: \n",
      "Parameters: { \"silent\" } might not be used.\n",
      "\n",
      "  This could be a false alarm, with some parameters getting used by language bindings but\n",
      "  then being mistakenly passed down to XGBoost core, or some parameter actually being used\n",
      "  but getting flagged wrongly here. Please open an issue if you find any such cases.\n",
      "\n",
      "\n",
      "[05:08:57] WARNING: /home/conda/feedstock_root/build_artifacts/xgboost-split_1665562802298/work/src/objective/regression_obj.cu:203: reg:linear is now deprecated in favor of reg:squarederror.\n",
      "[05:08:57] WARNING: /home/conda/feedstock_root/build_artifacts/xgboost-split_1665562802298/work/src/learner.cc:627: \n",
      "Parameters: { \"silent\" } might not be used.\n",
      "\n",
      "  This could be a false alarm, with some parameters getting used by language bindings but\n",
      "  then being mistakenly passed down to XGBoost core, or some parameter actually being used\n",
      "  but getting flagged wrongly here. Please open an issue if you find any such cases.\n",
      "\n",
      "\n",
      "[05:09:44] WARNING: /home/conda/feedstock_root/build_artifacts/xgboost-split_1665562802298/work/src/objective/regression_obj.cu:203: reg:linear is now deprecated in favor of reg:squarederror.\n",
      "[05:09:45] WARNING: /home/conda/feedstock_root/build_artifacts/xgboost-split_1665562802298/work/src/learner.cc:627: \n",
      "Parameters: { \"silent\" } might not be used.\n",
      "\n",
      "  This could be a false alarm, with some parameters getting used by language bindings but\n",
      "  then being mistakenly passed down to XGBoost core, or some parameter actually being used\n",
      "  but getting flagged wrongly here. Please open an issue if you find any such cases.\n",
      "\n",
      "\n",
      "[05:09:51] WARNING: /home/conda/feedstock_root/build_artifacts/xgboost-split_1665562802298/work/src/objective/regression_obj.cu:203: reg:linear is now deprecated in favor of reg:squarederror.\n",
      "[05:09:51] WARNING: /home/conda/feedstock_root/build_artifacts/xgboost-split_1665562802298/work/src/learner.cc:627: \n",
      "Parameters: { \"silent\" } might not be used.\n",
      "\n",
      "  This could be a false alarm, with some parameters getting used by language bindings but\n",
      "  then being mistakenly passed down to XGBoost core, or some parameter actually being used\n",
      "  but getting flagged wrongly here. Please open an issue if you find any such cases.\n",
      "\n",
      "\n",
      "[05:10:30] WARNING: /home/conda/feedstock_root/build_artifacts/xgboost-split_1665562802298/work/src/objective/regression_obj.cu:203: reg:linear is now deprecated in favor of reg:squarederror.\n",
      "[05:10:30] WARNING: /home/conda/feedstock_root/build_artifacts/xgboost-split_1665562802298/work/src/learner.cc:627: \n",
      "Parameters: { \"silent\" } might not be used.\n",
      "\n",
      "  This could be a false alarm, with some parameters getting used by language bindings but\n",
      "  then being mistakenly passed down to XGBoost core, or some parameter actually being used\n",
      "  but getting flagged wrongly here. Please open an issue if you find any such cases.\n",
      "\n",
      "\n",
      "[05:12:38] WARNING: /home/conda/feedstock_root/build_artifacts/xgboost-split_1665562802298/work/src/objective/regression_obj.cu:203: reg:linear is now deprecated in favor of reg:squarederror.\n",
      "[05:12:38] WARNING: /home/conda/feedstock_root/build_artifacts/xgboost-split_1665562802298/work/src/learner.cc:627: \n",
      "Parameters: { \"silent\" } might not be used.\n",
      "\n",
      "  This could be a false alarm, with some parameters getting used by language bindings but\n",
      "  then being mistakenly passed down to XGBoost core, or some parameter actually being used\n",
      "  but getting flagged wrongly here. Please open an issue if you find any such cases.\n",
      "\n",
      "\n",
      "[05:13:27] WARNING: /home/conda/feedstock_root/build_artifacts/xgboost-split_1665562802298/work/src/objective/regression_obj.cu:203: reg:linear is now deprecated in favor of reg:squarederror.\n",
      "[05:13:27] WARNING: /home/conda/feedstock_root/build_artifacts/xgboost-split_1665562802298/work/src/learner.cc:627: \n",
      "Parameters: { \"silent\" } might not be used.\n",
      "\n",
      "  This could be a false alarm, with some parameters getting used by language bindings but\n",
      "  then being mistakenly passed down to XGBoost core, or some parameter actually being used\n",
      "  but getting flagged wrongly here. Please open an issue if you find any such cases.\n",
      "\n",
      "\n",
      "[05:14:20] WARNING: /home/conda/feedstock_root/build_artifacts/xgboost-split_1665562802298/work/src/objective/regression_obj.cu:203: reg:linear is now deprecated in favor of reg:squarederror.\n",
      "[05:14:20] WARNING: /home/conda/feedstock_root/build_artifacts/xgboost-split_1665562802298/work/src/learner.cc:627: \n",
      "Parameters: { \"silent\" } might not be used.\n",
      "\n",
      "  This could be a false alarm, with some parameters getting used by language bindings but\n",
      "  then being mistakenly passed down to XGBoost core, or some parameter actually being used\n",
      "  but getting flagged wrongly here. Please open an issue if you find any such cases.\n",
      "\n",
      "\n",
      "[05:14:22] WARNING: /home/conda/feedstock_root/build_artifacts/xgboost-split_1665562802298/work/src/objective/regression_obj.cu:203: reg:linear is now deprecated in favor of reg:squarederror.\n",
      "[05:14:22] WARNING: /home/conda/feedstock_root/build_artifacts/xgboost-split_1665562802298/work/src/learner.cc:627: \n",
      "Parameters: { \"silent\" } might not be used.\n",
      "\n",
      "  This could be a false alarm, with some parameters getting used by language bindings but\n",
      "  then being mistakenly passed down to XGBoost core, or some parameter actually being used\n",
      "  but getting flagged wrongly here. Please open an issue if you find any such cases.\n",
      "\n",
      "\n",
      "[05:15:08] WARNING: /home/conda/feedstock_root/build_artifacts/xgboost-split_1665562802298/work/src/objective/regression_obj.cu:203: reg:linear is now deprecated in favor of reg:squarederror.\n",
      "[05:15:08] WARNING: /home/conda/feedstock_root/build_artifacts/xgboost-split_1665562802298/work/src/learner.cc:627: \n",
      "Parameters: { \"silent\" } might not be used.\n",
      "\n",
      "  This could be a false alarm, with some parameters getting used by language bindings but\n",
      "  then being mistakenly passed down to XGBoost core, or some parameter actually being used\n",
      "  but getting flagged wrongly here. Please open an issue if you find any such cases.\n",
      "\n",
      "\n",
      "[05:17:50] WARNING: /home/conda/feedstock_root/build_artifacts/xgboost-split_1665562802298/work/src/objective/regression_obj.cu:203: reg:linear is now deprecated in favor of reg:squarederror.\n",
      "[05:17:50] WARNING: /home/conda/feedstock_root/build_artifacts/xgboost-split_1665562802298/work/src/learner.cc:627: \n",
      "Parameters: { \"silent\" } might not be used.\n",
      "\n",
      "  This could be a false alarm, with some parameters getting used by language bindings but\n",
      "  then being mistakenly passed down to XGBoost core, or some parameter actually being used\n",
      "  but getting flagged wrongly here. Please open an issue if you find any such cases.\n",
      "\n",
      "\n",
      "[05:18:00] WARNING: /home/conda/feedstock_root/build_artifacts/xgboost-split_1665562802298/work/src/objective/regression_obj.cu:203: reg:linear is now deprecated in favor of reg:squarederror.\n",
      "[05:18:00] WARNING: /home/conda/feedstock_root/build_artifacts/xgboost-split_1665562802298/work/src/learner.cc:627: \n",
      "Parameters: { \"silent\" } might not be used.\n",
      "\n",
      "  This could be a false alarm, with some parameters getting used by language bindings but\n",
      "  then being mistakenly passed down to XGBoost core, or some parameter actually being used\n",
      "  but getting flagged wrongly here. Please open an issue if you find any such cases.\n",
      "\n",
      "\n",
      "[05:18:06] WARNING: /home/conda/feedstock_root/build_artifacts/xgboost-split_1665562802298/work/src/objective/regression_obj.cu:203: reg:linear is now deprecated in favor of reg:squarederror.\n",
      "[05:18:06] WARNING: /home/conda/feedstock_root/build_artifacts/xgboost-split_1665562802298/work/src/learner.cc:627: \n",
      "Parameters: { \"silent\" } might not be used.\n",
      "\n",
      "  This could be a false alarm, with some parameters getting used by language bindings but\n",
      "  then being mistakenly passed down to XGBoost core, or some parameter actually being used\n",
      "  but getting flagged wrongly here. Please open an issue if you find any such cases.\n",
      "\n",
      "\n",
      "[05:20:04] WARNING: /home/conda/feedstock_root/build_artifacts/xgboost-split_1665562802298/work/src/objective/regression_obj.cu:203: reg:linear is now deprecated in favor of reg:squarederror.\n",
      "[05:20:04] WARNING: /home/conda/feedstock_root/build_artifacts/xgboost-split_1665562802298/work/src/learner.cc:627: \n",
      "Parameters: { \"silent\" } might not be used.\n",
      "\n",
      "  This could be a false alarm, with some parameters getting used by language bindings but\n",
      "  then being mistakenly passed down to XGBoost core, or some parameter actually being used\n",
      "  but getting flagged wrongly here. Please open an issue if you find any such cases.\n",
      "\n",
      "\n"
     ]
    },
    {
     "data": {
      "text/html": [
       "<style>#sk-container-id-4 {color: black;background-color: white;}#sk-container-id-4 pre{padding: 0;}#sk-container-id-4 div.sk-toggleable {background-color: white;}#sk-container-id-4 label.sk-toggleable__label {cursor: pointer;display: block;width: 100%;margin-bottom: 0;padding: 0.3em;box-sizing: border-box;text-align: center;}#sk-container-id-4 label.sk-toggleable__label-arrow:before {content: \"▸\";float: left;margin-right: 0.25em;color: #696969;}#sk-container-id-4 label.sk-toggleable__label-arrow:hover:before {color: black;}#sk-container-id-4 div.sk-estimator:hover label.sk-toggleable__label-arrow:before {color: black;}#sk-container-id-4 div.sk-toggleable__content {max-height: 0;max-width: 0;overflow: hidden;text-align: left;background-color: #f0f8ff;}#sk-container-id-4 div.sk-toggleable__content pre {margin: 0.2em;color: black;border-radius: 0.25em;background-color: #f0f8ff;}#sk-container-id-4 input.sk-toggleable__control:checked~div.sk-toggleable__content {max-height: 200px;max-width: 100%;overflow: auto;}#sk-container-id-4 input.sk-toggleable__control:checked~label.sk-toggleable__label-arrow:before {content: \"▾\";}#sk-container-id-4 div.sk-estimator input.sk-toggleable__control:checked~label.sk-toggleable__label {background-color: #d4ebff;}#sk-container-id-4 div.sk-label input.sk-toggleable__control:checked~label.sk-toggleable__label {background-color: #d4ebff;}#sk-container-id-4 input.sk-hidden--visually {border: 0;clip: rect(1px 1px 1px 1px);clip: rect(1px, 1px, 1px, 1px);height: 1px;margin: -1px;overflow: hidden;padding: 0;position: absolute;width: 1px;}#sk-container-id-4 div.sk-estimator {font-family: monospace;background-color: #f0f8ff;border: 1px dotted black;border-radius: 0.25em;box-sizing: border-box;margin-bottom: 0.5em;}#sk-container-id-4 div.sk-estimator:hover {background-color: #d4ebff;}#sk-container-id-4 div.sk-parallel-item::after {content: \"\";width: 100%;border-bottom: 1px solid gray;flex-grow: 1;}#sk-container-id-4 div.sk-label:hover label.sk-toggleable__label {background-color: #d4ebff;}#sk-container-id-4 div.sk-serial::before {content: \"\";position: absolute;border-left: 1px solid gray;box-sizing: border-box;top: 0;bottom: 0;left: 50%;z-index: 0;}#sk-container-id-4 div.sk-serial {display: flex;flex-direction: column;align-items: center;background-color: white;padding-right: 0.2em;padding-left: 0.2em;position: relative;}#sk-container-id-4 div.sk-item {position: relative;z-index: 1;}#sk-container-id-4 div.sk-parallel {display: flex;align-items: stretch;justify-content: center;background-color: white;position: relative;}#sk-container-id-4 div.sk-item::before, #sk-container-id-4 div.sk-parallel-item::before {content: \"\";position: absolute;border-left: 1px solid gray;box-sizing: border-box;top: 0;bottom: 0;left: 50%;z-index: -1;}#sk-container-id-4 div.sk-parallel-item {display: flex;flex-direction: column;z-index: 1;position: relative;background-color: white;}#sk-container-id-4 div.sk-parallel-item:first-child::after {align-self: flex-end;width: 50%;}#sk-container-id-4 div.sk-parallel-item:last-child::after {align-self: flex-start;width: 50%;}#sk-container-id-4 div.sk-parallel-item:only-child::after {width: 0;}#sk-container-id-4 div.sk-dashed-wrapped {border: 1px dashed gray;margin: 0 0.4em 0.5em 0.4em;box-sizing: border-box;padding-bottom: 0.4em;background-color: white;}#sk-container-id-4 div.sk-label label {font-family: monospace;font-weight: bold;display: inline-block;line-height: 1.2em;}#sk-container-id-4 div.sk-label-container {text-align: center;}#sk-container-id-4 div.sk-container {/* jupyter's `normalize.less` sets `[hidden] { display: none; }` but bootstrap.min.css set `[hidden] { display: none !important; }` so we also need the `!important` here to be able to override the default hidden behavior on the sphinx rendered scikit-learn.org. See: https://github.com/scikit-learn/scikit-learn/issues/21755 */display: inline-block !important;position: relative;}#sk-container-id-4 div.sk-text-repr-fallback {display: none;}</style><div id=\"sk-container-id-4\" class=\"sk-top-container\"><div class=\"sk-text-repr-fallback\"><pre>GridSearchCV(cv=2,\n",
       "             estimator=XGBRegressor(base_score=None, booster=None,\n",
       "                                    callbacks=None, colsample_bylevel=None,\n",
       "                                    colsample_bynode=None,\n",
       "                                    colsample_bytree=None,\n",
       "                                    early_stopping_rounds=None,\n",
       "                                    enable_categorical=False, eval_metric=None,\n",
       "                                    gamma=None, gpu_id=None, grow_policy=None,\n",
       "                                    importance_type=None,\n",
       "                                    interaction_constraints=None,\n",
       "                                    learning_rate=None, max_bin=None,\n",
       "                                    max_cat...\n",
       "                                    monotone_constraints=None, n_estimators=100,\n",
       "                                    n_jobs=None, num_parallel_tree=None,\n",
       "                                    predictor=None, random_state=None,\n",
       "                                    reg_alpha=None, reg_lambda=None, ...),\n",
       "             n_jobs=5,\n",
       "             param_grid={&#x27;colsample_bytree&#x27;: [0.7],\n",
       "                         &#x27;learning_rate&#x27;: [0.03, 0.05, 0.07],\n",
       "                         &#x27;max_depth&#x27;: [5, 6, 7], &#x27;min_child_weight&#x27;: [4],\n",
       "                         &#x27;n_estimators&#x27;: [500], &#x27;nthread&#x27;: [4],\n",
       "                         &#x27;objective&#x27;: [&#x27;reg:linear&#x27;], &#x27;silent&#x27;: [1],\n",
       "                         &#x27;subsample&#x27;: [0.7]},\n",
       "             verbose=True)</pre><b>In a Jupyter environment, please rerun this cell to show the HTML representation or trust the notebook. <br />On GitHub, the HTML representation is unable to render, please try loading this page with nbviewer.org.</b></div><div class=\"sk-container\" hidden><div class=\"sk-item sk-dashed-wrapped\"><div class=\"sk-label-container\"><div class=\"sk-label sk-toggleable\"><input class=\"sk-toggleable__control sk-hidden--visually\" id=\"sk-estimator-id-4\" type=\"checkbox\" ><label for=\"sk-estimator-id-4\" class=\"sk-toggleable__label sk-toggleable__label-arrow\">GridSearchCV</label><div class=\"sk-toggleable__content\"><pre>GridSearchCV(cv=2,\n",
       "             estimator=XGBRegressor(base_score=None, booster=None,\n",
       "                                    callbacks=None, colsample_bylevel=None,\n",
       "                                    colsample_bynode=None,\n",
       "                                    colsample_bytree=None,\n",
       "                                    early_stopping_rounds=None,\n",
       "                                    enable_categorical=False, eval_metric=None,\n",
       "                                    gamma=None, gpu_id=None, grow_policy=None,\n",
       "                                    importance_type=None,\n",
       "                                    interaction_constraints=None,\n",
       "                                    learning_rate=None, max_bin=None,\n",
       "                                    max_cat...\n",
       "                                    monotone_constraints=None, n_estimators=100,\n",
       "                                    n_jobs=None, num_parallel_tree=None,\n",
       "                                    predictor=None, random_state=None,\n",
       "                                    reg_alpha=None, reg_lambda=None, ...),\n",
       "             n_jobs=5,\n",
       "             param_grid={&#x27;colsample_bytree&#x27;: [0.7],\n",
       "                         &#x27;learning_rate&#x27;: [0.03, 0.05, 0.07],\n",
       "                         &#x27;max_depth&#x27;: [5, 6, 7], &#x27;min_child_weight&#x27;: [4],\n",
       "                         &#x27;n_estimators&#x27;: [500], &#x27;nthread&#x27;: [4],\n",
       "                         &#x27;objective&#x27;: [&#x27;reg:linear&#x27;], &#x27;silent&#x27;: [1],\n",
       "                         &#x27;subsample&#x27;: [0.7]},\n",
       "             verbose=True)</pre></div></div></div><div class=\"sk-parallel\"><div class=\"sk-parallel-item\"><div class=\"sk-item\"><div class=\"sk-label-container\"><div class=\"sk-label sk-toggleable\"><input class=\"sk-toggleable__control sk-hidden--visually\" id=\"sk-estimator-id-5\" type=\"checkbox\" ><label for=\"sk-estimator-id-5\" class=\"sk-toggleable__label sk-toggleable__label-arrow\">estimator: XGBRegressor</label><div class=\"sk-toggleable__content\"><pre>XGBRegressor(base_score=None, booster=None, callbacks=None,\n",
       "             colsample_bylevel=None, colsample_bynode=None,\n",
       "             colsample_bytree=None, early_stopping_rounds=None,\n",
       "             enable_categorical=False, eval_metric=None, gamma=None,\n",
       "             gpu_id=None, grow_policy=None, importance_type=None,\n",
       "             interaction_constraints=None, learning_rate=None, max_bin=None,\n",
       "             max_cat_to_onehot=None, max_delta_step=None, max_depth=None,\n",
       "             max_leaves=None, min_child_weight=None, missing=nan,\n",
       "             monotone_constraints=None, n_estimators=100, n_jobs=None,\n",
       "             num_parallel_tree=None, predictor=None, random_state=None,\n",
       "             reg_alpha=None, reg_lambda=None, ...)</pre></div></div></div><div class=\"sk-serial\"><div class=\"sk-item\"><div class=\"sk-estimator sk-toggleable\"><input class=\"sk-toggleable__control sk-hidden--visually\" id=\"sk-estimator-id-6\" type=\"checkbox\" ><label for=\"sk-estimator-id-6\" class=\"sk-toggleable__label sk-toggleable__label-arrow\">XGBRegressor</label><div class=\"sk-toggleable__content\"><pre>XGBRegressor(base_score=None, booster=None, callbacks=None,\n",
       "             colsample_bylevel=None, colsample_bynode=None,\n",
       "             colsample_bytree=None, early_stopping_rounds=None,\n",
       "             enable_categorical=False, eval_metric=None, gamma=None,\n",
       "             gpu_id=None, grow_policy=None, importance_type=None,\n",
       "             interaction_constraints=None, learning_rate=None, max_bin=None,\n",
       "             max_cat_to_onehot=None, max_delta_step=None, max_depth=None,\n",
       "             max_leaves=None, min_child_weight=None, missing=nan,\n",
       "             monotone_constraints=None, n_estimators=100, n_jobs=None,\n",
       "             num_parallel_tree=None, predictor=None, random_state=None,\n",
       "             reg_alpha=None, reg_lambda=None, ...)</pre></div></div></div></div></div></div></div></div></div></div>"
      ],
      "text/plain": [
       "GridSearchCV(cv=2,\n",
       "             estimator=XGBRegressor(base_score=None, booster=None,\n",
       "                                    callbacks=None, colsample_bylevel=None,\n",
       "                                    colsample_bynode=None,\n",
       "                                    colsample_bytree=None,\n",
       "                                    early_stopping_rounds=None,\n",
       "                                    enable_categorical=False, eval_metric=None,\n",
       "                                    gamma=None, gpu_id=None, grow_policy=None,\n",
       "                                    importance_type=None,\n",
       "                                    interaction_constraints=None,\n",
       "                                    learning_rate=None, max_bin=None,\n",
       "                                    max_cat...\n",
       "                                    monotone_constraints=None, n_estimators=100,\n",
       "                                    n_jobs=None, num_parallel_tree=None,\n",
       "                                    predictor=None, random_state=None,\n",
       "                                    reg_alpha=None, reg_lambda=None, ...),\n",
       "             n_jobs=5,\n",
       "             param_grid={'colsample_bytree': [0.7],\n",
       "                         'learning_rate': [0.03, 0.05, 0.07],\n",
       "                         'max_depth': [5, 6, 7], 'min_child_weight': [4],\n",
       "                         'n_estimators': [500], 'nthread': [4],\n",
       "                         'objective': ['reg:linear'], 'silent': [1],\n",
       "                         'subsample': [0.7]},\n",
       "             verbose=True)"
      ]
     },
     "execution_count": 135,
     "metadata": {},
     "output_type": "execute_result"
    }
   ],
   "source": [
    "xgb_grid.fit(X_train,\n",
    "        y_train)"
   ]
  },
  {
   "cell_type": "code",
   "execution_count": 136,
   "id": "71ff2463-db62-428b-9efc-eadeb2ca75fc",
   "metadata": {},
   "outputs": [
    {
     "name": "stdout",
     "output_type": "stream",
     "text": [
      "0.9540301133752954\n",
      "{'colsample_bytree': 0.7, 'learning_rate': 0.03, 'max_depth': 5, 'min_child_weight': 4, 'n_estimators': 500, 'nthread': 4, 'objective': 'reg:linear', 'silent': 1, 'subsample': 0.7}\n"
     ]
    }
   ],
   "source": [
    "print(xgb_grid.best_score_)\n",
    "print(xgb_grid.best_params_)"
   ]
  },
  {
   "cell_type": "code",
   "execution_count": 137,
   "id": "c35f8765-2e3d-4d66-9009-50fb8e68cf1a",
   "metadata": {},
   "outputs": [],
   "source": [
    "#new model with grid search parameters\n",
    "xgb_model = XGBRegressor(colsample_bytree= 0.7, \n",
    "                         learning_rate= 0.03, \n",
    "                         max_depth= 5, \n",
    "                         min_child_weight= 4,\n",
    "                         n_estimators= 500,\n",
    "                         nthread= 4, \n",
    "                         objective= 'reg:linear', \n",
    "                         silent= 1,\n",
    "                         subsample= 0.7)"
   ]
  },
  {
   "cell_type": "code",
   "execution_count": 138,
   "id": "ea2737f8-bfea-4f45-872d-3bf2d74b681b",
   "metadata": {},
   "outputs": [
    {
     "name": "stdout",
     "output_type": "stream",
     "text": [
      "[05:20:41] WARNING: /home/conda/feedstock_root/build_artifacts/xgboost-split_1665562802298/work/src/objective/regression_obj.cu:203: reg:linear is now deprecated in favor of reg:squarederror.\n",
      "[05:20:41] WARNING: /home/conda/feedstock_root/build_artifacts/xgboost-split_1665562802298/work/src/learner.cc:627: \n",
      "Parameters: { \"silent\" } might not be used.\n",
      "\n",
      "  This could be a false alarm, with some parameters getting used by language bindings but\n",
      "  then being mistakenly passed down to XGBoost core, or some parameter actually being used\n",
      "  but getting flagged wrongly here. Please open an issue if you find any such cases.\n",
      "\n",
      "\n"
     ]
    },
    {
     "data": {
      "text/html": [
       "<style>#sk-container-id-5 {color: black;background-color: white;}#sk-container-id-5 pre{padding: 0;}#sk-container-id-5 div.sk-toggleable {background-color: white;}#sk-container-id-5 label.sk-toggleable__label {cursor: pointer;display: block;width: 100%;margin-bottom: 0;padding: 0.3em;box-sizing: border-box;text-align: center;}#sk-container-id-5 label.sk-toggleable__label-arrow:before {content: \"▸\";float: left;margin-right: 0.25em;color: #696969;}#sk-container-id-5 label.sk-toggleable__label-arrow:hover:before {color: black;}#sk-container-id-5 div.sk-estimator:hover label.sk-toggleable__label-arrow:before {color: black;}#sk-container-id-5 div.sk-toggleable__content {max-height: 0;max-width: 0;overflow: hidden;text-align: left;background-color: #f0f8ff;}#sk-container-id-5 div.sk-toggleable__content pre {margin: 0.2em;color: black;border-radius: 0.25em;background-color: #f0f8ff;}#sk-container-id-5 input.sk-toggleable__control:checked~div.sk-toggleable__content {max-height: 200px;max-width: 100%;overflow: auto;}#sk-container-id-5 input.sk-toggleable__control:checked~label.sk-toggleable__label-arrow:before {content: \"▾\";}#sk-container-id-5 div.sk-estimator input.sk-toggleable__control:checked~label.sk-toggleable__label {background-color: #d4ebff;}#sk-container-id-5 div.sk-label input.sk-toggleable__control:checked~label.sk-toggleable__label {background-color: #d4ebff;}#sk-container-id-5 input.sk-hidden--visually {border: 0;clip: rect(1px 1px 1px 1px);clip: rect(1px, 1px, 1px, 1px);height: 1px;margin: -1px;overflow: hidden;padding: 0;position: absolute;width: 1px;}#sk-container-id-5 div.sk-estimator {font-family: monospace;background-color: #f0f8ff;border: 1px dotted black;border-radius: 0.25em;box-sizing: border-box;margin-bottom: 0.5em;}#sk-container-id-5 div.sk-estimator:hover {background-color: #d4ebff;}#sk-container-id-5 div.sk-parallel-item::after {content: \"\";width: 100%;border-bottom: 1px solid gray;flex-grow: 1;}#sk-container-id-5 div.sk-label:hover label.sk-toggleable__label {background-color: #d4ebff;}#sk-container-id-5 div.sk-serial::before {content: \"\";position: absolute;border-left: 1px solid gray;box-sizing: border-box;top: 0;bottom: 0;left: 50%;z-index: 0;}#sk-container-id-5 div.sk-serial {display: flex;flex-direction: column;align-items: center;background-color: white;padding-right: 0.2em;padding-left: 0.2em;position: relative;}#sk-container-id-5 div.sk-item {position: relative;z-index: 1;}#sk-container-id-5 div.sk-parallel {display: flex;align-items: stretch;justify-content: center;background-color: white;position: relative;}#sk-container-id-5 div.sk-item::before, #sk-container-id-5 div.sk-parallel-item::before {content: \"\";position: absolute;border-left: 1px solid gray;box-sizing: border-box;top: 0;bottom: 0;left: 50%;z-index: -1;}#sk-container-id-5 div.sk-parallel-item {display: flex;flex-direction: column;z-index: 1;position: relative;background-color: white;}#sk-container-id-5 div.sk-parallel-item:first-child::after {align-self: flex-end;width: 50%;}#sk-container-id-5 div.sk-parallel-item:last-child::after {align-self: flex-start;width: 50%;}#sk-container-id-5 div.sk-parallel-item:only-child::after {width: 0;}#sk-container-id-5 div.sk-dashed-wrapped {border: 1px dashed gray;margin: 0 0.4em 0.5em 0.4em;box-sizing: border-box;padding-bottom: 0.4em;background-color: white;}#sk-container-id-5 div.sk-label label {font-family: monospace;font-weight: bold;display: inline-block;line-height: 1.2em;}#sk-container-id-5 div.sk-label-container {text-align: center;}#sk-container-id-5 div.sk-container {/* jupyter's `normalize.less` sets `[hidden] { display: none; }` but bootstrap.min.css set `[hidden] { display: none !important; }` so we also need the `!important` here to be able to override the default hidden behavior on the sphinx rendered scikit-learn.org. See: https://github.com/scikit-learn/scikit-learn/issues/21755 */display: inline-block !important;position: relative;}#sk-container-id-5 div.sk-text-repr-fallback {display: none;}</style><div id=\"sk-container-id-5\" class=\"sk-top-container\"><div class=\"sk-text-repr-fallback\"><pre>XGBRegressor(base_score=0.5, booster=&#x27;gbtree&#x27;, callbacks=None,\n",
       "             colsample_bylevel=1, colsample_bynode=1, colsample_bytree=0.7,\n",
       "             early_stopping_rounds=None, enable_categorical=False,\n",
       "             eval_metric=None, gamma=0, gpu_id=-1, grow_policy=&#x27;depthwise&#x27;,\n",
       "             importance_type=None, interaction_constraints=&#x27;&#x27;,\n",
       "             learning_rate=0.03, max_bin=256, max_cat_to_onehot=4,\n",
       "             max_delta_step=0, max_depth=5, max_leaves=0, min_child_weight=4,\n",
       "             missing=nan, monotone_constraints=&#x27;()&#x27;, n_estimators=500, n_jobs=4,\n",
       "             nthread=4, num_parallel_tree=1, objective=&#x27;reg:linear&#x27;,\n",
       "             predictor=&#x27;auto&#x27;, random_state=0, ...)</pre><b>In a Jupyter environment, please rerun this cell to show the HTML representation or trust the notebook. <br />On GitHub, the HTML representation is unable to render, please try loading this page with nbviewer.org.</b></div><div class=\"sk-container\" hidden><div class=\"sk-item\"><div class=\"sk-estimator sk-toggleable\"><input class=\"sk-toggleable__control sk-hidden--visually\" id=\"sk-estimator-id-7\" type=\"checkbox\" checked><label for=\"sk-estimator-id-7\" class=\"sk-toggleable__label sk-toggleable__label-arrow\">XGBRegressor</label><div class=\"sk-toggleable__content\"><pre>XGBRegressor(base_score=0.5, booster=&#x27;gbtree&#x27;, callbacks=None,\n",
       "             colsample_bylevel=1, colsample_bynode=1, colsample_bytree=0.7,\n",
       "             early_stopping_rounds=None, enable_categorical=False,\n",
       "             eval_metric=None, gamma=0, gpu_id=-1, grow_policy=&#x27;depthwise&#x27;,\n",
       "             importance_type=None, interaction_constraints=&#x27;&#x27;,\n",
       "             learning_rate=0.03, max_bin=256, max_cat_to_onehot=4,\n",
       "             max_delta_step=0, max_depth=5, max_leaves=0, min_child_weight=4,\n",
       "             missing=nan, monotone_constraints=&#x27;()&#x27;, n_estimators=500, n_jobs=4,\n",
       "             nthread=4, num_parallel_tree=1, objective=&#x27;reg:linear&#x27;,\n",
       "             predictor=&#x27;auto&#x27;, random_state=0, ...)</pre></div></div></div></div></div>"
      ],
      "text/plain": [
       "XGBRegressor(base_score=0.5, booster='gbtree', callbacks=None,\n",
       "             colsample_bylevel=1, colsample_bynode=1, colsample_bytree=0.7,\n",
       "             early_stopping_rounds=None, enable_categorical=False,\n",
       "             eval_metric=None, gamma=0, gpu_id=-1, grow_policy='depthwise',\n",
       "             importance_type=None, interaction_constraints='',\n",
       "             learning_rate=0.03, max_bin=256, max_cat_to_onehot=4,\n",
       "             max_delta_step=0, max_depth=5, max_leaves=0, min_child_weight=4,\n",
       "             missing=nan, monotone_constraints='()', n_estimators=500, n_jobs=4,\n",
       "             nthread=4, num_parallel_tree=1, objective='reg:linear',\n",
       "             predictor='auto', random_state=0, ...)"
      ]
     },
     "execution_count": 138,
     "metadata": {},
     "output_type": "execute_result"
    }
   ],
   "source": [
    "#fit the model\n",
    "xgb_model.fit(X_train, y_train)"
   ]
  },
  {
   "cell_type": "code",
   "execution_count": 140,
   "id": "38ae4478-6905-4ca4-9c1f-e4d6f12a71ef",
   "metadata": {},
   "outputs": [],
   "source": [
    "#predict\n",
    "y_preds = xgb_model.predict(X_test)"
   ]
  },
  {
   "cell_type": "code",
   "execution_count": 141,
   "id": "e051f623-d393-4366-b47f-f2e7daaf94ae",
   "metadata": {},
   "outputs": [
    {
     "name": "stdout",
     "output_type": "stream",
     "text": [
      "RMSE :  1075.244015\n"
     ]
    }
   ],
   "source": [
    "#evaluate with RMSE\n",
    "rmse = np.sqrt(mean_squared_error(y_test, y_preds))\n",
    "print(\"RMSE : % f\" %(rmse))\n",
    "#a little lower"
   ]
  },
  {
   "cell_type": "code",
   "execution_count": 142,
   "id": "0fe022e0-4344-4e01-ac6f-ed2f593a5031",
   "metadata": {},
   "outputs": [
    {
     "data": {
      "text/plain": [
       "0.95"
      ]
     },
     "execution_count": 142,
     "metadata": {},
     "output_type": "execute_result"
    }
   ],
   "source": [
    "#check r2\n",
    "r2 = metrics.r2_score(y_test, y_preds)\n",
    "round(r2, 2)\n",
    "#same r2"
   ]
  },
  {
   "cell_type": "code",
   "execution_count": 143,
   "id": "9010b820-8363-40c4-b6fe-f2e1204e81ee",
   "metadata": {},
   "outputs": [],
   "source": [
    "#try with the reg:squarederror instead?\n",
    "#new model with grid search parameters but using squarederror\n",
    "xgb_model = XGBRegressor(colsample_bytree= 0.7, \n",
    "                         learning_rate= 0.03, \n",
    "                         max_depth= 5, \n",
    "                         min_child_weight= 4,\n",
    "                         n_estimators= 500,\n",
    "                         nthread= 4, \n",
    "                         objective= 'reg:squarederror', \n",
    "                         silent= 1,\n",
    "                         subsample= 0.7)"
   ]
  },
  {
   "cell_type": "code",
   "execution_count": 144,
   "id": "59fe241d-560f-434e-9370-fdaf221eff76",
   "metadata": {},
   "outputs": [
    {
     "name": "stdout",
     "output_type": "stream",
     "text": [
      "[05:22:38] WARNING: /home/conda/feedstock_root/build_artifacts/xgboost-split_1665562802298/work/src/learner.cc:627: \n",
      "Parameters: { \"silent\" } might not be used.\n",
      "\n",
      "  This could be a false alarm, with some parameters getting used by language bindings but\n",
      "  then being mistakenly passed down to XGBoost core, or some parameter actually being used\n",
      "  but getting flagged wrongly here. Please open an issue if you find any such cases.\n",
      "\n",
      "\n"
     ]
    },
    {
     "data": {
      "text/html": [
       "<style>#sk-container-id-6 {color: black;background-color: white;}#sk-container-id-6 pre{padding: 0;}#sk-container-id-6 div.sk-toggleable {background-color: white;}#sk-container-id-6 label.sk-toggleable__label {cursor: pointer;display: block;width: 100%;margin-bottom: 0;padding: 0.3em;box-sizing: border-box;text-align: center;}#sk-container-id-6 label.sk-toggleable__label-arrow:before {content: \"▸\";float: left;margin-right: 0.25em;color: #696969;}#sk-container-id-6 label.sk-toggleable__label-arrow:hover:before {color: black;}#sk-container-id-6 div.sk-estimator:hover label.sk-toggleable__label-arrow:before {color: black;}#sk-container-id-6 div.sk-toggleable__content {max-height: 0;max-width: 0;overflow: hidden;text-align: left;background-color: #f0f8ff;}#sk-container-id-6 div.sk-toggleable__content pre {margin: 0.2em;color: black;border-radius: 0.25em;background-color: #f0f8ff;}#sk-container-id-6 input.sk-toggleable__control:checked~div.sk-toggleable__content {max-height: 200px;max-width: 100%;overflow: auto;}#sk-container-id-6 input.sk-toggleable__control:checked~label.sk-toggleable__label-arrow:before {content: \"▾\";}#sk-container-id-6 div.sk-estimator input.sk-toggleable__control:checked~label.sk-toggleable__label {background-color: #d4ebff;}#sk-container-id-6 div.sk-label input.sk-toggleable__control:checked~label.sk-toggleable__label {background-color: #d4ebff;}#sk-container-id-6 input.sk-hidden--visually {border: 0;clip: rect(1px 1px 1px 1px);clip: rect(1px, 1px, 1px, 1px);height: 1px;margin: -1px;overflow: hidden;padding: 0;position: absolute;width: 1px;}#sk-container-id-6 div.sk-estimator {font-family: monospace;background-color: #f0f8ff;border: 1px dotted black;border-radius: 0.25em;box-sizing: border-box;margin-bottom: 0.5em;}#sk-container-id-6 div.sk-estimator:hover {background-color: #d4ebff;}#sk-container-id-6 div.sk-parallel-item::after {content: \"\";width: 100%;border-bottom: 1px solid gray;flex-grow: 1;}#sk-container-id-6 div.sk-label:hover label.sk-toggleable__label {background-color: #d4ebff;}#sk-container-id-6 div.sk-serial::before {content: \"\";position: absolute;border-left: 1px solid gray;box-sizing: border-box;top: 0;bottom: 0;left: 50%;z-index: 0;}#sk-container-id-6 div.sk-serial {display: flex;flex-direction: column;align-items: center;background-color: white;padding-right: 0.2em;padding-left: 0.2em;position: relative;}#sk-container-id-6 div.sk-item {position: relative;z-index: 1;}#sk-container-id-6 div.sk-parallel {display: flex;align-items: stretch;justify-content: center;background-color: white;position: relative;}#sk-container-id-6 div.sk-item::before, #sk-container-id-6 div.sk-parallel-item::before {content: \"\";position: absolute;border-left: 1px solid gray;box-sizing: border-box;top: 0;bottom: 0;left: 50%;z-index: -1;}#sk-container-id-6 div.sk-parallel-item {display: flex;flex-direction: column;z-index: 1;position: relative;background-color: white;}#sk-container-id-6 div.sk-parallel-item:first-child::after {align-self: flex-end;width: 50%;}#sk-container-id-6 div.sk-parallel-item:last-child::after {align-self: flex-start;width: 50%;}#sk-container-id-6 div.sk-parallel-item:only-child::after {width: 0;}#sk-container-id-6 div.sk-dashed-wrapped {border: 1px dashed gray;margin: 0 0.4em 0.5em 0.4em;box-sizing: border-box;padding-bottom: 0.4em;background-color: white;}#sk-container-id-6 div.sk-label label {font-family: monospace;font-weight: bold;display: inline-block;line-height: 1.2em;}#sk-container-id-6 div.sk-label-container {text-align: center;}#sk-container-id-6 div.sk-container {/* jupyter's `normalize.less` sets `[hidden] { display: none; }` but bootstrap.min.css set `[hidden] { display: none !important; }` so we also need the `!important` here to be able to override the default hidden behavior on the sphinx rendered scikit-learn.org. See: https://github.com/scikit-learn/scikit-learn/issues/21755 */display: inline-block !important;position: relative;}#sk-container-id-6 div.sk-text-repr-fallback {display: none;}</style><div id=\"sk-container-id-6\" class=\"sk-top-container\"><div class=\"sk-text-repr-fallback\"><pre>XGBRegressor(base_score=0.5, booster=&#x27;gbtree&#x27;, callbacks=None,\n",
       "             colsample_bylevel=1, colsample_bynode=1, colsample_bytree=0.7,\n",
       "             early_stopping_rounds=None, enable_categorical=False,\n",
       "             eval_metric=None, gamma=0, gpu_id=-1, grow_policy=&#x27;depthwise&#x27;,\n",
       "             importance_type=None, interaction_constraints=&#x27;&#x27;,\n",
       "             learning_rate=0.03, max_bin=256, max_cat_to_onehot=4,\n",
       "             max_delta_step=0, max_depth=5, max_leaves=0, min_child_weight=4,\n",
       "             missing=nan, monotone_constraints=&#x27;()&#x27;, n_estimators=500, n_jobs=4,\n",
       "             nthread=4, num_parallel_tree=1, predictor=&#x27;auto&#x27;, random_state=0,\n",
       "             reg_alpha=0, ...)</pre><b>In a Jupyter environment, please rerun this cell to show the HTML representation or trust the notebook. <br />On GitHub, the HTML representation is unable to render, please try loading this page with nbviewer.org.</b></div><div class=\"sk-container\" hidden><div class=\"sk-item\"><div class=\"sk-estimator sk-toggleable\"><input class=\"sk-toggleable__control sk-hidden--visually\" id=\"sk-estimator-id-8\" type=\"checkbox\" checked><label for=\"sk-estimator-id-8\" class=\"sk-toggleable__label sk-toggleable__label-arrow\">XGBRegressor</label><div class=\"sk-toggleable__content\"><pre>XGBRegressor(base_score=0.5, booster=&#x27;gbtree&#x27;, callbacks=None,\n",
       "             colsample_bylevel=1, colsample_bynode=1, colsample_bytree=0.7,\n",
       "             early_stopping_rounds=None, enable_categorical=False,\n",
       "             eval_metric=None, gamma=0, gpu_id=-1, grow_policy=&#x27;depthwise&#x27;,\n",
       "             importance_type=None, interaction_constraints=&#x27;&#x27;,\n",
       "             learning_rate=0.03, max_bin=256, max_cat_to_onehot=4,\n",
       "             max_delta_step=0, max_depth=5, max_leaves=0, min_child_weight=4,\n",
       "             missing=nan, monotone_constraints=&#x27;()&#x27;, n_estimators=500, n_jobs=4,\n",
       "             nthread=4, num_parallel_tree=1, predictor=&#x27;auto&#x27;, random_state=0,\n",
       "             reg_alpha=0, ...)</pre></div></div></div></div></div>"
      ],
      "text/plain": [
       "XGBRegressor(base_score=0.5, booster='gbtree', callbacks=None,\n",
       "             colsample_bylevel=1, colsample_bynode=1, colsample_bytree=0.7,\n",
       "             early_stopping_rounds=None, enable_categorical=False,\n",
       "             eval_metric=None, gamma=0, gpu_id=-1, grow_policy='depthwise',\n",
       "             importance_type=None, interaction_constraints='',\n",
       "             learning_rate=0.03, max_bin=256, max_cat_to_onehot=4,\n",
       "             max_delta_step=0, max_depth=5, max_leaves=0, min_child_weight=4,\n",
       "             missing=nan, monotone_constraints='()', n_estimators=500, n_jobs=4,\n",
       "             nthread=4, num_parallel_tree=1, predictor='auto', random_state=0,\n",
       "             reg_alpha=0, ...)"
      ]
     },
     "execution_count": 144,
     "metadata": {},
     "output_type": "execute_result"
    }
   ],
   "source": [
    "#fit the model\n",
    "xgb_model.fit(X_train, y_train)"
   ]
  },
  {
   "cell_type": "code",
   "execution_count": 145,
   "id": "dd5a3f88-8439-4f8e-a5da-b289c2e7eebb",
   "metadata": {},
   "outputs": [],
   "source": [
    "#predict\n",
    "y_preds = xgb_model.predict(X_test)"
   ]
  },
  {
   "cell_type": "code",
   "execution_count": 146,
   "id": "aae36d21-b4fc-438a-82aa-5bcfefd08a16",
   "metadata": {},
   "outputs": [
    {
     "name": "stdout",
     "output_type": "stream",
     "text": [
      "RMSE :  1075.244015\n"
     ]
    }
   ],
   "source": [
    "#evaluate with RMSE\n",
    "rmse = np.sqrt(mean_squared_error(y_test, y_preds))\n",
    "print(\"RMSE : % f\" %(rmse))\n",
    "#same thing"
   ]
  },
  {
   "cell_type": "code",
   "execution_count": 147,
   "id": "860bde41-cc11-4847-90df-3a44e7da3440",
   "metadata": {},
   "outputs": [
    {
     "data": {
      "text/plain": [
       "0.95"
      ]
     },
     "execution_count": 147,
     "metadata": {},
     "output_type": "execute_result"
    }
   ],
   "source": [
    "#check r2\n",
    "r2 = metrics.r2_score(y_test, y_preds)\n",
    "round(r2, 2)\n",
    "#same r2\n",
    "#also same"
   ]
  },
  {
   "cell_type": "code",
   "execution_count": 148,
   "id": "02e3374f-4212-4b0d-9375-90c25359956b",
   "metadata": {},
   "outputs": [
    {
     "data": {
      "image/png": "[encoded data removed]",
      "text/plain": [
       "<Figure size 432x432 with 1 Axes>"
      ]
     },
     "metadata": {
      "needs_background": "light"
     },
     "output_type": "display_data"
    }
   ],
   "source": [
    "#final plot\n",
    "plt.figure(figsize=(6,6))\n",
    "ax = sns.regplot(x = y_preds, \n",
    "                 y = y_test, \n",
    "                 scatter_kws={\"color\": \"black\"}, \n",
    "                 line_kws={\"color\": \"red\"})\n",
    "ax.set(xlabel='predicted values', ylabel='true values');"
   ]
  },
  {
   "cell_type": "code",
   "execution_count": null,
   "id": "995153bc-79f9-42c3-9c58-29d579f29ee1",
   "metadata": {},
   "outputs": [],
   "source": [
    "#add CV?"
   ]
  },
  {
   "cell_type": "code",
   "execution_count": null,
   "id": "6bdf2b1e-7082-460e-92d8-178937e7902b",
   "metadata": {},
   "outputs": [],
   "source": []
  },
  {
   "cell_type": "code",
   "execution_count": null,
   "id": "99bdd113-8e1e-4ba2-bd10-9ff81645af8c",
   "metadata": {},
   "outputs": [],
   "source": []
  },
  {
   "cell_type": "code",
   "execution_count": null,
   "id": "a1965ce0-d51c-435c-be01-130af359d820",
   "metadata": {},
   "outputs": [],
   "source": []
  },
  {
   "cell_type": "code",
   "execution_count": null,
   "id": "355cdd79-a93c-42ef-b1e6-f0e79a2291e1",
   "metadata": {},
   "outputs": [],
   "source": []
  },
  {
   "cell_type": "code",
   "execution_count": 235,
   "id": "b6a7c475-506c-49ae-bd36-f226d12eaf05",
   "metadata": {},
   "outputs": [
    {
     "data": {
      "text/html": [
       "<div>\n",
       "<style scoped>\n",
       "    .dataframe tbody tr th:only-of-type {\n",
       "        vertical-align: middle;\n",
       "    }\n",
       "\n",
       "    .dataframe tbody tr th {\n",
       "        vertical-align: top;\n",
       "    }\n",
       "\n",
       "    .dataframe thead th {\n",
       "        text-align: right;\n",
       "    }\n",
       "</style>\n",
       "<table border=\"1\" class=\"dataframe\">\n",
       "  <thead>\n",
       "    <tr style=\"text-align: right;\">\n",
       "      <th></th>\n",
       "      <th>carat</th>\n",
       "      <th>cut</th>\n",
       "      <th>color</th>\n",
       "      <th>clarity</th>\n",
       "      <th>price</th>\n",
       "      <th>depth_pct</th>\n",
       "      <th>table_width_pct</th>\n",
       "      <th>polish</th>\n",
       "      <th>symmetry</th>\n",
       "      <th>crownAngle</th>\n",
       "      <th>crownHeight</th>\n",
       "      <th>pavilionAngle</th>\n",
       "      <th>pavilionDepth</th>\n",
       "      <th>GIA</th>\n",
       "      <th>IGI</th>\n",
       "      <th>Other</th>\n",
       "    </tr>\n",
       "  </thead>\n",
       "  <tbody>\n",
       "    <tr>\n",
       "      <th>carat</th>\n",
       "      <td>1.000000</td>\n",
       "      <td>-0.050591</td>\n",
       "      <td>0.171670</td>\n",
       "      <td>0.132576</td>\n",
       "      <td>0.637117</td>\n",
       "      <td>-0.010548</td>\n",
       "      <td>0.007491</td>\n",
       "      <td>-0.060851</td>\n",
       "      <td>-0.062518</td>\n",
       "      <td>-0.081628</td>\n",
       "      <td>0.068631</td>\n",
       "      <td>-0.089084</td>\n",
       "      <td>0.068405</td>\n",
       "      <td>-0.056137</td>\n",
       "      <td>0.018278</td>\n",
       "      <td>0.100094</td>\n",
       "    </tr>\n",
       "    <tr>\n",
       "      <th>cut</th>\n",
       "      <td>-0.050591</td>\n",
       "      <td>1.000000</td>\n",
       "      <td>0.089870</td>\n",
       "      <td>0.160564</td>\n",
       "      <td>-0.045399</td>\n",
       "      <td>0.372406</td>\n",
       "      <td>0.127114</td>\n",
       "      <td>0.477362</td>\n",
       "      <td>0.680819</td>\n",
       "      <td>-0.031207</td>\n",
       "      <td>0.071119</td>\n",
       "      <td>-0.095261</td>\n",
       "      <td>0.077172</td>\n",
       "      <td>-0.011728</td>\n",
       "      <td>0.030142</td>\n",
       "      <td>-0.041922</td>\n",
       "    </tr>\n",
       "    <tr>\n",
       "      <th>color</th>\n",
       "      <td>0.171670</td>\n",
       "      <td>0.089870</td>\n",
       "      <td>1.000000</td>\n",
       "      <td>0.121075</td>\n",
       "      <td>-0.003480</td>\n",
       "      <td>0.050699</td>\n",
       "      <td>0.000287</td>\n",
       "      <td>0.042824</td>\n",
       "      <td>0.062533</td>\n",
       "      <td>-0.044856</td>\n",
       "      <td>-0.011096</td>\n",
       "      <td>-0.102827</td>\n",
       "      <td>-0.011259</td>\n",
       "      <td>-0.150830</td>\n",
       "      <td>0.151462</td>\n",
       "      <td>0.024625</td>\n",
       "    </tr>\n",
       "    <tr>\n",
       "      <th>clarity</th>\n",
       "      <td>0.132576</td>\n",
       "      <td>0.160564</td>\n",
       "      <td>0.121075</td>\n",
       "      <td>1.000000</td>\n",
       "      <td>-0.017231</td>\n",
       "      <td>0.051504</td>\n",
       "      <td>0.003100</td>\n",
       "      <td>0.176263</td>\n",
       "      <td>0.145407</td>\n",
       "      <td>-0.066286</td>\n",
       "      <td>0.036141</td>\n",
       "      <td>-0.140621</td>\n",
       "      <td>0.034632</td>\n",
       "      <td>-0.051956</td>\n",
       "      <td>0.037043</td>\n",
       "      <td>0.044599</td>\n",
       "    </tr>\n",
       "    <tr>\n",
       "      <th>price</th>\n",
       "      <td>0.637117</td>\n",
       "      <td>-0.045399</td>\n",
       "      <td>-0.003480</td>\n",
       "      <td>-0.017231</td>\n",
       "      <td>1.000000</td>\n",
       "      <td>-0.027171</td>\n",
       "      <td>0.005490</td>\n",
       "      <td>-0.036267</td>\n",
       "      <td>-0.044734</td>\n",
       "      <td>-0.020073</td>\n",
       "      <td>0.027495</td>\n",
       "      <td>-0.021929</td>\n",
       "      <td>0.027763</td>\n",
       "      <td>-0.011505</td>\n",
       "      <td>-0.005593</td>\n",
       "      <td>0.042807</td>\n",
       "    </tr>\n",
       "    <tr>\n",
       "      <th>depth_pct</th>\n",
       "      <td>-0.010548</td>\n",
       "      <td>0.372406</td>\n",
       "      <td>0.050699</td>\n",
       "      <td>0.051504</td>\n",
       "      <td>-0.027171</td>\n",
       "      <td>1.000000</td>\n",
       "      <td>-0.114810</td>\n",
       "      <td>0.013411</td>\n",
       "      <td>0.179377</td>\n",
       "      <td>0.054551</td>\n",
       "      <td>-0.030638</td>\n",
       "      <td>0.031811</td>\n",
       "      <td>-0.045749</td>\n",
       "      <td>-0.067454</td>\n",
       "      <td>0.078489</td>\n",
       "      <td>-0.014654</td>\n",
       "    </tr>\n",
       "    <tr>\n",
       "      <th>table_width_pct</th>\n",
       "      <td>0.007491</td>\n",
       "      <td>0.127114</td>\n",
       "      <td>0.000287</td>\n",
       "      <td>0.003100</td>\n",
       "      <td>0.005490</td>\n",
       "      <td>-0.114810</td>\n",
       "      <td>1.000000</td>\n",
       "      <td>0.165804</td>\n",
       "      <td>0.141389</td>\n",
       "      <td>-0.038417</td>\n",
       "      <td>0.021449</td>\n",
       "      <td>-0.027021</td>\n",
       "      <td>0.042893</td>\n",
       "      <td>0.077624</td>\n",
       "      <td>-0.076569</td>\n",
       "      <td>-0.015969</td>\n",
       "    </tr>\n",
       "    <tr>\n",
       "      <th>polish</th>\n",
       "      <td>-0.060851</td>\n",
       "      <td>0.477362</td>\n",
       "      <td>0.042824</td>\n",
       "      <td>0.176263</td>\n",
       "      <td>-0.036267</td>\n",
       "      <td>0.013411</td>\n",
       "      <td>0.165804</td>\n",
       "      <td>1.000000</td>\n",
       "      <td>0.555279</td>\n",
       "      <td>-0.072541</td>\n",
       "      <td>0.123392</td>\n",
       "      <td>-0.113207</td>\n",
       "      <td>0.132774</td>\n",
       "      <td>0.064203</td>\n",
       "      <td>-0.038421</td>\n",
       "      <td>-0.072665</td>\n",
       "    </tr>\n",
       "    <tr>\n",
       "      <th>symmetry</th>\n",
       "      <td>-0.062518</td>\n",
       "      <td>0.680819</td>\n",
       "      <td>0.062533</td>\n",
       "      <td>0.145407</td>\n",
       "      <td>-0.044734</td>\n",
       "      <td>0.179377</td>\n",
       "      <td>0.141389</td>\n",
       "      <td>0.555279</td>\n",
       "      <td>1.000000</td>\n",
       "      <td>-0.029883</td>\n",
       "      <td>0.087139</td>\n",
       "      <td>-0.084706</td>\n",
       "      <td>0.096814</td>\n",
       "      <td>-0.025881</td>\n",
       "      <td>0.057681</td>\n",
       "      <td>-0.071421</td>\n",
       "    </tr>\n",
       "    <tr>\n",
       "      <th>crownAngle</th>\n",
       "      <td>-0.081628</td>\n",
       "      <td>-0.031207</td>\n",
       "      <td>-0.044856</td>\n",
       "      <td>-0.066286</td>\n",
       "      <td>-0.020073</td>\n",
       "      <td>0.054551</td>\n",
       "      <td>-0.038417</td>\n",
       "      <td>-0.072541</td>\n",
       "      <td>-0.029883</td>\n",
       "      <td>1.000000</td>\n",
       "      <td>-0.060690</td>\n",
       "      <td>0.741977</td>\n",
       "      <td>-0.065333</td>\n",
       "      <td>-0.022768</td>\n",
       "      <td>0.022330</td>\n",
       "      <td>0.004989</td>\n",
       "    </tr>\n",
       "    <tr>\n",
       "      <th>crownHeight</th>\n",
       "      <td>0.068631</td>\n",
       "      <td>0.071119</td>\n",
       "      <td>-0.011096</td>\n",
       "      <td>0.036141</td>\n",
       "      <td>0.027495</td>\n",
       "      <td>-0.030638</td>\n",
       "      <td>0.021449</td>\n",
       "      <td>0.123392</td>\n",
       "      <td>0.087139</td>\n",
       "      <td>-0.060690</td>\n",
       "      <td>1.000000</td>\n",
       "      <td>-0.080921</td>\n",
       "      <td>0.993244</td>\n",
       "      <td>0.069074</td>\n",
       "      <td>-0.063592</td>\n",
       "      <td>-0.025052</td>\n",
       "    </tr>\n",
       "    <tr>\n",
       "      <th>pavilionAngle</th>\n",
       "      <td>-0.089084</td>\n",
       "      <td>-0.095261</td>\n",
       "      <td>-0.102827</td>\n",
       "      <td>-0.140621</td>\n",
       "      <td>-0.021929</td>\n",
       "      <td>0.031811</td>\n",
       "      <td>-0.027021</td>\n",
       "      <td>-0.113207</td>\n",
       "      <td>-0.084706</td>\n",
       "      <td>0.741977</td>\n",
       "      <td>-0.080921</td>\n",
       "      <td>1.000000</td>\n",
       "      <td>-0.084757</td>\n",
       "      <td>-0.002538</td>\n",
       "      <td>0.000543</td>\n",
       "      <td>0.005202</td>\n",
       "    </tr>\n",
       "    <tr>\n",
       "      <th>pavilionDepth</th>\n",
       "      <td>0.068405</td>\n",
       "      <td>0.077172</td>\n",
       "      <td>-0.011259</td>\n",
       "      <td>0.034632</td>\n",
       "      <td>0.027763</td>\n",
       "      <td>-0.045749</td>\n",
       "      <td>0.042893</td>\n",
       "      <td>0.132774</td>\n",
       "      <td>0.096814</td>\n",
       "      <td>-0.065333</td>\n",
       "      <td>0.993244</td>\n",
       "      <td>-0.084757</td>\n",
       "      <td>1.000000</td>\n",
       "      <td>0.069475</td>\n",
       "      <td>-0.063962</td>\n",
       "      <td>-0.025198</td>\n",
       "    </tr>\n",
       "    <tr>\n",
       "      <th>GIA</th>\n",
       "      <td>-0.056137</td>\n",
       "      <td>-0.011728</td>\n",
       "      <td>-0.150830</td>\n",
       "      <td>-0.051956</td>\n",
       "      <td>-0.011505</td>\n",
       "      <td>-0.067454</td>\n",
       "      <td>0.077624</td>\n",
       "      <td>0.064203</td>\n",
       "      <td>-0.025881</td>\n",
       "      <td>-0.022768</td>\n",
       "      <td>0.069074</td>\n",
       "      <td>-0.002538</td>\n",
       "      <td>0.069475</td>\n",
       "      <td>1.000000</td>\n",
       "      <td>-0.920640</td>\n",
       "      <td>-0.362689</td>\n",
       "    </tr>\n",
       "    <tr>\n",
       "      <th>IGI</th>\n",
       "      <td>0.018278</td>\n",
       "      <td>0.030142</td>\n",
       "      <td>0.151462</td>\n",
       "      <td>0.037043</td>\n",
       "      <td>-0.005593</td>\n",
       "      <td>0.078489</td>\n",
       "      <td>-0.076569</td>\n",
       "      <td>-0.038421</td>\n",
       "      <td>0.057681</td>\n",
       "      <td>0.022330</td>\n",
       "      <td>-0.063592</td>\n",
       "      <td>0.000543</td>\n",
       "      <td>-0.063962</td>\n",
       "      <td>-0.920640</td>\n",
       "      <td>1.000000</td>\n",
       "      <td>-0.029924</td>\n",
       "    </tr>\n",
       "    <tr>\n",
       "      <th>Other</th>\n",
       "      <td>0.100094</td>\n",
       "      <td>-0.041922</td>\n",
       "      <td>0.024625</td>\n",
       "      <td>0.044599</td>\n",
       "      <td>0.042807</td>\n",
       "      <td>-0.014654</td>\n",
       "      <td>-0.015969</td>\n",
       "      <td>-0.072665</td>\n",
       "      <td>-0.071421</td>\n",
       "      <td>0.004989</td>\n",
       "      <td>-0.025052</td>\n",
       "      <td>0.005202</td>\n",
       "      <td>-0.025198</td>\n",
       "      <td>-0.362689</td>\n",
       "      <td>-0.029924</td>\n",
       "      <td>1.000000</td>\n",
       "    </tr>\n",
       "  </tbody>\n",
       "</table>\n",
       "</div>"
      ],
      "text/plain": [
       "                    carat       cut     color   clarity     price  depth_pct  \\\n",
       "carat            1.000000 -0.050591  0.171670  0.132576  0.637117  -0.010548   \n",
       "cut             -0.050591  1.000000  0.089870  0.160564 -0.045399   0.372406   \n",
       "color            0.171670  0.089870  1.000000  0.121075 -0.003480   0.050699   \n",
       "clarity          0.132576  0.160564  0.121075  1.000000 -0.017231   0.051504   \n",
       "price            0.637117 -0.045399 -0.003480 -0.017231  1.000000  -0.027171   \n",
       "depth_pct       -0.010548  0.372406  0.050699  0.051504 -0.027171   1.000000   \n",
       "table_width_pct  0.007491  0.127114  0.000287  0.003100  0.005490  -0.114810   \n",
       "polish          -0.060851  0.477362  0.042824  0.176263 -0.036267   0.013411   \n",
       "symmetry        -0.062518  0.680819  0.062533  0.145407 -0.044734   0.179377   \n",
       "crownAngle      -0.081628 -0.031207 -0.044856 -0.066286 -0.020073   0.054551   \n",
       "crownHeight      0.068631  0.071119 -0.011096  0.036141  0.027495  -0.030638   \n",
       "pavilionAngle   -0.089084 -0.095261 -0.102827 -0.140621 -0.021929   0.031811   \n",
       "pavilionDepth    0.068405  0.077172 -0.011259  0.034632  0.027763  -0.045749   \n",
       "GIA             -0.056137 -0.011728 -0.150830 -0.051956 -0.011505  -0.067454   \n",
       "IGI              0.018278  0.030142  0.151462  0.037043 -0.005593   0.078489   \n",
       "Other            0.100094 -0.041922  0.024625  0.044599  0.042807  -0.014654   \n",
       "\n",
       "                 table_width_pct    polish  symmetry  crownAngle  crownHeight  \\\n",
       "carat                   0.007491 -0.060851 -0.062518   -0.081628     0.068631   \n",
       "cut                     0.127114  0.477362  0.680819   -0.031207     0.071119   \n",
       "color                   0.000287  0.042824  0.062533   -0.044856    -0.011096   \n",
       "clarity                 0.003100  0.176263  0.145407   -0.066286     0.036141   \n",
       "price                   0.005490 -0.036267 -0.044734   -0.020073     0.027495   \n",
       "depth_pct              -0.114810  0.013411  0.179377    0.054551    -0.030638   \n",
       "table_width_pct         1.000000  0.165804  0.141389   -0.038417     0.021449   \n",
       "polish                  0.165804  1.000000  0.555279   -0.072541     0.123392   \n",
       "symmetry                0.141389  0.555279  1.000000   -0.029883     0.087139   \n",
       "crownAngle             -0.038417 -0.072541 -0.029883    1.000000    -0.060690   \n",
       "crownHeight             0.021449  0.123392  0.087139   -0.060690     1.000000   \n",
       "pavilionAngle          -0.027021 -0.113207 -0.084706    0.741977    -0.080921   \n",
       "pavilionDepth           0.042893  0.132774  0.096814   -0.065333     0.993244   \n",
       "GIA                     0.077624  0.064203 -0.025881   -0.022768     0.069074   \n",
       "IGI                    -0.076569 -0.038421  0.057681    0.022330    -0.063592   \n",
       "Other                  -0.015969 -0.072665 -0.071421    0.004989    -0.025052   \n",
       "\n",
       "                 pavilionAngle  pavilionDepth       GIA       IGI     Other  \n",
       "carat                -0.089084       0.068405 -0.056137  0.018278  0.100094  \n",
       "cut                  -0.095261       0.077172 -0.011728  0.030142 -0.041922  \n",
       "color                -0.102827      -0.011259 -0.150830  0.151462  0.024625  \n",
       "clarity              -0.140621       0.034632 -0.051956  0.037043  0.044599  \n",
       "price                -0.021929       0.027763 -0.011505 -0.005593  0.042807  \n",
       "depth_pct             0.031811      -0.045749 -0.067454  0.078489 -0.014654  \n",
       "table_width_pct      -0.027021       0.042893  0.077624 -0.076569 -0.015969  \n",
       "polish               -0.113207       0.132774  0.064203 -0.038421 -0.072665  \n",
       "symmetry             -0.084706       0.096814 -0.025881  0.057681 -0.071421  \n",
       "crownAngle            0.741977      -0.065333 -0.022768  0.022330  0.004989  \n",
       "crownHeight          -0.080921       0.993244  0.069074 -0.063592 -0.025052  \n",
       "pavilionAngle         1.000000      -0.084757 -0.002538  0.000543  0.005202  \n",
       "pavilionDepth        -0.084757       1.000000  0.069475 -0.063962 -0.025198  \n",
       "GIA                  -0.002538       0.069475  1.000000 -0.920640 -0.362689  \n",
       "IGI                   0.000543      -0.063962 -0.920640  1.000000 -0.029924  \n",
       "Other                 0.005202      -0.025198 -0.362689 -0.029924  1.000000  "
      ]
     },
     "execution_count": 235,
     "metadata": {},
     "output_type": "execute_result"
    }
   ],
   "source": [
    "#now that the non-numerical data has been recoded, check correlations to see which features are most important\n",
    "corrs = df.corr()\n",
    "corrs"
   ]
  },
  {
   "cell_type": "code",
   "execution_count": 236,
   "id": "d678acc2-d17e-4476-8023-c131a7fe839a",
   "metadata": {},
   "outputs": [
    {
     "data": {
      "image/png": "[encoded data removed]",
      "text/plain": [
       "<Figure size 864x576 with 2 Axes>"
      ]
     },
     "metadata": {
      "needs_background": "light"
     },
     "output_type": "display_data"
    }
   ],
   "source": [
    "#heatmap to see the correlations more clearly\n",
    "plt.figure(figsize=(12,8))\n",
    "sns.heatmap(corrs);"
   ]
  },
  {
   "cell_type": "code",
   "execution_count": 237,
   "id": "c9172b91-5be2-44f9-9e7b-7a3bf68ad4a4",
   "metadata": {},
   "outputs": [
    {
     "data": {
      "text/plain": [
       "cut               -0.045399\n",
       "symmetry          -0.044734\n",
       "polish            -0.036267\n",
       "depth_pct         -0.027171\n",
       "pavilionAngle     -0.021929\n",
       "crownAngle        -0.020073\n",
       "clarity           -0.017231\n",
       "GIA               -0.011505\n",
       "IGI               -0.005593\n",
       "color             -0.003480\n",
       "table_width_pct    0.005490\n",
       "crownHeight        0.027495\n",
       "pavilionDepth      0.027763\n",
       "Other              0.042807\n",
       "carat              0.637117\n",
       "price              1.000000\n",
       "Name: price, dtype: float64"
      ]
     },
     "execution_count": 237,
     "metadata": {},
     "output_type": "execute_result"
    }
   ],
   "source": [
    "corrs['price'].sort_values()\n",
    "#similar to my last diamond price analysis; not seeing anything with strong correlation to price besides \"carat\". "
   ]
  },
  {
   "cell_type": "code",
   "execution_count": 264,
   "id": "6030418a-6c26-4dd1-924d-9f34c0c6172e",
   "metadata": {},
   "outputs": [
    {
     "data": {
      "text/html": [
       "<div>\n",
       "<style scoped>\n",
       "    .dataframe tbody tr th:only-of-type {\n",
       "        vertical-align: middle;\n",
       "    }\n",
       "\n",
       "    .dataframe tbody tr th {\n",
       "        vertical-align: top;\n",
       "    }\n",
       "\n",
       "    .dataframe thead th {\n",
       "        text-align: right;\n",
       "    }\n",
       "</style>\n",
       "<table border=\"1\" class=\"dataframe\">\n",
       "  <thead>\n",
       "    <tr style=\"text-align: right;\">\n",
       "      <th></th>\n",
       "      <th>carat</th>\n",
       "      <th>cut</th>\n",
       "      <th>color</th>\n",
       "      <th>clarity</th>\n",
       "      <th>price</th>\n",
       "      <th>depth_pct</th>\n",
       "      <th>table_width_pct</th>\n",
       "      <th>polish</th>\n",
       "      <th>symmetry</th>\n",
       "      <th>crownAngle</th>\n",
       "      <th>crownHeight</th>\n",
       "      <th>pavilionAngle</th>\n",
       "      <th>pavilionDepth</th>\n",
       "      <th>GIA</th>\n",
       "      <th>IGI</th>\n",
       "      <th>Other</th>\n",
       "    </tr>\n",
       "  </thead>\n",
       "  <tbody>\n",
       "    <tr>\n",
       "      <th>count</th>\n",
       "      <td>110458.000000</td>\n",
       "      <td>110458.000000</td>\n",
       "      <td>110458.000000</td>\n",
       "      <td>110458.000000</td>\n",
       "      <td>1.104580e+05</td>\n",
       "      <td>110458.000000</td>\n",
       "      <td>110458.000000</td>\n",
       "      <td>110458.000000</td>\n",
       "      <td>110458.000000</td>\n",
       "      <td>110458.000000</td>\n",
       "      <td>110458.000000</td>\n",
       "      <td>110458.000000</td>\n",
       "      <td>110458.000000</td>\n",
       "      <td>110458.000000</td>\n",
       "      <td>110458.000000</td>\n",
       "      <td>110458.000000</td>\n",
       "    </tr>\n",
       "    <tr>\n",
       "      <th>mean</th>\n",
       "      <td>0.835177</td>\n",
       "      <td>2.432345</td>\n",
       "      <td>3.993636</td>\n",
       "      <td>5.295479</td>\n",
       "      <td>5.948045e+03</td>\n",
       "      <td>62.179623</td>\n",
       "      <td>57.959398</td>\n",
       "      <td>2.224529</td>\n",
       "      <td>2.400297</td>\n",
       "      <td>22.540216</td>\n",
       "      <td>0.734238</td>\n",
       "      <td>27.095983</td>\n",
       "      <td>2.221817</td>\n",
       "      <td>0.917752</td>\n",
       "      <td>0.070597</td>\n",
       "      <td>0.011651</td>\n",
       "    </tr>\n",
       "    <tr>\n",
       "      <th>std</th>\n",
       "      <td>0.793164</td>\n",
       "      <td>0.725324</td>\n",
       "      <td>2.296074</td>\n",
       "      <td>1.909995</td>\n",
       "      <td>3.049067e+04</td>\n",
       "      <td>2.252075</td>\n",
       "      <td>2.438332</td>\n",
       "      <td>0.495710</td>\n",
       "      <td>0.652255</td>\n",
       "      <td>19.660037</td>\n",
       "      <td>3.182180</td>\n",
       "      <td>19.616273</td>\n",
       "      <td>9.573749</td>\n",
       "      <td>0.274744</td>\n",
       "      <td>0.256152</td>\n",
       "      <td>0.107312</td>\n",
       "    </tr>\n",
       "    <tr>\n",
       "      <th>min</th>\n",
       "      <td>0.140000</td>\n",
       "      <td>1.000000</td>\n",
       "      <td>1.000000</td>\n",
       "      <td>1.000000</td>\n",
       "      <td>1.447800e+02</td>\n",
       "      <td>0.500000</td>\n",
       "      <td>0.000000</td>\n",
       "      <td>1.000000</td>\n",
       "      <td>1.000000</td>\n",
       "      <td>0.000000</td>\n",
       "      <td>0.000000</td>\n",
       "      <td>0.000000</td>\n",
       "      <td>0.000000</td>\n",
       "      <td>0.000000</td>\n",
       "      <td>0.000000</td>\n",
       "      <td>0.000000</td>\n",
       "    </tr>\n",
       "    <tr>\n",
       "      <th>25%</th>\n",
       "      <td>0.400000</td>\n",
       "      <td>2.000000</td>\n",
       "      <td>2.000000</td>\n",
       "      <td>4.000000</td>\n",
       "      <td>7.499050e+02</td>\n",
       "      <td>61.200000</td>\n",
       "      <td>57.000000</td>\n",
       "      <td>2.000000</td>\n",
       "      <td>2.000000</td>\n",
       "      <td>0.000000</td>\n",
       "      <td>0.000000</td>\n",
       "      <td>0.000000</td>\n",
       "      <td>0.000000</td>\n",
       "      <td>1.000000</td>\n",
       "      <td>0.000000</td>\n",
       "      <td>0.000000</td>\n",
       "    </tr>\n",
       "    <tr>\n",
       "      <th>50%</th>\n",
       "      <td>0.600000</td>\n",
       "      <td>2.000000</td>\n",
       "      <td>4.000000</td>\n",
       "      <td>5.000000</td>\n",
       "      <td>1.660575e+03</td>\n",
       "      <td>62.200000</td>\n",
       "      <td>58.000000</td>\n",
       "      <td>2.000000</td>\n",
       "      <td>2.000000</td>\n",
       "      <td>33.500000</td>\n",
       "      <td>0.000000</td>\n",
       "      <td>40.800000</td>\n",
       "      <td>0.000000</td>\n",
       "      <td>1.000000</td>\n",
       "      <td>0.000000</td>\n",
       "      <td>0.000000</td>\n",
       "    </tr>\n",
       "    <tr>\n",
       "      <th>75%</th>\n",
       "      <td>1.010000</td>\n",
       "      <td>3.000000</td>\n",
       "      <td>6.000000</td>\n",
       "      <td>7.000000</td>\n",
       "      <td>4.798540e+03</td>\n",
       "      <td>62.900000</td>\n",
       "      <td>59.000000</td>\n",
       "      <td>2.000000</td>\n",
       "      <td>3.000000</td>\n",
       "      <td>35.500000</td>\n",
       "      <td>0.000000</td>\n",
       "      <td>41.200000</td>\n",
       "      <td>0.000000</td>\n",
       "      <td>1.000000</td>\n",
       "      <td>0.000000</td>\n",
       "      <td>0.000000</td>\n",
       "    </tr>\n",
       "    <tr>\n",
       "      <th>max</th>\n",
       "      <td>25.250000</td>\n",
       "      <td>5.000000</td>\n",
       "      <td>10.000000</td>\n",
       "      <td>9.000000</td>\n",
       "      <td>3.777064e+06</td>\n",
       "      <td>79.800000</td>\n",
       "      <td>90.000000</td>\n",
       "      <td>5.000000</td>\n",
       "      <td>6.000000</td>\n",
       "      <td>3605.000000</td>\n",
       "      <td>20.000000</td>\n",
       "      <td>69.800000</td>\n",
       "      <td>48.500000</td>\n",
       "      <td>1.000000</td>\n",
       "      <td>1.000000</td>\n",
       "      <td>1.000000</td>\n",
       "    </tr>\n",
       "  </tbody>\n",
       "</table>\n",
       "</div>"
      ],
      "text/plain": [
       "               carat            cut          color        clarity  \\\n",
       "count  110458.000000  110458.000000  110458.000000  110458.000000   \n",
       "mean        0.835177       2.432345       3.993636       5.295479   \n",
       "std         0.793164       0.725324       2.296074       1.909995   \n",
       "min         0.140000       1.000000       1.000000       1.000000   \n",
       "25%         0.400000       2.000000       2.000000       4.000000   \n",
       "50%         0.600000       2.000000       4.000000       5.000000   \n",
       "75%         1.010000       3.000000       6.000000       7.000000   \n",
       "max        25.250000       5.000000      10.000000       9.000000   \n",
       "\n",
       "              price      depth_pct  table_width_pct         polish  \\\n",
       "count  1.104580e+05  110458.000000    110458.000000  110458.000000   \n",
       "mean   5.948045e+03      62.179623        57.959398       2.224529   \n",
       "std    3.049067e+04       2.252075         2.438332       0.495710   \n",
       "min    1.447800e+02       0.500000         0.000000       1.000000   \n",
       "25%    7.499050e+02      61.200000        57.000000       2.000000   \n",
       "50%    1.660575e+03      62.200000        58.000000       2.000000   \n",
       "75%    4.798540e+03      62.900000        59.000000       2.000000   \n",
       "max    3.777064e+06      79.800000        90.000000       5.000000   \n",
       "\n",
       "            symmetry     crownAngle    crownHeight  pavilionAngle  \\\n",
       "count  110458.000000  110458.000000  110458.000000  110458.000000   \n",
       "mean        2.400297      22.540216       0.734238      27.095983   \n",
       "std         0.652255      19.660037       3.182180      19.616273   \n",
       "min         1.000000       0.000000       0.000000       0.000000   \n",
       "25%         2.000000       0.000000       0.000000       0.000000   \n",
       "50%         2.000000      33.500000       0.000000      40.800000   \n",
       "75%         3.000000      35.500000       0.000000      41.200000   \n",
       "max         6.000000    3605.000000      20.000000      69.800000   \n",
       "\n",
       "       pavilionDepth            GIA            IGI          Other  \n",
       "count  110458.000000  110458.000000  110458.000000  110458.000000  \n",
       "mean        2.221817       0.917752       0.070597       0.011651  \n",
       "std         9.573749       0.274744       0.256152       0.107312  \n",
       "min         0.000000       0.000000       0.000000       0.000000  \n",
       "25%         0.000000       1.000000       0.000000       0.000000  \n",
       "50%         0.000000       1.000000       0.000000       0.000000  \n",
       "75%         0.000000       1.000000       0.000000       0.000000  \n",
       "max        48.500000       1.000000       1.000000       1.000000  "
      ]
     },
     "execution_count": 264,
     "metadata": {},
     "output_type": "execute_result"
    }
   ],
   "source": [
    "#take a quick look ta the target variable\n",
    "df.describe()\n",
    "#the scale of price is weird?"
   ]
  },
  {
   "cell_type": "code",
   "execution_count": 267,
   "id": "66d062bb-ee31-4518-967b-45862329ce2a",
   "metadata": {},
   "outputs": [
    {
     "data": {
      "text/html": [
       "<div>\n",
       "<style scoped>\n",
       "    .dataframe tbody tr th:only-of-type {\n",
       "        vertical-align: middle;\n",
       "    }\n",
       "\n",
       "    .dataframe tbody tr th {\n",
       "        vertical-align: top;\n",
       "    }\n",
       "\n",
       "    .dataframe thead th {\n",
       "        text-align: right;\n",
       "    }\n",
       "</style>\n",
       "<table border=\"1\" class=\"dataframe\">\n",
       "  <thead>\n",
       "    <tr style=\"text-align: right;\">\n",
       "      <th></th>\n",
       "      <th>price</th>\n",
       "      <th>carat</th>\n",
       "      <th>cut</th>\n",
       "      <th>clarity</th>\n",
       "      <th>color</th>\n",
       "      <th>Other</th>\n",
       "      <th>IGI</th>\n",
       "      <th>GIA</th>\n",
       "      <th>polish</th>\n",
       "      <th>symmetry</th>\n",
       "    </tr>\n",
       "  </thead>\n",
       "  <tbody>\n",
       "    <tr>\n",
       "      <th>0</th>\n",
       "      <td>96980.26</td>\n",
       "      <td>3.01</td>\n",
       "      <td>3</td>\n",
       "      <td>6</td>\n",
       "      <td>1</td>\n",
       "      <td>0</td>\n",
       "      <td>0</td>\n",
       "      <td>1</td>\n",
       "      <td>3</td>\n",
       "      <td>2</td>\n",
       "    </tr>\n",
       "    <tr>\n",
       "      <th>1</th>\n",
       "      <td>7722.58</td>\n",
       "      <td>1.26</td>\n",
       "      <td>2</td>\n",
       "      <td>7</td>\n",
       "      <td>6</td>\n",
       "      <td>0</td>\n",
       "      <td>0</td>\n",
       "      <td>1</td>\n",
       "      <td>2</td>\n",
       "      <td>2</td>\n",
       "    </tr>\n",
       "    <tr>\n",
       "      <th>2</th>\n",
       "      <td>239200.00</td>\n",
       "      <td>4.03</td>\n",
       "      <td>3</td>\n",
       "      <td>5</td>\n",
       "      <td>2</td>\n",
       "      <td>0</td>\n",
       "      <td>0</td>\n",
       "      <td>1</td>\n",
       "      <td>2</td>\n",
       "      <td>3</td>\n",
       "    </tr>\n",
       "    <tr>\n",
       "      <th>3</th>\n",
       "      <td>27508.00</td>\n",
       "      <td>1.86</td>\n",
       "      <td>2</td>\n",
       "      <td>6</td>\n",
       "      <td>2</td>\n",
       "      <td>0</td>\n",
       "      <td>0</td>\n",
       "      <td>1</td>\n",
       "      <td>2</td>\n",
       "      <td>2</td>\n",
       "    </tr>\n",
       "    <tr>\n",
       "      <th>4</th>\n",
       "      <td>84081.29</td>\n",
       "      <td>4.28</td>\n",
       "      <td>3</td>\n",
       "      <td>7</td>\n",
       "      <td>5</td>\n",
       "      <td>0</td>\n",
       "      <td>0</td>\n",
       "      <td>1</td>\n",
       "      <td>2</td>\n",
       "      <td>3</td>\n",
       "    </tr>\n",
       "  </tbody>\n",
       "</table>\n",
       "</div>"
      ],
      "text/plain": [
       "       price  carat  cut  clarity  color  Other  IGI  GIA  polish  symmetry\n",
       "0   96980.26   3.01    3        6      1      0    0    1       3         2\n",
       "1    7722.58   1.26    2        7      6      0    0    1       2         2\n",
       "2  239200.00   4.03    3        5      2      0    0    1       2         3\n",
       "3   27508.00   1.86    2        6      2      0    0    1       2         2\n",
       "4   84081.29   4.28    3        7      5      0    0    1       2         3"
      ]
     },
     "execution_count": 267,
     "metadata": {},
     "output_type": "execute_result"
    }
   ],
   "source": [
    "#make a copy of the data with only the features I will model\n",
    "df= df[['price', 'carat', 'cut', 'clarity', 'color', 'Other', 'IGI', 'GIA', 'polish', 'symmetry']].copy()\n",
    "df.head()"
   ]
  },
  {
   "cell_type": "code",
   "execution_count": 268,
   "id": "c36a7883-c164-40ef-a771-c3c91f100778",
   "metadata": {},
   "outputs": [
    {
     "data": {
      "text/plain": [
       "(110458,)"
      ]
     },
     "execution_count": 268,
     "metadata": {},
     "output_type": "execute_result"
    }
   ],
   "source": [
    "#declare the target variable\n",
    "y = df['price']\n",
    "y.shape"
   ]
  },
  {
   "cell_type": "code",
   "execution_count": 269,
   "id": "7b25726d-704b-4d70-9bbd-89679ab0ce7a",
   "metadata": {},
   "outputs": [
    {
     "data": {
      "text/plain": [
       "(110458, 9)"
      ]
     },
     "execution_count": 269,
     "metadata": {},
     "output_type": "execute_result"
    }
   ],
   "source": [
    "#declare the model features\n",
    "X = df.drop(['price'], axis=1) #just exclude price\n",
    "X.shape"
   ]
  },
  {
   "cell_type": "code",
   "execution_count": 289,
   "id": "c303d7c4-9cda-4e24-881d-0743b820adc3",
   "metadata": {},
   "outputs": [],
   "source": [
    "# train-test split\n",
    "X_train, X_test, y_train, y_test = train_test_split(X, y, test_size = .25, random_state=12) #using the standard test size for now"
   ]
  },
  {
   "cell_type": "code",
   "execution_count": 290,
   "id": "3239ec86-597d-4920-b19a-f5433a76fe2f",
   "metadata": {},
   "outputs": [],
   "source": [
    "#instantiate the SKlearn algorithm\n",
    "mymodel = LinearRegression(fit_intercept=True, \n",
    "                           normalize=False, \n",
    "                           copy_X=True, \n",
    "                           n_jobs=None, \n",
    "                           positive=False)"
   ]
  },
  {
   "cell_type": "code",
   "execution_count": 291,
   "id": "0ef216f9-48f1-4c7b-b87b-57771407b65c",
   "metadata": {},
   "outputs": [
    {
     "name": "stderr",
     "output_type": "stream",
     "text": [
      "/home/studio-lab-user/.conda/envs/default/lib/python3.9/site-packages/sklearn/linear_model/_base.py:148: FutureWarning:\n",
      "\n",
      "'normalize' was deprecated in version 1.0 and will be removed in 1.2. Please leave the normalize parameter to its default value to silence this warning. The default behavior of this estimator is to not do any normalization. If normalization is needed please use sklearn.preprocessing.StandardScaler instead.\n",
      "\n"
     ]
    },
    {
     "data": {
      "text/html": [
       "<style>#sk-container-id-3 {color: black;background-color: white;}#sk-container-id-3 pre{padding: 0;}#sk-container-id-3 div.sk-toggleable {background-color: white;}#sk-container-id-3 label.sk-toggleable__label {cursor: pointer;display: block;width: 100%;margin-bottom: 0;padding: 0.3em;box-sizing: border-box;text-align: center;}#sk-container-id-3 label.sk-toggleable__label-arrow:before {content: \"▸\";float: left;margin-right: 0.25em;color: #696969;}#sk-container-id-3 label.sk-toggleable__label-arrow:hover:before {color: black;}#sk-container-id-3 div.sk-estimator:hover label.sk-toggleable__label-arrow:before {color: black;}#sk-container-id-3 div.sk-toggleable__content {max-height: 0;max-width: 0;overflow: hidden;text-align: left;background-color: #f0f8ff;}#sk-container-id-3 div.sk-toggleable__content pre {margin: 0.2em;color: black;border-radius: 0.25em;background-color: #f0f8ff;}#sk-container-id-3 input.sk-toggleable__control:checked~div.sk-toggleable__content {max-height: 200px;max-width: 100%;overflow: auto;}#sk-container-id-3 input.sk-toggleable__control:checked~label.sk-toggleable__label-arrow:before {content: \"▾\";}#sk-container-id-3 div.sk-estimator input.sk-toggleable__control:checked~label.sk-toggleable__label {background-color: #d4ebff;}#sk-container-id-3 div.sk-label input.sk-toggleable__control:checked~label.sk-toggleable__label {background-color: #d4ebff;}#sk-container-id-3 input.sk-hidden--visually {border: 0;clip: rect(1px 1px 1px 1px);clip: rect(1px, 1px, 1px, 1px);height: 1px;margin: -1px;overflow: hidden;padding: 0;position: absolute;width: 1px;}#sk-container-id-3 div.sk-estimator {font-family: monospace;background-color: #f0f8ff;border: 1px dotted black;border-radius: 0.25em;box-sizing: border-box;margin-bottom: 0.5em;}#sk-container-id-3 div.sk-estimator:hover {background-color: #d4ebff;}#sk-container-id-3 div.sk-parallel-item::after {content: \"\";width: 100%;border-bottom: 1px solid gray;flex-grow: 1;}#sk-container-id-3 div.sk-label:hover label.sk-toggleable__label {background-color: #d4ebff;}#sk-container-id-3 div.sk-serial::before {content: \"\";position: absolute;border-left: 1px solid gray;box-sizing: border-box;top: 0;bottom: 0;left: 50%;z-index: 0;}#sk-container-id-3 div.sk-serial {display: flex;flex-direction: column;align-items: center;background-color: white;padding-right: 0.2em;padding-left: 0.2em;position: relative;}#sk-container-id-3 div.sk-item {position: relative;z-index: 1;}#sk-container-id-3 div.sk-parallel {display: flex;align-items: stretch;justify-content: center;background-color: white;position: relative;}#sk-container-id-3 div.sk-item::before, #sk-container-id-3 div.sk-parallel-item::before {content: \"\";position: absolute;border-left: 1px solid gray;box-sizing: border-box;top: 0;bottom: 0;left: 50%;z-index: -1;}#sk-container-id-3 div.sk-parallel-item {display: flex;flex-direction: column;z-index: 1;position: relative;background-color: white;}#sk-container-id-3 div.sk-parallel-item:first-child::after {align-self: flex-end;width: 50%;}#sk-container-id-3 div.sk-parallel-item:last-child::after {align-self: flex-start;width: 50%;}#sk-container-id-3 div.sk-parallel-item:only-child::after {width: 0;}#sk-container-id-3 div.sk-dashed-wrapped {border: 1px dashed gray;margin: 0 0.4em 0.5em 0.4em;box-sizing: border-box;padding-bottom: 0.4em;background-color: white;}#sk-container-id-3 div.sk-label label {font-family: monospace;font-weight: bold;display: inline-block;line-height: 1.2em;}#sk-container-id-3 div.sk-label-container {text-align: center;}#sk-container-id-3 div.sk-container {/* jupyter's `normalize.less` sets `[hidden] { display: none; }` but bootstrap.min.css set `[hidden] { display: none !important; }` so we also need the `!important` here to be able to override the default hidden behavior on the sphinx rendered scikit-learn.org. See: https://github.com/scikit-learn/scikit-learn/issues/21755 */display: inline-block !important;position: relative;}#sk-container-id-3 div.sk-text-repr-fallback {display: none;}</style><div id=\"sk-container-id-3\" class=\"sk-top-container\"><div class=\"sk-text-repr-fallback\"><pre>LinearRegression(normalize=False)</pre><b>In a Jupyter environment, please rerun this cell to show the HTML representation or trust the notebook. <br />On GitHub, the HTML representation is unable to render, please try loading this page with nbviewer.org.</b></div><div class=\"sk-container\" hidden><div class=\"sk-item\"><div class=\"sk-estimator sk-toggleable\"><input class=\"sk-toggleable__control sk-hidden--visually\" id=\"sk-estimator-id-3\" type=\"checkbox\" checked><label for=\"sk-estimator-id-3\" class=\"sk-toggleable__label sk-toggleable__label-arrow\">LinearRegression</label><div class=\"sk-toggleable__content\"><pre>LinearRegression(normalize=False)</pre></div></div></div></div></div>"
      ],
      "text/plain": [
       "LinearRegression(normalize=False)"
      ]
     },
     "execution_count": 291,
     "metadata": {},
     "output_type": "execute_result"
    }
   ],
   "source": [
    "#fit the model to the training dataset\n",
    "mymodel.fit(X_train, y_train)"
   ]
  },
  {
   "cell_type": "code",
   "execution_count": 292,
   "id": "99139221-ea4f-4c77-a162-1865da9e5934",
   "metadata": {},
   "outputs": [
    {
     "name": "stdout",
     "output_type": "stream",
     "text": [
      "LinearRegression(normalize=False)\n"
     ]
    }
   ],
   "source": [
    "print(mymodel)"
   ]
  },
  {
   "cell_type": "code",
   "execution_count": 293,
   "id": "4abe5f45-fe47-40ab-adbb-8ef3cf951f85",
   "metadata": {},
   "outputs": [
    {
     "data": {
      "text/plain": [
       "-6223.282503754364"
      ]
     },
     "execution_count": 293,
     "metadata": {},
     "output_type": "execute_result"
    }
   ],
   "source": [
    "#what is the intercept?\n",
    "mymodel.intercept_\n",
    "#according to my model intercept, if carat, cut, clarity, color, polish, symmetry and the rating agencies were all 0, the diamond would be priced at -$6K\n",
    "#doesn't really tell us much since that wouldn't happen in the real world"
   ]
  },
  {
   "cell_type": "code",
   "execution_count": 294,
   "id": "f89ccc11-85e3-452b-9853-7645813edd41",
   "metadata": {},
   "outputs": [
    {
     "name": "stdout",
     "output_type": "stream",
     "text": [
      "Regression Equation:  y = -6223.28 + 25688.87*carat + -42.65*cut + -1551.34*clarity + -1452.4*color + -2764.06*Other + 1531.52*IGI + 1232.54*GIA+ 1460.12*polish+ 159.93*symmetry\n"
     ]
    }
   ],
   "source": [
    "#what is the equation for this mymodel?\n",
    "cols=list(X.columns)\n",
    "coefs=list(mymodel.coef_)\n",
    "xcoefs = [(coefs[i], cols[i]) for i in range(0, len(cols))]\n",
    "output = f'y = {round(mymodel.intercept_,2)} + {round(xcoefs[0][0],2)}*{xcoefs[0][1]} + {round(xcoefs[1][0],2)}*{xcoefs[1][1]} + {round(xcoefs[2][0],2)}*{xcoefs[2][1]} + {round(xcoefs[3][0],2)}*{xcoefs[3][1]} + {round(xcoefs[4][0],2)}*{xcoefs[4][1]} + {round(xcoefs[5][0],2)}*{xcoefs[5][1]} + {round(xcoefs[6][0],2)}*{xcoefs[6][1]}+ {round(xcoefs[7][0],2)}*{xcoefs[7][1]}+ {round(xcoefs[8][0],2)}*{xcoefs[8][1]}'\n",
    "print(\"Regression Equation: \", output)\n",
    "#cut, clarity, and color all have negative intercepts because I mapped the \"best\" to 1 with ascending values after that so that makes sense"
   ]
  },
  {
   "cell_type": "code",
   "execution_count": 295,
   "id": "1efcf0ca-047c-47be-862a-2067f0f4804c",
   "metadata": {},
   "outputs": [],
   "source": [
    "#for the graph below\n",
    "coefs=list(mymodel.coef_)\n",
    "cols=list(X.columns)"
   ]
  },
  {
   "cell_type": "code",
   "execution_count": 296,
   "id": "91842062-652d-4425-aa05-d275c6bd0112",
   "metadata": {},
   "outputs": [
    {
     "data": {
      "text/html": [
       "<div>\n",
       "<style scoped>\n",
       "    .dataframe tbody tr th:only-of-type {\n",
       "        vertical-align: middle;\n",
       "    }\n",
       "\n",
       "    .dataframe tbody tr th {\n",
       "        vertical-align: top;\n",
       "    }\n",
       "\n",
       "    .dataframe thead th {\n",
       "        text-align: right;\n",
       "    }\n",
       "</style>\n",
       "<table border=\"1\" class=\"dataframe\">\n",
       "  <thead>\n",
       "    <tr style=\"text-align: right;\">\n",
       "      <th></th>\n",
       "      <th>feature</th>\n",
       "      <th>coeff</th>\n",
       "    </tr>\n",
       "  </thead>\n",
       "  <tbody>\n",
       "    <tr>\n",
       "      <th>0</th>\n",
       "      <td>carat</td>\n",
       "      <td>25688.872576</td>\n",
       "    </tr>\n",
       "    <tr>\n",
       "      <th>1</th>\n",
       "      <td>cut</td>\n",
       "      <td>-42.645817</td>\n",
       "    </tr>\n",
       "    <tr>\n",
       "      <th>2</th>\n",
       "      <td>clarity</td>\n",
       "      <td>-1551.339669</td>\n",
       "    </tr>\n",
       "    <tr>\n",
       "      <th>3</th>\n",
       "      <td>color</td>\n",
       "      <td>-1452.400344</td>\n",
       "    </tr>\n",
       "    <tr>\n",
       "      <th>4</th>\n",
       "      <td>Other</td>\n",
       "      <td>-2764.059526</td>\n",
       "    </tr>\n",
       "    <tr>\n",
       "      <th>5</th>\n",
       "      <td>IGI</td>\n",
       "      <td>1531.521900</td>\n",
       "    </tr>\n",
       "    <tr>\n",
       "      <th>6</th>\n",
       "      <td>GIA</td>\n",
       "      <td>1232.537625</td>\n",
       "    </tr>\n",
       "    <tr>\n",
       "      <th>7</th>\n",
       "      <td>polish</td>\n",
       "      <td>1460.123291</td>\n",
       "    </tr>\n",
       "    <tr>\n",
       "      <th>8</th>\n",
       "      <td>symmetry</td>\n",
       "      <td>159.929342</td>\n",
       "    </tr>\n",
       "  </tbody>\n",
       "</table>\n",
       "</div>"
      ],
      "text/plain": [
       "    feature         coeff\n",
       "0     carat  25688.872576\n",
       "1       cut    -42.645817\n",
       "2   clarity  -1551.339669\n",
       "3     color  -1452.400344\n",
       "4     Other  -2764.059526\n",
       "5       IGI   1531.521900\n",
       "6       GIA   1232.537625\n",
       "7    polish   1460.123291\n",
       "8  symmetry    159.929342"
      ]
     },
     "execution_count": 296,
     "metadata": {},
     "output_type": "execute_result"
    }
   ],
   "source": [
    "#turn these into a dataframe\n",
    "results = pd.DataFrame(list(zip(cols, coefs)), columns=['feature','coeff'])\n",
    "results "
   ]
  },
  {
   "cell_type": "code",
   "execution_count": 297,
   "id": "a2a4f791-66cd-4998-ba64-0ceec314855e",
   "metadata": {},
   "outputs": [
    {
     "data": {
      "application/vnd.plotly.v1+json": {
       "config": {
        "plotlyServerURL": "https://plot.ly"
       },
       "data": [
        {
         "alignmentgroup": "True",
         "hovertemplate": "x=%{x}<br>y=%{y}<extra></extra>",
         "legendgroup": "",
         "marker": {
          "color": "#636efa",
          "pattern": {
           "shape": ""
          }
         },
         "name": "",
         "offsetgroup": "",
         "orientation": "v",
         "showlegend": false,
         "textposition": "auto",
         "type": "bar",
         "x": [
          "carat",
          "cut",
          "clarity",
          "color",
          "Other",
          "IGI",
          "GIA",
          "polish",
          "symmetry"
         ],
         "xaxis": "x",
         "y": [
          25688.87257571102,
          -42.64581735829188,
          -1551.3396689637498,
          -1452.400343588771,
          -2764.0595255244198,
          1531.5219004434562,
          1232.5376250809647,
          1460.1232909104347,
          159.92934156692303
         ],
         "yaxis": "y"
        }
       ],
       "layout": {
        "autosize": true,
        "barmode": "relative",
        "legend": {
         "tracegroupgap": 0
        },
        "margin": {
         "t": 60
        },
        "template": {
         "data": {
          "bar": [
           {
            "error_x": {
             "color": "#2a3f5f"
            },
            "error_y": {
             "color": "#2a3f5f"
            },
            "marker": {
             "line": {
              "color": "#E5ECF6",
              "width": 0.5
             },
             "pattern": {
              "fillmode": "overlay",
              "size": 10,
              "solidity": 0.2
             }
            },
            "type": "bar"
           }
          ],
          "barpolar": [
           {
            "marker": {
             "line": {
              "color": "#E5ECF6",
              "width": 0.5
             },
             "pattern": {
              "fillmode": "overlay",
              "size": 10,
              "solidity": 0.2
             }
            },
            "type": "barpolar"
           }
          ],
          "carpet": [
           {
            "aaxis": {
             "endlinecolor": "#2a3f5f",
             "gridcolor": "white",
             "linecolor": "white",
             "minorgridcolor": "white",
             "startlinecolor": "#2a3f5f"
            },
            "baxis": {
             "endlinecolor": "#2a3f5f",
             "gridcolor": "white",
             "linecolor": "white",
             "minorgridcolor": "white",
             "startlinecolor": "#2a3f5f"
            },
            "type": "carpet"
           }
          ],
          "choropleth": [
           {
            "colorbar": {
             "outlinewidth": 0,
             "ticks": ""
            },
            "type": "choropleth"
           }
          ],
          "contour": [
           {
            "colorbar": {
             "outlinewidth": 0,
             "ticks": ""
            },
            "colorscale": [
             [
              0,
              "#0d0887"
             ],
             [
              0.1111111111111111,
              "#46039f"
             ],
             [
              0.2222222222222222,
              "#7201a8"
             ],
             [
              0.3333333333333333,
              "#9c179e"
             ],
             [
              0.4444444444444444,
              "#bd3786"
             ],
             [
              0.5555555555555556,
              "#d8576b"
             ],
             [
              0.6666666666666666,
              "#ed7953"
             ],
             [
              0.7777777777777778,
              "#fb9f3a"
             ],
             [
              0.8888888888888888,
              "#fdca26"
             ],
             [
              1,
              "#f0f921"
             ]
            ],
            "type": "contour"
           }
          ],
          "contourcarpet": [
           {
            "colorbar": {
             "outlinewidth": 0,
             "ticks": ""
            },
            "type": "contourcarpet"
           }
          ],
          "heatmap": [
           {
            "colorbar": {
             "outlinewidth": 0,
             "ticks": ""
            },
            "colorscale": [
             [
              0,
              "#0d0887"
             ],
             [
              0.1111111111111111,
              "#46039f"
             ],
             [
              0.2222222222222222,
              "#7201a8"
             ],
             [
              0.3333333333333333,
              "#9c179e"
             ],
             [
              0.4444444444444444,
              "#bd3786"
             ],
             [
              0.5555555555555556,
              "#d8576b"
             ],
             [
              0.6666666666666666,
              "#ed7953"
             ],
             [
              0.7777777777777778,
              "#fb9f3a"
             ],
             [
              0.8888888888888888,
              "#fdca26"
             ],
             [
              1,
              "#f0f921"
             ]
            ],
            "type": "heatmap"
           }
          ],
          "heatmapgl": [
           {
            "colorbar": {
             "outlinewidth": 0,
             "ticks": ""
            },
            "colorscale": [
             [
              0,
              "#0d0887"
             ],
             [
              0.1111111111111111,
              "#46039f"
             ],
             [
              0.2222222222222222,
              "#7201a8"
             ],
             [
              0.3333333333333333,
              "#9c179e"
             ],
             [
              0.4444444444444444,
              "#bd3786"
             ],
             [
              0.5555555555555556,
              "#d8576b"
             ],
             [
              0.6666666666666666,
              "#ed7953"
             ],
             [
              0.7777777777777778,
              "#fb9f3a"
             ],
             [
              0.8888888888888888,
              "#fdca26"
             ],
             [
              1,
              "#f0f921"
             ]
            ],
            "type": "heatmapgl"
           }
          ],
          "histogram": [
           {
            "marker": {
             "pattern": {
              "fillmode": "overlay",
              "size": 10,
              "solidity": 0.2
             }
            },
            "type": "histogram"
           }
          ],
          "histogram2d": [
           {
            "colorbar": {
             "outlinewidth": 0,
             "ticks": ""
            },
            "colorscale": [
             [
              0,
              "#0d0887"
             ],
             [
              0.1111111111111111,
              "#46039f"
             ],
             [
              0.2222222222222222,
              "#7201a8"
             ],
             [
              0.3333333333333333,
              "#9c179e"
             ],
             [
              0.4444444444444444,
              "#bd3786"
             ],
             [
              0.5555555555555556,
              "#d8576b"
             ],
             [
              0.6666666666666666,
              "#ed7953"
             ],
             [
              0.7777777777777778,
              "#fb9f3a"
             ],
             [
              0.8888888888888888,
              "#fdca26"
             ],
             [
              1,
              "#f0f921"
             ]
            ],
            "type": "histogram2d"
           }
          ],
          "histogram2dcontour": [
           {
            "colorbar": {
             "outlinewidth": 0,
             "ticks": ""
            },
            "colorscale": [
             [
              0,
              "#0d0887"
             ],
             [
              0.1111111111111111,
              "#46039f"
             ],
             [
              0.2222222222222222,
              "#7201a8"
             ],
             [
              0.3333333333333333,
              "#9c179e"
             ],
             [
              0.4444444444444444,
              "#bd3786"
             ],
             [
              0.5555555555555556,
              "#d8576b"
             ],
             [
              0.6666666666666666,
              "#ed7953"
             ],
             [
              0.7777777777777778,
              "#fb9f3a"
             ],
             [
              0.8888888888888888,
              "#fdca26"
             ],
             [
              1,
              "#f0f921"
             ]
            ],
            "type": "histogram2dcontour"
           }
          ],
          "mesh3d": [
           {
            "colorbar": {
             "outlinewidth": 0,
             "ticks": ""
            },
            "type": "mesh3d"
           }
          ],
          "parcoords": [
           {
            "line": {
             "colorbar": {
              "outlinewidth": 0,
              "ticks": ""
             }
            },
            "type": "parcoords"
           }
          ],
          "pie": [
           {
            "automargin": true,
            "type": "pie"
           }
          ],
          "scatter": [
           {
            "fillpattern": {
             "fillmode": "overlay",
             "size": 10,
             "solidity": 0.2
            },
            "type": "scatter"
           }
          ],
          "scatter3d": [
           {
            "line": {
             "colorbar": {
              "outlinewidth": 0,
              "ticks": ""
             }
            },
            "marker": {
             "colorbar": {
              "outlinewidth": 0,
              "ticks": ""
             }
            },
            "type": "scatter3d"
           }
          ],
          "scattercarpet": [
           {
            "marker": {
             "colorbar": {
              "outlinewidth": 0,
              "ticks": ""
             }
            },
            "type": "scattercarpet"
           }
          ],
          "scattergeo": [
           {
            "marker": {
             "colorbar": {
              "outlinewidth": 0,
              "ticks": ""
             }
            },
            "type": "scattergeo"
           }
          ],
          "scattergl": [
           {
            "marker": {
             "colorbar": {
              "outlinewidth": 0,
              "ticks": ""
             }
            },
            "type": "scattergl"
           }
          ],
          "scattermapbox": [
           {
            "marker": {
             "colorbar": {
              "outlinewidth": 0,
              "ticks": ""
             }
            },
            "type": "scattermapbox"
           }
          ],
          "scatterpolar": [
           {
            "marker": {
             "colorbar": {
              "outlinewidth": 0,
              "ticks": ""
             }
            },
            "type": "scatterpolar"
           }
          ],
          "scatterpolargl": [
           {
            "marker": {
             "colorbar": {
              "outlinewidth": 0,
              "ticks": ""
             }
            },
            "type": "scatterpolargl"
           }
          ],
          "scatterternary": [
           {
            "marker": {
             "colorbar": {
              "outlinewidth": 0,
              "ticks": ""
             }
            },
            "type": "scatterternary"
           }
          ],
          "surface": [
           {
            "colorbar": {
             "outlinewidth": 0,
             "ticks": ""
            },
            "colorscale": [
             [
              0,
              "#0d0887"
             ],
             [
              0.1111111111111111,
              "#46039f"
             ],
             [
              0.2222222222222222,
              "#7201a8"
             ],
             [
              0.3333333333333333,
              "#9c179e"
             ],
             [
              0.4444444444444444,
              "#bd3786"
             ],
             [
              0.5555555555555556,
              "#d8576b"
             ],
             [
              0.6666666666666666,
              "#ed7953"
             ],
             [
              0.7777777777777778,
              "#fb9f3a"
             ],
             [
              0.8888888888888888,
              "#fdca26"
             ],
             [
              1,
              "#f0f921"
             ]
            ],
            "type": "surface"
           }
          ],
          "table": [
           {
            "cells": {
             "fill": {
              "color": "#EBF0F8"
             },
             "line": {
              "color": "white"
             }
            },
            "header": {
             "fill": {
              "color": "#C8D4E3"
             },
             "line": {
              "color": "white"
             }
            },
            "type": "table"
           }
          ]
         },
         "layout": {
          "annotationdefaults": {
           "arrowcolor": "#2a3f5f",
           "arrowhead": 0,
           "arrowwidth": 1
          },
          "autotypenumbers": "strict",
          "coloraxis": {
           "colorbar": {
            "outlinewidth": 0,
            "ticks": ""
           }
          },
          "colorscale": {
           "diverging": [
            [
             0,
             "#8e0152"
            ],
            [
             0.1,
             "#c51b7d"
            ],
            [
             0.2,
             "#de77ae"
            ],
            [
             0.3,
             "#f1b6da"
            ],
            [
             0.4,
             "#fde0ef"
            ],
            [
             0.5,
             "#f7f7f7"
            ],
            [
             0.6,
             "#e6f5d0"
            ],
            [
             0.7,
             "#b8e186"
            ],
            [
             0.8,
             "#7fbc41"
            ],
            [
             0.9,
             "#4d9221"
            ],
            [
             1,
             "#276419"
            ]
           ],
           "sequential": [
            [
             0,
             "#0d0887"
            ],
            [
             0.1111111111111111,
             "#46039f"
            ],
            [
             0.2222222222222222,
             "#7201a8"
            ],
            [
             0.3333333333333333,
             "#9c179e"
            ],
            [
             0.4444444444444444,
             "#bd3786"
            ],
            [
             0.5555555555555556,
             "#d8576b"
            ],
            [
             0.6666666666666666,
             "#ed7953"
            ],
            [
             0.7777777777777778,
             "#fb9f3a"
            ],
            [
             0.8888888888888888,
             "#fdca26"
            ],
            [
             1,
             "#f0f921"
            ]
           ],
           "sequentialminus": [
            [
             0,
             "#0d0887"
            ],
            [
             0.1111111111111111,
             "#46039f"
            ],
            [
             0.2222222222222222,
             "#7201a8"
            ],
            [
             0.3333333333333333,
             "#9c179e"
            ],
            [
             0.4444444444444444,
             "#bd3786"
            ],
            [
             0.5555555555555556,
             "#d8576b"
            ],
            [
             0.6666666666666666,
             "#ed7953"
            ],
            [
             0.7777777777777778,
             "#fb9f3a"
            ],
            [
             0.8888888888888888,
             "#fdca26"
            ],
            [
             1,
             "#f0f921"
            ]
           ]
          },
          "colorway": [
           "#636efa",
           "#EF553B",
           "#00cc96",
           "#ab63fa",
           "#FFA15A",
           "#19d3f3",
           "#FF6692",
           "#B6E880",
           "#FF97FF",
           "#FECB52"
          ],
          "font": {
           "color": "#2a3f5f"
          },
          "geo": {
           "bgcolor": "white",
           "lakecolor": "white",
           "landcolor": "#E5ECF6",
           "showlakes": true,
           "showland": true,
           "subunitcolor": "white"
          },
          "hoverlabel": {
           "align": "left"
          },
          "hovermode": "closest",
          "mapbox": {
           "style": "light"
          },
          "paper_bgcolor": "white",
          "plot_bgcolor": "#E5ECF6",
          "polar": {
           "angularaxis": {
            "gridcolor": "white",
            "linecolor": "white",
            "ticks": ""
           },
           "bgcolor": "#E5ECF6",
           "radialaxis": {
            "gridcolor": "white",
            "linecolor": "white",
            "ticks": ""
           }
          },
          "scene": {
           "xaxis": {
            "backgroundcolor": "#E5ECF6",
            "gridcolor": "white",
            "gridwidth": 2,
            "linecolor": "white",
            "showbackground": true,
            "ticks": "",
            "zerolinecolor": "white"
           },
           "yaxis": {
            "backgroundcolor": "#E5ECF6",
            "gridcolor": "white",
            "gridwidth": 2,
            "linecolor": "white",
            "showbackground": true,
            "ticks": "",
            "zerolinecolor": "white"
           },
           "zaxis": {
            "backgroundcolor": "#E5ECF6",
            "gridcolor": "white",
            "gridwidth": 2,
            "linecolor": "white",
            "showbackground": true,
            "ticks": "",
            "zerolinecolor": "white"
           }
          },
          "shapedefaults": {
           "line": {
            "color": "#2a3f5f"
           }
          },
          "ternary": {
           "aaxis": {
            "gridcolor": "white",
            "linecolor": "white",
            "ticks": ""
           },
           "baxis": {
            "gridcolor": "white",
            "linecolor": "white",
            "ticks": ""
           },
           "bgcolor": "#E5ECF6",
           "caxis": {
            "gridcolor": "white",
            "linecolor": "white",
            "ticks": ""
           }
          },
          "title": {
           "x": 0.05
          },
          "xaxis": {
           "automargin": true,
           "gridcolor": "white",
           "linecolor": "white",
           "ticks": "",
           "title": {
            "standoff": 15
           },
           "zerolinecolor": "white",
           "zerolinewidth": 2
          },
          "yaxis": {
           "automargin": true,
           "gridcolor": "white",
           "linecolor": "white",
           "ticks": "",
           "title": {
            "standoff": 15
           },
           "zerolinecolor": "white",
           "zerolinewidth": 2
          }
         }
        },
        "xaxis": {
         "anchor": "y",
         "autorange": true,
         "domain": [
          0,
          1
         ],
         "range": [
          -0.5,
          8.5
         ],
         "title": {
          "text": "predictor"
         },
         "type": "category"
        },
        "yaxis": {
         "anchor": "x",
         "autorange": true,
         "domain": [
          0,
          1
         ],
         "range": [
          -4344.777975593055,
          27269.591025779653
         ],
         "title": {
          "text": "coefficient"
         },
         "type": "linear"
        }
       }
      },
      "image/png": "[encoded data removed]",
      "text/html": [
       "<div>                            <div id=\"066f74e0-8295-42fa-8b45-5c3321a3515d\" class=\"plotly-graph-div\" style=\"height:525px; width:100%;\"></div>            <script type=\"text/javascript\">                require([\"plotly\"], function(Plotly) {                    window.PLOTLYENV=window.PLOTLYENV || {};                                    if (document.getElementById(\"066f74e0-8295-42fa-8b45-5c3321a3515d\")) {                    Plotly.newPlot(                        \"066f74e0-8295-42fa-8b45-5c3321a3515d\",                        [{\"alignmentgroup\":\"True\",\"hovertemplate\":\"x=%{x}<br>y=%{y}<extra></extra>\",\"legendgroup\":\"\",\"marker\":{\"color\":\"#636efa\",\"pattern\":{\"shape\":\"\"}},\"name\":\"\",\"offsetgroup\":\"\",\"orientation\":\"v\",\"showlegend\":false,\"textposition\":\"auto\",\"x\":[\"carat\",\"cut\",\"clarity\",\"color\",\"Other\",\"IGI\",\"GIA\",\"polish\",\"symmetry\"],\"xaxis\":\"x\",\"y\":[25688.87257571102,-42.64581735829188,-1551.3396689637498,-1452.400343588771,-2764.0595255244198,1531.5219004434562,1232.5376250809647,1460.1232909104347,159.92934156692303],\"yaxis\":\"y\",\"type\":\"bar\"}],                        {\"template\":{\"data\":{\"histogram2dcontour\":[{\"type\":\"histogram2dcontour\",\"colorbar\":{\"outlinewidth\":0,\"ticks\":\"\"},\"colorscale\":[[0.0,\"#0d0887\"],[0.1111111111111111,\"#46039f\"],[0.2222222222222222,\"#7201a8\"],[0.3333333333333333,\"#9c179e\"],[0.4444444444444444,\"#bd3786\"],[0.5555555555555556,\"#d8576b\"],[0.6666666666666666,\"#ed7953\"],[0.7777777777777778,\"#fb9f3a\"],[0.8888888888888888,\"#fdca26\"],[1.0,\"#f0f921\"]]}],\"choropleth\":[{\"type\":\"choropleth\",\"colorbar\":{\"outlinewidth\":0,\"ticks\":\"\"}}],\"histogram2d\":[{\"type\":\"histogram2d\",\"colorbar\":{\"outlinewidth\":0,\"ticks\":\"\"},\"colorscale\":[[0.0,\"#0d0887\"],[0.1111111111111111,\"#46039f\"],[0.2222222222222222,\"#7201a8\"],[0.3333333333333333,\"#9c179e\"],[0.4444444444444444,\"#bd3786\"],[0.5555555555555556,\"#d8576b\"],[0.6666666666666666,\"#ed7953\"],[0.7777777777777778,\"#fb9f3a\"],[0.8888888888888888,\"#fdca26\"],[1.0,\"#f0f921\"]]}],\"heatmap\":[{\"type\":\"heatmap\",\"colorbar\":{\"outlinewidth\":0,\"ticks\":\"\"},\"colorscale\":[[0.0,\"#0d0887\"],[0.1111111111111111,\"#46039f\"],[0.2222222222222222,\"#7201a8\"],[0.3333333333333333,\"#9c179e\"],[0.4444444444444444,\"#bd3786\"],[0.5555555555555556,\"#d8576b\"],[0.6666666666666666,\"#ed7953\"],[0.7777777777777778,\"#fb9f3a\"],[0.8888888888888888,\"#fdca26\"],[1.0,\"#f0f921\"]]}],\"heatmapgl\":[{\"type\":\"heatmapgl\",\"colorbar\":{\"outlinewidth\":0,\"ticks\":\"\"},\"colorscale\":[[0.0,\"#0d0887\"],[0.1111111111111111,\"#46039f\"],[0.2222222222222222,\"#7201a8\"],[0.3333333333333333,\"#9c179e\"],[0.4444444444444444,\"#bd3786\"],[0.5555555555555556,\"#d8576b\"],[0.6666666666666666,\"#ed7953\"],[0.7777777777777778,\"#fb9f3a\"],[0.8888888888888888,\"#fdca26\"],[1.0,\"#f0f921\"]]}],\"contourcarpet\":[{\"type\":\"contourcarpet\",\"colorbar\":{\"outlinewidth\":0,\"ticks\":\"\"}}],\"contour\":[{\"type\":\"contour\",\"colorbar\":{\"outlinewidth\":0,\"ticks\":\"\"},\"colorscale\":[[0.0,\"#0d0887\"],[0.1111111111111111,\"#46039f\"],[0.2222222222222222,\"#7201a8\"],[0.3333333333333333,\"#9c179e\"],[0.4444444444444444,\"#bd3786\"],[0.5555555555555556,\"#d8576b\"],[0.6666666666666666,\"#ed7953\"],[0.7777777777777778,\"#fb9f3a\"],[0.8888888888888888,\"#fdca26\"],[1.0,\"#f0f921\"]]}],\"surface\":[{\"type\":\"surface\",\"colorbar\":{\"outlinewidth\":0,\"ticks\":\"\"},\"colorscale\":[[0.0,\"#0d0887\"],[0.1111111111111111,\"#46039f\"],[0.2222222222222222,\"#7201a8\"],[0.3333333333333333,\"#9c179e\"],[0.4444444444444444,\"#bd3786\"],[0.5555555555555556,\"#d8576b\"],[0.6666666666666666,\"#ed7953\"],[0.7777777777777778,\"#fb9f3a\"],[0.8888888888888888,\"#fdca26\"],[1.0,\"#f0f921\"]]}],\"mesh3d\":[{\"type\":\"mesh3d\",\"colorbar\":{\"outlinewidth\":0,\"ticks\":\"\"}}],\"scatter\":[{\"fillpattern\":{\"fillmode\":\"overlay\",\"size\":10,\"solidity\":0.2},\"type\":\"scatter\"}],\"parcoords\":[{\"type\":\"parcoords\",\"line\":{\"colorbar\":{\"outlinewidth\":0,\"ticks\":\"\"}}}],\"scatterpolargl\":[{\"type\":\"scatterpolargl\",\"marker\":{\"colorbar\":{\"outlinewidth\":0,\"ticks\":\"\"}}}],\"bar\":[{\"error_x\":{\"color\":\"#2a3f5f\"},\"error_y\":{\"color\":\"#2a3f5f\"},\"marker\":{\"line\":{\"color\":\"#E5ECF6\",\"width\":0.5},\"pattern\":{\"fillmode\":\"overlay\",\"size\":10,\"solidity\":0.2}},\"type\":\"bar\"}],\"scattergeo\":[{\"type\":\"scattergeo\",\"marker\":{\"colorbar\":{\"outlinewidth\":0,\"ticks\":\"\"}}}],\"scatterpolar\":[{\"type\":\"scatterpolar\",\"marker\":{\"colorbar\":{\"outlinewidth\":0,\"ticks\":\"\"}}}],\"histogram\":[{\"marker\":{\"pattern\":{\"fillmode\":\"overlay\",\"size\":10,\"solidity\":0.2}},\"type\":\"histogram\"}],\"scattergl\":[{\"type\":\"scattergl\",\"marker\":{\"colorbar\":{\"outlinewidth\":0,\"ticks\":\"\"}}}],\"scatter3d\":[{\"type\":\"scatter3d\",\"line\":{\"colorbar\":{\"outlinewidth\":0,\"ticks\":\"\"}},\"marker\":{\"colorbar\":{\"outlinewidth\":0,\"ticks\":\"\"}}}],\"scattermapbox\":[{\"type\":\"scattermapbox\",\"marker\":{\"colorbar\":{\"outlinewidth\":0,\"ticks\":\"\"}}}],\"scatterternary\":[{\"type\":\"scatterternary\",\"marker\":{\"colorbar\":{\"outlinewidth\":0,\"ticks\":\"\"}}}],\"scattercarpet\":[{\"type\":\"scattercarpet\",\"marker\":{\"colorbar\":{\"outlinewidth\":0,\"ticks\":\"\"}}}],\"carpet\":[{\"aaxis\":{\"endlinecolor\":\"#2a3f5f\",\"gridcolor\":\"white\",\"linecolor\":\"white\",\"minorgridcolor\":\"white\",\"startlinecolor\":\"#2a3f5f\"},\"baxis\":{\"endlinecolor\":\"#2a3f5f\",\"gridcolor\":\"white\",\"linecolor\":\"white\",\"minorgridcolor\":\"white\",\"startlinecolor\":\"#2a3f5f\"},\"type\":\"carpet\"}],\"table\":[{\"cells\":{\"fill\":{\"color\":\"#EBF0F8\"},\"line\":{\"color\":\"white\"}},\"header\":{\"fill\":{\"color\":\"#C8D4E3\"},\"line\":{\"color\":\"white\"}},\"type\":\"table\"}],\"barpolar\":[{\"marker\":{\"line\":{\"color\":\"#E5ECF6\",\"width\":0.5},\"pattern\":{\"fillmode\":\"overlay\",\"size\":10,\"solidity\":0.2}},\"type\":\"barpolar\"}],\"pie\":[{\"automargin\":true,\"type\":\"pie\"}]},\"layout\":{\"autotypenumbers\":\"strict\",\"colorway\":[\"#636efa\",\"#EF553B\",\"#00cc96\",\"#ab63fa\",\"#FFA15A\",\"#19d3f3\",\"#FF6692\",\"#B6E880\",\"#FF97FF\",\"#FECB52\"],\"font\":{\"color\":\"#2a3f5f\"},\"hovermode\":\"closest\",\"hoverlabel\":{\"align\":\"left\"},\"paper_bgcolor\":\"white\",\"plot_bgcolor\":\"#E5ECF6\",\"polar\":{\"bgcolor\":\"#E5ECF6\",\"angularaxis\":{\"gridcolor\":\"white\",\"linecolor\":\"white\",\"ticks\":\"\"},\"radialaxis\":{\"gridcolor\":\"white\",\"linecolor\":\"white\",\"ticks\":\"\"}},\"ternary\":{\"bgcolor\":\"#E5ECF6\",\"aaxis\":{\"gridcolor\":\"white\",\"linecolor\":\"white\",\"ticks\":\"\"},\"baxis\":{\"gridcolor\":\"white\",\"linecolor\":\"white\",\"ticks\":\"\"},\"caxis\":{\"gridcolor\":\"white\",\"linecolor\":\"white\",\"ticks\":\"\"}},\"coloraxis\":{\"colorbar\":{\"outlinewidth\":0,\"ticks\":\"\"}},\"colorscale\":{\"sequential\":[[0.0,\"#0d0887\"],[0.1111111111111111,\"#46039f\"],[0.2222222222222222,\"#7201a8\"],[0.3333333333333333,\"#9c179e\"],[0.4444444444444444,\"#bd3786\"],[0.5555555555555556,\"#d8576b\"],[0.6666666666666666,\"#ed7953\"],[0.7777777777777778,\"#fb9f3a\"],[0.8888888888888888,\"#fdca26\"],[1.0,\"#f0f921\"]],\"sequentialminus\":[[0.0,\"#0d0887\"],[0.1111111111111111,\"#46039f\"],[0.2222222222222222,\"#7201a8\"],[0.3333333333333333,\"#9c179e\"],[0.4444444444444444,\"#bd3786\"],[0.5555555555555556,\"#d8576b\"],[0.6666666666666666,\"#ed7953\"],[0.7777777777777778,\"#fb9f3a\"],[0.8888888888888888,\"#fdca26\"],[1.0,\"#f0f921\"]],\"diverging\":[[0,\"#8e0152\"],[0.1,\"#c51b7d\"],[0.2,\"#de77ae\"],[0.3,\"#f1b6da\"],[0.4,\"#fde0ef\"],[0.5,\"#f7f7f7\"],[0.6,\"#e6f5d0\"],[0.7,\"#b8e186\"],[0.8,\"#7fbc41\"],[0.9,\"#4d9221\"],[1,\"#276419\"]]},\"xaxis\":{\"gridcolor\":\"white\",\"linecolor\":\"white\",\"ticks\":\"\",\"title\":{\"standoff\":15},\"zerolinecolor\":\"white\",\"automargin\":true,\"zerolinewidth\":2},\"yaxis\":{\"gridcolor\":\"white\",\"linecolor\":\"white\",\"ticks\":\"\",\"title\":{\"standoff\":15},\"zerolinecolor\":\"white\",\"automargin\":true,\"zerolinewidth\":2},\"scene\":{\"xaxis\":{\"backgroundcolor\":\"#E5ECF6\",\"gridcolor\":\"white\",\"linecolor\":\"white\",\"showbackground\":true,\"ticks\":\"\",\"zerolinecolor\":\"white\",\"gridwidth\":2},\"yaxis\":{\"backgroundcolor\":\"#E5ECF6\",\"gridcolor\":\"white\",\"linecolor\":\"white\",\"showbackground\":true,\"ticks\":\"\",\"zerolinecolor\":\"white\",\"gridwidth\":2},\"zaxis\":{\"backgroundcolor\":\"#E5ECF6\",\"gridcolor\":\"white\",\"linecolor\":\"white\",\"showbackground\":true,\"ticks\":\"\",\"zerolinecolor\":\"white\",\"gridwidth\":2}},\"shapedefaults\":{\"line\":{\"color\":\"#2a3f5f\"}},\"annotationdefaults\":{\"arrowcolor\":\"#2a3f5f\",\"arrowhead\":0,\"arrowwidth\":1},\"geo\":{\"bgcolor\":\"white\",\"landcolor\":\"#E5ECF6\",\"subunitcolor\":\"white\",\"showland\":true,\"showlakes\":true,\"lakecolor\":\"white\"},\"title\":{\"x\":0.05},\"mapbox\":{\"style\":\"light\"}}},\"xaxis\":{\"anchor\":\"y\",\"domain\":[0.0,1.0],\"title\":{\"text\":\"predictor\"}},\"yaxis\":{\"anchor\":\"x\",\"domain\":[0.0,1.0],\"title\":{\"text\":\"coefficient\"}},\"legend\":{\"tracegroupgap\":0},\"margin\":{\"t\":60},\"barmode\":\"relative\"},                        {\"responsive\": true}                    ).then(function(){\n",
       "                            \n",
       "var gd = document.getElementById('066f74e0-8295-42fa-8b45-5c3321a3515d');\n",
       "var x = new MutationObserver(function (mutations, observer) {{\n",
       "        var display = window.getComputedStyle(gd).display;\n",
       "        if (!display || display === 'none') {{\n",
       "            console.log([gd, 'removed!']);\n",
       "            Plotly.purge(gd);\n",
       "            observer.disconnect();\n",
       "        }}\n",
       "}});\n",
       "\n",
       "// Listen for the removal of the full notebook cells\n",
       "var notebookContainer = gd.closest('#notebook-container');\n",
       "if (notebookContainer) {{\n",
       "    x.observe(notebookContainer, {childList: true});\n",
       "}}\n",
       "\n",
       "// Listen for the clearing of the current output cell\n",
       "var outputEl = gd.closest('.output');\n",
       "if (outputEl) {{\n",
       "    x.observe(outputEl, {childList: true});\n",
       "}}\n",
       "\n",
       "                        })                };                });            </script>        </div>"
      ]
     },
     "metadata": {},
     "output_type": "display_data"
    }
   ],
   "source": [
    "#show results as a bar chart\n",
    "import plotly.express as px\n",
    "fig = px.bar(x=results['feature'], y=results['coeff'])\n",
    "fig.update_layout(\n",
    "    yaxis=dict( title='coefficient'),\n",
    "    xaxis=dict( title='predictor'),\n",
    ")\n",
    "fig.show()\n",
    "#surprisingly, cut doesn't seem to have much of an impact\n",
    "#the magnitude of impact for clarity and color match my understanding based on the Rapaport pricing guide"
   ]
  },
  {
   "cell_type": "code",
   "execution_count": 298,
   "id": "b789935d-815f-42ec-9a35-a9e3bdcf21bc",
   "metadata": {},
   "outputs": [],
   "source": [
    "#predict the y-values on the testing dataset\n",
    "y_preds = mymodel.predict(X_test)"
   ]
  },
  {
   "cell_type": "code",
   "execution_count": 299,
   "id": "ba828450-e87b-4f9f-9604-39c6d1a0c13e",
   "metadata": {},
   "outputs": [
    {
     "name": "stdout",
     "output_type": "stream",
     "text": [
      "[-1768.99, -7773.14, 1799.41, -3773.22, 36894.12]\n",
      "[709.06, 508.25, 1386.01, 872.56, 19053.05]\n"
     ]
    }
   ],
   "source": [
    "#compare some of the results of the predictions \n",
    "print([round(x,2) for x in y_preds[:5]])\n",
    "print(list(y_test[:5]))\n",
    "#looks very wrong..."
   ]
  },
  {
   "cell_type": "code",
   "execution_count": 300,
   "id": "715b3198-2d56-4bfa-af74-d9425ff7ae07",
   "metadata": {},
   "outputs": [
    {
     "data": {
      "image/png": "[encoded data removed]",
      "text/plain": [
       "<Figure size 432x432 with 1 Axes>"
      ]
     },
     "metadata": {
      "needs_background": "light"
     },
     "output_type": "display_data"
    }
   ],
   "source": [
    "#compare predictions to known values\n",
    "plt.figure(figsize=(6,6))\n",
    "ax = sns.regplot(x = y_preds, \n",
    "                 y = y_test, \n",
    "                 scatter_kws={\"color\": \"black\"}, \n",
    "                 line_kws={\"color\": \"red\"})\n",
    "ax.set(xlabel='predicted values', ylabel='true values');\n",
    "#something weird is going on"
   ]
  },
  {
   "cell_type": "markdown",
   "id": "8321fc1c-7426-42d1-8691-f238f25ac552",
   "metadata": {},
   "source": [
    "## Model Evaluation"
   ]
  },
  {
   "cell_type": "code",
   "execution_count": 301,
   "id": "e0b3c659-2fea-4a96-acf7-b805102f1364",
   "metadata": {},
   "outputs": [
    {
     "data": {
      "text/plain": [
       "21808.183754717873"
      ]
     },
     "execution_count": 301,
     "metadata": {},
     "output_type": "execute_result"
    }
   ],
   "source": [
    "#root mean sq error\n",
    "rmse = sqrt(metrics.mean_squared_error(y_test, y_preds))\n",
    "rmse"
   ]
  },
  {
   "cell_type": "code",
   "execution_count": 302,
   "id": "ef6b0e0a-af5e-4240-b4eb-b8e4c5413b06",
   "metadata": {},
   "outputs": [
    {
     "data": {
      "text/plain": [
       "5964.082332605049"
      ]
     },
     "execution_count": 302,
     "metadata": {},
     "output_type": "execute_result"
    }
   ],
   "source": [
    "#is that more or less than if we just used the average as our model?\n",
    "avg_val = y_train.mean()\n",
    "avg_val"
   ]
  },
  {
   "cell_type": "code",
   "execution_count": 303,
   "id": "6ae26d37-1ac7-4d55-9593-53ad4b68ec7e",
   "metadata": {},
   "outputs": [
    {
     "data": {
      "text/plain": [
       "array([5964.08233261, 5964.08233261, 5964.08233261, 5964.08233261,\n",
       "       5964.08233261, 5964.08233261, 5964.08233261, 5964.08233261,\n",
       "       5964.08233261, 5964.08233261])"
      ]
     },
     "execution_count": 303,
     "metadata": {},
     "output_type": "execute_result"
    }
   ],
   "source": [
    "#what would the error be if I predicted the average price for all diamonds?\n",
    "comparison = np.full((len(y_test), ), avg_val)\n",
    "comparison[:10]"
   ]
  },
  {
   "cell_type": "code",
   "execution_count": 304,
   "id": "4412f65f-5b76-4a32-86ab-0032f1c9a942",
   "metadata": {},
   "outputs": [
    {
     "data": {
      "text/plain": [
       "array([ -1768.98872225,  -7773.13788229,   1799.40635101,  -3773.22091911,\n",
       "        36894.12244705,  -2112.93461035, 105839.14026801, -10086.59243056,\n",
       "          365.35020626,   9010.53486373])"
      ]
     },
     "execution_count": 304,
     "metadata": {},
     "output_type": "execute_result"
    }
   ],
   "source": [
    "#compare that to my predictions\n",
    "y_preds[:10]\n",
    "#something is very off because the values are negative"
   ]
  },
  {
   "cell_type": "code",
   "execution_count": 305,
   "id": "5c326320-9bc5-4d69-8b68-91ca98916b0b",
   "metadata": {},
   "outputs": [
    {
     "data": {
      "text/plain": [
       "29911.671286357705"
      ]
     },
     "execution_count": 305,
     "metadata": {},
     "output_type": "execute_result"
    }
   ],
   "source": [
    "#compare these two:\n",
    "sqrt(metrics.mean_squared_error(y_test, comparison))"
   ]
  },
  {
   "cell_type": "code",
   "execution_count": 306,
   "id": "26654678-af1b-4b5f-bfa7-1d318e077a21",
   "metadata": {},
   "outputs": [
    {
     "data": {
      "text/plain": [
       "0.47"
      ]
     },
     "execution_count": 306,
     "metadata": {},
     "output_type": "execute_result"
    }
   ],
   "source": [
    "# check R-2 (coefficient of determination)\n",
    "r2 = metrics.r2_score(y_test, y_preds)\n",
    "round(r2, 2)\n",
    "#very bad...need to fix something"
   ]
  },
  {
   "cell_type": "markdown",
   "id": "6d22d2cf-b187-4d37-bda8-8b4beba28c04",
   "metadata": {},
   "source": [
    "## Additional EDA / Cleanup"
   ]
  },
  {
   "cell_type": "code",
   "execution_count": 308,
   "id": "1d884cb7-0cf8-4517-82b3-3aed1adb09c5",
   "metadata": {},
   "outputs": [
    {
     "data": {
      "text/plain": [
       "count    1.104580e+05\n",
       "mean     5.948045e+03\n",
       "std      3.049067e+04\n",
       "min      1.447800e+02\n",
       "25%      7.499050e+02\n",
       "50%      1.660575e+03\n",
       "75%      4.798540e+03\n",
       "max      3.777064e+06\n",
       "Name: price, dtype: float64"
      ]
     },
     "execution_count": 308,
     "metadata": {},
     "output_type": "execute_result"
    }
   ],
   "source": [
    "df['price'].describe()\n",
    "#why is it like this??\n",
    "#do I need to remove outliers?"
   ]
  },
  {
   "cell_type": "code",
   "execution_count": 309,
   "id": "516d96d5-ba92-4c8c-99da-a617419991e5",
   "metadata": {},
   "outputs": [
    {
     "data": {
      "text/plain": [
       "count    110458.000000\n",
       "mean          3.993636\n",
       "std           2.296074\n",
       "min           1.000000\n",
       "25%           2.000000\n",
       "50%           4.000000\n",
       "75%           6.000000\n",
       "max          10.000000\n",
       "Name: color, dtype: float64"
      ]
     },
     "execution_count": 309,
     "metadata": {},
     "output_type": "execute_result"
    }
   ],
   "source": [
    "df['color'].describe()\n",
    "#this one looks normal"
   ]
  },
  {
   "cell_type": "code",
   "execution_count": 312,
   "id": "d1fa7f58-52b4-4d76-9ef7-ef349e071fd8",
   "metadata": {},
   "outputs": [
    {
     "data": {
      "image/png": "[encoded data removed]",
      "text/plain": [
       "<Figure size 432x288 with 1 Axes>"
      ]
     },
     "metadata": {
      "needs_background": "light"
     },
     "output_type": "display_data"
    }
   ],
   "source": [
    "#look at the spread of the data to see if there are outliers\n",
    "plt.scatter(df['carat'], df['price']);\n",
    "#there are definitely some outliers probably making it hard to predict well\n",
    "#not sure how to systematically remove the outliers but I will cut it off at 10 carats for now since most of the data lies below that"
   ]
  },
  {
   "cell_type": "code",
   "execution_count": 313,
   "id": "e8df4e2d-5d73-4e3f-9e6e-6e58a75cc524",
   "metadata": {},
   "outputs": [
    {
     "data": {
      "text/plain": [
       "(110458, 10)"
      ]
     },
     "execution_count": 313,
     "metadata": {},
     "output_type": "execute_result"
    }
   ],
   "source": [
    "df.shape"
   ]
  },
  {
   "cell_type": "markdown",
   "id": "444a9552-dc02-4cfe-ac32-caa99c12a645",
   "metadata": {},
   "source": [
    "## Remove Outliers and Re-Model"
   ]
  },
  {
   "cell_type": "code",
   "execution_count": 316,
   "id": "3b6acf35-fb66-4196-8a1b-f0e6450d5dab",
   "metadata": {},
   "outputs": [],
   "source": [
    "#drop the outliers\n",
    "df = df[(df[\"carat\"]<10)]"
   ]
  },
  {
   "cell_type": "code",
   "execution_count": 317,
   "id": "c995f17b-e8ca-4186-9913-992f9df1e404",
   "metadata": {},
   "outputs": [
    {
     "data": {
      "text/plain": [
       "(110365, 10)"
      ]
     },
     "execution_count": 317,
     "metadata": {},
     "output_type": "execute_result"
    }
   ],
   "source": [
    "df.shape\n",
    "#didn't lose much data"
   ]
  },
  {
   "cell_type": "code",
   "execution_count": 318,
   "id": "f24ab154-fe6d-4ea8-861f-5c47799b3dc7",
   "metadata": {},
   "outputs": [
    {
     "data": {
      "text/plain": [
       "(110365,)"
      ]
     },
     "execution_count": 318,
     "metadata": {},
     "output_type": "execute_result"
    }
   ],
   "source": [
    "#try the model again\n",
    "#declare the target variable\n",
    "y = df['price']\n",
    "y.shape"
   ]
  },
  {
   "cell_type": "code",
   "execution_count": 319,
   "id": "ce0cb3c7-b02d-4cab-9442-40a4184ec741",
   "metadata": {},
   "outputs": [
    {
     "data": {
      "text/plain": [
       "(110365, 9)"
      ]
     },
     "execution_count": 319,
     "metadata": {},
     "output_type": "execute_result"
    }
   ],
   "source": [
    "#declare the model features\n",
    "X = df.drop(['price'], axis=1) #just exclude price\n",
    "X.shape"
   ]
  },
  {
   "cell_type": "code",
   "execution_count": 320,
   "id": "e36c9de4-9e61-45b5-9564-9a15837a107a",
   "metadata": {},
   "outputs": [],
   "source": [
    "# train-test split\n",
    "X_train, X_test, y_train, y_test = train_test_split(X, y, test_size = .25, random_state=12) #using the standard test size for now"
   ]
  },
  {
   "cell_type": "code",
   "execution_count": 321,
   "id": "ee1c4436-78c7-4e79-bbfb-5705b3b993af",
   "metadata": {},
   "outputs": [],
   "source": [
    "#instantiate the SKlearn algorithm\n",
    "mymodel = LinearRegression(fit_intercept=True, \n",
    "                           normalize=False, \n",
    "                           copy_X=True, \n",
    "                           n_jobs=None, \n",
    "                           positive=False)"
   ]
  },
  {
   "cell_type": "code",
   "execution_count": 322,
   "id": "2cb889cc-48fb-4794-bb60-ba377403a6a6",
   "metadata": {},
   "outputs": [
    {
     "name": "stderr",
     "output_type": "stream",
     "text": [
      "/home/studio-lab-user/.conda/envs/default/lib/python3.9/site-packages/sklearn/linear_model/_base.py:148: FutureWarning:\n",
      "\n",
      "'normalize' was deprecated in version 1.0 and will be removed in 1.2. Please leave the normalize parameter to its default value to silence this warning. The default behavior of this estimator is to not do any normalization. If normalization is needed please use sklearn.preprocessing.StandardScaler instead.\n",
      "\n"
     ]
    },
    {
     "data": {
      "text/html": [
       "<style>#sk-container-id-4 {color: black;background-color: white;}#sk-container-id-4 pre{padding: 0;}#sk-container-id-4 div.sk-toggleable {background-color: white;}#sk-container-id-4 label.sk-toggleable__label {cursor: pointer;display: block;width: 100%;margin-bottom: 0;padding: 0.3em;box-sizing: border-box;text-align: center;}#sk-container-id-4 label.sk-toggleable__label-arrow:before {content: \"▸\";float: left;margin-right: 0.25em;color: #696969;}#sk-container-id-4 label.sk-toggleable__label-arrow:hover:before {color: black;}#sk-container-id-4 div.sk-estimator:hover label.sk-toggleable__label-arrow:before {color: black;}#sk-container-id-4 div.sk-toggleable__content {max-height: 0;max-width: 0;overflow: hidden;text-align: left;background-color: #f0f8ff;}#sk-container-id-4 div.sk-toggleable__content pre {margin: 0.2em;color: black;border-radius: 0.25em;background-color: #f0f8ff;}#sk-container-id-4 input.sk-toggleable__control:checked~div.sk-toggleable__content {max-height: 200px;max-width: 100%;overflow: auto;}#sk-container-id-4 input.sk-toggleable__control:checked~label.sk-toggleable__label-arrow:before {content: \"▾\";}#sk-container-id-4 div.sk-estimator input.sk-toggleable__control:checked~label.sk-toggleable__label {background-color: #d4ebff;}#sk-container-id-4 div.sk-label input.sk-toggleable__control:checked~label.sk-toggleable__label {background-color: #d4ebff;}#sk-container-id-4 input.sk-hidden--visually {border: 0;clip: rect(1px 1px 1px 1px);clip: rect(1px, 1px, 1px, 1px);height: 1px;margin: -1px;overflow: hidden;padding: 0;position: absolute;width: 1px;}#sk-container-id-4 div.sk-estimator {font-family: monospace;background-color: #f0f8ff;border: 1px dotted black;border-radius: 0.25em;box-sizing: border-box;margin-bottom: 0.5em;}#sk-container-id-4 div.sk-estimator:hover {background-color: #d4ebff;}#sk-container-id-4 div.sk-parallel-item::after {content: \"\";width: 100%;border-bottom: 1px solid gray;flex-grow: 1;}#sk-container-id-4 div.sk-label:hover label.sk-toggleable__label {background-color: #d4ebff;}#sk-container-id-4 div.sk-serial::before {content: \"\";position: absolute;border-left: 1px solid gray;box-sizing: border-box;top: 0;bottom: 0;left: 50%;z-index: 0;}#sk-container-id-4 div.sk-serial {display: flex;flex-direction: column;align-items: center;background-color: white;padding-right: 0.2em;padding-left: 0.2em;position: relative;}#sk-container-id-4 div.sk-item {position: relative;z-index: 1;}#sk-container-id-4 div.sk-parallel {display: flex;align-items: stretch;justify-content: center;background-color: white;position: relative;}#sk-container-id-4 div.sk-item::before, #sk-container-id-4 div.sk-parallel-item::before {content: \"\";position: absolute;border-left: 1px solid gray;box-sizing: border-box;top: 0;bottom: 0;left: 50%;z-index: -1;}#sk-container-id-4 div.sk-parallel-item {display: flex;flex-direction: column;z-index: 1;position: relative;background-color: white;}#sk-container-id-4 div.sk-parallel-item:first-child::after {align-self: flex-end;width: 50%;}#sk-container-id-4 div.sk-parallel-item:last-child::after {align-self: flex-start;width: 50%;}#sk-container-id-4 div.sk-parallel-item:only-child::after {width: 0;}#sk-container-id-4 div.sk-dashed-wrapped {border: 1px dashed gray;margin: 0 0.4em 0.5em 0.4em;box-sizing: border-box;padding-bottom: 0.4em;background-color: white;}#sk-container-id-4 div.sk-label label {font-family: monospace;font-weight: bold;display: inline-block;line-height: 1.2em;}#sk-container-id-4 div.sk-label-container {text-align: center;}#sk-container-id-4 div.sk-container {/* jupyter's `normalize.less` sets `[hidden] { display: none; }` but bootstrap.min.css set `[hidden] { display: none !important; }` so we also need the `!important` here to be able to override the default hidden behavior on the sphinx rendered scikit-learn.org. See: https://github.com/scikit-learn/scikit-learn/issues/21755 */display: inline-block !important;position: relative;}#sk-container-id-4 div.sk-text-repr-fallback {display: none;}</style><div id=\"sk-container-id-4\" class=\"sk-top-container\"><div class=\"sk-text-repr-fallback\"><pre>LinearRegression(normalize=False)</pre><b>In a Jupyter environment, please rerun this cell to show the HTML representation or trust the notebook. <br />On GitHub, the HTML representation is unable to render, please try loading this page with nbviewer.org.</b></div><div class=\"sk-container\" hidden><div class=\"sk-item\"><div class=\"sk-estimator sk-toggleable\"><input class=\"sk-toggleable__control sk-hidden--visually\" id=\"sk-estimator-id-4\" type=\"checkbox\" checked><label for=\"sk-estimator-id-4\" class=\"sk-toggleable__label sk-toggleable__label-arrow\">LinearRegression</label><div class=\"sk-toggleable__content\"><pre>LinearRegression(normalize=False)</pre></div></div></div></div></div>"
      ],
      "text/plain": [
       "LinearRegression(normalize=False)"
      ]
     },
     "execution_count": 322,
     "metadata": {},
     "output_type": "execute_result"
    }
   ],
   "source": [
    "#fit the model to the training dataset\n",
    "mymodel.fit(X_train, y_train)"
   ]
  },
  {
   "cell_type": "code",
   "execution_count": 323,
   "id": "59cf43a3-ef26-4cd1-a86f-b3441231ad4c",
   "metadata": {},
   "outputs": [
    {
     "name": "stdout",
     "output_type": "stream",
     "text": [
      "LinearRegression(normalize=False)\n"
     ]
    }
   ],
   "source": [
    "print(mymodel)"
   ]
  },
  {
   "cell_type": "code",
   "execution_count": 324,
   "id": "a786bc08-d2e6-4855-86d2-d8a05771c7c7",
   "metadata": {},
   "outputs": [
    {
     "data": {
      "text/plain": [
       "-1891.4552320532084"
      ]
     },
     "execution_count": 324,
     "metadata": {},
     "output_type": "execute_result"
    }
   ],
   "source": [
    "#what is the intercept?\n",
    "mymodel.intercept_\n",
    "#according to my model intercept, if carat, cut, clarity, color, polish, symmetry and the rating agencies were all 0, the diamond would be priced at -$2K\n",
    "#this looks better than before already!"
   ]
  },
  {
   "cell_type": "code",
   "execution_count": 325,
   "id": "39e7dec4-90fd-4510-82dd-a582de5c8943",
   "metadata": {},
   "outputs": [
    {
     "name": "stdout",
     "output_type": "stream",
     "text": [
      "Regression Equation:  y = -1891.46 + 17577.64*carat + -329.89*cut + -945.52*clarity + -935.66*color + -1036.88*Other + 536.86*IGI + 500.02*GIA+ 804.19*polish+ 38.74*symmetry\n"
     ]
    }
   ],
   "source": [
    "#what is the equation for this mymodel?\n",
    "cols=list(X.columns)\n",
    "coefs=list(mymodel.coef_)\n",
    "xcoefs = [(coefs[i], cols[i]) for i in range(0, len(cols))]\n",
    "output = f'y = {round(mymodel.intercept_,2)} + {round(xcoefs[0][0],2)}*{xcoefs[0][1]} + {round(xcoefs[1][0],2)}*{xcoefs[1][1]} + {round(xcoefs[2][0],2)}*{xcoefs[2][1]} + {round(xcoefs[3][0],2)}*{xcoefs[3][1]} + {round(xcoefs[4][0],2)}*{xcoefs[4][1]} + {round(xcoefs[5][0],2)}*{xcoefs[5][1]} + {round(xcoefs[6][0],2)}*{xcoefs[6][1]}+ {round(xcoefs[7][0],2)}*{xcoefs[7][1]}+ {round(xcoefs[8][0],2)}*{xcoefs[8][1]}'\n",
    "print(\"Regression Equation: \", output)"
   ]
  },
  {
   "cell_type": "code",
   "execution_count": 326,
   "id": "b738a132-fa44-4d7b-bd3a-78cc43773907",
   "metadata": {},
   "outputs": [],
   "source": [
    "#for the graph below\n",
    "coefs=list(mymodel.coef_)\n",
    "cols=list(X.columns)"
   ]
  },
  {
   "cell_type": "code",
   "execution_count": 327,
   "id": "cd23c858-d5dc-4fe6-b9f8-f8d96df5eb03",
   "metadata": {},
   "outputs": [
    {
     "data": {
      "text/html": [
       "<div>\n",
       "<style scoped>\n",
       "    .dataframe tbody tr th:only-of-type {\n",
       "        vertical-align: middle;\n",
       "    }\n",
       "\n",
       "    .dataframe tbody tr th {\n",
       "        vertical-align: top;\n",
       "    }\n",
       "\n",
       "    .dataframe thead th {\n",
       "        text-align: right;\n",
       "    }\n",
       "</style>\n",
       "<table border=\"1\" class=\"dataframe\">\n",
       "  <thead>\n",
       "    <tr style=\"text-align: right;\">\n",
       "      <th></th>\n",
       "      <th>feature</th>\n",
       "      <th>coeff</th>\n",
       "    </tr>\n",
       "  </thead>\n",
       "  <tbody>\n",
       "    <tr>\n",
       "      <th>0</th>\n",
       "      <td>carat</td>\n",
       "      <td>17577.639179</td>\n",
       "    </tr>\n",
       "    <tr>\n",
       "      <th>1</th>\n",
       "      <td>cut</td>\n",
       "      <td>-329.892596</td>\n",
       "    </tr>\n",
       "    <tr>\n",
       "      <th>2</th>\n",
       "      <td>clarity</td>\n",
       "      <td>-945.520030</td>\n",
       "    </tr>\n",
       "    <tr>\n",
       "      <th>3</th>\n",
       "      <td>color</td>\n",
       "      <td>-935.656494</td>\n",
       "    </tr>\n",
       "    <tr>\n",
       "      <th>4</th>\n",
       "      <td>Other</td>\n",
       "      <td>-1036.876090</td>\n",
       "    </tr>\n",
       "    <tr>\n",
       "      <th>5</th>\n",
       "      <td>IGI</td>\n",
       "      <td>536.856175</td>\n",
       "    </tr>\n",
       "    <tr>\n",
       "      <th>6</th>\n",
       "      <td>GIA</td>\n",
       "      <td>500.019915</td>\n",
       "    </tr>\n",
       "    <tr>\n",
       "      <th>7</th>\n",
       "      <td>polish</td>\n",
       "      <td>804.190442</td>\n",
       "    </tr>\n",
       "    <tr>\n",
       "      <th>8</th>\n",
       "      <td>symmetry</td>\n",
       "      <td>38.735434</td>\n",
       "    </tr>\n",
       "  </tbody>\n",
       "</table>\n",
       "</div>"
      ],
      "text/plain": [
       "    feature         coeff\n",
       "0     carat  17577.639179\n",
       "1       cut   -329.892596\n",
       "2   clarity   -945.520030\n",
       "3     color   -935.656494\n",
       "4     Other  -1036.876090\n",
       "5       IGI    536.856175\n",
       "6       GIA    500.019915\n",
       "7    polish    804.190442\n",
       "8  symmetry     38.735434"
      ]
     },
     "execution_count": 327,
     "metadata": {},
     "output_type": "execute_result"
    }
   ],
   "source": [
    "#turn these into a dataframe\n",
    "results = pd.DataFrame(list(zip(cols, coefs)), columns=['feature','coeff'])\n",
    "results "
   ]
  },
  {
   "cell_type": "code",
   "execution_count": 328,
   "id": "68f71b78-e95d-47b0-b5e9-f875bb4a8cd1",
   "metadata": {},
   "outputs": [
    {
     "data": {
      "application/vnd.plotly.v1+json": {
       "config": {
        "plotlyServerURL": "https://plot.ly"
       },
       "data": [
        {
         "alignmentgroup": "True",
         "hovertemplate": "x=%{x}<br>y=%{y}<extra></extra>",
         "legendgroup": "",
         "marker": {
          "color": "#636efa",
          "pattern": {
           "shape": ""
          }
         },
         "name": "",
         "offsetgroup": "",
         "orientation": "v",
         "showlegend": false,
         "textposition": "auto",
         "type": "bar",
         "x": [
          "carat",
          "cut",
          "clarity",
          "color",
          "Other",
          "IGI",
          "GIA",
          "polish",
          "symmetry"
         ],
         "xaxis": "x",
         "y": [
          17577.63917893119,
          -329.892595589351,
          -945.5200295388732,
          -935.6564942761466,
          -1036.8760898364421,
          536.856175306665,
          500.0199145297772,
          804.1904419248586,
          38.73543390411498
         ],
         "yaxis": "y"
        }
       ],
       "layout": {
        "autosize": true,
        "barmode": "relative",
        "legend": {
         "tracegroupgap": 0
        },
        "margin": {
         "t": 60
        },
        "template": {
         "data": {
          "bar": [
           {
            "error_x": {
             "color": "#2a3f5f"
            },
            "error_y": {
             "color": "#2a3f5f"
            },
            "marker": {
             "line": {
              "color": "#E5ECF6",
              "width": 0.5
             },
             "pattern": {
              "fillmode": "overlay",
              "size": 10,
              "solidity": 0.2
             }
            },
            "type": "bar"
           }
          ],
          "barpolar": [
           {
            "marker": {
             "line": {
              "color": "#E5ECF6",
              "width": 0.5
             },
             "pattern": {
              "fillmode": "overlay",
              "size": 10,
              "solidity": 0.2
             }
            },
            "type": "barpolar"
           }
          ],
          "carpet": [
           {
            "aaxis": {
             "endlinecolor": "#2a3f5f",
             "gridcolor": "white",
             "linecolor": "white",
             "minorgridcolor": "white",
             "startlinecolor": "#2a3f5f"
            },
            "baxis": {
             "endlinecolor": "#2a3f5f",
             "gridcolor": "white",
             "linecolor": "white",
             "minorgridcolor": "white",
             "startlinecolor": "#2a3f5f"
            },
            "type": "carpet"
           }
          ],
          "choropleth": [
           {
            "colorbar": {
             "outlinewidth": 0,
             "ticks": ""
            },
            "type": "choropleth"
           }
          ],
          "contour": [
           {
            "colorbar": {
             "outlinewidth": 0,
             "ticks": ""
            },
            "colorscale": [
             [
              0,
              "#0d0887"
             ],
             [
              0.1111111111111111,
              "#46039f"
             ],
             [
              0.2222222222222222,
              "#7201a8"
             ],
             [
              0.3333333333333333,
              "#9c179e"
             ],
             [
              0.4444444444444444,
              "#bd3786"
             ],
             [
              0.5555555555555556,
              "#d8576b"
             ],
             [
              0.6666666666666666,
              "#ed7953"
             ],
             [
              0.7777777777777778,
              "#fb9f3a"
             ],
             [
              0.8888888888888888,
              "#fdca26"
             ],
             [
              1,
              "#f0f921"
             ]
            ],
            "type": "contour"
           }
          ],
          "contourcarpet": [
           {
            "colorbar": {
             "outlinewidth": 0,
             "ticks": ""
            },
            "type": "contourcarpet"
           }
          ],
          "heatmap": [
           {
            "colorbar": {
             "outlinewidth": 0,
             "ticks": ""
            },
            "colorscale": [
             [
              0,
              "#0d0887"
             ],
             [
              0.1111111111111111,
              "#46039f"
             ],
             [
              0.2222222222222222,
              "#7201a8"
             ],
             [
              0.3333333333333333,
              "#9c179e"
             ],
             [
              0.4444444444444444,
              "#bd3786"
             ],
             [
              0.5555555555555556,
              "#d8576b"
             ],
             [
              0.6666666666666666,
              "#ed7953"
             ],
             [
              0.7777777777777778,
              "#fb9f3a"
             ],
             [
              0.8888888888888888,
              "#fdca26"
             ],
             [
              1,
              "#f0f921"
             ]
            ],
            "type": "heatmap"
           }
          ],
          "heatmapgl": [
           {
            "colorbar": {
             "outlinewidth": 0,
             "ticks": ""
            },
            "colorscale": [
             [
              0,
              "#0d0887"
             ],
             [
              0.1111111111111111,
              "#46039f"
             ],
             [
              0.2222222222222222,
              "#7201a8"
             ],
             [
              0.3333333333333333,
              "#9c179e"
             ],
             [
              0.4444444444444444,
              "#bd3786"
             ],
             [
              0.5555555555555556,
              "#d8576b"
             ],
             [
              0.6666666666666666,
              "#ed7953"
             ],
             [
              0.7777777777777778,
              "#fb9f3a"
             ],
             [
              0.8888888888888888,
              "#fdca26"
             ],
             [
              1,
              "#f0f921"
             ]
            ],
            "type": "heatmapgl"
           }
          ],
          "histogram": [
           {
            "marker": {
             "pattern": {
              "fillmode": "overlay",
              "size": 10,
              "solidity": 0.2
             }
            },
            "type": "histogram"
           }
          ],
          "histogram2d": [
           {
            "colorbar": {
             "outlinewidth": 0,
             "ticks": ""
            },
            "colorscale": [
             [
              0,
              "#0d0887"
             ],
             [
              0.1111111111111111,
              "#46039f"
             ],
             [
              0.2222222222222222,
              "#7201a8"
             ],
             [
              0.3333333333333333,
              "#9c179e"
             ],
             [
              0.4444444444444444,
              "#bd3786"
             ],
             [
              0.5555555555555556,
              "#d8576b"
             ],
             [
              0.6666666666666666,
              "#ed7953"
             ],
             [
              0.7777777777777778,
              "#fb9f3a"
             ],
             [
              0.8888888888888888,
              "#fdca26"
             ],
             [
              1,
              "#f0f921"
             ]
            ],
            "type": "histogram2d"
           }
          ],
          "histogram2dcontour": [
           {
            "colorbar": {
             "outlinewidth": 0,
             "ticks": ""
            },
            "colorscale": [
             [
              0,
              "#0d0887"
             ],
             [
              0.1111111111111111,
              "#46039f"
             ],
             [
              0.2222222222222222,
              "#7201a8"
             ],
             [
              0.3333333333333333,
              "#9c179e"
             ],
             [
              0.4444444444444444,
              "#bd3786"
             ],
             [
              0.5555555555555556,
              "#d8576b"
             ],
             [
              0.6666666666666666,
              "#ed7953"
             ],
             [
              0.7777777777777778,
              "#fb9f3a"
             ],
             [
              0.8888888888888888,
              "#fdca26"
             ],
             [
              1,
              "#f0f921"
             ]
            ],
            "type": "histogram2dcontour"
           }
          ],
          "mesh3d": [
           {
            "colorbar": {
             "outlinewidth": 0,
             "ticks": ""
            },
            "type": "mesh3d"
           }
          ],
          "parcoords": [
           {
            "line": {
             "colorbar": {
              "outlinewidth": 0,
              "ticks": ""
             }
            },
            "type": "parcoords"
           }
          ],
          "pie": [
           {
            "automargin": true,
            "type": "pie"
           }
          ],
          "scatter": [
           {
            "fillpattern": {
             "fillmode": "overlay",
             "size": 10,
             "solidity": 0.2
            },
            "type": "scatter"
           }
          ],
          "scatter3d": [
           {
            "line": {
             "colorbar": {
              "outlinewidth": 0,
              "ticks": ""
             }
            },
            "marker": {
             "colorbar": {
              "outlinewidth": 0,
              "ticks": ""
             }
            },
            "type": "scatter3d"
           }
          ],
          "scattercarpet": [
           {
            "marker": {
             "colorbar": {
              "outlinewidth": 0,
              "ticks": ""
             }
            },
            "type": "scattercarpet"
           }
          ],
          "scattergeo": [
           {
            "marker": {
             "colorbar": {
              "outlinewidth": 0,
              "ticks": ""
             }
            },
            "type": "scattergeo"
           }
          ],
          "scattergl": [
           {
            "marker": {
             "colorbar": {
              "outlinewidth": 0,
              "ticks": ""
             }
            },
            "type": "scattergl"
           }
          ],
          "scattermapbox": [
           {
            "marker": {
             "colorbar": {
              "outlinewidth": 0,
              "ticks": ""
             }
            },
            "type": "scattermapbox"
           }
          ],
          "scatterpolar": [
           {
            "marker": {
             "colorbar": {
              "outlinewidth": 0,
              "ticks": ""
             }
            },
            "type": "scatterpolar"
           }
          ],
          "scatterpolargl": [
           {
            "marker": {
             "colorbar": {
              "outlinewidth": 0,
              "ticks": ""
             }
            },
            "type": "scatterpolargl"
           }
          ],
          "scatterternary": [
           {
            "marker": {
             "colorbar": {
              "outlinewidth": 0,
              "ticks": ""
             }
            },
            "type": "scatterternary"
           }
          ],
          "surface": [
           {
            "colorbar": {
             "outlinewidth": 0,
             "ticks": ""
            },
            "colorscale": [
             [
              0,
              "#0d0887"
             ],
             [
              0.1111111111111111,
              "#46039f"
             ],
             [
              0.2222222222222222,
              "#7201a8"
             ],
             [
              0.3333333333333333,
              "#9c179e"
             ],
             [
              0.4444444444444444,
              "#bd3786"
             ],
             [
              0.5555555555555556,
              "#d8576b"
             ],
             [
              0.6666666666666666,
              "#ed7953"
             ],
             [
              0.7777777777777778,
              "#fb9f3a"
             ],
             [
              0.8888888888888888,
              "#fdca26"
             ],
             [
              1,
              "#f0f921"
             ]
            ],
            "type": "surface"
           }
          ],
          "table": [
           {
            "cells": {
             "fill": {
              "color": "#EBF0F8"
             },
             "line": {
              "color": "white"
             }
            },
            "header": {
             "fill": {
              "color": "#C8D4E3"
             },
             "line": {
              "color": "white"
             }
            },
            "type": "table"
           }
          ]
         },
         "layout": {
          "annotationdefaults": {
           "arrowcolor": "#2a3f5f",
           "arrowhead": 0,
           "arrowwidth": 1
          },
          "autotypenumbers": "strict",
          "coloraxis": {
           "colorbar": {
            "outlinewidth": 0,
            "ticks": ""
           }
          },
          "colorscale": {
           "diverging": [
            [
             0,
             "#8e0152"
            ],
            [
             0.1,
             "#c51b7d"
            ],
            [
             0.2,
             "#de77ae"
            ],
            [
             0.3,
             "#f1b6da"
            ],
            [
             0.4,
             "#fde0ef"
            ],
            [
             0.5,
             "#f7f7f7"
            ],
            [
             0.6,
             "#e6f5d0"
            ],
            [
             0.7,
             "#b8e186"
            ],
            [
             0.8,
             "#7fbc41"
            ],
            [
             0.9,
             "#4d9221"
            ],
            [
             1,
             "#276419"
            ]
           ],
           "sequential": [
            [
             0,
             "#0d0887"
            ],
            [
             0.1111111111111111,
             "#46039f"
            ],
            [
             0.2222222222222222,
             "#7201a8"
            ],
            [
             0.3333333333333333,
             "#9c179e"
            ],
            [
             0.4444444444444444,
             "#bd3786"
            ],
            [
             0.5555555555555556,
             "#d8576b"
            ],
            [
             0.6666666666666666,
             "#ed7953"
            ],
            [
             0.7777777777777778,
             "#fb9f3a"
            ],
            [
             0.8888888888888888,
             "#fdca26"
            ],
            [
             1,
             "#f0f921"
            ]
           ],
           "sequentialminus": [
            [
             0,
             "#0d0887"
            ],
            [
             0.1111111111111111,
             "#46039f"
            ],
            [
             0.2222222222222222,
             "#7201a8"
            ],
            [
             0.3333333333333333,
             "#9c179e"
            ],
            [
             0.4444444444444444,
             "#bd3786"
            ],
            [
             0.5555555555555556,
             "#d8576b"
            ],
            [
             0.6666666666666666,
             "#ed7953"
            ],
            [
             0.7777777777777778,
             "#fb9f3a"
            ],
            [
             0.8888888888888888,
             "#fdca26"
            ],
            [
             1,
             "#f0f921"
            ]
           ]
          },
          "colorway": [
           "#636efa",
           "#EF553B",
           "#00cc96",
           "#ab63fa",
           "#FFA15A",
           "#19d3f3",
           "#FF6692",
           "#B6E880",
           "#FF97FF",
           "#FECB52"
          ],
          "font": {
           "color": "#2a3f5f"
          },
          "geo": {
           "bgcolor": "white",
           "lakecolor": "white",
           "landcolor": "#E5ECF6",
           "showlakes": true,
           "showland": true,
           "subunitcolor": "white"
          },
          "hoverlabel": {
           "align": "left"
          },
          "hovermode": "closest",
          "mapbox": {
           "style": "light"
          },
          "paper_bgcolor": "white",
          "plot_bgcolor": "#E5ECF6",
          "polar": {
           "angularaxis": {
            "gridcolor": "white",
            "linecolor": "white",
            "ticks": ""
           },
           "bgcolor": "#E5ECF6",
           "radialaxis": {
            "gridcolor": "white",
            "linecolor": "white",
            "ticks": ""
           }
          },
          "scene": {
           "xaxis": {
            "backgroundcolor": "#E5ECF6",
            "gridcolor": "white",
            "gridwidth": 2,
            "linecolor": "white",
            "showbackground": true,
            "ticks": "",
            "zerolinecolor": "white"
           },
           "yaxis": {
            "backgroundcolor": "#E5ECF6",
            "gridcolor": "white",
            "gridwidth": 2,
            "linecolor": "white",
            "showbackground": true,
            "ticks": "",
            "zerolinecolor": "white"
           },
           "zaxis": {
            "backgroundcolor": "#E5ECF6",
            "gridcolor": "white",
            "gridwidth": 2,
            "linecolor": "white",
            "showbackground": true,
            "ticks": "",
            "zerolinecolor": "white"
           }
          },
          "shapedefaults": {
           "line": {
            "color": "#2a3f5f"
           }
          },
          "ternary": {
           "aaxis": {
            "gridcolor": "white",
            "linecolor": "white",
            "ticks": ""
           },
           "baxis": {
            "gridcolor": "white",
            "linecolor": "white",
            "ticks": ""
           },
           "bgcolor": "#E5ECF6",
           "caxis": {
            "gridcolor": "white",
            "linecolor": "white",
            "ticks": ""
           }
          },
          "title": {
           "x": 0.05
          },
          "xaxis": {
           "automargin": true,
           "gridcolor": "white",
           "linecolor": "white",
           "ticks": "",
           "title": {
            "standoff": 15
           },
           "zerolinecolor": "white",
           "zerolinewidth": 2
          },
          "yaxis": {
           "automargin": true,
           "gridcolor": "white",
           "linecolor": "white",
           "ticks": "",
           "title": {
            "standoff": 15
           },
           "zerolinecolor": "white",
           "zerolinewidth": 2
          }
         }
        },
        "xaxis": {
         "anchor": "y",
         "autorange": true,
         "domain": [
          0,
          1
         ],
         "range": [
          -0.5,
          8.5
         ],
         "title": {
          "text": "predictor"
         },
         "type": "category"
        },
        "yaxis": {
         "anchor": "x",
         "autorange": true,
         "domain": [
          0,
          1
         ],
         "range": [
          -2071.0158269901995,
          18611.778916084946
         ],
         "title": {
          "text": "coefficient"
         },
         "type": "linear"
        }
       }
      },
      "image/png": "[encoded data removed]",
      "text/html": [
       "<div>                            <div id=\"1911ada0-66bc-4290-a10f-6a16150073c0\" class=\"plotly-graph-div\" style=\"height:525px; width:100%;\"></div>            <script type=\"text/javascript\">                require([\"plotly\"], function(Plotly) {                    window.PLOTLYENV=window.PLOTLYENV || {};                                    if (document.getElementById(\"1911ada0-66bc-4290-a10f-6a16150073c0\")) {                    Plotly.newPlot(                        \"1911ada0-66bc-4290-a10f-6a16150073c0\",                        [{\"alignmentgroup\":\"True\",\"hovertemplate\":\"x=%{x}<br>y=%{y}<extra></extra>\",\"legendgroup\":\"\",\"marker\":{\"color\":\"#636efa\",\"pattern\":{\"shape\":\"\"}},\"name\":\"\",\"offsetgroup\":\"\",\"orientation\":\"v\",\"showlegend\":false,\"textposition\":\"auto\",\"x\":[\"carat\",\"cut\",\"clarity\",\"color\",\"Other\",\"IGI\",\"GIA\",\"polish\",\"symmetry\"],\"xaxis\":\"x\",\"y\":[17577.63917893119,-329.892595589351,-945.5200295388732,-935.6564942761466,-1036.8760898364421,536.856175306665,500.0199145297772,804.1904419248586,38.73543390411498],\"yaxis\":\"y\",\"type\":\"bar\"}],                        {\"template\":{\"data\":{\"histogram2dcontour\":[{\"type\":\"histogram2dcontour\",\"colorbar\":{\"outlinewidth\":0,\"ticks\":\"\"},\"colorscale\":[[0.0,\"#0d0887\"],[0.1111111111111111,\"#46039f\"],[0.2222222222222222,\"#7201a8\"],[0.3333333333333333,\"#9c179e\"],[0.4444444444444444,\"#bd3786\"],[0.5555555555555556,\"#d8576b\"],[0.6666666666666666,\"#ed7953\"],[0.7777777777777778,\"#fb9f3a\"],[0.8888888888888888,\"#fdca26\"],[1.0,\"#f0f921\"]]}],\"choropleth\":[{\"type\":\"choropleth\",\"colorbar\":{\"outlinewidth\":0,\"ticks\":\"\"}}],\"histogram2d\":[{\"type\":\"histogram2d\",\"colorbar\":{\"outlinewidth\":0,\"ticks\":\"\"},\"colorscale\":[[0.0,\"#0d0887\"],[0.1111111111111111,\"#46039f\"],[0.2222222222222222,\"#7201a8\"],[0.3333333333333333,\"#9c179e\"],[0.4444444444444444,\"#bd3786\"],[0.5555555555555556,\"#d8576b\"],[0.6666666666666666,\"#ed7953\"],[0.7777777777777778,\"#fb9f3a\"],[0.8888888888888888,\"#fdca26\"],[1.0,\"#f0f921\"]]}],\"heatmap\":[{\"type\":\"heatmap\",\"colorbar\":{\"outlinewidth\":0,\"ticks\":\"\"},\"colorscale\":[[0.0,\"#0d0887\"],[0.1111111111111111,\"#46039f\"],[0.2222222222222222,\"#7201a8\"],[0.3333333333333333,\"#9c179e\"],[0.4444444444444444,\"#bd3786\"],[0.5555555555555556,\"#d8576b\"],[0.6666666666666666,\"#ed7953\"],[0.7777777777777778,\"#fb9f3a\"],[0.8888888888888888,\"#fdca26\"],[1.0,\"#f0f921\"]]}],\"heatmapgl\":[{\"type\":\"heatmapgl\",\"colorbar\":{\"outlinewidth\":0,\"ticks\":\"\"},\"colorscale\":[[0.0,\"#0d0887\"],[0.1111111111111111,\"#46039f\"],[0.2222222222222222,\"#7201a8\"],[0.3333333333333333,\"#9c179e\"],[0.4444444444444444,\"#bd3786\"],[0.5555555555555556,\"#d8576b\"],[0.6666666666666666,\"#ed7953\"],[0.7777777777777778,\"#fb9f3a\"],[0.8888888888888888,\"#fdca26\"],[1.0,\"#f0f921\"]]}],\"contourcarpet\":[{\"type\":\"contourcarpet\",\"colorbar\":{\"outlinewidth\":0,\"ticks\":\"\"}}],\"contour\":[{\"type\":\"contour\",\"colorbar\":{\"outlinewidth\":0,\"ticks\":\"\"},\"colorscale\":[[0.0,\"#0d0887\"],[0.1111111111111111,\"#46039f\"],[0.2222222222222222,\"#7201a8\"],[0.3333333333333333,\"#9c179e\"],[0.4444444444444444,\"#bd3786\"],[0.5555555555555556,\"#d8576b\"],[0.6666666666666666,\"#ed7953\"],[0.7777777777777778,\"#fb9f3a\"],[0.8888888888888888,\"#fdca26\"],[1.0,\"#f0f921\"]]}],\"surface\":[{\"type\":\"surface\",\"colorbar\":{\"outlinewidth\":0,\"ticks\":\"\"},\"colorscale\":[[0.0,\"#0d0887\"],[0.1111111111111111,\"#46039f\"],[0.2222222222222222,\"#7201a8\"],[0.3333333333333333,\"#9c179e\"],[0.4444444444444444,\"#bd3786\"],[0.5555555555555556,\"#d8576b\"],[0.6666666666666666,\"#ed7953\"],[0.7777777777777778,\"#fb9f3a\"],[0.8888888888888888,\"#fdca26\"],[1.0,\"#f0f921\"]]}],\"mesh3d\":[{\"type\":\"mesh3d\",\"colorbar\":{\"outlinewidth\":0,\"ticks\":\"\"}}],\"scatter\":[{\"fillpattern\":{\"fillmode\":\"overlay\",\"size\":10,\"solidity\":0.2},\"type\":\"scatter\"}],\"parcoords\":[{\"type\":\"parcoords\",\"line\":{\"colorbar\":{\"outlinewidth\":0,\"ticks\":\"\"}}}],\"scatterpolargl\":[{\"type\":\"scatterpolargl\",\"marker\":{\"colorbar\":{\"outlinewidth\":0,\"ticks\":\"\"}}}],\"bar\":[{\"error_x\":{\"color\":\"#2a3f5f\"},\"error_y\":{\"color\":\"#2a3f5f\"},\"marker\":{\"line\":{\"color\":\"#E5ECF6\",\"width\":0.5},\"pattern\":{\"fillmode\":\"overlay\",\"size\":10,\"solidity\":0.2}},\"type\":\"bar\"}],\"scattergeo\":[{\"type\":\"scattergeo\",\"marker\":{\"colorbar\":{\"outlinewidth\":0,\"ticks\":\"\"}}}],\"scatterpolar\":[{\"type\":\"scatterpolar\",\"marker\":{\"colorbar\":{\"outlinewidth\":0,\"ticks\":\"\"}}}],\"histogram\":[{\"marker\":{\"pattern\":{\"fillmode\":\"overlay\",\"size\":10,\"solidity\":0.2}},\"type\":\"histogram\"}],\"scattergl\":[{\"type\":\"scattergl\",\"marker\":{\"colorbar\":{\"outlinewidth\":0,\"ticks\":\"\"}}}],\"scatter3d\":[{\"type\":\"scatter3d\",\"line\":{\"colorbar\":{\"outlinewidth\":0,\"ticks\":\"\"}},\"marker\":{\"colorbar\":{\"outlinewidth\":0,\"ticks\":\"\"}}}],\"scattermapbox\":[{\"type\":\"scattermapbox\",\"marker\":{\"colorbar\":{\"outlinewidth\":0,\"ticks\":\"\"}}}],\"scatterternary\":[{\"type\":\"scatterternary\",\"marker\":{\"colorbar\":{\"outlinewidth\":0,\"ticks\":\"\"}}}],\"scattercarpet\":[{\"type\":\"scattercarpet\",\"marker\":{\"colorbar\":{\"outlinewidth\":0,\"ticks\":\"\"}}}],\"carpet\":[{\"aaxis\":{\"endlinecolor\":\"#2a3f5f\",\"gridcolor\":\"white\",\"linecolor\":\"white\",\"minorgridcolor\":\"white\",\"startlinecolor\":\"#2a3f5f\"},\"baxis\":{\"endlinecolor\":\"#2a3f5f\",\"gridcolor\":\"white\",\"linecolor\":\"white\",\"minorgridcolor\":\"white\",\"startlinecolor\":\"#2a3f5f\"},\"type\":\"carpet\"}],\"table\":[{\"cells\":{\"fill\":{\"color\":\"#EBF0F8\"},\"line\":{\"color\":\"white\"}},\"header\":{\"fill\":{\"color\":\"#C8D4E3\"},\"line\":{\"color\":\"white\"}},\"type\":\"table\"}],\"barpolar\":[{\"marker\":{\"line\":{\"color\":\"#E5ECF6\",\"width\":0.5},\"pattern\":{\"fillmode\":\"overlay\",\"size\":10,\"solidity\":0.2}},\"type\":\"barpolar\"}],\"pie\":[{\"automargin\":true,\"type\":\"pie\"}]},\"layout\":{\"autotypenumbers\":\"strict\",\"colorway\":[\"#636efa\",\"#EF553B\",\"#00cc96\",\"#ab63fa\",\"#FFA15A\",\"#19d3f3\",\"#FF6692\",\"#B6E880\",\"#FF97FF\",\"#FECB52\"],\"font\":{\"color\":\"#2a3f5f\"},\"hovermode\":\"closest\",\"hoverlabel\":{\"align\":\"left\"},\"paper_bgcolor\":\"white\",\"plot_bgcolor\":\"#E5ECF6\",\"polar\":{\"bgcolor\":\"#E5ECF6\",\"angularaxis\":{\"gridcolor\":\"white\",\"linecolor\":\"white\",\"ticks\":\"\"},\"radialaxis\":{\"gridcolor\":\"white\",\"linecolor\":\"white\",\"ticks\":\"\"}},\"ternary\":{\"bgcolor\":\"#E5ECF6\",\"aaxis\":{\"gridcolor\":\"white\",\"linecolor\":\"white\",\"ticks\":\"\"},\"baxis\":{\"gridcolor\":\"white\",\"linecolor\":\"white\",\"ticks\":\"\"},\"caxis\":{\"gridcolor\":\"white\",\"linecolor\":\"white\",\"ticks\":\"\"}},\"coloraxis\":{\"colorbar\":{\"outlinewidth\":0,\"ticks\":\"\"}},\"colorscale\":{\"sequential\":[[0.0,\"#0d0887\"],[0.1111111111111111,\"#46039f\"],[0.2222222222222222,\"#7201a8\"],[0.3333333333333333,\"#9c179e\"],[0.4444444444444444,\"#bd3786\"],[0.5555555555555556,\"#d8576b\"],[0.6666666666666666,\"#ed7953\"],[0.7777777777777778,\"#fb9f3a\"],[0.8888888888888888,\"#fdca26\"],[1.0,\"#f0f921\"]],\"sequentialminus\":[[0.0,\"#0d0887\"],[0.1111111111111111,\"#46039f\"],[0.2222222222222222,\"#7201a8\"],[0.3333333333333333,\"#9c179e\"],[0.4444444444444444,\"#bd3786\"],[0.5555555555555556,\"#d8576b\"],[0.6666666666666666,\"#ed7953\"],[0.7777777777777778,\"#fb9f3a\"],[0.8888888888888888,\"#fdca26\"],[1.0,\"#f0f921\"]],\"diverging\":[[0,\"#8e0152\"],[0.1,\"#c51b7d\"],[0.2,\"#de77ae\"],[0.3,\"#f1b6da\"],[0.4,\"#fde0ef\"],[0.5,\"#f7f7f7\"],[0.6,\"#e6f5d0\"],[0.7,\"#b8e186\"],[0.8,\"#7fbc41\"],[0.9,\"#4d9221\"],[1,\"#276419\"]]},\"xaxis\":{\"gridcolor\":\"white\",\"linecolor\":\"white\",\"ticks\":\"\",\"title\":{\"standoff\":15},\"zerolinecolor\":\"white\",\"automargin\":true,\"zerolinewidth\":2},\"yaxis\":{\"gridcolor\":\"white\",\"linecolor\":\"white\",\"ticks\":\"\",\"title\":{\"standoff\":15},\"zerolinecolor\":\"white\",\"automargin\":true,\"zerolinewidth\":2},\"scene\":{\"xaxis\":{\"backgroundcolor\":\"#E5ECF6\",\"gridcolor\":\"white\",\"linecolor\":\"white\",\"showbackground\":true,\"ticks\":\"\",\"zerolinecolor\":\"white\",\"gridwidth\":2},\"yaxis\":{\"backgroundcolor\":\"#E5ECF6\",\"gridcolor\":\"white\",\"linecolor\":\"white\",\"showbackground\":true,\"ticks\":\"\",\"zerolinecolor\":\"white\",\"gridwidth\":2},\"zaxis\":{\"backgroundcolor\":\"#E5ECF6\",\"gridcolor\":\"white\",\"linecolor\":\"white\",\"showbackground\":true,\"ticks\":\"\",\"zerolinecolor\":\"white\",\"gridwidth\":2}},\"shapedefaults\":{\"line\":{\"color\":\"#2a3f5f\"}},\"annotationdefaults\":{\"arrowcolor\":\"#2a3f5f\",\"arrowhead\":0,\"arrowwidth\":1},\"geo\":{\"bgcolor\":\"white\",\"landcolor\":\"#E5ECF6\",\"subunitcolor\":\"white\",\"showland\":true,\"showlakes\":true,\"lakecolor\":\"white\"},\"title\":{\"x\":0.05},\"mapbox\":{\"style\":\"light\"}}},\"xaxis\":{\"anchor\":\"y\",\"domain\":[0.0,1.0],\"title\":{\"text\":\"predictor\"}},\"yaxis\":{\"anchor\":\"x\",\"domain\":[0.0,1.0],\"title\":{\"text\":\"coefficient\"}},\"legend\":{\"tracegroupgap\":0},\"margin\":{\"t\":60},\"barmode\":\"relative\"},                        {\"responsive\": true}                    ).then(function(){\n",
       "                            \n",
       "var gd = document.getElementById('1911ada0-66bc-4290-a10f-6a16150073c0');\n",
       "var x = new MutationObserver(function (mutations, observer) {{\n",
       "        var display = window.getComputedStyle(gd).display;\n",
       "        if (!display || display === 'none') {{\n",
       "            console.log([gd, 'removed!']);\n",
       "            Plotly.purge(gd);\n",
       "            observer.disconnect();\n",
       "        }}\n",
       "}});\n",
       "\n",
       "// Listen for the removal of the full notebook cells\n",
       "var notebookContainer = gd.closest('#notebook-container');\n",
       "if (notebookContainer) {{\n",
       "    x.observe(notebookContainer, {childList: true});\n",
       "}}\n",
       "\n",
       "// Listen for the clearing of the current output cell\n",
       "var outputEl = gd.closest('.output');\n",
       "if (outputEl) {{\n",
       "    x.observe(outputEl, {childList: true});\n",
       "}}\n",
       "\n",
       "                        })                };                });            </script>        </div>"
      ]
     },
     "metadata": {},
     "output_type": "display_data"
    }
   ],
   "source": [
    "#show results as a bar chart\n",
    "import plotly.express as px\n",
    "fig = px.bar(x=results['feature'], y=results['coeff'])\n",
    "fig.update_layout(\n",
    "    yaxis=dict( title='coefficient'),\n",
    "    xaxis=dict( title='predictor'),\n",
    ")\n",
    "fig.show()"
   ]
  },
  {
   "cell_type": "code",
   "execution_count": 329,
   "id": "c9eba156-e727-4e46-8303-952267896de6",
   "metadata": {},
   "outputs": [],
   "source": [
    "#predict the y-values on the testing dataset\n",
    "y_preds = mymodel.predict(X_test)"
   ]
  },
  {
   "cell_type": "code",
   "execution_count": 330,
   "id": "fa4681ce-3181-48eb-a1d0-326d9283e7a6",
   "metadata": {},
   "outputs": [
    {
     "name": "stdout",
     "output_type": "stream",
     "text": [
      "[2232.65, 233.73, 14331.97, -3010.36, -2050.27]\n",
      "[1472.33, 2065.8, 6993.81, 838.45, 970.0]\n"
     ]
    }
   ],
   "source": [
    "#compare some of the results of the predictions \n",
    "print([round(x,2) for x in y_preds[:5]])\n",
    "print(list(y_test[:5]))\n",
    "#still looks wrong..."
   ]
  },
  {
   "cell_type": "code",
   "execution_count": 331,
   "id": "854beb78-b589-4e93-a3a3-b755290295e4",
   "metadata": {},
   "outputs": [
    {
     "data": {
      "image/png": "[encoded data removed]",
      "text/plain": [
       "<Figure size 432x432 with 1 Axes>"
      ]
     },
     "metadata": {
      "needs_background": "light"
     },
     "output_type": "display_data"
    }
   ],
   "source": [
    "#compare predictions to known values\n",
    "plt.figure(figsize=(6,6))\n",
    "ax = sns.regplot(x = y_preds, \n",
    "                 y = y_test, \n",
    "                 scatter_kws={\"color\": \"black\"}, \n",
    "                 line_kws={\"color\": \"red\"})\n",
    "ax.set(xlabel='predicted values', ylabel='true values');\n",
    "#still too much spread"
   ]
  },
  {
   "cell_type": "markdown",
   "id": "1e4e43cf-c60c-4f17-844c-1d20e485f39c",
   "metadata": {},
   "source": [
    "## Model Evaluation v2"
   ]
  },
  {
   "cell_type": "code",
   "execution_count": 332,
   "id": "fbbeeeb4-5317-4c74-9470-7c260258381f",
   "metadata": {},
   "outputs": [
    {
     "data": {
      "text/plain": [
       "0.63"
      ]
     },
     "execution_count": 332,
     "metadata": {},
     "output_type": "execute_result"
    }
   ],
   "source": [
    "# check R-2 (coefficient of determination)\n",
    "r2 = metrics.r2_score(y_test, y_preds)\n",
    "round(r2, 2)\n",
    "#better but probably still need to make the cutoff lower due to high spread in the larger carat ranges"
   ]
  },
  {
   "cell_type": "markdown",
   "id": "c01094e4-753f-4699-9cec-be3e8d34aec1",
   "metadata": {},
   "source": [
    "## Remove Outliers and Re-Model v2"
   ]
  },
  {
   "cell_type": "code",
   "execution_count": 335,
   "id": "a71406ff-c0cd-4c5b-b25c-09434dc1e42b",
   "metadata": {},
   "outputs": [],
   "source": [
    "#drop the outliers\n",
    "df = df[(df[\"carat\"]<2)]\n",
    "#did a quick check for outliers using IQR in excel; seems like most of the data is below 2 carats which aligns with what I expected"
   ]
  },
  {
   "cell_type": "code",
   "execution_count": 336,
   "id": "bd4a99b9-cf36-44a9-8871-e0f2ca9295a7",
   "metadata": {},
   "outputs": [
    {
     "data": {
      "text/plain": [
       "(102212, 10)"
      ]
     },
     "execution_count": 336,
     "metadata": {},
     "output_type": "execute_result"
    }
   ],
   "source": [
    "df.shape\n",
    "#still have over 90% of the original data"
   ]
  },
  {
   "cell_type": "code",
   "execution_count": 337,
   "id": "3f055e93-792b-47b9-8692-897e31e807ca",
   "metadata": {},
   "outputs": [
    {
     "data": {
      "text/plain": [
       "(102212,)"
      ]
     },
     "execution_count": 337,
     "metadata": {},
     "output_type": "execute_result"
    }
   ],
   "source": [
    "#try the model again\n",
    "#declare the target variable\n",
    "y = df['price']\n",
    "y.shape"
   ]
  },
  {
   "cell_type": "code",
   "execution_count": 338,
   "id": "02085a49-7d7e-4534-99f1-7c5bb37c4b9c",
   "metadata": {},
   "outputs": [
    {
     "data": {
      "text/plain": [
       "(102212, 9)"
      ]
     },
     "execution_count": 338,
     "metadata": {},
     "output_type": "execute_result"
    }
   ],
   "source": [
    "#declare the model features\n",
    "X = df.drop(['price'], axis=1) #just exclude price\n",
    "X.shape"
   ]
  },
  {
   "cell_type": "code",
   "execution_count": 339,
   "id": "bf4ed713-7177-4f27-b4ef-5a4c9fb3e120",
   "metadata": {},
   "outputs": [],
   "source": [
    "# train-test split\n",
    "X_train, X_test, y_train, y_test = train_test_split(X, y, test_size = .25, random_state=12) #using the standard test size for now"
   ]
  },
  {
   "cell_type": "code",
   "execution_count": 340,
   "id": "30f132d3-b082-4f2b-b0e4-b80f8f263513",
   "metadata": {},
   "outputs": [],
   "source": [
    "#instantiate the SKlearn algorithm\n",
    "mymodel = LinearRegression(fit_intercept=True, \n",
    "                           normalize=False, \n",
    "                           copy_X=True, \n",
    "                           n_jobs=None, \n",
    "                           positive=False)"
   ]
  },
  {
   "cell_type": "code",
   "execution_count": 341,
   "id": "a78df2d8-534f-414a-9e85-21a90c42fe51",
   "metadata": {},
   "outputs": [
    {
     "name": "stderr",
     "output_type": "stream",
     "text": [
      "/home/studio-lab-user/.conda/envs/default/lib/python3.9/site-packages/sklearn/linear_model/_base.py:148: FutureWarning:\n",
      "\n",
      "'normalize' was deprecated in version 1.0 and will be removed in 1.2. Please leave the normalize parameter to its default value to silence this warning. The default behavior of this estimator is to not do any normalization. If normalization is needed please use sklearn.preprocessing.StandardScaler instead.\n",
      "\n"
     ]
    },
    {
     "data": {
      "text/html": [
       "<style>#sk-container-id-5 {color: black;background-color: white;}#sk-container-id-5 pre{padding: 0;}#sk-container-id-5 div.sk-toggleable {background-color: white;}#sk-container-id-5 label.sk-toggleable__label {cursor: pointer;display: block;width: 100%;margin-bottom: 0;padding: 0.3em;box-sizing: border-box;text-align: center;}#sk-container-id-5 label.sk-toggleable__label-arrow:before {content: \"▸\";float: left;margin-right: 0.25em;color: #696969;}#sk-container-id-5 label.sk-toggleable__label-arrow:hover:before {color: black;}#sk-container-id-5 div.sk-estimator:hover label.sk-toggleable__label-arrow:before {color: black;}#sk-container-id-5 div.sk-toggleable__content {max-height: 0;max-width: 0;overflow: hidden;text-align: left;background-color: #f0f8ff;}#sk-container-id-5 div.sk-toggleable__content pre {margin: 0.2em;color: black;border-radius: 0.25em;background-color: #f0f8ff;}#sk-container-id-5 input.sk-toggleable__control:checked~div.sk-toggleable__content {max-height: 200px;max-width: 100%;overflow: auto;}#sk-container-id-5 input.sk-toggleable__control:checked~label.sk-toggleable__label-arrow:before {content: \"▾\";}#sk-container-id-5 div.sk-estimator input.sk-toggleable__control:checked~label.sk-toggleable__label {background-color: #d4ebff;}#sk-container-id-5 div.sk-label input.sk-toggleable__control:checked~label.sk-toggleable__label {background-color: #d4ebff;}#sk-container-id-5 input.sk-hidden--visually {border: 0;clip: rect(1px 1px 1px 1px);clip: rect(1px, 1px, 1px, 1px);height: 1px;margin: -1px;overflow: hidden;padding: 0;position: absolute;width: 1px;}#sk-container-id-5 div.sk-estimator {font-family: monospace;background-color: #f0f8ff;border: 1px dotted black;border-radius: 0.25em;box-sizing: border-box;margin-bottom: 0.5em;}#sk-container-id-5 div.sk-estimator:hover {background-color: #d4ebff;}#sk-container-id-5 div.sk-parallel-item::after {content: \"\";width: 100%;border-bottom: 1px solid gray;flex-grow: 1;}#sk-container-id-5 div.sk-label:hover label.sk-toggleable__label {background-color: #d4ebff;}#sk-container-id-5 div.sk-serial::before {content: \"\";position: absolute;border-left: 1px solid gray;box-sizing: border-box;top: 0;bottom: 0;left: 50%;z-index: 0;}#sk-container-id-5 div.sk-serial {display: flex;flex-direction: column;align-items: center;background-color: white;padding-right: 0.2em;padding-left: 0.2em;position: relative;}#sk-container-id-5 div.sk-item {position: relative;z-index: 1;}#sk-container-id-5 div.sk-parallel {display: flex;align-items: stretch;justify-content: center;background-color: white;position: relative;}#sk-container-id-5 div.sk-item::before, #sk-container-id-5 div.sk-parallel-item::before {content: \"\";position: absolute;border-left: 1px solid gray;box-sizing: border-box;top: 0;bottom: 0;left: 50%;z-index: -1;}#sk-container-id-5 div.sk-parallel-item {display: flex;flex-direction: column;z-index: 1;position: relative;background-color: white;}#sk-container-id-5 div.sk-parallel-item:first-child::after {align-self: flex-end;width: 50%;}#sk-container-id-5 div.sk-parallel-item:last-child::after {align-self: flex-start;width: 50%;}#sk-container-id-5 div.sk-parallel-item:only-child::after {width: 0;}#sk-container-id-5 div.sk-dashed-wrapped {border: 1px dashed gray;margin: 0 0.4em 0.5em 0.4em;box-sizing: border-box;padding-bottom: 0.4em;background-color: white;}#sk-container-id-5 div.sk-label label {font-family: monospace;font-weight: bold;display: inline-block;line-height: 1.2em;}#sk-container-id-5 div.sk-label-container {text-align: center;}#sk-container-id-5 div.sk-container {/* jupyter's `normalize.less` sets `[hidden] { display: none; }` but bootstrap.min.css set `[hidden] { display: none !important; }` so we also need the `!important` here to be able to override the default hidden behavior on the sphinx rendered scikit-learn.org. See: https://github.com/scikit-learn/scikit-learn/issues/21755 */display: inline-block !important;position: relative;}#sk-container-id-5 div.sk-text-repr-fallback {display: none;}</style><div id=\"sk-container-id-5\" class=\"sk-top-container\"><div class=\"sk-text-repr-fallback\"><pre>LinearRegression(normalize=False)</pre><b>In a Jupyter environment, please rerun this cell to show the HTML representation or trust the notebook. <br />On GitHub, the HTML representation is unable to render, please try loading this page with nbviewer.org.</b></div><div class=\"sk-container\" hidden><div class=\"sk-item\"><div class=\"sk-estimator sk-toggleable\"><input class=\"sk-toggleable__control sk-hidden--visually\" id=\"sk-estimator-id-5\" type=\"checkbox\" checked><label for=\"sk-estimator-id-5\" class=\"sk-toggleable__label sk-toggleable__label-arrow\">LinearRegression</label><div class=\"sk-toggleable__content\"><pre>LinearRegression(normalize=False)</pre></div></div></div></div></div>"
      ],
      "text/plain": [
       "LinearRegression(normalize=False)"
      ]
     },
     "execution_count": 341,
     "metadata": {},
     "output_type": "execute_result"
    }
   ],
   "source": [
    "#fit the model to the training dataset\n",
    "mymodel.fit(X_train, y_train)"
   ]
  },
  {
   "cell_type": "code",
   "execution_count": 342,
   "id": "ec8a010a-b4d9-41bb-87df-25d1a153a795",
   "metadata": {},
   "outputs": [
    {
     "name": "stdout",
     "output_type": "stream",
     "text": [
      "LinearRegression(normalize=False)\n"
     ]
    }
   ],
   "source": [
    "print(mymodel)"
   ]
  },
  {
   "cell_type": "code",
   "execution_count": 343,
   "id": "0450c37c-8972-4427-8cc3-ba0fa9ebb627",
   "metadata": {},
   "outputs": [
    {
     "data": {
      "text/plain": [
       "-206.48568263484003"
      ]
     },
     "execution_count": 343,
     "metadata": {},
     "output_type": "execute_result"
    }
   ],
   "source": [
    "#what is the intercept?\n",
    "mymodel.intercept_\n",
    "#according to my model intercept, if carat, cut, clarity, color, polish, symmetry and the rating agencies were all 0, the diamond would be priced at -$200\n",
    "#this looks better than before already!"
   ]
  },
  {
   "cell_type": "code",
   "execution_count": 344,
   "id": "c129d3ee-1e78-429e-96d3-b1d04a3655d3",
   "metadata": {},
   "outputs": [
    {
     "name": "stdout",
     "output_type": "stream",
     "text": [
      "Regression Equation:  y = -206.49 + 8797.76*carat + -270.84*cut + -281.78*clarity + -310.54*color + -419.5*Other + 164.88*IGI + 254.62*GIA+ 197.41*polish+ -44.3*symmetry\n"
     ]
    }
   ],
   "source": [
    "#what is the equation for this mymodel?\n",
    "cols=list(X.columns)\n",
    "coefs=list(mymodel.coef_)\n",
    "xcoefs = [(coefs[i], cols[i]) for i in range(0, len(cols))]\n",
    "output = f'y = {round(mymodel.intercept_,2)} + {round(xcoefs[0][0],2)}*{xcoefs[0][1]} + {round(xcoefs[1][0],2)}*{xcoefs[1][1]} + {round(xcoefs[2][0],2)}*{xcoefs[2][1]} + {round(xcoefs[3][0],2)}*{xcoefs[3][1]} + {round(xcoefs[4][0],2)}*{xcoefs[4][1]} + {round(xcoefs[5][0],2)}*{xcoefs[5][1]} + {round(xcoefs[6][0],2)}*{xcoefs[6][1]}+ {round(xcoefs[7][0],2)}*{xcoefs[7][1]}+ {round(xcoefs[8][0],2)}*{xcoefs[8][1]}'\n",
    "print(\"Regression Equation: \", output)"
   ]
  },
  {
   "cell_type": "code",
   "execution_count": 345,
   "id": "82588c61-6eed-40a3-a7bf-83a81324c164",
   "metadata": {},
   "outputs": [],
   "source": [
    "#for the graph below\n",
    "coefs=list(mymodel.coef_)\n",
    "cols=list(X.columns)"
   ]
  },
  {
   "cell_type": "code",
   "execution_count": 346,
   "id": "a7c6d1db-272a-4196-b733-de9ca3bbceee",
   "metadata": {},
   "outputs": [
    {
     "data": {
      "text/html": [
       "<div>\n",
       "<style scoped>\n",
       "    .dataframe tbody tr th:only-of-type {\n",
       "        vertical-align: middle;\n",
       "    }\n",
       "\n",
       "    .dataframe tbody tr th {\n",
       "        vertical-align: top;\n",
       "    }\n",
       "\n",
       "    .dataframe thead th {\n",
       "        text-align: right;\n",
       "    }\n",
       "</style>\n",
       "<table border=\"1\" class=\"dataframe\">\n",
       "  <thead>\n",
       "    <tr style=\"text-align: right;\">\n",
       "      <th></th>\n",
       "      <th>feature</th>\n",
       "      <th>coeff</th>\n",
       "    </tr>\n",
       "  </thead>\n",
       "  <tbody>\n",
       "    <tr>\n",
       "      <th>0</th>\n",
       "      <td>carat</td>\n",
       "      <td>8797.757869</td>\n",
       "    </tr>\n",
       "    <tr>\n",
       "      <th>1</th>\n",
       "      <td>cut</td>\n",
       "      <td>-270.841058</td>\n",
       "    </tr>\n",
       "    <tr>\n",
       "      <th>2</th>\n",
       "      <td>clarity</td>\n",
       "      <td>-281.776828</td>\n",
       "    </tr>\n",
       "    <tr>\n",
       "      <th>3</th>\n",
       "      <td>color</td>\n",
       "      <td>-310.538868</td>\n",
       "    </tr>\n",
       "    <tr>\n",
       "      <th>4</th>\n",
       "      <td>Other</td>\n",
       "      <td>-419.499582</td>\n",
       "    </tr>\n",
       "    <tr>\n",
       "      <th>5</th>\n",
       "      <td>IGI</td>\n",
       "      <td>164.884575</td>\n",
       "    </tr>\n",
       "    <tr>\n",
       "      <th>6</th>\n",
       "      <td>GIA</td>\n",
       "      <td>254.615007</td>\n",
       "    </tr>\n",
       "    <tr>\n",
       "      <th>7</th>\n",
       "      <td>polish</td>\n",
       "      <td>197.412728</td>\n",
       "    </tr>\n",
       "    <tr>\n",
       "      <th>8</th>\n",
       "      <td>symmetry</td>\n",
       "      <td>-44.295248</td>\n",
       "    </tr>\n",
       "  </tbody>\n",
       "</table>\n",
       "</div>"
      ],
      "text/plain": [
       "    feature        coeff\n",
       "0     carat  8797.757869\n",
       "1       cut  -270.841058\n",
       "2   clarity  -281.776828\n",
       "3     color  -310.538868\n",
       "4     Other  -419.499582\n",
       "5       IGI   164.884575\n",
       "6       GIA   254.615007\n",
       "7    polish   197.412728\n",
       "8  symmetry   -44.295248"
      ]
     },
     "execution_count": 346,
     "metadata": {},
     "output_type": "execute_result"
    }
   ],
   "source": [
    "#turn these into a dataframe\n",
    "results = pd.DataFrame(list(zip(cols, coefs)), columns=['feature','coeff'])\n",
    "results "
   ]
  },
  {
   "cell_type": "code",
   "execution_count": 347,
   "id": "3b826259-b0a2-4c5a-b9be-1fdc32ceac0c",
   "metadata": {},
   "outputs": [
    {
     "data": {
      "application/vnd.plotly.v1+json": {
       "config": {
        "plotlyServerURL": "https://plot.ly"
       },
       "data": [
        {
         "alignmentgroup": "True",
         "hovertemplate": "x=%{x}<br>y=%{y}<extra></extra>",
         "legendgroup": "",
         "marker": {
          "color": "#636efa",
          "pattern": {
           "shape": ""
          }
         },
         "name": "",
         "offsetgroup": "",
         "orientation": "v",
         "showlegend": false,
         "textposition": "auto",
         "type": "bar",
         "x": [
          "carat",
          "cut",
          "clarity",
          "color",
          "Other",
          "IGI",
          "GIA",
          "polish",
          "symmetry"
         ],
         "xaxis": "x",
         "y": [
          8797.757869364354,
          -270.84105818239755,
          -281.7768275403016,
          -310.538867878383,
          -419.49958193038674,
          164.88457496156903,
          254.61500696881794,
          197.41272831261801,
          -44.29524763809634
         ],
         "yaxis": "y"
        }
       ],
       "layout": {
        "autosize": true,
        "barmode": "relative",
        "legend": {
         "tracegroupgap": 0
        },
        "margin": {
         "t": 60
        },
        "template": {
         "data": {
          "bar": [
           {
            "error_x": {
             "color": "#2a3f5f"
            },
            "error_y": {
             "color": "#2a3f5f"
            },
            "marker": {
             "line": {
              "color": "#E5ECF6",
              "width": 0.5
             },
             "pattern": {
              "fillmode": "overlay",
              "size": 10,
              "solidity": 0.2
             }
            },
            "type": "bar"
           }
          ],
          "barpolar": [
           {
            "marker": {
             "line": {
              "color": "#E5ECF6",
              "width": 0.5
             },
             "pattern": {
              "fillmode": "overlay",
              "size": 10,
              "solidity": 0.2
             }
            },
            "type": "barpolar"
           }
          ],
          "carpet": [
           {
            "aaxis": {
             "endlinecolor": "#2a3f5f",
             "gridcolor": "white",
             "linecolor": "white",
             "minorgridcolor": "white",
             "startlinecolor": "#2a3f5f"
            },
            "baxis": {
             "endlinecolor": "#2a3f5f",
             "gridcolor": "white",
             "linecolor": "white",
             "minorgridcolor": "white",
             "startlinecolor": "#2a3f5f"
            },
            "type": "carpet"
           }
          ],
          "choropleth": [
           {
            "colorbar": {
             "outlinewidth": 0,
             "ticks": ""
            },
            "type": "choropleth"
           }
          ],
          "contour": [
           {
            "colorbar": {
             "outlinewidth": 0,
             "ticks": ""
            },
            "colorscale": [
             [
              0,
              "#0d0887"
             ],
             [
              0.1111111111111111,
              "#46039f"
             ],
             [
              0.2222222222222222,
              "#7201a8"
             ],
             [
              0.3333333333333333,
              "#9c179e"
             ],
             [
              0.4444444444444444,
              "#bd3786"
             ],
             [
              0.5555555555555556,
              "#d8576b"
             ],
             [
              0.6666666666666666,
              "#ed7953"
             ],
             [
              0.7777777777777778,
              "#fb9f3a"
             ],
             [
              0.8888888888888888,
              "#fdca26"
             ],
             [
              1,
              "#f0f921"
             ]
            ],
            "type": "contour"
           }
          ],
          "contourcarpet": [
           {
            "colorbar": {
             "outlinewidth": 0,
             "ticks": ""
            },
            "type": "contourcarpet"
           }
          ],
          "heatmap": [
           {
            "colorbar": {
             "outlinewidth": 0,
             "ticks": ""
            },
            "colorscale": [
             [
              0,
              "#0d0887"
             ],
             [
              0.1111111111111111,
              "#46039f"
             ],
             [
              0.2222222222222222,
              "#7201a8"
             ],
             [
              0.3333333333333333,
              "#9c179e"
             ],
             [
              0.4444444444444444,
              "#bd3786"
             ],
             [
              0.5555555555555556,
              "#d8576b"
             ],
             [
              0.6666666666666666,
              "#ed7953"
             ],
             [
              0.7777777777777778,
              "#fb9f3a"
             ],
             [
              0.8888888888888888,
              "#fdca26"
             ],
             [
              1,
              "#f0f921"
             ]
            ],
            "type": "heatmap"
           }
          ],
          "heatmapgl": [
           {
            "colorbar": {
             "outlinewidth": 0,
             "ticks": ""
            },
            "colorscale": [
             [
              0,
              "#0d0887"
             ],
             [
              0.1111111111111111,
              "#46039f"
             ],
             [
              0.2222222222222222,
              "#7201a8"
             ],
             [
              0.3333333333333333,
              "#9c179e"
             ],
             [
              0.4444444444444444,
              "#bd3786"
             ],
             [
              0.5555555555555556,
              "#d8576b"
             ],
             [
              0.6666666666666666,
              "#ed7953"
             ],
             [
              0.7777777777777778,
              "#fb9f3a"
             ],
             [
              0.8888888888888888,
              "#fdca26"
             ],
             [
              1,
              "#f0f921"
             ]
            ],
            "type": "heatmapgl"
           }
          ],
          "histogram": [
           {
            "marker": {
             "pattern": {
              "fillmode": "overlay",
              "size": 10,
              "solidity": 0.2
             }
            },
            "type": "histogram"
           }
          ],
          "histogram2d": [
           {
            "colorbar": {
             "outlinewidth": 0,
             "ticks": ""
            },
            "colorscale": [
             [
              0,
              "#0d0887"
             ],
             [
              0.1111111111111111,
              "#46039f"
             ],
             [
              0.2222222222222222,
              "#7201a8"
             ],
             [
              0.3333333333333333,
              "#9c179e"
             ],
             [
              0.4444444444444444,
              "#bd3786"
             ],
             [
              0.5555555555555556,
              "#d8576b"
             ],
             [
              0.6666666666666666,
              "#ed7953"
             ],
             [
              0.7777777777777778,
              "#fb9f3a"
             ],
             [
              0.8888888888888888,
              "#fdca26"
             ],
             [
              1,
              "#f0f921"
             ]
            ],
            "type": "histogram2d"
           }
          ],
          "histogram2dcontour": [
           {
            "colorbar": {
             "outlinewidth": 0,
             "ticks": ""
            },
            "colorscale": [
             [
              0,
              "#0d0887"
             ],
             [
              0.1111111111111111,
              "#46039f"
             ],
             [
              0.2222222222222222,
              "#7201a8"
             ],
             [
              0.3333333333333333,
              "#9c179e"
             ],
             [
              0.4444444444444444,
              "#bd3786"
             ],
             [
              0.5555555555555556,
              "#d8576b"
             ],
             [
              0.6666666666666666,
              "#ed7953"
             ],
             [
              0.7777777777777778,
              "#fb9f3a"
             ],
             [
              0.8888888888888888,
              "#fdca26"
             ],
             [
              1,
              "#f0f921"
             ]
            ],
            "type": "histogram2dcontour"
           }
          ],
          "mesh3d": [
           {
            "colorbar": {
             "outlinewidth": 0,
             "ticks": ""
            },
            "type": "mesh3d"
           }
          ],
          "parcoords": [
           {
            "line": {
             "colorbar": {
              "outlinewidth": 0,
              "ticks": ""
             }
            },
            "type": "parcoords"
           }
          ],
          "pie": [
           {
            "automargin": true,
            "type": "pie"
           }
          ],
          "scatter": [
           {
            "fillpattern": {
             "fillmode": "overlay",
             "size": 10,
             "solidity": 0.2
            },
            "type": "scatter"
           }
          ],
          "scatter3d": [
           {
            "line": {
             "colorbar": {
              "outlinewidth": 0,
              "ticks": ""
             }
            },
            "marker": {
             "colorbar": {
              "outlinewidth": 0,
              "ticks": ""
             }
            },
            "type": "scatter3d"
           }
          ],
          "scattercarpet": [
           {
            "marker": {
             "colorbar": {
              "outlinewidth": 0,
              "ticks": ""
             }
            },
            "type": "scattercarpet"
           }
          ],
          "scattergeo": [
           {
            "marker": {
             "colorbar": {
              "outlinewidth": 0,
              "ticks": ""
             }
            },
            "type": "scattergeo"
           }
          ],
          "scattergl": [
           {
            "marker": {
             "colorbar": {
              "outlinewidth": 0,
              "ticks": ""
             }
            },
            "type": "scattergl"
           }
          ],
          "scattermapbox": [
           {
            "marker": {
             "colorbar": {
              "outlinewidth": 0,
              "ticks": ""
             }
            },
            "type": "scattermapbox"
           }
          ],
          "scatterpolar": [
           {
            "marker": {
             "colorbar": {
              "outlinewidth": 0,
              "ticks": ""
             }
            },
            "type": "scatterpolar"
           }
          ],
          "scatterpolargl": [
           {
            "marker": {
             "colorbar": {
              "outlinewidth": 0,
              "ticks": ""
             }
            },
            "type": "scatterpolargl"
           }
          ],
          "scatterternary": [
           {
            "marker": {
             "colorbar": {
              "outlinewidth": 0,
              "ticks": ""
             }
            },
            "type": "scatterternary"
           }
          ],
          "surface": [
           {
            "colorbar": {
             "outlinewidth": 0,
             "ticks": ""
            },
            "colorscale": [
             [
              0,
              "#0d0887"
             ],
             [
              0.1111111111111111,
              "#46039f"
             ],
             [
              0.2222222222222222,
              "#7201a8"
             ],
             [
              0.3333333333333333,
              "#9c179e"
             ],
             [
              0.4444444444444444,
              "#bd3786"
             ],
             [
              0.5555555555555556,
              "#d8576b"
             ],
             [
              0.6666666666666666,
              "#ed7953"
             ],
             [
              0.7777777777777778,
              "#fb9f3a"
             ],
             [
              0.8888888888888888,
              "#fdca26"
             ],
             [
              1,
              "#f0f921"
             ]
            ],
            "type": "surface"
           }
          ],
          "table": [
           {
            "cells": {
             "fill": {
              "color": "#EBF0F8"
             },
             "line": {
              "color": "white"
             }
            },
            "header": {
             "fill": {
              "color": "#C8D4E3"
             },
             "line": {
              "color": "white"
             }
            },
            "type": "table"
           }
          ]
         },
         "layout": {
          "annotationdefaults": {
           "arrowcolor": "#2a3f5f",
           "arrowhead": 0,
           "arrowwidth": 1
          },
          "autotypenumbers": "strict",
          "coloraxis": {
           "colorbar": {
            "outlinewidth": 0,
            "ticks": ""
           }
          },
          "colorscale": {
           "diverging": [
            [
             0,
             "#8e0152"
            ],
            [
             0.1,
             "#c51b7d"
            ],
            [
             0.2,
             "#de77ae"
            ],
            [
             0.3,
             "#f1b6da"
            ],
            [
             0.4,
             "#fde0ef"
            ],
            [
             0.5,
             "#f7f7f7"
            ],
            [
             0.6,
             "#e6f5d0"
            ],
            [
             0.7,
             "#b8e186"
            ],
            [
             0.8,
             "#7fbc41"
            ],
            [
             0.9,
             "#4d9221"
            ],
            [
             1,
             "#276419"
            ]
           ],
           "sequential": [
            [
             0,
             "#0d0887"
            ],
            [
             0.1111111111111111,
             "#46039f"
            ],
            [
             0.2222222222222222,
             "#7201a8"
            ],
            [
             0.3333333333333333,
             "#9c179e"
            ],
            [
             0.4444444444444444,
             "#bd3786"
            ],
            [
             0.5555555555555556,
             "#d8576b"
            ],
            [
             0.6666666666666666,
             "#ed7953"
            ],
            [
             0.7777777777777778,
             "#fb9f3a"
            ],
            [
             0.8888888888888888,
             "#fdca26"
            ],
            [
             1,
             "#f0f921"
            ]
           ],
           "sequentialminus": [
            [
             0,
             "#0d0887"
            ],
            [
             0.1111111111111111,
             "#46039f"
            ],
            [
             0.2222222222222222,
             "#7201a8"
            ],
            [
             0.3333333333333333,
             "#9c179e"
            ],
            [
             0.4444444444444444,
             "#bd3786"
            ],
            [
             0.5555555555555556,
             "#d8576b"
            ],
            [
             0.6666666666666666,
             "#ed7953"
            ],
            [
             0.7777777777777778,
             "#fb9f3a"
            ],
            [
             0.8888888888888888,
             "#fdca26"
            ],
            [
             1,
             "#f0f921"
            ]
           ]
          },
          "colorway": [
           "#636efa",
           "#EF553B",
           "#00cc96",
           "#ab63fa",
           "#FFA15A",
           "#19d3f3",
           "#FF6692",
           "#B6E880",
           "#FF97FF",
           "#FECB52"
          ],
          "font": {
           "color": "#2a3f5f"
          },
          "geo": {
           "bgcolor": "white",
           "lakecolor": "white",
           "landcolor": "#E5ECF6",
           "showlakes": true,
           "showland": true,
           "subunitcolor": "white"
          },
          "hoverlabel": {
           "align": "left"
          },
          "hovermode": "closest",
          "mapbox": {
           "style": "light"
          },
          "paper_bgcolor": "white",
          "plot_bgcolor": "#E5ECF6",
          "polar": {
           "angularaxis": {
            "gridcolor": "white",
            "linecolor": "white",
            "ticks": ""
           },
           "bgcolor": "#E5ECF6",
           "radialaxis": {
            "gridcolor": "white",
            "linecolor": "white",
            "ticks": ""
           }
          },
          "scene": {
           "xaxis": {
            "backgroundcolor": "#E5ECF6",
            "gridcolor": "white",
            "gridwidth": 2,
            "linecolor": "white",
            "showbackground": true,
            "ticks": "",
            "zerolinecolor": "white"
           },
           "yaxis": {
            "backgroundcolor": "#E5ECF6",
            "gridcolor": "white",
            "gridwidth": 2,
            "linecolor": "white",
            "showbackground": true,
            "ticks": "",
            "zerolinecolor": "white"
           },
           "zaxis": {
            "backgroundcolor": "#E5ECF6",
            "gridcolor": "white",
            "gridwidth": 2,
            "linecolor": "white",
            "showbackground": true,
            "ticks": "",
            "zerolinecolor": "white"
           }
          },
          "shapedefaults": {
           "line": {
            "color": "#2a3f5f"
           }
          },
          "ternary": {
           "aaxis": {
            "gridcolor": "white",
            "linecolor": "white",
            "ticks": ""
           },
           "baxis": {
            "gridcolor": "white",
            "linecolor": "white",
            "ticks": ""
           },
           "bgcolor": "#E5ECF6",
           "caxis": {
            "gridcolor": "white",
            "linecolor": "white",
            "ticks": ""
           }
          },
          "title": {
           "x": 0.05
          },
          "xaxis": {
           "automargin": true,
           "gridcolor": "white",
           "linecolor": "white",
           "ticks": "",
           "title": {
            "standoff": 15
           },
           "zerolinecolor": "white",
           "zerolinewidth": 2
          },
          "yaxis": {
           "automargin": true,
           "gridcolor": "white",
           "linecolor": "white",
           "ticks": "",
           "title": {
            "standoff": 15
           },
           "zerolinecolor": "white",
           "zerolinewidth": 2
          }
         }
        },
        "xaxis": {
         "anchor": "y",
         "autorange": true,
         "domain": [
          0,
          1
         ],
         "range": [
          -0.5,
          8.5
         ],
         "title": {
          "text": "predictor"
         },
         "type": "category"
        },
        "yaxis": {
         "anchor": "x",
         "autorange": true,
         "domain": [
          0,
          1
         ],
         "range": [
          -931.56944033565,
          9309.827727769616
         ],
         "title": {
          "text": "coefficient"
         },
         "type": "linear"
        }
       }
      },
      "image/png": "[encoded data removed]",
      "text/html": [
       "<div>                            <div id=\"5c8602dd-adb6-42b0-b6a5-b6480b95ca29\" class=\"plotly-graph-div\" style=\"height:525px; width:100%;\"></div>            <script type=\"text/javascript\">                require([\"plotly\"], function(Plotly) {                    window.PLOTLYENV=window.PLOTLYENV || {};                                    if (document.getElementById(\"5c8602dd-adb6-42b0-b6a5-b6480b95ca29\")) {                    Plotly.newPlot(                        \"5c8602dd-adb6-42b0-b6a5-b6480b95ca29\",                        [{\"alignmentgroup\":\"True\",\"hovertemplate\":\"x=%{x}<br>y=%{y}<extra></extra>\",\"legendgroup\":\"\",\"marker\":{\"color\":\"#636efa\",\"pattern\":{\"shape\":\"\"}},\"name\":\"\",\"offsetgroup\":\"\",\"orientation\":\"v\",\"showlegend\":false,\"textposition\":\"auto\",\"x\":[\"carat\",\"cut\",\"clarity\",\"color\",\"Other\",\"IGI\",\"GIA\",\"polish\",\"symmetry\"],\"xaxis\":\"x\",\"y\":[8797.757869364354,-270.84105818239755,-281.7768275403016,-310.538867878383,-419.49958193038674,164.88457496156903,254.61500696881794,197.41272831261801,-44.29524763809634],\"yaxis\":\"y\",\"type\":\"bar\"}],                        {\"template\":{\"data\":{\"histogram2dcontour\":[{\"type\":\"histogram2dcontour\",\"colorbar\":{\"outlinewidth\":0,\"ticks\":\"\"},\"colorscale\":[[0.0,\"#0d0887\"],[0.1111111111111111,\"#46039f\"],[0.2222222222222222,\"#7201a8\"],[0.3333333333333333,\"#9c179e\"],[0.4444444444444444,\"#bd3786\"],[0.5555555555555556,\"#d8576b\"],[0.6666666666666666,\"#ed7953\"],[0.7777777777777778,\"#fb9f3a\"],[0.8888888888888888,\"#fdca26\"],[1.0,\"#f0f921\"]]}],\"choropleth\":[{\"type\":\"choropleth\",\"colorbar\":{\"outlinewidth\":0,\"ticks\":\"\"}}],\"histogram2d\":[{\"type\":\"histogram2d\",\"colorbar\":{\"outlinewidth\":0,\"ticks\":\"\"},\"colorscale\":[[0.0,\"#0d0887\"],[0.1111111111111111,\"#46039f\"],[0.2222222222222222,\"#7201a8\"],[0.3333333333333333,\"#9c179e\"],[0.4444444444444444,\"#bd3786\"],[0.5555555555555556,\"#d8576b\"],[0.6666666666666666,\"#ed7953\"],[0.7777777777777778,\"#fb9f3a\"],[0.8888888888888888,\"#fdca26\"],[1.0,\"#f0f921\"]]}],\"heatmap\":[{\"type\":\"heatmap\",\"colorbar\":{\"outlinewidth\":0,\"ticks\":\"\"},\"colorscale\":[[0.0,\"#0d0887\"],[0.1111111111111111,\"#46039f\"],[0.2222222222222222,\"#7201a8\"],[0.3333333333333333,\"#9c179e\"],[0.4444444444444444,\"#bd3786\"],[0.5555555555555556,\"#d8576b\"],[0.6666666666666666,\"#ed7953\"],[0.7777777777777778,\"#fb9f3a\"],[0.8888888888888888,\"#fdca26\"],[1.0,\"#f0f921\"]]}],\"heatmapgl\":[{\"type\":\"heatmapgl\",\"colorbar\":{\"outlinewidth\":0,\"ticks\":\"\"},\"colorscale\":[[0.0,\"#0d0887\"],[0.1111111111111111,\"#46039f\"],[0.2222222222222222,\"#7201a8\"],[0.3333333333333333,\"#9c179e\"],[0.4444444444444444,\"#bd3786\"],[0.5555555555555556,\"#d8576b\"],[0.6666666666666666,\"#ed7953\"],[0.7777777777777778,\"#fb9f3a\"],[0.8888888888888888,\"#fdca26\"],[1.0,\"#f0f921\"]]}],\"contourcarpet\":[{\"type\":\"contourcarpet\",\"colorbar\":{\"outlinewidth\":0,\"ticks\":\"\"}}],\"contour\":[{\"type\":\"contour\",\"colorbar\":{\"outlinewidth\":0,\"ticks\":\"\"},\"colorscale\":[[0.0,\"#0d0887\"],[0.1111111111111111,\"#46039f\"],[0.2222222222222222,\"#7201a8\"],[0.3333333333333333,\"#9c179e\"],[0.4444444444444444,\"#bd3786\"],[0.5555555555555556,\"#d8576b\"],[0.6666666666666666,\"#ed7953\"],[0.7777777777777778,\"#fb9f3a\"],[0.8888888888888888,\"#fdca26\"],[1.0,\"#f0f921\"]]}],\"surface\":[{\"type\":\"surface\",\"colorbar\":{\"outlinewidth\":0,\"ticks\":\"\"},\"colorscale\":[[0.0,\"#0d0887\"],[0.1111111111111111,\"#46039f\"],[0.2222222222222222,\"#7201a8\"],[0.3333333333333333,\"#9c179e\"],[0.4444444444444444,\"#bd3786\"],[0.5555555555555556,\"#d8576b\"],[0.6666666666666666,\"#ed7953\"],[0.7777777777777778,\"#fb9f3a\"],[0.8888888888888888,\"#fdca26\"],[1.0,\"#f0f921\"]]}],\"mesh3d\":[{\"type\":\"mesh3d\",\"colorbar\":{\"outlinewidth\":0,\"ticks\":\"\"}}],\"scatter\":[{\"fillpattern\":{\"fillmode\":\"overlay\",\"size\":10,\"solidity\":0.2},\"type\":\"scatter\"}],\"parcoords\":[{\"type\":\"parcoords\",\"line\":{\"colorbar\":{\"outlinewidth\":0,\"ticks\":\"\"}}}],\"scatterpolargl\":[{\"type\":\"scatterpolargl\",\"marker\":{\"colorbar\":{\"outlinewidth\":0,\"ticks\":\"\"}}}],\"bar\":[{\"error_x\":{\"color\":\"#2a3f5f\"},\"error_y\":{\"color\":\"#2a3f5f\"},\"marker\":{\"line\":{\"color\":\"#E5ECF6\",\"width\":0.5},\"pattern\":{\"fillmode\":\"overlay\",\"size\":10,\"solidity\":0.2}},\"type\":\"bar\"}],\"scattergeo\":[{\"type\":\"scattergeo\",\"marker\":{\"colorbar\":{\"outlinewidth\":0,\"ticks\":\"\"}}}],\"scatterpolar\":[{\"type\":\"scatterpolar\",\"marker\":{\"colorbar\":{\"outlinewidth\":0,\"ticks\":\"\"}}}],\"histogram\":[{\"marker\":{\"pattern\":{\"fillmode\":\"overlay\",\"size\":10,\"solidity\":0.2}},\"type\":\"histogram\"}],\"scattergl\":[{\"type\":\"scattergl\",\"marker\":{\"colorbar\":{\"outlinewidth\":0,\"ticks\":\"\"}}}],\"scatter3d\":[{\"type\":\"scatter3d\",\"line\":{\"colorbar\":{\"outlinewidth\":0,\"ticks\":\"\"}},\"marker\":{\"colorbar\":{\"outlinewidth\":0,\"ticks\":\"\"}}}],\"scattermapbox\":[{\"type\":\"scattermapbox\",\"marker\":{\"colorbar\":{\"outlinewidth\":0,\"ticks\":\"\"}}}],\"scatterternary\":[{\"type\":\"scatterternary\",\"marker\":{\"colorbar\":{\"outlinewidth\":0,\"ticks\":\"\"}}}],\"scattercarpet\":[{\"type\":\"scattercarpet\",\"marker\":{\"colorbar\":{\"outlinewidth\":0,\"ticks\":\"\"}}}],\"carpet\":[{\"aaxis\":{\"endlinecolor\":\"#2a3f5f\",\"gridcolor\":\"white\",\"linecolor\":\"white\",\"minorgridcolor\":\"white\",\"startlinecolor\":\"#2a3f5f\"},\"baxis\":{\"endlinecolor\":\"#2a3f5f\",\"gridcolor\":\"white\",\"linecolor\":\"white\",\"minorgridcolor\":\"white\",\"startlinecolor\":\"#2a3f5f\"},\"type\":\"carpet\"}],\"table\":[{\"cells\":{\"fill\":{\"color\":\"#EBF0F8\"},\"line\":{\"color\":\"white\"}},\"header\":{\"fill\":{\"color\":\"#C8D4E3\"},\"line\":{\"color\":\"white\"}},\"type\":\"table\"}],\"barpolar\":[{\"marker\":{\"line\":{\"color\":\"#E5ECF6\",\"width\":0.5},\"pattern\":{\"fillmode\":\"overlay\",\"size\":10,\"solidity\":0.2}},\"type\":\"barpolar\"}],\"pie\":[{\"automargin\":true,\"type\":\"pie\"}]},\"layout\":{\"autotypenumbers\":\"strict\",\"colorway\":[\"#636efa\",\"#EF553B\",\"#00cc96\",\"#ab63fa\",\"#FFA15A\",\"#19d3f3\",\"#FF6692\",\"#B6E880\",\"#FF97FF\",\"#FECB52\"],\"font\":{\"color\":\"#2a3f5f\"},\"hovermode\":\"closest\",\"hoverlabel\":{\"align\":\"left\"},\"paper_bgcolor\":\"white\",\"plot_bgcolor\":\"#E5ECF6\",\"polar\":{\"bgcolor\":\"#E5ECF6\",\"angularaxis\":{\"gridcolor\":\"white\",\"linecolor\":\"white\",\"ticks\":\"\"},\"radialaxis\":{\"gridcolor\":\"white\",\"linecolor\":\"white\",\"ticks\":\"\"}},\"ternary\":{\"bgcolor\":\"#E5ECF6\",\"aaxis\":{\"gridcolor\":\"white\",\"linecolor\":\"white\",\"ticks\":\"\"},\"baxis\":{\"gridcolor\":\"white\",\"linecolor\":\"white\",\"ticks\":\"\"},\"caxis\":{\"gridcolor\":\"white\",\"linecolor\":\"white\",\"ticks\":\"\"}},\"coloraxis\":{\"colorbar\":{\"outlinewidth\":0,\"ticks\":\"\"}},\"colorscale\":{\"sequential\":[[0.0,\"#0d0887\"],[0.1111111111111111,\"#46039f\"],[0.2222222222222222,\"#7201a8\"],[0.3333333333333333,\"#9c179e\"],[0.4444444444444444,\"#bd3786\"],[0.5555555555555556,\"#d8576b\"],[0.6666666666666666,\"#ed7953\"],[0.7777777777777778,\"#fb9f3a\"],[0.8888888888888888,\"#fdca26\"],[1.0,\"#f0f921\"]],\"sequentialminus\":[[0.0,\"#0d0887\"],[0.1111111111111111,\"#46039f\"],[0.2222222222222222,\"#7201a8\"],[0.3333333333333333,\"#9c179e\"],[0.4444444444444444,\"#bd3786\"],[0.5555555555555556,\"#d8576b\"],[0.6666666666666666,\"#ed7953\"],[0.7777777777777778,\"#fb9f3a\"],[0.8888888888888888,\"#fdca26\"],[1.0,\"#f0f921\"]],\"diverging\":[[0,\"#8e0152\"],[0.1,\"#c51b7d\"],[0.2,\"#de77ae\"],[0.3,\"#f1b6da\"],[0.4,\"#fde0ef\"],[0.5,\"#f7f7f7\"],[0.6,\"#e6f5d0\"],[0.7,\"#b8e186\"],[0.8,\"#7fbc41\"],[0.9,\"#4d9221\"],[1,\"#276419\"]]},\"xaxis\":{\"gridcolor\":\"white\",\"linecolor\":\"white\",\"ticks\":\"\",\"title\":{\"standoff\":15},\"zerolinecolor\":\"white\",\"automargin\":true,\"zerolinewidth\":2},\"yaxis\":{\"gridcolor\":\"white\",\"linecolor\":\"white\",\"ticks\":\"\",\"title\":{\"standoff\":15},\"zerolinecolor\":\"white\",\"automargin\":true,\"zerolinewidth\":2},\"scene\":{\"xaxis\":{\"backgroundcolor\":\"#E5ECF6\",\"gridcolor\":\"white\",\"linecolor\":\"white\",\"showbackground\":true,\"ticks\":\"\",\"zerolinecolor\":\"white\",\"gridwidth\":2},\"yaxis\":{\"backgroundcolor\":\"#E5ECF6\",\"gridcolor\":\"white\",\"linecolor\":\"white\",\"showbackground\":true,\"ticks\":\"\",\"zerolinecolor\":\"white\",\"gridwidth\":2},\"zaxis\":{\"backgroundcolor\":\"#E5ECF6\",\"gridcolor\":\"white\",\"linecolor\":\"white\",\"showbackground\":true,\"ticks\":\"\",\"zerolinecolor\":\"white\",\"gridwidth\":2}},\"shapedefaults\":{\"line\":{\"color\":\"#2a3f5f\"}},\"annotationdefaults\":{\"arrowcolor\":\"#2a3f5f\",\"arrowhead\":0,\"arrowwidth\":1},\"geo\":{\"bgcolor\":\"white\",\"landcolor\":\"#E5ECF6\",\"subunitcolor\":\"white\",\"showland\":true,\"showlakes\":true,\"lakecolor\":\"white\"},\"title\":{\"x\":0.05},\"mapbox\":{\"style\":\"light\"}}},\"xaxis\":{\"anchor\":\"y\",\"domain\":[0.0,1.0],\"title\":{\"text\":\"predictor\"}},\"yaxis\":{\"anchor\":\"x\",\"domain\":[0.0,1.0],\"title\":{\"text\":\"coefficient\"}},\"legend\":{\"tracegroupgap\":0},\"margin\":{\"t\":60},\"barmode\":\"relative\"},                        {\"responsive\": true}                    ).then(function(){\n",
       "                            \n",
       "var gd = document.getElementById('5c8602dd-adb6-42b0-b6a5-b6480b95ca29');\n",
       "var x = new MutationObserver(function (mutations, observer) {{\n",
       "        var display = window.getComputedStyle(gd).display;\n",
       "        if (!display || display === 'none') {{\n",
       "            console.log([gd, 'removed!']);\n",
       "            Plotly.purge(gd);\n",
       "            observer.disconnect();\n",
       "        }}\n",
       "}});\n",
       "\n",
       "// Listen for the removal of the full notebook cells\n",
       "var notebookContainer = gd.closest('#notebook-container');\n",
       "if (notebookContainer) {{\n",
       "    x.observe(notebookContainer, {childList: true});\n",
       "}}\n",
       "\n",
       "// Listen for the clearing of the current output cell\n",
       "var outputEl = gd.closest('.output');\n",
       "if (outputEl) {{\n",
       "    x.observe(outputEl, {childList: true});\n",
       "}}\n",
       "\n",
       "                        })                };                });            </script>        </div>"
      ]
     },
     "metadata": {},
     "output_type": "display_data"
    }
   ],
   "source": [
    "#show results as a bar chart\n",
    "import plotly.express as px\n",
    "fig = px.bar(x=results['feature'], y=results['coeff'])\n",
    "fig.update_layout(\n",
    "    yaxis=dict( title='coefficient'),\n",
    "    xaxis=dict( title='predictor'),\n",
    ")\n",
    "fig.show()"
   ]
  },
  {
   "cell_type": "code",
   "execution_count": 348,
   "id": "0c41bb04-353e-44f7-9de8-ac9b923353be",
   "metadata": {},
   "outputs": [],
   "source": [
    "#predict the y-values on the testing dataset\n",
    "y_preds = mymodel.predict(X_test)"
   ]
  },
  {
   "cell_type": "code",
   "execution_count": 349,
   "id": "df36c333-039e-4113-9cda-a1fa0df132fe",
   "metadata": {},
   "outputs": [
    {
     "name": "stdout",
     "output_type": "stream",
     "text": [
      "[5085.31, 7015.13, 1910.36, 1786.41, 87.98]\n",
      "[4525.68, 7091.69, 1102.14, 1152.11, 509.67]\n"
     ]
    }
   ],
   "source": [
    "#compare some of the results of the predictions \n",
    "print([round(x,2) for x in y_preds[:5]])\n",
    "print(list(y_test[:5]))\n",
    "#much closer!!!"
   ]
  },
  {
   "cell_type": "code",
   "execution_count": 350,
   "id": "1f2083ee-512f-4b07-be58-4eb660910b91",
   "metadata": {},
   "outputs": [
    {
     "data": {
      "image/png": "[encoded data removed]",
      "text/plain": [
       "<Figure size 432x432 with 1 Axes>"
      ]
     },
     "metadata": {
      "needs_background": "light"
     },
     "output_type": "display_data"
    }
   ],
   "source": [
    "#compare predictions to known values\n",
    "plt.figure(figsize=(6,6))\n",
    "ax = sns.regplot(x = y_preds, \n",
    "                 y = y_test, \n",
    "                 scatter_kws={\"color\": \"black\"}, \n",
    "                 line_kws={\"color\": \"red\"})\n",
    "ax.set(xlabel='predicted values', ylabel='true values');\n",
    "#still a lot more spread than I expected"
   ]
  },
  {
   "cell_type": "code",
   "execution_count": 351,
   "id": "b044e968-e74e-44f0-be58-ccca95240aa7",
   "metadata": {},
   "outputs": [
    {
     "data": {
      "text/plain": [
       "0.81"
      ]
     },
     "execution_count": 351,
     "metadata": {},
     "output_type": "execute_result"
    }
   ],
   "source": [
    "# check R-2 (coefficient of determination)\n",
    "r2 = metrics.r2_score(y_test, y_preds)\n",
    "round(r2, 2)\n",
    "#much better than before but still an interesting curve; seems like for the lower carat ranges, the linear relationship / modeling works well, but in the higher carat ranges, prices diverge more and start to look more parabolic. this makes sense because these sizes are probably much rarer so buyers will have to pay an extra premium above the features I have included in the model"
   ]
  },
  {
   "cell_type": "code",
   "execution_count": null,
   "id": "c17f3626-c5c9-4c64-9614-3f7b29a01dd5",
   "metadata": {},
   "outputs": [],
   "source": [
    "#other things I want to try:\n",
    "#is there a parabolic model?\n",
    "#or I could split the model even further into different carat ranges...\n",
    "#have to check if there is enough data for that though"
   ]
  },
  {
   "cell_type": "code",
   "execution_count": null,
   "id": "7e3afb50-d401-4946-bafb-744e00d8df89",
   "metadata": {},
   "outputs": [],
   "source": [
    "#add the scatter plots by carat range here"
   ]
  }
 ],
 "metadata": {
  "kernelspec": {
   "display_name": "default:Python",
   "language": "python",
   "name": "conda-env-default-py"
  },
  "language_info": {
   "codemirror_mode": {
    "name": "ipython",
    "version": 3
   },
   "file_extension": ".py",
   "mimetype": "text/x-python",
   "name": "python",
   "nbconvert_exporter": "python",
   "pygments_lexer": "ipython3",
   "version": "3.9.13"
  }
 },
 "nbformat": 4,
 "nbformat_minor": 5
}

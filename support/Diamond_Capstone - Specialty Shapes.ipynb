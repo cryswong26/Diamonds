{
 "cells": [
  {
   "cell_type": "markdown",
   "id": "0407de61-6adc-4f3c-a76f-89c14e80056d",
   "metadata": {},
   "source": [
    "## Capstone Project - Diamond Prices (Part 2 - Non-Round)"
   ]
  },
  {
   "cell_type": "code",
   "execution_count": 2,
   "id": "e4130164-1f7e-4424-8f43-87500cbfb89a",
   "metadata": {},
   "outputs": [],
   "source": [
    "#I was able to get a large dataset of diamond prices from recent years (2017+) through a contact at a diamond aggregator company\n",
    "#It has more features than the public datasets I looked at on Kaggle\n",
    "#In addition, it has a robust amount of data for fancy shapes (non-round), while the Kaggle dataset was only for round diamonds\n",
    "#I will split my model into round and non-round to reflect industry pricing standards (Rapaport guide)\n",
    "#This notebook will be focused on non-round shapes only\n",
    "#Example of Rapaport pricing guide: https://www.diamonds.net/Prices/RapaportPriceGuide.aspx"
   ]
  },
  {
   "cell_type": "code",
   "execution_count": 66,
   "id": "0f97d0ae-fa3a-4fff-a68b-7c42c1b075b2",
   "metadata": {},
   "outputs": [],
   "source": [
    "import pandas as pd\n",
    "from sklearn.linear_model import LinearRegression\n",
    "from sklearn.model_selection import train_test_split\n",
    "from sklearn import metrics\n",
    "from sklearn.tree import DecisionTreeClassifier\n",
    "from sklearn.model_selection import train_test_split\n",
    "from sklearn.preprocessing import StandardScaler, Normalizer\n",
    "from sklearn.datasets import fetch_openml\n",
    "from sklearn import svm\n",
    "from sklearn import tree\n",
    "from sklearn.model_selection import cross_val_score\n",
    "from sklearn.naive_bayes import MultinomialNB, BernoulliNB, GaussianNB\n",
    "from sklearn.pipeline import Pipeline\n",
    "from sklearn.metrics import classification_report,confusion_matrix,accuracy_score, roc_curve\n",
    "from sklearn.neighbors import KNeighborsClassifier\n",
    "from sklearn.ensemble import RandomForestClassifier, ExtraTreesClassifier, BaggingClassifier\n",
    "from sklearn.ensemble import RandomForestRegressor #added this one to try\n",
    "from sklearn.metrics import roc_auc_score\n",
    "from sklearn.model_selection import GridSearchCV\n",
    "from sklearn.pipeline import Pipeline\n",
    "from sklearn.metrics import mean_squared_error\n",
    "from sklearn.preprocessing import StandardScaler, Normalizer\n",
    "from xgboost import XGBRegressor #added this to try\n",
    "import matplotlib.pyplot as plt\n",
    "import numpy as np\n",
    "from math import sqrt\n",
    "import pickle\n",
    "import xgboost\n",
    "from xgboost import XGBClassifier\n",
    "import plotly as py\n",
    "import plotly.graph_objs as go\n",
    "import seaborn as sns"
   ]
  },
  {
   "cell_type": "code",
   "execution_count": 4,
   "id": "d1bb21c4-b653-423e-aa30-e71a99f6d88b",
   "metadata": {},
   "outputs": [
    {
     "data": {
      "text/html": [
       "<div>\n",
       "<style scoped>\n",
       "    .dataframe tbody tr th:only-of-type {\n",
       "        vertical-align: middle;\n",
       "    }\n",
       "\n",
       "    .dataframe tbody tr th {\n",
       "        vertical-align: top;\n",
       "    }\n",
       "\n",
       "    .dataframe thead th {\n",
       "        text-align: right;\n",
       "    }\n",
       "</style>\n",
       "<table border=\"1\" class=\"dataframe\">\n",
       "  <thead>\n",
       "    <tr style=\"text-align: right;\">\n",
       "      <th></th>\n",
       "      <th>shape</th>\n",
       "      <th>carat</th>\n",
       "      <th>cut</th>\n",
       "      <th>color</th>\n",
       "      <th>clarity</th>\n",
       "      <th>price</th>\n",
       "      <th>certificateLab</th>\n",
       "      <th>certificateID</th>\n",
       "      <th>depth_pct</th>\n",
       "      <th>table_width_pct</th>\n",
       "      <th>polish</th>\n",
       "      <th>symmetry</th>\n",
       "      <th>fluorescence</th>\n",
       "      <th>crownAngle</th>\n",
       "      <th>crownHeight</th>\n",
       "      <th>pavilionAngle</th>\n",
       "      <th>pavilionDepth</th>\n",
       "      <th>measurements</th>\n",
       "    </tr>\n",
       "  </thead>\n",
       "  <tbody>\n",
       "    <tr>\n",
       "      <th>0</th>\n",
       "      <td>Cushion</td>\n",
       "      <td>3.20</td>\n",
       "      <td>Excellent</td>\n",
       "      <td>G</td>\n",
       "      <td>VS1</td>\n",
       "      <td>53504.69</td>\n",
       "      <td>GIA</td>\n",
       "      <td>17459430</td>\n",
       "      <td>65.1</td>\n",
       "      <td>58.0</td>\n",
       "      <td>Very Good                                     ...</td>\n",
       "      <td>Good                                          ...</td>\n",
       "      <td>None</td>\n",
       "      <td>0.0</td>\n",
       "      <td>0.0</td>\n",
       "      <td>0.0</td>\n",
       "      <td>0.0</td>\n",
       "      <td>9.14x8.05x5.24</td>\n",
       "    </tr>\n",
       "    <tr>\n",
       "      <th>1</th>\n",
       "      <td>Radiant</td>\n",
       "      <td>2.01</td>\n",
       "      <td>Excellent</td>\n",
       "      <td>G</td>\n",
       "      <td>VS2</td>\n",
       "      <td>17643.65</td>\n",
       "      <td>GIA</td>\n",
       "      <td>13444744</td>\n",
       "      <td>68.9</td>\n",
       "      <td>70.0</td>\n",
       "      <td>Very Good                                     ...</td>\n",
       "      <td>Very Good                                     ...</td>\n",
       "      <td>None</td>\n",
       "      <td>0.0</td>\n",
       "      <td>0.0</td>\n",
       "      <td>0.0</td>\n",
       "      <td>0.0</td>\n",
       "      <td>8.33x6.18x4.26</td>\n",
       "    </tr>\n",
       "    <tr>\n",
       "      <th>2</th>\n",
       "      <td>Radiant</td>\n",
       "      <td>3.22</td>\n",
       "      <td>Excellent</td>\n",
       "      <td>E</td>\n",
       "      <td>VS2</td>\n",
       "      <td>50939.81</td>\n",
       "      <td>GIA</td>\n",
       "      <td>15310974</td>\n",
       "      <td>70.1</td>\n",
       "      <td>72.0</td>\n",
       "      <td>Very Good                                     ...</td>\n",
       "      <td>Very Good                                     ...</td>\n",
       "      <td>None</td>\n",
       "      <td>0.0</td>\n",
       "      <td>0.0</td>\n",
       "      <td>0.0</td>\n",
       "      <td>0.0</td>\n",
       "      <td>8.31x7.96x5.58</td>\n",
       "    </tr>\n",
       "    <tr>\n",
       "      <th>3</th>\n",
       "      <td>Cushion</td>\n",
       "      <td>3.08</td>\n",
       "      <td>Very Good</td>\n",
       "      <td>G</td>\n",
       "      <td>VS2</td>\n",
       "      <td>36052.16</td>\n",
       "      <td>GIA</td>\n",
       "      <td>17262201</td>\n",
       "      <td>68.3</td>\n",
       "      <td>66.0</td>\n",
       "      <td>Very Good                                     ...</td>\n",
       "      <td>Good                                          ...</td>\n",
       "      <td>Faint</td>\n",
       "      <td>0.0</td>\n",
       "      <td>0.0</td>\n",
       "      <td>0.0</td>\n",
       "      <td>0.0</td>\n",
       "      <td>9.21x7.83x5.35</td>\n",
       "    </tr>\n",
       "    <tr>\n",
       "      <th>4</th>\n",
       "      <td>Asscher</td>\n",
       "      <td>3.01</td>\n",
       "      <td>Very Good</td>\n",
       "      <td>G</td>\n",
       "      <td>VS1</td>\n",
       "      <td>41195.25</td>\n",
       "      <td>GIA</td>\n",
       "      <td>17459424</td>\n",
       "      <td>71.1</td>\n",
       "      <td>67.0</td>\n",
       "      <td>Excellent                                     ...</td>\n",
       "      <td>Good                                          ...</td>\n",
       "      <td>None</td>\n",
       "      <td>0.0</td>\n",
       "      <td>0.0</td>\n",
       "      <td>0.0</td>\n",
       "      <td>0.0</td>\n",
       "      <td>7.81x7.69x5.47</td>\n",
       "    </tr>\n",
       "  </tbody>\n",
       "</table>\n",
       "</div>"
      ],
      "text/plain": [
       "     shape  carat        cut color clarity     price certificateLab  \\\n",
       "0  Cushion   3.20  Excellent     G     VS1  53504.69            GIA   \n",
       "1  Radiant   2.01  Excellent     G     VS2  17643.65            GIA   \n",
       "2  Radiant   3.22  Excellent     E     VS2  50939.81            GIA   \n",
       "3  Cushion   3.08  Very Good     G     VS2  36052.16            GIA   \n",
       "4  Asscher   3.01  Very Good     G     VS1  41195.25            GIA   \n",
       "\n",
       "  certificateID  depth_pct  table_width_pct  \\\n",
       "0      17459430       65.1             58.0   \n",
       "1      13444744       68.9             70.0   \n",
       "2      15310974       70.1             72.0   \n",
       "3      17262201       68.3             66.0   \n",
       "4      17459424       71.1             67.0   \n",
       "\n",
       "                                              polish  \\\n",
       "0  Very Good                                     ...   \n",
       "1  Very Good                                     ...   \n",
       "2  Very Good                                     ...   \n",
       "3  Very Good                                     ...   \n",
       "4  Excellent                                     ...   \n",
       "\n",
       "                                            symmetry fluorescence  crownAngle  \\\n",
       "0  Good                                          ...         None         0.0   \n",
       "1  Very Good                                     ...         None         0.0   \n",
       "2  Very Good                                     ...         None         0.0   \n",
       "3  Good                                          ...        Faint         0.0   \n",
       "4  Good                                          ...         None         0.0   \n",
       "\n",
       "   crownHeight  pavilionAngle  pavilionDepth    measurements  \n",
       "0          0.0            0.0            0.0  9.14x8.05x5.24  \n",
       "1          0.0            0.0            0.0  8.33x6.18x4.26  \n",
       "2          0.0            0.0            0.0  8.31x7.96x5.58  \n",
       "3          0.0            0.0            0.0  9.21x7.83x5.35  \n",
       "4          0.0            0.0            0.0  7.81x7.69x5.47  "
      ]
     },
     "execution_count": 4,
     "metadata": {},
     "output_type": "execute_result"
    }
   ],
   "source": [
    "df = pd.read_csv('../assets/Diamond Capstone Fancy (Non Round).csv')\n",
    "df.head()"
   ]
  },
  {
   "cell_type": "markdown",
   "id": "027767e3-c746-4860-8865-917a86d73d78",
   "metadata": {},
   "source": [
    "## Exploratory Data Analysis"
   ]
  },
  {
   "cell_type": "code",
   "execution_count": 5,
   "id": "05c7140b-20a1-43f5-8182-d82fa4b7ff0c",
   "metadata": {},
   "outputs": [
    {
     "data": {
      "text/plain": [
       "(56312, 18)"
      ]
     },
     "execution_count": 5,
     "metadata": {},
     "output_type": "execute_result"
    }
   ],
   "source": [
    "df.shape\n",
    "#>50K records, but will need to check if there are a lot of outliers like with the round dataset"
   ]
  },
  {
   "cell_type": "code",
   "execution_count": 6,
   "id": "5a2ffd68-0db5-4739-8f11-9dfd8f6b60b0",
   "metadata": {},
   "outputs": [
    {
     "data": {
      "text/plain": [
       "shape                 0\n",
       "carat                 0\n",
       "cut                   0\n",
       "color              4555\n",
       "clarity               0\n",
       "price                 0\n",
       "certificateLab        0\n",
       "certificateID         0\n",
       "depth_pct             0\n",
       "table_width_pct       0\n",
       "polish               66\n",
       "symmetry            458\n",
       "fluorescence        292\n",
       "crownAngle            0\n",
       "crownHeight           0\n",
       "pavilionAngle         0\n",
       "pavilionDepth         0\n",
       "measurements          0\n",
       "dtype: int64"
      ]
     },
     "execution_count": 6,
     "metadata": {},
     "output_type": "execute_result"
    }
   ],
   "source": [
    "#check for missing data\n",
    "df.isnull().sum()\n",
    "#a lot of them are missing color (~8%) so I will probably impute them somehow instead of dropping\n",
    "#I will drop the records that are missing polish, symmetry, and fluorescence since they are not big predictors for price typically"
   ]
  },
  {
   "cell_type": "code",
   "execution_count": 7,
   "id": "93b1e149-e99e-4792-b0ee-25ed1755d739",
   "metadata": {},
   "outputs": [],
   "source": [
    "#drop the missing data\n",
    "df.dropna(subset=['fluorescence'], inplace=True)\n",
    "df.dropna(subset=['symmetry'], inplace=True)\n",
    "df.dropna(subset=['polish'], inplace=True)"
   ]
  },
  {
   "cell_type": "code",
   "execution_count": 8,
   "id": "fe6788f8-7215-4704-b546-d3daf0aeb63a",
   "metadata": {},
   "outputs": [
    {
     "data": {
      "text/plain": [
       "shape                 0\n",
       "carat                 0\n",
       "cut                   0\n",
       "color              4229\n",
       "clarity               0\n",
       "price                 0\n",
       "certificateLab        0\n",
       "certificateID         0\n",
       "depth_pct             0\n",
       "table_width_pct       0\n",
       "polish                0\n",
       "symmetry              0\n",
       "fluorescence          0\n",
       "crownAngle            0\n",
       "crownHeight           0\n",
       "pavilionAngle         0\n",
       "pavilionDepth         0\n",
       "measurements          0\n",
       "dtype: int64"
      ]
     },
     "execution_count": 8,
     "metadata": {},
     "output_type": "execute_result"
    }
   ],
   "source": [
    "df.isnull().sum()"
   ]
  },
  {
   "cell_type": "code",
   "execution_count": 9,
   "id": "4aaf47ed-ad2d-43c3-af97-03acaf257e3c",
   "metadata": {},
   "outputs": [
    {
     "data": {
      "text/plain": [
       "(55578, 18)"
      ]
     },
     "execution_count": 9,
     "metadata": {},
     "output_type": "execute_result"
    }
   ],
   "source": [
    "df.shape\n",
    "#still have 99% of the data"
   ]
  },
  {
   "cell_type": "code",
   "execution_count": 10,
   "id": "c6d020af-4f6f-49b9-8d26-810aa03b2fa9",
   "metadata": {},
   "outputs": [
    {
     "data": {
      "text/plain": [
       "E      8572\n",
       "F      8467\n",
       "G      8330\n",
       "D      7464\n",
       "H      6613\n",
       "I      5508\n",
       "NaN    4229\n",
       "J      3664\n",
       "K      1757\n",
       "L       635\n",
       "M       324\n",
       "YZ        7\n",
       "WX        4\n",
       "N         2\n",
       "Y         1\n",
       "UV        1\n",
       "Name: color, dtype: int64"
      ]
     },
     "execution_count": 10,
     "metadata": {},
     "output_type": "execute_result"
    }
   ],
   "source": [
    "#look at the color data\n",
    "df['color'].value_counts(dropna = False)\n",
    "#hard to impute bc there is not one color that stands out as most frequent and color is an important feature for pricing"
   ]
  },
  {
   "cell_type": "code",
   "execution_count": 11,
   "id": "d148b5fe-238c-4fbd-94b0-5da63ce021b6",
   "metadata": {},
   "outputs": [
    {
     "data": {
      "text/html": [
       "<div>\n",
       "<style scoped>\n",
       "    .dataframe tbody tr th:only-of-type {\n",
       "        vertical-align: middle;\n",
       "    }\n",
       "\n",
       "    .dataframe tbody tr th {\n",
       "        vertical-align: top;\n",
       "    }\n",
       "\n",
       "    .dataframe thead th {\n",
       "        text-align: right;\n",
       "    }\n",
       "</style>\n",
       "<table border=\"1\" class=\"dataframe\">\n",
       "  <thead>\n",
       "    <tr style=\"text-align: right;\">\n",
       "      <th></th>\n",
       "      <th>shape</th>\n",
       "      <th>carat</th>\n",
       "      <th>cut</th>\n",
       "      <th>color</th>\n",
       "      <th>clarity</th>\n",
       "      <th>price</th>\n",
       "      <th>certificateLab</th>\n",
       "      <th>certificateID</th>\n",
       "      <th>depth_pct</th>\n",
       "      <th>table_width_pct</th>\n",
       "      <th>polish</th>\n",
       "      <th>symmetry</th>\n",
       "      <th>fluorescence</th>\n",
       "      <th>crownAngle</th>\n",
       "      <th>crownHeight</th>\n",
       "      <th>pavilionAngle</th>\n",
       "      <th>pavilionDepth</th>\n",
       "      <th>measurements</th>\n",
       "    </tr>\n",
       "  </thead>\n",
       "  <tbody>\n",
       "    <tr>\n",
       "      <th>52847</th>\n",
       "      <td>Cushion</td>\n",
       "      <td>1.02</td>\n",
       "      <td>Good</td>\n",
       "      <td>NaN</td>\n",
       "      <td>SI2</td>\n",
       "      <td>8160.00</td>\n",
       "      <td>GIA</td>\n",
       "      <td>1258134255</td>\n",
       "      <td>73.8</td>\n",
       "      <td>53.0</td>\n",
       "      <td>Excellent                                     ...</td>\n",
       "      <td>Good                                          ...</td>\n",
       "      <td>Strong</td>\n",
       "      <td>0.0</td>\n",
       "      <td>0.0</td>\n",
       "      <td>0.0</td>\n",
       "      <td>0.0</td>\n",
       "      <td>5.85x5.02x3.71</td>\n",
       "    </tr>\n",
       "    <tr>\n",
       "      <th>52848</th>\n",
       "      <td>Cushion</td>\n",
       "      <td>1.17</td>\n",
       "      <td>Very Good</td>\n",
       "      <td>NaN</td>\n",
       "      <td>VS1</td>\n",
       "      <td>4206.74</td>\n",
       "      <td>GIA</td>\n",
       "      <td>6252134379</td>\n",
       "      <td>70.3</td>\n",
       "      <td>55.0</td>\n",
       "      <td>Excellent                                     ...</td>\n",
       "      <td>Good                                          ...</td>\n",
       "      <td>Faint</td>\n",
       "      <td>0.0</td>\n",
       "      <td>0.0</td>\n",
       "      <td>0.0</td>\n",
       "      <td>0.0</td>\n",
       "      <td>5.65x5.61x3.95</td>\n",
       "    </tr>\n",
       "    <tr>\n",
       "      <th>52849</th>\n",
       "      <td>Cushion</td>\n",
       "      <td>1.18</td>\n",
       "      <td>Very Good</td>\n",
       "      <td>NaN</td>\n",
       "      <td>VS1</td>\n",
       "      <td>3447.19</td>\n",
       "      <td>GIA</td>\n",
       "      <td>6255132037</td>\n",
       "      <td>69.6</td>\n",
       "      <td>55.0</td>\n",
       "      <td>Very Good                                     ...</td>\n",
       "      <td>Very Good                                     ...</td>\n",
       "      <td>None</td>\n",
       "      <td>0.0</td>\n",
       "      <td>0.0</td>\n",
       "      <td>0.0</td>\n",
       "      <td>0.0</td>\n",
       "      <td>6.15x5.40x3.76</td>\n",
       "    </tr>\n",
       "    <tr>\n",
       "      <th>52850</th>\n",
       "      <td>Cushion</td>\n",
       "      <td>1.19</td>\n",
       "      <td>Very Good</td>\n",
       "      <td>NaN</td>\n",
       "      <td>VVS2</td>\n",
       "      <td>4412.36</td>\n",
       "      <td>GIA</td>\n",
       "      <td>6251132043</td>\n",
       "      <td>69.4</td>\n",
       "      <td>54.0</td>\n",
       "      <td>Very Good                                     ...</td>\n",
       "      <td>Very Good                                     ...</td>\n",
       "      <td>None</td>\n",
       "      <td>0.0</td>\n",
       "      <td>0.0</td>\n",
       "      <td>0.0</td>\n",
       "      <td>0.0</td>\n",
       "      <td>6.10x5.51x3.83</td>\n",
       "    </tr>\n",
       "    <tr>\n",
       "      <th>52851</th>\n",
       "      <td>Cushion</td>\n",
       "      <td>1.30</td>\n",
       "      <td>Very Good</td>\n",
       "      <td>NaN</td>\n",
       "      <td>VS2</td>\n",
       "      <td>4674.16</td>\n",
       "      <td>GIA</td>\n",
       "      <td>3255132054</td>\n",
       "      <td>69.6</td>\n",
       "      <td>56.0</td>\n",
       "      <td>Excellent                                     ...</td>\n",
       "      <td>Very Good                                     ...</td>\n",
       "      <td>None</td>\n",
       "      <td>0.0</td>\n",
       "      <td>0.0</td>\n",
       "      <td>0.0</td>\n",
       "      <td>0.0</td>\n",
       "      <td>6.06x5.71x3.98</td>\n",
       "    </tr>\n",
       "    <tr>\n",
       "      <th>...</th>\n",
       "      <td>...</td>\n",
       "      <td>...</td>\n",
       "      <td>...</td>\n",
       "      <td>...</td>\n",
       "      <td>...</td>\n",
       "      <td>...</td>\n",
       "      <td>...</td>\n",
       "      <td>...</td>\n",
       "      <td>...</td>\n",
       "      <td>...</td>\n",
       "      <td>...</td>\n",
       "      <td>...</td>\n",
       "      <td>...</td>\n",
       "      <td>...</td>\n",
       "      <td>...</td>\n",
       "      <td>...</td>\n",
       "      <td>...</td>\n",
       "      <td>...</td>\n",
       "    </tr>\n",
       "    <tr>\n",
       "      <th>56210</th>\n",
       "      <td>Emerald</td>\n",
       "      <td>1.01</td>\n",
       "      <td>Fair</td>\n",
       "      <td>NaN</td>\n",
       "      <td>VS1</td>\n",
       "      <td>4141.91</td>\n",
       "      <td>GIA</td>\n",
       "      <td>1152309323</td>\n",
       "      <td>52.7</td>\n",
       "      <td>59.0</td>\n",
       "      <td>Very Good                                     ...</td>\n",
       "      <td>Very Good                                     ...</td>\n",
       "      <td>Medium</td>\n",
       "      <td>0.0</td>\n",
       "      <td>0.0</td>\n",
       "      <td>0.0</td>\n",
       "      <td>0.0</td>\n",
       "      <td>7.37x5.02x2.65</td>\n",
       "    </tr>\n",
       "    <tr>\n",
       "      <th>56211</th>\n",
       "      <td>Cushion</td>\n",
       "      <td>2.61</td>\n",
       "      <td>Excellent</td>\n",
       "      <td>NaN</td>\n",
       "      <td>VS1</td>\n",
       "      <td>11255.71</td>\n",
       "      <td>GIA</td>\n",
       "      <td>6245360940</td>\n",
       "      <td>68.5</td>\n",
       "      <td>68.0</td>\n",
       "      <td>Excellent                                     ...</td>\n",
       "      <td>Very Good                                     ...</td>\n",
       "      <td>None</td>\n",
       "      <td>0.0</td>\n",
       "      <td>0.0</td>\n",
       "      <td>0.0</td>\n",
       "      <td>0.0</td>\n",
       "      <td>7.50x7.13x4.88</td>\n",
       "    </tr>\n",
       "    <tr>\n",
       "      <th>56232</th>\n",
       "      <td>Cushion</td>\n",
       "      <td>0.73</td>\n",
       "      <td>Excellent</td>\n",
       "      <td>NaN</td>\n",
       "      <td>VS1</td>\n",
       "      <td>1819.72</td>\n",
       "      <td>GIA</td>\n",
       "      <td>1162317476</td>\n",
       "      <td>66.1</td>\n",
       "      <td>60.0</td>\n",
       "      <td>Good                                          ...</td>\n",
       "      <td>Good                                          ...</td>\n",
       "      <td>None</td>\n",
       "      <td>0.0</td>\n",
       "      <td>0.0</td>\n",
       "      <td>0.0</td>\n",
       "      <td>0.0</td>\n",
       "      <td>5.15x4.93x3.26</td>\n",
       "    </tr>\n",
       "    <tr>\n",
       "      <th>56244</th>\n",
       "      <td>Cushion</td>\n",
       "      <td>1.11</td>\n",
       "      <td>Very Good</td>\n",
       "      <td>NaN</td>\n",
       "      <td>VS1</td>\n",
       "      <td>2571.82</td>\n",
       "      <td>GIA</td>\n",
       "      <td>1182805769</td>\n",
       "      <td>69.3</td>\n",
       "      <td>52.0</td>\n",
       "      <td>Very Good</td>\n",
       "      <td>Good</td>\n",
       "      <td>Faint</td>\n",
       "      <td>0.0</td>\n",
       "      <td>0.0</td>\n",
       "      <td>0.0</td>\n",
       "      <td>0.0</td>\n",
       "      <td>5.63x5.59x3.87</td>\n",
       "    </tr>\n",
       "    <tr>\n",
       "      <th>56304</th>\n",
       "      <td>Radiant</td>\n",
       "      <td>5.26</td>\n",
       "      <td>Excellent</td>\n",
       "      <td>NaN</td>\n",
       "      <td>None</td>\n",
       "      <td>50307.91</td>\n",
       "      <td>GIA</td>\n",
       "      <td>14472958</td>\n",
       "      <td>67.7</td>\n",
       "      <td>66.0</td>\n",
       "      <td>Excellent                                     ...</td>\n",
       "      <td>Very Good                                     ...</td>\n",
       "      <td>None</td>\n",
       "      <td>0.0</td>\n",
       "      <td>0.0</td>\n",
       "      <td>0.0</td>\n",
       "      <td>0.0</td>\n",
       "      <td>10.27x9.08x6.15</td>\n",
       "    </tr>\n",
       "  </tbody>\n",
       "</table>\n",
       "<p>100 rows × 18 columns</p>\n",
       "</div>"
      ],
      "text/plain": [
       "         shape  carat        cut color clarity     price certificateLab  \\\n",
       "52847  Cushion   1.02       Good   NaN     SI2   8160.00            GIA   \n",
       "52848  Cushion   1.17  Very Good   NaN     VS1   4206.74            GIA   \n",
       "52849  Cushion   1.18  Very Good   NaN     VS1   3447.19            GIA   \n",
       "52850  Cushion   1.19  Very Good   NaN    VVS2   4412.36            GIA   \n",
       "52851  Cushion   1.30  Very Good   NaN     VS2   4674.16            GIA   \n",
       "...        ...    ...        ...   ...     ...       ...            ...   \n",
       "56210  Emerald   1.01       Fair   NaN     VS1   4141.91            GIA   \n",
       "56211  Cushion   2.61  Excellent   NaN     VS1  11255.71            GIA   \n",
       "56232  Cushion   0.73  Excellent   NaN     VS1   1819.72            GIA   \n",
       "56244  Cushion   1.11  Very Good   NaN     VS1   2571.82            GIA   \n",
       "56304  Radiant   5.26  Excellent   NaN    None  50307.91            GIA   \n",
       "\n",
       "      certificateID  depth_pct  table_width_pct  \\\n",
       "52847    1258134255       73.8             53.0   \n",
       "52848    6252134379       70.3             55.0   \n",
       "52849    6255132037       69.6             55.0   \n",
       "52850    6251132043       69.4             54.0   \n",
       "52851    3255132054       69.6             56.0   \n",
       "...             ...        ...              ...   \n",
       "56210    1152309323       52.7             59.0   \n",
       "56211    6245360940       68.5             68.0   \n",
       "56232    1162317476       66.1             60.0   \n",
       "56244    1182805769       69.3             52.0   \n",
       "56304      14472958       67.7             66.0   \n",
       "\n",
       "                                                  polish  \\\n",
       "52847  Excellent                                     ...   \n",
       "52848  Excellent                                     ...   \n",
       "52849  Very Good                                     ...   \n",
       "52850  Very Good                                     ...   \n",
       "52851  Excellent                                     ...   \n",
       "...                                                  ...   \n",
       "56210  Very Good                                     ...   \n",
       "56211  Excellent                                     ...   \n",
       "56232  Good                                          ...   \n",
       "56244                                          Very Good   \n",
       "56304  Excellent                                     ...   \n",
       "\n",
       "                                                symmetry fluorescence  \\\n",
       "52847  Good                                          ...       Strong   \n",
       "52848  Good                                          ...        Faint   \n",
       "52849  Very Good                                     ...         None   \n",
       "52850  Very Good                                     ...         None   \n",
       "52851  Very Good                                     ...         None   \n",
       "...                                                  ...          ...   \n",
       "56210  Very Good                                     ...       Medium   \n",
       "56211  Very Good                                     ...         None   \n",
       "56232  Good                                          ...         None   \n",
       "56244                                               Good        Faint   \n",
       "56304  Very Good                                     ...         None   \n",
       "\n",
       "       crownAngle  crownHeight  pavilionAngle  pavilionDepth     measurements  \n",
       "52847         0.0          0.0            0.0            0.0   5.85x5.02x3.71  \n",
       "52848         0.0          0.0            0.0            0.0   5.65x5.61x3.95  \n",
       "52849         0.0          0.0            0.0            0.0   6.15x5.40x3.76  \n",
       "52850         0.0          0.0            0.0            0.0   6.10x5.51x3.83  \n",
       "52851         0.0          0.0            0.0            0.0   6.06x5.71x3.98  \n",
       "...           ...          ...            ...            ...              ...  \n",
       "56210         0.0          0.0            0.0            0.0   7.37x5.02x2.65  \n",
       "56211         0.0          0.0            0.0            0.0   7.50x7.13x4.88  \n",
       "56232         0.0          0.0            0.0            0.0   5.15x4.93x3.26  \n",
       "56244         0.0          0.0            0.0            0.0   5.63x5.59x3.87  \n",
       "56304         0.0          0.0            0.0            0.0  10.27x9.08x6.15  \n",
       "\n",
       "[100 rows x 18 columns]"
      ]
     },
     "execution_count": 11,
     "metadata": {},
     "output_type": "execute_result"
    }
   ],
   "source": [
    "df[df['color'].isna()].tail(100)\n",
    "#I used stonealgo's diamond search to look up some of these certificate IDs and it looks like the problem is that these are stones not in the standard color range\n",
    "#example link: https://www.stonealgo.com/diamond-details/gia-number-1152309323\n",
    "#examples of non-standard colors: fancy yellow, faint pink\n",
    "#not enough data for me to work on these types of diamonds so I will have to drop them"
   ]
  },
  {
   "cell_type": "code",
   "execution_count": 12,
   "id": "35297928-2002-4ce7-b679-96a1381f9351",
   "metadata": {},
   "outputs": [
    {
     "name": "stdout",
     "output_type": "stream",
     "text": [
      "E      8572\n",
      "F      8467\n",
      "G      8330\n",
      "D      7464\n",
      "H      6613\n",
      "I      5508\n",
      "NaN    4229\n",
      "J      3664\n",
      "K      1757\n",
      "L       635\n",
      "M       324\n",
      "YZ        7\n",
      "WX        4\n",
      "N         2\n",
      "Y         1\n",
      "UV        1\n",
      "Name: color, dtype: int64\n",
      "E     8572\n",
      "F     8467\n",
      "G     8330\n",
      "D     7464\n",
      "H     6613\n",
      "I     5508\n",
      "J     3664\n",
      "K     1757\n",
      "L      635\n",
      "M      324\n",
      "YZ       7\n",
      "WX       4\n",
      "N        2\n",
      "Y        1\n",
      "UV       1\n",
      "Name: color, dtype: int64\n"
     ]
    }
   ],
   "source": [
    "#drop the records that are missing color\n",
    "print(df['color'].value_counts(dropna = False))\n",
    "df.dropna(subset=['color'], inplace=True)\n",
    "print(df['color'].value_counts(dropna=False))"
   ]
  },
  {
   "cell_type": "code",
   "execution_count": 13,
   "id": "2a4aced3-e18d-4ca0-9b81-835a846f3933",
   "metadata": {},
   "outputs": [
    {
     "data": {
      "text/plain": [
       "shape              0\n",
       "carat              0\n",
       "cut                0\n",
       "color              0\n",
       "clarity            0\n",
       "price              0\n",
       "certificateLab     0\n",
       "certificateID      0\n",
       "depth_pct          0\n",
       "table_width_pct    0\n",
       "polish             0\n",
       "symmetry           0\n",
       "fluorescence       0\n",
       "crownAngle         0\n",
       "crownHeight        0\n",
       "pavilionAngle      0\n",
       "pavilionDepth      0\n",
       "measurements       0\n",
       "dtype: int64"
      ]
     },
     "execution_count": 13,
     "metadata": {},
     "output_type": "execute_result"
    }
   ],
   "source": [
    "#confirm there is no more missing data\n",
    "df.isnull().sum()"
   ]
  },
  {
   "cell_type": "code",
   "execution_count": 14,
   "id": "78e97caa-7894-4dda-9093-b0def6b31bc6",
   "metadata": {},
   "outputs": [
    {
     "data": {
      "text/plain": [
       "(51349, 18)"
      ]
     },
     "execution_count": 14,
     "metadata": {},
     "output_type": "execute_result"
    }
   ],
   "source": [
    "df.shape\n",
    "#down to 51K records vs. original dataset of 56K (91%), but still a good amount of data to model"
   ]
  },
  {
   "cell_type": "code",
   "execution_count": 15,
   "id": "6197d0b2-2e62-4bd2-a9c3-a23249fa26b6",
   "metadata": {},
   "outputs": [
    {
     "data": {
      "text/plain": [
       "shape               object\n",
       "carat              float64\n",
       "cut                 object\n",
       "color               object\n",
       "clarity             object\n",
       "price              float64\n",
       "certificateLab      object\n",
       "certificateID       object\n",
       "depth_pct          float64\n",
       "table_width_pct    float64\n",
       "polish              object\n",
       "symmetry            object\n",
       "fluorescence        object\n",
       "crownAngle         float64\n",
       "crownHeight        float64\n",
       "pavilionAngle      float64\n",
       "pavilionDepth      float64\n",
       "measurements        object\n",
       "dtype: object"
      ]
     },
     "execution_count": 15,
     "metadata": {},
     "output_type": "execute_result"
    }
   ],
   "source": [
    "#take a look at the datatypes\n",
    "df.dtypes"
   ]
  },
  {
   "cell_type": "code",
   "execution_count": 16,
   "id": "19d27777-9a5a-4667-ac32-15ad83e0707b",
   "metadata": {},
   "outputs": [
    {
     "data": {
      "text/plain": [
       "Cushion     11289\n",
       "Princess     8638\n",
       "Emerald      6981\n",
       "Pear         6824\n",
       "Oval         6489\n",
       "Marquise     3361\n",
       "Radiant      3177\n",
       "Heart        2648\n",
       "Asscher      1881\n",
       "CM             61\n",
       "Name: shape, dtype: int64"
      ]
     },
     "execution_count": 16,
     "metadata": {},
     "output_type": "execute_result"
    }
   ],
   "source": [
    "#double check that I don't have round diamonds in this analysis\n",
    "df['shape'].value_counts()\n",
    "#not sure what CM is..."
   ]
  },
  {
   "cell_type": "code",
   "execution_count": 17,
   "id": "f7b261f3-d4d7-435f-9b86-ae4ede6af0b7",
   "metadata": {},
   "outputs": [
    {
     "data": {
      "text/html": [
       "<div>\n",
       "<style scoped>\n",
       "    .dataframe tbody tr th:only-of-type {\n",
       "        vertical-align: middle;\n",
       "    }\n",
       "\n",
       "    .dataframe tbody tr th {\n",
       "        vertical-align: top;\n",
       "    }\n",
       "\n",
       "    .dataframe thead th {\n",
       "        text-align: right;\n",
       "    }\n",
       "</style>\n",
       "<table border=\"1\" class=\"dataframe\">\n",
       "  <thead>\n",
       "    <tr style=\"text-align: right;\">\n",
       "      <th></th>\n",
       "      <th>shape</th>\n",
       "      <th>carat</th>\n",
       "      <th>cut</th>\n",
       "      <th>color</th>\n",
       "      <th>clarity</th>\n",
       "      <th>price</th>\n",
       "      <th>certificateLab</th>\n",
       "      <th>certificateID</th>\n",
       "      <th>depth_pct</th>\n",
       "      <th>table_width_pct</th>\n",
       "      <th>polish</th>\n",
       "      <th>symmetry</th>\n",
       "      <th>fluorescence</th>\n",
       "      <th>crownAngle</th>\n",
       "      <th>crownHeight</th>\n",
       "      <th>pavilionAngle</th>\n",
       "      <th>pavilionDepth</th>\n",
       "      <th>measurements</th>\n",
       "    </tr>\n",
       "  </thead>\n",
       "  <tbody>\n",
       "    <tr>\n",
       "      <th>18939</th>\n",
       "      <td>CM</td>\n",
       "      <td>1.53</td>\n",
       "      <td>Excellent</td>\n",
       "      <td>G</td>\n",
       "      <td>VS2</td>\n",
       "      <td>8724.00</td>\n",
       "      <td>GIA</td>\n",
       "      <td>2246993298</td>\n",
       "      <td>67.2</td>\n",
       "      <td>59.0</td>\n",
       "      <td>Excellent                                     ...</td>\n",
       "      <td>Excellent                                     ...</td>\n",
       "      <td>None</td>\n",
       "      <td>0.0</td>\n",
       "      <td>0.0</td>\n",
       "      <td>0.0</td>\n",
       "      <td>0.0</td>\n",
       "      <td>6.71x6.67x4.48</td>\n",
       "    </tr>\n",
       "    <tr>\n",
       "      <th>19000</th>\n",
       "      <td>CM</td>\n",
       "      <td>1.81</td>\n",
       "      <td>Very Good</td>\n",
       "      <td>H</td>\n",
       "      <td>SI1</td>\n",
       "      <td>8772.36</td>\n",
       "      <td>GIA</td>\n",
       "      <td>6241868848</td>\n",
       "      <td>69.7</td>\n",
       "      <td>62.0</td>\n",
       "      <td>Excellent                                     ...</td>\n",
       "      <td>Excellent                                     ...</td>\n",
       "      <td>Faint</td>\n",
       "      <td>0.0</td>\n",
       "      <td>0.0</td>\n",
       "      <td>0.0</td>\n",
       "      <td>0.0</td>\n",
       "      <td>7.46x6.78x4.73</td>\n",
       "    </tr>\n",
       "    <tr>\n",
       "      <th>19570</th>\n",
       "      <td>CM</td>\n",
       "      <td>1.50</td>\n",
       "      <td>Excellent</td>\n",
       "      <td>G</td>\n",
       "      <td>VS2</td>\n",
       "      <td>8286.67</td>\n",
       "      <td>GIA</td>\n",
       "      <td>6252175522</td>\n",
       "      <td>67.2</td>\n",
       "      <td>63.0</td>\n",
       "      <td>Excellent                                     ...</td>\n",
       "      <td>Excellent                                     ...</td>\n",
       "      <td>None</td>\n",
       "      <td>0.0</td>\n",
       "      <td>0.0</td>\n",
       "      <td>0.0</td>\n",
       "      <td>0.0</td>\n",
       "      <td>6.86x6.63x4.45</td>\n",
       "    </tr>\n",
       "    <tr>\n",
       "      <th>19573</th>\n",
       "      <td>CM</td>\n",
       "      <td>2.03</td>\n",
       "      <td>Excellent</td>\n",
       "      <td>J</td>\n",
       "      <td>VS1</td>\n",
       "      <td>9238.46</td>\n",
       "      <td>GIA</td>\n",
       "      <td>2254183715</td>\n",
       "      <td>65.0</td>\n",
       "      <td>62.0</td>\n",
       "      <td>Excellent                                     ...</td>\n",
       "      <td>Excellent                                     ...</td>\n",
       "      <td>None</td>\n",
       "      <td>0.0</td>\n",
       "      <td>0.0</td>\n",
       "      <td>0.0</td>\n",
       "      <td>0.0</td>\n",
       "      <td>7.62x7.26x4.72</td>\n",
       "    </tr>\n",
       "    <tr>\n",
       "      <th>19588</th>\n",
       "      <td>CM</td>\n",
       "      <td>2.01</td>\n",
       "      <td>Excellent</td>\n",
       "      <td>H</td>\n",
       "      <td>VS2</td>\n",
       "      <td>13239.62</td>\n",
       "      <td>GIA</td>\n",
       "      <td>1258183721</td>\n",
       "      <td>65.9</td>\n",
       "      <td>63.0</td>\n",
       "      <td>Excellent                                     ...</td>\n",
       "      <td>Excellent                                     ...</td>\n",
       "      <td>None</td>\n",
       "      <td>0.0</td>\n",
       "      <td>0.0</td>\n",
       "      <td>0.0</td>\n",
       "      <td>0.0</td>\n",
       "      <td>7.60x7.27x4.79</td>\n",
       "    </tr>\n",
       "  </tbody>\n",
       "</table>\n",
       "</div>"
      ],
      "text/plain": [
       "      shape  carat        cut color clarity     price certificateLab  \\\n",
       "18939    CM   1.53  Excellent     G     VS2   8724.00            GIA   \n",
       "19000    CM   1.81  Very Good     H     SI1   8772.36            GIA   \n",
       "19570    CM   1.50  Excellent     G     VS2   8286.67            GIA   \n",
       "19573    CM   2.03  Excellent     J     VS1   9238.46            GIA   \n",
       "19588    CM   2.01  Excellent     H     VS2  13239.62            GIA   \n",
       "\n",
       "      certificateID  depth_pct  table_width_pct  \\\n",
       "18939    2246993298       67.2             59.0   \n",
       "19000    6241868848       69.7             62.0   \n",
       "19570    6252175522       67.2             63.0   \n",
       "19573    2254183715       65.0             62.0   \n",
       "19588    1258183721       65.9             63.0   \n",
       "\n",
       "                                                  polish  \\\n",
       "18939  Excellent                                     ...   \n",
       "19000  Excellent                                     ...   \n",
       "19570  Excellent                                     ...   \n",
       "19573  Excellent                                     ...   \n",
       "19588  Excellent                                     ...   \n",
       "\n",
       "                                                symmetry fluorescence  \\\n",
       "18939  Excellent                                     ...         None   \n",
       "19000  Excellent                                     ...        Faint   \n",
       "19570  Excellent                                     ...         None   \n",
       "19573  Excellent                                     ...         None   \n",
       "19588  Excellent                                     ...         None   \n",
       "\n",
       "       crownAngle  crownHeight  pavilionAngle  pavilionDepth    measurements  \n",
       "18939         0.0          0.0            0.0            0.0  6.71x6.67x4.48  \n",
       "19000         0.0          0.0            0.0            0.0  7.46x6.78x4.73  \n",
       "19570         0.0          0.0            0.0            0.0  6.86x6.63x4.45  \n",
       "19573         0.0          0.0            0.0            0.0  7.62x7.26x4.72  \n",
       "19588         0.0          0.0            0.0            0.0  7.60x7.27x4.79  "
      ]
     },
     "execution_count": 17,
     "metadata": {},
     "output_type": "execute_result"
    }
   ],
   "source": [
    "df[(df['shape'] == 'CM')].head()\n",
    "#checked the certificateID and they're all cushion cuts - must be mislabeled\n",
    "#cushion is the most frequent shape anyway if I were to impute the values"
   ]
  },
  {
   "cell_type": "code",
   "execution_count": 18,
   "id": "fa02facd-59ed-4248-be57-17f73e5fdaab",
   "metadata": {},
   "outputs": [],
   "source": [
    "df['shape'] = df['shape'].replace(['CM'], 'Cushion')"
   ]
  },
  {
   "cell_type": "code",
   "execution_count": 19,
   "id": "b705f652-28ab-4daa-bb2d-d059e09b2684",
   "metadata": {},
   "outputs": [
    {
     "data": {
      "text/plain": [
       "Cushion     11350\n",
       "Princess     8638\n",
       "Emerald      6981\n",
       "Pear         6824\n",
       "Oval         6489\n",
       "Marquise     3361\n",
       "Radiant      3177\n",
       "Heart        2648\n",
       "Asscher      1881\n",
       "Name: shape, dtype: int64"
      ]
     },
     "execution_count": 19,
     "metadata": {},
     "output_type": "execute_result"
    }
   ],
   "source": [
    "df['shape'].value_counts()\n",
    "#looks good now"
   ]
  },
  {
   "cell_type": "code",
   "execution_count": 20,
   "id": "5bc67d8f-b1c0-4832-937d-f51667f921e9",
   "metadata": {},
   "outputs": [],
   "source": [
    "#I will follow a similar process for data cleaning:\n",
    "#re-code cut, color, and clarity since they are non-numerical\n",
    "#re-code certificateLab using one-hot encoding\n",
    "#For polish and symmetry, group values before re-coding since there are a lot of possible values"
   ]
  },
  {
   "cell_type": "markdown",
   "id": "f5ebb106-5687-40e8-92a7-61f93b8fd966",
   "metadata": {},
   "source": [
    "## Re-code Non-Numerical Features"
   ]
  },
  {
   "cell_type": "code",
   "execution_count": 21,
   "id": "3552bed5-322f-494c-8092-d3073196829b",
   "metadata": {},
   "outputs": [
    {
     "data": {
      "text/plain": [
       "E     8572\n",
       "F     8467\n",
       "G     8330\n",
       "D     7464\n",
       "H     6613\n",
       "I     5508\n",
       "J     3664\n",
       "K     1757\n",
       "L      635\n",
       "M      324\n",
       "YZ       7\n",
       "WX       4\n",
       "N        2\n",
       "Y        1\n",
       "UV       1\n",
       "Name: color, dtype: int64"
      ]
     },
     "execution_count": 21,
     "metadata": {},
     "output_type": "execute_result"
    }
   ],
   "source": [
    "df['color'].value_counts()\n",
    "#same problem as the round dataset - usually color only goes up to M, so I will drop the others; not sure what the others are"
   ]
  },
  {
   "cell_type": "code",
   "execution_count": 22,
   "id": "dd7a2fec-c52e-439b-a722-9b5f6a26ddd4",
   "metadata": {},
   "outputs": [
    {
     "name": "stdout",
     "output_type": "stream",
     "text": [
      "E     8572\n",
      "F     8467\n",
      "G     8330\n",
      "D     7464\n",
      "H     6613\n",
      "I     5508\n",
      "J     3664\n",
      "K     1757\n",
      "L      635\n",
      "M      324\n",
      "YZ       7\n",
      "WX       4\n",
      "N        2\n",
      "Y        1\n",
      "UV       1\n",
      "Name: color, dtype: int64\n",
      "E    8572\n",
      "F    8467\n",
      "G    8330\n",
      "D    7464\n",
      "H    6613\n",
      "I    5508\n",
      "J    3664\n",
      "K    1757\n",
      "L     635\n",
      "M     324\n",
      "Name: color, dtype: int64\n"
     ]
    }
   ],
   "source": [
    "print(df['color'].value_counts())\n",
    "df = df.drop(df[df[\"color\"]=='YZ'].index)\n",
    "df = df.drop(df[df[\"color\"]=='WX'].index)\n",
    "df = df.drop(df[df[\"color\"]=='N'].index)\n",
    "df = df.drop(df[df[\"color\"]=='Y'].index)\n",
    "df = df.drop(df[df[\"color\"]=='UV'].index)\n",
    "print(df['color'].value_counts())"
   ]
  },
  {
   "cell_type": "code",
   "execution_count": 23,
   "id": "89429edc-6338-4f72-b668-c406589fef46",
   "metadata": {},
   "outputs": [
    {
     "name": "stdout",
     "output_type": "stream",
     "text": [
      "E    8572\n",
      "F    8467\n",
      "G    8330\n",
      "D    7464\n",
      "H    6613\n",
      "I    5508\n",
      "J    3664\n",
      "K    1757\n",
      "L     635\n",
      "M     324\n",
      "Name: color, dtype: int64\n",
      "2     8572\n",
      "3     8467\n",
      "4     8330\n",
      "1     7464\n",
      "5     6613\n",
      "6     5508\n",
      "7     3664\n",
      "8     1757\n",
      "9      635\n",
      "10     324\n",
      "Name: color, dtype: int64\n"
     ]
    }
   ],
   "source": [
    "#re-code the remaining colors to numerical\n",
    "print(df['color'].value_counts())\n",
    "df['color'] = df['color'].map({\"D\":1, \"E\": 2, \"F\":3, \"G\":4, \"H\":5, \"I\":6, \"J\":7, \"K\":8, \"L\":9, \"M\":10})\n",
    "print(df['color'].value_counts())"
   ]
  },
  {
   "cell_type": "code",
   "execution_count": 24,
   "id": "200b7952-9dcc-4a5d-8cbf-602283d0d0b2",
   "metadata": {},
   "outputs": [
    {
     "data": {
      "text/plain": [
       "(51334, 18)"
      ]
     },
     "execution_count": 24,
     "metadata": {},
     "output_type": "execute_result"
    }
   ],
   "source": [
    "df.shape"
   ]
  },
  {
   "cell_type": "code",
   "execution_count": 25,
   "id": "2dc429ae-00d2-4c85-92e0-8b142c706b96",
   "metadata": {},
   "outputs": [
    {
     "data": {
      "text/plain": [
       "SI1     11400\n",
       "VS2     10192\n",
       "VS1      9409\n",
       "SI2      7178\n",
       "VVS2     5486\n",
       "VVS1     4398\n",
       "IF       2049\n",
       "I1       1134\n",
       "FL         88\n",
       "Name: clarity, dtype: int64"
      ]
     },
     "execution_count": 25,
     "metadata": {},
     "output_type": "execute_result"
    }
   ],
   "source": [
    "df['clarity'].value_counts(dropna = False)\n",
    "#looks normal"
   ]
  },
  {
   "cell_type": "code",
   "execution_count": 26,
   "id": "96a7ba74-1095-44d3-9e54-68c44fe65cd6",
   "metadata": {},
   "outputs": [
    {
     "name": "stdout",
     "output_type": "stream",
     "text": [
      "SI1     11400\n",
      "VS2     10192\n",
      "VS1      9409\n",
      "SI2      7178\n",
      "VVS2     5486\n",
      "VVS1     4398\n",
      "IF       2049\n",
      "I1       1134\n",
      "FL         88\n",
      "Name: clarity, dtype: int64\n",
      "7    11400\n",
      "6    10192\n",
      "5     9409\n",
      "8     7178\n",
      "4     5486\n",
      "3     4398\n",
      "2     2049\n",
      "9     1134\n",
      "1       88\n",
      "Name: clarity, dtype: int64\n"
     ]
    }
   ],
   "source": [
    "#re-code clarity to numerical\n",
    "print(df['clarity'].value_counts())\n",
    "df['clarity'] = df['clarity'].map({\"FL\":1, \"IF\": 2, \"VVS1\":3, \"VVS2\":4, \"VS1\":5, \"VS2\":6, \"SI1\":7, \"SI2\":8, \"I1\":9})\n",
    "print(df['clarity'].value_counts())\n",
    "#based on the gia guide: https://4cs.gia.edu/en-us/diamond-clarity/"
   ]
  },
  {
   "cell_type": "code",
   "execution_count": 27,
   "id": "6814fa2a-43ba-474e-bc27-e43a0a5d86fb",
   "metadata": {},
   "outputs": [
    {
     "data": {
      "text/plain": [
       "(51334, 18)"
      ]
     },
     "execution_count": 27,
     "metadata": {},
     "output_type": "execute_result"
    }
   ],
   "source": [
    "df.shape"
   ]
  },
  {
   "cell_type": "code",
   "execution_count": 28,
   "id": "cc6e11ba-7c2b-475c-a8f2-d520542bba08",
   "metadata": {},
   "outputs": [
    {
     "data": {
      "text/plain": [
       "Excellent    28863\n",
       "Very Good    14062\n",
       "Good          7107\n",
       "Fair          1300\n",
       "Ideal            2\n",
       "Name: cut, dtype: int64"
      ]
     },
     "execution_count": 28,
     "metadata": {},
     "output_type": "execute_result"
    }
   ],
   "source": [
    "df['cut'].value_counts()\n",
    "#looks normal"
   ]
  },
  {
   "cell_type": "code",
   "execution_count": 29,
   "id": "9360750d-a39a-44a2-afdc-b59a64223b41",
   "metadata": {},
   "outputs": [
    {
     "name": "stdout",
     "output_type": "stream",
     "text": [
      "Excellent    28863\n",
      "Very Good    14062\n",
      "Good          7107\n",
      "Fair          1300\n",
      "Ideal            2\n",
      "Name: cut, dtype: int64\n",
      "2    28863\n",
      "3    14062\n",
      "4     7107\n",
      "5     1300\n",
      "1        2\n",
      "Name: cut, dtype: int64\n"
     ]
    }
   ],
   "source": [
    "print(df['cut'].value_counts())\n",
    "df['cut'] = df['cut'].map({\"Ideal\":1, \"Excellent\": 2, \"Very Good\":3, \"Good\":4, \"Fair\":5})\n",
    "print(df['cut'].value_counts())"
   ]
  },
  {
   "cell_type": "code",
   "execution_count": 30,
   "id": "460d945c-5b6b-4003-9338-ea10adfad5a3",
   "metadata": {},
   "outputs": [
    {
     "data": {
      "text/plain": [
       "GIA    49449\n",
       "IGI     1516\n",
       "HRD      265\n",
       "AGS      101\n",
       "B2C        3\n",
       "Name: certificateLab, dtype: int64"
      ]
     },
     "execution_count": 30,
     "metadata": {},
     "output_type": "execute_result"
    }
   ],
   "source": [
    "df['certificateLab'].value_counts()\n",
    "#vast majority are GIA\n",
    "#the only other one I've seen is IGI\n",
    "#group the others"
   ]
  },
  {
   "cell_type": "code",
   "execution_count": 31,
   "id": "c954e7a9-c5de-4cb6-a4cc-2aef7e55fe40",
   "metadata": {},
   "outputs": [
    {
     "name": "stdout",
     "output_type": "stream",
     "text": [
      "GIA    49449\n",
      "IGI     1516\n",
      "HRD      265\n",
      "AGS      101\n",
      "B2C        3\n",
      "Name: certificateLab, dtype: int64\n",
      "GIA      49449\n",
      "IGI       1516\n",
      "Other      369\n",
      "Name: certificateLab, dtype: int64\n"
     ]
    }
   ],
   "source": [
    "print(df['certificateLab'].value_counts())\n",
    "df['certificateLab'] = df['certificateLab'].map({\"GIA\":\"GIA\", \"IGI\":\"IGI\", \"HRD\":\"Other\", \"AGS\":\"Other\", \"B2C\":\"Other\"})\n",
    "print(df['certificateLab'].value_counts())\n",
    "#probably not the most efficient way to rename these, but wanted to keep the logic consistent with the rest of the re-coding"
   ]
  },
  {
   "cell_type": "code",
   "execution_count": 32,
   "id": "dcb77e66-d49d-4871-b88f-ed4cc4c3cb66",
   "metadata": {},
   "outputs": [
    {
     "name": "stdout",
     "output_type": "stream",
     "text": [
      "Index(['GIA', 'IGI', 'Other'], dtype='object')\n"
     ]
    },
    {
     "data": {
      "text/html": [
       "<div>\n",
       "<style scoped>\n",
       "    .dataframe tbody tr th:only-of-type {\n",
       "        vertical-align: middle;\n",
       "    }\n",
       "\n",
       "    .dataframe tbody tr th {\n",
       "        vertical-align: top;\n",
       "    }\n",
       "\n",
       "    .dataframe thead th {\n",
       "        text-align: right;\n",
       "    }\n",
       "</style>\n",
       "<table border=\"1\" class=\"dataframe\">\n",
       "  <thead>\n",
       "    <tr style=\"text-align: right;\">\n",
       "      <th></th>\n",
       "      <th>GIA</th>\n",
       "      <th>IGI</th>\n",
       "      <th>Other</th>\n",
       "    </tr>\n",
       "  </thead>\n",
       "  <tbody>\n",
       "    <tr>\n",
       "      <th>0</th>\n",
       "      <td>1</td>\n",
       "      <td>0</td>\n",
       "      <td>0</td>\n",
       "    </tr>\n",
       "    <tr>\n",
       "      <th>1</th>\n",
       "      <td>1</td>\n",
       "      <td>0</td>\n",
       "      <td>0</td>\n",
       "    </tr>\n",
       "    <tr>\n",
       "      <th>2</th>\n",
       "      <td>1</td>\n",
       "      <td>0</td>\n",
       "      <td>0</td>\n",
       "    </tr>\n",
       "    <tr>\n",
       "      <th>3</th>\n",
       "      <td>1</td>\n",
       "      <td>0</td>\n",
       "      <td>0</td>\n",
       "    </tr>\n",
       "    <tr>\n",
       "      <th>4</th>\n",
       "      <td>1</td>\n",
       "      <td>0</td>\n",
       "      <td>0</td>\n",
       "    </tr>\n",
       "  </tbody>\n",
       "</table>\n",
       "</div>"
      ],
      "text/plain": [
       "   GIA  IGI  Other\n",
       "0    1    0      0\n",
       "1    1    0      0\n",
       "2    1    0      0\n",
       "3    1    0      0\n",
       "4    1    0      0"
      ]
     },
     "execution_count": 32,
     "metadata": {},
     "output_type": "execute_result"
    }
   ],
   "source": [
    "#now I will get dummies to turn these into numericals\n",
    "ohe=pd.get_dummies(df['certificateLab'])\n",
    "print(ohe.columns)\n",
    "ohe.head()"
   ]
  },
  {
   "cell_type": "code",
   "execution_count": 33,
   "id": "de6918ea-5926-4373-b801-695a5b3e5005",
   "metadata": {},
   "outputs": [
    {
     "data": {
      "text/plain": [
       "(51334, 21)"
      ]
     },
     "execution_count": 33,
     "metadata": {},
     "output_type": "execute_result"
    }
   ],
   "source": [
    "# append these new columns to the original dataset\n",
    "df=pd.concat([df, ohe], axis=1) #append columns, not rows\n",
    "df.shape\n",
    "#3 extra columns now"
   ]
  },
  {
   "cell_type": "code",
   "execution_count": 34,
   "id": "0fa2f9eb-71a5-43bc-95c0-0b99bb193db7",
   "metadata": {},
   "outputs": [
    {
     "data": {
      "text/html": [
       "<div>\n",
       "<style scoped>\n",
       "    .dataframe tbody tr th:only-of-type {\n",
       "        vertical-align: middle;\n",
       "    }\n",
       "\n",
       "    .dataframe tbody tr th {\n",
       "        vertical-align: top;\n",
       "    }\n",
       "\n",
       "    .dataframe thead th {\n",
       "        text-align: right;\n",
       "    }\n",
       "</style>\n",
       "<table border=\"1\" class=\"dataframe\">\n",
       "  <thead>\n",
       "    <tr style=\"text-align: right;\">\n",
       "      <th></th>\n",
       "      <th>shape</th>\n",
       "      <th>carat</th>\n",
       "      <th>cut</th>\n",
       "      <th>color</th>\n",
       "      <th>clarity</th>\n",
       "      <th>price</th>\n",
       "      <th>certificateLab</th>\n",
       "      <th>certificateID</th>\n",
       "      <th>depth_pct</th>\n",
       "      <th>table_width_pct</th>\n",
       "      <th>...</th>\n",
       "      <th>symmetry</th>\n",
       "      <th>fluorescence</th>\n",
       "      <th>crownAngle</th>\n",
       "      <th>crownHeight</th>\n",
       "      <th>pavilionAngle</th>\n",
       "      <th>pavilionDepth</th>\n",
       "      <th>measurements</th>\n",
       "      <th>GIA</th>\n",
       "      <th>IGI</th>\n",
       "      <th>Other</th>\n",
       "    </tr>\n",
       "  </thead>\n",
       "  <tbody>\n",
       "    <tr>\n",
       "      <th>0</th>\n",
       "      <td>Cushion</td>\n",
       "      <td>3.20</td>\n",
       "      <td>2</td>\n",
       "      <td>4</td>\n",
       "      <td>5</td>\n",
       "      <td>53504.69</td>\n",
       "      <td>GIA</td>\n",
       "      <td>17459430</td>\n",
       "      <td>65.1</td>\n",
       "      <td>58.0</td>\n",
       "      <td>...</td>\n",
       "      <td>Good                                          ...</td>\n",
       "      <td>None</td>\n",
       "      <td>0.0</td>\n",
       "      <td>0.0</td>\n",
       "      <td>0.0</td>\n",
       "      <td>0.0</td>\n",
       "      <td>9.14x8.05x5.24</td>\n",
       "      <td>1</td>\n",
       "      <td>0</td>\n",
       "      <td>0</td>\n",
       "    </tr>\n",
       "    <tr>\n",
       "      <th>1</th>\n",
       "      <td>Radiant</td>\n",
       "      <td>2.01</td>\n",
       "      <td>2</td>\n",
       "      <td>4</td>\n",
       "      <td>6</td>\n",
       "      <td>17643.65</td>\n",
       "      <td>GIA</td>\n",
       "      <td>13444744</td>\n",
       "      <td>68.9</td>\n",
       "      <td>70.0</td>\n",
       "      <td>...</td>\n",
       "      <td>Very Good                                     ...</td>\n",
       "      <td>None</td>\n",
       "      <td>0.0</td>\n",
       "      <td>0.0</td>\n",
       "      <td>0.0</td>\n",
       "      <td>0.0</td>\n",
       "      <td>8.33x6.18x4.26</td>\n",
       "      <td>1</td>\n",
       "      <td>0</td>\n",
       "      <td>0</td>\n",
       "    </tr>\n",
       "    <tr>\n",
       "      <th>2</th>\n",
       "      <td>Radiant</td>\n",
       "      <td>3.22</td>\n",
       "      <td>2</td>\n",
       "      <td>2</td>\n",
       "      <td>6</td>\n",
       "      <td>50939.81</td>\n",
       "      <td>GIA</td>\n",
       "      <td>15310974</td>\n",
       "      <td>70.1</td>\n",
       "      <td>72.0</td>\n",
       "      <td>...</td>\n",
       "      <td>Very Good                                     ...</td>\n",
       "      <td>None</td>\n",
       "      <td>0.0</td>\n",
       "      <td>0.0</td>\n",
       "      <td>0.0</td>\n",
       "      <td>0.0</td>\n",
       "      <td>8.31x7.96x5.58</td>\n",
       "      <td>1</td>\n",
       "      <td>0</td>\n",
       "      <td>0</td>\n",
       "    </tr>\n",
       "    <tr>\n",
       "      <th>3</th>\n",
       "      <td>Cushion</td>\n",
       "      <td>3.08</td>\n",
       "      <td>3</td>\n",
       "      <td>4</td>\n",
       "      <td>6</td>\n",
       "      <td>36052.16</td>\n",
       "      <td>GIA</td>\n",
       "      <td>17262201</td>\n",
       "      <td>68.3</td>\n",
       "      <td>66.0</td>\n",
       "      <td>...</td>\n",
       "      <td>Good                                          ...</td>\n",
       "      <td>Faint</td>\n",
       "      <td>0.0</td>\n",
       "      <td>0.0</td>\n",
       "      <td>0.0</td>\n",
       "      <td>0.0</td>\n",
       "      <td>9.21x7.83x5.35</td>\n",
       "      <td>1</td>\n",
       "      <td>0</td>\n",
       "      <td>0</td>\n",
       "    </tr>\n",
       "    <tr>\n",
       "      <th>4</th>\n",
       "      <td>Asscher</td>\n",
       "      <td>3.01</td>\n",
       "      <td>3</td>\n",
       "      <td>4</td>\n",
       "      <td>5</td>\n",
       "      <td>41195.25</td>\n",
       "      <td>GIA</td>\n",
       "      <td>17459424</td>\n",
       "      <td>71.1</td>\n",
       "      <td>67.0</td>\n",
       "      <td>...</td>\n",
       "      <td>Good                                          ...</td>\n",
       "      <td>None</td>\n",
       "      <td>0.0</td>\n",
       "      <td>0.0</td>\n",
       "      <td>0.0</td>\n",
       "      <td>0.0</td>\n",
       "      <td>7.81x7.69x5.47</td>\n",
       "      <td>1</td>\n",
       "      <td>0</td>\n",
       "      <td>0</td>\n",
       "    </tr>\n",
       "  </tbody>\n",
       "</table>\n",
       "<p>5 rows × 21 columns</p>\n",
       "</div>"
      ],
      "text/plain": [
       "     shape  carat  cut  color  clarity     price certificateLab certificateID  \\\n",
       "0  Cushion   3.20    2      4        5  53504.69            GIA      17459430   \n",
       "1  Radiant   2.01    2      4        6  17643.65            GIA      13444744   \n",
       "2  Radiant   3.22    2      2        6  50939.81            GIA      15310974   \n",
       "3  Cushion   3.08    3      4        6  36052.16            GIA      17262201   \n",
       "4  Asscher   3.01    3      4        5  41195.25            GIA      17459424   \n",
       "\n",
       "   depth_pct  table_width_pct  ...  \\\n",
       "0       65.1             58.0  ...   \n",
       "1       68.9             70.0  ...   \n",
       "2       70.1             72.0  ...   \n",
       "3       68.3             66.0  ...   \n",
       "4       71.1             67.0  ...   \n",
       "\n",
       "                                            symmetry fluorescence crownAngle  \\\n",
       "0  Good                                          ...         None        0.0   \n",
       "1  Very Good                                     ...         None        0.0   \n",
       "2  Very Good                                     ...         None        0.0   \n",
       "3  Good                                          ...        Faint        0.0   \n",
       "4  Good                                          ...         None        0.0   \n",
       "\n",
       "   crownHeight  pavilionAngle  pavilionDepth    measurements GIA  IGI  Other  \n",
       "0          0.0            0.0            0.0  9.14x8.05x5.24   1    0      0  \n",
       "1          0.0            0.0            0.0  8.33x6.18x4.26   1    0      0  \n",
       "2          0.0            0.0            0.0  8.31x7.96x5.58   1    0      0  \n",
       "3          0.0            0.0            0.0  9.21x7.83x5.35   1    0      0  \n",
       "4          0.0            0.0            0.0  7.81x7.69x5.47   1    0      0  \n",
       "\n",
       "[5 rows x 21 columns]"
      ]
     },
     "execution_count": 34,
     "metadata": {},
     "output_type": "execute_result"
    }
   ],
   "source": [
    "df.head()"
   ]
  },
  {
   "cell_type": "code",
   "execution_count": 35,
   "id": "8a50ac81-5321-4e06-ae96-b16eef107627",
   "metadata": {},
   "outputs": [
    {
     "data": {
      "text/html": [
       "<div>\n",
       "<style scoped>\n",
       "    .dataframe tbody tr th:only-of-type {\n",
       "        vertical-align: middle;\n",
       "    }\n",
       "\n",
       "    .dataframe tbody tr th {\n",
       "        vertical-align: top;\n",
       "    }\n",
       "\n",
       "    .dataframe thead th {\n",
       "        text-align: right;\n",
       "    }\n",
       "</style>\n",
       "<table border=\"1\" class=\"dataframe\">\n",
       "  <thead>\n",
       "    <tr style=\"text-align: right;\">\n",
       "      <th></th>\n",
       "      <th>shape</th>\n",
       "      <th>carat</th>\n",
       "      <th>cut</th>\n",
       "      <th>color</th>\n",
       "      <th>clarity</th>\n",
       "      <th>price</th>\n",
       "      <th>certificateID</th>\n",
       "      <th>depth_pct</th>\n",
       "      <th>table_width_pct</th>\n",
       "      <th>polish</th>\n",
       "      <th>symmetry</th>\n",
       "      <th>fluorescence</th>\n",
       "      <th>crownAngle</th>\n",
       "      <th>crownHeight</th>\n",
       "      <th>pavilionAngle</th>\n",
       "      <th>pavilionDepth</th>\n",
       "      <th>measurements</th>\n",
       "      <th>GIA</th>\n",
       "      <th>IGI</th>\n",
       "      <th>Other</th>\n",
       "    </tr>\n",
       "  </thead>\n",
       "  <tbody>\n",
       "    <tr>\n",
       "      <th>0</th>\n",
       "      <td>Cushion</td>\n",
       "      <td>3.20</td>\n",
       "      <td>2</td>\n",
       "      <td>4</td>\n",
       "      <td>5</td>\n",
       "      <td>53504.69</td>\n",
       "      <td>17459430</td>\n",
       "      <td>65.1</td>\n",
       "      <td>58.0</td>\n",
       "      <td>Very Good                                     ...</td>\n",
       "      <td>Good                                          ...</td>\n",
       "      <td>None</td>\n",
       "      <td>0.0</td>\n",
       "      <td>0.0</td>\n",
       "      <td>0.0</td>\n",
       "      <td>0.0</td>\n",
       "      <td>9.14x8.05x5.24</td>\n",
       "      <td>1</td>\n",
       "      <td>0</td>\n",
       "      <td>0</td>\n",
       "    </tr>\n",
       "    <tr>\n",
       "      <th>1</th>\n",
       "      <td>Radiant</td>\n",
       "      <td>2.01</td>\n",
       "      <td>2</td>\n",
       "      <td>4</td>\n",
       "      <td>6</td>\n",
       "      <td>17643.65</td>\n",
       "      <td>13444744</td>\n",
       "      <td>68.9</td>\n",
       "      <td>70.0</td>\n",
       "      <td>Very Good                                     ...</td>\n",
       "      <td>Very Good                                     ...</td>\n",
       "      <td>None</td>\n",
       "      <td>0.0</td>\n",
       "      <td>0.0</td>\n",
       "      <td>0.0</td>\n",
       "      <td>0.0</td>\n",
       "      <td>8.33x6.18x4.26</td>\n",
       "      <td>1</td>\n",
       "      <td>0</td>\n",
       "      <td>0</td>\n",
       "    </tr>\n",
       "    <tr>\n",
       "      <th>2</th>\n",
       "      <td>Radiant</td>\n",
       "      <td>3.22</td>\n",
       "      <td>2</td>\n",
       "      <td>2</td>\n",
       "      <td>6</td>\n",
       "      <td>50939.81</td>\n",
       "      <td>15310974</td>\n",
       "      <td>70.1</td>\n",
       "      <td>72.0</td>\n",
       "      <td>Very Good                                     ...</td>\n",
       "      <td>Very Good                                     ...</td>\n",
       "      <td>None</td>\n",
       "      <td>0.0</td>\n",
       "      <td>0.0</td>\n",
       "      <td>0.0</td>\n",
       "      <td>0.0</td>\n",
       "      <td>8.31x7.96x5.58</td>\n",
       "      <td>1</td>\n",
       "      <td>0</td>\n",
       "      <td>0</td>\n",
       "    </tr>\n",
       "    <tr>\n",
       "      <th>3</th>\n",
       "      <td>Cushion</td>\n",
       "      <td>3.08</td>\n",
       "      <td>3</td>\n",
       "      <td>4</td>\n",
       "      <td>6</td>\n",
       "      <td>36052.16</td>\n",
       "      <td>17262201</td>\n",
       "      <td>68.3</td>\n",
       "      <td>66.0</td>\n",
       "      <td>Very Good                                     ...</td>\n",
       "      <td>Good                                          ...</td>\n",
       "      <td>Faint</td>\n",
       "      <td>0.0</td>\n",
       "      <td>0.0</td>\n",
       "      <td>0.0</td>\n",
       "      <td>0.0</td>\n",
       "      <td>9.21x7.83x5.35</td>\n",
       "      <td>1</td>\n",
       "      <td>0</td>\n",
       "      <td>0</td>\n",
       "    </tr>\n",
       "    <tr>\n",
       "      <th>4</th>\n",
       "      <td>Asscher</td>\n",
       "      <td>3.01</td>\n",
       "      <td>3</td>\n",
       "      <td>4</td>\n",
       "      <td>5</td>\n",
       "      <td>41195.25</td>\n",
       "      <td>17459424</td>\n",
       "      <td>71.1</td>\n",
       "      <td>67.0</td>\n",
       "      <td>Excellent                                     ...</td>\n",
       "      <td>Good                                          ...</td>\n",
       "      <td>None</td>\n",
       "      <td>0.0</td>\n",
       "      <td>0.0</td>\n",
       "      <td>0.0</td>\n",
       "      <td>0.0</td>\n",
       "      <td>7.81x7.69x5.47</td>\n",
       "      <td>1</td>\n",
       "      <td>0</td>\n",
       "      <td>0</td>\n",
       "    </tr>\n",
       "  </tbody>\n",
       "</table>\n",
       "</div>"
      ],
      "text/plain": [
       "     shape  carat  cut  color  clarity     price certificateID  depth_pct  \\\n",
       "0  Cushion   3.20    2      4        5  53504.69      17459430       65.1   \n",
       "1  Radiant   2.01    2      4        6  17643.65      13444744       68.9   \n",
       "2  Radiant   3.22    2      2        6  50939.81      15310974       70.1   \n",
       "3  Cushion   3.08    3      4        6  36052.16      17262201       68.3   \n",
       "4  Asscher   3.01    3      4        5  41195.25      17459424       71.1   \n",
       "\n",
       "   table_width_pct                                             polish  \\\n",
       "0             58.0  Very Good                                     ...   \n",
       "1             70.0  Very Good                                     ...   \n",
       "2             72.0  Very Good                                     ...   \n",
       "3             66.0  Very Good                                     ...   \n",
       "4             67.0  Excellent                                     ...   \n",
       "\n",
       "                                            symmetry fluorescence  crownAngle  \\\n",
       "0  Good                                          ...         None         0.0   \n",
       "1  Very Good                                     ...         None         0.0   \n",
       "2  Very Good                                     ...         None         0.0   \n",
       "3  Good                                          ...        Faint         0.0   \n",
       "4  Good                                          ...         None         0.0   \n",
       "\n",
       "   crownHeight  pavilionAngle  pavilionDepth    measurements  GIA  IGI  Other  \n",
       "0          0.0            0.0            0.0  9.14x8.05x5.24    1    0      0  \n",
       "1          0.0            0.0            0.0  8.33x6.18x4.26    1    0      0  \n",
       "2          0.0            0.0            0.0  8.31x7.96x5.58    1    0      0  \n",
       "3          0.0            0.0            0.0  9.21x7.83x5.35    1    0      0  \n",
       "4          0.0            0.0            0.0  7.81x7.69x5.47    1    0      0  "
      ]
     },
     "execution_count": 35,
     "metadata": {},
     "output_type": "execute_result"
    }
   ],
   "source": [
    "#remove the original column that we replaced with one-hot encoding\n",
    "df=df.drop(['certificateLab'], axis=1).copy()\n",
    "df.head()"
   ]
  },
  {
   "cell_type": "code",
   "execution_count": 36,
   "id": "6feabca6-1999-42e2-a6a1-f58f1a6ce4da",
   "metadata": {},
   "outputs": [
    {
     "data": {
      "text/plain": [
       "(51334, 20)"
      ]
     },
     "execution_count": 36,
     "metadata": {},
     "output_type": "execute_result"
    }
   ],
   "source": [
    "df.shape"
   ]
  },
  {
   "cell_type": "code",
   "execution_count": 37,
   "id": "754eabf5-478b-4d9f-b7c9-30288006780f",
   "metadata": {},
   "outputs": [
    {
     "data": {
      "text/plain": [
       "Excellent                                             25595\n",
       "Very Good                                             18016\n",
       "Good                                                   6054\n",
       "Excellent                                              1302\n",
       "Very Good                                               271\n",
       "Fair                                                     51\n",
       "Ideal                                                    32\n",
       "Good                                                      9\n",
       "Very Good-Excel                                           3\n",
       "Good-Very Good                                            1\n",
       "Name: polish, dtype: int64"
      ]
     },
     "execution_count": 37,
     "metadata": {},
     "output_type": "execute_result"
    }
   ],
   "source": [
    "df['polish'].value_counts()\n",
    "#looks like some formatting issues like the round data set but also some strange values with ranges? drop these"
   ]
  },
  {
   "cell_type": "code",
   "execution_count": 38,
   "id": "72b31864-8ac7-4e94-a640-566976bd4c1e",
   "metadata": {},
   "outputs": [],
   "source": [
    "#remove leading / lagging spaces\n",
    "df['polish'] = df['polish'].str.strip()"
   ]
  },
  {
   "cell_type": "code",
   "execution_count": 39,
   "id": "3ab5ff67-05b6-4976-9b71-4861b3f3d0f1",
   "metadata": {},
   "outputs": [
    {
     "data": {
      "text/plain": [
       "Excellent          26897\n",
       "Very Good          18287\n",
       "Good                6063\n",
       "Fair                  51\n",
       "Ideal                 32\n",
       "Very Good-Excel        3\n",
       "Good-Very Good         1\n",
       "Name: polish, dtype: int64"
      ]
     },
     "execution_count": 39,
     "metadata": {},
     "output_type": "execute_result"
    }
   ],
   "source": [
    "df['polish'].value_counts()\n",
    "#now it looks clean except for the non-standard values"
   ]
  },
  {
   "cell_type": "code",
   "execution_count": 40,
   "id": "eda68059-5d3f-4c2a-990a-26509833cfeb",
   "metadata": {},
   "outputs": [
    {
     "name": "stdout",
     "output_type": "stream",
     "text": [
      "Excellent          26897\n",
      "Very Good          18287\n",
      "Good                6063\n",
      "Fair                  51\n",
      "Ideal                 32\n",
      "Very Good-Excel        3\n",
      "Good-Very Good         1\n",
      "Name: polish, dtype: int64\n",
      "Excellent    26897\n",
      "Very Good    18287\n",
      "Good          6063\n",
      "Fair            51\n",
      "Ideal           32\n",
      "Name: polish, dtype: int64\n"
     ]
    }
   ],
   "source": [
    "#drop those\n",
    "print(df['polish'].value_counts())\n",
    "df = df.drop(df[df[\"polish\"]=='Very Good-Excel'].index)\n",
    "df = df.drop(df[df[\"polish\"]=='Good-Very Good'].index)\n",
    "print(df['polish'].value_counts())"
   ]
  },
  {
   "cell_type": "code",
   "execution_count": 41,
   "id": "92a76d23-e68d-4d90-9020-74639f93aa63",
   "metadata": {},
   "outputs": [
    {
     "name": "stdout",
     "output_type": "stream",
     "text": [
      "Excellent    26897\n",
      "Very Good    18287\n",
      "Good          6063\n",
      "Fair            51\n",
      "Ideal           32\n",
      "Name: polish, dtype: int64\n",
      "2    26897\n",
      "3    18287\n",
      "4     6063\n",
      "5       51\n",
      "1       32\n",
      "Name: polish, dtype: int64\n"
     ]
    }
   ],
   "source": [
    "#re-code the remaining ones\n",
    "print(df['polish'].value_counts())\n",
    "df['polish'] = df['polish'].map({\"Ideal\":1, \"Excellent\": 2, \"Very Good\":3, \"Good\":4, \"Fair\":5})\n",
    "print(df['polish'].value_counts())"
   ]
  },
  {
   "cell_type": "code",
   "execution_count": 42,
   "id": "ac9377fe-2b53-4856-b002-99999bf9d3e4",
   "metadata": {},
   "outputs": [
    {
     "data": {
      "text/plain": [
       "Very Good                                             27550\n",
       "Good                                                  13259\n",
       "Excellent                                              8339\n",
       "Fair                                                    878\n",
       "Excellent                                               758\n",
       "Very Good                                               464\n",
       "Good                                                     56\n",
       "Ideal                                                    15\n",
       "Poor                                                     11\n",
       "Name: symmetry, dtype: int64"
      ]
     },
     "execution_count": 42,
     "metadata": {},
     "output_type": "execute_result"
    }
   ],
   "source": [
    "df['symmetry'].value_counts()\n",
    "#looks like the same issue as above"
   ]
  },
  {
   "cell_type": "code",
   "execution_count": 43,
   "id": "d2d1001d-6eba-46b1-af33-fbac147c989e",
   "metadata": {},
   "outputs": [],
   "source": [
    "df['symmetry'] = df['symmetry'].str.strip()"
   ]
  },
  {
   "cell_type": "code",
   "execution_count": 44,
   "id": "83fe9477-a12c-4216-a7ef-2eb5a7423df1",
   "metadata": {},
   "outputs": [
    {
     "data": {
      "text/plain": [
       "Very Good    28014\n",
       "Good         13315\n",
       "Excellent     9097\n",
       "Fair           878\n",
       "Ideal           15\n",
       "Poor            11\n",
       "Name: symmetry, dtype: int64"
      ]
     },
     "execution_count": 44,
     "metadata": {},
     "output_type": "execute_result"
    }
   ],
   "source": [
    "df['symmetry'].value_counts()\n",
    "#now it looks clean"
   ]
  },
  {
   "cell_type": "code",
   "execution_count": 45,
   "id": "0c2a9aab-5614-40a2-9e55-3250f8d70dba",
   "metadata": {},
   "outputs": [
    {
     "name": "stdout",
     "output_type": "stream",
     "text": [
      "Very Good    28014\n",
      "Good         13315\n",
      "Excellent     9097\n",
      "Fair           878\n",
      "Ideal           15\n",
      "Poor            11\n",
      "Name: symmetry, dtype: int64\n",
      "3    28014\n",
      "4    13315\n",
      "2     9097\n",
      "5      878\n",
      "1       15\n",
      "6       11\n",
      "Name: symmetry, dtype: int64\n"
     ]
    }
   ],
   "source": [
    "print(df['symmetry'].value_counts())\n",
    "df['symmetry'] = df['symmetry'].map({\"Ideal\":1, \"Excellent\": 2, \"Very Good\":3, \"Good\":4, \"Fair\":5, \"Poor\":6})\n",
    "print(df['symmetry'].value_counts())"
   ]
  },
  {
   "cell_type": "code",
   "execution_count": 46,
   "id": "308d2b90-c56a-48e7-bd05-2820b4c0c9f1",
   "metadata": {},
   "outputs": [
    {
     "data": {
      "text/plain": [
       "(51330, 20)"
      ]
     },
     "execution_count": 46,
     "metadata": {},
     "output_type": "execute_result"
    }
   ],
   "source": [
    "df.shape"
   ]
  },
  {
   "cell_type": "code",
   "execution_count": 47,
   "id": "9a6a6c98-bdfd-4933-887f-70fcb54da4a1",
   "metadata": {},
   "outputs": [
    {
     "data": {
      "text/plain": [
       "shape               object\n",
       "carat              float64\n",
       "cut                  int64\n",
       "color                int64\n",
       "clarity              int64\n",
       "price              float64\n",
       "certificateID       object\n",
       "depth_pct          float64\n",
       "table_width_pct    float64\n",
       "polish               int64\n",
       "symmetry             int64\n",
       "fluorescence        object\n",
       "crownAngle         float64\n",
       "crownHeight        float64\n",
       "pavilionAngle      float64\n",
       "pavilionDepth      float64\n",
       "measurements        object\n",
       "GIA                  uint8\n",
       "IGI                  uint8\n",
       "Other                uint8\n",
       "dtype: object"
      ]
     },
     "execution_count": 47,
     "metadata": {},
     "output_type": "execute_result"
    }
   ],
   "source": [
    "df.dtypes"
   ]
  },
  {
   "cell_type": "markdown",
   "id": "69596076-33af-4ff3-a700-08e8d1f5bbc0",
   "metadata": {},
   "source": [
    "## Look at the Spread of the Data before Modeling this Time"
   ]
  },
  {
   "cell_type": "code",
   "execution_count": 48,
   "id": "b02e007f-12f8-4a2a-a5d2-672fb32ac616",
   "metadata": {},
   "outputs": [
    {
     "data": {
      "image/png": "[encoded data removed]",
      "text/plain": [
       "<Figure size 432x288 with 1 Axes>"
      ]
     },
     "metadata": {
      "needs_background": "light"
     },
     "output_type": "display_data"
    }
   ],
   "source": [
    "plt.scatter(df['carat'], df['price']);\n",
    "#there are definitely outliers and some spread issues I will need to account for"
   ]
  },
  {
   "cell_type": "code",
   "execution_count": 50,
   "id": "59a678ab-6b15-4463-ab64-c9363957ebd7",
   "metadata": {},
   "outputs": [
    {
     "data": {
      "text/plain": [
       "count    51330.000000\n",
       "mean         1.298742\n",
       "std          1.197229\n",
       "min          0.170000\n",
       "25%          0.710000\n",
       "50%          1.010000\n",
       "75%          1.510000\n",
       "max         81.380000\n",
       "Name: carat, dtype: float64"
      ]
     },
     "execution_count": 50,
     "metadata": {},
     "output_type": "execute_result"
    }
   ],
   "source": [
    "df['carat'].describe()"
   ]
  },
  {
   "cell_type": "code",
   "execution_count": 56,
   "id": "86ca7a14-a1cb-44f2-845c-32f717156d02",
   "metadata": {},
   "outputs": [
    {
     "data": {
      "text/plain": [
       "shape    carat  cut  color  clarity  price      certificateID  depth_pct  table_width_pct  polish  symmetry  fluorescence  crownAngle  crownHeight  pavilionAngle  pavilionDepth  measurements      GIA  IGI  Other\n",
       "Cushion  4.75   3    7      7        46004.07   1182093745     69.5       62.0             2       2         None          0.00        0.0          0.00           0.0            9.76x9.63x6.70    1    0    0        2\n",
       "         3.02   2    4      8        21630.34   5181271451     65.9       70.0             3       4         Medium        0.00        0.0          0.00           0.0            8.34x8.33x5.48    1    0    0        2\n",
       "         4.50   3    7      6        45070.00   2185669581     69.7       62.0             2       2         None          0.00        0.0          0.00           0.0            9.59x9.38x6.54    1    0    0        2\n",
       "         3.01   3    3      4        50975.38   1265321738     69.7       62.0             2       2         None          0.00        0.0          0.00           0.0            8.32x8.30x5.79    1    0    0        2\n",
       "         3.02   2    3      5        38284.62   1273137436     67.7       63.0             2       2         Strong        0.00        0.0          0.00           0.0            8.36x8.33x5.64    1    0    0        2\n",
       "                                                                                                                                                                                                                      ..\n",
       "Emerald  2.02   2    6      5        11092.88   274705899      65.8       61.0             2       3         None          0.00        0.0          0.00           0.0            8.55x6.05x3.98    0    1    0        1\n",
       "                            4        12463.20   5182774573     67.3       64.0             2       2         None          13.55       0.0          51.01          0.0            8.45x6.17x4.15    1    0    0        1\n",
       "                                     12086.13   7261341381     67.7       63.0             2       2         None          0.00        0.0          0.00           0.0            8.10x6.19x4.19    1    0    0        1\n",
       "                            3        13102.87   7266639617     66.4       62.0             2       2         None          13.78       0.0          50.50          0.0            8.46x6.29x4.18    1    0    0        1\n",
       "Radiant  15.25  2    5      6        618509.87  5182341217     69.5       70.0             2       3         None          0.00        0.0          0.00           0.0            14.81x13.21x9.17  1    0    0        1\n",
       "Length: 8657, dtype: int64"
      ]
     },
     "execution_count": 56,
     "metadata": {},
     "output_type": "execute_result"
    }
   ],
   "source": [
    "df[df['carat']>=2].value_counts()\n",
    "#8600 are more than 2 carats (~16%) of the data\n",
    "#for this analysis I will go straight to XG boost since that worked the best for my round diamond analysis\n",
    "#try XG boost with all the data and see if it works well enough first; otherwise split the data"
   ]
  },
  {
   "cell_type": "markdown",
   "id": "24cd75c1-29a8-4ca7-b707-f4f3becd1c3e",
   "metadata": {},
   "source": [
    "## XG Boost Part (No Carat Cutoff Yet)"
   ]
  },
  {
   "cell_type": "code",
   "execution_count": 57,
   "id": "5ad02e7d-cdc8-4771-b158-686d28580b8f",
   "metadata": {},
   "outputs": [
    {
     "data": {
      "text/html": [
       "<div>\n",
       "<style scoped>\n",
       "    .dataframe tbody tr th:only-of-type {\n",
       "        vertical-align: middle;\n",
       "    }\n",
       "\n",
       "    .dataframe tbody tr th {\n",
       "        vertical-align: top;\n",
       "    }\n",
       "\n",
       "    .dataframe thead th {\n",
       "        text-align: right;\n",
       "    }\n",
       "</style>\n",
       "<table border=\"1\" class=\"dataframe\">\n",
       "  <thead>\n",
       "    <tr style=\"text-align: right;\">\n",
       "      <th></th>\n",
       "      <th>price</th>\n",
       "      <th>carat</th>\n",
       "      <th>cut</th>\n",
       "      <th>clarity</th>\n",
       "      <th>color</th>\n",
       "      <th>Other</th>\n",
       "      <th>IGI</th>\n",
       "      <th>GIA</th>\n",
       "      <th>polish</th>\n",
       "      <th>symmetry</th>\n",
       "    </tr>\n",
       "  </thead>\n",
       "  <tbody>\n",
       "    <tr>\n",
       "      <th>0</th>\n",
       "      <td>53504.69</td>\n",
       "      <td>3.20</td>\n",
       "      <td>2</td>\n",
       "      <td>5</td>\n",
       "      <td>4</td>\n",
       "      <td>0</td>\n",
       "      <td>0</td>\n",
       "      <td>1</td>\n",
       "      <td>3</td>\n",
       "      <td>4</td>\n",
       "    </tr>\n",
       "    <tr>\n",
       "      <th>1</th>\n",
       "      <td>17643.65</td>\n",
       "      <td>2.01</td>\n",
       "      <td>2</td>\n",
       "      <td>6</td>\n",
       "      <td>4</td>\n",
       "      <td>0</td>\n",
       "      <td>0</td>\n",
       "      <td>1</td>\n",
       "      <td>3</td>\n",
       "      <td>3</td>\n",
       "    </tr>\n",
       "    <tr>\n",
       "      <th>2</th>\n",
       "      <td>50939.81</td>\n",
       "      <td>3.22</td>\n",
       "      <td>2</td>\n",
       "      <td>6</td>\n",
       "      <td>2</td>\n",
       "      <td>0</td>\n",
       "      <td>0</td>\n",
       "      <td>1</td>\n",
       "      <td>3</td>\n",
       "      <td>3</td>\n",
       "    </tr>\n",
       "    <tr>\n",
       "      <th>3</th>\n",
       "      <td>36052.16</td>\n",
       "      <td>3.08</td>\n",
       "      <td>3</td>\n",
       "      <td>6</td>\n",
       "      <td>4</td>\n",
       "      <td>0</td>\n",
       "      <td>0</td>\n",
       "      <td>1</td>\n",
       "      <td>3</td>\n",
       "      <td>4</td>\n",
       "    </tr>\n",
       "    <tr>\n",
       "      <th>4</th>\n",
       "      <td>41195.25</td>\n",
       "      <td>3.01</td>\n",
       "      <td>3</td>\n",
       "      <td>5</td>\n",
       "      <td>4</td>\n",
       "      <td>0</td>\n",
       "      <td>0</td>\n",
       "      <td>1</td>\n",
       "      <td>2</td>\n",
       "      <td>4</td>\n",
       "    </tr>\n",
       "  </tbody>\n",
       "</table>\n",
       "</div>"
      ],
      "text/plain": [
       "      price  carat  cut  clarity  color  Other  IGI  GIA  polish  symmetry\n",
       "0  53504.69   3.20    2        5      4      0    0    1       3         4\n",
       "1  17643.65   2.01    2        6      4      0    0    1       3         3\n",
       "2  50939.81   3.22    2        6      2      0    0    1       3         3\n",
       "3  36052.16   3.08    3        6      4      0    0    1       3         4\n",
       "4  41195.25   3.01    3        5      4      0    0    1       2         4"
      ]
     },
     "execution_count": 57,
     "metadata": {},
     "output_type": "execute_result"
    }
   ],
   "source": [
    "#decide which features I want to include\n",
    "df_xg= df[['price', 'carat', 'cut', 'clarity', 'color', 'Other', 'IGI', 'GIA', 'polish', 'symmetry']].copy()\n",
    "df_xg.head()"
   ]
  },
  {
   "cell_type": "code",
   "execution_count": 58,
   "id": "0842e6ea-9d2b-43e5-8d31-0be352f68ddf",
   "metadata": {},
   "outputs": [
    {
     "data": {
      "text/plain": [
       "(51330, 10)"
      ]
     },
     "execution_count": 58,
     "metadata": {},
     "output_type": "execute_result"
    }
   ],
   "source": [
    "df_xg.shape"
   ]
  },
  {
   "cell_type": "code",
   "execution_count": 59,
   "id": "8b1e1562-d276-47fc-b967-5daec1d9ff6e",
   "metadata": {},
   "outputs": [
    {
     "data": {
      "text/plain": [
       "price       0\n",
       "carat       0\n",
       "cut         0\n",
       "clarity     0\n",
       "color       0\n",
       "Other       0\n",
       "IGI         0\n",
       "GIA         0\n",
       "polish      0\n",
       "symmetry    0\n",
       "dtype: int64"
      ]
     },
     "execution_count": 59,
     "metadata": {},
     "output_type": "execute_result"
    }
   ],
   "source": [
    "df_xg.isnull().sum()"
   ]
  },
  {
   "cell_type": "code",
   "execution_count": 61,
   "id": "3904fbd3-54d1-4ed6-8a90-1fc58702a838",
   "metadata": {},
   "outputs": [
    {
     "data": {
      "text/plain": [
       "price       float64\n",
       "carat       float64\n",
       "cut           int64\n",
       "clarity       int64\n",
       "color         int64\n",
       "Other         uint8\n",
       "IGI           uint8\n",
       "GIA           uint8\n",
       "polish        int64\n",
       "symmetry      int64\n",
       "dtype: object"
      ]
     },
     "execution_count": 61,
     "metadata": {},
     "output_type": "execute_result"
    }
   ],
   "source": [
    "df_xg.dtypes"
   ]
  },
  {
   "cell_type": "code",
   "execution_count": 62,
   "id": "39fff439-a812-4cce-be94-912a686451ba",
   "metadata": {},
   "outputs": [
    {
     "name": "stdout",
     "output_type": "stream",
     "text": [
      "(51330,)\n"
     ]
    }
   ],
   "source": [
    "y = df_xg['price']\n",
    "print(y.shape)"
   ]
  },
  {
   "cell_type": "code",
   "execution_count": 63,
   "id": "aa878b3e-5eba-4815-8f47-ef9e8071326b",
   "metadata": {},
   "outputs": [
    {
     "name": "stdout",
     "output_type": "stream",
     "text": [
      "(51330, 9)\n"
     ]
    }
   ],
   "source": [
    "#remove price from features list\n",
    "X = df_xg.drop('price', axis=1)\n",
    "print(X.shape)"
   ]
  },
  {
   "cell_type": "code",
   "execution_count": 64,
   "id": "581e9d18-2d9c-4f83-a841-e214a4d517da",
   "metadata": {},
   "outputs": [],
   "source": [
    "#train, test, split\n",
    "X_train, X_test, y_train, y_test = train_test_split(X, y, random_state=1)"
   ]
  },
  {
   "cell_type": "code",
   "execution_count": 67,
   "id": "3200504c-0cd2-443a-8699-129c848ece6c",
   "metadata": {},
   "outputs": [],
   "source": [
    "#set up the model (arbitrary parameters for now)\n",
    "\n",
    "xgb_model = XGBRegressor(objective = 'reg:linear', n_estimators = 10, seed = 123)"
   ]
  },
  {
   "cell_type": "code",
   "execution_count": 68,
   "id": "e4019b49-884d-46d6-895e-92f78d7a6228",
   "metadata": {},
   "outputs": [
    {
     "name": "stdout",
     "output_type": "stream",
     "text": [
      "[04:44:08] WARNING: /home/conda/feedstock_root/build_artifacts/xgboost-split_1665562802298/work/src/objective/regression_obj.cu:203: reg:linear is now deprecated in favor of reg:squarederror.\n"
     ]
    },
    {
     "data": {
      "text/html": [
       "<style>#sk-container-id-1 {color: black;background-color: white;}#sk-container-id-1 pre{padding: 0;}#sk-container-id-1 div.sk-toggleable {background-color: white;}#sk-container-id-1 label.sk-toggleable__label {cursor: pointer;display: block;width: 100%;margin-bottom: 0;padding: 0.3em;box-sizing: border-box;text-align: center;}#sk-container-id-1 label.sk-toggleable__label-arrow:before {content: \"▸\";float: left;margin-right: 0.25em;color: #696969;}#sk-container-id-1 label.sk-toggleable__label-arrow:hover:before {color: black;}#sk-container-id-1 div.sk-estimator:hover label.sk-toggleable__label-arrow:before {color: black;}#sk-container-id-1 div.sk-toggleable__content {max-height: 0;max-width: 0;overflow: hidden;text-align: left;background-color: #f0f8ff;}#sk-container-id-1 div.sk-toggleable__content pre {margin: 0.2em;color: black;border-radius: 0.25em;background-color: #f0f8ff;}#sk-container-id-1 input.sk-toggleable__control:checked~div.sk-toggleable__content {max-height: 200px;max-width: 100%;overflow: auto;}#sk-container-id-1 input.sk-toggleable__control:checked~label.sk-toggleable__label-arrow:before {content: \"▾\";}#sk-container-id-1 div.sk-estimator input.sk-toggleable__control:checked~label.sk-toggleable__label {background-color: #d4ebff;}#sk-container-id-1 div.sk-label input.sk-toggleable__control:checked~label.sk-toggleable__label {background-color: #d4ebff;}#sk-container-id-1 input.sk-hidden--visually {border: 0;clip: rect(1px 1px 1px 1px);clip: rect(1px, 1px, 1px, 1px);height: 1px;margin: -1px;overflow: hidden;padding: 0;position: absolute;width: 1px;}#sk-container-id-1 div.sk-estimator {font-family: monospace;background-color: #f0f8ff;border: 1px dotted black;border-radius: 0.25em;box-sizing: border-box;margin-bottom: 0.5em;}#sk-container-id-1 div.sk-estimator:hover {background-color: #d4ebff;}#sk-container-id-1 div.sk-parallel-item::after {content: \"\";width: 100%;border-bottom: 1px solid gray;flex-grow: 1;}#sk-container-id-1 div.sk-label:hover label.sk-toggleable__label {background-color: #d4ebff;}#sk-container-id-1 div.sk-serial::before {content: \"\";position: absolute;border-left: 1px solid gray;box-sizing: border-box;top: 0;bottom: 0;left: 50%;z-index: 0;}#sk-container-id-1 div.sk-serial {display: flex;flex-direction: column;align-items: center;background-color: white;padding-right: 0.2em;padding-left: 0.2em;position: relative;}#sk-container-id-1 div.sk-item {position: relative;z-index: 1;}#sk-container-id-1 div.sk-parallel {display: flex;align-items: stretch;justify-content: center;background-color: white;position: relative;}#sk-container-id-1 div.sk-item::before, #sk-container-id-1 div.sk-parallel-item::before {content: \"\";position: absolute;border-left: 1px solid gray;box-sizing: border-box;top: 0;bottom: 0;left: 50%;z-index: -1;}#sk-container-id-1 div.sk-parallel-item {display: flex;flex-direction: column;z-index: 1;position: relative;background-color: white;}#sk-container-id-1 div.sk-parallel-item:first-child::after {align-self: flex-end;width: 50%;}#sk-container-id-1 div.sk-parallel-item:last-child::after {align-self: flex-start;width: 50%;}#sk-container-id-1 div.sk-parallel-item:only-child::after {width: 0;}#sk-container-id-1 div.sk-dashed-wrapped {border: 1px dashed gray;margin: 0 0.4em 0.5em 0.4em;box-sizing: border-box;padding-bottom: 0.4em;background-color: white;}#sk-container-id-1 div.sk-label label {font-family: monospace;font-weight: bold;display: inline-block;line-height: 1.2em;}#sk-container-id-1 div.sk-label-container {text-align: center;}#sk-container-id-1 div.sk-container {/* jupyter's `normalize.less` sets `[hidden] { display: none; }` but bootstrap.min.css set `[hidden] { display: none !important; }` so we also need the `!important` here to be able to override the default hidden behavior on the sphinx rendered scikit-learn.org. See: https://github.com/scikit-learn/scikit-learn/issues/21755 */display: inline-block !important;position: relative;}#sk-container-id-1 div.sk-text-repr-fallback {display: none;}</style><div id=\"sk-container-id-1\" class=\"sk-top-container\"><div class=\"sk-text-repr-fallback\"><pre>XGBRegressor(base_score=0.5, booster=&#x27;gbtree&#x27;, callbacks=None,\n",
       "             colsample_bylevel=1, colsample_bynode=1, colsample_bytree=1,\n",
       "             early_stopping_rounds=None, enable_categorical=False,\n",
       "             eval_metric=None, gamma=0, gpu_id=-1, grow_policy=&#x27;depthwise&#x27;,\n",
       "             importance_type=None, interaction_constraints=&#x27;&#x27;,\n",
       "             learning_rate=0.300000012, max_bin=256, max_cat_to_onehot=4,\n",
       "             max_delta_step=0, max_depth=6, max_leaves=0, min_child_weight=1,\n",
       "             missing=nan, monotone_constraints=&#x27;()&#x27;, n_estimators=10, n_jobs=0,\n",
       "             num_parallel_tree=1, objective=&#x27;reg:linear&#x27;, predictor=&#x27;auto&#x27;,\n",
       "             random_state=123, reg_alpha=0, ...)</pre><b>In a Jupyter environment, please rerun this cell to show the HTML representation or trust the notebook. <br />On GitHub, the HTML representation is unable to render, please try loading this page with nbviewer.org.</b></div><div class=\"sk-container\" hidden><div class=\"sk-item\"><div class=\"sk-estimator sk-toggleable\"><input class=\"sk-toggleable__control sk-hidden--visually\" id=\"sk-estimator-id-1\" type=\"checkbox\" checked><label for=\"sk-estimator-id-1\" class=\"sk-toggleable__label sk-toggleable__label-arrow\">XGBRegressor</label><div class=\"sk-toggleable__content\"><pre>XGBRegressor(base_score=0.5, booster=&#x27;gbtree&#x27;, callbacks=None,\n",
       "             colsample_bylevel=1, colsample_bynode=1, colsample_bytree=1,\n",
       "             early_stopping_rounds=None, enable_categorical=False,\n",
       "             eval_metric=None, gamma=0, gpu_id=-1, grow_policy=&#x27;depthwise&#x27;,\n",
       "             importance_type=None, interaction_constraints=&#x27;&#x27;,\n",
       "             learning_rate=0.300000012, max_bin=256, max_cat_to_onehot=4,\n",
       "             max_delta_step=0, max_depth=6, max_leaves=0, min_child_weight=1,\n",
       "             missing=nan, monotone_constraints=&#x27;()&#x27;, n_estimators=10, n_jobs=0,\n",
       "             num_parallel_tree=1, objective=&#x27;reg:linear&#x27;, predictor=&#x27;auto&#x27;,\n",
       "             random_state=123, reg_alpha=0, ...)</pre></div></div></div></div></div>"
      ],
      "text/plain": [
       "XGBRegressor(base_score=0.5, booster='gbtree', callbacks=None,\n",
       "             colsample_bylevel=1, colsample_bynode=1, colsample_bytree=1,\n",
       "             early_stopping_rounds=None, enable_categorical=False,\n",
       "             eval_metric=None, gamma=0, gpu_id=-1, grow_policy='depthwise',\n",
       "             importance_type=None, interaction_constraints='',\n",
       "             learning_rate=0.300000012, max_bin=256, max_cat_to_onehot=4,\n",
       "             max_delta_step=0, max_depth=6, max_leaves=0, min_child_weight=1,\n",
       "             missing=nan, monotone_constraints='()', n_estimators=10, n_jobs=0,\n",
       "             num_parallel_tree=1, objective='reg:linear', predictor='auto',\n",
       "             random_state=123, reg_alpha=0, ...)"
      ]
     },
     "execution_count": 68,
     "metadata": {},
     "output_type": "execute_result"
    }
   ],
   "source": [
    "#fit the model\n",
    "xgb_model.fit(X_train, y_train)\n",
    "#try the reg:squarederror one later?"
   ]
  },
  {
   "cell_type": "code",
   "execution_count": 69,
   "id": "0d4e1034-b01c-488a-808f-f2ff5aa4b22d",
   "metadata": {},
   "outputs": [],
   "source": [
    "#predict\n",
    "y_preds = xgb_model.predict(X_test)"
   ]
  },
  {
   "cell_type": "code",
   "execution_count": 70,
   "id": "dba6ab7d-ec83-4995-b784-0a557c91322a",
   "metadata": {},
   "outputs": [
    {
     "name": "stdout",
     "output_type": "stream",
     "text": [
      "RMSE :  17910.156363\n"
     ]
    }
   ],
   "source": [
    "#evaluate with RMSE\n",
    "rmse = np.sqrt(mean_squared_error(y_test, y_preds))\n",
    "print(\"RMSE : % f\" %(rmse))\n",
    "#this is pretty high..."
   ]
  },
  {
   "cell_type": "code",
   "execution_count": 78,
   "id": "657ea728-810f-4f8d-bbc1-e3de9812a106",
   "metadata": {},
   "outputs": [
    {
     "data": {
      "text/plain": [
       "10709.357846325689"
      ]
     },
     "execution_count": 78,
     "metadata": {},
     "output_type": "execute_result"
    }
   ],
   "source": [
    "#check this vs. using the average\n",
    "avg_val = y_train.mean()\n",
    "avg_val"
   ]
  },
  {
   "cell_type": "code",
   "execution_count": 79,
   "id": "a29fd37b-9faa-452f-8d68-76b4749ad242",
   "metadata": {},
   "outputs": [
    {
     "data": {
      "text/plain": [
       "array([10709.35784633, 10709.35784633, 10709.35784633, 10709.35784633,\n",
       "       10709.35784633, 10709.35784633, 10709.35784633, 10709.35784633,\n",
       "       10709.35784633, 10709.35784633])"
      ]
     },
     "execution_count": 79,
     "metadata": {},
     "output_type": "execute_result"
    }
   ],
   "source": [
    "#what would the error be if I predicted the average price for all diamonds?\n",
    "comparison = np.full((len(y_test), ), avg_val)\n",
    "comparison[:10]"
   ]
  },
  {
   "cell_type": "code",
   "execution_count": 80,
   "id": "14cf7c3f-fe74-47a8-85fd-7717456593f9",
   "metadata": {},
   "outputs": [
    {
     "data": {
      "text/plain": [
       "array([ 1279.2551,  7550.0356,  1648.2278, 28746.742 ,  4774.1006,\n",
       "        2801.211 ,  4217.3906,  2344.209 ,  1257.1818,  3631.0828],\n",
       "      dtype=float32)"
      ]
     },
     "execution_count": 80,
     "metadata": {},
     "output_type": "execute_result"
    }
   ],
   "source": [
    "#compare that to my predictions\n",
    "y_preds[:10]\n",
    "#very different"
   ]
  },
  {
   "cell_type": "code",
   "execution_count": 81,
   "id": "a5f17a30-d2de-48f6-a752-8fdd236cb203",
   "metadata": {},
   "outputs": [
    {
     "data": {
      "text/plain": [
       "53009.50277210084"
      ]
     },
     "execution_count": 81,
     "metadata": {},
     "output_type": "execute_result"
    }
   ],
   "source": [
    "#compare these two:\n",
    "np.sqrt(mean_squared_error(y_test, comparison))\n",
    "#my RMSE is much better but still high"
   ]
  },
  {
   "cell_type": "code",
   "execution_count": 77,
   "id": "3d52aca7-8d81-411b-919f-0320b096ad49",
   "metadata": {},
   "outputs": [
    {
     "data": {
      "text/plain": [
       "0.89"
      ]
     },
     "execution_count": 77,
     "metadata": {},
     "output_type": "execute_result"
    }
   ],
   "source": [
    "#check r2\n",
    "r2 = metrics.r2_score(y_test, y_preds)\n",
    "round(r2, 2)\n",
    "#it's actually not a bad r2 though?"
   ]
  },
  {
   "cell_type": "code",
   "execution_count": 71,
   "id": "0dc9ec24-d40b-4139-b805-da573a38ebf0",
   "metadata": {},
   "outputs": [
    {
     "data": {
      "image/png": "[encoded data removed]",
      "text/plain": [
       "<Figure size 432x432 with 1 Axes>"
      ]
     },
     "metadata": {
      "needs_background": "light"
     },
     "output_type": "display_data"
    }
   ],
   "source": [
    "#plot the values\n",
    "plt.figure(figsize=(6,6))\n",
    "ax = sns.regplot(x = y_preds, \n",
    "                 y = y_test, \n",
    "                 scatter_kws={\"color\": \"black\"}, \n",
    "                 line_kws={\"color\": \"red\"})\n",
    "ax.set(xlabel='predicted values', ylabel='true values');\n",
    "#have to remove those outliers"
   ]
  },
  {
   "cell_type": "code",
   "execution_count": 76,
   "id": "c7d978d4-2b35-4e24-9993-6552eac9b933",
   "metadata": {},
   "outputs": [
    {
     "name": "stderr",
     "output_type": "stream",
     "text": [
      "/home/studio-lab-user/.conda/envs/default/lib/python3.9/site-packages/seaborn/_decorators.py:36: FutureWarning: Pass the following variable as a keyword arg: x. From version 0.12, the only valid positional argument will be `data`, and passing other arguments without an explicit keyword will result in an error or misinterpretation.\n",
      "  warnings.warn(\n"
     ]
    },
    {
     "data": {
      "image/png": "[encoded data removed]",
      "text/plain": [
       "<Figure size 2160x288 with 1 Axes>"
      ]
     },
     "metadata": {
      "needs_background": "light"
     },
     "output_type": "display_data"
    }
   ],
   "source": [
    "plt.figure(figsize=(30,4))\n",
    "sns.boxplot(df['carat'])\n",
    "plt.show()\n",
    "#a lot of outliers for carat..."
   ]
  },
  {
   "cell_type": "code",
   "execution_count": 83,
   "id": "ec02900e-8017-4e32-bbd5-44ca6c558e8a",
   "metadata": {},
   "outputs": [
    {
     "data": {
      "text/plain": [
       "count    5.133000e+04\n",
       "mean     1.069407e+04\n",
       "std      6.230414e+04\n",
       "min      1.202800e+02\n",
       "25%      1.847115e+03\n",
       "50%      3.488650e+03\n",
       "75%      7.786885e+03\n",
       "max      6.554346e+06\n",
       "Name: price, dtype: float64"
      ]
     },
     "execution_count": 83,
     "metadata": {},
     "output_type": "execute_result"
    }
   ],
   "source": [
    "df['price'].describe()"
   ]
  },
  {
   "cell_type": "markdown",
   "id": "f29fceee-a5a7-47e6-a399-bfeb1e41447c",
   "metadata": {},
   "source": [
    "## XG Boost Part (Remove Outliers)"
   ]
  },
  {
   "cell_type": "code",
   "execution_count": 116,
   "id": "440a9c85-a20c-471d-9e4f-4be369b67039",
   "metadata": {},
   "outputs": [
    {
     "data": {
      "text/plain": [
       "shape    carat  cut  color  clarity  price      certificateID  depth_pct  table_width_pct  polish  symmetry  fluorescence  crownAngle  crownHeight  pavilionAngle  pavilionDepth  measurements      GIA  IGI  Other\n",
       "Cushion  4.75   3    7      7        46004.07   1182093745     69.5       62.0             2       2         None          0.0         0.0          0.0            0.0            9.76x9.63x6.70    1    0    0        2\n",
       "         4.50   3    7      6        45070.00   2185669581     69.7       62.0             2       2         None          0.0         0.0          0.0            0.0            9.59x9.38x6.54    1    0    0        2\n",
       "Emerald  3.01   2    6      5        28418.70   5181705105     65.0       67.0             2       3         None          0.0         0.0          0.0            0.0            9.72x7.1x4.61     1    0    0        2\n",
       "Cushion  3.02   2    4      8        21630.34   5181271451     65.9       70.0             3       4         Medium        0.0         0.0          0.0            0.0            8.34x8.33x5.48    1    0    0        2\n",
       "                     3      5        38284.62   1273137436     67.7       63.0             2       2         Strong        0.0         0.0          0.0            0.0            8.36x8.33x5.64    1    0    0        2\n",
       "                                                                                                                                                                                                                      ..\n",
       "Emerald  3.00   2    8      5        15462.77   2161724458     69.1       66.0             3       3         None          0.0         0.0          0.0            0.0            9.08x6.96x4.81    1    0    0        1\n",
       "                     7      5        23709.68   10385420       64.6       71.0             4       4         Medium        0.0         0.0          0.0            0.0            9.35x7.72x4.99    1    0    0        1\n",
       "                                     21032.76   2181651486     66.5       65.0             2       2         Faint         45.5        0.0          58.5           0.0            9.58x7.04x4.68    1    0    0        1\n",
       "                     6      7        27386.15   2177024014     69.8       74.0             3       3         Faint         0.0         0.0          0.0            0.0            9.29x6.93x4.84    1    0    0        1\n",
       "Radiant  15.25  2    5      6        618509.87  5182341217     69.5       70.0             2       3         None          0.0         0.0          0.0            0.0            14.81x13.21x9.17  1    0    0        1\n",
       "Length: 4749, dtype: int64"
      ]
     },
     "execution_count": 116,
     "metadata": {},
     "output_type": "execute_result"
    }
   ],
   "source": [
    "df[df['carat']>=2.5].value_counts()\n",
    "#if I cut it off at 2.5 carats I'd still have >90% of my data"
   ]
  },
  {
   "cell_type": "code",
   "execution_count": 117,
   "id": "722e6a89-1331-4ac3-bbfc-354649924117",
   "metadata": {},
   "outputs": [],
   "source": [
    "#create new dataframe with only diamonds 2.5 carats and below for use in any model\n",
    "df_new = df[(df[\"carat\"]<=2.5)]"
   ]
  },
  {
   "cell_type": "code",
   "execution_count": 118,
   "id": "5ceef1e1-a947-4373-a681-0dd2180cf548",
   "metadata": {},
   "outputs": [
    {
     "name": "stderr",
     "output_type": "stream",
     "text": [
      "/home/studio-lab-user/.conda/envs/default/lib/python3.9/site-packages/seaborn/_decorators.py:36: FutureWarning: Pass the following variable as a keyword arg: x. From version 0.12, the only valid positional argument will be `data`, and passing other arguments without an explicit keyword will result in an error or misinterpretation.\n",
      "  warnings.warn(\n"
     ]
    },
    {
     "data": {
      "image/png": "[encoded data removed]",
      "text/plain": [
       "<Figure size 2160x288 with 1 Axes>"
      ]
     },
     "metadata": {
      "needs_background": "light"
     },
     "output_type": "display_data"
    }
   ],
   "source": [
    "#look at the spread\n",
    "plt.figure(figsize=(30,4))\n",
    "sns.boxplot(df_new['carat'])\n",
    "plt.show()\n",
    "#definitely still has some outliers, but let me try 2.5 as the cut off first"
   ]
  },
  {
   "cell_type": "code",
   "execution_count": 119,
   "id": "3009cbe8-8c23-4af5-8510-88d153609a6a",
   "metadata": {},
   "outputs": [
    {
     "data": {
      "text/plain": [
       "(46799, 20)"
      ]
     },
     "execution_count": 119,
     "metadata": {},
     "output_type": "execute_result"
    }
   ],
   "source": [
    "df_new.shape"
   ]
  },
  {
   "cell_type": "code",
   "execution_count": 120,
   "id": "4d7fe764-e58d-4ce1-a1bc-c2fbd0229ddd",
   "metadata": {},
   "outputs": [
    {
     "data": {
      "text/html": [
       "<div>\n",
       "<style scoped>\n",
       "    .dataframe tbody tr th:only-of-type {\n",
       "        vertical-align: middle;\n",
       "    }\n",
       "\n",
       "    .dataframe tbody tr th {\n",
       "        vertical-align: top;\n",
       "    }\n",
       "\n",
       "    .dataframe thead th {\n",
       "        text-align: right;\n",
       "    }\n",
       "</style>\n",
       "<table border=\"1\" class=\"dataframe\">\n",
       "  <thead>\n",
       "    <tr style=\"text-align: right;\">\n",
       "      <th></th>\n",
       "      <th>price</th>\n",
       "      <th>carat</th>\n",
       "      <th>cut</th>\n",
       "      <th>clarity</th>\n",
       "      <th>color</th>\n",
       "      <th>Other</th>\n",
       "      <th>IGI</th>\n",
       "      <th>GIA</th>\n",
       "      <th>polish</th>\n",
       "      <th>symmetry</th>\n",
       "    </tr>\n",
       "  </thead>\n",
       "  <tbody>\n",
       "    <tr>\n",
       "      <th>1</th>\n",
       "      <td>17643.65</td>\n",
       "      <td>2.01</td>\n",
       "      <td>2</td>\n",
       "      <td>6</td>\n",
       "      <td>4</td>\n",
       "      <td>0</td>\n",
       "      <td>0</td>\n",
       "      <td>1</td>\n",
       "      <td>3</td>\n",
       "      <td>3</td>\n",
       "    </tr>\n",
       "    <tr>\n",
       "      <th>8</th>\n",
       "      <td>17597.72</td>\n",
       "      <td>2.03</td>\n",
       "      <td>2</td>\n",
       "      <td>7</td>\n",
       "      <td>2</td>\n",
       "      <td>0</td>\n",
       "      <td>0</td>\n",
       "      <td>1</td>\n",
       "      <td>3</td>\n",
       "      <td>3</td>\n",
       "    </tr>\n",
       "    <tr>\n",
       "      <th>11</th>\n",
       "      <td>3823.08</td>\n",
       "      <td>0.98</td>\n",
       "      <td>2</td>\n",
       "      <td>6</td>\n",
       "      <td>5</td>\n",
       "      <td>0</td>\n",
       "      <td>0</td>\n",
       "      <td>1</td>\n",
       "      <td>4</td>\n",
       "      <td>4</td>\n",
       "    </tr>\n",
       "    <tr>\n",
       "      <th>13</th>\n",
       "      <td>1718.18</td>\n",
       "      <td>0.70</td>\n",
       "      <td>2</td>\n",
       "      <td>8</td>\n",
       "      <td>1</td>\n",
       "      <td>0</td>\n",
       "      <td>0</td>\n",
       "      <td>1</td>\n",
       "      <td>3</td>\n",
       "      <td>4</td>\n",
       "    </tr>\n",
       "    <tr>\n",
       "      <th>14</th>\n",
       "      <td>7700.00</td>\n",
       "      <td>1.23</td>\n",
       "      <td>2</td>\n",
       "      <td>5</td>\n",
       "      <td>3</td>\n",
       "      <td>0</td>\n",
       "      <td>0</td>\n",
       "      <td>1</td>\n",
       "      <td>2</td>\n",
       "      <td>4</td>\n",
       "    </tr>\n",
       "  </tbody>\n",
       "</table>\n",
       "</div>"
      ],
      "text/plain": [
       "       price  carat  cut  clarity  color  Other  IGI  GIA  polish  symmetry\n",
       "1   17643.65   2.01    2        6      4      0    0    1       3         3\n",
       "8   17597.72   2.03    2        7      2      0    0    1       3         3\n",
       "11   3823.08   0.98    2        6      5      0    0    1       4         4\n",
       "13   1718.18   0.70    2        8      1      0    0    1       3         4\n",
       "14   7700.00   1.23    2        5      3      0    0    1       2         4"
      ]
     },
     "execution_count": 120,
     "metadata": {},
     "output_type": "execute_result"
    }
   ],
   "source": [
    "#decide which features I want to include\n",
    "df_xg2= df_new[['price', 'carat', 'cut', 'clarity', 'color', 'Other', 'IGI', 'GIA', 'polish', 'symmetry']].copy()\n",
    "df_xg2.head()"
   ]
  },
  {
   "cell_type": "code",
   "execution_count": 121,
   "id": "82de537c-d984-480c-a7fe-7a13b5efbb6b",
   "metadata": {},
   "outputs": [
    {
     "data": {
      "text/plain": [
       "(46799, 10)"
      ]
     },
     "execution_count": 121,
     "metadata": {},
     "output_type": "execute_result"
    }
   ],
   "source": [
    "df_xg2.shape"
   ]
  },
  {
   "cell_type": "code",
   "execution_count": 122,
   "id": "1cb0e43d-cf29-41b0-b4b7-fbacc76f9ced",
   "metadata": {},
   "outputs": [
    {
     "data": {
      "text/plain": [
       "price       0\n",
       "carat       0\n",
       "cut         0\n",
       "clarity     0\n",
       "color       0\n",
       "Other       0\n",
       "IGI         0\n",
       "GIA         0\n",
       "polish      0\n",
       "symmetry    0\n",
       "dtype: int64"
      ]
     },
     "execution_count": 122,
     "metadata": {},
     "output_type": "execute_result"
    }
   ],
   "source": [
    "df_xg2.isnull().sum()"
   ]
  },
  {
   "cell_type": "code",
   "execution_count": 123,
   "id": "45383dfb-39e6-4aa6-b1bf-94700826487d",
   "metadata": {},
   "outputs": [
    {
     "data": {
      "text/plain": [
       "price       float64\n",
       "carat       float64\n",
       "cut           int64\n",
       "clarity       int64\n",
       "color         int64\n",
       "Other         uint8\n",
       "IGI           uint8\n",
       "GIA           uint8\n",
       "polish        int64\n",
       "symmetry      int64\n",
       "dtype: object"
      ]
     },
     "execution_count": 123,
     "metadata": {},
     "output_type": "execute_result"
    }
   ],
   "source": [
    "df_xg2.dtypes"
   ]
  },
  {
   "cell_type": "code",
   "execution_count": 124,
   "id": "066cbc6e-e485-4f87-8a79-6ec42467386a",
   "metadata": {},
   "outputs": [
    {
     "name": "stdout",
     "output_type": "stream",
     "text": [
      "(46799,)\n"
     ]
    }
   ],
   "source": [
    "y = df_xg2['price']\n",
    "print(y.shape)"
   ]
  },
  {
   "cell_type": "code",
   "execution_count": 125,
   "id": "b7706a52-859a-44d1-9eab-3346f294257d",
   "metadata": {},
   "outputs": [
    {
     "name": "stdout",
     "output_type": "stream",
     "text": [
      "(46799, 9)\n"
     ]
    }
   ],
   "source": [
    "#remove price from features list\n",
    "X = df_xg2.drop('price', axis=1)\n",
    "print(X.shape)"
   ]
  },
  {
   "cell_type": "code",
   "execution_count": 126,
   "id": "f5163747-f6b9-4720-bc1a-40dc5b3d3c35",
   "metadata": {},
   "outputs": [],
   "source": [
    "#train, test, split\n",
    "X_train, X_test, y_train, y_test = train_test_split(X, y, random_state=1)"
   ]
  },
  {
   "cell_type": "code",
   "execution_count": 127,
   "id": "985825f3-2738-4210-b799-67ad3a7a8312",
   "metadata": {},
   "outputs": [],
   "source": [
    "#set up the model (arbitrary parameters for now)\n",
    "\n",
    "xgb_model = XGBRegressor(objective = 'reg:linear', n_estimators = 10, seed = 123)"
   ]
  },
  {
   "cell_type": "code",
   "execution_count": 128,
   "id": "58354eaa-9c2b-4f92-b02e-52b14beea689",
   "metadata": {},
   "outputs": [
    {
     "name": "stdout",
     "output_type": "stream",
     "text": [
      "[05:03:56] WARNING: /home/conda/feedstock_root/build_artifacts/xgboost-split_1665562802298/work/src/objective/regression_obj.cu:203: reg:linear is now deprecated in favor of reg:squarederror.\n"
     ]
    },
    {
     "data": {
      "text/html": [
       "<style>#sk-container-id-3 {color: black;background-color: white;}#sk-container-id-3 pre{padding: 0;}#sk-container-id-3 div.sk-toggleable {background-color: white;}#sk-container-id-3 label.sk-toggleable__label {cursor: pointer;display: block;width: 100%;margin-bottom: 0;padding: 0.3em;box-sizing: border-box;text-align: center;}#sk-container-id-3 label.sk-toggleable__label-arrow:before {content: \"▸\";float: left;margin-right: 0.25em;color: #696969;}#sk-container-id-3 label.sk-toggleable__label-arrow:hover:before {color: black;}#sk-container-id-3 div.sk-estimator:hover label.sk-toggleable__label-arrow:before {color: black;}#sk-container-id-3 div.sk-toggleable__content {max-height: 0;max-width: 0;overflow: hidden;text-align: left;background-color: #f0f8ff;}#sk-container-id-3 div.sk-toggleable__content pre {margin: 0.2em;color: black;border-radius: 0.25em;background-color: #f0f8ff;}#sk-container-id-3 input.sk-toggleable__control:checked~div.sk-toggleable__content {max-height: 200px;max-width: 100%;overflow: auto;}#sk-container-id-3 input.sk-toggleable__control:checked~label.sk-toggleable__label-arrow:before {content: \"▾\";}#sk-container-id-3 div.sk-estimator input.sk-toggleable__control:checked~label.sk-toggleable__label {background-color: #d4ebff;}#sk-container-id-3 div.sk-label input.sk-toggleable__control:checked~label.sk-toggleable__label {background-color: #d4ebff;}#sk-container-id-3 input.sk-hidden--visually {border: 0;clip: rect(1px 1px 1px 1px);clip: rect(1px, 1px, 1px, 1px);height: 1px;margin: -1px;overflow: hidden;padding: 0;position: absolute;width: 1px;}#sk-container-id-3 div.sk-estimator {font-family: monospace;background-color: #f0f8ff;border: 1px dotted black;border-radius: 0.25em;box-sizing: border-box;margin-bottom: 0.5em;}#sk-container-id-3 div.sk-estimator:hover {background-color: #d4ebff;}#sk-container-id-3 div.sk-parallel-item::after {content: \"\";width: 100%;border-bottom: 1px solid gray;flex-grow: 1;}#sk-container-id-3 div.sk-label:hover label.sk-toggleable__label {background-color: #d4ebff;}#sk-container-id-3 div.sk-serial::before {content: \"\";position: absolute;border-left: 1px solid gray;box-sizing: border-box;top: 0;bottom: 0;left: 50%;z-index: 0;}#sk-container-id-3 div.sk-serial {display: flex;flex-direction: column;align-items: center;background-color: white;padding-right: 0.2em;padding-left: 0.2em;position: relative;}#sk-container-id-3 div.sk-item {position: relative;z-index: 1;}#sk-container-id-3 div.sk-parallel {display: flex;align-items: stretch;justify-content: center;background-color: white;position: relative;}#sk-container-id-3 div.sk-item::before, #sk-container-id-3 div.sk-parallel-item::before {content: \"\";position: absolute;border-left: 1px solid gray;box-sizing: border-box;top: 0;bottom: 0;left: 50%;z-index: -1;}#sk-container-id-3 div.sk-parallel-item {display: flex;flex-direction: column;z-index: 1;position: relative;background-color: white;}#sk-container-id-3 div.sk-parallel-item:first-child::after {align-self: flex-end;width: 50%;}#sk-container-id-3 div.sk-parallel-item:last-child::after {align-self: flex-start;width: 50%;}#sk-container-id-3 div.sk-parallel-item:only-child::after {width: 0;}#sk-container-id-3 div.sk-dashed-wrapped {border: 1px dashed gray;margin: 0 0.4em 0.5em 0.4em;box-sizing: border-box;padding-bottom: 0.4em;background-color: white;}#sk-container-id-3 div.sk-label label {font-family: monospace;font-weight: bold;display: inline-block;line-height: 1.2em;}#sk-container-id-3 div.sk-label-container {text-align: center;}#sk-container-id-3 div.sk-container {/* jupyter's `normalize.less` sets `[hidden] { display: none; }` but bootstrap.min.css set `[hidden] { display: none !important; }` so we also need the `!important` here to be able to override the default hidden behavior on the sphinx rendered scikit-learn.org. See: https://github.com/scikit-learn/scikit-learn/issues/21755 */display: inline-block !important;position: relative;}#sk-container-id-3 div.sk-text-repr-fallback {display: none;}</style><div id=\"sk-container-id-3\" class=\"sk-top-container\"><div class=\"sk-text-repr-fallback\"><pre>XGBRegressor(base_score=0.5, booster=&#x27;gbtree&#x27;, callbacks=None,\n",
       "             colsample_bylevel=1, colsample_bynode=1, colsample_bytree=1,\n",
       "             early_stopping_rounds=None, enable_categorical=False,\n",
       "             eval_metric=None, gamma=0, gpu_id=-1, grow_policy=&#x27;depthwise&#x27;,\n",
       "             importance_type=None, interaction_constraints=&#x27;&#x27;,\n",
       "             learning_rate=0.300000012, max_bin=256, max_cat_to_onehot=4,\n",
       "             max_delta_step=0, max_depth=6, max_leaves=0, min_child_weight=1,\n",
       "             missing=nan, monotone_constraints=&#x27;()&#x27;, n_estimators=10, n_jobs=0,\n",
       "             num_parallel_tree=1, objective=&#x27;reg:linear&#x27;, predictor=&#x27;auto&#x27;,\n",
       "             random_state=123, reg_alpha=0, ...)</pre><b>In a Jupyter environment, please rerun this cell to show the HTML representation or trust the notebook. <br />On GitHub, the HTML representation is unable to render, please try loading this page with nbviewer.org.</b></div><div class=\"sk-container\" hidden><div class=\"sk-item\"><div class=\"sk-estimator sk-toggleable\"><input class=\"sk-toggleable__control sk-hidden--visually\" id=\"sk-estimator-id-3\" type=\"checkbox\" checked><label for=\"sk-estimator-id-3\" class=\"sk-toggleable__label sk-toggleable__label-arrow\">XGBRegressor</label><div class=\"sk-toggleable__content\"><pre>XGBRegressor(base_score=0.5, booster=&#x27;gbtree&#x27;, callbacks=None,\n",
       "             colsample_bylevel=1, colsample_bynode=1, colsample_bytree=1,\n",
       "             early_stopping_rounds=None, enable_categorical=False,\n",
       "             eval_metric=None, gamma=0, gpu_id=-1, grow_policy=&#x27;depthwise&#x27;,\n",
       "             importance_type=None, interaction_constraints=&#x27;&#x27;,\n",
       "             learning_rate=0.300000012, max_bin=256, max_cat_to_onehot=4,\n",
       "             max_delta_step=0, max_depth=6, max_leaves=0, min_child_weight=1,\n",
       "             missing=nan, monotone_constraints=&#x27;()&#x27;, n_estimators=10, n_jobs=0,\n",
       "             num_parallel_tree=1, objective=&#x27;reg:linear&#x27;, predictor=&#x27;auto&#x27;,\n",
       "             random_state=123, reg_alpha=0, ...)</pre></div></div></div></div></div>"
      ],
      "text/plain": [
       "XGBRegressor(base_score=0.5, booster='gbtree', callbacks=None,\n",
       "             colsample_bylevel=1, colsample_bynode=1, colsample_bytree=1,\n",
       "             early_stopping_rounds=None, enable_categorical=False,\n",
       "             eval_metric=None, gamma=0, gpu_id=-1, grow_policy='depthwise',\n",
       "             importance_type=None, interaction_constraints='',\n",
       "             learning_rate=0.300000012, max_bin=256, max_cat_to_onehot=4,\n",
       "             max_delta_step=0, max_depth=6, max_leaves=0, min_child_weight=1,\n",
       "             missing=nan, monotone_constraints='()', n_estimators=10, n_jobs=0,\n",
       "             num_parallel_tree=1, objective='reg:linear', predictor='auto',\n",
       "             random_state=123, reg_alpha=0, ...)"
      ]
     },
     "execution_count": 128,
     "metadata": {},
     "output_type": "execute_result"
    }
   ],
   "source": [
    "#fit the model\n",
    "xgb_model.fit(X_train, y_train)"
   ]
  },
  {
   "cell_type": "code",
   "execution_count": 129,
   "id": "82d1814f-1eaa-4331-af18-1aae78c56129",
   "metadata": {},
   "outputs": [],
   "source": [
    "#predict\n",
    "y_preds = xgb_model.predict(X_test)"
   ]
  },
  {
   "cell_type": "code",
   "execution_count": 130,
   "id": "b854df0f-2e71-431f-9676-3e49c1a44af5",
   "metadata": {},
   "outputs": [
    {
     "name": "stdout",
     "output_type": "stream",
     "text": [
      "RMSE :  1119.833815\n"
     ]
    }
   ],
   "source": [
    "#evaluate with RMSE\n",
    "rmse = np.sqrt(mean_squared_error(y_test, y_preds))\n",
    "print(\"RMSE : % f\" %(rmse))\n",
    "#10x lower!\n",
    "#I could probably get this even lower if I cut the data at 2 carats like I did with round, but this is ok for me"
   ]
  },
  {
   "cell_type": "code",
   "execution_count": 131,
   "id": "f40a2f28-2652-45de-894a-393e0f1082e1",
   "metadata": {},
   "outputs": [
    {
     "data": {
      "image/png": "[encoded data removed]",
      "text/plain": [
       "<Figure size 432x432 with 1 Axes>"
      ]
     },
     "metadata": {
      "needs_background": "light"
     },
     "output_type": "display_data"
    }
   ],
   "source": [
    "#plot the values\n",
    "plt.figure(figsize=(6,6))\n",
    "ax = sns.regplot(x = y_preds, \n",
    "                 y = y_test, \n",
    "                 scatter_kws={\"color\": \"black\"}, \n",
    "                 line_kws={\"color\": \"red\"})\n",
    "ax.set(xlabel='predicted values', ylabel='true values');\n",
    "#this one looks so much better"
   ]
  },
  {
   "cell_type": "code",
   "execution_count": 132,
   "id": "1d70a445-5412-4f58-8373-f461d001c9d4",
   "metadata": {},
   "outputs": [
    {
     "data": {
      "text/plain": [
       "0.95"
      ]
     },
     "execution_count": 132,
     "metadata": {},
     "output_type": "execute_result"
    }
   ],
   "source": [
    "#check r2\n",
    "r2 = metrics.r2_score(y_test, y_preds)\n",
    "round(r2, 2)\n",
    "#good now"
   ]
  },
  {
   "cell_type": "markdown",
   "id": "8981399c-c033-4557-89a1-048cdbc4f169",
   "metadata": {},
   "source": [
    "## Try to Optimize XG Boost More with Grid Search"
   ]
  },
  {
   "cell_type": "code",
   "execution_count": 133,
   "id": "f5fc1b4b-d574-4477-9158-0dc510a52d4a",
   "metadata": {},
   "outputs": [],
   "source": [
    "#got this from some googling - not sure what all of it means...\n",
    "xgb_gs = XGBRegressor()\n",
    "parameters = {'nthread':[4], #when using hyperthread, xgboost may become slower\n",
    "              'objective':['reg:linear'],\n",
    "              'learning_rate': [.03, 0.05, .07], #so called `eta` value\n",
    "              'max_depth': [5, 6, 7],\n",
    "              'min_child_weight': [4],\n",
    "              'silent': [1],\n",
    "              'subsample': [0.7],\n",
    "              'colsample_bytree': [0.7],\n",
    "              'n_estimators': [500]}"
   ]
  },
  {
   "cell_type": "code",
   "execution_count": 134,
   "id": "3c99dc7f-d82f-47b7-95b6-24b02b551e73",
   "metadata": {},
   "outputs": [],
   "source": [
    "xgb_grid = GridSearchCV(xgb_gs,\n",
    "                        parameters,\n",
    "                        cv = 2,\n",
    "                        n_jobs = 5,\n",
    "                        verbose=True)"
   ]
  },
  {
   "cell_type": "code",
   "execution_count": 135,
   "id": "babefa0a-e53b-428f-83d9-aa278171e264",
   "metadata": {
    "tags": []
   },
   "outputs": [
    {
     "name": "stdout",
     "output_type": "stream",
     "text": [
      "Fitting 2 folds for each of 9 candidates, totalling 18 fits\n",
      "[05:05:14] WARNING: /home/conda/feedstock_root/build_artifacts/xgboost-split_1665562802298/work/src/objective/regression_obj.cu:203: reg:linear is now deprecated in favor of reg:squarederror.\n",
      "[05:05:14] WARNING: /home/conda/feedstock_root/build_artifacts/xgboost-split_1665562802298/work/src/learner.cc:627: \n",
      "Parameters: { \"silent\" } might not be used.\n",
      "\n",
      "  This could be a false alarm, with some parameters getting used by language bindings but\n",
      "  then being mistakenly passed down to XGBoost core, or some parameter actually being used\n",
      "  but getting flagged wrongly here. Please open an issue if you find any such cases.\n",
      "\n",
      "\n",
      "[05:05:14] WARNING: /home/conda/feedstock_root/build_artifacts/xgboost-split_1665562802298/work/src/objective/regression_obj.cu:203: reg:linear is now deprecated in favor of reg:squarederror.\n",
      "[05:05:14] WARNING: /home/conda/feedstock_root/build_artifacts/xgboost-split_1665562802298/work/src/learner.cc:627: \n",
      "Parameters: { \"silent\" } might not be used.\n",
      "\n",
      "  This could be a false alarm, with some parameters getting used by language bindings but\n",
      "  then being mistakenly passed down to XGBoost core, or some parameter actually being used\n",
      "  but getting flagged wrongly here. Please open an issue if you find any such cases.\n",
      "\n",
      "\n",
      "[05:05:14] WARNING: /home/conda/feedstock_root/build_artifacts/xgboost-split_1665562802298/work/src/objective/regression_obj.cu:203: reg:linear is now deprecated in favor of reg:squarederror.\n",
      "[05:05:14] WARNING: /home/conda/feedstock_root/build_artifacts/xgboost-split_1665562802298/work/src/learner.cc:627: \n",
      "Parameters: { \"silent\" } might not be used.\n",
      "\n",
      "  This could be a false alarm, with some parameters getting used by language bindings but\n",
      "  then being mistakenly passed down to XGBoost core, or some parameter actually being used\n",
      "  but getting flagged wrongly here. Please open an issue if you find any such cases.\n",
      "\n",
      "\n",
      "[05:05:14] WARNING: /home/conda/feedstock_root/build_artifacts/xgboost-split_1665562802298/work/src/objective/regression_obj.cu:203: reg:linear is now deprecated in favor of reg:squarederror.\n",
      "[05:05:14] WARNING: /home/conda/feedstock_root/build_artifacts/xgboost-split_1665562802298/work/src/learner.cc:627: \n",
      "Parameters: { \"silent\" } might not be used.\n",
      "\n",
      "  This could be a false alarm, with some parameters getting used by language bindings but\n",
      "  then being mistakenly passed down to XGBoost core, or some parameter actually being used\n",
      "  but getting flagged wrongly here. Please open an issue if you find any such cases.\n",
      "\n",
      "\n",
      "[05:05:15] WARNING: /home/conda/feedstock_root/build_artifacts/xgboost-split_1665562802298/work/src/objective/regression_obj.cu:203: reg:linear is now deprecated in favor of reg:squarederror.\n",
      "[05:05:15] WARNING: /home/conda/feedstock_root/build_artifacts/xgboost-split_1665562802298/work/src/learner.cc:627: \n",
      "Parameters: { \"silent\" } might not be used.\n",
      "\n",
      "  This could be a false alarm, with some parameters getting used by language bindings but\n",
      "  then being mistakenly passed down to XGBoost core, or some parameter actually being used\n",
      "  but getting flagged wrongly here. Please open an issue if you find any such cases.\n",
      "\n",
      "\n",
      "[05:08:50] WARNING: /home/conda/feedstock_root/build_artifacts/xgboost-split_1665562802298/work/src/objective/regression_obj.cu:203: reg:linear is now deprecated in favor of reg:squarederror.\n",
      "[05:08:50] WARNING: /home/conda/feedstock_root/build_artifacts/xgboost-split_1665562802298/work/src/learner.cc:627: \n",
      "Parameters: { \"silent\" } might not be used.\n",
      "\n",
      "  This could be a false alarm, with some parameters getting used by language bindings but\n",
      "  then being mistakenly passed down to XGBoost core, or some parameter actually being used\n",
      "  but getting flagged wrongly here. Please open an issue if you find any such cases.\n",
      "\n",
      "\n",
      "[05:08:57] WARNING: /home/conda/feedstock_root/build_artifacts/xgboost-split_1665562802298/work/src/objective/regression_obj.cu:203: reg:linear is now deprecated in favor of reg:squarederror.\n",
      "[05:08:57] WARNING: /home/conda/feedstock_root/build_artifacts/xgboost-split_1665562802298/work/src/learner.cc:627: \n",
      "Parameters: { \"silent\" } might not be used.\n",
      "\n",
      "  This could be a false alarm, with some parameters getting used by language bindings but\n",
      "  then being mistakenly passed down to XGBoost core, or some parameter actually being used\n",
      "  but getting flagged wrongly here. Please open an issue if you find any such cases.\n",
      "\n",
      "\n",
      "[05:09:44] WARNING: /home/conda/feedstock_root/build_artifacts/xgboost-split_1665562802298/work/src/objective/regression_obj.cu:203: reg:linear is now deprecated in favor of reg:squarederror.\n",
      "[05:09:45] WARNING: /home/conda/feedstock_root/build_artifacts/xgboost-split_1665562802298/work/src/learner.cc:627: \n",
      "Parameters: { \"silent\" } might not be used.\n",
      "\n",
      "  This could be a false alarm, with some parameters getting used by language bindings but\n",
      "  then being mistakenly passed down to XGBoost core, or some parameter actually being used\n",
      "  but getting flagged wrongly here. Please open an issue if you find any such cases.\n",
      "\n",
      "\n",
      "[05:09:51] WARNING: /home/conda/feedstock_root/build_artifacts/xgboost-split_1665562802298/work/src/objective/regression_obj.cu:203: reg:linear is now deprecated in favor of reg:squarederror.\n",
      "[05:09:51] WARNING: /home/conda/feedstock_root/build_artifacts/xgboost-split_1665562802298/work/src/learner.cc:627: \n",
      "Parameters: { \"silent\" } might not be used.\n",
      "\n",
      "  This could be a false alarm, with some parameters getting used by language bindings but\n",
      "  then being mistakenly passed down to XGBoost core, or some parameter actually being used\n",
      "  but getting flagged wrongly here. Please open an issue if you find any such cases.\n",
      "\n",
      "\n",
      "[05:10:30] WARNING: /home/conda/feedstock_root/build_artifacts/xgboost-split_1665562802298/work/src/objective/regression_obj.cu:203: reg:linear is now deprecated in favor of reg:squarederror.\n",
      "[05:10:30] WARNING: /home/conda/feedstock_root/build_artifacts/xgboost-split_1665562802298/work/src/learner.cc:627: \n",
      "Parameters: { \"silent\" } might not be used.\n",
      "\n",
      "  This could be a false alarm, with some parameters getting used by language bindings but\n",
      "  then being mistakenly passed down to XGBoost core, or some parameter actually being used\n",
      "  but getting flagged wrongly here. Please open an issue if you find any such cases.\n",
      "\n",
      "\n",
      "[05:12:38] WARNING: /home/conda/feedstock_root/build_artifacts/xgboost-split_1665562802298/work/src/objective/regression_obj.cu:203: reg:linear is now deprecated in favor of reg:squarederror.\n",
      "[05:12:38] WARNING: /home/conda/feedstock_root/build_artifacts/xgboost-split_1665562802298/work/src/learner.cc:627: \n",
      "Parameters: { \"silent\" } might not be used.\n",
      "\n",
      "  This could be a false alarm, with some parameters getting used by language bindings but\n",
      "  then being mistakenly passed down to XGBoost core, or some parameter actually being used\n",
      "  but getting flagged wrongly here. Please open an issue if you find any such cases.\n",
      "\n",
      "\n",
      "[05:13:27] WARNING: /home/conda/feedstock_root/build_artifacts/xgboost-split_1665562802298/work/src/objective/regression_obj.cu:203: reg:linear is now deprecated in favor of reg:squarederror.\n",
      "[05:13:27] WARNING: /home/conda/feedstock_root/build_artifacts/xgboost-split_1665562802298/work/src/learner.cc:627: \n",
      "Parameters: { \"silent\" } might not be used.\n",
      "\n",
      "  This could be a false alarm, with some parameters getting used by language bindings but\n",
      "  then being mistakenly passed down to XGBoost core, or some parameter actually being used\n",
      "  but getting flagged wrongly here. Please open an issue if you find any such cases.\n",
      "\n",
      "\n",
      "[05:14:20] WARNING: /home/conda/feedstock_root/build_artifacts/xgboost-split_1665562802298/work/src/objective/regression_obj.cu:203: reg:linear is now deprecated in favor of reg:squarederror.\n",
      "[05:14:20] WARNING: /home/conda/feedstock_root/build_artifacts/xgboost-split_1665562802298/work/src/learner.cc:627: \n",
      "Parameters: { \"silent\" } might not be used.\n",
      "\n",
      "  This could be a false alarm, with some parameters getting used by language bindings but\n",
      "  then being mistakenly passed down to XGBoost core, or some parameter actually being used\n",
      "  but getting flagged wrongly here. Please open an issue if you find any such cases.\n",
      "\n",
      "\n",
      "[05:14:22] WARNING: /home/conda/feedstock_root/build_artifacts/xgboost-split_1665562802298/work/src/objective/regression_obj.cu:203: reg:linear is now deprecated in favor of reg:squarederror.\n",
      "[05:14:22] WARNING: /home/conda/feedstock_root/build_artifacts/xgboost-split_1665562802298/work/src/learner.cc:627: \n",
      "Parameters: { \"silent\" } might not be used.\n",
      "\n",
      "  This could be a false alarm, with some parameters getting used by language bindings but\n",
      "  then being mistakenly passed down to XGBoost core, or some parameter actually being used\n",
      "  but getting flagged wrongly here. Please open an issue if you find any such cases.\n",
      "\n",
      "\n",
      "[05:15:08] WARNING: /home/conda/feedstock_root/build_artifacts/xgboost-split_1665562802298/work/src/objective/regression_obj.cu:203: reg:linear is now deprecated in favor of reg:squarederror.\n",
      "[05:15:08] WARNING: /home/conda/feedstock_root/build_artifacts/xgboost-split_1665562802298/work/src/learner.cc:627: \n",
      "Parameters: { \"silent\" } might not be used.\n",
      "\n",
      "  This could be a false alarm, with some parameters getting used by language bindings but\n",
      "  then being mistakenly passed down to XGBoost core, or some parameter actually being used\n",
      "  but getting flagged wrongly here. Please open an issue if you find any such cases.\n",
      "\n",
      "\n",
      "[05:17:50] WARNING: /home/conda/feedstock_root/build_artifacts/xgboost-split_1665562802298/work/src/objective/regression_obj.cu:203: reg:linear is now deprecated in favor of reg:squarederror.\n",
      "[05:17:50] WARNING: /home/conda/feedstock_root/build_artifacts/xgboost-split_1665562802298/work/src/learner.cc:627: \n",
      "Parameters: { \"silent\" } might not be used.\n",
      "\n",
      "  This could be a false alarm, with some parameters getting used by language bindings but\n",
      "  then being mistakenly passed down to XGBoost core, or some parameter actually being used\n",
      "  but getting flagged wrongly here. Please open an issue if you find any such cases.\n",
      "\n",
      "\n",
      "[05:18:00] WARNING: /home/conda/feedstock_root/build_artifacts/xgboost-split_1665562802298/work/src/objective/regression_obj.cu:203: reg:linear is now deprecated in favor of reg:squarederror.\n",
      "[05:18:00] WARNING: /home/conda/feedstock_root/build_artifacts/xgboost-split_1665562802298/work/src/learner.cc:627: \n",
      "Parameters: { \"silent\" } might not be used.\n",
      "\n",
      "  This could be a false alarm, with some parameters getting used by language bindings but\n",
      "  then being mistakenly passed down to XGBoost core, or some parameter actually being used\n",
      "  but getting flagged wrongly here. Please open an issue if you find any such cases.\n",
      "\n",
      "\n",
      "[05:18:06] WARNING: /home/conda/feedstock_root/build_artifacts/xgboost-split_1665562802298/work/src/objective/regression_obj.cu:203: reg:linear is now deprecated in favor of reg:squarederror.\n",
      "[05:18:06] WARNING: /home/conda/feedstock_root/build_artifacts/xgboost-split_1665562802298/work/src/learner.cc:627: \n",
      "Parameters: { \"silent\" } might not be used.\n",
      "\n",
      "  This could be a false alarm, with some parameters getting used by language bindings but\n",
      "  then being mistakenly passed down to XGBoost core, or some parameter actually being used\n",
      "  but getting flagged wrongly here. Please open an issue if you find any such cases.\n",
      "\n",
      "\n",
      "[05:20:04] WARNING: /home/conda/feedstock_root/build_artifacts/xgboost-split_1665562802298/work/src/objective/regression_obj.cu:203: reg:linear is now deprecated in favor of reg:squarederror.\n",
      "[05:20:04] WARNING: /home/conda/feedstock_root/build_artifacts/xgboost-split_1665562802298/work/src/learner.cc:627: \n",
      "Parameters: { \"silent\" } might not be used.\n",
      "\n",
      "  This could be a false alarm, with some parameters getting used by language bindings but\n",
      "  then being mistakenly passed down to XGBoost core, or some parameter actually being used\n",
      "  but getting flagged wrongly here. Please open an issue if you find any such cases.\n",
      "\n",
      "\n"
     ]
    },
    {
     "data": {
      "text/html": [
       "<style>#sk-container-id-4 {color: black;background-color: white;}#sk-container-id-4 pre{padding: 0;}#sk-container-id-4 div.sk-toggleable {background-color: white;}#sk-container-id-4 label.sk-toggleable__label {cursor: pointer;display: block;width: 100%;margin-bottom: 0;padding: 0.3em;box-sizing: border-box;text-align: center;}#sk-container-id-4 label.sk-toggleable__label-arrow:before {content: \"▸\";float: left;margin-right: 0.25em;color: #696969;}#sk-container-id-4 label.sk-toggleable__label-arrow:hover:before {color: black;}#sk-container-id-4 div.sk-estimator:hover label.sk-toggleable__label-arrow:before {color: black;}#sk-container-id-4 div.sk-toggleable__content {max-height: 0;max-width: 0;overflow: hidden;text-align: left;background-color: #f0f8ff;}#sk-container-id-4 div.sk-toggleable__content pre {margin: 0.2em;color: black;border-radius: 0.25em;background-color: #f0f8ff;}#sk-container-id-4 input.sk-toggleable__control:checked~div.sk-toggleable__content {max-height: 200px;max-width: 100%;overflow: auto;}#sk-container-id-4 input.sk-toggleable__control:checked~label.sk-toggleable__label-arrow:before {content: \"▾\";}#sk-container-id-4 div.sk-estimator input.sk-toggleable__control:checked~label.sk-toggleable__label {background-color: #d4ebff;}#sk-container-id-4 div.sk-label input.sk-toggleable__control:checked~label.sk-toggleable__label {background-color: #d4ebff;}#sk-container-id-4 input.sk-hidden--visually {border: 0;clip: rect(1px 1px 1px 1px);clip: rect(1px, 1px, 1px, 1px);height: 1px;margin: -1px;overflow: hidden;padding: 0;position: absolute;width: 1px;}#sk-container-id-4 div.sk-estimator {font-family: monospace;background-color: #f0f8ff;border: 1px dotted black;border-radius: 0.25em;box-sizing: border-box;margin-bottom: 0.5em;}#sk-container-id-4 div.sk-estimator:hover {background-color: #d4ebff;}#sk-container-id-4 div.sk-parallel-item::after {content: \"\";width: 100%;border-bottom: 1px solid gray;flex-grow: 1;}#sk-container-id-4 div.sk-label:hover label.sk-toggleable__label {background-color: #d4ebff;}#sk-container-id-4 div.sk-serial::before {content: \"\";position: absolute;border-left: 1px solid gray;box-sizing: border-box;top: 0;bottom: 0;left: 50%;z-index: 0;}#sk-container-id-4 div.sk-serial {display: flex;flex-direction: column;align-items: center;background-color: white;padding-right: 0.2em;padding-left: 0.2em;position: relative;}#sk-container-id-4 div.sk-item {position: relative;z-index: 1;}#sk-container-id-4 div.sk-parallel {display: flex;align-items: stretch;justify-content: center;background-color: white;position: relative;}#sk-container-id-4 div.sk-item::before, #sk-container-id-4 div.sk-parallel-item::before {content: \"\";position: absolute;border-left: 1px solid gray;box-sizing: border-box;top: 0;bottom: 0;left: 50%;z-index: -1;}#sk-container-id-4 div.sk-parallel-item {display: flex;flex-direction: column;z-index: 1;position: relative;background-color: white;}#sk-container-id-4 div.sk-parallel-item:first-child::after {align-self: flex-end;width: 50%;}#sk-container-id-4 div.sk-parallel-item:last-child::after {align-self: flex-start;width: 50%;}#sk-container-id-4 div.sk-parallel-item:only-child::after {width: 0;}#sk-container-id-4 div.sk-dashed-wrapped {border: 1px dashed gray;margin: 0 0.4em 0.5em 0.4em;box-sizing: border-box;padding-bottom: 0.4em;background-color: white;}#sk-container-id-4 div.sk-label label {font-family: monospace;font-weight: bold;display: inline-block;line-height: 1.2em;}#sk-container-id-4 div.sk-label-container {text-align: center;}#sk-container-id-4 div.sk-container {/* jupyter's `normalize.less` sets `[hidden] { display: none; }` but bootstrap.min.css set `[hidden] { display: none !important; }` so we also need the `!important` here to be able to override the default hidden behavior on the sphinx rendered scikit-learn.org. See: https://github.com/scikit-learn/scikit-learn/issues/21755 */display: inline-block !important;position: relative;}#sk-container-id-4 div.sk-text-repr-fallback {display: none;}</style><div id=\"sk-container-id-4\" class=\"sk-top-container\"><div class=\"sk-text-repr-fallback\"><pre>GridSearchCV(cv=2,\n",
       "             estimator=XGBRegressor(base_score=None, booster=None,\n",
       "                                    callbacks=None, colsample_bylevel=None,\n",
       "                                    colsample_bynode=None,\n",
       "                                    colsample_bytree=None,\n",
       "                                    early_stopping_rounds=None,\n",
       "                                    enable_categorical=False, eval_metric=None,\n",
       "                                    gamma=None, gpu_id=None, grow_policy=None,\n",
       "                                    importance_type=None,\n",
       "                                    interaction_constraints=None,\n",
       "                                    learning_rate=None, max_bin=None,\n",
       "                                    max_cat...\n",
       "                                    monotone_constraints=None, n_estimators=100,\n",
       "                                    n_jobs=None, num_parallel_tree=None,\n",
       "                                    predictor=None, random_state=None,\n",
       "                                    reg_alpha=None, reg_lambda=None, ...),\n",
       "             n_jobs=5,\n",
       "             param_grid={&#x27;colsample_bytree&#x27;: [0.7],\n",
       "                         &#x27;learning_rate&#x27;: [0.03, 0.05, 0.07],\n",
       "                         &#x27;max_depth&#x27;: [5, 6, 7], &#x27;min_child_weight&#x27;: [4],\n",
       "                         &#x27;n_estimators&#x27;: [500], &#x27;nthread&#x27;: [4],\n",
       "                         &#x27;objective&#x27;: [&#x27;reg:linear&#x27;], &#x27;silent&#x27;: [1],\n",
       "                         &#x27;subsample&#x27;: [0.7]},\n",
       "             verbose=True)</pre><b>In a Jupyter environment, please rerun this cell to show the HTML representation or trust the notebook. <br />On GitHub, the HTML representation is unable to render, please try loading this page with nbviewer.org.</b></div><div class=\"sk-container\" hidden><div class=\"sk-item sk-dashed-wrapped\"><div class=\"sk-label-container\"><div class=\"sk-label sk-toggleable\"><input class=\"sk-toggleable__control sk-hidden--visually\" id=\"sk-estimator-id-4\" type=\"checkbox\" ><label for=\"sk-estimator-id-4\" class=\"sk-toggleable__label sk-toggleable__label-arrow\">GridSearchCV</label><div class=\"sk-toggleable__content\"><pre>GridSearchCV(cv=2,\n",
       "             estimator=XGBRegressor(base_score=None, booster=None,\n",
       "                                    callbacks=None, colsample_bylevel=None,\n",
       "                                    colsample_bynode=None,\n",
       "                                    colsample_bytree=None,\n",
       "                                    early_stopping_rounds=None,\n",
       "                                    enable_categorical=False, eval_metric=None,\n",
       "                                    gamma=None, gpu_id=None, grow_policy=None,\n",
       "                                    importance_type=None,\n",
       "                                    interaction_constraints=None,\n",
       "                                    learning_rate=None, max_bin=None,\n",
       "                                    max_cat...\n",
       "                                    monotone_constraints=None, n_estimators=100,\n",
       "                                    n_jobs=None, num_parallel_tree=None,\n",
       "                                    predictor=None, random_state=None,\n",
       "                                    reg_alpha=None, reg_lambda=None, ...),\n",
       "             n_jobs=5,\n",
       "             param_grid={&#x27;colsample_bytree&#x27;: [0.7],\n",
       "                         &#x27;learning_rate&#x27;: [0.03, 0.05, 0.07],\n",
       "                         &#x27;max_depth&#x27;: [5, 6, 7], &#x27;min_child_weight&#x27;: [4],\n",
       "                         &#x27;n_estimators&#x27;: [500], &#x27;nthread&#x27;: [4],\n",
       "                         &#x27;objective&#x27;: [&#x27;reg:linear&#x27;], &#x27;silent&#x27;: [1],\n",
       "                         &#x27;subsample&#x27;: [0.7]},\n",
       "             verbose=True)</pre></div></div></div><div class=\"sk-parallel\"><div class=\"sk-parallel-item\"><div class=\"sk-item\"><div class=\"sk-label-container\"><div class=\"sk-label sk-toggleable\"><input class=\"sk-toggleable__control sk-hidden--visually\" id=\"sk-estimator-id-5\" type=\"checkbox\" ><label for=\"sk-estimator-id-5\" class=\"sk-toggleable__label sk-toggleable__label-arrow\">estimator: XGBRegressor</label><div class=\"sk-toggleable__content\"><pre>XGBRegressor(base_score=None, booster=None, callbacks=None,\n",
       "             colsample_bylevel=None, colsample_bynode=None,\n",
       "             colsample_bytree=None, early_stopping_rounds=None,\n",
       "             enable_categorical=False, eval_metric=None, gamma=None,\n",
       "             gpu_id=None, grow_policy=None, importance_type=None,\n",
       "             interaction_constraints=None, learning_rate=None, max_bin=None,\n",
       "             max_cat_to_onehot=None, max_delta_step=None, max_depth=None,\n",
       "             max_leaves=None, min_child_weight=None, missing=nan,\n",
       "             monotone_constraints=None, n_estimators=100, n_jobs=None,\n",
       "             num_parallel_tree=None, predictor=None, random_state=None,\n",
       "             reg_alpha=None, reg_lambda=None, ...)</pre></div></div></div><div class=\"sk-serial\"><div class=\"sk-item\"><div class=\"sk-estimator sk-toggleable\"><input class=\"sk-toggleable__control sk-hidden--visually\" id=\"sk-estimator-id-6\" type=\"checkbox\" ><label for=\"sk-estimator-id-6\" class=\"sk-toggleable__label sk-toggleable__label-arrow\">XGBRegressor</label><div class=\"sk-toggleable__content\"><pre>XGBRegressor(base_score=None, booster=None, callbacks=None,\n",
       "             colsample_bylevel=None, colsample_bynode=None,\n",
       "             colsample_bytree=None, early_stopping_rounds=None,\n",
       "             enable_categorical=False, eval_metric=None, gamma=None,\n",
       "             gpu_id=None, grow_policy=None, importance_type=None,\n",
       "             interaction_constraints=None, learning_rate=None, max_bin=None,\n",
       "             max_cat_to_onehot=None, max_delta_step=None, max_depth=None,\n",
       "             max_leaves=None, min_child_weight=None, missing=nan,\n",
       "             monotone_constraints=None, n_estimators=100, n_jobs=None,\n",
       "             num_parallel_tree=None, predictor=None, random_state=None,\n",
       "             reg_alpha=None, reg_lambda=None, ...)</pre></div></div></div></div></div></div></div></div></div></div>"
      ],
      "text/plain": [
       "GridSearchCV(cv=2,\n",
       "             estimator=XGBRegressor(base_score=None, booster=None,\n",
       "                                    callbacks=None, colsample_bylevel=None,\n",
       "                                    colsample_bynode=None,\n",
       "                                    colsample_bytree=None,\n",
       "                                    early_stopping_rounds=None,\n",
       "                                    enable_categorical=False, eval_metric=None,\n",
       "                                    gamma=None, gpu_id=None, grow_policy=None,\n",
       "                                    importance_type=None,\n",
       "                                    interaction_constraints=None,\n",
       "                                    learning_rate=None, max_bin=None,\n",
       "                                    max_cat...\n",
       "                                    monotone_constraints=None, n_estimators=100,\n",
       "                                    n_jobs=None, num_parallel_tree=None,\n",
       "                                    predictor=None, random_state=None,\n",
       "                                    reg_alpha=None, reg_lambda=None, ...),\n",
       "             n_jobs=5,\n",
       "             param_grid={'colsample_bytree': [0.7],\n",
       "                         'learning_rate': [0.03, 0.05, 0.07],\n",
       "                         'max_depth': [5, 6, 7], 'min_child_weight': [4],\n",
       "                         'n_estimators': [500], 'nthread': [4],\n",
       "                         'objective': ['reg:linear'], 'silent': [1],\n",
       "                         'subsample': [0.7]},\n",
       "             verbose=True)"
      ]
     },
     "execution_count": 135,
     "metadata": {},
     "output_type": "execute_result"
    }
   ],
   "source": [
    "xgb_grid.fit(X_train,\n",
    "        y_train)"
   ]
  },
  {
   "cell_type": "code",
   "execution_count": 136,
   "id": "71ff2463-db62-428b-9efc-eadeb2ca75fc",
   "metadata": {},
   "outputs": [
    {
     "name": "stdout",
     "output_type": "stream",
     "text": [
      "0.9540301133752954\n",
      "{'colsample_bytree': 0.7, 'learning_rate': 0.03, 'max_depth': 5, 'min_child_weight': 4, 'n_estimators': 500, 'nthread': 4, 'objective': 'reg:linear', 'silent': 1, 'subsample': 0.7}\n"
     ]
    }
   ],
   "source": [
    "print(xgb_grid.best_score_)\n",
    "print(xgb_grid.best_params_)"
   ]
  },
  {
   "cell_type": "code",
   "execution_count": 137,
   "id": "c35f8765-2e3d-4d66-9009-50fb8e68cf1a",
   "metadata": {},
   "outputs": [],
   "source": [
    "#new model with grid search parameters\n",
    "xgb_model = XGBRegressor(colsample_bytree= 0.7, \n",
    "                         learning_rate= 0.03, \n",
    "                         max_depth= 5, \n",
    "                         min_child_weight= 4,\n",
    "                         n_estimators= 500,\n",
    "                         nthread= 4, \n",
    "                         objective= 'reg:linear', \n",
    "                         silent= 1,\n",
    "                         subsample= 0.7)"
   ]
  },
  {
   "cell_type": "code",
   "execution_count": 138,
   "id": "ea2737f8-bfea-4f45-872d-3bf2d74b681b",
   "metadata": {},
   "outputs": [
    {
     "name": "stdout",
     "output_type": "stream",
     "text": [
      "[05:20:41] WARNING: /home/conda/feedstock_root/build_artifacts/xgboost-split_1665562802298/work/src/objective/regression_obj.cu:203: reg:linear is now deprecated in favor of reg:squarederror.\n",
      "[05:20:41] WARNING: /home/conda/feedstock_root/build_artifacts/xgboost-split_1665562802298/work/src/learner.cc:627: \n",
      "Parameters: { \"silent\" } might not be used.\n",
      "\n",
      "  This could be a false alarm, with some parameters getting used by language bindings but\n",
      "  then being mistakenly passed down to XGBoost core, or some parameter actually being used\n",
      "  but getting flagged wrongly here. Please open an issue if you find any such cases.\n",
      "\n",
      "\n"
     ]
    },
    {
     "data": {
      "text/html": [
       "<style>#sk-container-id-5 {color: black;background-color: white;}#sk-container-id-5 pre{padding: 0;}#sk-container-id-5 div.sk-toggleable {background-color: white;}#sk-container-id-5 label.sk-toggleable__label {cursor: pointer;display: block;width: 100%;margin-bottom: 0;padding: 0.3em;box-sizing: border-box;text-align: center;}#sk-container-id-5 label.sk-toggleable__label-arrow:before {content: \"▸\";float: left;margin-right: 0.25em;color: #696969;}#sk-container-id-5 label.sk-toggleable__label-arrow:hover:before {color: black;}#sk-container-id-5 div.sk-estimator:hover label.sk-toggleable__label-arrow:before {color: black;}#sk-container-id-5 div.sk-toggleable__content {max-height: 0;max-width: 0;overflow: hidden;text-align: left;background-color: #f0f8ff;}#sk-container-id-5 div.sk-toggleable__content pre {margin: 0.2em;color: black;border-radius: 0.25em;background-color: #f0f8ff;}#sk-container-id-5 input.sk-toggleable__control:checked~div.sk-toggleable__content {max-height: 200px;max-width: 100%;overflow: auto;}#sk-container-id-5 input.sk-toggleable__control:checked~label.sk-toggleable__label-arrow:before {content: \"▾\";}#sk-container-id-5 div.sk-estimator input.sk-toggleable__control:checked~label.sk-toggleable__label {background-color: #d4ebff;}#sk-container-id-5 div.sk-label input.sk-toggleable__control:checked~label.sk-toggleable__label {background-color: #d4ebff;}#sk-container-id-5 input.sk-hidden--visually {border: 0;clip: rect(1px 1px 1px 1px);clip: rect(1px, 1px, 1px, 1px);height: 1px;margin: -1px;overflow: hidden;padding: 0;position: absolute;width: 1px;}#sk-container-id-5 div.sk-estimator {font-family: monospace;background-color: #f0f8ff;border: 1px dotted black;border-radius: 0.25em;box-sizing: border-box;margin-bottom: 0.5em;}#sk-container-id-5 div.sk-estimator:hover {background-color: #d4ebff;}#sk-container-id-5 div.sk-parallel-item::after {content: \"\";width: 100%;border-bottom: 1px solid gray;flex-grow: 1;}#sk-container-id-5 div.sk-label:hover label.sk-toggleable__label {background-color: #d4ebff;}#sk-container-id-5 div.sk-serial::before {content: \"\";position: absolute;border-left: 1px solid gray;box-sizing: border-box;top: 0;bottom: 0;left: 50%;z-index: 0;}#sk-container-id-5 div.sk-serial {display: flex;flex-direction: column;align-items: center;background-color: white;padding-right: 0.2em;padding-left: 0.2em;position: relative;}#sk-container-id-5 div.sk-item {position: relative;z-index: 1;}#sk-container-id-5 div.sk-parallel {display: flex;align-items: stretch;justify-content: center;background-color: white;position: relative;}#sk-container-id-5 div.sk-item::before, #sk-container-id-5 div.sk-parallel-item::before {content: \"\";position: absolute;border-left: 1px solid gray;box-sizing: border-box;top: 0;bottom: 0;left: 50%;z-index: -1;}#sk-container-id-5 div.sk-parallel-item {display: flex;flex-direction: column;z-index: 1;position: relative;background-color: white;}#sk-container-id-5 div.sk-parallel-item:first-child::after {align-self: flex-end;width: 50%;}#sk-container-id-5 div.sk-parallel-item:last-child::after {align-self: flex-start;width: 50%;}#sk-container-id-5 div.sk-parallel-item:only-child::after {width: 0;}#sk-container-id-5 div.sk-dashed-wrapped {border: 1px dashed gray;margin: 0 0.4em 0.5em 0.4em;box-sizing: border-box;padding-bottom: 0.4em;background-color: white;}#sk-container-id-5 div.sk-label label {font-family: monospace;font-weight: bold;display: inline-block;line-height: 1.2em;}#sk-container-id-5 div.sk-label-container {text-align: center;}#sk-container-id-5 div.sk-container {/* jupyter's `normalize.less` sets `[hidden] { display: none; }` but bootstrap.min.css set `[hidden] { display: none !important; }` so we also need the `!important` here to be able to override the default hidden behavior on the sphinx rendered scikit-learn.org. See: https://github.com/scikit-learn/scikit-learn/issues/21755 */display: inline-block !important;position: relative;}#sk-container-id-5 div.sk-text-repr-fallback {display: none;}</style><div id=\"sk-container-id-5\" class=\"sk-top-container\"><div class=\"sk-text-repr-fallback\"><pre>XGBRegressor(base_score=0.5, booster=&#x27;gbtree&#x27;, callbacks=None,\n",
       "             colsample_bylevel=1, colsample_bynode=1, colsample_bytree=0.7,\n",
       "             early_stopping_rounds=None, enable_categorical=False,\n",
       "             eval_metric=None, gamma=0, gpu_id=-1, grow_policy=&#x27;depthwise&#x27;,\n",
       "             importance_type=None, interaction_constraints=&#x27;&#x27;,\n",
       "             learning_rate=0.03, max_bin=256, max_cat_to_onehot=4,\n",
       "             max_delta_step=0, max_depth=5, max_leaves=0, min_child_weight=4,\n",
       "             missing=nan, monotone_constraints=&#x27;()&#x27;, n_estimators=500, n_jobs=4,\n",
       "             nthread=4, num_parallel_tree=1, objective=&#x27;reg:linear&#x27;,\n",
       "             predictor=&#x27;auto&#x27;, random_state=0, ...)</pre><b>In a Jupyter environment, please rerun this cell to show the HTML representation or trust the notebook. <br />On GitHub, the HTML representation is unable to render, please try loading this page with nbviewer.org.</b></div><div class=\"sk-container\" hidden><div class=\"sk-item\"><div class=\"sk-estimator sk-toggleable\"><input class=\"sk-toggleable__control sk-hidden--visually\" id=\"sk-estimator-id-7\" type=\"checkbox\" checked><label for=\"sk-estimator-id-7\" class=\"sk-toggleable__label sk-toggleable__label-arrow\">XGBRegressor</label><div class=\"sk-toggleable__content\"><pre>XGBRegressor(base_score=0.5, booster=&#x27;gbtree&#x27;, callbacks=None,\n",
       "             colsample_bylevel=1, colsample_bynode=1, colsample_bytree=0.7,\n",
       "             early_stopping_rounds=None, enable_categorical=False,\n",
       "             eval_metric=None, gamma=0, gpu_id=-1, grow_policy=&#x27;depthwise&#x27;,\n",
       "             importance_type=None, interaction_constraints=&#x27;&#x27;,\n",
       "             learning_rate=0.03, max_bin=256, max_cat_to_onehot=4,\n",
       "             max_delta_step=0, max_depth=5, max_leaves=0, min_child_weight=4,\n",
       "             missing=nan, monotone_constraints=&#x27;()&#x27;, n_estimators=500, n_jobs=4,\n",
       "             nthread=4, num_parallel_tree=1, objective=&#x27;reg:linear&#x27;,\n",
       "             predictor=&#x27;auto&#x27;, random_state=0, ...)</pre></div></div></div></div></div>"
      ],
      "text/plain": [
       "XGBRegressor(base_score=0.5, booster='gbtree', callbacks=None,\n",
       "             colsample_bylevel=1, colsample_bynode=1, colsample_bytree=0.7,\n",
       "             early_stopping_rounds=None, enable_categorical=False,\n",
       "             eval_metric=None, gamma=0, gpu_id=-1, grow_policy='depthwise',\n",
       "             importance_type=None, interaction_constraints='',\n",
       "             learning_rate=0.03, max_bin=256, max_cat_to_onehot=4,\n",
       "             max_delta_step=0, max_depth=5, max_leaves=0, min_child_weight=4,\n",
       "             missing=nan, monotone_constraints='()', n_estimators=500, n_jobs=4,\n",
       "             nthread=4, num_parallel_tree=1, objective='reg:linear',\n",
       "             predictor='auto', random_state=0, ...)"
      ]
     },
     "execution_count": 138,
     "metadata": {},
     "output_type": "execute_result"
    }
   ],
   "source": [
    "#fit the model\n",
    "xgb_model.fit(X_train, y_train)"
   ]
  },
  {
   "cell_type": "code",
   "execution_count": 140,
   "id": "38ae4478-6905-4ca4-9c1f-e4d6f12a71ef",
   "metadata": {},
   "outputs": [],
   "source": [
    "#predict\n",
    "y_preds = xgb_model.predict(X_test)"
   ]
  },
  {
   "cell_type": "code",
   "execution_count": 141,
   "id": "e051f623-d393-4366-b47f-f2e7daaf94ae",
   "metadata": {},
   "outputs": [
    {
     "name": "stdout",
     "output_type": "stream",
     "text": [
      "RMSE :  1075.244015\n"
     ]
    }
   ],
   "source": [
    "#evaluate with RMSE\n",
    "rmse = np.sqrt(mean_squared_error(y_test, y_preds))\n",
    "print(\"RMSE : % f\" %(rmse))\n",
    "#a little lower"
   ]
  },
  {
   "cell_type": "code",
   "execution_count": 142,
   "id": "0fe022e0-4344-4e01-ac6f-ed2f593a5031",
   "metadata": {},
   "outputs": [
    {
     "data": {
      "text/plain": [
       "0.95"
      ]
     },
     "execution_count": 142,
     "metadata": {},
     "output_type": "execute_result"
    }
   ],
   "source": [
    "#check r2\n",
    "r2 = metrics.r2_score(y_test, y_preds)\n",
    "round(r2, 2)\n",
    "#same r2"
   ]
  },
  {
   "cell_type": "code",
   "execution_count": 143,
   "id": "9010b820-8363-40c4-b6fe-f2e1204e81ee",
   "metadata": {},
   "outputs": [],
   "source": [
    "#try with the reg:squarederror instead?\n",
    "#new model with grid search parameters but using squarederror\n",
    "xgb_model = XGBRegressor(colsample_bytree= 0.7, \n",
    "                         learning_rate= 0.03, \n",
    "                         max_depth= 5, \n",
    "                         min_child_weight= 4,\n",
    "                         n_estimators= 500,\n",
    "                         nthread= 4, \n",
    "                         objective= 'reg:squarederror', \n",
    "                         silent= 1,\n",
    "                         subsample= 0.7)"
   ]
  },
  {
   "cell_type": "code",
   "execution_count": 144,
   "id": "59fe241d-560f-434e-9370-fdaf221eff76",
   "metadata": {},
   "outputs": [
    {
     "name": "stdout",
     "output_type": "stream",
     "text": [
      "[05:22:38] WARNING: /home/conda/feedstock_root/build_artifacts/xgboost-split_1665562802298/work/src/learner.cc:627: \n",
      "Parameters: { \"silent\" } might not be used.\n",
      "\n",
      "  This could be a false alarm, with some parameters getting used by language bindings but\n",
      "  then being mistakenly passed down to XGBoost core, or some parameter actually being used\n",
      "  but getting flagged wrongly here. Please open an issue if you find any such cases.\n",
      "\n",
      "\n"
     ]
    },
    {
     "data": {
      "text/html": [
       "<style>#sk-container-id-6 {color: black;background-color: white;}#sk-container-id-6 pre{padding: 0;}#sk-container-id-6 div.sk-toggleable {background-color: white;}#sk-container-id-6 label.sk-toggleable__label {cursor: pointer;display: block;width: 100%;margin-bottom: 0;padding: 0.3em;box-sizing: border-box;text-align: center;}#sk-container-id-6 label.sk-toggleable__label-arrow:before {content: \"▸\";float: left;margin-right: 0.25em;color: #696969;}#sk-container-id-6 label.sk-toggleable__label-arrow:hover:before {color: black;}#sk-container-id-6 div.sk-estimator:hover label.sk-toggleable__label-arrow:before {color: black;}#sk-container-id-6 div.sk-toggleable__content {max-height: 0;max-width: 0;overflow: hidden;text-align: left;background-color: #f0f8ff;}#sk-container-id-6 div.sk-toggleable__content pre {margin: 0.2em;color: black;border-radius: 0.25em;background-color: #f0f8ff;}#sk-container-id-6 input.sk-toggleable__control:checked~div.sk-toggleable__content {max-height: 200px;max-width: 100%;overflow: auto;}#sk-container-id-6 input.sk-toggleable__control:checked~label.sk-toggleable__label-arrow:before {content: \"▾\";}#sk-container-id-6 div.sk-estimator input.sk-toggleable__control:checked~label.sk-toggleable__label {background-color: #d4ebff;}#sk-container-id-6 div.sk-label input.sk-toggleable__control:checked~label.sk-toggleable__label {background-color: #d4ebff;}#sk-container-id-6 input.sk-hidden--visually {border: 0;clip: rect(1px 1px 1px 1px);clip: rect(1px, 1px, 1px, 1px);height: 1px;margin: -1px;overflow: hidden;padding: 0;position: absolute;width: 1px;}#sk-container-id-6 div.sk-estimator {font-family: monospace;background-color: #f0f8ff;border: 1px dotted black;border-radius: 0.25em;box-sizing: border-box;margin-bottom: 0.5em;}#sk-container-id-6 div.sk-estimator:hover {background-color: #d4ebff;}#sk-container-id-6 div.sk-parallel-item::after {content: \"\";width: 100%;border-bottom: 1px solid gray;flex-grow: 1;}#sk-container-id-6 div.sk-label:hover label.sk-toggleable__label {background-color: #d4ebff;}#sk-container-id-6 div.sk-serial::before {content: \"\";position: absolute;border-left: 1px solid gray;box-sizing: border-box;top: 0;bottom: 0;left: 50%;z-index: 0;}#sk-container-id-6 div.sk-serial {display: flex;flex-direction: column;align-items: center;background-color: white;padding-right: 0.2em;padding-left: 0.2em;position: relative;}#sk-container-id-6 div.sk-item {position: relative;z-index: 1;}#sk-container-id-6 div.sk-parallel {display: flex;align-items: stretch;justify-content: center;background-color: white;position: relative;}#sk-container-id-6 div.sk-item::before, #sk-container-id-6 div.sk-parallel-item::before {content: \"\";position: absolute;border-left: 1px solid gray;box-sizing: border-box;top: 0;bottom: 0;left: 50%;z-index: -1;}#sk-container-id-6 div.sk-parallel-item {display: flex;flex-direction: column;z-index: 1;position: relative;background-color: white;}#sk-container-id-6 div.sk-parallel-item:first-child::after {align-self: flex-end;width: 50%;}#sk-container-id-6 div.sk-parallel-item:last-child::after {align-self: flex-start;width: 50%;}#sk-container-id-6 div.sk-parallel-item:only-child::after {width: 0;}#sk-container-id-6 div.sk-dashed-wrapped {border: 1px dashed gray;margin: 0 0.4em 0.5em 0.4em;box-sizing: border-box;padding-bottom: 0.4em;background-color: white;}#sk-container-id-6 div.sk-label label {font-family: monospace;font-weight: bold;display: inline-block;line-height: 1.2em;}#sk-container-id-6 div.sk-label-container {text-align: center;}#sk-container-id-6 div.sk-container {/* jupyter's `normalize.less` sets `[hidden] { display: none; }` but bootstrap.min.css set `[hidden] { display: none !important; }` so we also need the `!important` here to be able to override the default hidden behavior on the sphinx rendered scikit-learn.org. See: https://github.com/scikit-learn/scikit-learn/issues/21755 */display: inline-block !important;position: relative;}#sk-container-id-6 div.sk-text-repr-fallback {display: none;}</style><div id=\"sk-container-id-6\" class=\"sk-top-container\"><div class=\"sk-text-repr-fallback\"><pre>XGBRegressor(base_score=0.5, booster=&#x27;gbtree&#x27;, callbacks=None,\n",
       "             colsample_bylevel=1, colsample_bynode=1, colsample_bytree=0.7,\n",
       "             early_stopping_rounds=None, enable_categorical=False,\n",
       "             eval_metric=None, gamma=0, gpu_id=-1, grow_policy=&#x27;depthwise&#x27;,\n",
       "             importance_type=None, interaction_constraints=&#x27;&#x27;,\n",
       "             learning_rate=0.03, max_bin=256, max_cat_to_onehot=4,\n",
       "             max_delta_step=0, max_depth=5, max_leaves=0, min_child_weight=4,\n",
       "             missing=nan, monotone_constraints=&#x27;()&#x27;, n_estimators=500, n_jobs=4,\n",
       "             nthread=4, num_parallel_tree=1, predictor=&#x27;auto&#x27;, random_state=0,\n",
       "             reg_alpha=0, ...)</pre><b>In a Jupyter environment, please rerun this cell to show the HTML representation or trust the notebook. <br />On GitHub, the HTML representation is unable to render, please try loading this page with nbviewer.org.</b></div><div class=\"sk-container\" hidden><div class=\"sk-item\"><div class=\"sk-estimator sk-toggleable\"><input class=\"sk-toggleable__control sk-hidden--visually\" id=\"sk-estimator-id-8\" type=\"checkbox\" checked><label for=\"sk-estimator-id-8\" class=\"sk-toggleable__label sk-toggleable__label-arrow\">XGBRegressor</label><div class=\"sk-toggleable__content\"><pre>XGBRegressor(base_score=0.5, booster=&#x27;gbtree&#x27;, callbacks=None,\n",
       "             colsample_bylevel=1, colsample_bynode=1, colsample_bytree=0.7,\n",
       "             early_stopping_rounds=None, enable_categorical=False,\n",
       "             eval_metric=None, gamma=0, gpu_id=-1, grow_policy=&#x27;depthwise&#x27;,\n",
       "             importance_type=None, interaction_constraints=&#x27;&#x27;,\n",
       "             learning_rate=0.03, max_bin=256, max_cat_to_onehot=4,\n",
       "             max_delta_step=0, max_depth=5, max_leaves=0, min_child_weight=4,\n",
       "             missing=nan, monotone_constraints=&#x27;()&#x27;, n_estimators=500, n_jobs=4,\n",
       "             nthread=4, num_parallel_tree=1, predictor=&#x27;auto&#x27;, random_state=0,\n",
       "             reg_alpha=0, ...)</pre></div></div></div></div></div>"
      ],
      "text/plain": [
       "XGBRegressor(base_score=0.5, booster='gbtree', callbacks=None,\n",
       "             colsample_bylevel=1, colsample_bynode=1, colsample_bytree=0.7,\n",
       "             early_stopping_rounds=None, enable_categorical=False,\n",
       "             eval_metric=None, gamma=0, gpu_id=-1, grow_policy='depthwise',\n",
       "             importance_type=None, interaction_constraints='',\n",
       "             learning_rate=0.03, max_bin=256, max_cat_to_onehot=4,\n",
       "             max_delta_step=0, max_depth=5, max_leaves=0, min_child_weight=4,\n",
       "             missing=nan, monotone_constraints='()', n_estimators=500, n_jobs=4,\n",
       "             nthread=4, num_parallel_tree=1, predictor='auto', random_state=0,\n",
       "             reg_alpha=0, ...)"
      ]
     },
     "execution_count": 144,
     "metadata": {},
     "output_type": "execute_result"
    }
   ],
   "source": [
    "#fit the model\n",
    "xgb_model.fit(X_train, y_train)"
   ]
  },
  {
   "cell_type": "code",
   "execution_count": 145,
   "id": "dd5a3f88-8439-4f8e-a5da-b289c2e7eebb",
   "metadata": {},
   "outputs": [],
   "source": [
    "#predict\n",
    "y_preds = xgb_model.predict(X_test)"
   ]
  },
  {
   "cell_type": "code",
   "execution_count": 146,
   "id": "aae36d21-b4fc-438a-82aa-5bcfefd08a16",
   "metadata": {},
   "outputs": [
    {
     "name": "stdout",
     "output_type": "stream",
     "text": [
      "RMSE :  1075.244015\n"
     ]
    }
   ],
   "source": [
    "#evaluate with RMSE\n",
    "rmse = np.sqrt(mean_squared_error(y_test, y_preds))\n",
    "print(\"RMSE : % f\" %(rmse))\n",
    "#same thing"
   ]
  },
  {
   "cell_type": "code",
   "execution_count": 147,
   "id": "860bde41-cc11-4847-90df-3a44e7da3440",
   "metadata": {},
   "outputs": [
    {
     "data": {
      "text/plain": [
       "0.95"
      ]
     },
     "execution_count": 147,
     "metadata": {},
     "output_type": "execute_result"
    }
   ],
   "source": [
    "#check r2\n",
    "r2 = metrics.r2_score(y_test, y_preds)\n",
    "round(r2, 2)\n",
    "#same r2\n",
    "#also same"
   ]
  },
  {
   "cell_type": "code",
   "execution_count": 148,
   "id": "02e3374f-4212-4b0d-9375-90c25359956b",
   "metadata": {},
   "outputs": [
    {
     "data": {
      "image/png": "[encoded data removed]",
      "text/plain": [
       "<Figure size 432x432 with 1 Axes>"
      ]
     },
     "metadata": {
      "needs_background": "light"
     },
     "output_type": "display_data"
    }
   ],
   "source": [
    "#final plot\n",
    "plt.figure(figsize=(6,6))\n",
    "ax = sns.regplot(x = y_preds, \n",
    "                 y = y_test, \n",
    "                 scatter_kws={\"color\": \"black\"}, \n",
    "                 line_kws={\"color\": \"red\"})\n",
    "ax.set(xlabel='predicted values', ylabel='true values');"
   ]
  }
 ],
 "metadata": {
  "kernelspec": {
   "display_name": "default:Python",
   "language": "python",
   "name": "conda-env-default-py"
  },
  "language_info": {
   "codemirror_mode": {
    "name": "ipython",
    "version": 3
   },
   "file_extension": ".py",
   "mimetype": "text/x-python",
   "name": "python",
   "nbconvert_exporter": "python",
   "pygments_lexer": "ipython3",
   "version": "3.9.13"
  }
 },
 "nbformat": 4,
 "nbformat_minor": 5
}

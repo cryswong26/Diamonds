{
 "cells": [
  {
   "cell_type": "markdown",
   "id": "0407de61-6adc-4f3c-a76f-89c14e80056d",
   "metadata": {},
   "source": [
    "## Capstone Project - Diamond Prices (Part 1 - Round Only)"
   ]
  },
  {
   "cell_type": "code",
   "execution_count": null,
   "id": "e4130164-1f7e-4424-8f43-87500cbfb89a",
   "metadata": {},
   "outputs": [],
   "source": [
    "#I was able to get a large dataset of diamond prices from recent years (2017+) through a contact at a diamond aggregator company\n",
    "#It has more features than the public datasets I looked at on Kaggle\n",
    "#In addition, it has a robust amount of data for fancy shapes (non-round), while the Kaggle dataset was only for round diamonds\n",
    "#I will split my model into round and non-round to reflect industry pricing standards (Rapaport guide)\n",
    "#Example of Rapaport pricing guide: https://www.diamonds.net/Prices/RapaportPriceGuide.aspx"
   ]
  },
  {
   "cell_type": "code",
   "execution_count": null,
   "id": "0f97d0ae-fa3a-4fff-a68b-7c42c1b075b2",
   "metadata": {},
   "outputs": [],
   "source": [
    "import pandas as pd\n",
    "from sklearn.linear_model import LinearRegression\n",
    "from sklearn.model_selection import train_test_split\n",
    "from sklearn import metrics\n",
    "from sklearn.tree import DecisionTreeClassifier\n",
    "from sklearn.model_selection import train_test_split\n",
    "from sklearn.preprocessing import StandardScaler, Normalizer\n",
    "from sklearn.datasets import fetch_openml\n",
    "from sklearn import svm\n",
    "from sklearn import tree\n",
    "from sklearn.model_selection import cross_val_score\n",
    "from sklearn.naive_bayes import MultinomialNB, BernoulliNB, GaussianNB\n",
    "from sklearn.pipeline import Pipeline\n",
    "from sklearn.metrics import classification_report,confusion_matrix,accuracy_score, roc_curve\n",
    "from sklearn.neighbors import KNeighborsClassifier\n",
    "from sklearn.ensemble import RandomForestClassifier, ExtraTreesClassifier, BaggingClassifier\n",
    "from sklearn.ensemble import RandomForestRegressor #added this one to try\n",
    "from sklearn.metrics import roc_auc_score\n",
    "from sklearn.model_selection import GridSearchCV\n",
    "from sklearn.pipeline import Pipeline\n",
    "from sklearn.metrics import mean_squared_error\n",
    "from sklearn.preprocessing import StandardScaler, Normalizer\n",
    "from xgboost import XGBRegressor #added this to try\n",
    "import matplotlib.pyplot as plt\n",
    "import numpy as np\n",
    "from math import sqrt\n",
    "import pickle\n",
    "import xgboost\n",
    "from xgboost import XGBClassifier\n",
    "import plotly as py\n",
    "import plotly.graph_objs as go\n",
    "import seaborn as sns"
   ]
  },
  {
   "cell_type": "code",
   "execution_count": null,
   "id": "d1bb21c4-b653-423e-aa30-e71a99f6d88b",
   "metadata": {},
   "outputs": [],
   "source": [
    "df = pd.read_csv('../assets/Diamond Capstone Round Only.csv')\n",
    "df.head()"
   ]
  },
  {
   "cell_type": "markdown",
   "id": "665e6796-dfad-4ef2-98b0-9106f153d89e",
   "metadata": {},
   "source": [
    "## Exploratory Data Analysis"
   ]
  },
  {
   "cell_type": "code",
   "execution_count": null,
   "id": "05c7140b-20a1-43f5-8182-d82fa4b7ff0c",
   "metadata": {},
   "outputs": [],
   "source": [
    "df.shape\n",
    "#>100K records\n",
    "#18 features! more than the public dataset I worked with previously"
   ]
  },
  {
   "cell_type": "code",
   "execution_count": null,
   "id": "5a2ffd68-0db5-4739-8f11-9dfd8f6b60b0",
   "metadata": {},
   "outputs": [],
   "source": [
    "#check for missing data\n",
    "df.isnull().sum()\n",
    "#some missing data, but pretty small compared to the number of records (<1%) so I will drop them rather than trying to fill them in"
   ]
  },
  {
   "cell_type": "code",
   "execution_count": null,
   "id": "35297928-2002-4ce7-b679-96a1381f9351",
   "metadata": {},
   "outputs": [],
   "source": [
    "#drop the records that are missing color\n",
    "print(df['color'].value_counts(dropna = False))\n",
    "df.dropna(subset=['color'], inplace=True)\n",
    "print(df['color'].value_counts(dropna=False))"
   ]
  },
  {
   "cell_type": "code",
   "execution_count": null,
   "id": "2a4aced3-e18d-4ca0-9b81-835a846f3933",
   "metadata": {},
   "outputs": [],
   "source": [
    "df.isnull().sum()"
   ]
  },
  {
   "cell_type": "code",
   "execution_count": null,
   "id": "93b1e149-e99e-4792-b0ee-25ed1755d739",
   "metadata": {},
   "outputs": [],
   "source": [
    "#check what the possible values are for polish, symmetry, and flourescence"
   ]
  },
  {
   "cell_type": "code",
   "execution_count": null,
   "id": "f1886f73-d077-446c-8b8d-69a5b4d354f5",
   "metadata": {},
   "outputs": [],
   "source": [
    "print(df['fluorescence'].value_counts(dropna=False))"
   ]
  },
  {
   "cell_type": "code",
   "execution_count": null,
   "id": "635c40b9-ed30-47ed-8cf7-21d3161d2b20",
   "metadata": {},
   "outputs": [],
   "source": [
    "print(df['symmetry'].value_counts(dropna=False))"
   ]
  },
  {
   "cell_type": "code",
   "execution_count": null,
   "id": "21fcab0b-fdf1-4093-ab1c-b020b9a002d0",
   "metadata": {},
   "outputs": [],
   "source": [
    "print(df['polish'].value_counts(dropna=False))"
   ]
  },
  {
   "cell_type": "code",
   "execution_count": null,
   "id": "ecb29851-7f73-40ee-9c06-593ec3e6b8fc",
   "metadata": {},
   "outputs": [],
   "source": [
    "#looks like the vast majority of the data for polish, symmetry and fluorescence are the same, so I can probably just set null values to \n",
    "#but since the missing data is small I'll just drop them"
   ]
  },
  {
   "cell_type": "code",
   "execution_count": null,
   "id": "8a68ac91-63ac-482f-bf9b-333fcd548e98",
   "metadata": {},
   "outputs": [],
   "source": [
    "df.dropna(subset=['fluorescence'], inplace=True)\n",
    "df.dropna(subset=['symmetry'], inplace=True)\n",
    "df.dropna(subset=['polish'], inplace=True)"
   ]
  },
  {
   "cell_type": "code",
   "execution_count": null,
   "id": "78e97caa-7894-4dda-9093-b0def6b31bc6",
   "metadata": {},
   "outputs": [],
   "source": [
    "df.shape\n",
    "#down to 110K records vs. original dataset of 111K (99%)"
   ]
  },
  {
   "cell_type": "code",
   "execution_count": null,
   "id": "6197d0b2-2e62-4bd2-a9c3-a23249fa26b6",
   "metadata": {},
   "outputs": [],
   "source": [
    "#take a look at the datatypes\n",
    "df.dtypes"
   ]
  },
  {
   "cell_type": "code",
   "execution_count": null,
   "id": "19d27777-9a5a-4667-ac32-15ad83e0707b",
   "metadata": {},
   "outputs": [],
   "source": [
    "#double check that I only have round diamonds in this analysis\n",
    "df['shape'].value_counts()"
   ]
  },
  {
   "cell_type": "code",
   "execution_count": null,
   "id": "5bc67d8f-b1c0-4832-937d-f51667f921e9",
   "metadata": {},
   "outputs": [],
   "source": [
    "#other observations from the data types:\n",
    "#For linear regression, I will need to re-code cut, color, and clarity since they are non-numerical\n",
    "#I will also re-code certificateLab\n",
    "#For polish, symmetry and flourescence I will likely have to group values before re-coding since there are a lot of possible values\n",
    "#I will not use certificateid since it is just an identifier\n",
    "#I will likely not need measurements either since it probably correlated with other features"
   ]
  },
  {
   "cell_type": "markdown",
   "id": "f5ebb106-5687-40e8-92a7-61f93b8fd966",
   "metadata": {},
   "source": [
    "## Re-code Non-Numerical Features"
   ]
  },
  {
   "cell_type": "code",
   "execution_count": null,
   "id": "3552bed5-322f-494c-8092-d3073196829b",
   "metadata": {},
   "outputs": [],
   "source": [
    "df['color'].value_counts()\n",
    "#usually color only goes up to M? I will drop the others; not sure what OP, UV and XY are"
   ]
  },
  {
   "cell_type": "code",
   "execution_count": null,
   "id": "dd7a2fec-c52e-439b-a722-9b5f6a26ddd4",
   "metadata": {},
   "outputs": [],
   "source": [
    "print(df['color'].value_counts())\n",
    "df = df.drop(df[df[\"color\"]=='N'].index)\n",
    "df = df.drop(df[df[\"color\"]=='OP'].index)\n",
    "df = df.drop(df[df[\"color\"]=='UV'].index)\n",
    "df = df.drop(df[df[\"color\"]=='XY'].index)\n",
    "print(df['color'].value_counts())"
   ]
  },
  {
   "cell_type": "code",
   "execution_count": null,
   "id": "89429edc-6338-4f72-b668-c406589fef46",
   "metadata": {},
   "outputs": [],
   "source": [
    "#re-code the remaining colors to numerical\n",
    "print(df['color'].value_counts())\n",
    "df['color'] = df['color'].map({\"D\":1, \"E\": 2, \"F\":3, \"G\":4, \"H\":5, \"I\":6, \"J\":7, \"K\":8, \"L\":9, \"M\":10})\n",
    "print(df['color'].value_counts())"
   ]
  },
  {
   "cell_type": "code",
   "execution_count": null,
   "id": "200b7952-9dcc-4a5d-8cbf-602283d0d0b2",
   "metadata": {},
   "outputs": [],
   "source": [
    "df.shape"
   ]
  },
  {
   "cell_type": "code",
   "execution_count": null,
   "id": "2dc429ae-00d2-4c85-92e0-8b142c706b96",
   "metadata": {},
   "outputs": [],
   "source": [
    "df['clarity'].value_counts()\n",
    "#one has a clarity of none but the rest look fine; drop that one record"
   ]
  },
  {
   "cell_type": "code",
   "execution_count": null,
   "id": "4eba2c9c-8aff-48c5-b9ed-0e18257073b3",
   "metadata": {},
   "outputs": [],
   "source": [
    "print(df['clarity'].value_counts())\n",
    "df = df.drop(df[df[\"clarity\"]=='None'].index)\n",
    "print(df['clarity'].value_counts())"
   ]
  },
  {
   "cell_type": "code",
   "execution_count": null,
   "id": "96a7ba74-1095-44d3-9e54-68c44fe65cd6",
   "metadata": {},
   "outputs": [],
   "source": [
    "#re-code the remaining clarity to numerical\n",
    "print(df['clarity'].value_counts())\n",
    "df['clarity'] = df['clarity'].map({\"FL\":1, \"IF\": 2, \"VVS1\":3, \"VVS2\":4, \"VS1\":5, \"VS2\":6, \"SI1\":7, \"SI2\":8, \"I1\":9})\n",
    "print(df['clarity'].value_counts())\n",
    "#based on the gia guide: https://4cs.gia.edu/en-us/diamond-clarity/"
   ]
  },
  {
   "cell_type": "code",
   "execution_count": null,
   "id": "6814fa2a-43ba-474e-bc27-e43a0a5d86fb",
   "metadata": {},
   "outputs": [],
   "source": [
    "df.shape"
   ]
  },
  {
   "cell_type": "code",
   "execution_count": null,
   "id": "cc6e11ba-7c2b-475c-a8f2-d520542bba08",
   "metadata": {},
   "outputs": [],
   "source": [
    "df['cut'].value_counts()\n",
    "#looks normal"
   ]
  },
  {
   "cell_type": "code",
   "execution_count": null,
   "id": "9360750d-a39a-44a2-afdc-b59a64223b41",
   "metadata": {},
   "outputs": [],
   "source": [
    "print(df['cut'].value_counts())\n",
    "df['cut'] = df['cut'].map({\"Ideal\":1, \"Excellent\": 2, \"Very Good\":3, \"Good\":4, \"Fair\":5})\n",
    "print(df['cut'].value_counts())"
   ]
  },
  {
   "cell_type": "code",
   "execution_count": null,
   "id": "460d945c-5b6b-4003-9338-ea10adfad5a3",
   "metadata": {},
   "outputs": [],
   "source": [
    "df['certificateLab'].value_counts()\n",
    "#vast majority are GIA\n",
    "#the only other one I've seen is IGI\n",
    "#group the others"
   ]
  },
  {
   "cell_type": "code",
   "execution_count": null,
   "id": "c954e7a9-c5de-4cb6-a4cc-2aef7e55fe40",
   "metadata": {},
   "outputs": [],
   "source": [
    "print(df['certificateLab'].value_counts())\n",
    "df['certificateLab'] = df['certificateLab'].map({\"GIA\":\"GIA\", \"IGI\":\"IGI\", \"HRD\":\"Other\", \"AGS\":\"Other\", \"B2C\":\"Other\"})\n",
    "print(df['certificateLab'].value_counts())\n",
    "#probably not the most efficient way to rename these, but wanted to keep the logic consistent with the rest of the re-coding"
   ]
  },
  {
   "cell_type": "code",
   "execution_count": null,
   "id": "dcb77e66-d49d-4871-b88f-ed4cc4c3cb66",
   "metadata": {},
   "outputs": [],
   "source": [
    "#now I will get dummies to turn these into numericals\n",
    "ohe=pd.get_dummies(df['certificateLab'])\n",
    "print(ohe.columns)\n",
    "ohe.head()"
   ]
  },
  {
   "cell_type": "code",
   "execution_count": null,
   "id": "de6918ea-5926-4373-b801-695a5b3e5005",
   "metadata": {},
   "outputs": [],
   "source": [
    "# append these new columns to the original dataset\n",
    "df=pd.concat([df, ohe], axis=1) #append columns, not rows\n",
    "df.shape\n",
    "#3 extra columns now"
   ]
  },
  {
   "cell_type": "code",
   "execution_count": null,
   "id": "0fa2f9eb-71a5-43bc-95c0-0b99bb193db7",
   "metadata": {},
   "outputs": [],
   "source": [
    "df.head()"
   ]
  },
  {
   "cell_type": "code",
   "execution_count": null,
   "id": "3a818a30-03cc-48f2-914d-7695c8cfd62a",
   "metadata": {},
   "outputs": [],
   "source": [
    "df.shape"
   ]
  },
  {
   "cell_type": "code",
   "execution_count": null,
   "id": "8a50ac81-5321-4e06-ae96-b16eef107627",
   "metadata": {},
   "outputs": [],
   "source": [
    "#remove the original column that we replaced with one-hot encoding\n",
    "df=df.drop(['certificateLab'], axis=1).copy()\n",
    "df.head()"
   ]
  },
  {
   "cell_type": "code",
   "execution_count": null,
   "id": "6feabca6-1999-42e2-a6a1-f58f1a6ce4da",
   "metadata": {},
   "outputs": [],
   "source": [
    "df.shape"
   ]
  },
  {
   "cell_type": "code",
   "execution_count": null,
   "id": "754eabf5-478b-4d9f-b7c9-30288006780f",
   "metadata": {},
   "outputs": [],
   "source": [
    "df['polish'].value_counts()\n",
    "#similar to how cut is classified\n",
    "#seeing some duplicates so will need to investigate and clean that up"
   ]
  },
  {
   "cell_type": "code",
   "execution_count": null,
   "id": "05f1b69b-e58c-42cf-ac15-979b67f4e82a",
   "metadata": {},
   "outputs": [],
   "source": [
    "df[df[\"polish\"]=='Excellent'].shape"
   ]
  },
  {
   "cell_type": "code",
   "execution_count": null,
   "id": "72b31864-8ac7-4e94-a640-566976bd4c1e",
   "metadata": {},
   "outputs": [],
   "source": [
    "#used a quick pivot table in excel to find the issue; a lot of spaces at the end of the labels\n",
    "df['polish'] = df['polish'].str.strip()"
   ]
  },
  {
   "cell_type": "code",
   "execution_count": null,
   "id": "3ab5ff67-05b6-4976-9b71-4861b3f3d0f1",
   "metadata": {},
   "outputs": [],
   "source": [
    "df['polish'].value_counts()\n",
    "#now it looks clean"
   ]
  },
  {
   "cell_type": "code",
   "execution_count": null,
   "id": "92a76d23-e68d-4d90-9020-74639f93aa63",
   "metadata": {},
   "outputs": [],
   "source": [
    "print(df['polish'].value_counts())\n",
    "df['polish'] = df['polish'].map({\"Ideal\":1, \"Excellent\": 2, \"Very Good\":3, \"Good\":4, \"Fair\":5})\n",
    "print(df['polish'].value_counts())"
   ]
  },
  {
   "cell_type": "code",
   "execution_count": null,
   "id": "ac9377fe-2b53-4856-b002-99999bf9d3e4",
   "metadata": {},
   "outputs": [],
   "source": [
    "df['symmetry'].value_counts()\n",
    "#looks like the same issue as above"
   ]
  },
  {
   "cell_type": "code",
   "execution_count": null,
   "id": "d2d1001d-6eba-46b1-af33-fbac147c989e",
   "metadata": {},
   "outputs": [],
   "source": [
    "df['symmetry'] = df['symmetry'].str.strip()"
   ]
  },
  {
   "cell_type": "code",
   "execution_count": null,
   "id": "83fe9477-a12c-4216-a7ef-2eb5a7423df1",
   "metadata": {},
   "outputs": [],
   "source": [
    "df['symmetry'].value_counts()\n",
    "#now it looks clean"
   ]
  },
  {
   "cell_type": "code",
   "execution_count": null,
   "id": "0c2a9aab-5614-40a2-9e55-3250f8d70dba",
   "metadata": {},
   "outputs": [],
   "source": [
    "print(df['symmetry'].value_counts())\n",
    "df['symmetry'] = df['symmetry'].map({\"Ideal\":1, \"Excellent\": 2, \"Very Good\":3, \"Good\":4, \"Fair\":5, \"Poor\":6})\n",
    "print(df['symmetry'].value_counts())"
   ]
  },
  {
   "cell_type": "code",
   "execution_count": null,
   "id": "cad0f38a-2063-4311-ad00-84afb5eef564",
   "metadata": {},
   "outputs": [],
   "source": [
    "df['fluorescence'].value_counts()\n",
    "#GIA only grades fluorescence as \"None, Faint, Medium, Strong, Very Strong\"; not sure how to group the other ones\n",
    "#It also seems like this is not a very important factor for purchasers so I will exclude from my model for now"
   ]
  },
  {
   "cell_type": "code",
   "execution_count": null,
   "id": "308d2b90-c56a-48e7-bd05-2820b4c0c9f1",
   "metadata": {},
   "outputs": [],
   "source": [
    "df.shape"
   ]
  },
  {
   "cell_type": "code",
   "execution_count": null,
   "id": "9a6a6c98-bdfd-4933-887f-70fcb54da4a1",
   "metadata": {},
   "outputs": [],
   "source": [
    "df.dtypes"
   ]
  },
  {
   "cell_type": "markdown",
   "id": "69596076-33af-4ff3-a700-08e8d1f5bbc0",
   "metadata": {},
   "source": [
    "## Modeling the Price"
   ]
  },
  {
   "cell_type": "code",
   "execution_count": null,
   "id": "b6a7c475-506c-49ae-bd36-f226d12eaf05",
   "metadata": {},
   "outputs": [],
   "source": [
    "#now that the non-numerical data has been recoded, check correlations to see which features are most important\n",
    "corrs = df.corr()\n",
    "corrs"
   ]
  },
  {
   "cell_type": "code",
   "execution_count": null,
   "id": "d678acc2-d17e-4476-8023-c131a7fe839a",
   "metadata": {},
   "outputs": [],
   "source": [
    "#heatmap to see the correlations more clearly\n",
    "plt.figure(figsize=(12,8))\n",
    "sns.heatmap(corrs);"
   ]
  },
  {
   "cell_type": "code",
   "execution_count": null,
   "id": "c9172b91-5be2-44f9-9e7b-7a3bf68ad4a4",
   "metadata": {},
   "outputs": [],
   "source": [
    "corrs['price'].sort_values()\n",
    "#similar to my last diamond price analysis; not seeing anything with strong correlation to price besides \"carat\". "
   ]
  },
  {
   "cell_type": "code",
   "execution_count": null,
   "id": "6030418a-6c26-4dd1-924d-9f34c0c6172e",
   "metadata": {},
   "outputs": [],
   "source": [
    "#take a quick look ta the target variable\n",
    "df.describe()\n",
    "#the scale of price is weird?"
   ]
  },
  {
   "cell_type": "code",
   "execution_count": null,
   "id": "66d062bb-ee31-4518-967b-45862329ce2a",
   "metadata": {},
   "outputs": [],
   "source": [
    "#make a copy of the data with only the features I will model\n",
    "df_linear= df[['price', 'carat', 'cut', 'clarity', 'color', 'Other', 'IGI', 'GIA', 'polish', 'symmetry']].copy()\n",
    "df_linear.head()"
   ]
  },
  {
   "cell_type": "code",
   "execution_count": null,
   "id": "c36a7883-c164-40ef-a771-c3c91f100778",
   "metadata": {},
   "outputs": [],
   "source": [
    "#declare the target variable\n",
    "y = df_linear['price']\n",
    "y.shape"
   ]
  },
  {
   "cell_type": "code",
   "execution_count": null,
   "id": "7b25726d-704b-4d70-9bbd-89679ab0ce7a",
   "metadata": {},
   "outputs": [],
   "source": [
    "#declare the model features\n",
    "X = df_linear.drop(['price'], axis=1) #just exclude price\n",
    "X.shape"
   ]
  },
  {
   "cell_type": "code",
   "execution_count": null,
   "id": "c303d7c4-9cda-4e24-881d-0743b820adc3",
   "metadata": {},
   "outputs": [],
   "source": [
    "# train-test split\n",
    "X_train, X_test, y_train, y_test = train_test_split(X, y, test_size = .25, random_state=12) #using the standard test size for now"
   ]
  },
  {
   "cell_type": "code",
   "execution_count": null,
   "id": "3239ec86-597d-4920-b19a-f5433a76fe2f",
   "metadata": {},
   "outputs": [],
   "source": [
    "#instantiate the SKlearn algorithm\n",
    "mymodel = LinearRegression(fit_intercept=True, \n",
    "                           normalize=False, \n",
    "                           copy_X=True, \n",
    "                           n_jobs=None, \n",
    "                           positive=False)"
   ]
  },
  {
   "cell_type": "code",
   "execution_count": null,
   "id": "0ef216f9-48f1-4c7b-b87b-57771407b65c",
   "metadata": {},
   "outputs": [],
   "source": [
    "#fit the model to the training dataset\n",
    "mymodel.fit(X_train, y_train)"
   ]
  },
  {
   "cell_type": "code",
   "execution_count": null,
   "id": "99139221-ea4f-4c77-a162-1865da9e5934",
   "metadata": {},
   "outputs": [],
   "source": [
    "print(mymodel)"
   ]
  },
  {
   "cell_type": "code",
   "execution_count": null,
   "id": "4abe5f45-fe47-40ab-adbb-8ef3cf951f85",
   "metadata": {},
   "outputs": [],
   "source": [
    "#what is the intercept?\n",
    "mymodel.intercept_\n",
    "#according to my model intercept, if carat, cut, clarity, color, polish, symmetry and the rating agencies were all 0, the diamond would be priced at -$6K\n",
    "#doesn't really tell us much since that wouldn't happen in the real world"
   ]
  },
  {
   "cell_type": "code",
   "execution_count": null,
   "id": "f89ccc11-85e3-452b-9853-7645813edd41",
   "metadata": {},
   "outputs": [],
   "source": [
    "#what is the equation for this mymodel?\n",
    "cols=list(X.columns)\n",
    "coefs=list(mymodel.coef_)\n",
    "xcoefs = [(coefs[i], cols[i]) for i in range(0, len(cols))]\n",
    "output = f'y = {round(mymodel.intercept_,2)} + {round(xcoefs[0][0],2)}*{xcoefs[0][1]} + {round(xcoefs[1][0],2)}*{xcoefs[1][1]} + {round(xcoefs[2][0],2)}*{xcoefs[2][1]} + {round(xcoefs[3][0],2)}*{xcoefs[3][1]} + {round(xcoefs[4][0],2)}*{xcoefs[4][1]} + {round(xcoefs[5][0],2)}*{xcoefs[5][1]} + {round(xcoefs[6][0],2)}*{xcoefs[6][1]}+ {round(xcoefs[7][0],2)}*{xcoefs[7][1]}+ {round(xcoefs[8][0],2)}*{xcoefs[8][1]}'\n",
    "print(\"Regression Equation: \", output)\n",
    "#cut, clarity, and color all have negative intercepts because I mapped the \"best\" to 1 with ascending values after that so that makes sense"
   ]
  },
  {
   "cell_type": "code",
   "execution_count": null,
   "id": "1efcf0ca-047c-47be-862a-2067f0f4804c",
   "metadata": {},
   "outputs": [],
   "source": [
    "#for the graph below\n",
    "coefs=list(mymodel.coef_)\n",
    "cols=list(X.columns)"
   ]
  },
  {
   "cell_type": "code",
   "execution_count": null,
   "id": "91842062-652d-4425-aa05-d275c6bd0112",
   "metadata": {},
   "outputs": [],
   "source": [
    "#turn these into a dataframe\n",
    "results = pd.DataFrame(list(zip(cols, coefs)), columns=['feature','coeff'])\n",
    "results "
   ]
  },
  {
   "cell_type": "code",
   "execution_count": null,
   "id": "a2a4f791-66cd-4998-ba64-0ceec314855e",
   "metadata": {},
   "outputs": [],
   "source": [
    "#show results as a bar chart\n",
    "import plotly.express as px\n",
    "fig = px.bar(x=results['feature'], y=results['coeff'])\n",
    "fig.update_layout(\n",
    "    yaxis=dict( title='coefficient'),\n",
    "    xaxis=dict( title='predictor'),\n",
    ")\n",
    "fig.show()\n",
    "#surprisingly, cut doesn't seem to have much of an impact\n",
    "#the magnitude of impact for clarity and color match my understanding based on the Rapaport pricing guide"
   ]
  },
  {
   "cell_type": "code",
   "execution_count": null,
   "id": "b789935d-815f-42ec-9a35-a9e3bdcf21bc",
   "metadata": {},
   "outputs": [],
   "source": [
    "#predict the y-values on the testing dataset\n",
    "y_preds = mymodel.predict(X_test)"
   ]
  },
  {
   "cell_type": "code",
   "execution_count": null,
   "id": "ba828450-e87b-4f9f-9604-39c6d1a0c13e",
   "metadata": {},
   "outputs": [],
   "source": [
    "#compare some of the results of the predictions \n",
    "print([round(x,2) for x in y_preds[:5]])\n",
    "print(list(y_test[:5]))\n",
    "#looks very wrong..."
   ]
  },
  {
   "cell_type": "code",
   "execution_count": null,
   "id": "715b3198-2d56-4bfa-af74-d9425ff7ae07",
   "metadata": {},
   "outputs": [],
   "source": [
    "#compare predictions to known values\n",
    "plt.figure(figsize=(6,6))\n",
    "ax = sns.regplot(x = y_preds, \n",
    "                 y = y_test, \n",
    "                 scatter_kws={\"color\": \"black\"}, \n",
    "                 line_kws={\"color\": \"red\"})\n",
    "ax.set(xlabel='predicted values', ylabel='true values');\n",
    "#something weird is going on"
   ]
  },
  {
   "cell_type": "markdown",
   "id": "8321fc1c-7426-42d1-8691-f238f25ac552",
   "metadata": {},
   "source": [
    "## Model Evaluation"
   ]
  },
  {
   "cell_type": "code",
   "execution_count": null,
   "id": "e0b3c659-2fea-4a96-acf7-b805102f1364",
   "metadata": {},
   "outputs": [],
   "source": [
    "#root mean sq error\n",
    "rmse = sqrt(metrics.mean_squared_error(y_test, y_preds))\n",
    "rmse"
   ]
  },
  {
   "cell_type": "code",
   "execution_count": null,
   "id": "ef6b0e0a-af5e-4240-b4eb-b8e4c5413b06",
   "metadata": {},
   "outputs": [],
   "source": [
    "#is that more or less than if we just used the average as our model?\n",
    "avg_val = y_train.mean()\n",
    "avg_val"
   ]
  },
  {
   "cell_type": "code",
   "execution_count": null,
   "id": "6ae26d37-1ac7-4d55-9593-53ad4b68ec7e",
   "metadata": {},
   "outputs": [],
   "source": [
    "#what would the error be if I predicted the average price for all diamonds?\n",
    "comparison = np.full((len(y_test), ), avg_val)\n",
    "comparison[:10]"
   ]
  },
  {
   "cell_type": "code",
   "execution_count": null,
   "id": "4412f65f-5b76-4a32-86ab-0032f1c9a942",
   "metadata": {},
   "outputs": [],
   "source": [
    "#compare that to my predictions\n",
    "y_preds[:10]\n",
    "#something is very off because the values are negative"
   ]
  },
  {
   "cell_type": "code",
   "execution_count": null,
   "id": "5c326320-9bc5-4d69-8b68-91ca98916b0b",
   "metadata": {},
   "outputs": [],
   "source": [
    "#compare these two:\n",
    "sqrt(metrics.mean_squared_error(y_test, comparison))"
   ]
  },
  {
   "cell_type": "code",
   "execution_count": null,
   "id": "26654678-af1b-4b5f-bfa7-1d318e077a21",
   "metadata": {},
   "outputs": [],
   "source": [
    "# check R-2 (coefficient of determination)\n",
    "r2 = metrics.r2_score(y_test, y_preds)\n",
    "round(r2, 2)\n",
    "#very bad...need to fix something"
   ]
  },
  {
   "cell_type": "markdown",
   "id": "6d22d2cf-b187-4d37-bda8-8b4beba28c04",
   "metadata": {},
   "source": [
    "## Additional EDA / Cleanup"
   ]
  },
  {
   "cell_type": "code",
   "execution_count": null,
   "id": "1d884cb7-0cf8-4517-82b3-3aed1adb09c5",
   "metadata": {},
   "outputs": [],
   "source": [
    "df_linear['price'].describe()\n",
    "#why is it like this??\n",
    "#do I need to remove outliers?"
   ]
  },
  {
   "cell_type": "code",
   "execution_count": null,
   "id": "516d96d5-ba92-4c8c-99da-a617419991e5",
   "metadata": {},
   "outputs": [],
   "source": [
    "df_linear['color'].describe()\n",
    "#this one looks normal"
   ]
  },
  {
   "cell_type": "code",
   "execution_count": null,
   "id": "d1fa7f58-52b4-4d76-9ef7-ef349e071fd8",
   "metadata": {},
   "outputs": [],
   "source": [
    "#look at the spread of the data to see if there are outliers\n",
    "plt.scatter(df_linear['carat'], df_linear['price']);\n",
    "#there are definitely some outliers probably making it hard to predict well\n",
    "#not sure how to systematically remove the outliers but I will cut it off at 10 carats for now since most of the data lies below that"
   ]
  },
  {
   "cell_type": "code",
   "execution_count": null,
   "id": "e8df4e2d-5d73-4e3f-9e6e-6e58a75cc524",
   "metadata": {},
   "outputs": [],
   "source": [
    "df_linear.shape"
   ]
  },
  {
   "cell_type": "markdown",
   "id": "444a9552-dc02-4cfe-ac32-caa99c12a645",
   "metadata": {},
   "source": [
    "## Remove Outliers and Re-Model"
   ]
  },
  {
   "cell_type": "code",
   "execution_count": null,
   "id": "3b6acf35-fb66-4196-8a1b-f0e6450d5dab",
   "metadata": {},
   "outputs": [],
   "source": [
    "#drop the outliers\n",
    "df_linear = df_linear[(df[\"carat\"]<10)]"
   ]
  },
  {
   "cell_type": "code",
   "execution_count": null,
   "id": "c995f17b-e8ca-4186-9913-992f9df1e404",
   "metadata": {},
   "outputs": [],
   "source": [
    "df_linear.shape\n",
    "#didn't lose much data"
   ]
  },
  {
   "cell_type": "code",
   "execution_count": null,
   "id": "639a53f2-13f0-48aa-8b9b-0d5933a5db1b",
   "metadata": {},
   "outputs": [],
   "source": [
    "df_linear.head()"
   ]
  },
  {
   "cell_type": "code",
   "execution_count": null,
   "id": "f24ab154-fe6d-4ea8-861f-5c47799b3dc7",
   "metadata": {},
   "outputs": [],
   "source": [
    "#try the model again\n",
    "#declare the target variable\n",
    "y = df_linear['price']\n",
    "y.shape"
   ]
  },
  {
   "cell_type": "code",
   "execution_count": null,
   "id": "ce0cb3c7-b02d-4cab-9442-40a4184ec741",
   "metadata": {},
   "outputs": [],
   "source": [
    "#declare the model features\n",
    "X = df_linear.drop(['price'], axis=1) #just exclude price\n",
    "X.shape"
   ]
  },
  {
   "cell_type": "code",
   "execution_count": null,
   "id": "e36c9de4-9e61-45b5-9564-9a15837a107a",
   "metadata": {},
   "outputs": [],
   "source": [
    "# train-test split\n",
    "X_train, X_test, y_train, y_test = train_test_split(X, y, test_size = .25, random_state=12) #using the standard test size for now"
   ]
  },
  {
   "cell_type": "code",
   "execution_count": null,
   "id": "ee1c4436-78c7-4e79-bbfb-5705b3b993af",
   "metadata": {},
   "outputs": [],
   "source": [
    "#instantiate the SKlearn algorithm\n",
    "mymodel = LinearRegression(fit_intercept=True, \n",
    "                           normalize=False, \n",
    "                           copy_X=True, \n",
    "                           n_jobs=None, \n",
    "                           positive=False)"
   ]
  },
  {
   "cell_type": "code",
   "execution_count": null,
   "id": "2cb889cc-48fb-4794-bb60-ba377403a6a6",
   "metadata": {},
   "outputs": [],
   "source": [
    "#fit the model to the training dataset\n",
    "mymodel.fit(X_train, y_train)"
   ]
  },
  {
   "cell_type": "code",
   "execution_count": null,
   "id": "59cf43a3-ef26-4cd1-a86f-b3441231ad4c",
   "metadata": {},
   "outputs": [],
   "source": [
    "print(mymodel)"
   ]
  },
  {
   "cell_type": "code",
   "execution_count": null,
   "id": "a786bc08-d2e6-4855-86d2-d8a05771c7c7",
   "metadata": {},
   "outputs": [],
   "source": [
    "#what is the intercept?\n",
    "mymodel.intercept_\n",
    "#according to my model intercept, if carat, cut, clarity, color, polish, symmetry and the rating agencies were all 0, the diamond would be priced at -$2K\n",
    "#this looks better than before already!"
   ]
  },
  {
   "cell_type": "code",
   "execution_count": null,
   "id": "39e7dec4-90fd-4510-82dd-a582de5c8943",
   "metadata": {},
   "outputs": [],
   "source": [
    "#what is the equation for this mymodel?\n",
    "cols=list(X.columns)\n",
    "coefs=list(mymodel.coef_)\n",
    "xcoefs = [(coefs[i], cols[i]) for i in range(0, len(cols))]\n",
    "output = f'y = {round(mymodel.intercept_,2)} + {round(xcoefs[0][0],2)}*{xcoefs[0][1]} + {round(xcoefs[1][0],2)}*{xcoefs[1][1]} + {round(xcoefs[2][0],2)}*{xcoefs[2][1]} + {round(xcoefs[3][0],2)}*{xcoefs[3][1]} + {round(xcoefs[4][0],2)}*{xcoefs[4][1]} + {round(xcoefs[5][0],2)}*{xcoefs[5][1]} + {round(xcoefs[6][0],2)}*{xcoefs[6][1]}+ {round(xcoefs[7][0],2)}*{xcoefs[7][1]}+ {round(xcoefs[8][0],2)}*{xcoefs[8][1]}'\n",
    "print(\"Regression Equation: \", output)"
   ]
  },
  {
   "cell_type": "code",
   "execution_count": null,
   "id": "b738a132-fa44-4d7b-bd3a-78cc43773907",
   "metadata": {},
   "outputs": [],
   "source": [
    "#for the graph below\n",
    "coefs=list(mymodel.coef_)\n",
    "cols=list(X.columns)"
   ]
  },
  {
   "cell_type": "code",
   "execution_count": null,
   "id": "cd23c858-d5dc-4fe6-b9f8-f8d96df5eb03",
   "metadata": {},
   "outputs": [],
   "source": [
    "#turn these into a dataframe\n",
    "results = pd.DataFrame(list(zip(cols, coefs)), columns=['feature','coeff'])\n",
    "results "
   ]
  },
  {
   "cell_type": "code",
   "execution_count": null,
   "id": "68f71b78-e95d-47b0-b5e9-f875bb4a8cd1",
   "metadata": {},
   "outputs": [],
   "source": [
    "#show results as a bar chart\n",
    "import plotly.express as px\n",
    "fig = px.bar(x=results['feature'], y=results['coeff'])\n",
    "fig.update_layout(\n",
    "    yaxis=dict( title='coefficient'),\n",
    "    xaxis=dict( title='predictor'),\n",
    ")\n",
    "fig.show()"
   ]
  },
  {
   "cell_type": "code",
   "execution_count": null,
   "id": "c9eba156-e727-4e46-8303-952267896de6",
   "metadata": {},
   "outputs": [],
   "source": [
    "#predict the y-values on the testing dataset\n",
    "y_preds = mymodel.predict(X_test)"
   ]
  },
  {
   "cell_type": "code",
   "execution_count": null,
   "id": "fa4681ce-3181-48eb-a1d0-326d9283e7a6",
   "metadata": {},
   "outputs": [],
   "source": [
    "#compare some of the results of the predictions \n",
    "print([round(x,2) for x in y_preds[:5]])\n",
    "print(list(y_test[:5]))\n",
    "#still looks wrong..."
   ]
  },
  {
   "cell_type": "code",
   "execution_count": null,
   "id": "854beb78-b589-4e93-a3a3-b755290295e4",
   "metadata": {},
   "outputs": [],
   "source": [
    "#compare predictions to known values\n",
    "plt.figure(figsize=(6,6))\n",
    "ax = sns.regplot(x = y_preds, \n",
    "                 y = y_test, \n",
    "                 scatter_kws={\"color\": \"black\"}, \n",
    "                 line_kws={\"color\": \"red\"})\n",
    "ax.set(xlabel='predicted values', ylabel='true values');\n",
    "#still too much spread"
   ]
  },
  {
   "cell_type": "markdown",
   "id": "1e4e43cf-c60c-4f17-844c-1d20e485f39c",
   "metadata": {},
   "source": [
    "## Model Evaluation v2"
   ]
  },
  {
   "cell_type": "code",
   "execution_count": null,
   "id": "fbbeeeb4-5317-4c74-9470-7c260258381f",
   "metadata": {},
   "outputs": [],
   "source": [
    "# check R-2 (coefficient of determination)\n",
    "r2 = metrics.r2_score(y_test, y_preds)\n",
    "round(r2, 2)\n",
    "#better but probably still need to make the cutoff lower due to high spread in the larger carat ranges"
   ]
  },
  {
   "cell_type": "markdown",
   "id": "c01094e4-753f-4699-9cec-be3e8d34aec1",
   "metadata": {},
   "source": [
    "## Remove Outliers and Re-Model v2"
   ]
  },
  {
   "cell_type": "code",
   "execution_count": null,
   "id": "a71406ff-c0cd-4c5b-b25c-09434dc1e42b",
   "metadata": {},
   "outputs": [],
   "source": [
    "#drop the outliers\n",
    "df_linear = df_linear[(df_linear[\"carat\"]<2)]\n",
    "#did a quick check for outliers using IQR in excel; seems like most of the data is below 2 carats which aligns with what I expected"
   ]
  },
  {
   "cell_type": "code",
   "execution_count": null,
   "id": "4999b128-d01a-4681-9c48-43ba09ec11be",
   "metadata": {},
   "outputs": [],
   "source": [
    "df_linear.shape\n",
    "#still have over 90% of the original data"
   ]
  },
  {
   "cell_type": "code",
   "execution_count": null,
   "id": "3f055e93-792b-47b9-8692-897e31e807ca",
   "metadata": {},
   "outputs": [],
   "source": [
    "#try the model again\n",
    "#declare the target variable\n",
    "y = df_linear['price']\n",
    "y.shape"
   ]
  },
  {
   "cell_type": "code",
   "execution_count": null,
   "id": "02085a49-7d7e-4534-99f1-7c5bb37c4b9c",
   "metadata": {},
   "outputs": [],
   "source": [
    "#declare the model features\n",
    "X = df_linear.drop(['price'], axis=1) #just exclude price\n",
    "X.shape"
   ]
  },
  {
   "cell_type": "code",
   "execution_count": null,
   "id": "bf4ed713-7177-4f27-b4ef-5a4c9fb3e120",
   "metadata": {},
   "outputs": [],
   "source": [
    "# train-test split\n",
    "X_train, X_test, y_train, y_test = train_test_split(X, y, test_size = .25, random_state=12) #using the standard test size for now"
   ]
  },
  {
   "cell_type": "code",
   "execution_count": null,
   "id": "30f132d3-b082-4f2b-b0e4-b80f8f263513",
   "metadata": {},
   "outputs": [],
   "source": [
    "#instantiate the SKlearn algorithm\n",
    "mymodel = LinearRegression(fit_intercept=True, \n",
    "                           normalize=False, \n",
    "                           copy_X=True, \n",
    "                           n_jobs=None, \n",
    "                           positive=False)"
   ]
  },
  {
   "cell_type": "code",
   "execution_count": null,
   "id": "a78df2d8-534f-414a-9e85-21a90c42fe51",
   "metadata": {},
   "outputs": [],
   "source": [
    "#fit the model to the training dataset\n",
    "mymodel.fit(X_train, y_train)"
   ]
  },
  {
   "cell_type": "code",
   "execution_count": null,
   "id": "ec8a010a-b4d9-41bb-87df-25d1a153a795",
   "metadata": {},
   "outputs": [],
   "source": [
    "print(mymodel)"
   ]
  },
  {
   "cell_type": "code",
   "execution_count": null,
   "id": "0450c37c-8972-4427-8cc3-ba0fa9ebb627",
   "metadata": {},
   "outputs": [],
   "source": [
    "#what is the intercept?\n",
    "mymodel.intercept_\n",
    "#according to my model intercept, if carat, cut, clarity, color, polish, symmetry and the rating agencies were all 0, the diamond would be priced at -$200\n",
    "#this looks better than before already!"
   ]
  },
  {
   "cell_type": "code",
   "execution_count": null,
   "id": "c129d3ee-1e78-429e-96d3-b1d04a3655d3",
   "metadata": {},
   "outputs": [],
   "source": [
    "#what is the equation for this mymodel?\n",
    "cols=list(X.columns)\n",
    "coefs=list(mymodel.coef_)\n",
    "xcoefs = [(coefs[i], cols[i]) for i in range(0, len(cols))]\n",
    "output = f'y = {round(mymodel.intercept_,2)} + {round(xcoefs[0][0],2)}*{xcoefs[0][1]} + {round(xcoefs[1][0],2)}*{xcoefs[1][1]} + {round(xcoefs[2][0],2)}*{xcoefs[2][1]} + {round(xcoefs[3][0],2)}*{xcoefs[3][1]} + {round(xcoefs[4][0],2)}*{xcoefs[4][1]} + {round(xcoefs[5][0],2)}*{xcoefs[5][1]} + {round(xcoefs[6][0],2)}*{xcoefs[6][1]}+ {round(xcoefs[7][0],2)}*{xcoefs[7][1]}+ {round(xcoefs[8][0],2)}*{xcoefs[8][1]}'\n",
    "print(\"Regression Equation: \", output)"
   ]
  },
  {
   "cell_type": "code",
   "execution_count": null,
   "id": "82588c61-6eed-40a3-a7bf-83a81324c164",
   "metadata": {},
   "outputs": [],
   "source": [
    "#for the graph below\n",
    "coefs=list(mymodel.coef_)\n",
    "cols=list(X.columns)"
   ]
  },
  {
   "cell_type": "code",
   "execution_count": null,
   "id": "a7c6d1db-272a-4196-b733-de9ca3bbceee",
   "metadata": {},
   "outputs": [],
   "source": [
    "#turn these into a dataframe\n",
    "results = pd.DataFrame(list(zip(cols, coefs)), columns=['feature','coeff'])\n",
    "results "
   ]
  },
  {
   "cell_type": "code",
   "execution_count": null,
   "id": "3b826259-b0a2-4c5a-b9be-1fdc32ceac0c",
   "metadata": {},
   "outputs": [],
   "source": [
    "#show results as a bar chart\n",
    "import plotly.express as px\n",
    "fig = px.bar(x=results['feature'], y=results['coeff'])\n",
    "fig.update_layout(\n",
    "    yaxis=dict( title='coefficient'),\n",
    "    xaxis=dict( title='predictor'),\n",
    ")\n",
    "fig.show()"
   ]
  },
  {
   "cell_type": "code",
   "execution_count": null,
   "id": "0c41bb04-353e-44f7-9de8-ac9b923353be",
   "metadata": {},
   "outputs": [],
   "source": [
    "#predict the y-values on the testing dataset\n",
    "y_preds = mymodel.predict(X_test)"
   ]
  },
  {
   "cell_type": "code",
   "execution_count": null,
   "id": "df36c333-039e-4113-9cda-a1fa0df132fe",
   "metadata": {},
   "outputs": [],
   "source": [
    "#compare some of the results of the predictions \n",
    "print([round(x,2) for x in y_preds[:5]])\n",
    "print(list(y_test[:5]))\n",
    "#much closer!!!"
   ]
  },
  {
   "cell_type": "code",
   "execution_count": null,
   "id": "1f2083ee-512f-4b07-be58-4eb660910b91",
   "metadata": {},
   "outputs": [],
   "source": [
    "#compare predictions to known values\n",
    "plt.figure(figsize=(6,6))\n",
    "ax = sns.regplot(x = y_preds, \n",
    "                 y = y_test, \n",
    "                 scatter_kws={\"color\": \"black\"}, \n",
    "                 line_kws={\"color\": \"red\"})\n",
    "ax.set(xlabel='predicted values', ylabel='true values');\n",
    "#still a lot more spread than I expected"
   ]
  },
  {
   "cell_type": "code",
   "execution_count": null,
   "id": "b044e968-e74e-44f0-be58-ccca95240aa7",
   "metadata": {},
   "outputs": [],
   "source": [
    "# check R-2 (coefficient of determination)\n",
    "r2 = metrics.r2_score(y_test, y_preds)\n",
    "round(r2, 2)\n",
    "#much better than before but still an interesting curve; seems like for the lower carat ranges, the linear relationship / modeling works well, but in the higher carat ranges, prices diverge more and start to look more parabolic. this makes sense because these sizes are probably much rarer so buyers will have to pay an extra premium above the features I have included in the model"
   ]
  },
  {
   "cell_type": "code",
   "execution_count": null,
   "id": "c17f3626-c5c9-4c64-9614-3f7b29a01dd5",
   "metadata": {},
   "outputs": [],
   "source": [
    "#other things I want to try:\n",
    "#is there a parabolic model?\n",
    "#or I could split the model even further into different carat ranges...\n",
    "#have to check if there is enough data for that though"
   ]
  },
  {
   "cell_type": "code",
   "execution_count": null,
   "id": "7e3afb50-d401-4946-bafb-744e00d8df89",
   "metadata": {},
   "outputs": [],
   "source": [
    "#add the scatter plots by carat range here"
   ]
  },
  {
   "cell_type": "markdown",
   "id": "9019dd46-512b-48ba-ba39-9364adc5522f",
   "metadata": {},
   "source": [
    "## Try Random Forest Regressor"
   ]
  },
  {
   "cell_type": "code",
   "execution_count": null,
   "id": "1da35343-e6a5-4060-bee0-979f849f135c",
   "metadata": {},
   "outputs": [],
   "source": [
    "#just run it on the original df + EDA"
   ]
  },
  {
   "cell_type": "code",
   "execution_count": null,
   "id": "8d46bb13-7a72-4293-88a5-bf533492cbc3",
   "metadata": {},
   "outputs": [],
   "source": [
    "df.shape #this is before I removed any of the data >2 carats #now I need to try it with less data..."
   ]
  },
  {
   "cell_type": "code",
   "execution_count": null,
   "id": "69196d7a-7b75-41e1-97bb-223414412209",
   "metadata": {},
   "outputs": [],
   "source": [
    "df_rf= df[['price', 'carat', 'cut', 'clarity', 'color', 'Other', 'IGI', 'GIA', 'polish', 'symmetry']].copy()\n",
    "df_rf.head()"
   ]
  },
  {
   "cell_type": "code",
   "execution_count": null,
   "id": "d6f746c8-72c8-4602-81c2-e3f8a6fdf154",
   "metadata": {},
   "outputs": [],
   "source": [
    "df_rf.shape"
   ]
  },
  {
   "cell_type": "code",
   "execution_count": null,
   "id": "d82e36e2-7a75-47d5-8387-a2ca2eab3ba8",
   "metadata": {},
   "outputs": [],
   "source": [
    "df_rf.isnull().sum()\n",
    "#confirming no missing data"
   ]
  },
  {
   "cell_type": "code",
   "execution_count": null,
   "id": "619f6ba6-39ee-4b0b-a3f2-069b02fdc0a2",
   "metadata": {},
   "outputs": [],
   "source": [
    "df_rf.dtypes\n",
    "#confirming all are non-categorial"
   ]
  },
  {
   "cell_type": "code",
   "execution_count": null,
   "id": "cf8d2544-8aa9-44e1-9bc6-6e865d805cfb",
   "metadata": {},
   "outputs": [],
   "source": [
    "y = df_rf['price']\n",
    "print(y.shape)"
   ]
  },
  {
   "cell_type": "code",
   "execution_count": null,
   "id": "d734a513-6e60-4e8d-881a-9c2d65655178",
   "metadata": {},
   "outputs": [],
   "source": [
    "#remove price from features list\n",
    "X = df_rf.drop('price', axis=1)\n",
    "print(X.shape)"
   ]
  },
  {
   "cell_type": "code",
   "execution_count": null,
   "id": "f275deb6-1ca0-4dc7-9bbc-43135c64e69c",
   "metadata": {},
   "outputs": [],
   "source": [
    "#train, test, split\n",
    "X_train, X_test, y_train, y_test = train_test_split(X, y, random_state=1)"
   ]
  },
  {
   "cell_type": "code",
   "execution_count": null,
   "id": "18629191-7674-4879-9385-36182e6ea573",
   "metadata": {},
   "outputs": [],
   "source": [
    "#try standardizing the features\n",
    "scaler = StandardScaler()"
   ]
  },
  {
   "cell_type": "code",
   "execution_count": null,
   "id": "884cea12-1f54-44fe-a249-5a76a759f486",
   "metadata": {},
   "outputs": [],
   "source": [
    "X_train_scaled = scaler.fit_transform(X_train)\n",
    "X_test_scaled = scaler.transform(X_test)"
   ]
  },
  {
   "cell_type": "code",
   "execution_count": null,
   "id": "2fa74d70-1047-4e5c-8162-cc37d2bf6475",
   "metadata": {},
   "outputs": [],
   "source": [
    "#instantiate the model; used random paramaters for now\n",
    "rand_forest = RandomForestRegressor(n_estimators = 100, max_features = 'sqrt', max_depth = 5, criterion = 'squared_error', random_state = 42)"
   ]
  },
  {
   "cell_type": "code",
   "execution_count": null,
   "id": "1433e819-ca86-4432-868c-056ad9157a35",
   "metadata": {},
   "outputs": [],
   "source": [
    "rand_forest.fit(X_train_scaled, y_train)"
   ]
  },
  {
   "cell_type": "code",
   "execution_count": null,
   "id": "6730b0a2-2fc9-4f72-adae-623cd82706b5",
   "metadata": {},
   "outputs": [],
   "source": [
    "#Predict\n",
    "y_preds=rand_forest.predict(X_test_scaled)\n",
    "print('preds', list(y_preds[:10]))\n",
    "print('truth', list(y_test[:10]))\n",
    "#doesn't look too good"
   ]
  },
  {
   "cell_type": "code",
   "execution_count": null,
   "id": "4dfc7633-e0b4-4326-a359-d57f50b74a7c",
   "metadata": {},
   "outputs": [],
   "source": [
    "#evaluate the model\n",
    "prediction = rand_forest.predict(X_train_scaled)\n",
    "mse = mean_squared_error(y_test, y_preds)\n",
    "rmse = mse**.5\n",
    "print(mse)\n",
    "print(rmse)\n",
    "#the error looks high.."
   ]
  },
  {
   "cell_type": "markdown",
   "id": "8ae437c4-bd81-48c3-881b-72b54257a11a",
   "metadata": {},
   "source": [
    "## Try to Optimize with Grid Search"
   ]
  },
  {
   "cell_type": "code",
   "execution_count": null,
   "id": "7a30eb42-148b-47e5-a661-c43c82085ff7",
   "metadata": {},
   "outputs": [],
   "source": [
    "#define grid\n",
    "grid = { \n",
    "    'n_estimators': [100,200,300,400,500],\n",
    "    'max_features': ['sqrt','log2'],\n",
    "    'max_depth' : [3,4,5,6,7],\n",
    "    'random_state' : [42]\n",
    "}\n",
    "#didn't try this one again after scaling since scaling didn't improve the error"
   ]
  },
  {
   "cell_type": "code",
   "execution_count": null,
   "id": "75a0f52f-7341-4ee1-b8cb-0fe8f3ee8e63",
   "metadata": {},
   "outputs": [],
   "source": [
    "#comment out for now so it doesn't run every time\n",
    "#CV_rfr = GridSearchCV(estimator=RandomForestRegressor(), param_grid=grid, cv= 5)\n",
    "#CV_rfr.fit(X_train, y_train)"
   ]
  },
  {
   "cell_type": "code",
   "execution_count": null,
   "id": "ace7c4c1-848f-43e4-b746-27554eba4b5a",
   "metadata": {},
   "outputs": [],
   "source": [
    "#print(CV_rfr.best_params_)"
   ]
  },
  {
   "cell_type": "code",
   "execution_count": null,
   "id": "e7b86e32-adc5-41a5-b61c-f91fb51ab685",
   "metadata": {},
   "outputs": [],
   "source": [
    "#try again with these parameters\n",
    "rand_forest = RandomForestRegressor(n_estimators = 100, max_features = 'sqrt', max_depth = 7, random_state = 42)"
   ]
  },
  {
   "cell_type": "code",
   "execution_count": null,
   "id": "14a842dc-2629-4e2a-b412-700fd902c4c4",
   "metadata": {},
   "outputs": [],
   "source": [
    "rand_forest.fit(X_train, y_train)"
   ]
  },
  {
   "cell_type": "code",
   "execution_count": null,
   "id": "f94a3bd2-48ef-488c-8d70-804038a7d8b8",
   "metadata": {},
   "outputs": [],
   "source": [
    "#Predict\n",
    "y_preds=rand_forest.predict(X_test)\n",
    "print('preds', list(y_preds[:10]))\n",
    "print('truth', list(y_test[:10]))\n",
    "#still doesn't look great"
   ]
  },
  {
   "cell_type": "code",
   "execution_count": null,
   "id": "a56ad463-432d-441e-955e-cdf62cb0c08d",
   "metadata": {},
   "outputs": [],
   "source": [
    "#evaluate the model\n",
    "prediction = rand_forest.predict(X_test)\n",
    "mse = mean_squared_error(y_test, y_preds)\n",
    "rmse = mse**.5\n",
    "print(mse)\n",
    "print(rmse)\n",
    "#the error is lower but still high"
   ]
  },
  {
   "cell_type": "markdown",
   "id": "e992d56a-14a5-4994-b528-dfb9f1b20337",
   "metadata": {},
   "source": [
    "## Try XG Boost Regressor"
   ]
  },
  {
   "cell_type": "code",
   "execution_count": null,
   "id": "2ed981e6-b312-4b55-851d-5347a69b1b0f",
   "metadata": {},
   "outputs": [],
   "source": [
    "#decide which features I want to include and the cutoff for carat size; no cutoff for now\n",
    "df_xg= df[['price', 'carat', 'cut', 'clarity', 'color', 'Other', 'IGI', 'GIA', 'polish', 'symmetry']].copy()\n",
    "df_xg.head()"
   ]
  },
  {
   "cell_type": "code",
   "execution_count": null,
   "id": "4fd6dfb9-6043-4dab-b770-2dbe6158dacf",
   "metadata": {},
   "outputs": [],
   "source": [
    "df_xg.shape"
   ]
  },
  {
   "cell_type": "code",
   "execution_count": null,
   "id": "f29b9019-3ca6-4c85-8bb3-fcbaf4e0e5a9",
   "metadata": {},
   "outputs": [],
   "source": [
    "df_xg.isnull().sum()\n",
    "#confirming no missing data"
   ]
  },
  {
   "cell_type": "code",
   "execution_count": null,
   "id": "1b03adf2-a6af-44b4-b0a8-5254094485ff",
   "metadata": {},
   "outputs": [],
   "source": [
    "df_xg.dtypes\n",
    "#confirming all are non-categorial"
   ]
  },
  {
   "cell_type": "code",
   "execution_count": null,
   "id": "941c5094-911b-4715-96e3-ee3c0a9f75e4",
   "metadata": {
    "tags": []
   },
   "outputs": [],
   "source": [
    "y = df_xg['price']\n",
    "print(y.shape)"
   ]
  },
  {
   "cell_type": "code",
   "execution_count": null,
   "id": "ce765fe3-7f7b-469e-bf4a-d3acd3f61f93",
   "metadata": {},
   "outputs": [],
   "source": [
    "#remove price from features list\n",
    "X = df_xg.drop('price', axis=1)\n",
    "print(X.shape)"
   ]
  },
  {
   "cell_type": "code",
   "execution_count": null,
   "id": "19f61827-a986-44b2-bb0e-e7b3eda83f52",
   "metadata": {},
   "outputs": [],
   "source": [
    "#train, test, split\n",
    "X_train, X_test, y_train, y_test = train_test_split(X, y, random_state=1)"
   ]
  },
  {
   "cell_type": "code",
   "execution_count": null,
   "id": "5c2f1c7e-2baa-4bc9-a9d3-c27370a559e0",
   "metadata": {},
   "outputs": [],
   "source": [
    "#set up the model (arbitrary parameters for now)\n",
    "\n",
    "xgb_model = XGBRegressor(objective = 'reg:linear', n_estimators = 10, seed = 123)"
   ]
  },
  {
   "cell_type": "code",
   "execution_count": null,
   "id": "3642532e-90dd-4338-96fa-b498574b499b",
   "metadata": {},
   "outputs": [],
   "source": [
    "#fit the model\n",
    "xgb_model.fit(X_train, y_train)"
   ]
  },
  {
   "cell_type": "code",
   "execution_count": null,
   "id": "0152b057-122c-443a-986c-2833835f8240",
   "metadata": {},
   "outputs": [],
   "source": [
    "#predict\n",
    "y_preds = xgb_model.predict(X_test)"
   ]
  },
  {
   "cell_type": "code",
   "execution_count": null,
   "id": "e38864b8-f235-4b16-96bc-97564df55c2c",
   "metadata": {},
   "outputs": [],
   "source": [
    "#evaluate with RMSE\n",
    "rmse = np.sqrt(mean_squared_error(y_test, y_preds))\n",
    "print(\"RMSE : % f\" %(rmse))"
   ]
  },
  {
   "cell_type": "code",
   "execution_count": null,
   "id": "4791cb9f-4b53-491b-b4e9-f74c565b99ab",
   "metadata": {},
   "outputs": [],
   "source": [
    "#definitely better than random forest, but probably a lot better if I cut the data into <2 carats too\n",
    "#can also try grid search after I cut the data"
   ]
  },
  {
   "cell_type": "markdown",
   "id": "ce3190b4-d45f-475d-85a5-a8aa181202f3",
   "metadata": {},
   "source": [
    "## XG Boost Part 2 (<=2 Carats Only)"
   ]
  },
  {
   "cell_type": "code",
   "execution_count": null,
   "id": "e5711401-9e03-46e2-86c6-daf35e8256e2",
   "metadata": {},
   "outputs": [],
   "source": [
    "#create new dataframe with only diamonds 2 carats and below for use in any model\n",
    "df_2ct = df[(df[\"carat\"]<2)]"
   ]
  },
  {
   "cell_type": "code",
   "execution_count": null,
   "id": "59d7cda5-c071-40d4-b1df-125dcba7b3a8",
   "metadata": {},
   "outputs": [],
   "source": [
    "df_2ct.shape"
   ]
  },
  {
   "cell_type": "code",
   "execution_count": null,
   "id": "f6ad2588-8bb0-43f4-a9cd-e95261432896",
   "metadata": {},
   "outputs": [],
   "source": [
    "#decide which features I want to include\n",
    "df_xg2= df_2ct[['price', 'carat', 'cut', 'clarity', 'color', 'Other', 'IGI', 'GIA', 'polish', 'symmetry']].copy()\n",
    "df_xg2.head()"
   ]
  },
  {
   "cell_type": "code",
   "execution_count": null,
   "id": "43bca5cb-dcaa-4346-b28f-b59edf05b140",
   "metadata": {},
   "outputs": [],
   "source": [
    "df_xg2.shape"
   ]
  },
  {
   "cell_type": "code",
   "execution_count": null,
   "id": "94c4291e-a76a-4313-ac83-4d1576a0277a",
   "metadata": {},
   "outputs": [],
   "source": [
    "df_xg2.isnull().sum()"
   ]
  },
  {
   "cell_type": "code",
   "execution_count": null,
   "id": "a235d921-65f5-4a35-9186-8b0babb3cd4e",
   "metadata": {},
   "outputs": [],
   "source": [
    "df_xg2.dtypes"
   ]
  },
  {
   "cell_type": "code",
   "execution_count": null,
   "id": "2993084e-b0ed-4a32-a542-ee4f223a2df4",
   "metadata": {
    "tags": []
   },
   "outputs": [],
   "source": [
    "y = df_xg2['price']\n",
    "print(y.shape)"
   ]
  },
  {
   "cell_type": "code",
   "execution_count": null,
   "id": "de222ab7-bfcb-43da-b1df-ce5e573ef46a",
   "metadata": {},
   "outputs": [],
   "source": [
    "#remove price from features list\n",
    "X = df_xg2.drop('price', axis=1)\n",
    "print(X.shape)"
   ]
  },
  {
   "cell_type": "code",
   "execution_count": null,
   "id": "6c09b95c-8ec9-4683-83de-cafd6ab2b696",
   "metadata": {},
   "outputs": [],
   "source": [
    "#train, test, split\n",
    "X_train, X_test, y_train, y_test = train_test_split(X, y, random_state=1)"
   ]
  },
  {
   "cell_type": "code",
   "execution_count": null,
   "id": "2a675ba1-7f74-45ce-895d-22e7b2878df7",
   "metadata": {},
   "outputs": [],
   "source": [
    "#set up the model (arbitrary parameters for now)\n",
    "\n",
    "xgb_model = XGBRegressor(objective = 'reg:linear', n_estimators = 10, seed = 123)"
   ]
  },
  {
   "cell_type": "code",
   "execution_count": null,
   "id": "071b37e8-5721-4c1a-826b-37162da0202b",
   "metadata": {},
   "outputs": [],
   "source": [
    "#fit the model\n",
    "xgb_model.fit(X_train, y_train)"
   ]
  },
  {
   "cell_type": "code",
   "execution_count": null,
   "id": "dd7529f2-af4a-441e-88f6-153c22faa56f",
   "metadata": {},
   "outputs": [],
   "source": [
    "#predict\n",
    "y_preds = xgb_model.predict(X_test)"
   ]
  },
  {
   "cell_type": "code",
   "execution_count": null,
   "id": "7ad5d1dc-3114-4ae2-969f-a75b85c50a2a",
   "metadata": {},
   "outputs": [],
   "source": [
    "#evaluate with RMSE\n",
    "rmse = np.sqrt(mean_squared_error(y_test, y_preds))\n",
    "print(\"RMSE : % f\" %(rmse))\n",
    "#much better!!!\n",
    "#does this mean that on average my model is \"wrong\" by $600?"
   ]
  },
  {
   "cell_type": "code",
   "execution_count": null,
   "id": "90ff49de-07fa-44e0-8ff6-99f603ab951d",
   "metadata": {},
   "outputs": [],
   "source": [
    "#plot the values\n",
    "plt.figure(figsize=(6,6))\n",
    "ax = sns.regplot(x = y_preds, \n",
    "                 y = y_test, \n",
    "                 scatter_kws={\"color\": \"black\"}, \n",
    "                 line_kws={\"color\": \"red\"})\n",
    "ax.set(xlabel='predicted values', ylabel='true values');\n",
    "#this one looks so much better"
   ]
  },
  {
   "cell_type": "code",
   "execution_count": null,
   "id": "370255b9-a2d2-4afa-80f7-b625c2ab134d",
   "metadata": {},
   "outputs": [],
   "source": [
    "#remaining question for Sonyah - how else do I evaluate the error / accuracy of this model?"
   ]
  },
  {
   "cell_type": "markdown",
   "id": "54269051-5423-4a6b-85c1-39f232be08b3",
   "metadata": {},
   "source": [
    "## Try to Optimize XG Boost with Grid Search"
   ]
  },
  {
   "cell_type": "code",
   "execution_count": null,
   "id": "0fb893b5-82d1-4ea9-94c6-227b3fe80118",
   "metadata": {},
   "outputs": [],
   "source": [
    "#got this from some googling - not sure what all of it means...\n",
    "#comment out for now\n",
    "#xgb_gs = XGBRegressor()\n",
    "#parameters = {'nthread':[4], #when use hyperthread, xgboost may become slower\n",
    "#              'objective':['reg:linear'],\n",
    "#              'learning_rate': [.03, 0.05, .07], #so called `eta` value\n",
    "#              'max_depth': [5, 6, 7],\n",
    "#              'min_child_weight': [4],\n",
    "#              'silent': [1],\n",
    "#              'subsample': [0.7],\n",
    "#              'colsample_bytree': [0.7],\n",
    "#              'n_estimators': [500]}"
   ]
  },
  {
   "cell_type": "code",
   "execution_count": null,
   "id": "2a35537e-a008-4753-933f-d14e298aa5df",
   "metadata": {},
   "outputs": [],
   "source": [
    "#xgb_grid = GridSearchCV(xgb_gs,\n",
    "#                        parameters,\n",
    "#                        cv = 2,\n",
    "#                        n_jobs = 5,\n",
    "#                        verbose=True)"
   ]
  },
  {
   "cell_type": "code",
   "execution_count": null,
   "id": "ac09c665-5fef-41a4-9760-4ef98bbe925f",
   "metadata": {
    "tags": []
   },
   "outputs": [],
   "source": [
    "#xgb_grid.fit(X_train,\n",
    "#        y_train)"
   ]
  },
  {
   "cell_type": "code",
   "execution_count": null,
   "id": "39331130-c152-44d3-8d76-0e28a67ce0ee",
   "metadata": {},
   "outputs": [],
   "source": [
    "#print(xgb_grid.best_score_)\n",
    "#print(xgb_grid.best_params_)"
   ]
  },
  {
   "cell_type": "code",
   "execution_count": null,
   "id": "131b30f6-acd9-4237-8337-47e72629fb01",
   "metadata": {},
   "outputs": [],
   "source": [
    "#maybe add a summary of the different evaluation metrics from the different models"
   ]
  },
  {
   "cell_type": "code",
   "execution_count": null,
   "id": "930e4887-fbd9-4c70-af0d-e899fe6af103",
   "metadata": {},
   "outputs": [],
   "source": [
    "#new model with grid search parameters\n",
    "xgb_model = XGBRegressor('colsample_bytree': 0.7, 'learning_rate': 0.03, 'max_depth': 6, 'min_child_weight': 4, 'n_estimators': 500, 'nthread': 4, 'objective': 'reg:linear', 'silent': 1, 'subsample': 0.7)"
   ]
  },
  {
   "cell_type": "code",
   "execution_count": null,
   "id": "dec0ef7f-cc9d-4865-86d7-7921fdd5b1fa",
   "metadata": {},
   "outputs": [],
   "source": [
    "#fit the model\n",
    "xgb_model.fit(X_train, y_train)"
   ]
  },
  {
   "cell_type": "code",
   "execution_count": null,
   "id": "a7db2b43-6574-41d3-abf8-1b1d0bbee1e9",
   "metadata": {},
   "outputs": [],
   "source": [
    "#predict\n",
    "y_preds = xgb_model.predict(X_test)"
   ]
  },
  {
   "cell_type": "code",
   "execution_count": null,
   "id": "bb871a57-0388-4a7f-a925-f32359185948",
   "metadata": {},
   "outputs": [],
   "source": [
    "#evaluate with RMSE\n",
    "rmse = np.sqrt(mean_squared_error(y_test, y_preds))\n",
    "print(\"RMSE : % f\" %(rmse))\n",
    "#it's still the same RMSE without the grid search?"
   ]
  },
  {
   "cell_type": "code",
   "execution_count": null,
   "id": "3d37f01a-df0a-4e4c-829b-3d3b94a0898d",
   "metadata": {},
   "outputs": [],
   "source": [
    "#how to interpret this though?"
   ]
  },
  {
   "cell_type": "code",
   "execution_count": null,
   "id": "918ad3b5-a32d-48f6-a0e9-a4a1c0702a40",
   "metadata": {},
   "outputs": [],
   "source": [
    "y_train"
   ]
  },
  {
   "cell_type": "code",
   "execution_count": null,
   "id": "d6e93a57-a0cf-44ba-a99f-642c4afe0727",
   "metadata": {},
   "outputs": [],
   "source": [
    "#is this error more or less than if we just used the average as our model?\n",
    "avg_val = y_train.mean()\n",
    "avg_val"
   ]
  },
  {
   "cell_type": "code",
   "execution_count": null,
   "id": "705e825e-1461-4212-bd0d-6ebc3229e0fc",
   "metadata": {},
   "outputs": [],
   "source": [
    "#what would the error be if I predicted the average price for all diamonds?\n",
    "comparison = np.full((len(y_test), ), avg_val)\n",
    "comparison[:10]"
   ]
  },
  {
   "cell_type": "code",
   "execution_count": null,
   "id": "4e00ad84-6632-4b7d-9535-9f939a1a6d36",
   "metadata": {},
   "outputs": [],
   "source": [
    "#compare that to my predictions\n",
    "y_preds[:10]\n",
    "#something is very off because the values are negative"
   ]
  },
  {
   "cell_type": "code",
   "execution_count": null,
   "id": "f606004b-2a22-43c1-858a-b86afa1907d0",
   "metadata": {},
   "outputs": [],
   "source": [
    "#compare these two:\n",
    "sqrt(metrics.mean_squared_error(y_test, comparison))"
   ]
  },
  {
   "cell_type": "code",
   "execution_count": null,
   "id": "59aa6cf0-071f-405d-a847-de23f0ec0b40",
   "metadata": {},
   "outputs": [],
   "source": [
    "# check R-2 (coefficient of determination)\n",
    "r2 = metrics.r2_score(y_test, y_preds)\n",
    "round(r2, 2)\n",
    "#very bad...need to fix something"
   ]
  }
 ],
 "metadata": {
  "kernelspec": {
   "display_name": "default:Python",
   "language": "python",
   "name": "conda-env-default-py"
  },
  "language_info": {
   "codemirror_mode": {
    "name": "ipython",
    "version": 3
   },
   "file_extension": ".py",
   "mimetype": "text/x-python",
   "name": "python",
   "nbconvert_exporter": "python",
   "pygments_lexer": "ipython3",
   "version": "3.9.13"
  }
 },
 "nbformat": 4,
 "nbformat_minor": 5
}

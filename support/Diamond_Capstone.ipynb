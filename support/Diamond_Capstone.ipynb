{
 "cells": [
  {
   "cell_type": "markdown",
   "id": "0407de61-6adc-4f3c-a76f-89c14e80056d",
   "metadata": {},
   "source": [
    "## Capstone Project - Diamond Prices (Part 1 - Round Only)"
   ]
  },
  {
   "cell_type": "code",
   "execution_count": 188,
   "id": "e4130164-1f7e-4424-8f43-87500cbfb89a",
   "metadata": {},
   "outputs": [],
   "source": [
    "#I was able to get a large dataset of diamond prices from recent years (2017+) through a contact at a diamond aggregator company\n",
    "#It has more features than the public datasets I looked at on Kaggle\n",
    "#In addition, it has a robust amount of data for fancy shapes (non-round), while the Kaggle dataset was only for round diamonds\n",
    "#I will split my model into round and non-round to reflect industry pricing standards (Rapaport guide)\n",
    "#Example of Rapaport pricing guide: https://www.diamonds.net/Prices/RapaportPriceGuide.aspx"
   ]
  },
  {
   "cell_type": "code",
   "execution_count": 243,
   "id": "0f97d0ae-fa3a-4fff-a68b-7c42c1b075b2",
   "metadata": {},
   "outputs": [],
   "source": [
    "import pandas as pd\n",
    "from sklearn.linear_model import LinearRegression\n",
    "from sklearn.model_selection import train_test_split\n",
    "from sklearn import metrics\n",
    "from sklearn.tree import DecisionTreeClassifier\n",
    "from sklearn.model_selection import train_test_split\n",
    "from sklearn.preprocessing import StandardScaler, Normalizer\n",
    "from sklearn.datasets import fetch_openml\n",
    "from sklearn import svm\n",
    "from sklearn import tree\n",
    "from sklearn.model_selection import cross_val_score\n",
    "from sklearn.naive_bayes import MultinomialNB, BernoulliNB, GaussianNB\n",
    "from sklearn.pipeline import Pipeline\n",
    "from sklearn.metrics import classification_report,confusion_matrix,accuracy_score, roc_curve\n",
    "from sklearn.neighbors import KNeighborsClassifier\n",
    "from sklearn.ensemble import RandomForestClassifier, ExtraTreesClassifier, BaggingClassifier\n",
    "from sklearn.metrics import roc_auc_score\n",
    "from sklearn.model_selection import GridSearchCV\n",
    "from sklearn.pipeline import Pipeline\n",
    "import matplotlib.pyplot as plt\n",
    "import numpy as np\n",
    "from math import sqrt\n",
    "import pickle\n",
    "import xgboost\n",
    "from xgboost import XGBClassifier\n",
    "import plotly as py\n",
    "import plotly.graph_objs as go\n",
    "import seaborn as sns"
   ]
  },
  {
   "cell_type": "code",
   "execution_count": 190,
   "id": "d1bb21c4-b653-423e-aa30-e71a99f6d88b",
   "metadata": {},
   "outputs": [
    {
     "data": {
      "text/html": [
       "<div>\n",
       "<style scoped>\n",
       "    .dataframe tbody tr th:only-of-type {\n",
       "        vertical-align: middle;\n",
       "    }\n",
       "\n",
       "    .dataframe tbody tr th {\n",
       "        vertical-align: top;\n",
       "    }\n",
       "\n",
       "    .dataframe thead th {\n",
       "        text-align: right;\n",
       "    }\n",
       "</style>\n",
       "<table border=\"1\" class=\"dataframe\">\n",
       "  <thead>\n",
       "    <tr style=\"text-align: right;\">\n",
       "      <th></th>\n",
       "      <th>shape</th>\n",
       "      <th>carat</th>\n",
       "      <th>cut</th>\n",
       "      <th>color</th>\n",
       "      <th>clarity</th>\n",
       "      <th>price</th>\n",
       "      <th>certificateLab</th>\n",
       "      <th>certificateID</th>\n",
       "      <th>depth_pct</th>\n",
       "      <th>table_width_pct</th>\n",
       "      <th>polish</th>\n",
       "      <th>symmetry</th>\n",
       "      <th>fluorescence</th>\n",
       "      <th>crownAngle</th>\n",
       "      <th>crownHeight</th>\n",
       "      <th>pavilionAngle</th>\n",
       "      <th>pavilionDepth</th>\n",
       "      <th>measurements</th>\n",
       "    </tr>\n",
       "  </thead>\n",
       "  <tbody>\n",
       "    <tr>\n",
       "      <th>0</th>\n",
       "      <td>Round</td>\n",
       "      <td>3.01</td>\n",
       "      <td>Very Good</td>\n",
       "      <td>D</td>\n",
       "      <td>VS2</td>\n",
       "      <td>96980.26</td>\n",
       "      <td>GIA</td>\n",
       "      <td>16834315</td>\n",
       "      <td>62.6</td>\n",
       "      <td>57.0</td>\n",
       "      <td>Very Good                                     ...</td>\n",
       "      <td>Excellent                                     ...</td>\n",
       "      <td>None</td>\n",
       "      <td>36.5</td>\n",
       "      <td>16.0</td>\n",
       "      <td>40.4</td>\n",
       "      <td>42.5</td>\n",
       "      <td>9.15x9.08x5.71</td>\n",
       "    </tr>\n",
       "    <tr>\n",
       "      <th>1</th>\n",
       "      <td>Round</td>\n",
       "      <td>1.26</td>\n",
       "      <td>Excellent</td>\n",
       "      <td>I</td>\n",
       "      <td>SI1</td>\n",
       "      <td>7722.58</td>\n",
       "      <td>GIA</td>\n",
       "      <td>5106816542</td>\n",
       "      <td>62.2</td>\n",
       "      <td>55.0</td>\n",
       "      <td>Excellent                                     ...</td>\n",
       "      <td>Excellent                                     ...</td>\n",
       "      <td>None</td>\n",
       "      <td>34.5</td>\n",
       "      <td>15.5</td>\n",
       "      <td>41.2</td>\n",
       "      <td>43.5</td>\n",
       "      <td>6.98x6.94x4.33</td>\n",
       "    </tr>\n",
       "    <tr>\n",
       "      <th>2</th>\n",
       "      <td>Round</td>\n",
       "      <td>4.03</td>\n",
       "      <td>Very Good</td>\n",
       "      <td>E</td>\n",
       "      <td>VS1</td>\n",
       "      <td>239200.00</td>\n",
       "      <td>GIA</td>\n",
       "      <td>17154415</td>\n",
       "      <td>62.2</td>\n",
       "      <td>56.0</td>\n",
       "      <td>Excellent                                     ...</td>\n",
       "      <td>Very Good                                     ...</td>\n",
       "      <td>None</td>\n",
       "      <td>35.0</td>\n",
       "      <td>16.0</td>\n",
       "      <td>40.6</td>\n",
       "      <td>43.0</td>\n",
       "      <td>10.21x10.08x6.31</td>\n",
       "    </tr>\n",
       "    <tr>\n",
       "      <th>3</th>\n",
       "      <td>Round</td>\n",
       "      <td>1.86</td>\n",
       "      <td>Excellent</td>\n",
       "      <td>E</td>\n",
       "      <td>VS2</td>\n",
       "      <td>27508.00</td>\n",
       "      <td>GIA</td>\n",
       "      <td>2121115822</td>\n",
       "      <td>62.5</td>\n",
       "      <td>57.0</td>\n",
       "      <td>Excellent                                     ...</td>\n",
       "      <td>Excellent                                     ...</td>\n",
       "      <td>None</td>\n",
       "      <td>35.5</td>\n",
       "      <td>15.5</td>\n",
       "      <td>41.0</td>\n",
       "      <td>43.5</td>\n",
       "      <td>7.85x7.80x4.89</td>\n",
       "    </tr>\n",
       "    <tr>\n",
       "      <th>4</th>\n",
       "      <td>Round</td>\n",
       "      <td>4.28</td>\n",
       "      <td>Very Good</td>\n",
       "      <td>H</td>\n",
       "      <td>SI1</td>\n",
       "      <td>84081.29</td>\n",
       "      <td>GIA</td>\n",
       "      <td>16291982</td>\n",
       "      <td>61.3</td>\n",
       "      <td>56.0</td>\n",
       "      <td>Excellent                                     ...</td>\n",
       "      <td>Very Good                                     ...</td>\n",
       "      <td>None</td>\n",
       "      <td>36.0</td>\n",
       "      <td>16.5</td>\n",
       "      <td>40.2</td>\n",
       "      <td>42.0</td>\n",
       "      <td>10.49x10.41x6.41</td>\n",
       "    </tr>\n",
       "  </tbody>\n",
       "</table>\n",
       "</div>"
      ],
      "text/plain": [
       "   shape  carat        cut color clarity      price certificateLab  \\\n",
       "0  Round   3.01  Very Good     D     VS2   96980.26            GIA   \n",
       "1  Round   1.26  Excellent     I     SI1    7722.58            GIA   \n",
       "2  Round   4.03  Very Good     E     VS1  239200.00            GIA   \n",
       "3  Round   1.86  Excellent     E     VS2   27508.00            GIA   \n",
       "4  Round   4.28  Very Good     H     SI1   84081.29            GIA   \n",
       "\n",
       "  certificateID  depth_pct  table_width_pct  \\\n",
       "0      16834315       62.6             57.0   \n",
       "1    5106816542       62.2             55.0   \n",
       "2      17154415       62.2             56.0   \n",
       "3    2121115822       62.5             57.0   \n",
       "4      16291982       61.3             56.0   \n",
       "\n",
       "                                              polish  \\\n",
       "0  Very Good                                     ...   \n",
       "1  Excellent                                     ...   \n",
       "2  Excellent                                     ...   \n",
       "3  Excellent                                     ...   \n",
       "4  Excellent                                     ...   \n",
       "\n",
       "                                            symmetry fluorescence  crownAngle  \\\n",
       "0  Excellent                                     ...         None        36.5   \n",
       "1  Excellent                                     ...         None        34.5   \n",
       "2  Very Good                                     ...         None        35.0   \n",
       "3  Excellent                                     ...         None        35.5   \n",
       "4  Very Good                                     ...         None        36.0   \n",
       "\n",
       "   crownHeight  pavilionAngle  pavilionDepth      measurements  \n",
       "0         16.0           40.4           42.5    9.15x9.08x5.71  \n",
       "1         15.5           41.2           43.5    6.98x6.94x4.33  \n",
       "2         16.0           40.6           43.0  10.21x10.08x6.31  \n",
       "3         15.5           41.0           43.5    7.85x7.80x4.89  \n",
       "4         16.5           40.2           42.0  10.49x10.41x6.41  "
      ]
     },
     "execution_count": 190,
     "metadata": {},
     "output_type": "execute_result"
    }
   ],
   "source": [
    "df = pd.read_csv('../assets/Diamond Capstone Round Only.csv')\n",
    "df.head()"
   ]
  },
  {
   "cell_type": "markdown",
   "id": "027767e3-c746-4860-8865-917a86d73d78",
   "metadata": {},
   "source": [
    "## Exploratory Data Analysis"
   ]
  },
  {
   "cell_type": "code",
   "execution_count": 191,
   "id": "05c7140b-20a1-43f5-8182-d82fa4b7ff0c",
   "metadata": {},
   "outputs": [
    {
     "data": {
      "text/plain": [
       "(111469, 18)"
      ]
     },
     "execution_count": 191,
     "metadata": {},
     "output_type": "execute_result"
    }
   ],
   "source": [
    "df.shape\n",
    "#>100K records\n",
    "#18 features! more than the public dataset I worked with previously"
   ]
  },
  {
   "cell_type": "code",
   "execution_count": 192,
   "id": "5a2ffd68-0db5-4739-8f11-9dfd8f6b60b0",
   "metadata": {},
   "outputs": [
    {
     "data": {
      "text/plain": [
       "shape                0\n",
       "carat                0\n",
       "cut                  0\n",
       "color              539\n",
       "clarity              0\n",
       "price                0\n",
       "certificateLab       0\n",
       "certificateID        0\n",
       "depth_pct            0\n",
       "table_width_pct      0\n",
       "polish              33\n",
       "symmetry           260\n",
       "fluorescence       273\n",
       "crownAngle           0\n",
       "crownHeight          0\n",
       "pavilionAngle        0\n",
       "pavilionDepth        0\n",
       "measurements         0\n",
       "dtype: int64"
      ]
     },
     "execution_count": 192,
     "metadata": {},
     "output_type": "execute_result"
    }
   ],
   "source": [
    "#check for missing data\n",
    "df.isnull().sum()\n",
    "#some missing data, but pretty small compared to the number of records (<1%) so I will drop them rather than trying to fill them in"
   ]
  },
  {
   "cell_type": "code",
   "execution_count": 193,
   "id": "35297928-2002-4ce7-b679-96a1381f9351",
   "metadata": {},
   "outputs": [
    {
     "name": "stdout",
     "output_type": "stream",
     "text": [
      "E      17584\n",
      "D      17235\n",
      "F      16998\n",
      "G      16694\n",
      "H      14529\n",
      "I      11219\n",
      "J       7347\n",
      "K       4530\n",
      "L       2520\n",
      "M       2255\n",
      "NaN      539\n",
      "N         11\n",
      "OP         4\n",
      "UV         2\n",
      "QR         1\n",
      "XY         1\n",
      "Name: color, dtype: int64\n",
      "E     17584\n",
      "D     17235\n",
      "F     16998\n",
      "G     16694\n",
      "H     14529\n",
      "I     11219\n",
      "J      7347\n",
      "K      4530\n",
      "L      2520\n",
      "M      2255\n",
      "N        11\n",
      "OP        4\n",
      "UV        2\n",
      "QR        1\n",
      "XY        1\n",
      "Name: color, dtype: int64\n"
     ]
    }
   ],
   "source": [
    "#drop the records that are missing color\n",
    "print(df['color'].value_counts(dropna = False))\n",
    "df.dropna(subset=['color'], inplace=True)\n",
    "print(df['color'].value_counts(dropna=False))"
   ]
  },
  {
   "cell_type": "code",
   "execution_count": 194,
   "id": "2a4aced3-e18d-4ca0-9b81-835a846f3933",
   "metadata": {},
   "outputs": [
    {
     "data": {
      "text/plain": [
       "shape                0\n",
       "carat                0\n",
       "cut                  0\n",
       "color                0\n",
       "clarity              0\n",
       "price                0\n",
       "certificateLab       0\n",
       "certificateID        0\n",
       "depth_pct            0\n",
       "table_width_pct      0\n",
       "polish              29\n",
       "symmetry           252\n",
       "fluorescence       208\n",
       "crownAngle           0\n",
       "crownHeight          0\n",
       "pavilionAngle        0\n",
       "pavilionDepth        0\n",
       "measurements         0\n",
       "dtype: int64"
      ]
     },
     "execution_count": 194,
     "metadata": {},
     "output_type": "execute_result"
    }
   ],
   "source": [
    "df.isnull().sum()"
   ]
  },
  {
   "cell_type": "code",
   "execution_count": 195,
   "id": "93b1e149-e99e-4792-b0ee-25ed1755d739",
   "metadata": {},
   "outputs": [],
   "source": [
    "#check what the possible values are for polish, symmetry, and flourescence"
   ]
  },
  {
   "cell_type": "code",
   "execution_count": 196,
   "id": "f1886f73-d077-446c-8b8d-69a5b4d354f5",
   "metadata": {},
   "outputs": [
    {
     "name": "stdout",
     "output_type": "stream",
     "text": [
      "None                78987\n",
      "Faint               15107\n",
      "Medium               9501\n",
      "Strong               5146\n",
      "Very Slight           848\n",
      "Slight                482\n",
      "Very Strong           437\n",
      "NaN                   208\n",
      "Medium Blue           111\n",
      "Strong Blue            83\n",
      "Very Strong Blue       19\n",
      "Medium White            1\n",
      "Name: fluorescence, dtype: int64\n"
     ]
    }
   ],
   "source": [
    "print(df['fluorescence'].value_counts(dropna=False))"
   ]
  },
  {
   "cell_type": "code",
   "execution_count": 197,
   "id": "635c40b9-ed30-47ed-8cf7-21d3161d2b20",
   "metadata": {},
   "outputs": [
    {
     "name": "stdout",
     "output_type": "stream",
     "text": [
      "Excellent                                             72185\n",
      "Very Good                                             25844\n",
      "Good                                                   6475\n",
      "Excellent                                              2304\n",
      "Very Good                                              1789\n",
      "Fair                                                    856\n",
      "Good                                                    800\n",
      "Ideal                                                   406\n",
      "NaN                                                     252\n",
      "Ideal                                                     9\n",
      "Fair                                                      7\n",
      "Poor                                                      3\n",
      "Name: symmetry, dtype: int64\n"
     ]
    }
   ],
   "source": [
    "print(df['symmetry'].value_counts(dropna=False))"
   ]
  },
  {
   "cell_type": "code",
   "execution_count": 198,
   "id": "21fcab0b-fdf1-4093-ab1c-b020b9a002d0",
   "metadata": {},
   "outputs": [
    {
     "name": "stdout",
     "output_type": "stream",
     "text": [
      "Excellent                                             84671\n",
      "Very Good                                             17445\n",
      "Excellent                                              3874\n",
      "Good                                                   3326\n",
      "Very Good                                              1062\n",
      "Ideal                                                   425\n",
      "Fair                                                     70\n",
      "NaN                                                      29\n",
      "Good                                                     19\n",
      "Ideal                                                     9\n",
      "Name: polish, dtype: int64\n"
     ]
    }
   ],
   "source": [
    "print(df['polish'].value_counts(dropna=False))"
   ]
  },
  {
   "cell_type": "code",
   "execution_count": 199,
   "id": "ecb29851-7f73-40ee-9c06-593ec3e6b8fc",
   "metadata": {},
   "outputs": [],
   "source": [
    "#looks like the vast majority of the data for polish, symmetry and fluorescence are the same, so I can probably just set null values to \n",
    "#but since the missing data is small I'll just drop them"
   ]
  },
  {
   "cell_type": "code",
   "execution_count": 200,
   "id": "8a68ac91-63ac-482f-bf9b-333fcd548e98",
   "metadata": {},
   "outputs": [],
   "source": [
    "df.dropna(subset=['fluorescence'], inplace=True)\n",
    "df.dropna(subset=['symmetry'], inplace=True)\n",
    "df.dropna(subset=['polish'], inplace=True)"
   ]
  },
  {
   "cell_type": "code",
   "execution_count": 201,
   "id": "78e97caa-7894-4dda-9093-b0def6b31bc6",
   "metadata": {},
   "outputs": [
    {
     "data": {
      "text/plain": [
       "(110475, 18)"
      ]
     },
     "execution_count": 201,
     "metadata": {},
     "output_type": "execute_result"
    }
   ],
   "source": [
    "df.shape\n",
    "#down to 110K records vs. original dataset of 111K (99%)"
   ]
  },
  {
   "cell_type": "code",
   "execution_count": 202,
   "id": "6197d0b2-2e62-4bd2-a9c3-a23249fa26b6",
   "metadata": {},
   "outputs": [
    {
     "data": {
      "text/plain": [
       "shape               object\n",
       "carat              float64\n",
       "cut                 object\n",
       "color               object\n",
       "clarity             object\n",
       "price              float64\n",
       "certificateLab      object\n",
       "certificateID       object\n",
       "depth_pct          float64\n",
       "table_width_pct    float64\n",
       "polish              object\n",
       "symmetry            object\n",
       "fluorescence        object\n",
       "crownAngle         float64\n",
       "crownHeight        float64\n",
       "pavilionAngle      float64\n",
       "pavilionDepth      float64\n",
       "measurements        object\n",
       "dtype: object"
      ]
     },
     "execution_count": 202,
     "metadata": {},
     "output_type": "execute_result"
    }
   ],
   "source": [
    "#take a look at the datatypes\n",
    "df.dtypes"
   ]
  },
  {
   "cell_type": "code",
   "execution_count": 203,
   "id": "19d27777-9a5a-4667-ac32-15ad83e0707b",
   "metadata": {},
   "outputs": [
    {
     "data": {
      "text/plain": [
       "Round    110475\n",
       "Name: shape, dtype: int64"
      ]
     },
     "execution_count": 203,
     "metadata": {},
     "output_type": "execute_result"
    }
   ],
   "source": [
    "#double check that I only have round diamonds in this analysis\n",
    "df['shape'].value_counts()"
   ]
  },
  {
   "cell_type": "code",
   "execution_count": 204,
   "id": "5bc67d8f-b1c0-4832-937d-f51667f921e9",
   "metadata": {},
   "outputs": [],
   "source": [
    "#other observations from the data types:\n",
    "#For linear regression, I will need to re-code cut, color, and clarity since they are non-numerical\n",
    "#I will also re-code certificateLab\n",
    "#For polish, symmetry and flourescence I will likely have to group values before re-coding since there are a lot of possible values\n",
    "#I will not use certificateid since it is just an identifier\n",
    "#I will likely not need measurements either since it probably correlated with other features"
   ]
  },
  {
   "cell_type": "markdown",
   "id": "f5ebb106-5687-40e8-92a7-61f93b8fd966",
   "metadata": {},
   "source": [
    "## Re-code Non-Numerical Features"
   ]
  },
  {
   "cell_type": "code",
   "execution_count": 205,
   "id": "3552bed5-322f-494c-8092-d3073196829b",
   "metadata": {},
   "outputs": [
    {
     "data": {
      "text/plain": [
       "E     17527\n",
       "D     17168\n",
       "F     16934\n",
       "G     16622\n",
       "H     14486\n",
       "I     11144\n",
       "J      7308\n",
       "K      4508\n",
       "L      2510\n",
       "M      2252\n",
       "N         9\n",
       "OP        4\n",
       "UV        2\n",
       "XY        1\n",
       "Name: color, dtype: int64"
      ]
     },
     "execution_count": 205,
     "metadata": {},
     "output_type": "execute_result"
    }
   ],
   "source": [
    "df['color'].value_counts()\n",
    "#usually color only goes up to M? I will drop the others; not sure what OP, UV and XY are"
   ]
  },
  {
   "cell_type": "code",
   "execution_count": 206,
   "id": "dd7a2fec-c52e-439b-a722-9b5f6a26ddd4",
   "metadata": {},
   "outputs": [
    {
     "name": "stdout",
     "output_type": "stream",
     "text": [
      "E     17527\n",
      "D     17168\n",
      "F     16934\n",
      "G     16622\n",
      "H     14486\n",
      "I     11144\n",
      "J      7308\n",
      "K      4508\n",
      "L      2510\n",
      "M      2252\n",
      "N         9\n",
      "OP        4\n",
      "UV        2\n",
      "XY        1\n",
      "Name: color, dtype: int64\n",
      "E    17527\n",
      "D    17168\n",
      "F    16934\n",
      "G    16622\n",
      "H    14486\n",
      "I    11144\n",
      "J     7308\n",
      "K     4508\n",
      "L     2510\n",
      "M     2252\n",
      "Name: color, dtype: int64\n"
     ]
    }
   ],
   "source": [
    "print(df['color'].value_counts())\n",
    "df = df.drop(df[df[\"color\"]=='N'].index)\n",
    "df = df.drop(df[df[\"color\"]=='OP'].index)\n",
    "df = df.drop(df[df[\"color\"]=='UV'].index)\n",
    "df = df.drop(df[df[\"color\"]=='XY'].index)\n",
    "print(df['color'].value_counts())"
   ]
  },
  {
   "cell_type": "code",
   "execution_count": 207,
   "id": "89429edc-6338-4f72-b668-c406589fef46",
   "metadata": {},
   "outputs": [
    {
     "name": "stdout",
     "output_type": "stream",
     "text": [
      "E    17527\n",
      "D    17168\n",
      "F    16934\n",
      "G    16622\n",
      "H    14486\n",
      "I    11144\n",
      "J     7308\n",
      "K     4508\n",
      "L     2510\n",
      "M     2252\n",
      "Name: color, dtype: int64\n",
      "2     17527\n",
      "1     17168\n",
      "3     16934\n",
      "4     16622\n",
      "5     14486\n",
      "6     11144\n",
      "7      7308\n",
      "8      4508\n",
      "9      2510\n",
      "10     2252\n",
      "Name: color, dtype: int64\n"
     ]
    }
   ],
   "source": [
    "#re-code the remaining colors to numerical\n",
    "print(df['color'].value_counts())\n",
    "df['color'] = df['color'].map({\"D\":1, \"E\": 2, \"F\":3, \"G\":4, \"H\":5, \"I\":6, \"J\":7, \"K\":8, \"L\":9, \"M\":10})\n",
    "print(df['color'].value_counts())"
   ]
  },
  {
   "cell_type": "code",
   "execution_count": 208,
   "id": "200b7952-9dcc-4a5d-8cbf-602283d0d0b2",
   "metadata": {},
   "outputs": [
    {
     "data": {
      "text/plain": [
       "(110459, 18)"
      ]
     },
     "execution_count": 208,
     "metadata": {},
     "output_type": "execute_result"
    }
   ],
   "source": [
    "df.shape"
   ]
  },
  {
   "cell_type": "code",
   "execution_count": 209,
   "id": "2dc429ae-00d2-4c85-92e0-8b142c706b96",
   "metadata": {},
   "outputs": [
    {
     "data": {
      "text/plain": [
       "VS1     19006\n",
       "VS2     18219\n",
       "VVS2    16655\n",
       "SI1     15973\n",
       "VVS1    15666\n",
       "SI2     13521\n",
       "IF       7601\n",
       "I1       3496\n",
       "FL        321\n",
       "None        1\n",
       "Name: clarity, dtype: int64"
      ]
     },
     "execution_count": 209,
     "metadata": {},
     "output_type": "execute_result"
    }
   ],
   "source": [
    "df['clarity'].value_counts()\n",
    "#one has a clarity of none but the rest look fine; drop that one record"
   ]
  },
  {
   "cell_type": "code",
   "execution_count": 210,
   "id": "4eba2c9c-8aff-48c5-b9ed-0e18257073b3",
   "metadata": {},
   "outputs": [
    {
     "name": "stdout",
     "output_type": "stream",
     "text": [
      "VS1     19006\n",
      "VS2     18219\n",
      "VVS2    16655\n",
      "SI1     15973\n",
      "VVS1    15666\n",
      "SI2     13521\n",
      "IF       7601\n",
      "I1       3496\n",
      "FL        321\n",
      "None        1\n",
      "Name: clarity, dtype: int64\n",
      "VS1     19006\n",
      "VS2     18219\n",
      "VVS2    16655\n",
      "SI1     15973\n",
      "VVS1    15666\n",
      "SI2     13521\n",
      "IF       7601\n",
      "I1       3496\n",
      "FL        321\n",
      "Name: clarity, dtype: int64\n"
     ]
    }
   ],
   "source": [
    "print(df['clarity'].value_counts())\n",
    "df = df.drop(df[df[\"clarity\"]=='None'].index)\n",
    "print(df['clarity'].value_counts())"
   ]
  },
  {
   "cell_type": "code",
   "execution_count": 211,
   "id": "96a7ba74-1095-44d3-9e54-68c44fe65cd6",
   "metadata": {},
   "outputs": [
    {
     "name": "stdout",
     "output_type": "stream",
     "text": [
      "VS1     19006\n",
      "VS2     18219\n",
      "VVS2    16655\n",
      "SI1     15973\n",
      "VVS1    15666\n",
      "SI2     13521\n",
      "IF       7601\n",
      "I1       3496\n",
      "FL        321\n",
      "Name: clarity, dtype: int64\n",
      "5    19006\n",
      "6    18219\n",
      "4    16655\n",
      "7    15973\n",
      "3    15666\n",
      "8    13521\n",
      "2     7601\n",
      "9     3496\n",
      "1      321\n",
      "Name: clarity, dtype: int64\n"
     ]
    }
   ],
   "source": [
    "#re-code the remaining clarity to numerical\n",
    "print(df['clarity'].value_counts())\n",
    "df['clarity'] = df['clarity'].map({\"FL\":1, \"IF\": 2, \"VVS1\":3, \"VVS2\":4, \"VS1\":5, \"VS2\":6, \"SI1\":7, \"SI2\":8, \"I1\":9})\n",
    "print(df['clarity'].value_counts())\n",
    "#based on the gia guide: https://4cs.gia.edu/en-us/diamond-clarity/"
   ]
  },
  {
   "cell_type": "code",
   "execution_count": 212,
   "id": "6814fa2a-43ba-474e-bc27-e43a0a5d86fb",
   "metadata": {},
   "outputs": [
    {
     "data": {
      "text/plain": [
       "(110458, 18)"
      ]
     },
     "execution_count": 212,
     "metadata": {},
     "output_type": "execute_result"
    }
   ],
   "source": [
    "df.shape"
   ]
  },
  {
   "cell_type": "code",
   "execution_count": 213,
   "id": "cc6e11ba-7c2b-475c-a8f2-d520542bba08",
   "metadata": {},
   "outputs": [
    {
     "data": {
      "text/plain": [
       "Excellent    75242\n",
       "Very Good    23363\n",
       "Good          9650\n",
       "Fair          1824\n",
       "Ideal          379\n",
       "Name: cut, dtype: int64"
      ]
     },
     "execution_count": 213,
     "metadata": {},
     "output_type": "execute_result"
    }
   ],
   "source": [
    "df['cut'].value_counts()\n",
    "#looks normal"
   ]
  },
  {
   "cell_type": "code",
   "execution_count": 214,
   "id": "9360750d-a39a-44a2-afdc-b59a64223b41",
   "metadata": {},
   "outputs": [
    {
     "name": "stdout",
     "output_type": "stream",
     "text": [
      "Excellent    75242\n",
      "Very Good    23363\n",
      "Good          9650\n",
      "Fair          1824\n",
      "Ideal          379\n",
      "Name: cut, dtype: int64\n",
      "2    75242\n",
      "3    23363\n",
      "4     9650\n",
      "5     1824\n",
      "1      379\n",
      "Name: cut, dtype: int64\n"
     ]
    }
   ],
   "source": [
    "print(df['cut'].value_counts())\n",
    "df['cut'] = df['cut'].map({\"Ideal\":1, \"Excellent\": 2, \"Very Good\":3, \"Good\":4, \"Fair\":5})\n",
    "print(df['cut'].value_counts())"
   ]
  },
  {
   "cell_type": "code",
   "execution_count": 215,
   "id": "460d945c-5b6b-4003-9338-ea10adfad5a3",
   "metadata": {},
   "outputs": [
    {
     "data": {
      "text/plain": [
       "GIA    101373\n",
       "IGI      7798\n",
       "HRD       731\n",
       "AGS       554\n",
       "B2C         2\n",
       "Name: certificateLab, dtype: int64"
      ]
     },
     "execution_count": 215,
     "metadata": {},
     "output_type": "execute_result"
    }
   ],
   "source": [
    "df['certificateLab'].value_counts()\n",
    "#vast majority are GIA\n",
    "#the only other one I've seen is IGI\n",
    "#group the others"
   ]
  },
  {
   "cell_type": "code",
   "execution_count": 216,
   "id": "c954e7a9-c5de-4cb6-a4cc-2aef7e55fe40",
   "metadata": {},
   "outputs": [
    {
     "name": "stdout",
     "output_type": "stream",
     "text": [
      "GIA    101373\n",
      "IGI      7798\n",
      "HRD       731\n",
      "AGS       554\n",
      "B2C         2\n",
      "Name: certificateLab, dtype: int64\n",
      "GIA      101373\n",
      "IGI        7798\n",
      "Other      1287\n",
      "Name: certificateLab, dtype: int64\n"
     ]
    }
   ],
   "source": [
    "print(df['certificateLab'].value_counts())\n",
    "df['certificateLab'] = df['certificateLab'].map({\"GIA\":\"GIA\", \"IGI\":\"IGI\", \"HRD\":\"Other\", \"AGS\":\"Other\", \"B2C\":\"Other\"})\n",
    "print(df['certificateLab'].value_counts())\n",
    "#probably not the most efficient way to rename these, but wanted to keep the logic consistent with the rest of the re-coding"
   ]
  },
  {
   "cell_type": "code",
   "execution_count": 217,
   "id": "dcb77e66-d49d-4871-b88f-ed4cc4c3cb66",
   "metadata": {},
   "outputs": [
    {
     "name": "stdout",
     "output_type": "stream",
     "text": [
      "Index(['GIA', 'IGI', 'Other'], dtype='object')\n"
     ]
    },
    {
     "data": {
      "text/html": [
       "<div>\n",
       "<style scoped>\n",
       "    .dataframe tbody tr th:only-of-type {\n",
       "        vertical-align: middle;\n",
       "    }\n",
       "\n",
       "    .dataframe tbody tr th {\n",
       "        vertical-align: top;\n",
       "    }\n",
       "\n",
       "    .dataframe thead th {\n",
       "        text-align: right;\n",
       "    }\n",
       "</style>\n",
       "<table border=\"1\" class=\"dataframe\">\n",
       "  <thead>\n",
       "    <tr style=\"text-align: right;\">\n",
       "      <th></th>\n",
       "      <th>GIA</th>\n",
       "      <th>IGI</th>\n",
       "      <th>Other</th>\n",
       "    </tr>\n",
       "  </thead>\n",
       "  <tbody>\n",
       "    <tr>\n",
       "      <th>0</th>\n",
       "      <td>1</td>\n",
       "      <td>0</td>\n",
       "      <td>0</td>\n",
       "    </tr>\n",
       "    <tr>\n",
       "      <th>1</th>\n",
       "      <td>1</td>\n",
       "      <td>0</td>\n",
       "      <td>0</td>\n",
       "    </tr>\n",
       "    <tr>\n",
       "      <th>2</th>\n",
       "      <td>1</td>\n",
       "      <td>0</td>\n",
       "      <td>0</td>\n",
       "    </tr>\n",
       "    <tr>\n",
       "      <th>3</th>\n",
       "      <td>1</td>\n",
       "      <td>0</td>\n",
       "      <td>0</td>\n",
       "    </tr>\n",
       "    <tr>\n",
       "      <th>4</th>\n",
       "      <td>1</td>\n",
       "      <td>0</td>\n",
       "      <td>0</td>\n",
       "    </tr>\n",
       "  </tbody>\n",
       "</table>\n",
       "</div>"
      ],
      "text/plain": [
       "   GIA  IGI  Other\n",
       "0    1    0      0\n",
       "1    1    0      0\n",
       "2    1    0      0\n",
       "3    1    0      0\n",
       "4    1    0      0"
      ]
     },
     "execution_count": 217,
     "metadata": {},
     "output_type": "execute_result"
    }
   ],
   "source": [
    "#now I will get dummies to turn these into numericals\n",
    "ohe=pd.get_dummies(df['certificateLab'])\n",
    "print(ohe.columns)\n",
    "ohe.head()"
   ]
  },
  {
   "cell_type": "code",
   "execution_count": 218,
   "id": "de6918ea-5926-4373-b801-695a5b3e5005",
   "metadata": {},
   "outputs": [
    {
     "data": {
      "text/plain": [
       "(110458, 21)"
      ]
     },
     "execution_count": 218,
     "metadata": {},
     "output_type": "execute_result"
    }
   ],
   "source": [
    "# append these new columns to the original dataset\n",
    "df=pd.concat([df, ohe], axis=1) #append columns, not rows\n",
    "df.shape\n",
    "#3 extra columns now"
   ]
  },
  {
   "cell_type": "code",
   "execution_count": 219,
   "id": "0fa2f9eb-71a5-43bc-95c0-0b99bb193db7",
   "metadata": {},
   "outputs": [
    {
     "data": {
      "text/html": [
       "<div>\n",
       "<style scoped>\n",
       "    .dataframe tbody tr th:only-of-type {\n",
       "        vertical-align: middle;\n",
       "    }\n",
       "\n",
       "    .dataframe tbody tr th {\n",
       "        vertical-align: top;\n",
       "    }\n",
       "\n",
       "    .dataframe thead th {\n",
       "        text-align: right;\n",
       "    }\n",
       "</style>\n",
       "<table border=\"1\" class=\"dataframe\">\n",
       "  <thead>\n",
       "    <tr style=\"text-align: right;\">\n",
       "      <th></th>\n",
       "      <th>shape</th>\n",
       "      <th>carat</th>\n",
       "      <th>cut</th>\n",
       "      <th>color</th>\n",
       "      <th>clarity</th>\n",
       "      <th>price</th>\n",
       "      <th>certificateLab</th>\n",
       "      <th>certificateID</th>\n",
       "      <th>depth_pct</th>\n",
       "      <th>table_width_pct</th>\n",
       "      <th>...</th>\n",
       "      <th>symmetry</th>\n",
       "      <th>fluorescence</th>\n",
       "      <th>crownAngle</th>\n",
       "      <th>crownHeight</th>\n",
       "      <th>pavilionAngle</th>\n",
       "      <th>pavilionDepth</th>\n",
       "      <th>measurements</th>\n",
       "      <th>GIA</th>\n",
       "      <th>IGI</th>\n",
       "      <th>Other</th>\n",
       "    </tr>\n",
       "  </thead>\n",
       "  <tbody>\n",
       "    <tr>\n",
       "      <th>0</th>\n",
       "      <td>Round</td>\n",
       "      <td>3.01</td>\n",
       "      <td>3</td>\n",
       "      <td>1</td>\n",
       "      <td>6</td>\n",
       "      <td>96980.26</td>\n",
       "      <td>GIA</td>\n",
       "      <td>16834315</td>\n",
       "      <td>62.6</td>\n",
       "      <td>57.0</td>\n",
       "      <td>...</td>\n",
       "      <td>Excellent                                     ...</td>\n",
       "      <td>None</td>\n",
       "      <td>36.5</td>\n",
       "      <td>16.0</td>\n",
       "      <td>40.4</td>\n",
       "      <td>42.5</td>\n",
       "      <td>9.15x9.08x5.71</td>\n",
       "      <td>1</td>\n",
       "      <td>0</td>\n",
       "      <td>0</td>\n",
       "    </tr>\n",
       "    <tr>\n",
       "      <th>1</th>\n",
       "      <td>Round</td>\n",
       "      <td>1.26</td>\n",
       "      <td>2</td>\n",
       "      <td>6</td>\n",
       "      <td>7</td>\n",
       "      <td>7722.58</td>\n",
       "      <td>GIA</td>\n",
       "      <td>5106816542</td>\n",
       "      <td>62.2</td>\n",
       "      <td>55.0</td>\n",
       "      <td>...</td>\n",
       "      <td>Excellent                                     ...</td>\n",
       "      <td>None</td>\n",
       "      <td>34.5</td>\n",
       "      <td>15.5</td>\n",
       "      <td>41.2</td>\n",
       "      <td>43.5</td>\n",
       "      <td>6.98x6.94x4.33</td>\n",
       "      <td>1</td>\n",
       "      <td>0</td>\n",
       "      <td>0</td>\n",
       "    </tr>\n",
       "    <tr>\n",
       "      <th>2</th>\n",
       "      <td>Round</td>\n",
       "      <td>4.03</td>\n",
       "      <td>3</td>\n",
       "      <td>2</td>\n",
       "      <td>5</td>\n",
       "      <td>239200.00</td>\n",
       "      <td>GIA</td>\n",
       "      <td>17154415</td>\n",
       "      <td>62.2</td>\n",
       "      <td>56.0</td>\n",
       "      <td>...</td>\n",
       "      <td>Very Good                                     ...</td>\n",
       "      <td>None</td>\n",
       "      <td>35.0</td>\n",
       "      <td>16.0</td>\n",
       "      <td>40.6</td>\n",
       "      <td>43.0</td>\n",
       "      <td>10.21x10.08x6.31</td>\n",
       "      <td>1</td>\n",
       "      <td>0</td>\n",
       "      <td>0</td>\n",
       "    </tr>\n",
       "    <tr>\n",
       "      <th>3</th>\n",
       "      <td>Round</td>\n",
       "      <td>1.86</td>\n",
       "      <td>2</td>\n",
       "      <td>2</td>\n",
       "      <td>6</td>\n",
       "      <td>27508.00</td>\n",
       "      <td>GIA</td>\n",
       "      <td>2121115822</td>\n",
       "      <td>62.5</td>\n",
       "      <td>57.0</td>\n",
       "      <td>...</td>\n",
       "      <td>Excellent                                     ...</td>\n",
       "      <td>None</td>\n",
       "      <td>35.5</td>\n",
       "      <td>15.5</td>\n",
       "      <td>41.0</td>\n",
       "      <td>43.5</td>\n",
       "      <td>7.85x7.80x4.89</td>\n",
       "      <td>1</td>\n",
       "      <td>0</td>\n",
       "      <td>0</td>\n",
       "    </tr>\n",
       "    <tr>\n",
       "      <th>4</th>\n",
       "      <td>Round</td>\n",
       "      <td>4.28</td>\n",
       "      <td>3</td>\n",
       "      <td>5</td>\n",
       "      <td>7</td>\n",
       "      <td>84081.29</td>\n",
       "      <td>GIA</td>\n",
       "      <td>16291982</td>\n",
       "      <td>61.3</td>\n",
       "      <td>56.0</td>\n",
       "      <td>...</td>\n",
       "      <td>Very Good                                     ...</td>\n",
       "      <td>None</td>\n",
       "      <td>36.0</td>\n",
       "      <td>16.5</td>\n",
       "      <td>40.2</td>\n",
       "      <td>42.0</td>\n",
       "      <td>10.49x10.41x6.41</td>\n",
       "      <td>1</td>\n",
       "      <td>0</td>\n",
       "      <td>0</td>\n",
       "    </tr>\n",
       "  </tbody>\n",
       "</table>\n",
       "<p>5 rows × 21 columns</p>\n",
       "</div>"
      ],
      "text/plain": [
       "   shape  carat  cut  color  clarity      price certificateLab certificateID  \\\n",
       "0  Round   3.01    3      1        6   96980.26            GIA      16834315   \n",
       "1  Round   1.26    2      6        7    7722.58            GIA    5106816542   \n",
       "2  Round   4.03    3      2        5  239200.00            GIA      17154415   \n",
       "3  Round   1.86    2      2        6   27508.00            GIA    2121115822   \n",
       "4  Round   4.28    3      5        7   84081.29            GIA      16291982   \n",
       "\n",
       "   depth_pct  table_width_pct  ...  \\\n",
       "0       62.6             57.0  ...   \n",
       "1       62.2             55.0  ...   \n",
       "2       62.2             56.0  ...   \n",
       "3       62.5             57.0  ...   \n",
       "4       61.3             56.0  ...   \n",
       "\n",
       "                                            symmetry fluorescence crownAngle  \\\n",
       "0  Excellent                                     ...         None       36.5   \n",
       "1  Excellent                                     ...         None       34.5   \n",
       "2  Very Good                                     ...         None       35.0   \n",
       "3  Excellent                                     ...         None       35.5   \n",
       "4  Very Good                                     ...         None       36.0   \n",
       "\n",
       "   crownHeight  pavilionAngle  pavilionDepth      measurements GIA  IGI  Other  \n",
       "0         16.0           40.4           42.5    9.15x9.08x5.71   1    0      0  \n",
       "1         15.5           41.2           43.5    6.98x6.94x4.33   1    0      0  \n",
       "2         16.0           40.6           43.0  10.21x10.08x6.31   1    0      0  \n",
       "3         15.5           41.0           43.5    7.85x7.80x4.89   1    0      0  \n",
       "4         16.5           40.2           42.0  10.49x10.41x6.41   1    0      0  \n",
       "\n",
       "[5 rows x 21 columns]"
      ]
     },
     "execution_count": 219,
     "metadata": {},
     "output_type": "execute_result"
    }
   ],
   "source": [
    "df.head()"
   ]
  },
  {
   "cell_type": "code",
   "execution_count": 220,
   "id": "3a818a30-03cc-48f2-914d-7695c8cfd62a",
   "metadata": {},
   "outputs": [
    {
     "data": {
      "text/plain": [
       "(110458, 21)"
      ]
     },
     "execution_count": 220,
     "metadata": {},
     "output_type": "execute_result"
    }
   ],
   "source": [
    "df.shape"
   ]
  },
  {
   "cell_type": "code",
   "execution_count": 221,
   "id": "8a50ac81-5321-4e06-ae96-b16eef107627",
   "metadata": {},
   "outputs": [
    {
     "data": {
      "text/html": [
       "<div>\n",
       "<style scoped>\n",
       "    .dataframe tbody tr th:only-of-type {\n",
       "        vertical-align: middle;\n",
       "    }\n",
       "\n",
       "    .dataframe tbody tr th {\n",
       "        vertical-align: top;\n",
       "    }\n",
       "\n",
       "    .dataframe thead th {\n",
       "        text-align: right;\n",
       "    }\n",
       "</style>\n",
       "<table border=\"1\" class=\"dataframe\">\n",
       "  <thead>\n",
       "    <tr style=\"text-align: right;\">\n",
       "      <th></th>\n",
       "      <th>shape</th>\n",
       "      <th>carat</th>\n",
       "      <th>cut</th>\n",
       "      <th>color</th>\n",
       "      <th>clarity</th>\n",
       "      <th>price</th>\n",
       "      <th>certificateID</th>\n",
       "      <th>depth_pct</th>\n",
       "      <th>table_width_pct</th>\n",
       "      <th>polish</th>\n",
       "      <th>symmetry</th>\n",
       "      <th>fluorescence</th>\n",
       "      <th>crownAngle</th>\n",
       "      <th>crownHeight</th>\n",
       "      <th>pavilionAngle</th>\n",
       "      <th>pavilionDepth</th>\n",
       "      <th>measurements</th>\n",
       "      <th>GIA</th>\n",
       "      <th>IGI</th>\n",
       "      <th>Other</th>\n",
       "    </tr>\n",
       "  </thead>\n",
       "  <tbody>\n",
       "    <tr>\n",
       "      <th>0</th>\n",
       "      <td>Round</td>\n",
       "      <td>3.01</td>\n",
       "      <td>3</td>\n",
       "      <td>1</td>\n",
       "      <td>6</td>\n",
       "      <td>96980.26</td>\n",
       "      <td>16834315</td>\n",
       "      <td>62.6</td>\n",
       "      <td>57.0</td>\n",
       "      <td>Very Good                                     ...</td>\n",
       "      <td>Excellent                                     ...</td>\n",
       "      <td>None</td>\n",
       "      <td>36.5</td>\n",
       "      <td>16.0</td>\n",
       "      <td>40.4</td>\n",
       "      <td>42.5</td>\n",
       "      <td>9.15x9.08x5.71</td>\n",
       "      <td>1</td>\n",
       "      <td>0</td>\n",
       "      <td>0</td>\n",
       "    </tr>\n",
       "    <tr>\n",
       "      <th>1</th>\n",
       "      <td>Round</td>\n",
       "      <td>1.26</td>\n",
       "      <td>2</td>\n",
       "      <td>6</td>\n",
       "      <td>7</td>\n",
       "      <td>7722.58</td>\n",
       "      <td>5106816542</td>\n",
       "      <td>62.2</td>\n",
       "      <td>55.0</td>\n",
       "      <td>Excellent                                     ...</td>\n",
       "      <td>Excellent                                     ...</td>\n",
       "      <td>None</td>\n",
       "      <td>34.5</td>\n",
       "      <td>15.5</td>\n",
       "      <td>41.2</td>\n",
       "      <td>43.5</td>\n",
       "      <td>6.98x6.94x4.33</td>\n",
       "      <td>1</td>\n",
       "      <td>0</td>\n",
       "      <td>0</td>\n",
       "    </tr>\n",
       "    <tr>\n",
       "      <th>2</th>\n",
       "      <td>Round</td>\n",
       "      <td>4.03</td>\n",
       "      <td>3</td>\n",
       "      <td>2</td>\n",
       "      <td>5</td>\n",
       "      <td>239200.00</td>\n",
       "      <td>17154415</td>\n",
       "      <td>62.2</td>\n",
       "      <td>56.0</td>\n",
       "      <td>Excellent                                     ...</td>\n",
       "      <td>Very Good                                     ...</td>\n",
       "      <td>None</td>\n",
       "      <td>35.0</td>\n",
       "      <td>16.0</td>\n",
       "      <td>40.6</td>\n",
       "      <td>43.0</td>\n",
       "      <td>10.21x10.08x6.31</td>\n",
       "      <td>1</td>\n",
       "      <td>0</td>\n",
       "      <td>0</td>\n",
       "    </tr>\n",
       "    <tr>\n",
       "      <th>3</th>\n",
       "      <td>Round</td>\n",
       "      <td>1.86</td>\n",
       "      <td>2</td>\n",
       "      <td>2</td>\n",
       "      <td>6</td>\n",
       "      <td>27508.00</td>\n",
       "      <td>2121115822</td>\n",
       "      <td>62.5</td>\n",
       "      <td>57.0</td>\n",
       "      <td>Excellent                                     ...</td>\n",
       "      <td>Excellent                                     ...</td>\n",
       "      <td>None</td>\n",
       "      <td>35.5</td>\n",
       "      <td>15.5</td>\n",
       "      <td>41.0</td>\n",
       "      <td>43.5</td>\n",
       "      <td>7.85x7.80x4.89</td>\n",
       "      <td>1</td>\n",
       "      <td>0</td>\n",
       "      <td>0</td>\n",
       "    </tr>\n",
       "    <tr>\n",
       "      <th>4</th>\n",
       "      <td>Round</td>\n",
       "      <td>4.28</td>\n",
       "      <td>3</td>\n",
       "      <td>5</td>\n",
       "      <td>7</td>\n",
       "      <td>84081.29</td>\n",
       "      <td>16291982</td>\n",
       "      <td>61.3</td>\n",
       "      <td>56.0</td>\n",
       "      <td>Excellent                                     ...</td>\n",
       "      <td>Very Good                                     ...</td>\n",
       "      <td>None</td>\n",
       "      <td>36.0</td>\n",
       "      <td>16.5</td>\n",
       "      <td>40.2</td>\n",
       "      <td>42.0</td>\n",
       "      <td>10.49x10.41x6.41</td>\n",
       "      <td>1</td>\n",
       "      <td>0</td>\n",
       "      <td>0</td>\n",
       "    </tr>\n",
       "  </tbody>\n",
       "</table>\n",
       "</div>"
      ],
      "text/plain": [
       "   shape  carat  cut  color  clarity      price certificateID  depth_pct  \\\n",
       "0  Round   3.01    3      1        6   96980.26      16834315       62.6   \n",
       "1  Round   1.26    2      6        7    7722.58    5106816542       62.2   \n",
       "2  Round   4.03    3      2        5  239200.00      17154415       62.2   \n",
       "3  Round   1.86    2      2        6   27508.00    2121115822       62.5   \n",
       "4  Round   4.28    3      5        7   84081.29      16291982       61.3   \n",
       "\n",
       "   table_width_pct                                             polish  \\\n",
       "0             57.0  Very Good                                     ...   \n",
       "1             55.0  Excellent                                     ...   \n",
       "2             56.0  Excellent                                     ...   \n",
       "3             57.0  Excellent                                     ...   \n",
       "4             56.0  Excellent                                     ...   \n",
       "\n",
       "                                            symmetry fluorescence  crownAngle  \\\n",
       "0  Excellent                                     ...         None        36.5   \n",
       "1  Excellent                                     ...         None        34.5   \n",
       "2  Very Good                                     ...         None        35.0   \n",
       "3  Excellent                                     ...         None        35.5   \n",
       "4  Very Good                                     ...         None        36.0   \n",
       "\n",
       "   crownHeight  pavilionAngle  pavilionDepth      measurements  GIA  IGI  \\\n",
       "0         16.0           40.4           42.5    9.15x9.08x5.71    1    0   \n",
       "1         15.5           41.2           43.5    6.98x6.94x4.33    1    0   \n",
       "2         16.0           40.6           43.0  10.21x10.08x6.31    1    0   \n",
       "3         15.5           41.0           43.5    7.85x7.80x4.89    1    0   \n",
       "4         16.5           40.2           42.0  10.49x10.41x6.41    1    0   \n",
       "\n",
       "   Other  \n",
       "0      0  \n",
       "1      0  \n",
       "2      0  \n",
       "3      0  \n",
       "4      0  "
      ]
     },
     "execution_count": 221,
     "metadata": {},
     "output_type": "execute_result"
    }
   ],
   "source": [
    "#remove the original column that we replaced with one-hot encoding\n",
    "df=df.drop(['certificateLab'], axis=1).copy()\n",
    "df.head()"
   ]
  },
  {
   "cell_type": "code",
   "execution_count": 222,
   "id": "6feabca6-1999-42e2-a6a1-f58f1a6ce4da",
   "metadata": {},
   "outputs": [
    {
     "data": {
      "text/plain": [
       "(110458, 20)"
      ]
     },
     "execution_count": 222,
     "metadata": {},
     "output_type": "execute_result"
    }
   ],
   "source": [
    "df.shape"
   ]
  },
  {
   "cell_type": "code",
   "execution_count": 223,
   "id": "754eabf5-478b-4d9f-b7c9-30288006780f",
   "metadata": {},
   "outputs": [
    {
     "data": {
      "text/plain": [
       "Excellent                                             84379\n",
       "Very Good                                             17326\n",
       "Excellent                                              3874\n",
       "Good                                                   3299\n",
       "Very Good                                              1062\n",
       "Ideal                                                   421\n",
       "Fair                                                     69\n",
       "Good                                                     19\n",
       "Ideal                                                     9\n",
       "Name: polish, dtype: int64"
      ]
     },
     "execution_count": 223,
     "metadata": {},
     "output_type": "execute_result"
    }
   ],
   "source": [
    "df['polish'].value_counts()\n",
    "#similar to how cut is classified\n",
    "#seeing some duplicates so will need to investigate and clean that up"
   ]
  },
  {
   "cell_type": "code",
   "execution_count": 224,
   "id": "05f1b69b-e58c-42cf-ac15-979b67f4e82a",
   "metadata": {},
   "outputs": [
    {
     "data": {
      "text/plain": [
       "(3874, 20)"
      ]
     },
     "execution_count": 224,
     "metadata": {},
     "output_type": "execute_result"
    }
   ],
   "source": [
    "df[df[\"polish\"]=='Excellent'].shape"
   ]
  },
  {
   "cell_type": "code",
   "execution_count": 225,
   "id": "72b31864-8ac7-4e94-a640-566976bd4c1e",
   "metadata": {},
   "outputs": [],
   "source": [
    "#used a quick pivot table in excel to find the issue; a lot of spaces at the end of the labels\n",
    "df['polish'] = df['polish'].str.strip()"
   ]
  },
  {
   "cell_type": "code",
   "execution_count": 226,
   "id": "3ab5ff67-05b6-4976-9b71-4861b3f3d0f1",
   "metadata": {},
   "outputs": [
    {
     "data": {
      "text/plain": [
       "Excellent    88253\n",
       "Very Good    18388\n",
       "Good          3318\n",
       "Ideal          430\n",
       "Fair            69\n",
       "Name: polish, dtype: int64"
      ]
     },
     "execution_count": 226,
     "metadata": {},
     "output_type": "execute_result"
    }
   ],
   "source": [
    "df['polish'].value_counts()\n",
    "#now it looks clean"
   ]
  },
  {
   "cell_type": "code",
   "execution_count": 227,
   "id": "92a76d23-e68d-4d90-9020-74639f93aa63",
   "metadata": {},
   "outputs": [
    {
     "name": "stdout",
     "output_type": "stream",
     "text": [
      "Excellent    88253\n",
      "Very Good    18388\n",
      "Good          3318\n",
      "Ideal          430\n",
      "Fair            69\n",
      "Name: polish, dtype: int64\n",
      "2    88253\n",
      "3    18388\n",
      "4     3318\n",
      "1      430\n",
      "5       69\n",
      "Name: polish, dtype: int64\n"
     ]
    }
   ],
   "source": [
    "print(df['polish'].value_counts())\n",
    "df['polish'] = df['polish'].map({\"Ideal\":1, \"Excellent\": 2, \"Very Good\":3, \"Good\":4, \"Fair\":5})\n",
    "print(df['polish'].value_counts())"
   ]
  },
  {
   "cell_type": "code",
   "execution_count": 228,
   "id": "ac9377fe-2b53-4856-b002-99999bf9d3e4",
   "metadata": {},
   "outputs": [
    {
     "data": {
      "text/plain": [
       "Excellent                                             72079\n",
       "Very Good                                             25773\n",
       "Good                                                   6444\n",
       "Excellent                                              2304\n",
       "Very Good                                              1789\n",
       "Fair                                                    848\n",
       "Good                                                    800\n",
       "Ideal                                                   402\n",
       "Ideal                                                     9\n",
       "Fair                                                      7\n",
       "Poor                                                      3\n",
       "Name: symmetry, dtype: int64"
      ]
     },
     "execution_count": 228,
     "metadata": {},
     "output_type": "execute_result"
    }
   ],
   "source": [
    "df['symmetry'].value_counts()\n",
    "#looks like the same issue as above"
   ]
  },
  {
   "cell_type": "code",
   "execution_count": 229,
   "id": "d2d1001d-6eba-46b1-af33-fbac147c989e",
   "metadata": {},
   "outputs": [],
   "source": [
    "df['symmetry'] = df['symmetry'].str.strip()"
   ]
  },
  {
   "cell_type": "code",
   "execution_count": 230,
   "id": "83fe9477-a12c-4216-a7ef-2eb5a7423df1",
   "metadata": {},
   "outputs": [
    {
     "data": {
      "text/plain": [
       "Excellent    74383\n",
       "Very Good    27562\n",
       "Good          7244\n",
       "Fair           855\n",
       "Ideal          411\n",
       "Poor             3\n",
       "Name: symmetry, dtype: int64"
      ]
     },
     "execution_count": 230,
     "metadata": {},
     "output_type": "execute_result"
    }
   ],
   "source": [
    "df['symmetry'].value_counts()\n",
    "#now it looks clean"
   ]
  },
  {
   "cell_type": "code",
   "execution_count": 231,
   "id": "0c2a9aab-5614-40a2-9e55-3250f8d70dba",
   "metadata": {},
   "outputs": [
    {
     "name": "stdout",
     "output_type": "stream",
     "text": [
      "Excellent    74383\n",
      "Very Good    27562\n",
      "Good          7244\n",
      "Fair           855\n",
      "Ideal          411\n",
      "Poor             3\n",
      "Name: symmetry, dtype: int64\n",
      "2    74383\n",
      "3    27562\n",
      "4     7244\n",
      "5      855\n",
      "1      411\n",
      "6        3\n",
      "Name: symmetry, dtype: int64\n"
     ]
    }
   ],
   "source": [
    "print(df['symmetry'].value_counts())\n",
    "df['symmetry'] = df['symmetry'].map({\"Ideal\":1, \"Excellent\": 2, \"Very Good\":3, \"Good\":4, \"Fair\":5, \"Poor\":6})\n",
    "print(df['symmetry'].value_counts())"
   ]
  },
  {
   "cell_type": "code",
   "execution_count": 232,
   "id": "cad0f38a-2063-4311-ad00-84afb5eef564",
   "metadata": {},
   "outputs": [
    {
     "data": {
      "text/plain": [
       "None                78782\n",
       "Faint               15078\n",
       "Medium               9488\n",
       "Strong               5136\n",
       "Very Slight           843\n",
       "Slight                480\n",
       "Very Strong           437\n",
       "Medium Blue           111\n",
       "Strong Blue            83\n",
       "Very Strong Blue       19\n",
       "Medium White            1\n",
       "Name: fluorescence, dtype: int64"
      ]
     },
     "execution_count": 232,
     "metadata": {},
     "output_type": "execute_result"
    }
   ],
   "source": [
    "df['fluorescence'].value_counts()\n",
    "#GIA only grades fluorescence as \"None, Faint, Medium, Strong, Very Strong\"; not sure how to group the other ones\n",
    "#It also seems like this is not a very important factor for purchasers so I will exclude from my model for now"
   ]
  },
  {
   "cell_type": "code",
   "execution_count": 233,
   "id": "308d2b90-c56a-48e7-bd05-2820b4c0c9f1",
   "metadata": {},
   "outputs": [
    {
     "data": {
      "text/plain": [
       "(110458, 20)"
      ]
     },
     "execution_count": 233,
     "metadata": {},
     "output_type": "execute_result"
    }
   ],
   "source": [
    "df.shape"
   ]
  },
  {
   "cell_type": "code",
   "execution_count": 234,
   "id": "9a6a6c98-bdfd-4933-887f-70fcb54da4a1",
   "metadata": {},
   "outputs": [
    {
     "data": {
      "text/plain": [
       "shape               object\n",
       "carat              float64\n",
       "cut                  int64\n",
       "color                int64\n",
       "clarity              int64\n",
       "price              float64\n",
       "certificateID       object\n",
       "depth_pct          float64\n",
       "table_width_pct    float64\n",
       "polish               int64\n",
       "symmetry             int64\n",
       "fluorescence        object\n",
       "crownAngle         float64\n",
       "crownHeight        float64\n",
       "pavilionAngle      float64\n",
       "pavilionDepth      float64\n",
       "measurements        object\n",
       "GIA                  uint8\n",
       "IGI                  uint8\n",
       "Other                uint8\n",
       "dtype: object"
      ]
     },
     "execution_count": 234,
     "metadata": {},
     "output_type": "execute_result"
    }
   ],
   "source": [
    "df.dtypes"
   ]
  },
  {
   "cell_type": "markdown",
   "id": "69596076-33af-4ff3-a700-08e8d1f5bbc0",
   "metadata": {},
   "source": [
    "## Modeling the Price"
   ]
  },
  {
   "cell_type": "code",
   "execution_count": 235,
   "id": "b6a7c475-506c-49ae-bd36-f226d12eaf05",
   "metadata": {},
   "outputs": [
    {
     "data": {
      "text/html": [
       "<div>\n",
       "<style scoped>\n",
       "    .dataframe tbody tr th:only-of-type {\n",
       "        vertical-align: middle;\n",
       "    }\n",
       "\n",
       "    .dataframe tbody tr th {\n",
       "        vertical-align: top;\n",
       "    }\n",
       "\n",
       "    .dataframe thead th {\n",
       "        text-align: right;\n",
       "    }\n",
       "</style>\n",
       "<table border=\"1\" class=\"dataframe\">\n",
       "  <thead>\n",
       "    <tr style=\"text-align: right;\">\n",
       "      <th></th>\n",
       "      <th>carat</th>\n",
       "      <th>cut</th>\n",
       "      <th>color</th>\n",
       "      <th>clarity</th>\n",
       "      <th>price</th>\n",
       "      <th>depth_pct</th>\n",
       "      <th>table_width_pct</th>\n",
       "      <th>polish</th>\n",
       "      <th>symmetry</th>\n",
       "      <th>crownAngle</th>\n",
       "      <th>crownHeight</th>\n",
       "      <th>pavilionAngle</th>\n",
       "      <th>pavilionDepth</th>\n",
       "      <th>GIA</th>\n",
       "      <th>IGI</th>\n",
       "      <th>Other</th>\n",
       "    </tr>\n",
       "  </thead>\n",
       "  <tbody>\n",
       "    <tr>\n",
       "      <th>carat</th>\n",
       "      <td>1.000000</td>\n",
       "      <td>-0.050591</td>\n",
       "      <td>0.171670</td>\n",
       "      <td>0.132576</td>\n",
       "      <td>0.637117</td>\n",
       "      <td>-0.010548</td>\n",
       "      <td>0.007491</td>\n",
       "      <td>-0.060851</td>\n",
       "      <td>-0.062518</td>\n",
       "      <td>-0.081628</td>\n",
       "      <td>0.068631</td>\n",
       "      <td>-0.089084</td>\n",
       "      <td>0.068405</td>\n",
       "      <td>-0.056137</td>\n",
       "      <td>0.018278</td>\n",
       "      <td>0.100094</td>\n",
       "    </tr>\n",
       "    <tr>\n",
       "      <th>cut</th>\n",
       "      <td>-0.050591</td>\n",
       "      <td>1.000000</td>\n",
       "      <td>0.089870</td>\n",
       "      <td>0.160564</td>\n",
       "      <td>-0.045399</td>\n",
       "      <td>0.372406</td>\n",
       "      <td>0.127114</td>\n",
       "      <td>0.477362</td>\n",
       "      <td>0.680819</td>\n",
       "      <td>-0.031207</td>\n",
       "      <td>0.071119</td>\n",
       "      <td>-0.095261</td>\n",
       "      <td>0.077172</td>\n",
       "      <td>-0.011728</td>\n",
       "      <td>0.030142</td>\n",
       "      <td>-0.041922</td>\n",
       "    </tr>\n",
       "    <tr>\n",
       "      <th>color</th>\n",
       "      <td>0.171670</td>\n",
       "      <td>0.089870</td>\n",
       "      <td>1.000000</td>\n",
       "      <td>0.121075</td>\n",
       "      <td>-0.003480</td>\n",
       "      <td>0.050699</td>\n",
       "      <td>0.000287</td>\n",
       "      <td>0.042824</td>\n",
       "      <td>0.062533</td>\n",
       "      <td>-0.044856</td>\n",
       "      <td>-0.011096</td>\n",
       "      <td>-0.102827</td>\n",
       "      <td>-0.011259</td>\n",
       "      <td>-0.150830</td>\n",
       "      <td>0.151462</td>\n",
       "      <td>0.024625</td>\n",
       "    </tr>\n",
       "    <tr>\n",
       "      <th>clarity</th>\n",
       "      <td>0.132576</td>\n",
       "      <td>0.160564</td>\n",
       "      <td>0.121075</td>\n",
       "      <td>1.000000</td>\n",
       "      <td>-0.017231</td>\n",
       "      <td>0.051504</td>\n",
       "      <td>0.003100</td>\n",
       "      <td>0.176263</td>\n",
       "      <td>0.145407</td>\n",
       "      <td>-0.066286</td>\n",
       "      <td>0.036141</td>\n",
       "      <td>-0.140621</td>\n",
       "      <td>0.034632</td>\n",
       "      <td>-0.051956</td>\n",
       "      <td>0.037043</td>\n",
       "      <td>0.044599</td>\n",
       "    </tr>\n",
       "    <tr>\n",
       "      <th>price</th>\n",
       "      <td>0.637117</td>\n",
       "      <td>-0.045399</td>\n",
       "      <td>-0.003480</td>\n",
       "      <td>-0.017231</td>\n",
       "      <td>1.000000</td>\n",
       "      <td>-0.027171</td>\n",
       "      <td>0.005490</td>\n",
       "      <td>-0.036267</td>\n",
       "      <td>-0.044734</td>\n",
       "      <td>-0.020073</td>\n",
       "      <td>0.027495</td>\n",
       "      <td>-0.021929</td>\n",
       "      <td>0.027763</td>\n",
       "      <td>-0.011505</td>\n",
       "      <td>-0.005593</td>\n",
       "      <td>0.042807</td>\n",
       "    </tr>\n",
       "    <tr>\n",
       "      <th>depth_pct</th>\n",
       "      <td>-0.010548</td>\n",
       "      <td>0.372406</td>\n",
       "      <td>0.050699</td>\n",
       "      <td>0.051504</td>\n",
       "      <td>-0.027171</td>\n",
       "      <td>1.000000</td>\n",
       "      <td>-0.114810</td>\n",
       "      <td>0.013411</td>\n",
       "      <td>0.179377</td>\n",
       "      <td>0.054551</td>\n",
       "      <td>-0.030638</td>\n",
       "      <td>0.031811</td>\n",
       "      <td>-0.045749</td>\n",
       "      <td>-0.067454</td>\n",
       "      <td>0.078489</td>\n",
       "      <td>-0.014654</td>\n",
       "    </tr>\n",
       "    <tr>\n",
       "      <th>table_width_pct</th>\n",
       "      <td>0.007491</td>\n",
       "      <td>0.127114</td>\n",
       "      <td>0.000287</td>\n",
       "      <td>0.003100</td>\n",
       "      <td>0.005490</td>\n",
       "      <td>-0.114810</td>\n",
       "      <td>1.000000</td>\n",
       "      <td>0.165804</td>\n",
       "      <td>0.141389</td>\n",
       "      <td>-0.038417</td>\n",
       "      <td>0.021449</td>\n",
       "      <td>-0.027021</td>\n",
       "      <td>0.042893</td>\n",
       "      <td>0.077624</td>\n",
       "      <td>-0.076569</td>\n",
       "      <td>-0.015969</td>\n",
       "    </tr>\n",
       "    <tr>\n",
       "      <th>polish</th>\n",
       "      <td>-0.060851</td>\n",
       "      <td>0.477362</td>\n",
       "      <td>0.042824</td>\n",
       "      <td>0.176263</td>\n",
       "      <td>-0.036267</td>\n",
       "      <td>0.013411</td>\n",
       "      <td>0.165804</td>\n",
       "      <td>1.000000</td>\n",
       "      <td>0.555279</td>\n",
       "      <td>-0.072541</td>\n",
       "      <td>0.123392</td>\n",
       "      <td>-0.113207</td>\n",
       "      <td>0.132774</td>\n",
       "      <td>0.064203</td>\n",
       "      <td>-0.038421</td>\n",
       "      <td>-0.072665</td>\n",
       "    </tr>\n",
       "    <tr>\n",
       "      <th>symmetry</th>\n",
       "      <td>-0.062518</td>\n",
       "      <td>0.680819</td>\n",
       "      <td>0.062533</td>\n",
       "      <td>0.145407</td>\n",
       "      <td>-0.044734</td>\n",
       "      <td>0.179377</td>\n",
       "      <td>0.141389</td>\n",
       "      <td>0.555279</td>\n",
       "      <td>1.000000</td>\n",
       "      <td>-0.029883</td>\n",
       "      <td>0.087139</td>\n",
       "      <td>-0.084706</td>\n",
       "      <td>0.096814</td>\n",
       "      <td>-0.025881</td>\n",
       "      <td>0.057681</td>\n",
       "      <td>-0.071421</td>\n",
       "    </tr>\n",
       "    <tr>\n",
       "      <th>crownAngle</th>\n",
       "      <td>-0.081628</td>\n",
       "      <td>-0.031207</td>\n",
       "      <td>-0.044856</td>\n",
       "      <td>-0.066286</td>\n",
       "      <td>-0.020073</td>\n",
       "      <td>0.054551</td>\n",
       "      <td>-0.038417</td>\n",
       "      <td>-0.072541</td>\n",
       "      <td>-0.029883</td>\n",
       "      <td>1.000000</td>\n",
       "      <td>-0.060690</td>\n",
       "      <td>0.741977</td>\n",
       "      <td>-0.065333</td>\n",
       "      <td>-0.022768</td>\n",
       "      <td>0.022330</td>\n",
       "      <td>0.004989</td>\n",
       "    </tr>\n",
       "    <tr>\n",
       "      <th>crownHeight</th>\n",
       "      <td>0.068631</td>\n",
       "      <td>0.071119</td>\n",
       "      <td>-0.011096</td>\n",
       "      <td>0.036141</td>\n",
       "      <td>0.027495</td>\n",
       "      <td>-0.030638</td>\n",
       "      <td>0.021449</td>\n",
       "      <td>0.123392</td>\n",
       "      <td>0.087139</td>\n",
       "      <td>-0.060690</td>\n",
       "      <td>1.000000</td>\n",
       "      <td>-0.080921</td>\n",
       "      <td>0.993244</td>\n",
       "      <td>0.069074</td>\n",
       "      <td>-0.063592</td>\n",
       "      <td>-0.025052</td>\n",
       "    </tr>\n",
       "    <tr>\n",
       "      <th>pavilionAngle</th>\n",
       "      <td>-0.089084</td>\n",
       "      <td>-0.095261</td>\n",
       "      <td>-0.102827</td>\n",
       "      <td>-0.140621</td>\n",
       "      <td>-0.021929</td>\n",
       "      <td>0.031811</td>\n",
       "      <td>-0.027021</td>\n",
       "      <td>-0.113207</td>\n",
       "      <td>-0.084706</td>\n",
       "      <td>0.741977</td>\n",
       "      <td>-0.080921</td>\n",
       "      <td>1.000000</td>\n",
       "      <td>-0.084757</td>\n",
       "      <td>-0.002538</td>\n",
       "      <td>0.000543</td>\n",
       "      <td>0.005202</td>\n",
       "    </tr>\n",
       "    <tr>\n",
       "      <th>pavilionDepth</th>\n",
       "      <td>0.068405</td>\n",
       "      <td>0.077172</td>\n",
       "      <td>-0.011259</td>\n",
       "      <td>0.034632</td>\n",
       "      <td>0.027763</td>\n",
       "      <td>-0.045749</td>\n",
       "      <td>0.042893</td>\n",
       "      <td>0.132774</td>\n",
       "      <td>0.096814</td>\n",
       "      <td>-0.065333</td>\n",
       "      <td>0.993244</td>\n",
       "      <td>-0.084757</td>\n",
       "      <td>1.000000</td>\n",
       "      <td>0.069475</td>\n",
       "      <td>-0.063962</td>\n",
       "      <td>-0.025198</td>\n",
       "    </tr>\n",
       "    <tr>\n",
       "      <th>GIA</th>\n",
       "      <td>-0.056137</td>\n",
       "      <td>-0.011728</td>\n",
       "      <td>-0.150830</td>\n",
       "      <td>-0.051956</td>\n",
       "      <td>-0.011505</td>\n",
       "      <td>-0.067454</td>\n",
       "      <td>0.077624</td>\n",
       "      <td>0.064203</td>\n",
       "      <td>-0.025881</td>\n",
       "      <td>-0.022768</td>\n",
       "      <td>0.069074</td>\n",
       "      <td>-0.002538</td>\n",
       "      <td>0.069475</td>\n",
       "      <td>1.000000</td>\n",
       "      <td>-0.920640</td>\n",
       "      <td>-0.362689</td>\n",
       "    </tr>\n",
       "    <tr>\n",
       "      <th>IGI</th>\n",
       "      <td>0.018278</td>\n",
       "      <td>0.030142</td>\n",
       "      <td>0.151462</td>\n",
       "      <td>0.037043</td>\n",
       "      <td>-0.005593</td>\n",
       "      <td>0.078489</td>\n",
       "      <td>-0.076569</td>\n",
       "      <td>-0.038421</td>\n",
       "      <td>0.057681</td>\n",
       "      <td>0.022330</td>\n",
       "      <td>-0.063592</td>\n",
       "      <td>0.000543</td>\n",
       "      <td>-0.063962</td>\n",
       "      <td>-0.920640</td>\n",
       "      <td>1.000000</td>\n",
       "      <td>-0.029924</td>\n",
       "    </tr>\n",
       "    <tr>\n",
       "      <th>Other</th>\n",
       "      <td>0.100094</td>\n",
       "      <td>-0.041922</td>\n",
       "      <td>0.024625</td>\n",
       "      <td>0.044599</td>\n",
       "      <td>0.042807</td>\n",
       "      <td>-0.014654</td>\n",
       "      <td>-0.015969</td>\n",
       "      <td>-0.072665</td>\n",
       "      <td>-0.071421</td>\n",
       "      <td>0.004989</td>\n",
       "      <td>-0.025052</td>\n",
       "      <td>0.005202</td>\n",
       "      <td>-0.025198</td>\n",
       "      <td>-0.362689</td>\n",
       "      <td>-0.029924</td>\n",
       "      <td>1.000000</td>\n",
       "    </tr>\n",
       "  </tbody>\n",
       "</table>\n",
       "</div>"
      ],
      "text/plain": [
       "                    carat       cut     color   clarity     price  depth_pct  \\\n",
       "carat            1.000000 -0.050591  0.171670  0.132576  0.637117  -0.010548   \n",
       "cut             -0.050591  1.000000  0.089870  0.160564 -0.045399   0.372406   \n",
       "color            0.171670  0.089870  1.000000  0.121075 -0.003480   0.050699   \n",
       "clarity          0.132576  0.160564  0.121075  1.000000 -0.017231   0.051504   \n",
       "price            0.637117 -0.045399 -0.003480 -0.017231  1.000000  -0.027171   \n",
       "depth_pct       -0.010548  0.372406  0.050699  0.051504 -0.027171   1.000000   \n",
       "table_width_pct  0.007491  0.127114  0.000287  0.003100  0.005490  -0.114810   \n",
       "polish          -0.060851  0.477362  0.042824  0.176263 -0.036267   0.013411   \n",
       "symmetry        -0.062518  0.680819  0.062533  0.145407 -0.044734   0.179377   \n",
       "crownAngle      -0.081628 -0.031207 -0.044856 -0.066286 -0.020073   0.054551   \n",
       "crownHeight      0.068631  0.071119 -0.011096  0.036141  0.027495  -0.030638   \n",
       "pavilionAngle   -0.089084 -0.095261 -0.102827 -0.140621 -0.021929   0.031811   \n",
       "pavilionDepth    0.068405  0.077172 -0.011259  0.034632  0.027763  -0.045749   \n",
       "GIA             -0.056137 -0.011728 -0.150830 -0.051956 -0.011505  -0.067454   \n",
       "IGI              0.018278  0.030142  0.151462  0.037043 -0.005593   0.078489   \n",
       "Other            0.100094 -0.041922  0.024625  0.044599  0.042807  -0.014654   \n",
       "\n",
       "                 table_width_pct    polish  symmetry  crownAngle  crownHeight  \\\n",
       "carat                   0.007491 -0.060851 -0.062518   -0.081628     0.068631   \n",
       "cut                     0.127114  0.477362  0.680819   -0.031207     0.071119   \n",
       "color                   0.000287  0.042824  0.062533   -0.044856    -0.011096   \n",
       "clarity                 0.003100  0.176263  0.145407   -0.066286     0.036141   \n",
       "price                   0.005490 -0.036267 -0.044734   -0.020073     0.027495   \n",
       "depth_pct              -0.114810  0.013411  0.179377    0.054551    -0.030638   \n",
       "table_width_pct         1.000000  0.165804  0.141389   -0.038417     0.021449   \n",
       "polish                  0.165804  1.000000  0.555279   -0.072541     0.123392   \n",
       "symmetry                0.141389  0.555279  1.000000   -0.029883     0.087139   \n",
       "crownAngle             -0.038417 -0.072541 -0.029883    1.000000    -0.060690   \n",
       "crownHeight             0.021449  0.123392  0.087139   -0.060690     1.000000   \n",
       "pavilionAngle          -0.027021 -0.113207 -0.084706    0.741977    -0.080921   \n",
       "pavilionDepth           0.042893  0.132774  0.096814   -0.065333     0.993244   \n",
       "GIA                     0.077624  0.064203 -0.025881   -0.022768     0.069074   \n",
       "IGI                    -0.076569 -0.038421  0.057681    0.022330    -0.063592   \n",
       "Other                  -0.015969 -0.072665 -0.071421    0.004989    -0.025052   \n",
       "\n",
       "                 pavilionAngle  pavilionDepth       GIA       IGI     Other  \n",
       "carat                -0.089084       0.068405 -0.056137  0.018278  0.100094  \n",
       "cut                  -0.095261       0.077172 -0.011728  0.030142 -0.041922  \n",
       "color                -0.102827      -0.011259 -0.150830  0.151462  0.024625  \n",
       "clarity              -0.140621       0.034632 -0.051956  0.037043  0.044599  \n",
       "price                -0.021929       0.027763 -0.011505 -0.005593  0.042807  \n",
       "depth_pct             0.031811      -0.045749 -0.067454  0.078489 -0.014654  \n",
       "table_width_pct      -0.027021       0.042893  0.077624 -0.076569 -0.015969  \n",
       "polish               -0.113207       0.132774  0.064203 -0.038421 -0.072665  \n",
       "symmetry             -0.084706       0.096814 -0.025881  0.057681 -0.071421  \n",
       "crownAngle            0.741977      -0.065333 -0.022768  0.022330  0.004989  \n",
       "crownHeight          -0.080921       0.993244  0.069074 -0.063592 -0.025052  \n",
       "pavilionAngle         1.000000      -0.084757 -0.002538  0.000543  0.005202  \n",
       "pavilionDepth        -0.084757       1.000000  0.069475 -0.063962 -0.025198  \n",
       "GIA                  -0.002538       0.069475  1.000000 -0.920640 -0.362689  \n",
       "IGI                   0.000543      -0.063962 -0.920640  1.000000 -0.029924  \n",
       "Other                 0.005202      -0.025198 -0.362689 -0.029924  1.000000  "
      ]
     },
     "execution_count": 235,
     "metadata": {},
     "output_type": "execute_result"
    }
   ],
   "source": [
    "#now that the non-numerical data has been recoded, check correlations to see which features are most important\n",
    "corrs = df.corr()\n",
    "corrs"
   ]
  },
  {
   "cell_type": "code",
   "execution_count": 236,
   "id": "d678acc2-d17e-4476-8023-c131a7fe839a",
   "metadata": {},
   "outputs": [
    {
     "data": {
      "image/png": "[encoded data removed]",
      "text/plain": [
       "<Figure size 864x576 with 2 Axes>"
      ]
     },
     "metadata": {
      "needs_background": "light"
     },
     "output_type": "display_data"
    }
   ],
   "source": [
    "#heatmap to see the correlations more clearly\n",
    "plt.figure(figsize=(12,8))\n",
    "sns.heatmap(corrs);"
   ]
  },
  {
   "cell_type": "code",
   "execution_count": 237,
   "id": "c9172b91-5be2-44f9-9e7b-7a3bf68ad4a4",
   "metadata": {},
   "outputs": [
    {
     "data": {
      "text/plain": [
       "cut               -0.045399\n",
       "symmetry          -0.044734\n",
       "polish            -0.036267\n",
       "depth_pct         -0.027171\n",
       "pavilionAngle     -0.021929\n",
       "crownAngle        -0.020073\n",
       "clarity           -0.017231\n",
       "GIA               -0.011505\n",
       "IGI               -0.005593\n",
       "color             -0.003480\n",
       "table_width_pct    0.005490\n",
       "crownHeight        0.027495\n",
       "pavilionDepth      0.027763\n",
       "Other              0.042807\n",
       "carat              0.637117\n",
       "price              1.000000\n",
       "Name: price, dtype: float64"
      ]
     },
     "execution_count": 237,
     "metadata": {},
     "output_type": "execute_result"
    }
   ],
   "source": [
    "corrs['price'].sort_values()\n",
    "#similar to my last diamond price analysis; not seeing anything with strong correlation to price besides \"carat\". "
   ]
  },
  {
   "cell_type": "code",
   "execution_count": 264,
   "id": "6030418a-6c26-4dd1-924d-9f34c0c6172e",
   "metadata": {},
   "outputs": [
    {
     "data": {
      "text/html": [
       "<div>\n",
       "<style scoped>\n",
       "    .dataframe tbody tr th:only-of-type {\n",
       "        vertical-align: middle;\n",
       "    }\n",
       "\n",
       "    .dataframe tbody tr th {\n",
       "        vertical-align: top;\n",
       "    }\n",
       "\n",
       "    .dataframe thead th {\n",
       "        text-align: right;\n",
       "    }\n",
       "</style>\n",
       "<table border=\"1\" class=\"dataframe\">\n",
       "  <thead>\n",
       "    <tr style=\"text-align: right;\">\n",
       "      <th></th>\n",
       "      <th>carat</th>\n",
       "      <th>cut</th>\n",
       "      <th>color</th>\n",
       "      <th>clarity</th>\n",
       "      <th>price</th>\n",
       "      <th>depth_pct</th>\n",
       "      <th>table_width_pct</th>\n",
       "      <th>polish</th>\n",
       "      <th>symmetry</th>\n",
       "      <th>crownAngle</th>\n",
       "      <th>crownHeight</th>\n",
       "      <th>pavilionAngle</th>\n",
       "      <th>pavilionDepth</th>\n",
       "      <th>GIA</th>\n",
       "      <th>IGI</th>\n",
       "      <th>Other</th>\n",
       "    </tr>\n",
       "  </thead>\n",
       "  <tbody>\n",
       "    <tr>\n",
       "      <th>count</th>\n",
       "      <td>110458.000000</td>\n",
       "      <td>110458.000000</td>\n",
       "      <td>110458.000000</td>\n",
       "      <td>110458.000000</td>\n",
       "      <td>1.104580e+05</td>\n",
       "      <td>110458.000000</td>\n",
       "      <td>110458.000000</td>\n",
       "      <td>110458.000000</td>\n",
       "      <td>110458.000000</td>\n",
       "      <td>110458.000000</td>\n",
       "      <td>110458.000000</td>\n",
       "      <td>110458.000000</td>\n",
       "      <td>110458.000000</td>\n",
       "      <td>110458.000000</td>\n",
       "      <td>110458.000000</td>\n",
       "      <td>110458.000000</td>\n",
       "    </tr>\n",
       "    <tr>\n",
       "      <th>mean</th>\n",
       "      <td>0.835177</td>\n",
       "      <td>2.432345</td>\n",
       "      <td>3.993636</td>\n",
       "      <td>5.295479</td>\n",
       "      <td>5.948045e+03</td>\n",
       "      <td>62.179623</td>\n",
       "      <td>57.959398</td>\n",
       "      <td>2.224529</td>\n",
       "      <td>2.400297</td>\n",
       "      <td>22.540216</td>\n",
       "      <td>0.734238</td>\n",
       "      <td>27.095983</td>\n",
       "      <td>2.221817</td>\n",
       "      <td>0.917752</td>\n",
       "      <td>0.070597</td>\n",
       "      <td>0.011651</td>\n",
       "    </tr>\n",
       "    <tr>\n",
       "      <th>std</th>\n",
       "      <td>0.793164</td>\n",
       "      <td>0.725324</td>\n",
       "      <td>2.296074</td>\n",
       "      <td>1.909995</td>\n",
       "      <td>3.049067e+04</td>\n",
       "      <td>2.252075</td>\n",
       "      <td>2.438332</td>\n",
       "      <td>0.495710</td>\n",
       "      <td>0.652255</td>\n",
       "      <td>19.660037</td>\n",
       "      <td>3.182180</td>\n",
       "      <td>19.616273</td>\n",
       "      <td>9.573749</td>\n",
       "      <td>0.274744</td>\n",
       "      <td>0.256152</td>\n",
       "      <td>0.107312</td>\n",
       "    </tr>\n",
       "    <tr>\n",
       "      <th>min</th>\n",
       "      <td>0.140000</td>\n",
       "      <td>1.000000</td>\n",
       "      <td>1.000000</td>\n",
       "      <td>1.000000</td>\n",
       "      <td>1.447800e+02</td>\n",
       "      <td>0.500000</td>\n",
       "      <td>0.000000</td>\n",
       "      <td>1.000000</td>\n",
       "      <td>1.000000</td>\n",
       "      <td>0.000000</td>\n",
       "      <td>0.000000</td>\n",
       "      <td>0.000000</td>\n",
       "      <td>0.000000</td>\n",
       "      <td>0.000000</td>\n",
       "      <td>0.000000</td>\n",
       "      <td>0.000000</td>\n",
       "    </tr>\n",
       "    <tr>\n",
       "      <th>25%</th>\n",
       "      <td>0.400000</td>\n",
       "      <td>2.000000</td>\n",
       "      <td>2.000000</td>\n",
       "      <td>4.000000</td>\n",
       "      <td>7.499050e+02</td>\n",
       "      <td>61.200000</td>\n",
       "      <td>57.000000</td>\n",
       "      <td>2.000000</td>\n",
       "      <td>2.000000</td>\n",
       "      <td>0.000000</td>\n",
       "      <td>0.000000</td>\n",
       "      <td>0.000000</td>\n",
       "      <td>0.000000</td>\n",
       "      <td>1.000000</td>\n",
       "      <td>0.000000</td>\n",
       "      <td>0.000000</td>\n",
       "    </tr>\n",
       "    <tr>\n",
       "      <th>50%</th>\n",
       "      <td>0.600000</td>\n",
       "      <td>2.000000</td>\n",
       "      <td>4.000000</td>\n",
       "      <td>5.000000</td>\n",
       "      <td>1.660575e+03</td>\n",
       "      <td>62.200000</td>\n",
       "      <td>58.000000</td>\n",
       "      <td>2.000000</td>\n",
       "      <td>2.000000</td>\n",
       "      <td>33.500000</td>\n",
       "      <td>0.000000</td>\n",
       "      <td>40.800000</td>\n",
       "      <td>0.000000</td>\n",
       "      <td>1.000000</td>\n",
       "      <td>0.000000</td>\n",
       "      <td>0.000000</td>\n",
       "    </tr>\n",
       "    <tr>\n",
       "      <th>75%</th>\n",
       "      <td>1.010000</td>\n",
       "      <td>3.000000</td>\n",
       "      <td>6.000000</td>\n",
       "      <td>7.000000</td>\n",
       "      <td>4.798540e+03</td>\n",
       "      <td>62.900000</td>\n",
       "      <td>59.000000</td>\n",
       "      <td>2.000000</td>\n",
       "      <td>3.000000</td>\n",
       "      <td>35.500000</td>\n",
       "      <td>0.000000</td>\n",
       "      <td>41.200000</td>\n",
       "      <td>0.000000</td>\n",
       "      <td>1.000000</td>\n",
       "      <td>0.000000</td>\n",
       "      <td>0.000000</td>\n",
       "    </tr>\n",
       "    <tr>\n",
       "      <th>max</th>\n",
       "      <td>25.250000</td>\n",
       "      <td>5.000000</td>\n",
       "      <td>10.000000</td>\n",
       "      <td>9.000000</td>\n",
       "      <td>3.777064e+06</td>\n",
       "      <td>79.800000</td>\n",
       "      <td>90.000000</td>\n",
       "      <td>5.000000</td>\n",
       "      <td>6.000000</td>\n",
       "      <td>3605.000000</td>\n",
       "      <td>20.000000</td>\n",
       "      <td>69.800000</td>\n",
       "      <td>48.500000</td>\n",
       "      <td>1.000000</td>\n",
       "      <td>1.000000</td>\n",
       "      <td>1.000000</td>\n",
       "    </tr>\n",
       "  </tbody>\n",
       "</table>\n",
       "</div>"
      ],
      "text/plain": [
       "               carat            cut          color        clarity  \\\n",
       "count  110458.000000  110458.000000  110458.000000  110458.000000   \n",
       "mean        0.835177       2.432345       3.993636       5.295479   \n",
       "std         0.793164       0.725324       2.296074       1.909995   \n",
       "min         0.140000       1.000000       1.000000       1.000000   \n",
       "25%         0.400000       2.000000       2.000000       4.000000   \n",
       "50%         0.600000       2.000000       4.000000       5.000000   \n",
       "75%         1.010000       3.000000       6.000000       7.000000   \n",
       "max        25.250000       5.000000      10.000000       9.000000   \n",
       "\n",
       "              price      depth_pct  table_width_pct         polish  \\\n",
       "count  1.104580e+05  110458.000000    110458.000000  110458.000000   \n",
       "mean   5.948045e+03      62.179623        57.959398       2.224529   \n",
       "std    3.049067e+04       2.252075         2.438332       0.495710   \n",
       "min    1.447800e+02       0.500000         0.000000       1.000000   \n",
       "25%    7.499050e+02      61.200000        57.000000       2.000000   \n",
       "50%    1.660575e+03      62.200000        58.000000       2.000000   \n",
       "75%    4.798540e+03      62.900000        59.000000       2.000000   \n",
       "max    3.777064e+06      79.800000        90.000000       5.000000   \n",
       "\n",
       "            symmetry     crownAngle    crownHeight  pavilionAngle  \\\n",
       "count  110458.000000  110458.000000  110458.000000  110458.000000   \n",
       "mean        2.400297      22.540216       0.734238      27.095983   \n",
       "std         0.652255      19.660037       3.182180      19.616273   \n",
       "min         1.000000       0.000000       0.000000       0.000000   \n",
       "25%         2.000000       0.000000       0.000000       0.000000   \n",
       "50%         2.000000      33.500000       0.000000      40.800000   \n",
       "75%         3.000000      35.500000       0.000000      41.200000   \n",
       "max         6.000000    3605.000000      20.000000      69.800000   \n",
       "\n",
       "       pavilionDepth            GIA            IGI          Other  \n",
       "count  110458.000000  110458.000000  110458.000000  110458.000000  \n",
       "mean        2.221817       0.917752       0.070597       0.011651  \n",
       "std         9.573749       0.274744       0.256152       0.107312  \n",
       "min         0.000000       0.000000       0.000000       0.000000  \n",
       "25%         0.000000       1.000000       0.000000       0.000000  \n",
       "50%         0.000000       1.000000       0.000000       0.000000  \n",
       "75%         0.000000       1.000000       0.000000       0.000000  \n",
       "max        48.500000       1.000000       1.000000       1.000000  "
      ]
     },
     "execution_count": 264,
     "metadata": {},
     "output_type": "execute_result"
    }
   ],
   "source": [
    "#take a quick look ta the target variable\n",
    "df.describe()\n",
    "#the scale of price is weird?"
   ]
  },
  {
   "cell_type": "code",
   "execution_count": 267,
   "id": "66d062bb-ee31-4518-967b-45862329ce2a",
   "metadata": {},
   "outputs": [
    {
     "data": {
      "text/html": [
       "<div>\n",
       "<style scoped>\n",
       "    .dataframe tbody tr th:only-of-type {\n",
       "        vertical-align: middle;\n",
       "    }\n",
       "\n",
       "    .dataframe tbody tr th {\n",
       "        vertical-align: top;\n",
       "    }\n",
       "\n",
       "    .dataframe thead th {\n",
       "        text-align: right;\n",
       "    }\n",
       "</style>\n",
       "<table border=\"1\" class=\"dataframe\">\n",
       "  <thead>\n",
       "    <tr style=\"text-align: right;\">\n",
       "      <th></th>\n",
       "      <th>price</th>\n",
       "      <th>carat</th>\n",
       "      <th>cut</th>\n",
       "      <th>clarity</th>\n",
       "      <th>color</th>\n",
       "      <th>Other</th>\n",
       "      <th>IGI</th>\n",
       "      <th>GIA</th>\n",
       "      <th>polish</th>\n",
       "      <th>symmetry</th>\n",
       "    </tr>\n",
       "  </thead>\n",
       "  <tbody>\n",
       "    <tr>\n",
       "      <th>0</th>\n",
       "      <td>96980.26</td>\n",
       "      <td>3.01</td>\n",
       "      <td>3</td>\n",
       "      <td>6</td>\n",
       "      <td>1</td>\n",
       "      <td>0</td>\n",
       "      <td>0</td>\n",
       "      <td>1</td>\n",
       "      <td>3</td>\n",
       "      <td>2</td>\n",
       "    </tr>\n",
       "    <tr>\n",
       "      <th>1</th>\n",
       "      <td>7722.58</td>\n",
       "      <td>1.26</td>\n",
       "      <td>2</td>\n",
       "      <td>7</td>\n",
       "      <td>6</td>\n",
       "      <td>0</td>\n",
       "      <td>0</td>\n",
       "      <td>1</td>\n",
       "      <td>2</td>\n",
       "      <td>2</td>\n",
       "    </tr>\n",
       "    <tr>\n",
       "      <th>2</th>\n",
       "      <td>239200.00</td>\n",
       "      <td>4.03</td>\n",
       "      <td>3</td>\n",
       "      <td>5</td>\n",
       "      <td>2</td>\n",
       "      <td>0</td>\n",
       "      <td>0</td>\n",
       "      <td>1</td>\n",
       "      <td>2</td>\n",
       "      <td>3</td>\n",
       "    </tr>\n",
       "    <tr>\n",
       "      <th>3</th>\n",
       "      <td>27508.00</td>\n",
       "      <td>1.86</td>\n",
       "      <td>2</td>\n",
       "      <td>6</td>\n",
       "      <td>2</td>\n",
       "      <td>0</td>\n",
       "      <td>0</td>\n",
       "      <td>1</td>\n",
       "      <td>2</td>\n",
       "      <td>2</td>\n",
       "    </tr>\n",
       "    <tr>\n",
       "      <th>4</th>\n",
       "      <td>84081.29</td>\n",
       "      <td>4.28</td>\n",
       "      <td>3</td>\n",
       "      <td>7</td>\n",
       "      <td>5</td>\n",
       "      <td>0</td>\n",
       "      <td>0</td>\n",
       "      <td>1</td>\n",
       "      <td>2</td>\n",
       "      <td>3</td>\n",
       "    </tr>\n",
       "  </tbody>\n",
       "</table>\n",
       "</div>"
      ],
      "text/plain": [
       "       price  carat  cut  clarity  color  Other  IGI  GIA  polish  symmetry\n",
       "0   96980.26   3.01    3        6      1      0    0    1       3         2\n",
       "1    7722.58   1.26    2        7      6      0    0    1       2         2\n",
       "2  239200.00   4.03    3        5      2      0    0    1       2         3\n",
       "3   27508.00   1.86    2        6      2      0    0    1       2         2\n",
       "4   84081.29   4.28    3        7      5      0    0    1       2         3"
      ]
     },
     "execution_count": 267,
     "metadata": {},
     "output_type": "execute_result"
    }
   ],
   "source": [
    "#make a copy of the data with only the features I will model\n",
    "df= df[['price', 'carat', 'cut', 'clarity', 'color', 'Other', 'IGI', 'GIA', 'polish', 'symmetry']].copy()\n",
    "df.head()"
   ]
  },
  {
   "cell_type": "code",
   "execution_count": 268,
   "id": "c36a7883-c164-40ef-a771-c3c91f100778",
   "metadata": {},
   "outputs": [
    {
     "data": {
      "text/plain": [
       "(110458,)"
      ]
     },
     "execution_count": 268,
     "metadata": {},
     "output_type": "execute_result"
    }
   ],
   "source": [
    "#declare the target variable\n",
    "y = df['price']\n",
    "y.shape"
   ]
  },
  {
   "cell_type": "code",
   "execution_count": 269,
   "id": "7b25726d-704b-4d70-9bbd-89679ab0ce7a",
   "metadata": {},
   "outputs": [
    {
     "data": {
      "text/plain": [
       "(110458, 9)"
      ]
     },
     "execution_count": 269,
     "metadata": {},
     "output_type": "execute_result"
    }
   ],
   "source": [
    "#declare the model features\n",
    "X = df.drop(['price'], axis=1) #just exclude price\n",
    "X.shape"
   ]
  },
  {
   "cell_type": "code",
   "execution_count": 289,
   "id": "c303d7c4-9cda-4e24-881d-0743b820adc3",
   "metadata": {},
   "outputs": [],
   "source": [
    "# train-test split\n",
    "X_train, X_test, y_train, y_test = train_test_split(X, y, test_size = .25, random_state=12) #using the standard test size for now"
   ]
  },
  {
   "cell_type": "code",
   "execution_count": 290,
   "id": "3239ec86-597d-4920-b19a-f5433a76fe2f",
   "metadata": {},
   "outputs": [],
   "source": [
    "#instantiate the SKlearn algorithm\n",
    "mymodel = LinearRegression(fit_intercept=True, \n",
    "                           normalize=False, \n",
    "                           copy_X=True, \n",
    "                           n_jobs=None, \n",
    "                           positive=False)"
   ]
  },
  {
   "cell_type": "code",
   "execution_count": 291,
   "id": "0ef216f9-48f1-4c7b-b87b-57771407b65c",
   "metadata": {},
   "outputs": [
    {
     "name": "stderr",
     "output_type": "stream",
     "text": [
      "/home/studio-lab-user/.conda/envs/default/lib/python3.9/site-packages/sklearn/linear_model/_base.py:148: FutureWarning:\n",
      "\n",
      "'normalize' was deprecated in version 1.0 and will be removed in 1.2. Please leave the normalize parameter to its default value to silence this warning. The default behavior of this estimator is to not do any normalization. If normalization is needed please use sklearn.preprocessing.StandardScaler instead.\n",
      "\n"
     ]
    },
    {
     "data": {
      "text/html": [
       "<style>#sk-container-id-3 {color: black;background-color: white;}#sk-container-id-3 pre{padding: 0;}#sk-container-id-3 div.sk-toggleable {background-color: white;}#sk-container-id-3 label.sk-toggleable__label {cursor: pointer;display: block;width: 100%;margin-bottom: 0;padding: 0.3em;box-sizing: border-box;text-align: center;}#sk-container-id-3 label.sk-toggleable__label-arrow:before {content: \"▸\";float: left;margin-right: 0.25em;color: #696969;}#sk-container-id-3 label.sk-toggleable__label-arrow:hover:before {color: black;}#sk-container-id-3 div.sk-estimator:hover label.sk-toggleable__label-arrow:before {color: black;}#sk-container-id-3 div.sk-toggleable__content {max-height: 0;max-width: 0;overflow: hidden;text-align: left;background-color: #f0f8ff;}#sk-container-id-3 div.sk-toggleable__content pre {margin: 0.2em;color: black;border-radius: 0.25em;background-color: #f0f8ff;}#sk-container-id-3 input.sk-toggleable__control:checked~div.sk-toggleable__content {max-height: 200px;max-width: 100%;overflow: auto;}#sk-container-id-3 input.sk-toggleable__control:checked~label.sk-toggleable__label-arrow:before {content: \"▾\";}#sk-container-id-3 div.sk-estimator input.sk-toggleable__control:checked~label.sk-toggleable__label {background-color: #d4ebff;}#sk-container-id-3 div.sk-label input.sk-toggleable__control:checked~label.sk-toggleable__label {background-color: #d4ebff;}#sk-container-id-3 input.sk-hidden--visually {border: 0;clip: rect(1px 1px 1px 1px);clip: rect(1px, 1px, 1px, 1px);height: 1px;margin: -1px;overflow: hidden;padding: 0;position: absolute;width: 1px;}#sk-container-id-3 div.sk-estimator {font-family: monospace;background-color: #f0f8ff;border: 1px dotted black;border-radius: 0.25em;box-sizing: border-box;margin-bottom: 0.5em;}#sk-container-id-3 div.sk-estimator:hover {background-color: #d4ebff;}#sk-container-id-3 div.sk-parallel-item::after {content: \"\";width: 100%;border-bottom: 1px solid gray;flex-grow: 1;}#sk-container-id-3 div.sk-label:hover label.sk-toggleable__label {background-color: #d4ebff;}#sk-container-id-3 div.sk-serial::before {content: \"\";position: absolute;border-left: 1px solid gray;box-sizing: border-box;top: 0;bottom: 0;left: 50%;z-index: 0;}#sk-container-id-3 div.sk-serial {display: flex;flex-direction: column;align-items: center;background-color: white;padding-right: 0.2em;padding-left: 0.2em;position: relative;}#sk-container-id-3 div.sk-item {position: relative;z-index: 1;}#sk-container-id-3 div.sk-parallel {display: flex;align-items: stretch;justify-content: center;background-color: white;position: relative;}#sk-container-id-3 div.sk-item::before, #sk-container-id-3 div.sk-parallel-item::before {content: \"\";position: absolute;border-left: 1px solid gray;box-sizing: border-box;top: 0;bottom: 0;left: 50%;z-index: -1;}#sk-container-id-3 div.sk-parallel-item {display: flex;flex-direction: column;z-index: 1;position: relative;background-color: white;}#sk-container-id-3 div.sk-parallel-item:first-child::after {align-self: flex-end;width: 50%;}#sk-container-id-3 div.sk-parallel-item:last-child::after {align-self: flex-start;width: 50%;}#sk-container-id-3 div.sk-parallel-item:only-child::after {width: 0;}#sk-container-id-3 div.sk-dashed-wrapped {border: 1px dashed gray;margin: 0 0.4em 0.5em 0.4em;box-sizing: border-box;padding-bottom: 0.4em;background-color: white;}#sk-container-id-3 div.sk-label label {font-family: monospace;font-weight: bold;display: inline-block;line-height: 1.2em;}#sk-container-id-3 div.sk-label-container {text-align: center;}#sk-container-id-3 div.sk-container {/* jupyter's `normalize.less` sets `[hidden] { display: none; }` but bootstrap.min.css set `[hidden] { display: none !important; }` so we also need the `!important` here to be able to override the default hidden behavior on the sphinx rendered scikit-learn.org. See: https://github.com/scikit-learn/scikit-learn/issues/21755 */display: inline-block !important;position: relative;}#sk-container-id-3 div.sk-text-repr-fallback {display: none;}</style><div id=\"sk-container-id-3\" class=\"sk-top-container\"><div class=\"sk-text-repr-fallback\"><pre>LinearRegression(normalize=False)</pre><b>In a Jupyter environment, please rerun this cell to show the HTML representation or trust the notebook. <br />On GitHub, the HTML representation is unable to render, please try loading this page with nbviewer.org.</b></div><div class=\"sk-container\" hidden><div class=\"sk-item\"><div class=\"sk-estimator sk-toggleable\"><input class=\"sk-toggleable__control sk-hidden--visually\" id=\"sk-estimator-id-3\" type=\"checkbox\" checked><label for=\"sk-estimator-id-3\" class=\"sk-toggleable__label sk-toggleable__label-arrow\">LinearRegression</label><div class=\"sk-toggleable__content\"><pre>LinearRegression(normalize=False)</pre></div></div></div></div></div>"
      ],
      "text/plain": [
       "LinearRegression(normalize=False)"
      ]
     },
     "execution_count": 291,
     "metadata": {},
     "output_type": "execute_result"
    }
   ],
   "source": [
    "#fit the model to the training dataset\n",
    "mymodel.fit(X_train, y_train)"
   ]
  },
  {
   "cell_type": "code",
   "execution_count": 292,
   "id": "99139221-ea4f-4c77-a162-1865da9e5934",
   "metadata": {},
   "outputs": [
    {
     "name": "stdout",
     "output_type": "stream",
     "text": [
      "LinearRegression(normalize=False)\n"
     ]
    }
   ],
   "source": [
    "print(mymodel)"
   ]
  },
  {
   "cell_type": "code",
   "execution_count": 293,
   "id": "4abe5f45-fe47-40ab-adbb-8ef3cf951f85",
   "metadata": {},
   "outputs": [
    {
     "data": {
      "text/plain": [
       "-6223.282503754364"
      ]
     },
     "execution_count": 293,
     "metadata": {},
     "output_type": "execute_result"
    }
   ],
   "source": [
    "#what is the intercept?\n",
    "mymodel.intercept_\n",
    "#according to my model intercept, if carat, cut, clarity, color, polish, symmetry and the rating agencies were all 0, the diamond would be priced at -$6K\n",
    "#doesn't really tell us much since that wouldn't happen in the real world"
   ]
  },
  {
   "cell_type": "code",
   "execution_count": 294,
   "id": "f89ccc11-85e3-452b-9853-7645813edd41",
   "metadata": {},
   "outputs": [
    {
     "name": "stdout",
     "output_type": "stream",
     "text": [
      "Regression Equation:  y = -6223.28 + 25688.87*carat + -42.65*cut + -1551.34*clarity + -1452.4*color + -2764.06*Other + 1531.52*IGI + 1232.54*GIA+ 1460.12*polish+ 159.93*symmetry\n"
     ]
    }
   ],
   "source": [
    "#what is the equation for this mymodel?\n",
    "cols=list(X.columns)\n",
    "coefs=list(mymodel.coef_)\n",
    "xcoefs = [(coefs[i], cols[i]) for i in range(0, len(cols))]\n",
    "output = f'y = {round(mymodel.intercept_,2)} + {round(xcoefs[0][0],2)}*{xcoefs[0][1]} + {round(xcoefs[1][0],2)}*{xcoefs[1][1]} + {round(xcoefs[2][0],2)}*{xcoefs[2][1]} + {round(xcoefs[3][0],2)}*{xcoefs[3][1]} + {round(xcoefs[4][0],2)}*{xcoefs[4][1]} + {round(xcoefs[5][0],2)}*{xcoefs[5][1]} + {round(xcoefs[6][0],2)}*{xcoefs[6][1]}+ {round(xcoefs[7][0],2)}*{xcoefs[7][1]}+ {round(xcoefs[8][0],2)}*{xcoefs[8][1]}'\n",
    "print(\"Regression Equation: \", output)\n",
    "#cut, clarity, and color all have negative intercepts because I mapped the \"best\" to 1 with ascending values after that so that makes sense"
   ]
  },
  {
   "cell_type": "code",
   "execution_count": 295,
   "id": "1efcf0ca-047c-47be-862a-2067f0f4804c",
   "metadata": {},
   "outputs": [],
   "source": [
    "#for the graph below\n",
    "coefs=list(mymodel.coef_)\n",
    "cols=list(X.columns)"
   ]
  },
  {
   "cell_type": "code",
   "execution_count": 296,
   "id": "91842062-652d-4425-aa05-d275c6bd0112",
   "metadata": {},
   "outputs": [
    {
     "data": {
      "text/html": [
       "<div>\n",
       "<style scoped>\n",
       "    .dataframe tbody tr th:only-of-type {\n",
       "        vertical-align: middle;\n",
       "    }\n",
       "\n",
       "    .dataframe tbody tr th {\n",
       "        vertical-align: top;\n",
       "    }\n",
       "\n",
       "    .dataframe thead th {\n",
       "        text-align: right;\n",
       "    }\n",
       "</style>\n",
       "<table border=\"1\" class=\"dataframe\">\n",
       "  <thead>\n",
       "    <tr style=\"text-align: right;\">\n",
       "      <th></th>\n",
       "      <th>feature</th>\n",
       "      <th>coeff</th>\n",
       "    </tr>\n",
       "  </thead>\n",
       "  <tbody>\n",
       "    <tr>\n",
       "      <th>0</th>\n",
       "      <td>carat</td>\n",
       "      <td>25688.872576</td>\n",
       "    </tr>\n",
       "    <tr>\n",
       "      <th>1</th>\n",
       "      <td>cut</td>\n",
       "      <td>-42.645817</td>\n",
       "    </tr>\n",
       "    <tr>\n",
       "      <th>2</th>\n",
       "      <td>clarity</td>\n",
       "      <td>-1551.339669</td>\n",
       "    </tr>\n",
       "    <tr>\n",
       "      <th>3</th>\n",
       "      <td>color</td>\n",
       "      <td>-1452.400344</td>\n",
       "    </tr>\n",
       "    <tr>\n",
       "      <th>4</th>\n",
       "      <td>Other</td>\n",
       "      <td>-2764.059526</td>\n",
       "    </tr>\n",
       "    <tr>\n",
       "      <th>5</th>\n",
       "      <td>IGI</td>\n",
       "      <td>1531.521900</td>\n",
       "    </tr>\n",
       "    <tr>\n",
       "      <th>6</th>\n",
       "      <td>GIA</td>\n",
       "      <td>1232.537625</td>\n",
       "    </tr>\n",
       "    <tr>\n",
       "      <th>7</th>\n",
       "      <td>polish</td>\n",
       "      <td>1460.123291</td>\n",
       "    </tr>\n",
       "    <tr>\n",
       "      <th>8</th>\n",
       "      <td>symmetry</td>\n",
       "      <td>159.929342</td>\n",
       "    </tr>\n",
       "  </tbody>\n",
       "</table>\n",
       "</div>"
      ],
      "text/plain": [
       "    feature         coeff\n",
       "0     carat  25688.872576\n",
       "1       cut    -42.645817\n",
       "2   clarity  -1551.339669\n",
       "3     color  -1452.400344\n",
       "4     Other  -2764.059526\n",
       "5       IGI   1531.521900\n",
       "6       GIA   1232.537625\n",
       "7    polish   1460.123291\n",
       "8  symmetry    159.929342"
      ]
     },
     "execution_count": 296,
     "metadata": {},
     "output_type": "execute_result"
    }
   ],
   "source": [
    "#turn these into a dataframe\n",
    "results = pd.DataFrame(list(zip(cols, coefs)), columns=['feature','coeff'])\n",
    "results "
   ]
  },
  {
   "cell_type": "code",
   "execution_count": 297,
   "id": "a2a4f791-66cd-4998-ba64-0ceec314855e",
   "metadata": {},
   "outputs": [
    {
     "data": {
      "application/vnd.plotly.v1+json": {
       "config": {
        "plotlyServerURL": "https://plot.ly"
       },
       "data": [
        {
         "alignmentgroup": "True",
         "hovertemplate": "x=%{x}<br>y=%{y}<extra></extra>",
         "legendgroup": "",
         "marker": {
          "color": "#636efa",
          "pattern": {
           "shape": ""
          }
         },
         "name": "",
         "offsetgroup": "",
         "orientation": "v",
         "showlegend": false,
         "textposition": "auto",
         "type": "bar",
         "x": [
          "carat",
          "cut",
          "clarity",
          "color",
          "Other",
          "IGI",
          "GIA",
          "polish",
          "symmetry"
         ],
         "xaxis": "x",
         "y": [
          25688.87257571102,
          -42.64581735829188,
          -1551.3396689637498,
          -1452.400343588771,
          -2764.0595255244198,
          1531.5219004434562,
          1232.5376250809647,
          1460.1232909104347,
          159.92934156692303
         ],
         "yaxis": "y"
        }
       ],
       "layout": {
        "autosize": true,
        "barmode": "relative",
        "legend": {
         "tracegroupgap": 0
        },
        "margin": {
         "t": 60
        },
        "template": {
         "data": {
          "bar": [
           {
            "error_x": {
             "color": "#2a3f5f"
            },
            "error_y": {
             "color": "#2a3f5f"
            },
            "marker": {
             "line": {
              "color": "#E5ECF6",
              "width": 0.5
             },
             "pattern": {
              "fillmode": "overlay",
              "size": 10,
              "solidity": 0.2
             }
            },
            "type": "bar"
           }
          ],
          "barpolar": [
           {
            "marker": {
             "line": {
              "color": "#E5ECF6",
              "width": 0.5
             },
             "pattern": {
              "fillmode": "overlay",
              "size": 10,
              "solidity": 0.2
             }
            },
            "type": "barpolar"
           }
          ],
          "carpet": [
           {
            "aaxis": {
             "endlinecolor": "#2a3f5f",
             "gridcolor": "white",
             "linecolor": "white",
             "minorgridcolor": "white",
             "startlinecolor": "#2a3f5f"
            },
            "baxis": {
             "endlinecolor": "#2a3f5f",
             "gridcolor": "white",
             "linecolor": "white",
             "minorgridcolor": "white",
             "startlinecolor": "#2a3f5f"
            },
            "type": "carpet"
           }
          ],
          "choropleth": [
           {
            "colorbar": {
             "outlinewidth": 0,
             "ticks": ""
            },
            "type": "choropleth"
           }
          ],
          "contour": [
           {
            "colorbar": {
             "outlinewidth": 0,
             "ticks": ""
            },
            "colorscale": [
             [
              0,
              "#0d0887"
             ],
             [
              0.1111111111111111,
              "#46039f"
             ],
             [
              0.2222222222222222,
              "#7201a8"
             ],
             [
              0.3333333333333333,
              "#9c179e"
             ],
             [
              0.4444444444444444,
              "#bd3786"
             ],
             [
              0.5555555555555556,
              "#d8576b"
             ],
             [
              0.6666666666666666,
              "#ed7953"
             ],
             [
              0.7777777777777778,
              "#fb9f3a"
             ],
             [
              0.8888888888888888,
              "#fdca26"
             ],
             [
              1,
              "#f0f921"
             ]
            ],
            "type": "contour"
           }
          ],
          "contourcarpet": [
           {
            "colorbar": {
             "outlinewidth": 0,
             "ticks": ""
            },
            "type": "contourcarpet"
           }
          ],
          "heatmap": [
           {
            "colorbar": {
             "outlinewidth": 0,
             "ticks": ""
            },
            "colorscale": [
             [
              0,
              "#0d0887"
             ],
             [
              0.1111111111111111,
              "#46039f"
             ],
             [
              0.2222222222222222,
              "#7201a8"
             ],
             [
              0.3333333333333333,
              "#9c179e"
             ],
             [
              0.4444444444444444,
              "#bd3786"
             ],
             [
              0.5555555555555556,
              "#d8576b"
             ],
             [
              0.6666666666666666,
              "#ed7953"
             ],
             [
              0.7777777777777778,
              "#fb9f3a"
             ],
             [
              0.8888888888888888,
              "#fdca26"
             ],
             [
              1,
              "#f0f921"
             ]
            ],
            "type": "heatmap"
           }
          ],
          "heatmapgl": [
           {
            "colorbar": {
             "outlinewidth": 0,
             "ticks": ""
            },
            "colorscale": [
             [
              0,
              "#0d0887"
             ],
             [
              0.1111111111111111,
              "#46039f"
             ],
             [
              0.2222222222222222,
              "#7201a8"
             ],
             [
              0.3333333333333333,
              "#9c179e"
             ],
             [
              0.4444444444444444,
              "#bd3786"
             ],
             [
              0.5555555555555556,
              "#d8576b"
             ],
             [
              0.6666666666666666,
              "#ed7953"
             ],
             [
              0.7777777777777778,
              "#fb9f3a"
             ],
             [
              0.8888888888888888,
              "#fdca26"
             ],
             [
              1,
              "#f0f921"
             ]
            ],
            "type": "heatmapgl"
           }
          ],
          "histogram": [
           {
            "marker": {
             "pattern": {
              "fillmode": "overlay",
              "size": 10,
              "solidity": 0.2
             }
            },
            "type": "histogram"
           }
          ],
          "histogram2d": [
           {
            "colorbar": {
             "outlinewidth": 0,
             "ticks": ""
            },
            "colorscale": [
             [
              0,
              "#0d0887"
             ],
             [
              0.1111111111111111,
              "#46039f"
             ],
             [
              0.2222222222222222,
              "#7201a8"
             ],
             [
              0.3333333333333333,
              "#9c179e"
             ],
             [
              0.4444444444444444,
              "#bd3786"
             ],
             [
              0.5555555555555556,
              "#d8576b"
             ],
             [
              0.6666666666666666,
              "#ed7953"
             ],
             [
              0.7777777777777778,
              "#fb9f3a"
             ],
             [
              0.8888888888888888,
              "#fdca26"
             ],
             [
              1,
              "#f0f921"
             ]
            ],
            "type": "histogram2d"
           }
          ],
          "histogram2dcontour": [
           {
            "colorbar": {
             "outlinewidth": 0,
             "ticks": ""
            },
            "colorscale": [
             [
              0,
              "#0d0887"
             ],
             [
              0.1111111111111111,
              "#46039f"
             ],
             [
              0.2222222222222222,
              "#7201a8"
             ],
             [
              0.3333333333333333,
              "#9c179e"
             ],
             [
              0.4444444444444444,
              "#bd3786"
             ],
             [
              0.5555555555555556,
              "#d8576b"
             ],
             [
              0.6666666666666666,
              "#ed7953"
             ],
             [
              0.7777777777777778,
              "#fb9f3a"
             ],
             [
              0.8888888888888888,
              "#fdca26"
             ],
             [
              1,
              "#f0f921"
             ]
            ],
            "type": "histogram2dcontour"
           }
          ],
          "mesh3d": [
           {
            "colorbar": {
             "outlinewidth": 0,
             "ticks": ""
            },
            "type": "mesh3d"
           }
          ],
          "parcoords": [
           {
            "line": {
             "colorbar": {
              "outlinewidth": 0,
              "ticks": ""
             }
            },
            "type": "parcoords"
           }
          ],
          "pie": [
           {
            "automargin": true,
            "type": "pie"
           }
          ],
          "scatter": [
           {
            "fillpattern": {
             "fillmode": "overlay",
             "size": 10,
             "solidity": 0.2
            },
            "type": "scatter"
           }
          ],
          "scatter3d": [
           {
            "line": {
             "colorbar": {
              "outlinewidth": 0,
              "ticks": ""
             }
            },
            "marker": {
             "colorbar": {
              "outlinewidth": 0,
              "ticks": ""
             }
            },
            "type": "scatter3d"
           }
          ],
          "scattercarpet": [
           {
            "marker": {
             "colorbar": {
              "outlinewidth": 0,
              "ticks": ""
             }
            },
            "type": "scattercarpet"
           }
          ],
          "scattergeo": [
           {
            "marker": {
             "colorbar": {
              "outlinewidth": 0,
              "ticks": ""
             }
            },
            "type": "scattergeo"
           }
          ],
          "scattergl": [
           {
            "marker": {
             "colorbar": {
              "outlinewidth": 0,
              "ticks": ""
             }
            },
            "type": "scattergl"
           }
          ],
          "scattermapbox": [
           {
            "marker": {
             "colorbar": {
              "outlinewidth": 0,
              "ticks": ""
             }
            },
            "type": "scattermapbox"
           }
          ],
          "scatterpolar": [
           {
            "marker": {
             "colorbar": {
              "outlinewidth": 0,
              "ticks": ""
             }
            },
            "type": "scatterpolar"
           }
          ],
          "scatterpolargl": [
           {
            "marker": {
             "colorbar": {
              "outlinewidth": 0,
              "ticks": ""
             }
            },
            "type": "scatterpolargl"
           }
          ],
          "scatterternary": [
           {
            "marker": {
             "colorbar": {
              "outlinewidth": 0,
              "ticks": ""
             }
            },
            "type": "scatterternary"
           }
          ],
          "surface": [
           {
            "colorbar": {
             "outlinewidth": 0,
             "ticks": ""
            },
            "colorscale": [
             [
              0,
              "#0d0887"
             ],
             [
              0.1111111111111111,
              "#46039f"
             ],
             [
              0.2222222222222222,
              "#7201a8"
             ],
             [
              0.3333333333333333,
              "#9c179e"
             ],
             [
              0.4444444444444444,
              "#bd3786"
             ],
             [
              0.5555555555555556,
              "#d8576b"
             ],
             [
              0.6666666666666666,
              "#ed7953"
             ],
             [
              0.7777777777777778,
              "#fb9f3a"
             ],
             [
              0.8888888888888888,
              "#fdca26"
             ],
             [
              1,
              "#f0f921"
             ]
            ],
            "type": "surface"
           }
          ],
          "table": [
           {
            "cells": {
             "fill": {
              "color": "#EBF0F8"
             },
             "line": {
              "color": "white"
             }
            },
            "header": {
             "fill": {
              "color": "#C8D4E3"
             },
             "line": {
              "color": "white"
             }
            },
            "type": "table"
           }
          ]
         },
         "layout": {
          "annotationdefaults": {
           "arrowcolor": "#2a3f5f",
           "arrowhead": 0,
           "arrowwidth": 1
          },
          "autotypenumbers": "strict",
          "coloraxis": {
           "colorbar": {
            "outlinewidth": 0,
            "ticks": ""
           }
          },
          "colorscale": {
           "diverging": [
            [
             0,
             "#8e0152"
            ],
            [
             0.1,
             "#c51b7d"
            ],
            [
             0.2,
             "#de77ae"
            ],
            [
             0.3,
             "#f1b6da"
            ],
            [
             0.4,
             "#fde0ef"
            ],
            [
             0.5,
             "#f7f7f7"
            ],
            [
             0.6,
             "#e6f5d0"
            ],
            [
             0.7,
             "#b8e186"
            ],
            [
             0.8,
             "#7fbc41"
            ],
            [
             0.9,
             "#4d9221"
            ],
            [
             1,
             "#276419"
            ]
           ],
           "sequential": [
            [
             0,
             "#0d0887"
            ],
            [
             0.1111111111111111,
             "#46039f"
            ],
            [
             0.2222222222222222,
             "#7201a8"
            ],
            [
             0.3333333333333333,
             "#9c179e"
            ],
            [
             0.4444444444444444,
             "#bd3786"
            ],
            [
             0.5555555555555556,
             "#d8576b"
            ],
            [
             0.6666666666666666,
             "#ed7953"
            ],
            [
             0.7777777777777778,
             "#fb9f3a"
            ],
            [
             0.8888888888888888,
             "#fdca26"
            ],
            [
             1,
             "#f0f921"
            ]
           ],
           "sequentialminus": [
            [
             0,
             "#0d0887"
            ],
            [
             0.1111111111111111,
             "#46039f"
            ],
            [
             0.2222222222222222,
             "#7201a8"
            ],
            [
             0.3333333333333333,
             "#9c179e"
            ],
            [
             0.4444444444444444,
             "#bd3786"
            ],
            [
             0.5555555555555556,
             "#d8576b"
            ],
            [
             0.6666666666666666,
             "#ed7953"
            ],
            [
             0.7777777777777778,
             "#fb9f3a"
            ],
            [
             0.8888888888888888,
             "#fdca26"
            ],
            [
             1,
             "#f0f921"
            ]
           ]
          },
          "colorway": [
           "#636efa",
           "#EF553B",
           "#00cc96",
           "#ab63fa",
           "#FFA15A",
           "#19d3f3",
           "#FF6692",
           "#B6E880",
           "#FF97FF",
           "#FECB52"
          ],
          "font": {
           "color": "#2a3f5f"
          },
          "geo": {
           "bgcolor": "white",
           "lakecolor": "white",
           "landcolor": "#E5ECF6",
           "showlakes": true,
           "showland": true,
           "subunitcolor": "white"
          },
          "hoverlabel": {
           "align": "left"
          },
          "hovermode": "closest",
          "mapbox": {
           "style": "light"
          },
          "paper_bgcolor": "white",
          "plot_bgcolor": "#E5ECF6",
          "polar": {
           "angularaxis": {
            "gridcolor": "white",
            "linecolor": "white",
            "ticks": ""
           },
           "bgcolor": "#E5ECF6",
           "radialaxis": {
            "gridcolor": "white",
            "linecolor": "white",
            "ticks": ""
           }
          },
          "scene": {
           "xaxis": {
            "backgroundcolor": "#E5ECF6",
            "gridcolor": "white",
            "gridwidth": 2,
            "linecolor": "white",
            "showbackground": true,
            "ticks": "",
            "zerolinecolor": "white"
           },
           "yaxis": {
            "backgroundcolor": "#E5ECF6",
            "gridcolor": "white",
            "gridwidth": 2,
            "linecolor": "white",
            "showbackground": true,
            "ticks": "",
            "zerolinecolor": "white"
           },
           "zaxis": {
            "backgroundcolor": "#E5ECF6",
            "gridcolor": "white",
            "gridwidth": 2,
            "linecolor": "white",
            "showbackground": true,
            "ticks": "",
            "zerolinecolor": "white"
           }
          },
          "shapedefaults": {
           "line": {
            "color": "#2a3f5f"
           }
          },
          "ternary": {
           "aaxis": {
            "gridcolor": "white",
            "linecolor": "white",
            "ticks": ""
           },
           "baxis": {
            "gridcolor": "white",
            "linecolor": "white",
            "ticks": ""
           },
           "bgcolor": "#E5ECF6",
           "caxis": {
            "gridcolor": "white",
            "linecolor": "white",
            "ticks": ""
           }
          },
          "title": {
           "x": 0.05
          },
          "xaxis": {
           "automargin": true,
           "gridcolor": "white",
           "linecolor": "white",
           "ticks": "",
           "title": {
            "standoff": 15
           },
           "zerolinecolor": "white",
           "zerolinewidth": 2
          },
          "yaxis": {
           "automargin": true,
           "gridcolor": "white",
           "linecolor": "white",
           "ticks": "",
           "title": {
            "standoff": 15
           },
           "zerolinecolor": "white",
           "zerolinewidth": 2
          }
         }
        },
        "xaxis": {
         "anchor": "y",
         "autorange": true,
         "domain": [
          0,
          1
         ],
         "range": [
          -0.5,
          8.5
         ],
         "title": {
          "text": "predictor"
         },
         "type": "category"
        },
        "yaxis": {
         "anchor": "x",
         "autorange": true,
         "domain": [
          0,
          1
         ],
         "range": [
          -4344.777975593055,
          27269.591025779653
         ],
         "title": {
          "text": "coefficient"
         },
         "type": "linear"
        }
       }
      },
      "image/png": "[encoded data removed]",
      "text/html": [
       "<div>                            <div id=\"066f74e0-8295-42fa-8b45-5c3321a3515d\" class=\"plotly-graph-div\" style=\"height:525px; width:100%;\"></div>            <script type=\"text/javascript\">                require([\"plotly\"], function(Plotly) {                    window.PLOTLYENV=window.PLOTLYENV || {};                                    if (document.getElementById(\"066f74e0-8295-42fa-8b45-5c3321a3515d\")) {                    Plotly.newPlot(                        \"066f74e0-8295-42fa-8b45-5c3321a3515d\",                        [{\"alignmentgroup\":\"True\",\"hovertemplate\":\"x=%{x}<br>y=%{y}<extra></extra>\",\"legendgroup\":\"\",\"marker\":{\"color\":\"#636efa\",\"pattern\":{\"shape\":\"\"}},\"name\":\"\",\"offsetgroup\":\"\",\"orientation\":\"v\",\"showlegend\":false,\"textposition\":\"auto\",\"x\":[\"carat\",\"cut\",\"clarity\",\"color\",\"Other\",\"IGI\",\"GIA\",\"polish\",\"symmetry\"],\"xaxis\":\"x\",\"y\":[25688.87257571102,-42.64581735829188,-1551.3396689637498,-1452.400343588771,-2764.0595255244198,1531.5219004434562,1232.5376250809647,1460.1232909104347,159.92934156692303],\"yaxis\":\"y\",\"type\":\"bar\"}],                        {\"template\":{\"data\":{\"histogram2dcontour\":[{\"type\":\"histogram2dcontour\",\"colorbar\":{\"outlinewidth\":0,\"ticks\":\"\"},\"colorscale\":[[0.0,\"#0d0887\"],[0.1111111111111111,\"#46039f\"],[0.2222222222222222,\"#7201a8\"],[0.3333333333333333,\"#9c179e\"],[0.4444444444444444,\"#bd3786\"],[0.5555555555555556,\"#d8576b\"],[0.6666666666666666,\"#ed7953\"],[0.7777777777777778,\"#fb9f3a\"],[0.8888888888888888,\"#fdca26\"],[1.0,\"#f0f921\"]]}],\"choropleth\":[{\"type\":\"choropleth\",\"colorbar\":{\"outlinewidth\":0,\"ticks\":\"\"}}],\"histogram2d\":[{\"type\":\"histogram2d\",\"colorbar\":{\"outlinewidth\":0,\"ticks\":\"\"},\"colorscale\":[[0.0,\"#0d0887\"],[0.1111111111111111,\"#46039f\"],[0.2222222222222222,\"#7201a8\"],[0.3333333333333333,\"#9c179e\"],[0.4444444444444444,\"#bd3786\"],[0.5555555555555556,\"#d8576b\"],[0.6666666666666666,\"#ed7953\"],[0.7777777777777778,\"#fb9f3a\"],[0.8888888888888888,\"#fdca26\"],[1.0,\"#f0f921\"]]}],\"heatmap\":[{\"type\":\"heatmap\",\"colorbar\":{\"outlinewidth\":0,\"ticks\":\"\"},\"colorscale\":[[0.0,\"#0d0887\"],[0.1111111111111111,\"#46039f\"],[0.2222222222222222,\"#7201a8\"],[0.3333333333333333,\"#9c179e\"],[0.4444444444444444,\"#bd3786\"],[0.5555555555555556,\"#d8576b\"],[0.6666666666666666,\"#ed7953\"],[0.7777777777777778,\"#fb9f3a\"],[0.8888888888888888,\"#fdca26\"],[1.0,\"#f0f921\"]]}],\"heatmapgl\":[{\"type\":\"heatmapgl\",\"colorbar\":{\"outlinewidth\":0,\"ticks\":\"\"},\"colorscale\":[[0.0,\"#0d0887\"],[0.1111111111111111,\"#46039f\"],[0.2222222222222222,\"#7201a8\"],[0.3333333333333333,\"#9c179e\"],[0.4444444444444444,\"#bd3786\"],[0.5555555555555556,\"#d8576b\"],[0.6666666666666666,\"#ed7953\"],[0.7777777777777778,\"#fb9f3a\"],[0.8888888888888888,\"#fdca26\"],[1.0,\"#f0f921\"]]}],\"contourcarpet\":[{\"type\":\"contourcarpet\",\"colorbar\":{\"outlinewidth\":0,\"ticks\":\"\"}}],\"contour\":[{\"type\":\"contour\",\"colorbar\":{\"outlinewidth\":0,\"ticks\":\"\"},\"colorscale\":[[0.0,\"#0d0887\"],[0.1111111111111111,\"#46039f\"],[0.2222222222222222,\"#7201a8\"],[0.3333333333333333,\"#9c179e\"],[0.4444444444444444,\"#bd3786\"],[0.5555555555555556,\"#d8576b\"],[0.6666666666666666,\"#ed7953\"],[0.7777777777777778,\"#fb9f3a\"],[0.8888888888888888,\"#fdca26\"],[1.0,\"#f0f921\"]]}],\"surface\":[{\"type\":\"surface\",\"colorbar\":{\"outlinewidth\":0,\"ticks\":\"\"},\"colorscale\":[[0.0,\"#0d0887\"],[0.1111111111111111,\"#46039f\"],[0.2222222222222222,\"#7201a8\"],[0.3333333333333333,\"#9c179e\"],[0.4444444444444444,\"#bd3786\"],[0.5555555555555556,\"#d8576b\"],[0.6666666666666666,\"#ed7953\"],[0.7777777777777778,\"#fb9f3a\"],[0.8888888888888888,\"#fdca26\"],[1.0,\"#f0f921\"]]}],\"mesh3d\":[{\"type\":\"mesh3d\",\"colorbar\":{\"outlinewidth\":0,\"ticks\":\"\"}}],\"scatter\":[{\"fillpattern\":{\"fillmode\":\"overlay\",\"size\":10,\"solidity\":0.2},\"type\":\"scatter\"}],\"parcoords\":[{\"type\":\"parcoords\",\"line\":{\"colorbar\":{\"outlinewidth\":0,\"ticks\":\"\"}}}],\"scatterpolargl\":[{\"type\":\"scatterpolargl\",\"marker\":{\"colorbar\":{\"outlinewidth\":0,\"ticks\":\"\"}}}],\"bar\":[{\"error_x\":{\"color\":\"#2a3f5f\"},\"error_y\":{\"color\":\"#2a3f5f\"},\"marker\":{\"line\":{\"color\":\"#E5ECF6\",\"width\":0.5},\"pattern\":{\"fillmode\":\"overlay\",\"size\":10,\"solidity\":0.2}},\"type\":\"bar\"}],\"scattergeo\":[{\"type\":\"scattergeo\",\"marker\":{\"colorbar\":{\"outlinewidth\":0,\"ticks\":\"\"}}}],\"scatterpolar\":[{\"type\":\"scatterpolar\",\"marker\":{\"colorbar\":{\"outlinewidth\":0,\"ticks\":\"\"}}}],\"histogram\":[{\"marker\":{\"pattern\":{\"fillmode\":\"overlay\",\"size\":10,\"solidity\":0.2}},\"type\":\"histogram\"}],\"scattergl\":[{\"type\":\"scattergl\",\"marker\":{\"colorbar\":{\"outlinewidth\":0,\"ticks\":\"\"}}}],\"scatter3d\":[{\"type\":\"scatter3d\",\"line\":{\"colorbar\":{\"outlinewidth\":0,\"ticks\":\"\"}},\"marker\":{\"colorbar\":{\"outlinewidth\":0,\"ticks\":\"\"}}}],\"scattermapbox\":[{\"type\":\"scattermapbox\",\"marker\":{\"colorbar\":{\"outlinewidth\":0,\"ticks\":\"\"}}}],\"scatterternary\":[{\"type\":\"scatterternary\",\"marker\":{\"colorbar\":{\"outlinewidth\":0,\"ticks\":\"\"}}}],\"scattercarpet\":[{\"type\":\"scattercarpet\",\"marker\":{\"colorbar\":{\"outlinewidth\":0,\"ticks\":\"\"}}}],\"carpet\":[{\"aaxis\":{\"endlinecolor\":\"#2a3f5f\",\"gridcolor\":\"white\",\"linecolor\":\"white\",\"minorgridcolor\":\"white\",\"startlinecolor\":\"#2a3f5f\"},\"baxis\":{\"endlinecolor\":\"#2a3f5f\",\"gridcolor\":\"white\",\"linecolor\":\"white\",\"minorgridcolor\":\"white\",\"startlinecolor\":\"#2a3f5f\"},\"type\":\"carpet\"}],\"table\":[{\"cells\":{\"fill\":{\"color\":\"#EBF0F8\"},\"line\":{\"color\":\"white\"}},\"header\":{\"fill\":{\"color\":\"#C8D4E3\"},\"line\":{\"color\":\"white\"}},\"type\":\"table\"}],\"barpolar\":[{\"marker\":{\"line\":{\"color\":\"#E5ECF6\",\"width\":0.5},\"pattern\":{\"fillmode\":\"overlay\",\"size\":10,\"solidity\":0.2}},\"type\":\"barpolar\"}],\"pie\":[{\"automargin\":true,\"type\":\"pie\"}]},\"layout\":{\"autotypenumbers\":\"strict\",\"colorway\":[\"#636efa\",\"#EF553B\",\"#00cc96\",\"#ab63fa\",\"#FFA15A\",\"#19d3f3\",\"#FF6692\",\"#B6E880\",\"#FF97FF\",\"#FECB52\"],\"font\":{\"color\":\"#2a3f5f\"},\"hovermode\":\"closest\",\"hoverlabel\":{\"align\":\"left\"},\"paper_bgcolor\":\"white\",\"plot_bgcolor\":\"#E5ECF6\",\"polar\":{\"bgcolor\":\"#E5ECF6\",\"angularaxis\":{\"gridcolor\":\"white\",\"linecolor\":\"white\",\"ticks\":\"\"},\"radialaxis\":{\"gridcolor\":\"white\",\"linecolor\":\"white\",\"ticks\":\"\"}},\"ternary\":{\"bgcolor\":\"#E5ECF6\",\"aaxis\":{\"gridcolor\":\"white\",\"linecolor\":\"white\",\"ticks\":\"\"},\"baxis\":{\"gridcolor\":\"white\",\"linecolor\":\"white\",\"ticks\":\"\"},\"caxis\":{\"gridcolor\":\"white\",\"linecolor\":\"white\",\"ticks\":\"\"}},\"coloraxis\":{\"colorbar\":{\"outlinewidth\":0,\"ticks\":\"\"}},\"colorscale\":{\"sequential\":[[0.0,\"#0d0887\"],[0.1111111111111111,\"#46039f\"],[0.2222222222222222,\"#7201a8\"],[0.3333333333333333,\"#9c179e\"],[0.4444444444444444,\"#bd3786\"],[0.5555555555555556,\"#d8576b\"],[0.6666666666666666,\"#ed7953\"],[0.7777777777777778,\"#fb9f3a\"],[0.8888888888888888,\"#fdca26\"],[1.0,\"#f0f921\"]],\"sequentialminus\":[[0.0,\"#0d0887\"],[0.1111111111111111,\"#46039f\"],[0.2222222222222222,\"#7201a8\"],[0.3333333333333333,\"#9c179e\"],[0.4444444444444444,\"#bd3786\"],[0.5555555555555556,\"#d8576b\"],[0.6666666666666666,\"#ed7953\"],[0.7777777777777778,\"#fb9f3a\"],[0.8888888888888888,\"#fdca26\"],[1.0,\"#f0f921\"]],\"diverging\":[[0,\"#8e0152\"],[0.1,\"#c51b7d\"],[0.2,\"#de77ae\"],[0.3,\"#f1b6da\"],[0.4,\"#fde0ef\"],[0.5,\"#f7f7f7\"],[0.6,\"#e6f5d0\"],[0.7,\"#b8e186\"],[0.8,\"#7fbc41\"],[0.9,\"#4d9221\"],[1,\"#276419\"]]},\"xaxis\":{\"gridcolor\":\"white\",\"linecolor\":\"white\",\"ticks\":\"\",\"title\":{\"standoff\":15},\"zerolinecolor\":\"white\",\"automargin\":true,\"zerolinewidth\":2},\"yaxis\":{\"gridcolor\":\"white\",\"linecolor\":\"white\",\"ticks\":\"\",\"title\":{\"standoff\":15},\"zerolinecolor\":\"white\",\"automargin\":true,\"zerolinewidth\":2},\"scene\":{\"xaxis\":{\"backgroundcolor\":\"#E5ECF6\",\"gridcolor\":\"white\",\"linecolor\":\"white\",\"showbackground\":true,\"ticks\":\"\",\"zerolinecolor\":\"white\",\"gridwidth\":2},\"yaxis\":{\"backgroundcolor\":\"#E5ECF6\",\"gridcolor\":\"white\",\"linecolor\":\"white\",\"showbackground\":true,\"ticks\":\"\",\"zerolinecolor\":\"white\",\"gridwidth\":2},\"zaxis\":{\"backgroundcolor\":\"#E5ECF6\",\"gridcolor\":\"white\",\"linecolor\":\"white\",\"showbackground\":true,\"ticks\":\"\",\"zerolinecolor\":\"white\",\"gridwidth\":2}},\"shapedefaults\":{\"line\":{\"color\":\"#2a3f5f\"}},\"annotationdefaults\":{\"arrowcolor\":\"#2a3f5f\",\"arrowhead\":0,\"arrowwidth\":1},\"geo\":{\"bgcolor\":\"white\",\"landcolor\":\"#E5ECF6\",\"subunitcolor\":\"white\",\"showland\":true,\"showlakes\":true,\"lakecolor\":\"white\"},\"title\":{\"x\":0.05},\"mapbox\":{\"style\":\"light\"}}},\"xaxis\":{\"anchor\":\"y\",\"domain\":[0.0,1.0],\"title\":{\"text\":\"predictor\"}},\"yaxis\":{\"anchor\":\"x\",\"domain\":[0.0,1.0],\"title\":{\"text\":\"coefficient\"}},\"legend\":{\"tracegroupgap\":0},\"margin\":{\"t\":60},\"barmode\":\"relative\"},                        {\"responsive\": true}                    ).then(function(){\n",
       "                            \n",
       "var gd = document.getElementById('066f74e0-8295-42fa-8b45-5c3321a3515d');\n",
       "var x = new MutationObserver(function (mutations, observer) {{\n",
       "        var display = window.getComputedStyle(gd).display;\n",
       "        if (!display || display === 'none') {{\n",
       "            console.log([gd, 'removed!']);\n",
       "            Plotly.purge(gd);\n",
       "            observer.disconnect();\n",
       "        }}\n",
       "}});\n",
       "\n",
       "// Listen for the removal of the full notebook cells\n",
       "var notebookContainer = gd.closest('#notebook-container');\n",
       "if (notebookContainer) {{\n",
       "    x.observe(notebookContainer, {childList: true});\n",
       "}}\n",
       "\n",
       "// Listen for the clearing of the current output cell\n",
       "var outputEl = gd.closest('.output');\n",
       "if (outputEl) {{\n",
       "    x.observe(outputEl, {childList: true});\n",
       "}}\n",
       "\n",
       "                        })                };                });            </script>        </div>"
      ]
     },
     "metadata": {},
     "output_type": "display_data"
    }
   ],
   "source": [
    "#show results as a bar chart\n",
    "import plotly.express as px\n",
    "fig = px.bar(x=results['feature'], y=results['coeff'])\n",
    "fig.update_layout(\n",
    "    yaxis=dict( title='coefficient'),\n",
    "    xaxis=dict( title='predictor'),\n",
    ")\n",
    "fig.show()\n",
    "#surprisingly, cut doesn't seem to have much of an impact\n",
    "#the magnitude of impact for clarity and color match my understanding based on the Rapaport pricing guide"
   ]
  },
  {
   "cell_type": "code",
   "execution_count": 298,
   "id": "b789935d-815f-42ec-9a35-a9e3bdcf21bc",
   "metadata": {},
   "outputs": [],
   "source": [
    "#predict the y-values on the testing dataset\n",
    "y_preds = mymodel.predict(X_test)"
   ]
  },
  {
   "cell_type": "code",
   "execution_count": 299,
   "id": "ba828450-e87b-4f9f-9604-39c6d1a0c13e",
   "metadata": {},
   "outputs": [
    {
     "name": "stdout",
     "output_type": "stream",
     "text": [
      "[-1768.99, -7773.14, 1799.41, -3773.22, 36894.12]\n",
      "[709.06, 508.25, 1386.01, 872.56, 19053.05]\n"
     ]
    }
   ],
   "source": [
    "#compare some of the results of the predictions \n",
    "print([round(x,2) for x in y_preds[:5]])\n",
    "print(list(y_test[:5]))\n",
    "#looks very wrong..."
   ]
  },
  {
   "cell_type": "code",
   "execution_count": 300,
   "id": "715b3198-2d56-4bfa-af74-d9425ff7ae07",
   "metadata": {},
   "outputs": [
    {
     "data": {
      "image/png": "[encoded data removed]",
      "text/plain": [
       "<Figure size 432x432 with 1 Axes>"
      ]
     },
     "metadata": {
      "needs_background": "light"
     },
     "output_type": "display_data"
    }
   ],
   "source": [
    "#compare predictions to known values\n",
    "plt.figure(figsize=(6,6))\n",
    "ax = sns.regplot(x = y_preds, \n",
    "                 y = y_test, \n",
    "                 scatter_kws={\"color\": \"black\"}, \n",
    "                 line_kws={\"color\": \"red\"})\n",
    "ax.set(xlabel='predicted values', ylabel='true values');\n",
    "#something weird is going on"
   ]
  },
  {
   "cell_type": "markdown",
   "id": "8321fc1c-7426-42d1-8691-f238f25ac552",
   "metadata": {},
   "source": [
    "## Model Evaluation"
   ]
  },
  {
   "cell_type": "code",
   "execution_count": 301,
   "id": "e0b3c659-2fea-4a96-acf7-b805102f1364",
   "metadata": {},
   "outputs": [
    {
     "data": {
      "text/plain": [
       "21808.183754717873"
      ]
     },
     "execution_count": 301,
     "metadata": {},
     "output_type": "execute_result"
    }
   ],
   "source": [
    "#root mean sq error\n",
    "rmse = sqrt(metrics.mean_squared_error(y_test, y_preds))\n",
    "rmse"
   ]
  },
  {
   "cell_type": "code",
   "execution_count": 302,
   "id": "ef6b0e0a-af5e-4240-b4eb-b8e4c5413b06",
   "metadata": {},
   "outputs": [
    {
     "data": {
      "text/plain": [
       "5964.082332605049"
      ]
     },
     "execution_count": 302,
     "metadata": {},
     "output_type": "execute_result"
    }
   ],
   "source": [
    "#is that more or less than if we just used the average as our model?\n",
    "avg_val = y_train.mean()\n",
    "avg_val"
   ]
  },
  {
   "cell_type": "code",
   "execution_count": 303,
   "id": "6ae26d37-1ac7-4d55-9593-53ad4b68ec7e",
   "metadata": {},
   "outputs": [
    {
     "data": {
      "text/plain": [
       "array([5964.08233261, 5964.08233261, 5964.08233261, 5964.08233261,\n",
       "       5964.08233261, 5964.08233261, 5964.08233261, 5964.08233261,\n",
       "       5964.08233261, 5964.08233261])"
      ]
     },
     "execution_count": 303,
     "metadata": {},
     "output_type": "execute_result"
    }
   ],
   "source": [
    "#what would the error be if I predicted the average price for all diamonds?\n",
    "comparison = np.full((len(y_test), ), avg_val)\n",
    "comparison[:10]"
   ]
  },
  {
   "cell_type": "code",
   "execution_count": 304,
   "id": "4412f65f-5b76-4a32-86ab-0032f1c9a942",
   "metadata": {},
   "outputs": [
    {
     "data": {
      "text/plain": [
       "array([ -1768.98872225,  -7773.13788229,   1799.40635101,  -3773.22091911,\n",
       "        36894.12244705,  -2112.93461035, 105839.14026801, -10086.59243056,\n",
       "          365.35020626,   9010.53486373])"
      ]
     },
     "execution_count": 304,
     "metadata": {},
     "output_type": "execute_result"
    }
   ],
   "source": [
    "#compare that to my predictions\n",
    "y_preds[:10]\n",
    "#something is very off because the values are negative"
   ]
  },
  {
   "cell_type": "code",
   "execution_count": 305,
   "id": "5c326320-9bc5-4d69-8b68-91ca98916b0b",
   "metadata": {},
   "outputs": [
    {
     "data": {
      "text/plain": [
       "29911.671286357705"
      ]
     },
     "execution_count": 305,
     "metadata": {},
     "output_type": "execute_result"
    }
   ],
   "source": [
    "#compare these two:\n",
    "sqrt(metrics.mean_squared_error(y_test, comparison))"
   ]
  },
  {
   "cell_type": "code",
   "execution_count": 306,
   "id": "26654678-af1b-4b5f-bfa7-1d318e077a21",
   "metadata": {},
   "outputs": [
    {
     "data": {
      "text/plain": [
       "0.47"
      ]
     },
     "execution_count": 306,
     "metadata": {},
     "output_type": "execute_result"
    }
   ],
   "source": [
    "# check R-2 (coefficient of determination)\n",
    "r2 = metrics.r2_score(y_test, y_preds)\n",
    "round(r2, 2)\n",
    "#very bad...need to fix something"
   ]
  },
  {
   "cell_type": "markdown",
   "id": "6d22d2cf-b187-4d37-bda8-8b4beba28c04",
   "metadata": {},
   "source": [
    "## Additional EDA / Cleanup"
   ]
  },
  {
   "cell_type": "code",
   "execution_count": 308,
   "id": "1d884cb7-0cf8-4517-82b3-3aed1adb09c5",
   "metadata": {},
   "outputs": [
    {
     "data": {
      "text/plain": [
       "count    1.104580e+05\n",
       "mean     5.948045e+03\n",
       "std      3.049067e+04\n",
       "min      1.447800e+02\n",
       "25%      7.499050e+02\n",
       "50%      1.660575e+03\n",
       "75%      4.798540e+03\n",
       "max      3.777064e+06\n",
       "Name: price, dtype: float64"
      ]
     },
     "execution_count": 308,
     "metadata": {},
     "output_type": "execute_result"
    }
   ],
   "source": [
    "df['price'].describe()\n",
    "#why is it like this??\n",
    "#do I need to remove outliers?"
   ]
  },
  {
   "cell_type": "code",
   "execution_count": 309,
   "id": "516d96d5-ba92-4c8c-99da-a617419991e5",
   "metadata": {},
   "outputs": [
    {
     "data": {
      "text/plain": [
       "count    110458.000000\n",
       "mean          3.993636\n",
       "std           2.296074\n",
       "min           1.000000\n",
       "25%           2.000000\n",
       "50%           4.000000\n",
       "75%           6.000000\n",
       "max          10.000000\n",
       "Name: color, dtype: float64"
      ]
     },
     "execution_count": 309,
     "metadata": {},
     "output_type": "execute_result"
    }
   ],
   "source": [
    "df['color'].describe()\n",
    "#this one looks normal"
   ]
  },
  {
   "cell_type": "code",
   "execution_count": 312,
   "id": "d1fa7f58-52b4-4d76-9ef7-ef349e071fd8",
   "metadata": {},
   "outputs": [
    {
     "data": {
      "image/png": "[encoded data removed]",
      "text/plain": [
       "<Figure size 432x288 with 1 Axes>"
      ]
     },
     "metadata": {
      "needs_background": "light"
     },
     "output_type": "display_data"
    }
   ],
   "source": [
    "#look at the spread of the data to see if there are outliers\n",
    "plt.scatter(df['carat'], df['price']);\n",
    "#there are definitely some outliers probably making it hard to predict well\n",
    "#not sure how to systematically remove the outliers but I will cut it off at 10 carats for now since most of the data lies below that"
   ]
  },
  {
   "cell_type": "code",
   "execution_count": 313,
   "id": "e8df4e2d-5d73-4e3f-9e6e-6e58a75cc524",
   "metadata": {},
   "outputs": [
    {
     "data": {
      "text/plain": [
       "(110458, 10)"
      ]
     },
     "execution_count": 313,
     "metadata": {},
     "output_type": "execute_result"
    }
   ],
   "source": [
    "df.shape"
   ]
  },
  {
   "cell_type": "markdown",
   "id": "444a9552-dc02-4cfe-ac32-caa99c12a645",
   "metadata": {},
   "source": [
    "## Remove Outliers and Re-Model"
   ]
  },
  {
   "cell_type": "code",
   "execution_count": 316,
   "id": "3b6acf35-fb66-4196-8a1b-f0e6450d5dab",
   "metadata": {},
   "outputs": [],
   "source": [
    "#drop the outliers\n",
    "df = df[(df[\"carat\"]<10)]"
   ]
  },
  {
   "cell_type": "code",
   "execution_count": 317,
   "id": "c995f17b-e8ca-4186-9913-992f9df1e404",
   "metadata": {},
   "outputs": [
    {
     "data": {
      "text/plain": [
       "(110365, 10)"
      ]
     },
     "execution_count": 317,
     "metadata": {},
     "output_type": "execute_result"
    }
   ],
   "source": [
    "df.shape\n",
    "#didn't lose much data"
   ]
  },
  {
   "cell_type": "code",
   "execution_count": 318,
   "id": "f24ab154-fe6d-4ea8-861f-5c47799b3dc7",
   "metadata": {},
   "outputs": [
    {
     "data": {
      "text/plain": [
       "(110365,)"
      ]
     },
     "execution_count": 318,
     "metadata": {},
     "output_type": "execute_result"
    }
   ],
   "source": [
    "#try the model again\n",
    "#declare the target variable\n",
    "y = df['price']\n",
    "y.shape"
   ]
  },
  {
   "cell_type": "code",
   "execution_count": 319,
   "id": "ce0cb3c7-b02d-4cab-9442-40a4184ec741",
   "metadata": {},
   "outputs": [
    {
     "data": {
      "text/plain": [
       "(110365, 9)"
      ]
     },
     "execution_count": 319,
     "metadata": {},
     "output_type": "execute_result"
    }
   ],
   "source": [
    "#declare the model features\n",
    "X = df.drop(['price'], axis=1) #just exclude price\n",
    "X.shape"
   ]
  },
  {
   "cell_type": "code",
   "execution_count": 320,
   "id": "e36c9de4-9e61-45b5-9564-9a15837a107a",
   "metadata": {},
   "outputs": [],
   "source": [
    "# train-test split\n",
    "X_train, X_test, y_train, y_test = train_test_split(X, y, test_size = .25, random_state=12) #using the standard test size for now"
   ]
  },
  {
   "cell_type": "code",
   "execution_count": 321,
   "id": "ee1c4436-78c7-4e79-bbfb-5705b3b993af",
   "metadata": {},
   "outputs": [],
   "source": [
    "#instantiate the SKlearn algorithm\n",
    "mymodel = LinearRegression(fit_intercept=True, \n",
    "                           normalize=False, \n",
    "                           copy_X=True, \n",
    "                           n_jobs=None, \n",
    "                           positive=False)"
   ]
  },
  {
   "cell_type": "code",
   "execution_count": 322,
   "id": "2cb889cc-48fb-4794-bb60-ba377403a6a6",
   "metadata": {},
   "outputs": [
    {
     "name": "stderr",
     "output_type": "stream",
     "text": [
      "/home/studio-lab-user/.conda/envs/default/lib/python3.9/site-packages/sklearn/linear_model/_base.py:148: FutureWarning:\n",
      "\n",
      "'normalize' was deprecated in version 1.0 and will be removed in 1.2. Please leave the normalize parameter to its default value to silence this warning. The default behavior of this estimator is to not do any normalization. If normalization is needed please use sklearn.preprocessing.StandardScaler instead.\n",
      "\n"
     ]
    },
    {
     "data": {
      "text/html": [
       "<style>#sk-container-id-4 {color: black;background-color: white;}#sk-container-id-4 pre{padding: 0;}#sk-container-id-4 div.sk-toggleable {background-color: white;}#sk-container-id-4 label.sk-toggleable__label {cursor: pointer;display: block;width: 100%;margin-bottom: 0;padding: 0.3em;box-sizing: border-box;text-align: center;}#sk-container-id-4 label.sk-toggleable__label-arrow:before {content: \"▸\";float: left;margin-right: 0.25em;color: #696969;}#sk-container-id-4 label.sk-toggleable__label-arrow:hover:before {color: black;}#sk-container-id-4 div.sk-estimator:hover label.sk-toggleable__label-arrow:before {color: black;}#sk-container-id-4 div.sk-toggleable__content {max-height: 0;max-width: 0;overflow: hidden;text-align: left;background-color: #f0f8ff;}#sk-container-id-4 div.sk-toggleable__content pre {margin: 0.2em;color: black;border-radius: 0.25em;background-color: #f0f8ff;}#sk-container-id-4 input.sk-toggleable__control:checked~div.sk-toggleable__content {max-height: 200px;max-width: 100%;overflow: auto;}#sk-container-id-4 input.sk-toggleable__control:checked~label.sk-toggleable__label-arrow:before {content: \"▾\";}#sk-container-id-4 div.sk-estimator input.sk-toggleable__control:checked~label.sk-toggleable__label {background-color: #d4ebff;}#sk-container-id-4 div.sk-label input.sk-toggleable__control:checked~label.sk-toggleable__label {background-color: #d4ebff;}#sk-container-id-4 input.sk-hidden--visually {border: 0;clip: rect(1px 1px 1px 1px);clip: rect(1px, 1px, 1px, 1px);height: 1px;margin: -1px;overflow: hidden;padding: 0;position: absolute;width: 1px;}#sk-container-id-4 div.sk-estimator {font-family: monospace;background-color: #f0f8ff;border: 1px dotted black;border-radius: 0.25em;box-sizing: border-box;margin-bottom: 0.5em;}#sk-container-id-4 div.sk-estimator:hover {background-color: #d4ebff;}#sk-container-id-4 div.sk-parallel-item::after {content: \"\";width: 100%;border-bottom: 1px solid gray;flex-grow: 1;}#sk-container-id-4 div.sk-label:hover label.sk-toggleable__label {background-color: #d4ebff;}#sk-container-id-4 div.sk-serial::before {content: \"\";position: absolute;border-left: 1px solid gray;box-sizing: border-box;top: 0;bottom: 0;left: 50%;z-index: 0;}#sk-container-id-4 div.sk-serial {display: flex;flex-direction: column;align-items: center;background-color: white;padding-right: 0.2em;padding-left: 0.2em;position: relative;}#sk-container-id-4 div.sk-item {position: relative;z-index: 1;}#sk-container-id-4 div.sk-parallel {display: flex;align-items: stretch;justify-content: center;background-color: white;position: relative;}#sk-container-id-4 div.sk-item::before, #sk-container-id-4 div.sk-parallel-item::before {content: \"\";position: absolute;border-left: 1px solid gray;box-sizing: border-box;top: 0;bottom: 0;left: 50%;z-index: -1;}#sk-container-id-4 div.sk-parallel-item {display: flex;flex-direction: column;z-index: 1;position: relative;background-color: white;}#sk-container-id-4 div.sk-parallel-item:first-child::after {align-self: flex-end;width: 50%;}#sk-container-id-4 div.sk-parallel-item:last-child::after {align-self: flex-start;width: 50%;}#sk-container-id-4 div.sk-parallel-item:only-child::after {width: 0;}#sk-container-id-4 div.sk-dashed-wrapped {border: 1px dashed gray;margin: 0 0.4em 0.5em 0.4em;box-sizing: border-box;padding-bottom: 0.4em;background-color: white;}#sk-container-id-4 div.sk-label label {font-family: monospace;font-weight: bold;display: inline-block;line-height: 1.2em;}#sk-container-id-4 div.sk-label-container {text-align: center;}#sk-container-id-4 div.sk-container {/* jupyter's `normalize.less` sets `[hidden] { display: none; }` but bootstrap.min.css set `[hidden] { display: none !important; }` so we also need the `!important` here to be able to override the default hidden behavior on the sphinx rendered scikit-learn.org. See: https://github.com/scikit-learn/scikit-learn/issues/21755 */display: inline-block !important;position: relative;}#sk-container-id-4 div.sk-text-repr-fallback {display: none;}</style><div id=\"sk-container-id-4\" class=\"sk-top-container\"><div class=\"sk-text-repr-fallback\"><pre>LinearRegression(normalize=False)</pre><b>In a Jupyter environment, please rerun this cell to show the HTML representation or trust the notebook. <br />On GitHub, the HTML representation is unable to render, please try loading this page with nbviewer.org.</b></div><div class=\"sk-container\" hidden><div class=\"sk-item\"><div class=\"sk-estimator sk-toggleable\"><input class=\"sk-toggleable__control sk-hidden--visually\" id=\"sk-estimator-id-4\" type=\"checkbox\" checked><label for=\"sk-estimator-id-4\" class=\"sk-toggleable__label sk-toggleable__label-arrow\">LinearRegression</label><div class=\"sk-toggleable__content\"><pre>LinearRegression(normalize=False)</pre></div></div></div></div></div>"
      ],
      "text/plain": [
       "LinearRegression(normalize=False)"
      ]
     },
     "execution_count": 322,
     "metadata": {},
     "output_type": "execute_result"
    }
   ],
   "source": [
    "#fit the model to the training dataset\n",
    "mymodel.fit(X_train, y_train)"
   ]
  },
  {
   "cell_type": "code",
   "execution_count": 323,
   "id": "59cf43a3-ef26-4cd1-a86f-b3441231ad4c",
   "metadata": {},
   "outputs": [
    {
     "name": "stdout",
     "output_type": "stream",
     "text": [
      "LinearRegression(normalize=False)\n"
     ]
    }
   ],
   "source": [
    "print(mymodel)"
   ]
  },
  {
   "cell_type": "code",
   "execution_count": 324,
   "id": "a786bc08-d2e6-4855-86d2-d8a05771c7c7",
   "metadata": {},
   "outputs": [
    {
     "data": {
      "text/plain": [
       "-1891.4552320532084"
      ]
     },
     "execution_count": 324,
     "metadata": {},
     "output_type": "execute_result"
    }
   ],
   "source": [
    "#what is the intercept?\n",
    "mymodel.intercept_\n",
    "#according to my model intercept, if carat, cut, clarity, color, polish, symmetry and the rating agencies were all 0, the diamond would be priced at -$2K\n",
    "#this looks better than before already!"
   ]
  },
  {
   "cell_type": "code",
   "execution_count": 325,
   "id": "39e7dec4-90fd-4510-82dd-a582de5c8943",
   "metadata": {},
   "outputs": [
    {
     "name": "stdout",
     "output_type": "stream",
     "text": [
      "Regression Equation:  y = -1891.46 + 17577.64*carat + -329.89*cut + -945.52*clarity + -935.66*color + -1036.88*Other + 536.86*IGI + 500.02*GIA+ 804.19*polish+ 38.74*symmetry\n"
     ]
    }
   ],
   "source": [
    "#what is the equation for this mymodel?\n",
    "cols=list(X.columns)\n",
    "coefs=list(mymodel.coef_)\n",
    "xcoefs = [(coefs[i], cols[i]) for i in range(0, len(cols))]\n",
    "output = f'y = {round(mymodel.intercept_,2)} + {round(xcoefs[0][0],2)}*{xcoefs[0][1]} + {round(xcoefs[1][0],2)}*{xcoefs[1][1]} + {round(xcoefs[2][0],2)}*{xcoefs[2][1]} + {round(xcoefs[3][0],2)}*{xcoefs[3][1]} + {round(xcoefs[4][0],2)}*{xcoefs[4][1]} + {round(xcoefs[5][0],2)}*{xcoefs[5][1]} + {round(xcoefs[6][0],2)}*{xcoefs[6][1]}+ {round(xcoefs[7][0],2)}*{xcoefs[7][1]}+ {round(xcoefs[8][0],2)}*{xcoefs[8][1]}'\n",
    "print(\"Regression Equation: \", output)"
   ]
  },
  {
   "cell_type": "code",
   "execution_count": 326,
   "id": "b738a132-fa44-4d7b-bd3a-78cc43773907",
   "metadata": {},
   "outputs": [],
   "source": [
    "#for the graph below\n",
    "coefs=list(mymodel.coef_)\n",
    "cols=list(X.columns)"
   ]
  },
  {
   "cell_type": "code",
   "execution_count": 327,
   "id": "cd23c858-d5dc-4fe6-b9f8-f8d96df5eb03",
   "metadata": {},
   "outputs": [
    {
     "data": {
      "text/html": [
       "<div>\n",
       "<style scoped>\n",
       "    .dataframe tbody tr th:only-of-type {\n",
       "        vertical-align: middle;\n",
       "    }\n",
       "\n",
       "    .dataframe tbody tr th {\n",
       "        vertical-align: top;\n",
       "    }\n",
       "\n",
       "    .dataframe thead th {\n",
       "        text-align: right;\n",
       "    }\n",
       "</style>\n",
       "<table border=\"1\" class=\"dataframe\">\n",
       "  <thead>\n",
       "    <tr style=\"text-align: right;\">\n",
       "      <th></th>\n",
       "      <th>feature</th>\n",
       "      <th>coeff</th>\n",
       "    </tr>\n",
       "  </thead>\n",
       "  <tbody>\n",
       "    <tr>\n",
       "      <th>0</th>\n",
       "      <td>carat</td>\n",
       "      <td>17577.639179</td>\n",
       "    </tr>\n",
       "    <tr>\n",
       "      <th>1</th>\n",
       "      <td>cut</td>\n",
       "      <td>-329.892596</td>\n",
       "    </tr>\n",
       "    <tr>\n",
       "      <th>2</th>\n",
       "      <td>clarity</td>\n",
       "      <td>-945.520030</td>\n",
       "    </tr>\n",
       "    <tr>\n",
       "      <th>3</th>\n",
       "      <td>color</td>\n",
       "      <td>-935.656494</td>\n",
       "    </tr>\n",
       "    <tr>\n",
       "      <th>4</th>\n",
       "      <td>Other</td>\n",
       "      <td>-1036.876090</td>\n",
       "    </tr>\n",
       "    <tr>\n",
       "      <th>5</th>\n",
       "      <td>IGI</td>\n",
       "      <td>536.856175</td>\n",
       "    </tr>\n",
       "    <tr>\n",
       "      <th>6</th>\n",
       "      <td>GIA</td>\n",
       "      <td>500.019915</td>\n",
       "    </tr>\n",
       "    <tr>\n",
       "      <th>7</th>\n",
       "      <td>polish</td>\n",
       "      <td>804.190442</td>\n",
       "    </tr>\n",
       "    <tr>\n",
       "      <th>8</th>\n",
       "      <td>symmetry</td>\n",
       "      <td>38.735434</td>\n",
       "    </tr>\n",
       "  </tbody>\n",
       "</table>\n",
       "</div>"
      ],
      "text/plain": [
       "    feature         coeff\n",
       "0     carat  17577.639179\n",
       "1       cut   -329.892596\n",
       "2   clarity   -945.520030\n",
       "3     color   -935.656494\n",
       "4     Other  -1036.876090\n",
       "5       IGI    536.856175\n",
       "6       GIA    500.019915\n",
       "7    polish    804.190442\n",
       "8  symmetry     38.735434"
      ]
     },
     "execution_count": 327,
     "metadata": {},
     "output_type": "execute_result"
    }
   ],
   "source": [
    "#turn these into a dataframe\n",
    "results = pd.DataFrame(list(zip(cols, coefs)), columns=['feature','coeff'])\n",
    "results "
   ]
  },
  {
   "cell_type": "code",
   "execution_count": 328,
   "id": "68f71b78-e95d-47b0-b5e9-f875bb4a8cd1",
   "metadata": {},
   "outputs": [
    {
     "data": {
      "application/vnd.plotly.v1+json": {
       "config": {
        "plotlyServerURL": "https://plot.ly"
       },
       "data": [
        {
         "alignmentgroup": "True",
         "hovertemplate": "x=%{x}<br>y=%{y}<extra></extra>",
         "legendgroup": "",
         "marker": {
          "color": "#636efa",
          "pattern": {
           "shape": ""
          }
         },
         "name": "",
         "offsetgroup": "",
         "orientation": "v",
         "showlegend": false,
         "textposition": "auto",
         "type": "bar",
         "x": [
          "carat",
          "cut",
          "clarity",
          "color",
          "Other",
          "IGI",
          "GIA",
          "polish",
          "symmetry"
         ],
         "xaxis": "x",
         "y": [
          17577.63917893119,
          -329.892595589351,
          -945.5200295388732,
          -935.6564942761466,
          -1036.8760898364421,
          536.856175306665,
          500.0199145297772,
          804.1904419248586,
          38.73543390411498
         ],
         "yaxis": "y"
        }
       ],
       "layout": {
        "autosize": true,
        "barmode": "relative",
        "legend": {
         "tracegroupgap": 0
        },
        "margin": {
         "t": 60
        },
        "template": {
         "data": {
          "bar": [
           {
            "error_x": {
             "color": "#2a3f5f"
            },
            "error_y": {
             "color": "#2a3f5f"
            },
            "marker": {
             "line": {
              "color": "#E5ECF6",
              "width": 0.5
             },
             "pattern": {
              "fillmode": "overlay",
              "size": 10,
              "solidity": 0.2
             }
            },
            "type": "bar"
           }
          ],
          "barpolar": [
           {
            "marker": {
             "line": {
              "color": "#E5ECF6",
              "width": 0.5
             },
             "pattern": {
              "fillmode": "overlay",
              "size": 10,
              "solidity": 0.2
             }
            },
            "type": "barpolar"
           }
          ],
          "carpet": [
           {
            "aaxis": {
             "endlinecolor": "#2a3f5f",
             "gridcolor": "white",
             "linecolor": "white",
             "minorgridcolor": "white",
             "startlinecolor": "#2a3f5f"
            },
            "baxis": {
             "endlinecolor": "#2a3f5f",
             "gridcolor": "white",
             "linecolor": "white",
             "minorgridcolor": "white",
             "startlinecolor": "#2a3f5f"
            },
            "type": "carpet"
           }
          ],
          "choropleth": [
           {
            "colorbar": {
             "outlinewidth": 0,
             "ticks": ""
            },
            "type": "choropleth"
           }
          ],
          "contour": [
           {
            "colorbar": {
             "outlinewidth": 0,
             "ticks": ""
            },
            "colorscale": [
             [
              0,
              "#0d0887"
             ],
             [
              0.1111111111111111,
              "#46039f"
             ],
             [
              0.2222222222222222,
              "#7201a8"
             ],
             [
              0.3333333333333333,
              "#9c179e"
             ],
             [
              0.4444444444444444,
              "#bd3786"
             ],
             [
              0.5555555555555556,
              "#d8576b"
             ],
             [
              0.6666666666666666,
              "#ed7953"
             ],
             [
              0.7777777777777778,
              "#fb9f3a"
             ],
             [
              0.8888888888888888,
              "#fdca26"
             ],
             [
              1,
              "#f0f921"
             ]
            ],
            "type": "contour"
           }
          ],
          "contourcarpet": [
           {
            "colorbar": {
             "outlinewidth": 0,
             "ticks": ""
            },
            "type": "contourcarpet"
           }
          ],
          "heatmap": [
           {
            "colorbar": {
             "outlinewidth": 0,
             "ticks": ""
            },
            "colorscale": [
             [
              0,
              "#0d0887"
             ],
             [
              0.1111111111111111,
              "#46039f"
             ],
             [
              0.2222222222222222,
              "#7201a8"
             ],
             [
              0.3333333333333333,
              "#9c179e"
             ],
             [
              0.4444444444444444,
              "#bd3786"
             ],
             [
              0.5555555555555556,
              "#d8576b"
             ],
             [
              0.6666666666666666,
              "#ed7953"
             ],
             [
              0.7777777777777778,
              "#fb9f3a"
             ],
             [
              0.8888888888888888,
              "#fdca26"
             ],
             [
              1,
              "#f0f921"
             ]
            ],
            "type": "heatmap"
           }
          ],
          "heatmapgl": [
           {
            "colorbar": {
             "outlinewidth": 0,
             "ticks": ""
            },
            "colorscale": [
             [
              0,
              "#0d0887"
             ],
             [
              0.1111111111111111,
              "#46039f"
             ],
             [
              0.2222222222222222,
              "#7201a8"
             ],
             [
              0.3333333333333333,
              "#9c179e"
             ],
             [
              0.4444444444444444,
              "#bd3786"
             ],
             [
              0.5555555555555556,
              "#d8576b"
             ],
             [
              0.6666666666666666,
              "#ed7953"
             ],
             [
              0.7777777777777778,
              "#fb9f3a"
             ],
             [
              0.8888888888888888,
              "#fdca26"
             ],
             [
              1,
              "#f0f921"
             ]
            ],
            "type": "heatmapgl"
           }
          ],
          "histogram": [
           {
            "marker": {
             "pattern": {
              "fillmode": "overlay",
              "size": 10,
              "solidity": 0.2
             }
            },
            "type": "histogram"
           }
          ],
          "histogram2d": [
           {
            "colorbar": {
             "outlinewidth": 0,
             "ticks": ""
            },
            "colorscale": [
             [
              0,
              "#0d0887"
             ],
             [
              0.1111111111111111,
              "#46039f"
             ],
             [
              0.2222222222222222,
              "#7201a8"
             ],
             [
              0.3333333333333333,
              "#9c179e"
             ],
             [
              0.4444444444444444,
              "#bd3786"
             ],
             [
              0.5555555555555556,
              "#d8576b"
             ],
             [
              0.6666666666666666,
              "#ed7953"
             ],
             [
              0.7777777777777778,
              "#fb9f3a"
             ],
             [
              0.8888888888888888,
              "#fdca26"
             ],
             [
              1,
              "#f0f921"
             ]
            ],
            "type": "histogram2d"
           }
          ],
          "histogram2dcontour": [
           {
            "colorbar": {
             "outlinewidth": 0,
             "ticks": ""
            },
            "colorscale": [
             [
              0,
              "#0d0887"
             ],
             [
              0.1111111111111111,
              "#46039f"
             ],
             [
              0.2222222222222222,
              "#7201a8"
             ],
             [
              0.3333333333333333,
              "#9c179e"
             ],
             [
              0.4444444444444444,
              "#bd3786"
             ],
             [
              0.5555555555555556,
              "#d8576b"
             ],
             [
              0.6666666666666666,
              "#ed7953"
             ],
             [
              0.7777777777777778,
              "#fb9f3a"
             ],
             [
              0.8888888888888888,
              "#fdca26"
             ],
             [
              1,
              "#f0f921"
             ]
            ],
            "type": "histogram2dcontour"
           }
          ],
          "mesh3d": [
           {
            "colorbar": {
             "outlinewidth": 0,
             "ticks": ""
            },
            "type": "mesh3d"
           }
          ],
          "parcoords": [
           {
            "line": {
             "colorbar": {
              "outlinewidth": 0,
              "ticks": ""
             }
            },
            "type": "parcoords"
           }
          ],
          "pie": [
           {
            "automargin": true,
            "type": "pie"
           }
          ],
          "scatter": [
           {
            "fillpattern": {
             "fillmode": "overlay",
             "size": 10,
             "solidity": 0.2
            },
            "type": "scatter"
           }
          ],
          "scatter3d": [
           {
            "line": {
             "colorbar": {
              "outlinewidth": 0,
              "ticks": ""
             }
            },
            "marker": {
             "colorbar": {
              "outlinewidth": 0,
              "ticks": ""
             }
            },
            "type": "scatter3d"
           }
          ],
          "scattercarpet": [
           {
            "marker": {
             "colorbar": {
              "outlinewidth": 0,
              "ticks": ""
             }
            },
            "type": "scattercarpet"
           }
          ],
          "scattergeo": [
           {
            "marker": {
             "colorbar": {
              "outlinewidth": 0,
              "ticks": ""
             }
            },
            "type": "scattergeo"
           }
          ],
          "scattergl": [
           {
            "marker": {
             "colorbar": {
              "outlinewidth": 0,
              "ticks": ""
             }
            },
            "type": "scattergl"
           }
          ],
          "scattermapbox": [
           {
            "marker": {
             "colorbar": {
              "outlinewidth": 0,
              "ticks": ""
             }
            },
            "type": "scattermapbox"
           }
          ],
          "scatterpolar": [
           {
            "marker": {
             "colorbar": {
              "outlinewidth": 0,
              "ticks": ""
             }
            },
            "type": "scatterpolar"
           }
          ],
          "scatterpolargl": [
           {
            "marker": {
             "colorbar": {
              "outlinewidth": 0,
              "ticks": ""
             }
            },
            "type": "scatterpolargl"
           }
          ],
          "scatterternary": [
           {
            "marker": {
             "colorbar": {
              "outlinewidth": 0,
              "ticks": ""
             }
            },
            "type": "scatterternary"
           }
          ],
          "surface": [
           {
            "colorbar": {
             "outlinewidth": 0,
             "ticks": ""
            },
            "colorscale": [
             [
              0,
              "#0d0887"
             ],
             [
              0.1111111111111111,
              "#46039f"
             ],
             [
              0.2222222222222222,
              "#7201a8"
             ],
             [
              0.3333333333333333,
              "#9c179e"
             ],
             [
              0.4444444444444444,
              "#bd3786"
             ],
             [
              0.5555555555555556,
              "#d8576b"
             ],
             [
              0.6666666666666666,
              "#ed7953"
             ],
             [
              0.7777777777777778,
              "#fb9f3a"
             ],
             [
              0.8888888888888888,
              "#fdca26"
             ],
             [
              1,
              "#f0f921"
             ]
            ],
            "type": "surface"
           }
          ],
          "table": [
           {
            "cells": {
             "fill": {
              "color": "#EBF0F8"
             },
             "line": {
              "color": "white"
             }
            },
            "header": {
             "fill": {
              "color": "#C8D4E3"
             },
             "line": {
              "color": "white"
             }
            },
            "type": "table"
           }
          ]
         },
         "layout": {
          "annotationdefaults": {
           "arrowcolor": "#2a3f5f",
           "arrowhead": 0,
           "arrowwidth": 1
          },
          "autotypenumbers": "strict",
          "coloraxis": {
           "colorbar": {
            "outlinewidth": 0,
            "ticks": ""
           }
          },
          "colorscale": {
           "diverging": [
            [
             0,
             "#8e0152"
            ],
            [
             0.1,
             "#c51b7d"
            ],
            [
             0.2,
             "#de77ae"
            ],
            [
             0.3,
             "#f1b6da"
            ],
            [
             0.4,
             "#fde0ef"
            ],
            [
             0.5,
             "#f7f7f7"
            ],
            [
             0.6,
             "#e6f5d0"
            ],
            [
             0.7,
             "#b8e186"
            ],
            [
             0.8,
             "#7fbc41"
            ],
            [
             0.9,
             "#4d9221"
            ],
            [
             1,
             "#276419"
            ]
           ],
           "sequential": [
            [
             0,
             "#0d0887"
            ],
            [
             0.1111111111111111,
             "#46039f"
            ],
            [
             0.2222222222222222,
             "#7201a8"
            ],
            [
             0.3333333333333333,
             "#9c179e"
            ],
            [
             0.4444444444444444,
             "#bd3786"
            ],
            [
             0.5555555555555556,
             "#d8576b"
            ],
            [
             0.6666666666666666,
             "#ed7953"
            ],
            [
             0.7777777777777778,
             "#fb9f3a"
            ],
            [
             0.8888888888888888,
             "#fdca26"
            ],
            [
             1,
             "#f0f921"
            ]
           ],
           "sequentialminus": [
            [
             0,
             "#0d0887"
            ],
            [
             0.1111111111111111,
             "#46039f"
            ],
            [
             0.2222222222222222,
             "#7201a8"
            ],
            [
             0.3333333333333333,
             "#9c179e"
            ],
            [
             0.4444444444444444,
             "#bd3786"
            ],
            [
             0.5555555555555556,
             "#d8576b"
            ],
            [
             0.6666666666666666,
             "#ed7953"
            ],
            [
             0.7777777777777778,
             "#fb9f3a"
            ],
            [
             0.8888888888888888,
             "#fdca26"
            ],
            [
             1,
             "#f0f921"
            ]
           ]
          },
          "colorway": [
           "#636efa",
           "#EF553B",
           "#00cc96",
           "#ab63fa",
           "#FFA15A",
           "#19d3f3",
           "#FF6692",
           "#B6E880",
           "#FF97FF",
           "#FECB52"
          ],
          "font": {
           "color": "#2a3f5f"
          },
          "geo": {
           "bgcolor": "white",
           "lakecolor": "white",
           "landcolor": "#E5ECF6",
           "showlakes": true,
           "showland": true,
           "subunitcolor": "white"
          },
          "hoverlabel": {
           "align": "left"
          },
          "hovermode": "closest",
          "mapbox": {
           "style": "light"
          },
          "paper_bgcolor": "white",
          "plot_bgcolor": "#E5ECF6",
          "polar": {
           "angularaxis": {
            "gridcolor": "white",
            "linecolor": "white",
            "ticks": ""
           },
           "bgcolor": "#E5ECF6",
           "radialaxis": {
            "gridcolor": "white",
            "linecolor": "white",
            "ticks": ""
           }
          },
          "scene": {
           "xaxis": {
            "backgroundcolor": "#E5ECF6",
            "gridcolor": "white",
            "gridwidth": 2,
            "linecolor": "white",
            "showbackground": true,
            "ticks": "",
            "zerolinecolor": "white"
           },
           "yaxis": {
            "backgroundcolor": "#E5ECF6",
            "gridcolor": "white",
            "gridwidth": 2,
            "linecolor": "white",
            "showbackground": true,
            "ticks": "",
            "zerolinecolor": "white"
           },
           "zaxis": {
            "backgroundcolor": "#E5ECF6",
            "gridcolor": "white",
            "gridwidth": 2,
            "linecolor": "white",
            "showbackground": true,
            "ticks": "",
            "zerolinecolor": "white"
           }
          },
          "shapedefaults": {
           "line": {
            "color": "#2a3f5f"
           }
          },
          "ternary": {
           "aaxis": {
            "gridcolor": "white",
            "linecolor": "white",
            "ticks": ""
           },
           "baxis": {
            "gridcolor": "white",
            "linecolor": "white",
            "ticks": ""
           },
           "bgcolor": "#E5ECF6",
           "caxis": {
            "gridcolor": "white",
            "linecolor": "white",
            "ticks": ""
           }
          },
          "title": {
           "x": 0.05
          },
          "xaxis": {
           "automargin": true,
           "gridcolor": "white",
           "linecolor": "white",
           "ticks": "",
           "title": {
            "standoff": 15
           },
           "zerolinecolor": "white",
           "zerolinewidth": 2
          },
          "yaxis": {
           "automargin": true,
           "gridcolor": "white",
           "linecolor": "white",
           "ticks": "",
           "title": {
            "standoff": 15
           },
           "zerolinecolor": "white",
           "zerolinewidth": 2
          }
         }
        },
        "xaxis": {
         "anchor": "y",
         "autorange": true,
         "domain": [
          0,
          1
         ],
         "range": [
          -0.5,
          8.5
         ],
         "title": {
          "text": "predictor"
         },
         "type": "category"
        },
        "yaxis": {
         "anchor": "x",
         "autorange": true,
         "domain": [
          0,
          1
         ],
         "range": [
          -2071.0158269901995,
          18611.778916084946
         ],
         "title": {
          "text": "coefficient"
         },
         "type": "linear"
        }
       }
      },
      "image/png": "[encoded data removed]",
      "text/html": [
       "<div>                            <div id=\"1911ada0-66bc-4290-a10f-6a16150073c0\" class=\"plotly-graph-div\" style=\"height:525px; width:100%;\"></div>            <script type=\"text/javascript\">                require([\"plotly\"], function(Plotly) {                    window.PLOTLYENV=window.PLOTLYENV || {};                                    if (document.getElementById(\"1911ada0-66bc-4290-a10f-6a16150073c0\")) {                    Plotly.newPlot(                        \"1911ada0-66bc-4290-a10f-6a16150073c0\",                        [{\"alignmentgroup\":\"True\",\"hovertemplate\":\"x=%{x}<br>y=%{y}<extra></extra>\",\"legendgroup\":\"\",\"marker\":{\"color\":\"#636efa\",\"pattern\":{\"shape\":\"\"}},\"name\":\"\",\"offsetgroup\":\"\",\"orientation\":\"v\",\"showlegend\":false,\"textposition\":\"auto\",\"x\":[\"carat\",\"cut\",\"clarity\",\"color\",\"Other\",\"IGI\",\"GIA\",\"polish\",\"symmetry\"],\"xaxis\":\"x\",\"y\":[17577.63917893119,-329.892595589351,-945.5200295388732,-935.6564942761466,-1036.8760898364421,536.856175306665,500.0199145297772,804.1904419248586,38.73543390411498],\"yaxis\":\"y\",\"type\":\"bar\"}],                        {\"template\":{\"data\":{\"histogram2dcontour\":[{\"type\":\"histogram2dcontour\",\"colorbar\":{\"outlinewidth\":0,\"ticks\":\"\"},\"colorscale\":[[0.0,\"#0d0887\"],[0.1111111111111111,\"#46039f\"],[0.2222222222222222,\"#7201a8\"],[0.3333333333333333,\"#9c179e\"],[0.4444444444444444,\"#bd3786\"],[0.5555555555555556,\"#d8576b\"],[0.6666666666666666,\"#ed7953\"],[0.7777777777777778,\"#fb9f3a\"],[0.8888888888888888,\"#fdca26\"],[1.0,\"#f0f921\"]]}],\"choropleth\":[{\"type\":\"choropleth\",\"colorbar\":{\"outlinewidth\":0,\"ticks\":\"\"}}],\"histogram2d\":[{\"type\":\"histogram2d\",\"colorbar\":{\"outlinewidth\":0,\"ticks\":\"\"},\"colorscale\":[[0.0,\"#0d0887\"],[0.1111111111111111,\"#46039f\"],[0.2222222222222222,\"#7201a8\"],[0.3333333333333333,\"#9c179e\"],[0.4444444444444444,\"#bd3786\"],[0.5555555555555556,\"#d8576b\"],[0.6666666666666666,\"#ed7953\"],[0.7777777777777778,\"#fb9f3a\"],[0.8888888888888888,\"#fdca26\"],[1.0,\"#f0f921\"]]}],\"heatmap\":[{\"type\":\"heatmap\",\"colorbar\":{\"outlinewidth\":0,\"ticks\":\"\"},\"colorscale\":[[0.0,\"#0d0887\"],[0.1111111111111111,\"#46039f\"],[0.2222222222222222,\"#7201a8\"],[0.3333333333333333,\"#9c179e\"],[0.4444444444444444,\"#bd3786\"],[0.5555555555555556,\"#d8576b\"],[0.6666666666666666,\"#ed7953\"],[0.7777777777777778,\"#fb9f3a\"],[0.8888888888888888,\"#fdca26\"],[1.0,\"#f0f921\"]]}],\"heatmapgl\":[{\"type\":\"heatmapgl\",\"colorbar\":{\"outlinewidth\":0,\"ticks\":\"\"},\"colorscale\":[[0.0,\"#0d0887\"],[0.1111111111111111,\"#46039f\"],[0.2222222222222222,\"#7201a8\"],[0.3333333333333333,\"#9c179e\"],[0.4444444444444444,\"#bd3786\"],[0.5555555555555556,\"#d8576b\"],[0.6666666666666666,\"#ed7953\"],[0.7777777777777778,\"#fb9f3a\"],[0.8888888888888888,\"#fdca26\"],[1.0,\"#f0f921\"]]}],\"contourcarpet\":[{\"type\":\"contourcarpet\",\"colorbar\":{\"outlinewidth\":0,\"ticks\":\"\"}}],\"contour\":[{\"type\":\"contour\",\"colorbar\":{\"outlinewidth\":0,\"ticks\":\"\"},\"colorscale\":[[0.0,\"#0d0887\"],[0.1111111111111111,\"#46039f\"],[0.2222222222222222,\"#7201a8\"],[0.3333333333333333,\"#9c179e\"],[0.4444444444444444,\"#bd3786\"],[0.5555555555555556,\"#d8576b\"],[0.6666666666666666,\"#ed7953\"],[0.7777777777777778,\"#fb9f3a\"],[0.8888888888888888,\"#fdca26\"],[1.0,\"#f0f921\"]]}],\"surface\":[{\"type\":\"surface\",\"colorbar\":{\"outlinewidth\":0,\"ticks\":\"\"},\"colorscale\":[[0.0,\"#0d0887\"],[0.1111111111111111,\"#46039f\"],[0.2222222222222222,\"#7201a8\"],[0.3333333333333333,\"#9c179e\"],[0.4444444444444444,\"#bd3786\"],[0.5555555555555556,\"#d8576b\"],[0.6666666666666666,\"#ed7953\"],[0.7777777777777778,\"#fb9f3a\"],[0.8888888888888888,\"#fdca26\"],[1.0,\"#f0f921\"]]}],\"mesh3d\":[{\"type\":\"mesh3d\",\"colorbar\":{\"outlinewidth\":0,\"ticks\":\"\"}}],\"scatter\":[{\"fillpattern\":{\"fillmode\":\"overlay\",\"size\":10,\"solidity\":0.2},\"type\":\"scatter\"}],\"parcoords\":[{\"type\":\"parcoords\",\"line\":{\"colorbar\":{\"outlinewidth\":0,\"ticks\":\"\"}}}],\"scatterpolargl\":[{\"type\":\"scatterpolargl\",\"marker\":{\"colorbar\":{\"outlinewidth\":0,\"ticks\":\"\"}}}],\"bar\":[{\"error_x\":{\"color\":\"#2a3f5f\"},\"error_y\":{\"color\":\"#2a3f5f\"},\"marker\":{\"line\":{\"color\":\"#E5ECF6\",\"width\":0.5},\"pattern\":{\"fillmode\":\"overlay\",\"size\":10,\"solidity\":0.2}},\"type\":\"bar\"}],\"scattergeo\":[{\"type\":\"scattergeo\",\"marker\":{\"colorbar\":{\"outlinewidth\":0,\"ticks\":\"\"}}}],\"scatterpolar\":[{\"type\":\"scatterpolar\",\"marker\":{\"colorbar\":{\"outlinewidth\":0,\"ticks\":\"\"}}}],\"histogram\":[{\"marker\":{\"pattern\":{\"fillmode\":\"overlay\",\"size\":10,\"solidity\":0.2}},\"type\":\"histogram\"}],\"scattergl\":[{\"type\":\"scattergl\",\"marker\":{\"colorbar\":{\"outlinewidth\":0,\"ticks\":\"\"}}}],\"scatter3d\":[{\"type\":\"scatter3d\",\"line\":{\"colorbar\":{\"outlinewidth\":0,\"ticks\":\"\"}},\"marker\":{\"colorbar\":{\"outlinewidth\":0,\"ticks\":\"\"}}}],\"scattermapbox\":[{\"type\":\"scattermapbox\",\"marker\":{\"colorbar\":{\"outlinewidth\":0,\"ticks\":\"\"}}}],\"scatterternary\":[{\"type\":\"scatterternary\",\"marker\":{\"colorbar\":{\"outlinewidth\":0,\"ticks\":\"\"}}}],\"scattercarpet\":[{\"type\":\"scattercarpet\",\"marker\":{\"colorbar\":{\"outlinewidth\":0,\"ticks\":\"\"}}}],\"carpet\":[{\"aaxis\":{\"endlinecolor\":\"#2a3f5f\",\"gridcolor\":\"white\",\"linecolor\":\"white\",\"minorgridcolor\":\"white\",\"startlinecolor\":\"#2a3f5f\"},\"baxis\":{\"endlinecolor\":\"#2a3f5f\",\"gridcolor\":\"white\",\"linecolor\":\"white\",\"minorgridcolor\":\"white\",\"startlinecolor\":\"#2a3f5f\"},\"type\":\"carpet\"}],\"table\":[{\"cells\":{\"fill\":{\"color\":\"#EBF0F8\"},\"line\":{\"color\":\"white\"}},\"header\":{\"fill\":{\"color\":\"#C8D4E3\"},\"line\":{\"color\":\"white\"}},\"type\":\"table\"}],\"barpolar\":[{\"marker\":{\"line\":{\"color\":\"#E5ECF6\",\"width\":0.5},\"pattern\":{\"fillmode\":\"overlay\",\"size\":10,\"solidity\":0.2}},\"type\":\"barpolar\"}],\"pie\":[{\"automargin\":true,\"type\":\"pie\"}]},\"layout\":{\"autotypenumbers\":\"strict\",\"colorway\":[\"#636efa\",\"#EF553B\",\"#00cc96\",\"#ab63fa\",\"#FFA15A\",\"#19d3f3\",\"#FF6692\",\"#B6E880\",\"#FF97FF\",\"#FECB52\"],\"font\":{\"color\":\"#2a3f5f\"},\"hovermode\":\"closest\",\"hoverlabel\":{\"align\":\"left\"},\"paper_bgcolor\":\"white\",\"plot_bgcolor\":\"#E5ECF6\",\"polar\":{\"bgcolor\":\"#E5ECF6\",\"angularaxis\":{\"gridcolor\":\"white\",\"linecolor\":\"white\",\"ticks\":\"\"},\"radialaxis\":{\"gridcolor\":\"white\",\"linecolor\":\"white\",\"ticks\":\"\"}},\"ternary\":{\"bgcolor\":\"#E5ECF6\",\"aaxis\":{\"gridcolor\":\"white\",\"linecolor\":\"white\",\"ticks\":\"\"},\"baxis\":{\"gridcolor\":\"white\",\"linecolor\":\"white\",\"ticks\":\"\"},\"caxis\":{\"gridcolor\":\"white\",\"linecolor\":\"white\",\"ticks\":\"\"}},\"coloraxis\":{\"colorbar\":{\"outlinewidth\":0,\"ticks\":\"\"}},\"colorscale\":{\"sequential\":[[0.0,\"#0d0887\"],[0.1111111111111111,\"#46039f\"],[0.2222222222222222,\"#7201a8\"],[0.3333333333333333,\"#9c179e\"],[0.4444444444444444,\"#bd3786\"],[0.5555555555555556,\"#d8576b\"],[0.6666666666666666,\"#ed7953\"],[0.7777777777777778,\"#fb9f3a\"],[0.8888888888888888,\"#fdca26\"],[1.0,\"#f0f921\"]],\"sequentialminus\":[[0.0,\"#0d0887\"],[0.1111111111111111,\"#46039f\"],[0.2222222222222222,\"#7201a8\"],[0.3333333333333333,\"#9c179e\"],[0.4444444444444444,\"#bd3786\"],[0.5555555555555556,\"#d8576b\"],[0.6666666666666666,\"#ed7953\"],[0.7777777777777778,\"#fb9f3a\"],[0.8888888888888888,\"#fdca26\"],[1.0,\"#f0f921\"]],\"diverging\":[[0,\"#8e0152\"],[0.1,\"#c51b7d\"],[0.2,\"#de77ae\"],[0.3,\"#f1b6da\"],[0.4,\"#fde0ef\"],[0.5,\"#f7f7f7\"],[0.6,\"#e6f5d0\"],[0.7,\"#b8e186\"],[0.8,\"#7fbc41\"],[0.9,\"#4d9221\"],[1,\"#276419\"]]},\"xaxis\":{\"gridcolor\":\"white\",\"linecolor\":\"white\",\"ticks\":\"\",\"title\":{\"standoff\":15},\"zerolinecolor\":\"white\",\"automargin\":true,\"zerolinewidth\":2},\"yaxis\":{\"gridcolor\":\"white\",\"linecolor\":\"white\",\"ticks\":\"\",\"title\":{\"standoff\":15},\"zerolinecolor\":\"white\",\"automargin\":true,\"zerolinewidth\":2},\"scene\":{\"xaxis\":{\"backgroundcolor\":\"#E5ECF6\",\"gridcolor\":\"white\",\"linecolor\":\"white\",\"showbackground\":true,\"ticks\":\"\",\"zerolinecolor\":\"white\",\"gridwidth\":2},\"yaxis\":{\"backgroundcolor\":\"#E5ECF6\",\"gridcolor\":\"white\",\"linecolor\":\"white\",\"showbackground\":true,\"ticks\":\"\",\"zerolinecolor\":\"white\",\"gridwidth\":2},\"zaxis\":{\"backgroundcolor\":\"#E5ECF6\",\"gridcolor\":\"white\",\"linecolor\":\"white\",\"showbackground\":true,\"ticks\":\"\",\"zerolinecolor\":\"white\",\"gridwidth\":2}},\"shapedefaults\":{\"line\":{\"color\":\"#2a3f5f\"}},\"annotationdefaults\":{\"arrowcolor\":\"#2a3f5f\",\"arrowhead\":0,\"arrowwidth\":1},\"geo\":{\"bgcolor\":\"white\",\"landcolor\":\"#E5ECF6\",\"subunitcolor\":\"white\",\"showland\":true,\"showlakes\":true,\"lakecolor\":\"white\"},\"title\":{\"x\":0.05},\"mapbox\":{\"style\":\"light\"}}},\"xaxis\":{\"anchor\":\"y\",\"domain\":[0.0,1.0],\"title\":{\"text\":\"predictor\"}},\"yaxis\":{\"anchor\":\"x\",\"domain\":[0.0,1.0],\"title\":{\"text\":\"coefficient\"}},\"legend\":{\"tracegroupgap\":0},\"margin\":{\"t\":60},\"barmode\":\"relative\"},                        {\"responsive\": true}                    ).then(function(){\n",
       "                            \n",
       "var gd = document.getElementById('1911ada0-66bc-4290-a10f-6a16150073c0');\n",
       "var x = new MutationObserver(function (mutations, observer) {{\n",
       "        var display = window.getComputedStyle(gd).display;\n",
       "        if (!display || display === 'none') {{\n",
       "            console.log([gd, 'removed!']);\n",
       "            Plotly.purge(gd);\n",
       "            observer.disconnect();\n",
       "        }}\n",
       "}});\n",
       "\n",
       "// Listen for the removal of the full notebook cells\n",
       "var notebookContainer = gd.closest('#notebook-container');\n",
       "if (notebookContainer) {{\n",
       "    x.observe(notebookContainer, {childList: true});\n",
       "}}\n",
       "\n",
       "// Listen for the clearing of the current output cell\n",
       "var outputEl = gd.closest('.output');\n",
       "if (outputEl) {{\n",
       "    x.observe(outputEl, {childList: true});\n",
       "}}\n",
       "\n",
       "                        })                };                });            </script>        </div>"
      ]
     },
     "metadata": {},
     "output_type": "display_data"
    }
   ],
   "source": [
    "#show results as a bar chart\n",
    "import plotly.express as px\n",
    "fig = px.bar(x=results['feature'], y=results['coeff'])\n",
    "fig.update_layout(\n",
    "    yaxis=dict( title='coefficient'),\n",
    "    xaxis=dict( title='predictor'),\n",
    ")\n",
    "fig.show()"
   ]
  },
  {
   "cell_type": "code",
   "execution_count": 329,
   "id": "c9eba156-e727-4e46-8303-952267896de6",
   "metadata": {},
   "outputs": [],
   "source": [
    "#predict the y-values on the testing dataset\n",
    "y_preds = mymodel.predict(X_test)"
   ]
  },
  {
   "cell_type": "code",
   "execution_count": 330,
   "id": "fa4681ce-3181-48eb-a1d0-326d9283e7a6",
   "metadata": {},
   "outputs": [
    {
     "name": "stdout",
     "output_type": "stream",
     "text": [
      "[2232.65, 233.73, 14331.97, -3010.36, -2050.27]\n",
      "[1472.33, 2065.8, 6993.81, 838.45, 970.0]\n"
     ]
    }
   ],
   "source": [
    "#compare some of the results of the predictions \n",
    "print([round(x,2) for x in y_preds[:5]])\n",
    "print(list(y_test[:5]))\n",
    "#still looks wrong..."
   ]
  },
  {
   "cell_type": "code",
   "execution_count": 331,
   "id": "854beb78-b589-4e93-a3a3-b755290295e4",
   "metadata": {},
   "outputs": [
    {
     "data": {
      "image/png": "[encoded data removed]",
      "text/plain": [
       "<Figure size 432x432 with 1 Axes>"
      ]
     },
     "metadata": {
      "needs_background": "light"
     },
     "output_type": "display_data"
    }
   ],
   "source": [
    "#compare predictions to known values\n",
    "plt.figure(figsize=(6,6))\n",
    "ax = sns.regplot(x = y_preds, \n",
    "                 y = y_test, \n",
    "                 scatter_kws={\"color\": \"black\"}, \n",
    "                 line_kws={\"color\": \"red\"})\n",
    "ax.set(xlabel='predicted values', ylabel='true values');\n",
    "#still too much spread"
   ]
  },
  {
   "cell_type": "markdown",
   "id": "1e4e43cf-c60c-4f17-844c-1d20e485f39c",
   "metadata": {},
   "source": [
    "## Model Evaluation v2"
   ]
  },
  {
   "cell_type": "code",
   "execution_count": 332,
   "id": "fbbeeeb4-5317-4c74-9470-7c260258381f",
   "metadata": {},
   "outputs": [
    {
     "data": {
      "text/plain": [
       "0.63"
      ]
     },
     "execution_count": 332,
     "metadata": {},
     "output_type": "execute_result"
    }
   ],
   "source": [
    "# check R-2 (coefficient of determination)\n",
    "r2 = metrics.r2_score(y_test, y_preds)\n",
    "round(r2, 2)\n",
    "#better but probably still need to make the cutoff lower due to high spread in the larger carat ranges"
   ]
  },
  {
   "cell_type": "markdown",
   "id": "c01094e4-753f-4699-9cec-be3e8d34aec1",
   "metadata": {},
   "source": [
    "## Remove Outliers and Re-Model v2"
   ]
  },
  {
   "cell_type": "code",
   "execution_count": 335,
   "id": "a71406ff-c0cd-4c5b-b25c-09434dc1e42b",
   "metadata": {},
   "outputs": [],
   "source": [
    "#drop the outliers\n",
    "df = df[(df[\"carat\"]<2)]\n",
    "#did a quick check for outliers using IQR in excel; seems like most of the data is below 2 carats which aligns with what I expected"
   ]
  },
  {
   "cell_type": "code",
   "execution_count": 336,
   "id": "bd4a99b9-cf36-44a9-8871-e0f2ca9295a7",
   "metadata": {},
   "outputs": [
    {
     "data": {
      "text/plain": [
       "(102212, 10)"
      ]
     },
     "execution_count": 336,
     "metadata": {},
     "output_type": "execute_result"
    }
   ],
   "source": [
    "df.shape\n",
    "#still have over 90% of the original data"
   ]
  },
  {
   "cell_type": "code",
   "execution_count": 337,
   "id": "3f055e93-792b-47b9-8692-897e31e807ca",
   "metadata": {},
   "outputs": [
    {
     "data": {
      "text/plain": [
       "(102212,)"
      ]
     },
     "execution_count": 337,
     "metadata": {},
     "output_type": "execute_result"
    }
   ],
   "source": [
    "#try the model again\n",
    "#declare the target variable\n",
    "y = df['price']\n",
    "y.shape"
   ]
  },
  {
   "cell_type": "code",
   "execution_count": 338,
   "id": "02085a49-7d7e-4534-99f1-7c5bb37c4b9c",
   "metadata": {},
   "outputs": [
    {
     "data": {
      "text/plain": [
       "(102212, 9)"
      ]
     },
     "execution_count": 338,
     "metadata": {},
     "output_type": "execute_result"
    }
   ],
   "source": [
    "#declare the model features\n",
    "X = df.drop(['price'], axis=1) #just exclude price\n",
    "X.shape"
   ]
  },
  {
   "cell_type": "code",
   "execution_count": 339,
   "id": "bf4ed713-7177-4f27-b4ef-5a4c9fb3e120",
   "metadata": {},
   "outputs": [],
   "source": [
    "# train-test split\n",
    "X_train, X_test, y_train, y_test = train_test_split(X, y, test_size = .25, random_state=12) #using the standard test size for now"
   ]
  },
  {
   "cell_type": "code",
   "execution_count": 340,
   "id": "30f132d3-b082-4f2b-b0e4-b80f8f263513",
   "metadata": {},
   "outputs": [],
   "source": [
    "#instantiate the SKlearn algorithm\n",
    "mymodel = LinearRegression(fit_intercept=True, \n",
    "                           normalize=False, \n",
    "                           copy_X=True, \n",
    "                           n_jobs=None, \n",
    "                           positive=False)"
   ]
  },
  {
   "cell_type": "code",
   "execution_count": 341,
   "id": "a78df2d8-534f-414a-9e85-21a90c42fe51",
   "metadata": {},
   "outputs": [
    {
     "name": "stderr",
     "output_type": "stream",
     "text": [
      "/home/studio-lab-user/.conda/envs/default/lib/python3.9/site-packages/sklearn/linear_model/_base.py:148: FutureWarning:\n",
      "\n",
      "'normalize' was deprecated in version 1.0 and will be removed in 1.2. Please leave the normalize parameter to its default value to silence this warning. The default behavior of this estimator is to not do any normalization. If normalization is needed please use sklearn.preprocessing.StandardScaler instead.\n",
      "\n"
     ]
    },
    {
     "data": {
      "text/html": [
       "<style>#sk-container-id-5 {color: black;background-color: white;}#sk-container-id-5 pre{padding: 0;}#sk-container-id-5 div.sk-toggleable {background-color: white;}#sk-container-id-5 label.sk-toggleable__label {cursor: pointer;display: block;width: 100%;margin-bottom: 0;padding: 0.3em;box-sizing: border-box;text-align: center;}#sk-container-id-5 label.sk-toggleable__label-arrow:before {content: \"▸\";float: left;margin-right: 0.25em;color: #696969;}#sk-container-id-5 label.sk-toggleable__label-arrow:hover:before {color: black;}#sk-container-id-5 div.sk-estimator:hover label.sk-toggleable__label-arrow:before {color: black;}#sk-container-id-5 div.sk-toggleable__content {max-height: 0;max-width: 0;overflow: hidden;text-align: left;background-color: #f0f8ff;}#sk-container-id-5 div.sk-toggleable__content pre {margin: 0.2em;color: black;border-radius: 0.25em;background-color: #f0f8ff;}#sk-container-id-5 input.sk-toggleable__control:checked~div.sk-toggleable__content {max-height: 200px;max-width: 100%;overflow: auto;}#sk-container-id-5 input.sk-toggleable__control:checked~label.sk-toggleable__label-arrow:before {content: \"▾\";}#sk-container-id-5 div.sk-estimator input.sk-toggleable__control:checked~label.sk-toggleable__label {background-color: #d4ebff;}#sk-container-id-5 div.sk-label input.sk-toggleable__control:checked~label.sk-toggleable__label {background-color: #d4ebff;}#sk-container-id-5 input.sk-hidden--visually {border: 0;clip: rect(1px 1px 1px 1px);clip: rect(1px, 1px, 1px, 1px);height: 1px;margin: -1px;overflow: hidden;padding: 0;position: absolute;width: 1px;}#sk-container-id-5 div.sk-estimator {font-family: monospace;background-color: #f0f8ff;border: 1px dotted black;border-radius: 0.25em;box-sizing: border-box;margin-bottom: 0.5em;}#sk-container-id-5 div.sk-estimator:hover {background-color: #d4ebff;}#sk-container-id-5 div.sk-parallel-item::after {content: \"\";width: 100%;border-bottom: 1px solid gray;flex-grow: 1;}#sk-container-id-5 div.sk-label:hover label.sk-toggleable__label {background-color: #d4ebff;}#sk-container-id-5 div.sk-serial::before {content: \"\";position: absolute;border-left: 1px solid gray;box-sizing: border-box;top: 0;bottom: 0;left: 50%;z-index: 0;}#sk-container-id-5 div.sk-serial {display: flex;flex-direction: column;align-items: center;background-color: white;padding-right: 0.2em;padding-left: 0.2em;position: relative;}#sk-container-id-5 div.sk-item {position: relative;z-index: 1;}#sk-container-id-5 div.sk-parallel {display: flex;align-items: stretch;justify-content: center;background-color: white;position: relative;}#sk-container-id-5 div.sk-item::before, #sk-container-id-5 div.sk-parallel-item::before {content: \"\";position: absolute;border-left: 1px solid gray;box-sizing: border-box;top: 0;bottom: 0;left: 50%;z-index: -1;}#sk-container-id-5 div.sk-parallel-item {display: flex;flex-direction: column;z-index: 1;position: relative;background-color: white;}#sk-container-id-5 div.sk-parallel-item:first-child::after {align-self: flex-end;width: 50%;}#sk-container-id-5 div.sk-parallel-item:last-child::after {align-self: flex-start;width: 50%;}#sk-container-id-5 div.sk-parallel-item:only-child::after {width: 0;}#sk-container-id-5 div.sk-dashed-wrapped {border: 1px dashed gray;margin: 0 0.4em 0.5em 0.4em;box-sizing: border-box;padding-bottom: 0.4em;background-color: white;}#sk-container-id-5 div.sk-label label {font-family: monospace;font-weight: bold;display: inline-block;line-height: 1.2em;}#sk-container-id-5 div.sk-label-container {text-align: center;}#sk-container-id-5 div.sk-container {/* jupyter's `normalize.less` sets `[hidden] { display: none; }` but bootstrap.min.css set `[hidden] { display: none !important; }` so we also need the `!important` here to be able to override the default hidden behavior on the sphinx rendered scikit-learn.org. See: https://github.com/scikit-learn/scikit-learn/issues/21755 */display: inline-block !important;position: relative;}#sk-container-id-5 div.sk-text-repr-fallback {display: none;}</style><div id=\"sk-container-id-5\" class=\"sk-top-container\"><div class=\"sk-text-repr-fallback\"><pre>LinearRegression(normalize=False)</pre><b>In a Jupyter environment, please rerun this cell to show the HTML representation or trust the notebook. <br />On GitHub, the HTML representation is unable to render, please try loading this page with nbviewer.org.</b></div><div class=\"sk-container\" hidden><div class=\"sk-item\"><div class=\"sk-estimator sk-toggleable\"><input class=\"sk-toggleable__control sk-hidden--visually\" id=\"sk-estimator-id-5\" type=\"checkbox\" checked><label for=\"sk-estimator-id-5\" class=\"sk-toggleable__label sk-toggleable__label-arrow\">LinearRegression</label><div class=\"sk-toggleable__content\"><pre>LinearRegression(normalize=False)</pre></div></div></div></div></div>"
      ],
      "text/plain": [
       "LinearRegression(normalize=False)"
      ]
     },
     "execution_count": 341,
     "metadata": {},
     "output_type": "execute_result"
    }
   ],
   "source": [
    "#fit the model to the training dataset\n",
    "mymodel.fit(X_train, y_train)"
   ]
  },
  {
   "cell_type": "code",
   "execution_count": 342,
   "id": "ec8a010a-b4d9-41bb-87df-25d1a153a795",
   "metadata": {},
   "outputs": [
    {
     "name": "stdout",
     "output_type": "stream",
     "text": [
      "LinearRegression(normalize=False)\n"
     ]
    }
   ],
   "source": [
    "print(mymodel)"
   ]
  },
  {
   "cell_type": "code",
   "execution_count": 343,
   "id": "0450c37c-8972-4427-8cc3-ba0fa9ebb627",
   "metadata": {},
   "outputs": [
    {
     "data": {
      "text/plain": [
       "-206.48568263484003"
      ]
     },
     "execution_count": 343,
     "metadata": {},
     "output_type": "execute_result"
    }
   ],
   "source": [
    "#what is the intercept?\n",
    "mymodel.intercept_\n",
    "#according to my model intercept, if carat, cut, clarity, color, polish, symmetry and the rating agencies were all 0, the diamond would be priced at -$200\n",
    "#this looks better than before already!"
   ]
  },
  {
   "cell_type": "code",
   "execution_count": 344,
   "id": "c129d3ee-1e78-429e-96d3-b1d04a3655d3",
   "metadata": {},
   "outputs": [
    {
     "name": "stdout",
     "output_type": "stream",
     "text": [
      "Regression Equation:  y = -206.49 + 8797.76*carat + -270.84*cut + -281.78*clarity + -310.54*color + -419.5*Other + 164.88*IGI + 254.62*GIA+ 197.41*polish+ -44.3*symmetry\n"
     ]
    }
   ],
   "source": [
    "#what is the equation for this mymodel?\n",
    "cols=list(X.columns)\n",
    "coefs=list(mymodel.coef_)\n",
    "xcoefs = [(coefs[i], cols[i]) for i in range(0, len(cols))]\n",
    "output = f'y = {round(mymodel.intercept_,2)} + {round(xcoefs[0][0],2)}*{xcoefs[0][1]} + {round(xcoefs[1][0],2)}*{xcoefs[1][1]} + {round(xcoefs[2][0],2)}*{xcoefs[2][1]} + {round(xcoefs[3][0],2)}*{xcoefs[3][1]} + {round(xcoefs[4][0],2)}*{xcoefs[4][1]} + {round(xcoefs[5][0],2)}*{xcoefs[5][1]} + {round(xcoefs[6][0],2)}*{xcoefs[6][1]}+ {round(xcoefs[7][0],2)}*{xcoefs[7][1]}+ {round(xcoefs[8][0],2)}*{xcoefs[8][1]}'\n",
    "print(\"Regression Equation: \", output)"
   ]
  },
  {
   "cell_type": "code",
   "execution_count": 345,
   "id": "82588c61-6eed-40a3-a7bf-83a81324c164",
   "metadata": {},
   "outputs": [],
   "source": [
    "#for the graph below\n",
    "coefs=list(mymodel.coef_)\n",
    "cols=list(X.columns)"
   ]
  },
  {
   "cell_type": "code",
   "execution_count": 346,
   "id": "a7c6d1db-272a-4196-b733-de9ca3bbceee",
   "metadata": {},
   "outputs": [
    {
     "data": {
      "text/html": [
       "<div>\n",
       "<style scoped>\n",
       "    .dataframe tbody tr th:only-of-type {\n",
       "        vertical-align: middle;\n",
       "    }\n",
       "\n",
       "    .dataframe tbody tr th {\n",
       "        vertical-align: top;\n",
       "    }\n",
       "\n",
       "    .dataframe thead th {\n",
       "        text-align: right;\n",
       "    }\n",
       "</style>\n",
       "<table border=\"1\" class=\"dataframe\">\n",
       "  <thead>\n",
       "    <tr style=\"text-align: right;\">\n",
       "      <th></th>\n",
       "      <th>feature</th>\n",
       "      <th>coeff</th>\n",
       "    </tr>\n",
       "  </thead>\n",
       "  <tbody>\n",
       "    <tr>\n",
       "      <th>0</th>\n",
       "      <td>carat</td>\n",
       "      <td>8797.757869</td>\n",
       "    </tr>\n",
       "    <tr>\n",
       "      <th>1</th>\n",
       "      <td>cut</td>\n",
       "      <td>-270.841058</td>\n",
       "    </tr>\n",
       "    <tr>\n",
       "      <th>2</th>\n",
       "      <td>clarity</td>\n",
       "      <td>-281.776828</td>\n",
       "    </tr>\n",
       "    <tr>\n",
       "      <th>3</th>\n",
       "      <td>color</td>\n",
       "      <td>-310.538868</td>\n",
       "    </tr>\n",
       "    <tr>\n",
       "      <th>4</th>\n",
       "      <td>Other</td>\n",
       "      <td>-419.499582</td>\n",
       "    </tr>\n",
       "    <tr>\n",
       "      <th>5</th>\n",
       "      <td>IGI</td>\n",
       "      <td>164.884575</td>\n",
       "    </tr>\n",
       "    <tr>\n",
       "      <th>6</th>\n",
       "      <td>GIA</td>\n",
       "      <td>254.615007</td>\n",
       "    </tr>\n",
       "    <tr>\n",
       "      <th>7</th>\n",
       "      <td>polish</td>\n",
       "      <td>197.412728</td>\n",
       "    </tr>\n",
       "    <tr>\n",
       "      <th>8</th>\n",
       "      <td>symmetry</td>\n",
       "      <td>-44.295248</td>\n",
       "    </tr>\n",
       "  </tbody>\n",
       "</table>\n",
       "</div>"
      ],
      "text/plain": [
       "    feature        coeff\n",
       "0     carat  8797.757869\n",
       "1       cut  -270.841058\n",
       "2   clarity  -281.776828\n",
       "3     color  -310.538868\n",
       "4     Other  -419.499582\n",
       "5       IGI   164.884575\n",
       "6       GIA   254.615007\n",
       "7    polish   197.412728\n",
       "8  symmetry   -44.295248"
      ]
     },
     "execution_count": 346,
     "metadata": {},
     "output_type": "execute_result"
    }
   ],
   "source": [
    "#turn these into a dataframe\n",
    "results = pd.DataFrame(list(zip(cols, coefs)), columns=['feature','coeff'])\n",
    "results "
   ]
  },
  {
   "cell_type": "code",
   "execution_count": 347,
   "id": "3b826259-b0a2-4c5a-b9be-1fdc32ceac0c",
   "metadata": {},
   "outputs": [
    {
     "data": {
      "application/vnd.plotly.v1+json": {
       "config": {
        "plotlyServerURL": "https://plot.ly"
       },
       "data": [
        {
         "alignmentgroup": "True",
         "hovertemplate": "x=%{x}<br>y=%{y}<extra></extra>",
         "legendgroup": "",
         "marker": {
          "color": "#636efa",
          "pattern": {
           "shape": ""
          }
         },
         "name": "",
         "offsetgroup": "",
         "orientation": "v",
         "showlegend": false,
         "textposition": "auto",
         "type": "bar",
         "x": [
          "carat",
          "cut",
          "clarity",
          "color",
          "Other",
          "IGI",
          "GIA",
          "polish",
          "symmetry"
         ],
         "xaxis": "x",
         "y": [
          8797.757869364354,
          -270.84105818239755,
          -281.7768275403016,
          -310.538867878383,
          -419.49958193038674,
          164.88457496156903,
          254.61500696881794,
          197.41272831261801,
          -44.29524763809634
         ],
         "yaxis": "y"
        }
       ],
       "layout": {
        "autosize": true,
        "barmode": "relative",
        "legend": {
         "tracegroupgap": 0
        },
        "margin": {
         "t": 60
        },
        "template": {
         "data": {
          "bar": [
           {
            "error_x": {
             "color": "#2a3f5f"
            },
            "error_y": {
             "color": "#2a3f5f"
            },
            "marker": {
             "line": {
              "color": "#E5ECF6",
              "width": 0.5
             },
             "pattern": {
              "fillmode": "overlay",
              "size": 10,
              "solidity": 0.2
             }
            },
            "type": "bar"
           }
          ],
          "barpolar": [
           {
            "marker": {
             "line": {
              "color": "#E5ECF6",
              "width": 0.5
             },
             "pattern": {
              "fillmode": "overlay",
              "size": 10,
              "solidity": 0.2
             }
            },
            "type": "barpolar"
           }
          ],
          "carpet": [
           {
            "aaxis": {
             "endlinecolor": "#2a3f5f",
             "gridcolor": "white",
             "linecolor": "white",
             "minorgridcolor": "white",
             "startlinecolor": "#2a3f5f"
            },
            "baxis": {
             "endlinecolor": "#2a3f5f",
             "gridcolor": "white",
             "linecolor": "white",
             "minorgridcolor": "white",
             "startlinecolor": "#2a3f5f"
            },
            "type": "carpet"
           }
          ],
          "choropleth": [
           {
            "colorbar": {
             "outlinewidth": 0,
             "ticks": ""
            },
            "type": "choropleth"
           }
          ],
          "contour": [
           {
            "colorbar": {
             "outlinewidth": 0,
             "ticks": ""
            },
            "colorscale": [
             [
              0,
              "#0d0887"
             ],
             [
              0.1111111111111111,
              "#46039f"
             ],
             [
              0.2222222222222222,
              "#7201a8"
             ],
             [
              0.3333333333333333,
              "#9c179e"
             ],
             [
              0.4444444444444444,
              "#bd3786"
             ],
             [
              0.5555555555555556,
              "#d8576b"
             ],
             [
              0.6666666666666666,
              "#ed7953"
             ],
             [
              0.7777777777777778,
              "#fb9f3a"
             ],
             [
              0.8888888888888888,
              "#fdca26"
             ],
             [
              1,
              "#f0f921"
             ]
            ],
            "type": "contour"
           }
          ],
          "contourcarpet": [
           {
            "colorbar": {
             "outlinewidth": 0,
             "ticks": ""
            },
            "type": "contourcarpet"
           }
          ],
          "heatmap": [
           {
            "colorbar": {
             "outlinewidth": 0,
             "ticks": ""
            },
            "colorscale": [
             [
              0,
              "#0d0887"
             ],
             [
              0.1111111111111111,
              "#46039f"
             ],
             [
              0.2222222222222222,
              "#7201a8"
             ],
             [
              0.3333333333333333,
              "#9c179e"
             ],
             [
              0.4444444444444444,
              "#bd3786"
             ],
             [
              0.5555555555555556,
              "#d8576b"
             ],
             [
              0.6666666666666666,
              "#ed7953"
             ],
             [
              0.7777777777777778,
              "#fb9f3a"
             ],
             [
              0.8888888888888888,
              "#fdca26"
             ],
             [
              1,
              "#f0f921"
             ]
            ],
            "type": "heatmap"
           }
          ],
          "heatmapgl": [
           {
            "colorbar": {
             "outlinewidth": 0,
             "ticks": ""
            },
            "colorscale": [
             [
              0,
              "#0d0887"
             ],
             [
              0.1111111111111111,
              "#46039f"
             ],
             [
              0.2222222222222222,
              "#7201a8"
             ],
             [
              0.3333333333333333,
              "#9c179e"
             ],
             [
              0.4444444444444444,
              "#bd3786"
             ],
             [
              0.5555555555555556,
              "#d8576b"
             ],
             [
              0.6666666666666666,
              "#ed7953"
             ],
             [
              0.7777777777777778,
              "#fb9f3a"
             ],
             [
              0.8888888888888888,
              "#fdca26"
             ],
             [
              1,
              "#f0f921"
             ]
            ],
            "type": "heatmapgl"
           }
          ],
          "histogram": [
           {
            "marker": {
             "pattern": {
              "fillmode": "overlay",
              "size": 10,
              "solidity": 0.2
             }
            },
            "type": "histogram"
           }
          ],
          "histogram2d": [
           {
            "colorbar": {
             "outlinewidth": 0,
             "ticks": ""
            },
            "colorscale": [
             [
              0,
              "#0d0887"
             ],
             [
              0.1111111111111111,
              "#46039f"
             ],
             [
              0.2222222222222222,
              "#7201a8"
             ],
             [
              0.3333333333333333,
              "#9c179e"
             ],
             [
              0.4444444444444444,
              "#bd3786"
             ],
             [
              0.5555555555555556,
              "#d8576b"
             ],
             [
              0.6666666666666666,
              "#ed7953"
             ],
             [
              0.7777777777777778,
              "#fb9f3a"
             ],
             [
              0.8888888888888888,
              "#fdca26"
             ],
             [
              1,
              "#f0f921"
             ]
            ],
            "type": "histogram2d"
           }
          ],
          "histogram2dcontour": [
           {
            "colorbar": {
             "outlinewidth": 0,
             "ticks": ""
            },
            "colorscale": [
             [
              0,
              "#0d0887"
             ],
             [
              0.1111111111111111,
              "#46039f"
             ],
             [
              0.2222222222222222,
              "#7201a8"
             ],
             [
              0.3333333333333333,
              "#9c179e"
             ],
             [
              0.4444444444444444,
              "#bd3786"
             ],
             [
              0.5555555555555556,
              "#d8576b"
             ],
             [
              0.6666666666666666,
              "#ed7953"
             ],
             [
              0.7777777777777778,
              "#fb9f3a"
             ],
             [
              0.8888888888888888,
              "#fdca26"
             ],
             [
              1,
              "#f0f921"
             ]
            ],
            "type": "histogram2dcontour"
           }
          ],
          "mesh3d": [
           {
            "colorbar": {
             "outlinewidth": 0,
             "ticks": ""
            },
            "type": "mesh3d"
           }
          ],
          "parcoords": [
           {
            "line": {
             "colorbar": {
              "outlinewidth": 0,
              "ticks": ""
             }
            },
            "type": "parcoords"
           }
          ],
          "pie": [
           {
            "automargin": true,
            "type": "pie"
           }
          ],
          "scatter": [
           {
            "fillpattern": {
             "fillmode": "overlay",
             "size": 10,
             "solidity": 0.2
            },
            "type": "scatter"
           }
          ],
          "scatter3d": [
           {
            "line": {
             "colorbar": {
              "outlinewidth": 0,
              "ticks": ""
             }
            },
            "marker": {
             "colorbar": {
              "outlinewidth": 0,
              "ticks": ""
             }
            },
            "type": "scatter3d"
           }
          ],
          "scattercarpet": [
           {
            "marker": {
             "colorbar": {
              "outlinewidth": 0,
              "ticks": ""
             }
            },
            "type": "scattercarpet"
           }
          ],
          "scattergeo": [
           {
            "marker": {
             "colorbar": {
              "outlinewidth": 0,
              "ticks": ""
             }
            },
            "type": "scattergeo"
           }
          ],
          "scattergl": [
           {
            "marker": {
             "colorbar": {
              "outlinewidth": 0,
              "ticks": ""
             }
            },
            "type": "scattergl"
           }
          ],
          "scattermapbox": [
           {
            "marker": {
             "colorbar": {
              "outlinewidth": 0,
              "ticks": ""
             }
            },
            "type": "scattermapbox"
           }
          ],
          "scatterpolar": [
           {
            "marker": {
             "colorbar": {
              "outlinewidth": 0,
              "ticks": ""
             }
            },
            "type": "scatterpolar"
           }
          ],
          "scatterpolargl": [
           {
            "marker": {
             "colorbar": {
              "outlinewidth": 0,
              "ticks": ""
             }
            },
            "type": "scatterpolargl"
           }
          ],
          "scatterternary": [
           {
            "marker": {
             "colorbar": {
              "outlinewidth": 0,
              "ticks": ""
             }
            },
            "type": "scatterternary"
           }
          ],
          "surface": [
           {
            "colorbar": {
             "outlinewidth": 0,
             "ticks": ""
            },
            "colorscale": [
             [
              0,
              "#0d0887"
             ],
             [
              0.1111111111111111,
              "#46039f"
             ],
             [
              0.2222222222222222,
              "#7201a8"
             ],
             [
              0.3333333333333333,
              "#9c179e"
             ],
             [
              0.4444444444444444,
              "#bd3786"
             ],
             [
              0.5555555555555556,
              "#d8576b"
             ],
             [
              0.6666666666666666,
              "#ed7953"
             ],
             [
              0.7777777777777778,
              "#fb9f3a"
             ],
             [
              0.8888888888888888,
              "#fdca26"
             ],
             [
              1,
              "#f0f921"
             ]
            ],
            "type": "surface"
           }
          ],
          "table": [
           {
            "cells": {
             "fill": {
              "color": "#EBF0F8"
             },
             "line": {
              "color": "white"
             }
            },
            "header": {
             "fill": {
              "color": "#C8D4E3"
             },
             "line": {
              "color": "white"
             }
            },
            "type": "table"
           }
          ]
         },
         "layout": {
          "annotationdefaults": {
           "arrowcolor": "#2a3f5f",
           "arrowhead": 0,
           "arrowwidth": 1
          },
          "autotypenumbers": "strict",
          "coloraxis": {
           "colorbar": {
            "outlinewidth": 0,
            "ticks": ""
           }
          },
          "colorscale": {
           "diverging": [
            [
             0,
             "#8e0152"
            ],
            [
             0.1,
             "#c51b7d"
            ],
            [
             0.2,
             "#de77ae"
            ],
            [
             0.3,
             "#f1b6da"
            ],
            [
             0.4,
             "#fde0ef"
            ],
            [
             0.5,
             "#f7f7f7"
            ],
            [
             0.6,
             "#e6f5d0"
            ],
            [
             0.7,
             "#b8e186"
            ],
            [
             0.8,
             "#7fbc41"
            ],
            [
             0.9,
             "#4d9221"
            ],
            [
             1,
             "#276419"
            ]
           ],
           "sequential": [
            [
             0,
             "#0d0887"
            ],
            [
             0.1111111111111111,
             "#46039f"
            ],
            [
             0.2222222222222222,
             "#7201a8"
            ],
            [
             0.3333333333333333,
             "#9c179e"
            ],
            [
             0.4444444444444444,
             "#bd3786"
            ],
            [
             0.5555555555555556,
             "#d8576b"
            ],
            [
             0.6666666666666666,
             "#ed7953"
            ],
            [
             0.7777777777777778,
             "#fb9f3a"
            ],
            [
             0.8888888888888888,
             "#fdca26"
            ],
            [
             1,
             "#f0f921"
            ]
           ],
           "sequentialminus": [
            [
             0,
             "#0d0887"
            ],
            [
             0.1111111111111111,
             "#46039f"
            ],
            [
             0.2222222222222222,
             "#7201a8"
            ],
            [
             0.3333333333333333,
             "#9c179e"
            ],
            [
             0.4444444444444444,
             "#bd3786"
            ],
            [
             0.5555555555555556,
             "#d8576b"
            ],
            [
             0.6666666666666666,
             "#ed7953"
            ],
            [
             0.7777777777777778,
             "#fb9f3a"
            ],
            [
             0.8888888888888888,
             "#fdca26"
            ],
            [
             1,
             "#f0f921"
            ]
           ]
          },
          "colorway": [
           "#636efa",
           "#EF553B",
           "#00cc96",
           "#ab63fa",
           "#FFA15A",
           "#19d3f3",
           "#FF6692",
           "#B6E880",
           "#FF97FF",
           "#FECB52"
          ],
          "font": {
           "color": "#2a3f5f"
          },
          "geo": {
           "bgcolor": "white",
           "lakecolor": "white",
           "landcolor": "#E5ECF6",
           "showlakes": true,
           "showland": true,
           "subunitcolor": "white"
          },
          "hoverlabel": {
           "align": "left"
          },
          "hovermode": "closest",
          "mapbox": {
           "style": "light"
          },
          "paper_bgcolor": "white",
          "plot_bgcolor": "#E5ECF6",
          "polar": {
           "angularaxis": {
            "gridcolor": "white",
            "linecolor": "white",
            "ticks": ""
           },
           "bgcolor": "#E5ECF6",
           "radialaxis": {
            "gridcolor": "white",
            "linecolor": "white",
            "ticks": ""
           }
          },
          "scene": {
           "xaxis": {
            "backgroundcolor": "#E5ECF6",
            "gridcolor": "white",
            "gridwidth": 2,
            "linecolor": "white",
            "showbackground": true,
            "ticks": "",
            "zerolinecolor": "white"
           },
           "yaxis": {
            "backgroundcolor": "#E5ECF6",
            "gridcolor": "white",
            "gridwidth": 2,
            "linecolor": "white",
            "showbackground": true,
            "ticks": "",
            "zerolinecolor": "white"
           },
           "zaxis": {
            "backgroundcolor": "#E5ECF6",
            "gridcolor": "white",
            "gridwidth": 2,
            "linecolor": "white",
            "showbackground": true,
            "ticks": "",
            "zerolinecolor": "white"
           }
          },
          "shapedefaults": {
           "line": {
            "color": "#2a3f5f"
           }
          },
          "ternary": {
           "aaxis": {
            "gridcolor": "white",
            "linecolor": "white",
            "ticks": ""
           },
           "baxis": {
            "gridcolor": "white",
            "linecolor": "white",
            "ticks": ""
           },
           "bgcolor": "#E5ECF6",
           "caxis": {
            "gridcolor": "white",
            "linecolor": "white",
            "ticks": ""
           }
          },
          "title": {
           "x": 0.05
          },
          "xaxis": {
           "automargin": true,
           "gridcolor": "white",
           "linecolor": "white",
           "ticks": "",
           "title": {
            "standoff": 15
           },
           "zerolinecolor": "white",
           "zerolinewidth": 2
          },
          "yaxis": {
           "automargin": true,
           "gridcolor": "white",
           "linecolor": "white",
           "ticks": "",
           "title": {
            "standoff": 15
           },
           "zerolinecolor": "white",
           "zerolinewidth": 2
          }
         }
        },
        "xaxis": {
         "anchor": "y",
         "autorange": true,
         "domain": [
          0,
          1
         ],
         "range": [
          -0.5,
          8.5
         ],
         "title": {
          "text": "predictor"
         },
         "type": "category"
        },
        "yaxis": {
         "anchor": "x",
         "autorange": true,
         "domain": [
          0,
          1
         ],
         "range": [
          -931.56944033565,
          9309.827727769616
         ],
         "title": {
          "text": "coefficient"
         },
         "type": "linear"
        }
       }
      },
      "image/png": "[encoded data removed]",
      "text/html": [
       "<div>                            <div id=\"5c8602dd-adb6-42b0-b6a5-b6480b95ca29\" class=\"plotly-graph-div\" style=\"height:525px; width:100%;\"></div>            <script type=\"text/javascript\">                require([\"plotly\"], function(Plotly) {                    window.PLOTLYENV=window.PLOTLYENV || {};                                    if (document.getElementById(\"5c8602dd-adb6-42b0-b6a5-b6480b95ca29\")) {                    Plotly.newPlot(                        \"5c8602dd-adb6-42b0-b6a5-b6480b95ca29\",                        [{\"alignmentgroup\":\"True\",\"hovertemplate\":\"x=%{x}<br>y=%{y}<extra></extra>\",\"legendgroup\":\"\",\"marker\":{\"color\":\"#636efa\",\"pattern\":{\"shape\":\"\"}},\"name\":\"\",\"offsetgroup\":\"\",\"orientation\":\"v\",\"showlegend\":false,\"textposition\":\"auto\",\"x\":[\"carat\",\"cut\",\"clarity\",\"color\",\"Other\",\"IGI\",\"GIA\",\"polish\",\"symmetry\"],\"xaxis\":\"x\",\"y\":[8797.757869364354,-270.84105818239755,-281.7768275403016,-310.538867878383,-419.49958193038674,164.88457496156903,254.61500696881794,197.41272831261801,-44.29524763809634],\"yaxis\":\"y\",\"type\":\"bar\"}],                        {\"template\":{\"data\":{\"histogram2dcontour\":[{\"type\":\"histogram2dcontour\",\"colorbar\":{\"outlinewidth\":0,\"ticks\":\"\"},\"colorscale\":[[0.0,\"#0d0887\"],[0.1111111111111111,\"#46039f\"],[0.2222222222222222,\"#7201a8\"],[0.3333333333333333,\"#9c179e\"],[0.4444444444444444,\"#bd3786\"],[0.5555555555555556,\"#d8576b\"],[0.6666666666666666,\"#ed7953\"],[0.7777777777777778,\"#fb9f3a\"],[0.8888888888888888,\"#fdca26\"],[1.0,\"#f0f921\"]]}],\"choropleth\":[{\"type\":\"choropleth\",\"colorbar\":{\"outlinewidth\":0,\"ticks\":\"\"}}],\"histogram2d\":[{\"type\":\"histogram2d\",\"colorbar\":{\"outlinewidth\":0,\"ticks\":\"\"},\"colorscale\":[[0.0,\"#0d0887\"],[0.1111111111111111,\"#46039f\"],[0.2222222222222222,\"#7201a8\"],[0.3333333333333333,\"#9c179e\"],[0.4444444444444444,\"#bd3786\"],[0.5555555555555556,\"#d8576b\"],[0.6666666666666666,\"#ed7953\"],[0.7777777777777778,\"#fb9f3a\"],[0.8888888888888888,\"#fdca26\"],[1.0,\"#f0f921\"]]}],\"heatmap\":[{\"type\":\"heatmap\",\"colorbar\":{\"outlinewidth\":0,\"ticks\":\"\"},\"colorscale\":[[0.0,\"#0d0887\"],[0.1111111111111111,\"#46039f\"],[0.2222222222222222,\"#7201a8\"],[0.3333333333333333,\"#9c179e\"],[0.4444444444444444,\"#bd3786\"],[0.5555555555555556,\"#d8576b\"],[0.6666666666666666,\"#ed7953\"],[0.7777777777777778,\"#fb9f3a\"],[0.8888888888888888,\"#fdca26\"],[1.0,\"#f0f921\"]]}],\"heatmapgl\":[{\"type\":\"heatmapgl\",\"colorbar\":{\"outlinewidth\":0,\"ticks\":\"\"},\"colorscale\":[[0.0,\"#0d0887\"],[0.1111111111111111,\"#46039f\"],[0.2222222222222222,\"#7201a8\"],[0.3333333333333333,\"#9c179e\"],[0.4444444444444444,\"#bd3786\"],[0.5555555555555556,\"#d8576b\"],[0.6666666666666666,\"#ed7953\"],[0.7777777777777778,\"#fb9f3a\"],[0.8888888888888888,\"#fdca26\"],[1.0,\"#f0f921\"]]}],\"contourcarpet\":[{\"type\":\"contourcarpet\",\"colorbar\":{\"outlinewidth\":0,\"ticks\":\"\"}}],\"contour\":[{\"type\":\"contour\",\"colorbar\":{\"outlinewidth\":0,\"ticks\":\"\"},\"colorscale\":[[0.0,\"#0d0887\"],[0.1111111111111111,\"#46039f\"],[0.2222222222222222,\"#7201a8\"],[0.3333333333333333,\"#9c179e\"],[0.4444444444444444,\"#bd3786\"],[0.5555555555555556,\"#d8576b\"],[0.6666666666666666,\"#ed7953\"],[0.7777777777777778,\"#fb9f3a\"],[0.8888888888888888,\"#fdca26\"],[1.0,\"#f0f921\"]]}],\"surface\":[{\"type\":\"surface\",\"colorbar\":{\"outlinewidth\":0,\"ticks\":\"\"},\"colorscale\":[[0.0,\"#0d0887\"],[0.1111111111111111,\"#46039f\"],[0.2222222222222222,\"#7201a8\"],[0.3333333333333333,\"#9c179e\"],[0.4444444444444444,\"#bd3786\"],[0.5555555555555556,\"#d8576b\"],[0.6666666666666666,\"#ed7953\"],[0.7777777777777778,\"#fb9f3a\"],[0.8888888888888888,\"#fdca26\"],[1.0,\"#f0f921\"]]}],\"mesh3d\":[{\"type\":\"mesh3d\",\"colorbar\":{\"outlinewidth\":0,\"ticks\":\"\"}}],\"scatter\":[{\"fillpattern\":{\"fillmode\":\"overlay\",\"size\":10,\"solidity\":0.2},\"type\":\"scatter\"}],\"parcoords\":[{\"type\":\"parcoords\",\"line\":{\"colorbar\":{\"outlinewidth\":0,\"ticks\":\"\"}}}],\"scatterpolargl\":[{\"type\":\"scatterpolargl\",\"marker\":{\"colorbar\":{\"outlinewidth\":0,\"ticks\":\"\"}}}],\"bar\":[{\"error_x\":{\"color\":\"#2a3f5f\"},\"error_y\":{\"color\":\"#2a3f5f\"},\"marker\":{\"line\":{\"color\":\"#E5ECF6\",\"width\":0.5},\"pattern\":{\"fillmode\":\"overlay\",\"size\":10,\"solidity\":0.2}},\"type\":\"bar\"}],\"scattergeo\":[{\"type\":\"scattergeo\",\"marker\":{\"colorbar\":{\"outlinewidth\":0,\"ticks\":\"\"}}}],\"scatterpolar\":[{\"type\":\"scatterpolar\",\"marker\":{\"colorbar\":{\"outlinewidth\":0,\"ticks\":\"\"}}}],\"histogram\":[{\"marker\":{\"pattern\":{\"fillmode\":\"overlay\",\"size\":10,\"solidity\":0.2}},\"type\":\"histogram\"}],\"scattergl\":[{\"type\":\"scattergl\",\"marker\":{\"colorbar\":{\"outlinewidth\":0,\"ticks\":\"\"}}}],\"scatter3d\":[{\"type\":\"scatter3d\",\"line\":{\"colorbar\":{\"outlinewidth\":0,\"ticks\":\"\"}},\"marker\":{\"colorbar\":{\"outlinewidth\":0,\"ticks\":\"\"}}}],\"scattermapbox\":[{\"type\":\"scattermapbox\",\"marker\":{\"colorbar\":{\"outlinewidth\":0,\"ticks\":\"\"}}}],\"scatterternary\":[{\"type\":\"scatterternary\",\"marker\":{\"colorbar\":{\"outlinewidth\":0,\"ticks\":\"\"}}}],\"scattercarpet\":[{\"type\":\"scattercarpet\",\"marker\":{\"colorbar\":{\"outlinewidth\":0,\"ticks\":\"\"}}}],\"carpet\":[{\"aaxis\":{\"endlinecolor\":\"#2a3f5f\",\"gridcolor\":\"white\",\"linecolor\":\"white\",\"minorgridcolor\":\"white\",\"startlinecolor\":\"#2a3f5f\"},\"baxis\":{\"endlinecolor\":\"#2a3f5f\",\"gridcolor\":\"white\",\"linecolor\":\"white\",\"minorgridcolor\":\"white\",\"startlinecolor\":\"#2a3f5f\"},\"type\":\"carpet\"}],\"table\":[{\"cells\":{\"fill\":{\"color\":\"#EBF0F8\"},\"line\":{\"color\":\"white\"}},\"header\":{\"fill\":{\"color\":\"#C8D4E3\"},\"line\":{\"color\":\"white\"}},\"type\":\"table\"}],\"barpolar\":[{\"marker\":{\"line\":{\"color\":\"#E5ECF6\",\"width\":0.5},\"pattern\":{\"fillmode\":\"overlay\",\"size\":10,\"solidity\":0.2}},\"type\":\"barpolar\"}],\"pie\":[{\"automargin\":true,\"type\":\"pie\"}]},\"layout\":{\"autotypenumbers\":\"strict\",\"colorway\":[\"#636efa\",\"#EF553B\",\"#00cc96\",\"#ab63fa\",\"#FFA15A\",\"#19d3f3\",\"#FF6692\",\"#B6E880\",\"#FF97FF\",\"#FECB52\"],\"font\":{\"color\":\"#2a3f5f\"},\"hovermode\":\"closest\",\"hoverlabel\":{\"align\":\"left\"},\"paper_bgcolor\":\"white\",\"plot_bgcolor\":\"#E5ECF6\",\"polar\":{\"bgcolor\":\"#E5ECF6\",\"angularaxis\":{\"gridcolor\":\"white\",\"linecolor\":\"white\",\"ticks\":\"\"},\"radialaxis\":{\"gridcolor\":\"white\",\"linecolor\":\"white\",\"ticks\":\"\"}},\"ternary\":{\"bgcolor\":\"#E5ECF6\",\"aaxis\":{\"gridcolor\":\"white\",\"linecolor\":\"white\",\"ticks\":\"\"},\"baxis\":{\"gridcolor\":\"white\",\"linecolor\":\"white\",\"ticks\":\"\"},\"caxis\":{\"gridcolor\":\"white\",\"linecolor\":\"white\",\"ticks\":\"\"}},\"coloraxis\":{\"colorbar\":{\"outlinewidth\":0,\"ticks\":\"\"}},\"colorscale\":{\"sequential\":[[0.0,\"#0d0887\"],[0.1111111111111111,\"#46039f\"],[0.2222222222222222,\"#7201a8\"],[0.3333333333333333,\"#9c179e\"],[0.4444444444444444,\"#bd3786\"],[0.5555555555555556,\"#d8576b\"],[0.6666666666666666,\"#ed7953\"],[0.7777777777777778,\"#fb9f3a\"],[0.8888888888888888,\"#fdca26\"],[1.0,\"#f0f921\"]],\"sequentialminus\":[[0.0,\"#0d0887\"],[0.1111111111111111,\"#46039f\"],[0.2222222222222222,\"#7201a8\"],[0.3333333333333333,\"#9c179e\"],[0.4444444444444444,\"#bd3786\"],[0.5555555555555556,\"#d8576b\"],[0.6666666666666666,\"#ed7953\"],[0.7777777777777778,\"#fb9f3a\"],[0.8888888888888888,\"#fdca26\"],[1.0,\"#f0f921\"]],\"diverging\":[[0,\"#8e0152\"],[0.1,\"#c51b7d\"],[0.2,\"#de77ae\"],[0.3,\"#f1b6da\"],[0.4,\"#fde0ef\"],[0.5,\"#f7f7f7\"],[0.6,\"#e6f5d0\"],[0.7,\"#b8e186\"],[0.8,\"#7fbc41\"],[0.9,\"#4d9221\"],[1,\"#276419\"]]},\"xaxis\":{\"gridcolor\":\"white\",\"linecolor\":\"white\",\"ticks\":\"\",\"title\":{\"standoff\":15},\"zerolinecolor\":\"white\",\"automargin\":true,\"zerolinewidth\":2},\"yaxis\":{\"gridcolor\":\"white\",\"linecolor\":\"white\",\"ticks\":\"\",\"title\":{\"standoff\":15},\"zerolinecolor\":\"white\",\"automargin\":true,\"zerolinewidth\":2},\"scene\":{\"xaxis\":{\"backgroundcolor\":\"#E5ECF6\",\"gridcolor\":\"white\",\"linecolor\":\"white\",\"showbackground\":true,\"ticks\":\"\",\"zerolinecolor\":\"white\",\"gridwidth\":2},\"yaxis\":{\"backgroundcolor\":\"#E5ECF6\",\"gridcolor\":\"white\",\"linecolor\":\"white\",\"showbackground\":true,\"ticks\":\"\",\"zerolinecolor\":\"white\",\"gridwidth\":2},\"zaxis\":{\"backgroundcolor\":\"#E5ECF6\",\"gridcolor\":\"white\",\"linecolor\":\"white\",\"showbackground\":true,\"ticks\":\"\",\"zerolinecolor\":\"white\",\"gridwidth\":2}},\"shapedefaults\":{\"line\":{\"color\":\"#2a3f5f\"}},\"annotationdefaults\":{\"arrowcolor\":\"#2a3f5f\",\"arrowhead\":0,\"arrowwidth\":1},\"geo\":{\"bgcolor\":\"white\",\"landcolor\":\"#E5ECF6\",\"subunitcolor\":\"white\",\"showland\":true,\"showlakes\":true,\"lakecolor\":\"white\"},\"title\":{\"x\":0.05},\"mapbox\":{\"style\":\"light\"}}},\"xaxis\":{\"anchor\":\"y\",\"domain\":[0.0,1.0],\"title\":{\"text\":\"predictor\"}},\"yaxis\":{\"anchor\":\"x\",\"domain\":[0.0,1.0],\"title\":{\"text\":\"coefficient\"}},\"legend\":{\"tracegroupgap\":0},\"margin\":{\"t\":60},\"barmode\":\"relative\"},                        {\"responsive\": true}                    ).then(function(){\n",
       "                            \n",
       "var gd = document.getElementById('5c8602dd-adb6-42b0-b6a5-b6480b95ca29');\n",
       "var x = new MutationObserver(function (mutations, observer) {{\n",
       "        var display = window.getComputedStyle(gd).display;\n",
       "        if (!display || display === 'none') {{\n",
       "            console.log([gd, 'removed!']);\n",
       "            Plotly.purge(gd);\n",
       "            observer.disconnect();\n",
       "        }}\n",
       "}});\n",
       "\n",
       "// Listen for the removal of the full notebook cells\n",
       "var notebookContainer = gd.closest('#notebook-container');\n",
       "if (notebookContainer) {{\n",
       "    x.observe(notebookContainer, {childList: true});\n",
       "}}\n",
       "\n",
       "// Listen for the clearing of the current output cell\n",
       "var outputEl = gd.closest('.output');\n",
       "if (outputEl) {{\n",
       "    x.observe(outputEl, {childList: true});\n",
       "}}\n",
       "\n",
       "                        })                };                });            </script>        </div>"
      ]
     },
     "metadata": {},
     "output_type": "display_data"
    }
   ],
   "source": [
    "#show results as a bar chart\n",
    "import plotly.express as px\n",
    "fig = px.bar(x=results['feature'], y=results['coeff'])\n",
    "fig.update_layout(\n",
    "    yaxis=dict( title='coefficient'),\n",
    "    xaxis=dict( title='predictor'),\n",
    ")\n",
    "fig.show()"
   ]
  },
  {
   "cell_type": "code",
   "execution_count": 348,
   "id": "0c41bb04-353e-44f7-9de8-ac9b923353be",
   "metadata": {},
   "outputs": [],
   "source": [
    "#predict the y-values on the testing dataset\n",
    "y_preds = mymodel.predict(X_test)"
   ]
  },
  {
   "cell_type": "code",
   "execution_count": 349,
   "id": "df36c333-039e-4113-9cda-a1fa0df132fe",
   "metadata": {},
   "outputs": [
    {
     "name": "stdout",
     "output_type": "stream",
     "text": [
      "[5085.31, 7015.13, 1910.36, 1786.41, 87.98]\n",
      "[4525.68, 7091.69, 1102.14, 1152.11, 509.67]\n"
     ]
    }
   ],
   "source": [
    "#compare some of the results of the predictions \n",
    "print([round(x,2) for x in y_preds[:5]])\n",
    "print(list(y_test[:5]))\n",
    "#much closer!!!"
   ]
  },
  {
   "cell_type": "code",
   "execution_count": 350,
   "id": "1f2083ee-512f-4b07-be58-4eb660910b91",
   "metadata": {},
   "outputs": [
    {
     "data": {
      "image/png": "[encoded data removed]",
      "text/plain": [
       "<Figure size 432x432 with 1 Axes>"
      ]
     },
     "metadata": {
      "needs_background": "light"
     },
     "output_type": "display_data"
    }
   ],
   "source": [
    "#compare predictions to known values\n",
    "plt.figure(figsize=(6,6))\n",
    "ax = sns.regplot(x = y_preds, \n",
    "                 y = y_test, \n",
    "                 scatter_kws={\"color\": \"black\"}, \n",
    "                 line_kws={\"color\": \"red\"})\n",
    "ax.set(xlabel='predicted values', ylabel='true values');\n",
    "#still a lot more spread than I expected"
   ]
  },
  {
   "cell_type": "code",
   "execution_count": 351,
   "id": "b044e968-e74e-44f0-be58-ccca95240aa7",
   "metadata": {},
   "outputs": [
    {
     "data": {
      "text/plain": [
       "0.81"
      ]
     },
     "execution_count": 351,
     "metadata": {},
     "output_type": "execute_result"
    }
   ],
   "source": [
    "# check R-2 (coefficient of determination)\n",
    "r2 = metrics.r2_score(y_test, y_preds)\n",
    "round(r2, 2)\n",
    "#much better than before but still an interesting curve; seems like for the lower carat ranges, the linear relationship / modeling works well, but in the higher carat ranges, prices diverge more and start to look more parabolic. this makes sense because these sizes are probably much rarer so buyers will have to pay an extra premium above the features I have included in the model"
   ]
  },
  {
   "cell_type": "code",
   "execution_count": null,
   "id": "c17f3626-c5c9-4c64-9614-3f7b29a01dd5",
   "metadata": {},
   "outputs": [],
   "source": [
    "#other things I want to try:\n",
    "#is there a parabolic model?\n",
    "#or I could split the model even further into different carat ranges...\n",
    "#have to check if there is enough data for that though"
   ]
  },
  {
   "cell_type": "code",
   "execution_count": null,
   "id": "7e3afb50-d401-4946-bafb-744e00d8df89",
   "metadata": {},
   "outputs": [],
   "source": [
    "#add the scatter plots by carat range here"
   ]
  }
 ],
 "metadata": {
  "kernelspec": {
   "display_name": "default:Python",
   "language": "python",
   "name": "conda-env-default-py"
  },
  "language_info": {
   "codemirror_mode": {
    "name": "ipython",
    "version": 3
   },
   "file_extension": ".py",
   "mimetype": "text/x-python",
   "name": "python",
   "nbconvert_exporter": "python",
   "pygments_lexer": "ipython3",
   "version": "3.9.13"
  }
 },
 "nbformat": 4,
 "nbformat_minor": 5
}
